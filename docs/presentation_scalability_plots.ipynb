{
 "cells": [
  {
   "cell_type": "code",
   "execution_count": 1,
   "id": "74c23ffe",
   "metadata": {},
   "outputs": [],
   "source": [
    "import numpy as np\n",
    "import pandas as pd\n",
    "import matplotlib.pyplot as plt\n",
    "import seaborn as sns\n",
    "from plotly.offline import plot"
   ]
  },
  {
   "cell_type": "code",
   "execution_count": 2,
   "id": "0b0fa877",
   "metadata": {},
   "outputs": [],
   "source": [
    "RESULTFILE = '../results/results_new.csv'\n",
    "df = pd.read_csv(RESULTFILE)\n",
    "\n",
    "# Multiply gap column by 100\n",
    "df['gap'] = df['gap'] * 100\n",
    "\n",
    "\n",
    "df0 = df[df['model']==0].copy()\n",
    "df1 = df[df['model']==1].copy()\n",
    "df2 = df[df['model']==2].copy()"
   ]
  },
  {
   "cell_type": "code",
   "execution_count": 4,
   "id": "561c6074",
   "metadata": {},
   "outputs": [],
   "source": [
    "# # FIlter relevant columns discarding index\n",
    "# df2 = df2[['ID', 'gap', 'total_time', 'heuristics_time', 'nodes', 'iterations']]\n",
    "# df2 = df2[['ID', 'N', 'J', 'T', 'K']]\n",
    "# print(df2)"
   ]
  },
  {
   "cell_type": "code",
   "execution_count": 5,
   "id": "f2e78977",
   "metadata": {},
   "outputs": [],
   "source": [
    "# # Compare values\n",
    "# compared_column = 'gap'\n",
    "# comparison_df = df1[['ID', compared_column]].merge(\n",
    "#     df2[['ID', compared_column]], \n",
    "#     on='ID', \n",
    "#     suffixes=('_model1', '_model2')\n",
    "# )\n",
    "\n",
    "# display(comparison_df)"
   ]
  },
  {
   "cell_type": "code",
   "execution_count": 6,
   "id": "79185050",
   "metadata": {},
   "outputs": [],
   "source": [
    "# # Keep only ID, gap and objetive columns\n",
    "# selected_columns = ['ID', 'gap', 'objective']\n",
    "# df0 = df0[selected_columns]\n",
    "# df1 = df1[selected_columns]\n",
    "# df2 = df2[selected_columns]\n",
    "\n",
    "# # # Multiply gap column by 100\n",
    "# # df0['gap'] = df0['gap'] * 100\n",
    "# # df1['gap'] = df1['gap'] * 100\n",
    "# # df2['gap'] = df2['gap'] * 100"
   ]
  },
  {
   "cell_type": "code",
   "execution_count": 7,
   "id": "7679ef79",
   "metadata": {},
   "outputs": [],
   "source": [
    "# ID=df[df['model']==0]['ID'].values\n",
    "# plt.figure(figsize=(15, 10))\n",
    "# plt.grid(True, which='major', linestyle='--', color='gray', alpha=0.5)\n",
    "# # sns.lineplot(\n",
    "# #     x=df[df['model']==0]['ID'],\n",
    "# #     y=df[df['model']==0]['gap'],\n",
    "# #     color='tab:blue',\n",
    "# #     label='Model0'\n",
    "# # )\n",
    "# # sns.lineplot(\n",
    "# #     x=df[df['model']==1]['ID'],\n",
    "# #     y=df[df['model']==1]['gap'],\n",
    "# #     color='tab:orange',\n",
    "# #     label='Model1'\n",
    "# # )\n",
    "# # sns.lineplot(\n",
    "# #     x=df[df['model']==2]['ID'],\n",
    "# #     y=df[df['model']==2]['gap'],\n",
    "# #     color='tab:green',\n",
    "# #     label='Model2'\n",
    "# # )\n",
    "# # sns.lineplot(\n",
    "# #     data=df,\n",
    "# #     x='ID',\n",
    "# #     y='gap',\n",
    "# #     hue='model',\n",
    "# #     style='model',\n",
    "# #     markers=True,\n",
    "# #     markersize=10,\n",
    "# #     palette='tab10',\n",
    "# #     alpha=0.7\n",
    "# # )\n",
    "# sns.scatterplot(\n",
    "#     data=df,\n",
    "#     x='ID',\n",
    "#     y='gap',\n",
    "#     hue='model',\n",
    "#     style='model',\n",
    "#     markers=True,\n",
    "#     s=100,\n",
    "#     palette='tab10',\n",
    "#     alpha=0.75\n",
    "# )\n",
    "# plt.ylim(0,2.1)\n",
    "# # plt.ylim(0,0.1)\n",
    "# # plt.yscale('log')\n",
    "# plt.xticks(ID)\n",
    "# plt.legend()\n",
    "# plt.show()"
   ]
  },
  {
   "cell_type": "code",
   "execution_count": null,
   "id": "9e2e664d",
   "metadata": {},
   "outputs": [
    {
     "data": {
      "application/vnd.plotly.v1+json": {
       "config": {
        "plotlyServerURL": "https://plot.ly"
       },
       "data": [
        {
         "customdata": [
          [
           0,
           10,
           10,
           10,
           3,
           "0.22"
          ],
          [
           0,
           10,
           10,
           50,
           931,
           "27.07"
          ],
          [
           0,
           10,
           10,
           100,
           193,
           "24.98"
          ],
          [
           0,
           10,
           40,
           10,
           641,
           "3.34"
          ],
          [
           0,
           10,
           40,
           50,
           5543,
           "300.00"
          ],
          [
           0,
           10,
           40,
           100,
           616,
           "300.00"
          ],
          [
           0,
           10,
           80,
           10,
           26677,
           "300.00"
          ],
          [
           0,
           10,
           80,
           50,
           751,
           "300.01"
          ],
          [
           0,
           10,
           80,
           100,
           735,
           "300.01"
          ],
          [
           0,
           20,
           10,
           10,
           60,
           "2.87"
          ],
          [
           0,
           20,
           10,
           50,
           3,
           "19.91"
          ],
          [
           0,
           20,
           10,
           100,
           59,
           "88.71"
          ],
          [
           0,
           20,
           40,
           10,
           403,
           "16.40"
          ],
          [
           0,
           20,
           40,
           50,
           1035,
           "300.00"
          ],
          [
           0,
           20,
           40,
           100,
           82,
           "300.02"
          ],
          [
           0,
           20,
           80,
           10,
           1132,
           "29.12"
          ],
          [
           0,
           20,
           80,
           50,
           701,
           "300.00"
          ],
          [
           0,
           20,
           80,
           100,
           1,
           "300.13"
          ],
          [
           0,
           40,
           10,
           10,
           3,
           "10.07"
          ],
          [
           0,
           40,
           10,
           50,
           3,
           "150.74"
          ],
          [
           0,
           40,
           10,
           100,
           1,
           "300.13"
          ],
          [
           0,
           40,
           40,
           10,
           74,
           "45.49"
          ],
          [
           0,
           40,
           40,
           50,
           1,
           "300.02"
          ],
          [
           0,
           40,
           40,
           100,
           1,
           "301.61"
          ],
          [
           0,
           40,
           80,
           10,
           1625,
           "300.07"
          ],
          [
           0,
           40,
           80,
           50,
           1,
           "300.04"
          ],
          [
           0,
           40,
           80,
           100,
           1,
           "300.78"
          ]
         ],
         "hovertemplate": "Model: %{customdata[0]}<br>ID: %{x}<br>N: %{customdata[1]}<br>J: %{customdata[2]}<br>T: %{customdata[3]}<br>Gap: %{text}%<br>Nodes: %{customdata[4]}<br>Runtime: %{customdata[5]} s<extra></extra>",
         "name": "Model 0",
         "text": [
          "0.00",
          "0.00",
          "0.01",
          "0.00",
          "inf",
          "inf",
          "253.21",
          "inf",
          "inf",
          "0.00",
          "0.00",
          "0.00",
          "0.00",
          "inf",
          "inf",
          "0.00",
          "inf",
          "inf",
          "0.00",
          "0.00",
          "inf",
          "0.00",
          "inf",
          "inf",
          "11.14",
          "inf",
          "inf"
         ],
         "textposition": "none",
         "type": "bar",
         "x": {
          "bdata": "AQIDBAUGBwgJCgsMDQ4PEBESExQVFhcYGRob",
          "dtype": "i1"
         },
         "y": {
          "bdata": "AAAAAAAAAEAAAAAAAAAAQAAAAAAAAABAAAAAAAAAAEAAAAAAgIQuQQAAAACAhC5BVDgXEcGmb0AAAAAAgIQuQQAAAACAhC5BAAAAAAAAAEAAAAAAAAAAQAAAAAAAAABAAAAAAAAAAEAAAAAAgIQuQQAAAACAhC5BAAAAAAAAAEAAAAAAgIQuQQAAAACAhC5BAAAAAAAAAEAAAAAAAAAAQAAAAACAhC5BAAAAAAAAAEAAAAAAgIQuQQAAAACAhC5BeEYu6glIJkAAAAAAgIQuQQAAAACAhC5B",
          "dtype": "f8"
         }
        },
        {
         "customdata": [
          [
           1,
           10,
           10,
           10,
           3,
           "13.77"
          ],
          [
           1,
           10,
           10,
           50,
           1111,
           "103.18"
          ],
          [
           1,
           10,
           10,
           100,
           86,
           "139.57"
          ],
          [
           1,
           10,
           40,
           10,
           80836,
           "317.44"
          ],
          [
           1,
           10,
           40,
           50,
           6337,
           "395.70"
          ],
          [
           1,
           10,
           40,
           100,
           655,
           "420.13"
          ],
          [
           1,
           10,
           80,
           10,
           34208,
           "318.28"
          ],
          [
           1,
           10,
           80,
           50,
           718,
           "411.88"
          ],
          [
           1,
           10,
           80,
           100,
           702,
           "420.15"
          ],
          [
           1,
           20,
           10,
           10,
           55,
           "92.26"
          ],
          [
           1,
           20,
           10,
           50,
           3,
           "135.93"
          ],
          [
           1,
           20,
           10,
           100,
           38,
           "183.62"
          ],
          [
           1,
           20,
           40,
           10,
           334,
           "122.48"
          ],
          [
           1,
           20,
           40,
           50,
           1412,
           "420.66"
          ],
          [
           1,
           20,
           40,
           100,
           74,
           "420.34"
          ],
          [
           1,
           20,
           80,
           10,
           1156,
           "154.46"
          ],
          [
           1,
           20,
           80,
           50,
           587,
           "420.10"
          ],
          [
           1,
           20,
           80,
           100,
           1,
           "420.22"
          ],
          [
           1,
           40,
           10,
           10,
           3,
           "132.68"
          ],
          [
           1,
           40,
           10,
           50,
           3,
           "299.32"
          ],
          [
           1,
           40,
           10,
           100,
           1,
           "428.37"
          ],
          [
           1,
           40,
           40,
           10,
           44,
           "147.89"
          ],
          [
           1,
           40,
           40,
           50,
           1,
           "423.02"
          ],
          [
           1,
           40,
           40,
           100,
           1,
           "428.33"
          ],
          [
           1,
           40,
           80,
           10,
           5753,
           "420.20"
          ],
          [
           1,
           40,
           80,
           50,
           1,
           "421.45"
          ],
          [
           1,
           40,
           80,
           100,
           1,
           "431.33"
          ]
         ],
         "hovertemplate": "Model: %{customdata[0]}<br>ID: %{x}<br>N: %{customdata[1]}<br>J: %{customdata[2]}<br>T: %{customdata[3]}<br>Gap: %{text}%<br>Nodes: %{customdata[4]}<br>Runtime: %{customdata[5]} s<extra></extra>",
         "name": "Model 1",
         "text": [
          "0.00",
          "0.00",
          "0.00",
          "16.93",
          "48.00",
          "87.81",
          "242.12",
          "103.37",
          "124.38",
          "0.00",
          "0.00",
          "0.00",
          "0.00",
          "17.26",
          "29.37",
          "0.00",
          "114.32",
          "3057.30",
          "0.00",
          "0.00",
          "76970.17",
          "0.00",
          "22997.23",
          "23526.60",
          "2.31",
          "13188.85",
          "12472.79"
         ],
         "textposition": "none",
         "type": "bar",
         "x": {
          "bdata": "AQIDBAUGBwgJCgsMDQ4PEBESExQVFhcYGRob",
          "dtype": "i1"
         },
         "y": {
          "bdata": "AAAAAAAAAEAAAAAAAAAAQAAAAAAAAABACtZTWcbuMEBXm8iYMABIQJhTBKvz81VAwZPOmORDbkDbCyDUg9dZQBCpEop3GF9AAAAAAAAAAEAAAAAAAAAAQAAAAAAAAABAAAAAAAAAAECvtXMCIkMxQHYCUZ6hXj1AAAAAAAAAAEAWxUDqjpRcQCL2j7aX4qdAAAAAAAAAAEAAAAAAAAAAQL6846uiyvJAAAAAAAAAAECHCYaZTnXWQIOcoZCm+dZAEn+rueNxAkDJ6Fo5bcLJQCXldb5lXMhA",
          "dtype": "f8"
         }
        },
        {
         "customdata": [
          [
           2,
           10,
           10,
           10,
           3,
           "13.76"
          ],
          [
           2,
           10,
           10,
           50,
           63,
           "78.51"
          ],
          [
           2,
           10,
           10,
           100,
           102,
           "146.64"
          ],
          [
           2,
           10,
           40,
           10,
           624,
           "21.08"
          ],
          [
           2,
           10,
           40,
           50,
           1788,
           "395.69"
          ],
          [
           2,
           10,
           40,
           100,
           231,
           "420.16"
          ],
          [
           2,
           10,
           80,
           10,
           22890,
           "318.28"
          ],
          [
           2,
           10,
           80,
           50,
           547,
           "411.89"
          ],
          [
           2,
           10,
           80,
           100,
           1,
           "420.22"
          ],
          [
           2,
           20,
           10,
           10,
           55,
           "91.99"
          ],
          [
           2,
           20,
           10,
           50,
           3,
           "136.73"
          ],
          [
           2,
           20,
           10,
           100,
           43,
           "193.70"
          ],
          [
           2,
           20,
           40,
           10,
           260,
           "119.14"
          ],
          [
           2,
           20,
           40,
           50,
           1323,
           "420.64"
          ],
          [
           2,
           20,
           40,
           100,
           1,
           "420.53"
          ],
          [
           2,
           20,
           80,
           10,
           1179,
           "158.48"
          ],
          [
           2,
           20,
           80,
           50,
           314,
           "420.11"
          ],
          [
           2,
           20,
           80,
           100,
           1,
           "420.24"
          ],
          [
           2,
           40,
           10,
           10,
           3,
           "134.64"
          ],
          [
           2,
           40,
           10,
           50,
           3,
           "262.27"
          ],
          [
           2,
           40,
           10,
           100,
           1,
           "428.53"
          ],
          [
           2,
           40,
           40,
           10,
           51,
           "147.96"
          ],
          [
           2,
           40,
           40,
           50,
           1,
           "423.01"
          ],
          [
           2,
           40,
           40,
           100,
           1,
           "428.16"
          ],
          [
           2,
           40,
           80,
           10,
           5382,
           "420.20"
          ],
          [
           2,
           40,
           80,
           50,
           1,
           "421.96"
          ],
          [
           2,
           40,
           80,
           100,
           1,
           "429.51"
          ]
         ],
         "hovertemplate": "Model: %{customdata[0]}<br>ID: %{x}<br>N: %{customdata[1]}<br>J: %{customdata[2]}<br>T: %{customdata[3]}<br>Gap: %{text}%<br>Nodes: %{customdata[4]}<br>Runtime: %{customdata[5]} s<extra></extra>",
         "name": "Model 2",
         "text": [
          "0.00",
          "0.00",
          "0.00",
          "0.00",
          "55.18",
          "114.02",
          "248.45",
          "140.45",
          "929.74",
          "0.00",
          "0.00",
          "0.00",
          "0.00",
          "25.98",
          "352.86",
          "0.00",
          "113.40",
          "3057.30",
          "0.00",
          "0.00",
          "76970.17",
          "0.00",
          "22997.23",
          "23526.60",
          "2.67",
          "13188.85",
          "12472.79"
         ],
         "textposition": "none",
         "type": "bar",
         "x": {
          "bdata": "AQIDBAUGBwgJCgsMDQ4PEBESExQVFhcYGRob",
          "dtype": "i1"
         },
         "y": {
          "bdata": "AAAAAAAAAEAAAAAAAAAAQAAAAAAAAABAAAAAAAAAAECMzmyhkZdLQFdolgeAgVxAi1IXwoEOb0D0Vc/8dY5hQMNoiMHyDY1AAAAAAAAAAEAAAAAAAAAAQAAAAAAAAABAAAAAAAAAAEDOqnL5nfs5QDD8jCa8DXZAAAAAAAAAAEB5Z2DEhllcQCL2j7aX4qdAAAAAAAAAAEAAAAAAAAAAQL6846uiyvJAAAAAAAAAAECHCYaZTnXWQIOcoZCm+dZA5J50GaZSBUDJ6Fo5bcLJQCXldb5lXMhA",
          "dtype": "f8"
         }
        }
       ],
       "layout": {
        "autosize": true,
        "barmode": "group",
        "legend": {
         "bgcolor": "rgba(255, 255, 255, 0.5)",
         "x": 0.01,
         "xanchor": "left",
         "y": 0.99,
         "yanchor": "top"
        },
        "margin": {
         "b": 10,
         "l": 10,
         "r": 10,
         "t": 10
        },
        "template": {
         "data": {
          "bar": [
           {
            "error_x": {
             "color": "#2a3f5f"
            },
            "error_y": {
             "color": "#2a3f5f"
            },
            "marker": {
             "line": {
              "color": "#E5ECF6",
              "width": 0.5
             },
             "pattern": {
              "fillmode": "overlay",
              "size": 10,
              "solidity": 0.2
             }
            },
            "type": "bar"
           }
          ],
          "barpolar": [
           {
            "marker": {
             "line": {
              "color": "#E5ECF6",
              "width": 0.5
             },
             "pattern": {
              "fillmode": "overlay",
              "size": 10,
              "solidity": 0.2
             }
            },
            "type": "barpolar"
           }
          ],
          "carpet": [
           {
            "aaxis": {
             "endlinecolor": "#2a3f5f",
             "gridcolor": "white",
             "linecolor": "white",
             "minorgridcolor": "white",
             "startlinecolor": "#2a3f5f"
            },
            "baxis": {
             "endlinecolor": "#2a3f5f",
             "gridcolor": "white",
             "linecolor": "white",
             "minorgridcolor": "white",
             "startlinecolor": "#2a3f5f"
            },
            "type": "carpet"
           }
          ],
          "choropleth": [
           {
            "colorbar": {
             "outlinewidth": 0,
             "ticks": ""
            },
            "type": "choropleth"
           }
          ],
          "contour": [
           {
            "colorbar": {
             "outlinewidth": 0,
             "ticks": ""
            },
            "colorscale": [
             [
              0,
              "#0d0887"
             ],
             [
              0.1111111111111111,
              "#46039f"
             ],
             [
              0.2222222222222222,
              "#7201a8"
             ],
             [
              0.3333333333333333,
              "#9c179e"
             ],
             [
              0.4444444444444444,
              "#bd3786"
             ],
             [
              0.5555555555555556,
              "#d8576b"
             ],
             [
              0.6666666666666666,
              "#ed7953"
             ],
             [
              0.7777777777777778,
              "#fb9f3a"
             ],
             [
              0.8888888888888888,
              "#fdca26"
             ],
             [
              1,
              "#f0f921"
             ]
            ],
            "type": "contour"
           }
          ],
          "contourcarpet": [
           {
            "colorbar": {
             "outlinewidth": 0,
             "ticks": ""
            },
            "type": "contourcarpet"
           }
          ],
          "heatmap": [
           {
            "colorbar": {
             "outlinewidth": 0,
             "ticks": ""
            },
            "colorscale": [
             [
              0,
              "#0d0887"
             ],
             [
              0.1111111111111111,
              "#46039f"
             ],
             [
              0.2222222222222222,
              "#7201a8"
             ],
             [
              0.3333333333333333,
              "#9c179e"
             ],
             [
              0.4444444444444444,
              "#bd3786"
             ],
             [
              0.5555555555555556,
              "#d8576b"
             ],
             [
              0.6666666666666666,
              "#ed7953"
             ],
             [
              0.7777777777777778,
              "#fb9f3a"
             ],
             [
              0.8888888888888888,
              "#fdca26"
             ],
             [
              1,
              "#f0f921"
             ]
            ],
            "type": "heatmap"
           }
          ],
          "histogram": [
           {
            "marker": {
             "pattern": {
              "fillmode": "overlay",
              "size": 10,
              "solidity": 0.2
             }
            },
            "type": "histogram"
           }
          ],
          "histogram2d": [
           {
            "colorbar": {
             "outlinewidth": 0,
             "ticks": ""
            },
            "colorscale": [
             [
              0,
              "#0d0887"
             ],
             [
              0.1111111111111111,
              "#46039f"
             ],
             [
              0.2222222222222222,
              "#7201a8"
             ],
             [
              0.3333333333333333,
              "#9c179e"
             ],
             [
              0.4444444444444444,
              "#bd3786"
             ],
             [
              0.5555555555555556,
              "#d8576b"
             ],
             [
              0.6666666666666666,
              "#ed7953"
             ],
             [
              0.7777777777777778,
              "#fb9f3a"
             ],
             [
              0.8888888888888888,
              "#fdca26"
             ],
             [
              1,
              "#f0f921"
             ]
            ],
            "type": "histogram2d"
           }
          ],
          "histogram2dcontour": [
           {
            "colorbar": {
             "outlinewidth": 0,
             "ticks": ""
            },
            "colorscale": [
             [
              0,
              "#0d0887"
             ],
             [
              0.1111111111111111,
              "#46039f"
             ],
             [
              0.2222222222222222,
              "#7201a8"
             ],
             [
              0.3333333333333333,
              "#9c179e"
             ],
             [
              0.4444444444444444,
              "#bd3786"
             ],
             [
              0.5555555555555556,
              "#d8576b"
             ],
             [
              0.6666666666666666,
              "#ed7953"
             ],
             [
              0.7777777777777778,
              "#fb9f3a"
             ],
             [
              0.8888888888888888,
              "#fdca26"
             ],
             [
              1,
              "#f0f921"
             ]
            ],
            "type": "histogram2dcontour"
           }
          ],
          "mesh3d": [
           {
            "colorbar": {
             "outlinewidth": 0,
             "ticks": ""
            },
            "type": "mesh3d"
           }
          ],
          "parcoords": [
           {
            "line": {
             "colorbar": {
              "outlinewidth": 0,
              "ticks": ""
             }
            },
            "type": "parcoords"
           }
          ],
          "pie": [
           {
            "automargin": true,
            "type": "pie"
           }
          ],
          "scatter": [
           {
            "fillpattern": {
             "fillmode": "overlay",
             "size": 10,
             "solidity": 0.2
            },
            "type": "scatter"
           }
          ],
          "scatter3d": [
           {
            "line": {
             "colorbar": {
              "outlinewidth": 0,
              "ticks": ""
             }
            },
            "marker": {
             "colorbar": {
              "outlinewidth": 0,
              "ticks": ""
             }
            },
            "type": "scatter3d"
           }
          ],
          "scattercarpet": [
           {
            "marker": {
             "colorbar": {
              "outlinewidth": 0,
              "ticks": ""
             }
            },
            "type": "scattercarpet"
           }
          ],
          "scattergeo": [
           {
            "marker": {
             "colorbar": {
              "outlinewidth": 0,
              "ticks": ""
             }
            },
            "type": "scattergeo"
           }
          ],
          "scattergl": [
           {
            "marker": {
             "colorbar": {
              "outlinewidth": 0,
              "ticks": ""
             }
            },
            "type": "scattergl"
           }
          ],
          "scattermap": [
           {
            "marker": {
             "colorbar": {
              "outlinewidth": 0,
              "ticks": ""
             }
            },
            "type": "scattermap"
           }
          ],
          "scattermapbox": [
           {
            "marker": {
             "colorbar": {
              "outlinewidth": 0,
              "ticks": ""
             }
            },
            "type": "scattermapbox"
           }
          ],
          "scatterpolar": [
           {
            "marker": {
             "colorbar": {
              "outlinewidth": 0,
              "ticks": ""
             }
            },
            "type": "scatterpolar"
           }
          ],
          "scatterpolargl": [
           {
            "marker": {
             "colorbar": {
              "outlinewidth": 0,
              "ticks": ""
             }
            },
            "type": "scatterpolargl"
           }
          ],
          "scatterternary": [
           {
            "marker": {
             "colorbar": {
              "outlinewidth": 0,
              "ticks": ""
             }
            },
            "type": "scatterternary"
           }
          ],
          "surface": [
           {
            "colorbar": {
             "outlinewidth": 0,
             "ticks": ""
            },
            "colorscale": [
             [
              0,
              "#0d0887"
             ],
             [
              0.1111111111111111,
              "#46039f"
             ],
             [
              0.2222222222222222,
              "#7201a8"
             ],
             [
              0.3333333333333333,
              "#9c179e"
             ],
             [
              0.4444444444444444,
              "#bd3786"
             ],
             [
              0.5555555555555556,
              "#d8576b"
             ],
             [
              0.6666666666666666,
              "#ed7953"
             ],
             [
              0.7777777777777778,
              "#fb9f3a"
             ],
             [
              0.8888888888888888,
              "#fdca26"
             ],
             [
              1,
              "#f0f921"
             ]
            ],
            "type": "surface"
           }
          ],
          "table": [
           {
            "cells": {
             "fill": {
              "color": "#EBF0F8"
             },
             "line": {
              "color": "white"
             }
            },
            "header": {
             "fill": {
              "color": "#C8D4E3"
             },
             "line": {
              "color": "white"
             }
            },
            "type": "table"
           }
          ]
         },
         "layout": {
          "annotationdefaults": {
           "arrowcolor": "#2a3f5f",
           "arrowhead": 0,
           "arrowwidth": 1
          },
          "autotypenumbers": "strict",
          "coloraxis": {
           "colorbar": {
            "outlinewidth": 0,
            "ticks": ""
           }
          },
          "colorscale": {
           "diverging": [
            [
             0,
             "#8e0152"
            ],
            [
             0.1,
             "#c51b7d"
            ],
            [
             0.2,
             "#de77ae"
            ],
            [
             0.3,
             "#f1b6da"
            ],
            [
             0.4,
             "#fde0ef"
            ],
            [
             0.5,
             "#f7f7f7"
            ],
            [
             0.6,
             "#e6f5d0"
            ],
            [
             0.7,
             "#b8e186"
            ],
            [
             0.8,
             "#7fbc41"
            ],
            [
             0.9,
             "#4d9221"
            ],
            [
             1,
             "#276419"
            ]
           ],
           "sequential": [
            [
             0,
             "#0d0887"
            ],
            [
             0.1111111111111111,
             "#46039f"
            ],
            [
             0.2222222222222222,
             "#7201a8"
            ],
            [
             0.3333333333333333,
             "#9c179e"
            ],
            [
             0.4444444444444444,
             "#bd3786"
            ],
            [
             0.5555555555555556,
             "#d8576b"
            ],
            [
             0.6666666666666666,
             "#ed7953"
            ],
            [
             0.7777777777777778,
             "#fb9f3a"
            ],
            [
             0.8888888888888888,
             "#fdca26"
            ],
            [
             1,
             "#f0f921"
            ]
           ],
           "sequentialminus": [
            [
             0,
             "#0d0887"
            ],
            [
             0.1111111111111111,
             "#46039f"
            ],
            [
             0.2222222222222222,
             "#7201a8"
            ],
            [
             0.3333333333333333,
             "#9c179e"
            ],
            [
             0.4444444444444444,
             "#bd3786"
            ],
            [
             0.5555555555555556,
             "#d8576b"
            ],
            [
             0.6666666666666666,
             "#ed7953"
            ],
            [
             0.7777777777777778,
             "#fb9f3a"
            ],
            [
             0.8888888888888888,
             "#fdca26"
            ],
            [
             1,
             "#f0f921"
            ]
           ]
          },
          "colorway": [
           "#636efa",
           "#EF553B",
           "#00cc96",
           "#ab63fa",
           "#FFA15A",
           "#19d3f3",
           "#FF6692",
           "#B6E880",
           "#FF97FF",
           "#FECB52"
          ],
          "font": {
           "color": "#2a3f5f"
          },
          "geo": {
           "bgcolor": "white",
           "lakecolor": "white",
           "landcolor": "#E5ECF6",
           "showlakes": true,
           "showland": true,
           "subunitcolor": "white"
          },
          "hoverlabel": {
           "align": "left"
          },
          "hovermode": "closest",
          "mapbox": {
           "style": "light"
          },
          "paper_bgcolor": "white",
          "plot_bgcolor": "#E5ECF6",
          "polar": {
           "angularaxis": {
            "gridcolor": "white",
            "linecolor": "white",
            "ticks": ""
           },
           "bgcolor": "#E5ECF6",
           "radialaxis": {
            "gridcolor": "white",
            "linecolor": "white",
            "ticks": ""
           }
          },
          "scene": {
           "xaxis": {
            "backgroundcolor": "#E5ECF6",
            "gridcolor": "white",
            "gridwidth": 2,
            "linecolor": "white",
            "showbackground": true,
            "ticks": "",
            "zerolinecolor": "white"
           },
           "yaxis": {
            "backgroundcolor": "#E5ECF6",
            "gridcolor": "white",
            "gridwidth": 2,
            "linecolor": "white",
            "showbackground": true,
            "ticks": "",
            "zerolinecolor": "white"
           },
           "zaxis": {
            "backgroundcolor": "#E5ECF6",
            "gridcolor": "white",
            "gridwidth": 2,
            "linecolor": "white",
            "showbackground": true,
            "ticks": "",
            "zerolinecolor": "white"
           }
          },
          "shapedefaults": {
           "line": {
            "color": "#2a3f5f"
           }
          },
          "ternary": {
           "aaxis": {
            "gridcolor": "white",
            "linecolor": "white",
            "ticks": ""
           },
           "baxis": {
            "gridcolor": "white",
            "linecolor": "white",
            "ticks": ""
           },
           "bgcolor": "#E5ECF6",
           "caxis": {
            "gridcolor": "white",
            "linecolor": "white",
            "ticks": ""
           }
          },
          "title": {
           "x": 0.05
          },
          "xaxis": {
           "automargin": true,
           "gridcolor": "white",
           "linecolor": "white",
           "ticks": "",
           "title": {
            "standoff": 15
           },
           "zerolinecolor": "white",
           "zerolinewidth": 2
          },
          "yaxis": {
           "automargin": true,
           "gridcolor": "white",
           "linecolor": "white",
           "ticks": "",
           "title": {
            "standoff": 15
           },
           "zerolinecolor": "white",
           "zerolinewidth": 2
          }
         }
        },
        "xaxis": {
         "tickmode": "array",
         "ticktext": [
          0,
          1,
          2,
          3,
          4,
          5,
          6,
          7,
          8,
          9,
          10,
          11,
          12,
          13,
          14,
          15,
          16,
          17,
          18,
          19,
          20,
          21,
          22,
          23,
          24,
          25,
          26,
          27
         ],
         "tickvals": [
          0,
          1,
          2,
          3,
          4,
          5,
          6,
          7,
          8,
          9,
          10,
          11,
          12,
          13,
          14,
          15,
          16,
          17,
          18,
          19,
          20,
          21,
          22,
          23,
          24,
          25,
          26,
          27
         ],
         "title": {
          "text": "Problem Instance (ID)"
         }
        },
        "yaxis": {
         "range": [
          -0.05,
          250
         ],
         "ticktext": [
          "0%",
          "10%",
          "20%",
          "30%",
          "40%",
          "50%",
          "60%",
          "70%",
          "80%",
          "90%",
          "100%",
          "110%",
          "120%",
          "130%",
          "140%",
          "150%",
          "160%",
          "170%",
          "180%",
          "190%",
          "200%",
          "210%",
          "220%",
          "230%",
          "240%",
          "250%"
         ],
         "tickvals": [
          0,
          10,
          20,
          30,
          40,
          50,
          60,
          70,
          80,
          90,
          100,
          110,
          120,
          130,
          140,
          150,
          160,
          170,
          180,
          190,
          200,
          210,
          220,
          230,
          240,
          250
         ],
         "title": {
          "text": "Gap"
         }
        }
       }
      }
     },
     "metadata": {},
     "output_type": "display_data"
    }
   ],
   "source": [
    "import plotly.graph_objects as go\n",
    "\n",
    "# Clean data\n",
    "max_gap = 250\n",
    "# gapcleaned_df0 = df0[df0['gap'] < max_gap]\n",
    "# gapcleaned_df1 = df1[df1['gap'] < max_gap]\n",
    "# gapcleaned_df2 = df2[df2['gap'] < max_gap]\n",
    "\n",
    "gapcleaned_df0 = df0\n",
    "gapcleaned_df1 = df1\n",
    "gapcleaned_df2 = df2\n",
    "# gapcleaned_df0['gap'] = gapcleaned_df0['gap'].apply(lambda x: min(x, max_gap))\n",
    "# gapcleaned_df1['gap'] = gapcleaned_df1['gap'].apply(lambda x: min(x, max_gap))\n",
    "# gapcleaned_df2['gap'] = gapcleaned_df2['gap'].apply(lambda x: min(x, max_gap))\n",
    "\n",
    "# Substitute values at infinity with large value: 1e6\n",
    "gapcleaned_df0['gap'] = gapcleaned_df0['gap'].replace([np.inf, -np.inf], 1e6)\n",
    "gapcleaned_df1['gap'] = gapcleaned_df1['gap'].replace([np.inf, -np.inf], 1e6)\n",
    "gapcleaned_df2['gap'] = gapcleaned_df2['gap'].replace([np.inf, -np.inf], 1e6)\n",
    "\n",
    "# Define a small offset value for visibility\n",
    "offset = 2  # Adjust this based on your data range\n",
    "\n",
    "# Function to add offset to zeros but keep original text\n",
    "def add_offset_to_zeros(values):\n",
    "    display_values = values.copy()  # For visual height\n",
    "    text_values = values.copy()     # For labels/text\n",
    "    display_values[display_values <= 0.05] = offset\n",
    "    return display_values, text_values\n",
    "\n",
    "# First, create a function to format the gap values\n",
    "def format_gap(x):\n",
    "    if abs(x - 1e6) < 1e-6:  # Check if it's very close to 1e6 (our infinity placeholder)\n",
    "        return \"inf\"\n",
    "    else:\n",
    "        return f'{x:.2f}'\n",
    "\n",
    "# Then use this function when creating the text values\n",
    "\n",
    "# Create bar plot with visible zeros\n",
    "hovertemplate_text='Model: %{customdata[0]}<br>ID: %{x}<br>N: %{customdata[1]}<br>J: %{customdata[2]}<br>T: %{customdata[3]}<br>Gap: %{text}%<br>Nodes: %{customdata[4]}<br>Runtime: %{customdata[5]} s<extra></extra>'\n",
    "fig = go.Figure(data=[\n",
    "    go.Bar(\n",
    "        name='Model 0', \n",
    "        x=gapcleaned_df0['ID'], \n",
    "        y=add_offset_to_zeros(gapcleaned_df0['gap'])[0],\n",
    "        # text=gapcleaned_df0['gap'].apply(lambda x: f'{x:.2f}'),  # Format text to 2 decimal places\n",
    "        text=gapcleaned_df0['gap'].apply(format_gap),  # Format text to 2 decimal places\n",
    "        # Create a 2D array with multiple columns\n",
    "        customdata=np.dstack((\n",
    "            gapcleaned_df0['model'], \n",
    "            gapcleaned_df0['N'], \n",
    "            gapcleaned_df0['J'], \n",
    "            gapcleaned_df0['T'], \n",
    "            gapcleaned_df0['nodes'], \n",
    "            gapcleaned_df0['total_time'].apply(lambda x: f'{x:.2f}')\n",
    "        ))[0],\n",
    "        textposition='none',\n",
    "        hovertemplate=hovertemplate_text\n",
    "    ),\n",
    "    go.Bar(\n",
    "        name='Model 1', \n",
    "        x=gapcleaned_df1['ID'], \n",
    "        y=add_offset_to_zeros(gapcleaned_df1['gap'])[0],\n",
    "        text=gapcleaned_df1['gap'].apply(format_gap),\n",
    "        customdata=np.dstack((\n",
    "            gapcleaned_df1['model'], \n",
    "            gapcleaned_df1['N'], \n",
    "            gapcleaned_df1['J'], \n",
    "            gapcleaned_df1['T'], \n",
    "            gapcleaned_df1['nodes'], \n",
    "            gapcleaned_df1['total_time'].apply(lambda x: f'{x:.2f}')\n",
    "        ))[0],\n",
    "        textposition='none',\n",
    "        hovertemplate=hovertemplate_text\n",
    "    ),\n",
    "    go.Bar(\n",
    "        name='Model 2', \n",
    "        x=gapcleaned_df2['ID'], \n",
    "        y=add_offset_to_zeros(gapcleaned_df2['gap'])[0],\n",
    "        text=gapcleaned_df2['gap'].apply(format_gap),\n",
    "        customdata=np.dstack((\n",
    "            gapcleaned_df2['model'], \n",
    "            gapcleaned_df2['N'], \n",
    "            gapcleaned_df2['J'], \n",
    "            gapcleaned_df2['T'], \n",
    "            gapcleaned_df2['nodes'], \n",
    "            gapcleaned_df2['total_time'].apply(lambda x: f'{x:.2f}')\n",
    "        ))[0],\n",
    "        textposition='none',\n",
    "        hovertemplate=hovertemplate_text\n",
    "    ),\n",
    "])\n",
    "\n",
    "# Add a subtle visual indication for zero values\n",
    "fig.update_layout(\n",
    "    autosize=True,   # let the container size drive the plot\n",
    "    margin=dict(l=10, r=10, t=10, b=10),    # width=1000,\n",
    "    # height=600,\n",
    "    barmode='group',\n",
    "    yaxis = dict(\n",
    "        range=[-0.05, max_gap],\n",
    "        title = 'Gap',\n",
    "        tickvals = list(range(0, max_gap + 1, 10)),\n",
    "        ticktext = [str(i) + '%' for i in range(0, max_gap + 1, 10)],\n",
    "    ),\n",
    "    xaxis = dict(\n",
    "        title = 'Problem Instance (ID)',\n",
    "        tickmode = 'array',\n",
    "        tickvals = list(range(0, 28)),\n",
    "        ticktext = list(range(0, 28)),\n",
    "    ),\n",
    "    legend=dict(\n",
    "        x=0.01,\n",
    "        y=0.99,\n",
    "        xanchor='left',\n",
    "        yanchor='top',\n",
    "        bgcolor='rgba(255, 255, 255, 0.5)'\n",
    "    )\n",
    ")\n",
    "\n",
    "fig.show()\n",
    "\n",
    "# # # Save as HTML\n",
    "# div_schedule = plot(\n",
    "#     fig, include_plotlyjs=True, config={\"responsive\": True}, output_type=\"div\"\n",
    "# )\n",
    "# # write div snippet to file\n",
    "# with open('../docs/images/results-gap.html', 'w') as f:\n",
    "#     f.write(div_schedule)"
   ]
  },
  {
   "cell_type": "code",
   "execution_count": null,
   "id": "d653a424",
   "metadata": {},
   "outputs": [
    {
     "data": {
      "application/vnd.plotly.v1+json": {
       "config": {
        "plotlyServerURL": "https://plot.ly"
       },
       "data": [
        {
         "customdata": [
          [
           0,
           10,
           10,
           10,
           3,
           "0.22"
          ],
          [
           0,
           10,
           10,
           50,
           931,
           "27.07"
          ],
          [
           0,
           10,
           10,
           100,
           193,
           "24.98"
          ],
          [
           0,
           10,
           40,
           10,
           641,
           "3.34"
          ],
          [
           0,
           10,
           40,
           50,
           5543,
           "300.00"
          ],
          [
           0,
           10,
           40,
           100,
           616,
           "300.00"
          ],
          [
           0,
           10,
           80,
           10,
           26677,
           "300.00"
          ],
          [
           0,
           10,
           80,
           50,
           751,
           "300.01"
          ],
          [
           0,
           10,
           80,
           100,
           735,
           "300.01"
          ],
          [
           0,
           20,
           10,
           10,
           60,
           "2.87"
          ],
          [
           0,
           20,
           10,
           50,
           3,
           "19.91"
          ],
          [
           0,
           20,
           10,
           100,
           59,
           "88.71"
          ],
          [
           0,
           20,
           40,
           10,
           403,
           "16.40"
          ],
          [
           0,
           20,
           40,
           50,
           1035,
           "300.00"
          ],
          [
           0,
           20,
           40,
           100,
           82,
           "300.02"
          ],
          [
           0,
           20,
           80,
           10,
           1132,
           "29.12"
          ],
          [
           0,
           20,
           80,
           50,
           701,
           "300.00"
          ],
          [
           0,
           20,
           80,
           100,
           1,
           "300.13"
          ],
          [
           0,
           40,
           10,
           10,
           3,
           "10.07"
          ],
          [
           0,
           40,
           10,
           50,
           3,
           "150.74"
          ],
          [
           0,
           40,
           10,
           100,
           1,
           "300.13"
          ],
          [
           0,
           40,
           40,
           10,
           74,
           "45.49"
          ],
          [
           0,
           40,
           40,
           50,
           1,
           "300.02"
          ],
          [
           0,
           40,
           40,
           100,
           1,
           "301.61"
          ],
          [
           0,
           40,
           80,
           10,
           1625,
           "300.07"
          ],
          [
           0,
           40,
           80,
           50,
           1,
           "300.04"
          ],
          [
           0,
           40,
           80,
           100,
           1,
           "300.78"
          ]
         ],
         "hovertemplate": "Model: %{customdata[0]}<br>ID: %{x}<br>N: %{customdata[1]}<br>J: %{customdata[2]}<br>T: %{customdata[3]}<br>Gap: %{text}%<br>Nodes: %{customdata[4]}<br>Runtime: %{customdata[5]} s<extra></extra>",
         "name": "Model 0",
         "text": [
          "0.00",
          "0.00",
          "0.01",
          "0.00",
          "inf",
          "inf",
          "253.21",
          "inf",
          "inf",
          "0.00",
          "0.00",
          "0.00",
          "0.00",
          "inf",
          "inf",
          "0.00",
          "inf",
          "inf",
          "0.00",
          "0.00",
          "inf",
          "0.00",
          "inf",
          "inf",
          "11.14",
          "inf",
          "inf"
         ],
         "textposition": "none",
         "type": "bar",
         "x": {
          "bdata": "AQIDBAUGBwgJCgsMDQ4PEBESExQVFhcYGRob",
          "dtype": "i1"
         },
         "y": {
          "bdata": "AAAAAAAACEAAAAAAABiNQAAAAAAAIGhAAAAAAAAIhEAAAAAAAKe1QAAAAAAAQINAAAAAAEAN2kAAAAAAAHiHQAAAAAAA+IZAAAAAAAAATkAAAAAAAAAIQAAAAAAAgE1AAAAAAAAweUAAAAAAACyQQAAAAAAAgFRAAAAAAACwkUAAAAAAAOiFQAAAAAAAAPA/AAAAAAAACEAAAAAAAAAIQAAAAAAAAPA/AAAAAACAUkAAAAAAAADwPwAAAAAAAPA/AAAAAABkmUAAAAAAAADwPwAAAAAAAPA/",
          "dtype": "f8"
         }
        },
        {
         "customdata": [
          [
           1,
           10,
           10,
           10,
           3,
           "13.77"
          ],
          [
           1,
           10,
           10,
           50,
           1111,
           "103.18"
          ],
          [
           1,
           10,
           10,
           100,
           86,
           "139.57"
          ],
          [
           1,
           10,
           40,
           10,
           80836,
           "317.44"
          ],
          [
           1,
           10,
           40,
           50,
           6337,
           "395.70"
          ],
          [
           1,
           10,
           40,
           100,
           655,
           "420.13"
          ],
          [
           1,
           10,
           80,
           10,
           34208,
           "318.28"
          ],
          [
           1,
           10,
           80,
           50,
           718,
           "411.88"
          ],
          [
           1,
           10,
           80,
           100,
           702,
           "420.15"
          ],
          [
           1,
           20,
           10,
           10,
           55,
           "92.26"
          ],
          [
           1,
           20,
           10,
           50,
           3,
           "135.93"
          ],
          [
           1,
           20,
           10,
           100,
           38,
           "183.62"
          ],
          [
           1,
           20,
           40,
           10,
           334,
           "122.48"
          ],
          [
           1,
           20,
           40,
           50,
           1412,
           "420.66"
          ],
          [
           1,
           20,
           40,
           100,
           74,
           "420.34"
          ],
          [
           1,
           20,
           80,
           10,
           1156,
           "154.46"
          ],
          [
           1,
           20,
           80,
           50,
           587,
           "420.10"
          ],
          [
           1,
           20,
           80,
           100,
           1,
           "420.22"
          ],
          [
           1,
           40,
           10,
           10,
           3,
           "132.68"
          ],
          [
           1,
           40,
           10,
           50,
           3,
           "299.32"
          ],
          [
           1,
           40,
           10,
           100,
           1,
           "428.37"
          ],
          [
           1,
           40,
           40,
           10,
           44,
           "147.89"
          ],
          [
           1,
           40,
           40,
           50,
           1,
           "423.02"
          ],
          [
           1,
           40,
           40,
           100,
           1,
           "428.33"
          ],
          [
           1,
           40,
           80,
           10,
           5753,
           "420.20"
          ],
          [
           1,
           40,
           80,
           50,
           1,
           "421.45"
          ],
          [
           1,
           40,
           80,
           100,
           1,
           "431.33"
          ]
         ],
         "hovertemplate": "Model: %{customdata[0]}<br>ID: %{x}<br>N: %{customdata[1]}<br>J: %{customdata[2]}<br>T: %{customdata[3]}<br>Gap: %{text}%<br>Nodes: %{customdata[4]}<br>Runtime: %{customdata[5]} s<extra></extra>",
         "name": "Model 1",
         "text": [
          "0.00",
          "0.00",
          "0.00",
          "16.93",
          "48.00",
          "87.81",
          "242.12",
          "103.37",
          "124.38",
          "0.00",
          "0.00",
          "0.00",
          "0.00",
          "17.26",
          "29.37",
          "0.00",
          "114.32",
          "3057.30",
          "0.00",
          "0.00",
          "76970.17",
          "0.00",
          "22997.23",
          "23526.60",
          "2.31",
          "13188.85",
          "12472.79"
         ],
         "textposition": "none",
         "type": "bar",
         "x": {
          "bdata": "AQIDBAUGBwgJCgsMDQ4PEBESExQVFhcYGRob",
          "dtype": "i1"
         },
         "y": {
          "bdata": "AAAAAAAACEAAAAAAAFyRQAAAAAAAgFVAAAAAAEC880AAAAAAAMG4QAAAAAAAeIRAAAAAAAC04EAAAAAAAHCGQAAAAAAA8IVAAAAAAACAS0AAAAAAAAAIQAAAAAAAAENAAAAAAADgdEAAAAAAABCWQAAAAAAAgFJAAAAAAAAQkkAAAAAAAFiCQAAAAAAAAPA/AAAAAAAACEAAAAAAAAAIQAAAAAAAAPA/AAAAAAAARkAAAAAAAADwPwAAAAAAAPA/AAAAAAB5tkAAAAAAAADwPwAAAAAAAPA/",
          "dtype": "f8"
         }
        },
        {
         "customdata": [
          [
           2,
           10,
           10,
           10,
           3,
           "13.76"
          ],
          [
           2,
           10,
           10,
           50,
           63,
           "78.51"
          ],
          [
           2,
           10,
           10,
           100,
           102,
           "146.64"
          ],
          [
           2,
           10,
           40,
           10,
           624,
           "21.08"
          ],
          [
           2,
           10,
           40,
           50,
           1788,
           "395.69"
          ],
          [
           2,
           10,
           40,
           100,
           231,
           "420.16"
          ],
          [
           2,
           10,
           80,
           10,
           22890,
           "318.28"
          ],
          [
           2,
           10,
           80,
           50,
           547,
           "411.89"
          ],
          [
           2,
           10,
           80,
           100,
           1,
           "420.22"
          ],
          [
           2,
           20,
           10,
           10,
           55,
           "91.99"
          ],
          [
           2,
           20,
           10,
           50,
           3,
           "136.73"
          ],
          [
           2,
           20,
           10,
           100,
           43,
           "193.70"
          ],
          [
           2,
           20,
           40,
           10,
           260,
           "119.14"
          ],
          [
           2,
           20,
           40,
           50,
           1323,
           "420.64"
          ],
          [
           2,
           20,
           40,
           100,
           1,
           "420.53"
          ],
          [
           2,
           20,
           80,
           10,
           1179,
           "158.48"
          ],
          [
           2,
           20,
           80,
           50,
           314,
           "420.11"
          ],
          [
           2,
           20,
           80,
           100,
           1,
           "420.24"
          ],
          [
           2,
           40,
           10,
           10,
           3,
           "134.64"
          ],
          [
           2,
           40,
           10,
           50,
           3,
           "262.27"
          ],
          [
           2,
           40,
           10,
           100,
           1,
           "428.53"
          ],
          [
           2,
           40,
           40,
           10,
           51,
           "147.96"
          ],
          [
           2,
           40,
           40,
           50,
           1,
           "423.01"
          ],
          [
           2,
           40,
           40,
           100,
           1,
           "428.16"
          ],
          [
           2,
           40,
           80,
           10,
           5382,
           "420.20"
          ],
          [
           2,
           40,
           80,
           50,
           1,
           "421.96"
          ],
          [
           2,
           40,
           80,
           100,
           1,
           "429.51"
          ]
         ],
         "hovertemplate": "Model: %{customdata[0]}<br>ID: %{x}<br>N: %{customdata[1]}<br>J: %{customdata[2]}<br>T: %{customdata[3]}<br>Gap: %{text}%<br>Nodes: %{customdata[4]}<br>Runtime: %{customdata[5]} s<extra></extra>",
         "name": "Model 2",
         "text": [
          "0.00",
          "0.00",
          "0.00",
          "0.00",
          "55.18",
          "114.02",
          "248.45",
          "140.45",
          "929.74",
          "0.00",
          "0.00",
          "0.00",
          "0.00",
          "25.98",
          "352.86",
          "0.00",
          "113.40",
          "3057.30",
          "0.00",
          "0.00",
          "76970.17",
          "0.00",
          "22997.23",
          "23526.60",
          "2.67",
          "13188.85",
          "12472.79"
         ],
         "textposition": "none",
         "type": "bar",
         "x": {
          "bdata": "AQIDBAUGBwgJCgsMDQ4PEBESExQVFhcYGRob",
          "dtype": "i1"
         },
         "y": {
          "bdata": "AAAAAAAACEAAAAAAAIBPQAAAAAAAgFlAAAAAAACAg0AAAAAAAPCbQAAAAAAA4GxAAAAAAIBa1kAAAAAAABiBQAAAAAAAAPA/AAAAAACAS0AAAAAAAAAIQAAAAAAAgEVAAAAAAABAcEAAAAAAAKyUQAAAAAAAAPA/AAAAAABskkAAAAAAAKBzQAAAAAAAAPA/AAAAAAAACEAAAAAAAAAIQAAAAAAAAPA/AAAAAACASUAAAAAAAADwPwAAAAAAAPA/AAAAAAAGtUAAAAAAAADwPwAAAAAAAPA/",
          "dtype": "f8"
         }
        }
       ],
       "layout": {
        "autosize": true,
        "barmode": "group",
        "legend": {
         "bgcolor": "rgba(255, 255, 255, 0.5)",
         "x": 0.01,
         "xanchor": "left",
         "y": 0.99,
         "yanchor": "top"
        },
        "margin": {
         "b": 10,
         "l": 10,
         "r": 10,
         "t": 10
        },
        "template": {
         "data": {
          "bar": [
           {
            "error_x": {
             "color": "#2a3f5f"
            },
            "error_y": {
             "color": "#2a3f5f"
            },
            "marker": {
             "line": {
              "color": "#E5ECF6",
              "width": 0.5
             },
             "pattern": {
              "fillmode": "overlay",
              "size": 10,
              "solidity": 0.2
             }
            },
            "type": "bar"
           }
          ],
          "barpolar": [
           {
            "marker": {
             "line": {
              "color": "#E5ECF6",
              "width": 0.5
             },
             "pattern": {
              "fillmode": "overlay",
              "size": 10,
              "solidity": 0.2
             }
            },
            "type": "barpolar"
           }
          ],
          "carpet": [
           {
            "aaxis": {
             "endlinecolor": "#2a3f5f",
             "gridcolor": "white",
             "linecolor": "white",
             "minorgridcolor": "white",
             "startlinecolor": "#2a3f5f"
            },
            "baxis": {
             "endlinecolor": "#2a3f5f",
             "gridcolor": "white",
             "linecolor": "white",
             "minorgridcolor": "white",
             "startlinecolor": "#2a3f5f"
            },
            "type": "carpet"
           }
          ],
          "choropleth": [
           {
            "colorbar": {
             "outlinewidth": 0,
             "ticks": ""
            },
            "type": "choropleth"
           }
          ],
          "contour": [
           {
            "colorbar": {
             "outlinewidth": 0,
             "ticks": ""
            },
            "colorscale": [
             [
              0,
              "#0d0887"
             ],
             [
              0.1111111111111111,
              "#46039f"
             ],
             [
              0.2222222222222222,
              "#7201a8"
             ],
             [
              0.3333333333333333,
              "#9c179e"
             ],
             [
              0.4444444444444444,
              "#bd3786"
             ],
             [
              0.5555555555555556,
              "#d8576b"
             ],
             [
              0.6666666666666666,
              "#ed7953"
             ],
             [
              0.7777777777777778,
              "#fb9f3a"
             ],
             [
              0.8888888888888888,
              "#fdca26"
             ],
             [
              1,
              "#f0f921"
             ]
            ],
            "type": "contour"
           }
          ],
          "contourcarpet": [
           {
            "colorbar": {
             "outlinewidth": 0,
             "ticks": ""
            },
            "type": "contourcarpet"
           }
          ],
          "heatmap": [
           {
            "colorbar": {
             "outlinewidth": 0,
             "ticks": ""
            },
            "colorscale": [
             [
              0,
              "#0d0887"
             ],
             [
              0.1111111111111111,
              "#46039f"
             ],
             [
              0.2222222222222222,
              "#7201a8"
             ],
             [
              0.3333333333333333,
              "#9c179e"
             ],
             [
              0.4444444444444444,
              "#bd3786"
             ],
             [
              0.5555555555555556,
              "#d8576b"
             ],
             [
              0.6666666666666666,
              "#ed7953"
             ],
             [
              0.7777777777777778,
              "#fb9f3a"
             ],
             [
              0.8888888888888888,
              "#fdca26"
             ],
             [
              1,
              "#f0f921"
             ]
            ],
            "type": "heatmap"
           }
          ],
          "histogram": [
           {
            "marker": {
             "pattern": {
              "fillmode": "overlay",
              "size": 10,
              "solidity": 0.2
             }
            },
            "type": "histogram"
           }
          ],
          "histogram2d": [
           {
            "colorbar": {
             "outlinewidth": 0,
             "ticks": ""
            },
            "colorscale": [
             [
              0,
              "#0d0887"
             ],
             [
              0.1111111111111111,
              "#46039f"
             ],
             [
              0.2222222222222222,
              "#7201a8"
             ],
             [
              0.3333333333333333,
              "#9c179e"
             ],
             [
              0.4444444444444444,
              "#bd3786"
             ],
             [
              0.5555555555555556,
              "#d8576b"
             ],
             [
              0.6666666666666666,
              "#ed7953"
             ],
             [
              0.7777777777777778,
              "#fb9f3a"
             ],
             [
              0.8888888888888888,
              "#fdca26"
             ],
             [
              1,
              "#f0f921"
             ]
            ],
            "type": "histogram2d"
           }
          ],
          "histogram2dcontour": [
           {
            "colorbar": {
             "outlinewidth": 0,
             "ticks": ""
            },
            "colorscale": [
             [
              0,
              "#0d0887"
             ],
             [
              0.1111111111111111,
              "#46039f"
             ],
             [
              0.2222222222222222,
              "#7201a8"
             ],
             [
              0.3333333333333333,
              "#9c179e"
             ],
             [
              0.4444444444444444,
              "#bd3786"
             ],
             [
              0.5555555555555556,
              "#d8576b"
             ],
             [
              0.6666666666666666,
              "#ed7953"
             ],
             [
              0.7777777777777778,
              "#fb9f3a"
             ],
             [
              0.8888888888888888,
              "#fdca26"
             ],
             [
              1,
              "#f0f921"
             ]
            ],
            "type": "histogram2dcontour"
           }
          ],
          "mesh3d": [
           {
            "colorbar": {
             "outlinewidth": 0,
             "ticks": ""
            },
            "type": "mesh3d"
           }
          ],
          "parcoords": [
           {
            "line": {
             "colorbar": {
              "outlinewidth": 0,
              "ticks": ""
             }
            },
            "type": "parcoords"
           }
          ],
          "pie": [
           {
            "automargin": true,
            "type": "pie"
           }
          ],
          "scatter": [
           {
            "fillpattern": {
             "fillmode": "overlay",
             "size": 10,
             "solidity": 0.2
            },
            "type": "scatter"
           }
          ],
          "scatter3d": [
           {
            "line": {
             "colorbar": {
              "outlinewidth": 0,
              "ticks": ""
             }
            },
            "marker": {
             "colorbar": {
              "outlinewidth": 0,
              "ticks": ""
             }
            },
            "type": "scatter3d"
           }
          ],
          "scattercarpet": [
           {
            "marker": {
             "colorbar": {
              "outlinewidth": 0,
              "ticks": ""
             }
            },
            "type": "scattercarpet"
           }
          ],
          "scattergeo": [
           {
            "marker": {
             "colorbar": {
              "outlinewidth": 0,
              "ticks": ""
             }
            },
            "type": "scattergeo"
           }
          ],
          "scattergl": [
           {
            "marker": {
             "colorbar": {
              "outlinewidth": 0,
              "ticks": ""
             }
            },
            "type": "scattergl"
           }
          ],
          "scattermap": [
           {
            "marker": {
             "colorbar": {
              "outlinewidth": 0,
              "ticks": ""
             }
            },
            "type": "scattermap"
           }
          ],
          "scattermapbox": [
           {
            "marker": {
             "colorbar": {
              "outlinewidth": 0,
              "ticks": ""
             }
            },
            "type": "scattermapbox"
           }
          ],
          "scatterpolar": [
           {
            "marker": {
             "colorbar": {
              "outlinewidth": 0,
              "ticks": ""
             }
            },
            "type": "scatterpolar"
           }
          ],
          "scatterpolargl": [
           {
            "marker": {
             "colorbar": {
              "outlinewidth": 0,
              "ticks": ""
             }
            },
            "type": "scatterpolargl"
           }
          ],
          "scatterternary": [
           {
            "marker": {
             "colorbar": {
              "outlinewidth": 0,
              "ticks": ""
             }
            },
            "type": "scatterternary"
           }
          ],
          "surface": [
           {
            "colorbar": {
             "outlinewidth": 0,
             "ticks": ""
            },
            "colorscale": [
             [
              0,
              "#0d0887"
             ],
             [
              0.1111111111111111,
              "#46039f"
             ],
             [
              0.2222222222222222,
              "#7201a8"
             ],
             [
              0.3333333333333333,
              "#9c179e"
             ],
             [
              0.4444444444444444,
              "#bd3786"
             ],
             [
              0.5555555555555556,
              "#d8576b"
             ],
             [
              0.6666666666666666,
              "#ed7953"
             ],
             [
              0.7777777777777778,
              "#fb9f3a"
             ],
             [
              0.8888888888888888,
              "#fdca26"
             ],
             [
              1,
              "#f0f921"
             ]
            ],
            "type": "surface"
           }
          ],
          "table": [
           {
            "cells": {
             "fill": {
              "color": "#EBF0F8"
             },
             "line": {
              "color": "white"
             }
            },
            "header": {
             "fill": {
              "color": "#C8D4E3"
             },
             "line": {
              "color": "white"
             }
            },
            "type": "table"
           }
          ]
         },
         "layout": {
          "annotationdefaults": {
           "arrowcolor": "#2a3f5f",
           "arrowhead": 0,
           "arrowwidth": 1
          },
          "autotypenumbers": "strict",
          "coloraxis": {
           "colorbar": {
            "outlinewidth": 0,
            "ticks": ""
           }
          },
          "colorscale": {
           "diverging": [
            [
             0,
             "#8e0152"
            ],
            [
             0.1,
             "#c51b7d"
            ],
            [
             0.2,
             "#de77ae"
            ],
            [
             0.3,
             "#f1b6da"
            ],
            [
             0.4,
             "#fde0ef"
            ],
            [
             0.5,
             "#f7f7f7"
            ],
            [
             0.6,
             "#e6f5d0"
            ],
            [
             0.7,
             "#b8e186"
            ],
            [
             0.8,
             "#7fbc41"
            ],
            [
             0.9,
             "#4d9221"
            ],
            [
             1,
             "#276419"
            ]
           ],
           "sequential": [
            [
             0,
             "#0d0887"
            ],
            [
             0.1111111111111111,
             "#46039f"
            ],
            [
             0.2222222222222222,
             "#7201a8"
            ],
            [
             0.3333333333333333,
             "#9c179e"
            ],
            [
             0.4444444444444444,
             "#bd3786"
            ],
            [
             0.5555555555555556,
             "#d8576b"
            ],
            [
             0.6666666666666666,
             "#ed7953"
            ],
            [
             0.7777777777777778,
             "#fb9f3a"
            ],
            [
             0.8888888888888888,
             "#fdca26"
            ],
            [
             1,
             "#f0f921"
            ]
           ],
           "sequentialminus": [
            [
             0,
             "#0d0887"
            ],
            [
             0.1111111111111111,
             "#46039f"
            ],
            [
             0.2222222222222222,
             "#7201a8"
            ],
            [
             0.3333333333333333,
             "#9c179e"
            ],
            [
             0.4444444444444444,
             "#bd3786"
            ],
            [
             0.5555555555555556,
             "#d8576b"
            ],
            [
             0.6666666666666666,
             "#ed7953"
            ],
            [
             0.7777777777777778,
             "#fb9f3a"
            ],
            [
             0.8888888888888888,
             "#fdca26"
            ],
            [
             1,
             "#f0f921"
            ]
           ]
          },
          "colorway": [
           "#636efa",
           "#EF553B",
           "#00cc96",
           "#ab63fa",
           "#FFA15A",
           "#19d3f3",
           "#FF6692",
           "#B6E880",
           "#FF97FF",
           "#FECB52"
          ],
          "font": {
           "color": "#2a3f5f"
          },
          "geo": {
           "bgcolor": "white",
           "lakecolor": "white",
           "landcolor": "#E5ECF6",
           "showlakes": true,
           "showland": true,
           "subunitcolor": "white"
          },
          "hoverlabel": {
           "align": "left"
          },
          "hovermode": "closest",
          "mapbox": {
           "style": "light"
          },
          "paper_bgcolor": "white",
          "plot_bgcolor": "#E5ECF6",
          "polar": {
           "angularaxis": {
            "gridcolor": "white",
            "linecolor": "white",
            "ticks": ""
           },
           "bgcolor": "#E5ECF6",
           "radialaxis": {
            "gridcolor": "white",
            "linecolor": "white",
            "ticks": ""
           }
          },
          "scene": {
           "xaxis": {
            "backgroundcolor": "#E5ECF6",
            "gridcolor": "white",
            "gridwidth": 2,
            "linecolor": "white",
            "showbackground": true,
            "ticks": "",
            "zerolinecolor": "white"
           },
           "yaxis": {
            "backgroundcolor": "#E5ECF6",
            "gridcolor": "white",
            "gridwidth": 2,
            "linecolor": "white",
            "showbackground": true,
            "ticks": "",
            "zerolinecolor": "white"
           },
           "zaxis": {
            "backgroundcolor": "#E5ECF6",
            "gridcolor": "white",
            "gridwidth": 2,
            "linecolor": "white",
            "showbackground": true,
            "ticks": "",
            "zerolinecolor": "white"
           }
          },
          "shapedefaults": {
           "line": {
            "color": "#2a3f5f"
           }
          },
          "ternary": {
           "aaxis": {
            "gridcolor": "white",
            "linecolor": "white",
            "ticks": ""
           },
           "baxis": {
            "gridcolor": "white",
            "linecolor": "white",
            "ticks": ""
           },
           "bgcolor": "#E5ECF6",
           "caxis": {
            "gridcolor": "white",
            "linecolor": "white",
            "ticks": ""
           }
          },
          "title": {
           "x": 0.05
          },
          "xaxis": {
           "automargin": true,
           "gridcolor": "white",
           "linecolor": "white",
           "ticks": "",
           "title": {
            "standoff": 15
           },
           "zerolinecolor": "white",
           "zerolinewidth": 2
          },
          "yaxis": {
           "automargin": true,
           "gridcolor": "white",
           "linecolor": "white",
           "ticks": "",
           "title": {
            "standoff": 15
           },
           "zerolinecolor": "white",
           "zerolinewidth": 2
          }
         }
        },
        "xaxis": {
         "tickmode": "array",
         "ticktext": [
          0,
          1,
          2,
          3,
          4,
          5,
          6,
          7,
          8,
          9,
          10,
          11,
          12,
          13,
          14,
          15,
          16,
          17,
          18,
          19,
          20,
          21,
          22,
          23,
          24,
          25,
          26,
          27
         ],
         "tickvals": [
          0,
          1,
          2,
          3,
          4,
          5,
          6,
          7,
          8,
          9,
          10,
          11,
          12,
          13,
          14,
          15,
          16,
          17,
          18,
          19,
          20,
          21,
          22,
          23,
          24,
          25,
          26,
          27
         ],
         "title": {
          "text": "Problem Instance (ID)"
         }
        },
        "yaxis": {
         "title": {
          "text": "Nodes (log-scale)"
         },
         "type": "log"
        }
       }
      }
     },
     "metadata": {},
     "output_type": "display_data"
    }
   ],
   "source": [
    "import plotly.graph_objects as go\n",
    "\n",
    "# Create bar plot with visible zeros\n",
    "# hovertemplate_text='Model: %{customdata[0]}<br>ID: %{x}<br>Gap: %{text}%<br>Nodes: %{customdata[1]}<br>Runtime: %{customdata[2]} s<extra></extra>'\n",
    "hovertemplate_text='Model: %{customdata[0]}<br>ID: %{x}<br>N: %{customdata[1]}<br>J: %{customdata[2]}<br>T: %{customdata[3]}<br>Gap: %{text}%<br>Nodes: %{customdata[4]}<br>Runtime: %{customdata[5]} s<extra></extra>'\n",
    "fig = go.Figure(data=[\n",
    "    go.Bar(\n",
    "        name='Model 0', \n",
    "        x=df0['ID'], \n",
    "        y=df0['nodes'],\n",
    "        text=df0['gap'].apply(format_gap),  # Format text to 2 decimal places\n",
    "        # Create a 2D array with multiple columns\n",
    "        customdata=np.dstack((\n",
    "            df0['model'], \n",
    "            df0['N'], \n",
    "            df0['J'], \n",
    "            df0['T'], \n",
    "            df0['nodes'], \n",
    "            df0['total_time'].apply(format_gap)\n",
    "        ))[0],\n",
    "        textposition='none',\n",
    "        hovertemplate=hovertemplate_text\n",
    "    ),\n",
    "    go.Bar(\n",
    "        name='Model 1', \n",
    "        x=df1['ID'], \n",
    "        y=df1['nodes'],\n",
    "        text=df1['gap'].apply(format_gap),\n",
    "        customdata=np.dstack((\n",
    "            df1['model'], \n",
    "            df1['N'], \n",
    "            df1['J'], \n",
    "            df1['T'], \n",
    "            df1['nodes'], \n",
    "            df1['total_time'].apply(format_gap)\n",
    "        ))[0],\n",
    "        textposition='none',\n",
    "        hovertemplate=hovertemplate_text\n",
    "    ),\n",
    "    go.Bar(\n",
    "        name='Model 2', \n",
    "        x=df2['ID'], \n",
    "        y=df2['nodes'],\n",
    "        text=df2['gap'].apply(format_gap),\n",
    "        customdata=np.dstack((\n",
    "            df2['model'], \n",
    "            df2['N'], \n",
    "            df2['J'], \n",
    "            df2['T'], \n",
    "            df2['nodes'], \n",
    "            df2['total_time'].apply(format_gap)\n",
    "        ))[0],\n",
    "        textposition='none',\n",
    "        hovertemplate=hovertemplate_text\n",
    "    ),\n",
    "])\n",
    "\n",
    "# Add a subtle visual indication for zero values\n",
    "fig.update_layout(\n",
    "    autosize=True,   # let the container size drive the plot\n",
    "    margin=dict(l=10, r=10, t=10, b=10),    # width=1000,\n",
    "    # width=1000,\n",
    "    # height=600,\n",
    "    barmode='group',\n",
    "    yaxis = dict(\n",
    "        title = 'Nodes (log-scale)',\n",
    "        type='log',\n",
    "    ),\n",
    "    xaxis = dict(\n",
    "        title = 'Problem Instance (ID)',\n",
    "        tickmode = 'array',\n",
    "        tickvals = list(range(0, 28)),\n",
    "        ticktext = list(range(0, 28)),\n",
    "    ),\n",
    "    legend=dict(\n",
    "        x=0.01,\n",
    "        y=0.99,\n",
    "        xanchor='left',\n",
    "        yanchor='top',\n",
    "        bgcolor='rgba(255, 255, 255, 0.5)'\n",
    "    )\n",
    ")\n",
    "\n",
    "fig.show()\n",
    "\n",
    "# # Save as HTML\n",
    "# div_schedule = plot(\n",
    "#     fig, include_plotlyjs=True, config={\"responsive\": True}, output_type=\"div\"\n",
    "# )\n",
    "# # write div snippet to file\n",
    "# with open('../docs/images/results-nodes.html', 'w') as f:\n",
    "#     f.write(div_schedule)\n"
   ]
  },
  {
   "cell_type": "code",
   "execution_count": null,
   "id": "c8403b29",
   "metadata": {},
   "outputs": [
    {
     "data": {
      "application/vnd.plotly.v1+json": {
       "config": {
        "plotlyServerURL": "https://plot.ly"
       },
       "data": [
        {
         "customdata": [
          [
           0,
           3,
           "0.22"
          ],
          [
           0,
           931,
           "27.07"
          ],
          [
           0,
           193,
           "24.98"
          ],
          [
           0,
           641,
           "3.34"
          ],
          [
           0,
           5543,
           "300.00"
          ],
          [
           0,
           616,
           "300.00"
          ],
          [
           0,
           26677,
           "300.00"
          ],
          [
           0,
           751,
           "300.01"
          ],
          [
           0,
           735,
           "300.01"
          ],
          [
           0,
           60,
           "2.87"
          ],
          [
           0,
           3,
           "19.91"
          ],
          [
           0,
           59,
           "88.71"
          ],
          [
           0,
           403,
           "16.40"
          ],
          [
           0,
           1035,
           "300.00"
          ],
          [
           0,
           82,
           "300.02"
          ],
          [
           0,
           1132,
           "29.12"
          ],
          [
           0,
           701,
           "300.00"
          ],
          [
           0,
           1,
           "300.13"
          ],
          [
           0,
           3,
           "10.07"
          ],
          [
           0,
           3,
           "150.74"
          ],
          [
           0,
           1,
           "300.13"
          ],
          [
           0,
           74,
           "45.49"
          ],
          [
           0,
           1,
           "300.02"
          ],
          [
           0,
           1,
           "301.61"
          ],
          [
           0,
           1625,
           "300.07"
          ],
          [
           0,
           1,
           "300.04"
          ],
          [
           0,
           1,
           "300.78"
          ]
         ],
         "hovertemplate": "Model: %{customdata[0]}<br>ID: %{x}<br>Gap: %{text}%<br>Nodes: %{customdata[1]}<br>Runtime: %{customdata[2]} s<extra></extra>",
         "name": "Model 0",
         "text": [
          "0.00",
          "0.00",
          "0.01",
          "0.00",
          "inf",
          "inf",
          "253.21",
          "inf",
          "inf",
          "0.00",
          "0.00",
          "0.00",
          "0.00",
          "inf",
          "inf",
          "0.00",
          "inf",
          "inf",
          "0.00",
          "0.00",
          "inf",
          "0.00",
          "inf",
          "inf",
          "11.14",
          "inf",
          "inf"
         ],
         "textposition": "none",
         "type": "bar",
         "x": {
          "bdata": "AQIDBAUGBwgJCgsMDQ4PEBESExQVFhcYGRob",
          "dtype": "i1"
         },
         "y": {
          "bdata": "/v///1WGyz8AAABMixI7QAAAAISR+zhAAAAAgHbACkAAAMC3BsByQAAAQJEDwHJAAACA1wTAckAAAMD2GsByQAAAQLErwHJAAAAAQEjvBkAAAAC4/OczQAAAAO54LVZAAAAAZJ5lMEAAAMDPDcByQAAAQFc/wHJAAAAANMAdPUAAAAAFCsByQAAAAHYRwnJAAQAA6LQlJEAAAIC50NdiQAAAgFMQwnJAAAAA/D2/RkAAAACnVcByQAAAALe12XJAAABALA3BckAAAIBBocByQAAAQPqKzHJA",
          "dtype": "f8"
         }
        },
        {
         "customdata": [
          [
           1,
           3,
           "0.22"
          ],
          [
           1,
           1111,
           "30.58"
          ],
          [
           1,
           86,
           "19.41"
          ],
          [
           1,
           80836,
           "300.00"
          ],
          [
           1,
           6337,
           "300.01"
          ],
          [
           1,
           655,
           "300.00"
          ],
          [
           1,
           34208,
           "300.00"
          ],
          [
           1,
           718,
           "300.00"
          ],
          [
           1,
           702,
           "300.00"
          ],
          [
           1,
           55,
           "2.60"
          ],
          [
           1,
           3,
           "15.70"
          ],
          [
           1,
           38,
           "62.60"
          ],
          [
           1,
           334,
           "13.72"
          ],
          [
           1,
           1412,
           "300.05"
          ],
          [
           1,
           74,
           "300.09"
          ],
          [
           1,
           1156,
           "34.44"
          ],
          [
           1,
           587,
           "300.04"
          ],
          [
           1,
           1,
           "300.05"
          ],
          [
           1,
           3,
           "12.13"
          ],
          [
           1,
           3,
           "177.94"
          ],
          [
           1,
           1,
           "301.79"
          ],
          [
           1,
           44,
           "27.61"
          ],
          [
           1,
           1,
           "300.15"
          ],
          [
           1,
           1,
           "300.69"
          ],
          [
           1,
           5753,
           "300.04"
          ],
          [
           1,
           1,
           "300.17"
          ],
          [
           1,
           1,
           "302.32"
          ]
         ],
         "hovertemplate": "Model: %{customdata[0]}<br>ID: %{x}<br>Gap: %{text}%<br>Nodes: %{customdata[1]}<br>Runtime: %{customdata[2]} s<extra></extra>",
         "name": "Model 1",
         "text": [
          "0.00",
          "0.00",
          "0.00",
          "16.93",
          "48.00",
          "87.81",
          "242.12",
          "103.37",
          "124.38",
          "0.00",
          "0.00",
          "0.00",
          "0.00",
          "17.26",
          "29.37",
          "0.00",
          "114.32",
          "3057.30",
          "0.00",
          "0.00",
          "76970.17",
          "0.00",
          "22997.23",
          "23526.60",
          "2.31",
          "13188.85",
          "12472.79"
         ],
         "textposition": "none",
         "type": "bar",
         "x": {
          "bdata": "AQIDBAUGBwgJCgsMDQ4PEBESExQVFhcYGRob",
          "dtype": "i1"
         },
         "y": {
          "bdata": "/f///+eFyz8AAACYKZU+QAAAAASBaTNAAADA5AbAckAAAAB7IcByQAAAgA8JwHJAAACAEgTAckAAAAChCsByQAAAwKEMwHJAAAAAAHvIBEAAAAAwn2QvQAAAAFymTE9AAAAAiBtwK0AAAEBJ1sByQAAAAA93wXJAAAAAgkg4QUAAAICyr8ByQAAAgFfYwHJAAQAAmBBCKEAAAICkCj5mQAAAQJ2e3HJAAgAAWL2bO0AAAABDecJyQAAAAMYQy3JAAAAAt6/AckAAAIAZt8JyQAAAAMMO5XJA",
          "dtype": "f8"
         }
        },
        {
         "customdata": [
          [
           2,
           3,
           "0.21"
          ],
          [
           2,
           63,
           "5.92"
          ],
          [
           2,
           102,
           "26.48"
          ],
          [
           2,
           624,
           "3.65"
          ],
          [
           2,
           1788,
           "300.00"
          ],
          [
           2,
           231,
           "300.04"
          ],
          [
           2,
           22890,
           "300.00"
          ],
          [
           2,
           547,
           "300.01"
          ],
          [
           2,
           1,
           "300.07"
          ],
          [
           2,
           55,
           "2.33"
          ],
          [
           2,
           3,
           "16.50"
          ],
          [
           2,
           43,
           "72.68"
          ],
          [
           2,
           260,
           "10.38"
          ],
          [
           2,
           1323,
           "300.04"
          ],
          [
           2,
           1,
           "300.28"
          ],
          [
           2,
           1179,
           "38.46"
          ],
          [
           2,
           314,
           "300.05"
          ],
          [
           2,
           1,
           "300.07"
          ],
          [
           2,
           3,
           "14.09"
          ],
          [
           2,
           3,
           "140.89"
          ],
          [
           2,
           1,
           "301.95"
          ],
          [
           2,
           51,
           "27.68"
          ],
          [
           2,
           1,
           "300.15"
          ],
          [
           2,
           1,
           "300.52"
          ],
          [
           2,
           5382,
           "300.04"
          ],
          [
           2,
           1,
           "300.68"
          ],
          [
           2,
           1,
           "300.50"
          ]
         ],
         "hovertemplate": "Model: %{customdata[0]}<br>ID: %{x}<br>Gap: %{text}%<br>Nodes: %{customdata[1]}<br>Runtime: %{customdata[2]} s<extra></extra>",
         "name": "Model 2",
         "text": [
          "0.00",
          "0.00",
          "0.00",
          "0.00",
          "55.18",
          "114.02",
          "248.45",
          "140.45",
          "929.74",
          "0.00",
          "0.00",
          "0.00",
          "0.00",
          "25.98",
          "352.86",
          "0.00",
          "113.40",
          "3057.30",
          "0.00",
          "0.00",
          "76970.17",
          "0.00",
          "22997.23",
          "23526.60",
          "2.67",
          "13188.85",
          "12472.79"
         ],
         "textposition": "none",
         "type": "bar",
         "x": {
          "bdata": "AQIDBAUGBwgJCgsMDQ4PEBESExQVFhcYGRob",
          "dtype": "i1"
         },
         "y": {
          "bdata": "/v///8tiyj8AAADAIKkXQAEAABBAejpA/v//X9ApDUAAAIBRD8ByQAAAQGyiwHJAAAAAyALAckAAAABgJsByQAAAAHAtwXJA////HyqbAkAAAABou34wQAAAAE5gK1JAAAAAQCzDJEAAAADlocByQAAAQIaAxHJAAAAAVvc6Q0AAAEBO3sByQAEAQGcuwXJAAQAAyKQuLEAAAIAxXZxhQAAAgG8/33JAAQAAuNutO0AAAMBbaMJyQAAAwD1PyHJAAADAVqzAckAAAMBT3spyQAAAgI/sx3JA",
          "dtype": "f8"
         }
        }
       ],
       "layout": {
        "autosize": true,
        "barmode": "group",
        "legend": {
         "bgcolor": "rgba(255, 255, 255, 0.5)",
         "x": 0.01,
         "xanchor": "left",
         "y": 0.99,
         "yanchor": "top"
        },
        "margin": {
         "b": 10,
         "l": 10,
         "r": 10,
         "t": 10
        },
        "template": {
         "data": {
          "bar": [
           {
            "error_x": {
             "color": "#2a3f5f"
            },
            "error_y": {
             "color": "#2a3f5f"
            },
            "marker": {
             "line": {
              "color": "#E5ECF6",
              "width": 0.5
             },
             "pattern": {
              "fillmode": "overlay",
              "size": 10,
              "solidity": 0.2
             }
            },
            "type": "bar"
           }
          ],
          "barpolar": [
           {
            "marker": {
             "line": {
              "color": "#E5ECF6",
              "width": 0.5
             },
             "pattern": {
              "fillmode": "overlay",
              "size": 10,
              "solidity": 0.2
             }
            },
            "type": "barpolar"
           }
          ],
          "carpet": [
           {
            "aaxis": {
             "endlinecolor": "#2a3f5f",
             "gridcolor": "white",
             "linecolor": "white",
             "minorgridcolor": "white",
             "startlinecolor": "#2a3f5f"
            },
            "baxis": {
             "endlinecolor": "#2a3f5f",
             "gridcolor": "white",
             "linecolor": "white",
             "minorgridcolor": "white",
             "startlinecolor": "#2a3f5f"
            },
            "type": "carpet"
           }
          ],
          "choropleth": [
           {
            "colorbar": {
             "outlinewidth": 0,
             "ticks": ""
            },
            "type": "choropleth"
           }
          ],
          "contour": [
           {
            "colorbar": {
             "outlinewidth": 0,
             "ticks": ""
            },
            "colorscale": [
             [
              0,
              "#0d0887"
             ],
             [
              0.1111111111111111,
              "#46039f"
             ],
             [
              0.2222222222222222,
              "#7201a8"
             ],
             [
              0.3333333333333333,
              "#9c179e"
             ],
             [
              0.4444444444444444,
              "#bd3786"
             ],
             [
              0.5555555555555556,
              "#d8576b"
             ],
             [
              0.6666666666666666,
              "#ed7953"
             ],
             [
              0.7777777777777778,
              "#fb9f3a"
             ],
             [
              0.8888888888888888,
              "#fdca26"
             ],
             [
              1,
              "#f0f921"
             ]
            ],
            "type": "contour"
           }
          ],
          "contourcarpet": [
           {
            "colorbar": {
             "outlinewidth": 0,
             "ticks": ""
            },
            "type": "contourcarpet"
           }
          ],
          "heatmap": [
           {
            "colorbar": {
             "outlinewidth": 0,
             "ticks": ""
            },
            "colorscale": [
             [
              0,
              "#0d0887"
             ],
             [
              0.1111111111111111,
              "#46039f"
             ],
             [
              0.2222222222222222,
              "#7201a8"
             ],
             [
              0.3333333333333333,
              "#9c179e"
             ],
             [
              0.4444444444444444,
              "#bd3786"
             ],
             [
              0.5555555555555556,
              "#d8576b"
             ],
             [
              0.6666666666666666,
              "#ed7953"
             ],
             [
              0.7777777777777778,
              "#fb9f3a"
             ],
             [
              0.8888888888888888,
              "#fdca26"
             ],
             [
              1,
              "#f0f921"
             ]
            ],
            "type": "heatmap"
           }
          ],
          "histogram": [
           {
            "marker": {
             "pattern": {
              "fillmode": "overlay",
              "size": 10,
              "solidity": 0.2
             }
            },
            "type": "histogram"
           }
          ],
          "histogram2d": [
           {
            "colorbar": {
             "outlinewidth": 0,
             "ticks": ""
            },
            "colorscale": [
             [
              0,
              "#0d0887"
             ],
             [
              0.1111111111111111,
              "#46039f"
             ],
             [
              0.2222222222222222,
              "#7201a8"
             ],
             [
              0.3333333333333333,
              "#9c179e"
             ],
             [
              0.4444444444444444,
              "#bd3786"
             ],
             [
              0.5555555555555556,
              "#d8576b"
             ],
             [
              0.6666666666666666,
              "#ed7953"
             ],
             [
              0.7777777777777778,
              "#fb9f3a"
             ],
             [
              0.8888888888888888,
              "#fdca26"
             ],
             [
              1,
              "#f0f921"
             ]
            ],
            "type": "histogram2d"
           }
          ],
          "histogram2dcontour": [
           {
            "colorbar": {
             "outlinewidth": 0,
             "ticks": ""
            },
            "colorscale": [
             [
              0,
              "#0d0887"
             ],
             [
              0.1111111111111111,
              "#46039f"
             ],
             [
              0.2222222222222222,
              "#7201a8"
             ],
             [
              0.3333333333333333,
              "#9c179e"
             ],
             [
              0.4444444444444444,
              "#bd3786"
             ],
             [
              0.5555555555555556,
              "#d8576b"
             ],
             [
              0.6666666666666666,
              "#ed7953"
             ],
             [
              0.7777777777777778,
              "#fb9f3a"
             ],
             [
              0.8888888888888888,
              "#fdca26"
             ],
             [
              1,
              "#f0f921"
             ]
            ],
            "type": "histogram2dcontour"
           }
          ],
          "mesh3d": [
           {
            "colorbar": {
             "outlinewidth": 0,
             "ticks": ""
            },
            "type": "mesh3d"
           }
          ],
          "parcoords": [
           {
            "line": {
             "colorbar": {
              "outlinewidth": 0,
              "ticks": ""
             }
            },
            "type": "parcoords"
           }
          ],
          "pie": [
           {
            "automargin": true,
            "type": "pie"
           }
          ],
          "scatter": [
           {
            "fillpattern": {
             "fillmode": "overlay",
             "size": 10,
             "solidity": 0.2
            },
            "type": "scatter"
           }
          ],
          "scatter3d": [
           {
            "line": {
             "colorbar": {
              "outlinewidth": 0,
              "ticks": ""
             }
            },
            "marker": {
             "colorbar": {
              "outlinewidth": 0,
              "ticks": ""
             }
            },
            "type": "scatter3d"
           }
          ],
          "scattercarpet": [
           {
            "marker": {
             "colorbar": {
              "outlinewidth": 0,
              "ticks": ""
             }
            },
            "type": "scattercarpet"
           }
          ],
          "scattergeo": [
           {
            "marker": {
             "colorbar": {
              "outlinewidth": 0,
              "ticks": ""
             }
            },
            "type": "scattergeo"
           }
          ],
          "scattergl": [
           {
            "marker": {
             "colorbar": {
              "outlinewidth": 0,
              "ticks": ""
             }
            },
            "type": "scattergl"
           }
          ],
          "scattermap": [
           {
            "marker": {
             "colorbar": {
              "outlinewidth": 0,
              "ticks": ""
             }
            },
            "type": "scattermap"
           }
          ],
          "scattermapbox": [
           {
            "marker": {
             "colorbar": {
              "outlinewidth": 0,
              "ticks": ""
             }
            },
            "type": "scattermapbox"
           }
          ],
          "scatterpolar": [
           {
            "marker": {
             "colorbar": {
              "outlinewidth": 0,
              "ticks": ""
             }
            },
            "type": "scatterpolar"
           }
          ],
          "scatterpolargl": [
           {
            "marker": {
             "colorbar": {
              "outlinewidth": 0,
              "ticks": ""
             }
            },
            "type": "scatterpolargl"
           }
          ],
          "scatterternary": [
           {
            "marker": {
             "colorbar": {
              "outlinewidth": 0,
              "ticks": ""
             }
            },
            "type": "scatterternary"
           }
          ],
          "surface": [
           {
            "colorbar": {
             "outlinewidth": 0,
             "ticks": ""
            },
            "colorscale": [
             [
              0,
              "#0d0887"
             ],
             [
              0.1111111111111111,
              "#46039f"
             ],
             [
              0.2222222222222222,
              "#7201a8"
             ],
             [
              0.3333333333333333,
              "#9c179e"
             ],
             [
              0.4444444444444444,
              "#bd3786"
             ],
             [
              0.5555555555555556,
              "#d8576b"
             ],
             [
              0.6666666666666666,
              "#ed7953"
             ],
             [
              0.7777777777777778,
              "#fb9f3a"
             ],
             [
              0.8888888888888888,
              "#fdca26"
             ],
             [
              1,
              "#f0f921"
             ]
            ],
            "type": "surface"
           }
          ],
          "table": [
           {
            "cells": {
             "fill": {
              "color": "#EBF0F8"
             },
             "line": {
              "color": "white"
             }
            },
            "header": {
             "fill": {
              "color": "#C8D4E3"
             },
             "line": {
              "color": "white"
             }
            },
            "type": "table"
           }
          ]
         },
         "layout": {
          "annotationdefaults": {
           "arrowcolor": "#2a3f5f",
           "arrowhead": 0,
           "arrowwidth": 1
          },
          "autotypenumbers": "strict",
          "coloraxis": {
           "colorbar": {
            "outlinewidth": 0,
            "ticks": ""
           }
          },
          "colorscale": {
           "diverging": [
            [
             0,
             "#8e0152"
            ],
            [
             0.1,
             "#c51b7d"
            ],
            [
             0.2,
             "#de77ae"
            ],
            [
             0.3,
             "#f1b6da"
            ],
            [
             0.4,
             "#fde0ef"
            ],
            [
             0.5,
             "#f7f7f7"
            ],
            [
             0.6,
             "#e6f5d0"
            ],
            [
             0.7,
             "#b8e186"
            ],
            [
             0.8,
             "#7fbc41"
            ],
            [
             0.9,
             "#4d9221"
            ],
            [
             1,
             "#276419"
            ]
           ],
           "sequential": [
            [
             0,
             "#0d0887"
            ],
            [
             0.1111111111111111,
             "#46039f"
            ],
            [
             0.2222222222222222,
             "#7201a8"
            ],
            [
             0.3333333333333333,
             "#9c179e"
            ],
            [
             0.4444444444444444,
             "#bd3786"
            ],
            [
             0.5555555555555556,
             "#d8576b"
            ],
            [
             0.6666666666666666,
             "#ed7953"
            ],
            [
             0.7777777777777778,
             "#fb9f3a"
            ],
            [
             0.8888888888888888,
             "#fdca26"
            ],
            [
             1,
             "#f0f921"
            ]
           ],
           "sequentialminus": [
            [
             0,
             "#0d0887"
            ],
            [
             0.1111111111111111,
             "#46039f"
            ],
            [
             0.2222222222222222,
             "#7201a8"
            ],
            [
             0.3333333333333333,
             "#9c179e"
            ],
            [
             0.4444444444444444,
             "#bd3786"
            ],
            [
             0.5555555555555556,
             "#d8576b"
            ],
            [
             0.6666666666666666,
             "#ed7953"
            ],
            [
             0.7777777777777778,
             "#fb9f3a"
            ],
            [
             0.8888888888888888,
             "#fdca26"
            ],
            [
             1,
             "#f0f921"
            ]
           ]
          },
          "colorway": [
           "#636efa",
           "#EF553B",
           "#00cc96",
           "#ab63fa",
           "#FFA15A",
           "#19d3f3",
           "#FF6692",
           "#B6E880",
           "#FF97FF",
           "#FECB52"
          ],
          "font": {
           "color": "#2a3f5f"
          },
          "geo": {
           "bgcolor": "white",
           "lakecolor": "white",
           "landcolor": "#E5ECF6",
           "showlakes": true,
           "showland": true,
           "subunitcolor": "white"
          },
          "hoverlabel": {
           "align": "left"
          },
          "hovermode": "closest",
          "mapbox": {
           "style": "light"
          },
          "paper_bgcolor": "white",
          "plot_bgcolor": "#E5ECF6",
          "polar": {
           "angularaxis": {
            "gridcolor": "white",
            "linecolor": "white",
            "ticks": ""
           },
           "bgcolor": "#E5ECF6",
           "radialaxis": {
            "gridcolor": "white",
            "linecolor": "white",
            "ticks": ""
           }
          },
          "scene": {
           "xaxis": {
            "backgroundcolor": "#E5ECF6",
            "gridcolor": "white",
            "gridwidth": 2,
            "linecolor": "white",
            "showbackground": true,
            "ticks": "",
            "zerolinecolor": "white"
           },
           "yaxis": {
            "backgroundcolor": "#E5ECF6",
            "gridcolor": "white",
            "gridwidth": 2,
            "linecolor": "white",
            "showbackground": true,
            "ticks": "",
            "zerolinecolor": "white"
           },
           "zaxis": {
            "backgroundcolor": "#E5ECF6",
            "gridcolor": "white",
            "gridwidth": 2,
            "linecolor": "white",
            "showbackground": true,
            "ticks": "",
            "zerolinecolor": "white"
           }
          },
          "shapedefaults": {
           "line": {
            "color": "#2a3f5f"
           }
          },
          "ternary": {
           "aaxis": {
            "gridcolor": "white",
            "linecolor": "white",
            "ticks": ""
           },
           "baxis": {
            "gridcolor": "white",
            "linecolor": "white",
            "ticks": ""
           },
           "bgcolor": "#E5ECF6",
           "caxis": {
            "gridcolor": "white",
            "linecolor": "white",
            "ticks": ""
           }
          },
          "title": {
           "x": 0.05
          },
          "xaxis": {
           "automargin": true,
           "gridcolor": "white",
           "linecolor": "white",
           "ticks": "",
           "title": {
            "standoff": 15
           },
           "zerolinecolor": "white",
           "zerolinewidth": 2
          },
          "yaxis": {
           "automargin": true,
           "gridcolor": "white",
           "linecolor": "white",
           "ticks": "",
           "title": {
            "standoff": 15
           },
           "zerolinecolor": "white",
           "zerolinewidth": 2
          }
         }
        },
        "xaxis": {
         "tickmode": "array",
         "ticktext": [
          0,
          1,
          2,
          3,
          4,
          5,
          6,
          7,
          8,
          9,
          10,
          11,
          12,
          13,
          14,
          15,
          16,
          17,
          18,
          19,
          20,
          21,
          22,
          23,
          24,
          25,
          26,
          27
         ],
         "tickvals": [
          0,
          1,
          2,
          3,
          4,
          5,
          6,
          7,
          8,
          9,
          10,
          11,
          12,
          13,
          14,
          15,
          16,
          17,
          18,
          19,
          20,
          21,
          22,
          23,
          24,
          25,
          26,
          27
         ],
         "title": {
          "text": "Problem Istance (ID)"
         }
        },
        "yaxis": {
         "title": {
          "text": "Runtime (s)"
         }
        }
       }
      }
     },
     "metadata": {},
     "output_type": "display_data"
    }
   ],
   "source": [
    "# import plotly.graph_objects as go\n",
    "\n",
    "# # Create bar plot with visible zeros\n",
    "# hovertemplate_text='Model: %{customdata[0]}<br>ID: %{x}<br>Gap: %{text}%<br>Nodes: %{customdata[1]}<br>Runtime: %{customdata[2]} s<extra></extra>'\n",
    "# fig = go.Figure(data=[\n",
    "#     go.Bar(\n",
    "#         name='Model 0', \n",
    "#         x=df0['ID'], \n",
    "#         y=df0['runtime'],\n",
    "#         text=df0['gap'].apply(lambda x: f'{x:.2f}'),  # Format text to 2 decimal places\n",
    "#         # Create a 2D array with multiple columns\n",
    "#         customdata=np.dstack((df0['model'], df0['nodes'], df0['runtime'].apply(lambda x: f'{x:.2f}')))[0],\n",
    "#         textposition='none',\n",
    "#         hovertemplate=hovertemplate_text\n",
    "#     ),\n",
    "#     go.Bar(\n",
    "#         name='Model 1', \n",
    "#         x=df1['ID'], \n",
    "#         y=df1['runtime'],\n",
    "#         text=df1['gap'].apply(lambda x: f'{x:.2f}'),\n",
    "#         customdata=np.dstack((df1['model'], df1['nodes'], df1['runtime'].apply(lambda x: f'{x:.2f}')))[0],\n",
    "#         textposition='none',\n",
    "#         hovertemplate=hovertemplate_text\n",
    "#     ),\n",
    "#     go.Bar(\n",
    "#         name='Model 2', \n",
    "#         x=df2['ID'], \n",
    "#         y=df2['runtime'],\n",
    "#         text=df2['gap'].apply(lambda x: f'{x:.2f}'),\n",
    "#         customdata=np.dstack((df2['model'], df2['nodes'], df2['runtime'].apply(lambda x: f'{x:.2f}')))[0],\n",
    "#         textposition='none',\n",
    "#         hovertemplate=hovertemplate_text\n",
    "#     ),\n",
    "# ])\n",
    "\n",
    "# # Add a subtle visual indication for zero values\n",
    "# fig.update_layout(\n",
    "#     autosize=True,   # let the container size drive the plot\n",
    "#     margin=dict(l=10, r=10, t=10, b=10),    # width=1000,\n",
    "#     # width=1000,\n",
    "#     # height=600,\n",
    "#     barmode='group',\n",
    "#     yaxis = dict(\n",
    "#         title = 'Runtime (s)',\n",
    "#     ),\n",
    "#     xaxis = dict(\n",
    "#         title = 'Problem Istance (ID)',\n",
    "#         tickmode = 'array',\n",
    "#         tickvals = list(range(0, 28)),\n",
    "#         ticktext = list(range(0, 28)),\n",
    "#     ),\n",
    "#     legend=dict(\n",
    "#         x=0.01,\n",
    "#         y=0.99,\n",
    "#         xanchor='left',\n",
    "#         yanchor='top',\n",
    "#         bgcolor='rgba(255, 255, 255, 0.5)'\n",
    "#     )\n",
    "# )\n",
    "\n",
    "# fig.show()\n",
    "\n",
    "# # # # Save as HTML\n",
    "# # div_schedule = plot(\n",
    "# #     fig, include_plotlyjs=True, config={\"responsive\": True}, output_type=\"div\"\n",
    "# # )\n",
    "# # # write div snippet to file\n",
    "# # with open('../docs/images/results-runtime.html', 'w') as f:\n",
    "# #     f.write(div_schedule)"
   ]
  },
  {
   "cell_type": "code",
   "execution_count": null,
   "id": "b43c3b6d",
   "metadata": {},
   "outputs": [
    {
     "data": {
      "application/vnd.plotly.v1+json": {
       "config": {
        "plotlyServerURL": "https://plot.ly"
       },
       "data": [
        {
         "customdata": [
          [
           0,
           3,
           "0.00"
          ],
          [
           0,
           931,
           "0.00"
          ],
          [
           0,
           193,
           "0.00"
          ],
          [
           0,
           641,
           "0.00"
          ],
          [
           0,
           5543,
           "0.00"
          ],
          [
           0,
           616,
           "0.00"
          ],
          [
           0,
           26677,
           "0.00"
          ],
          [
           0,
           751,
           "0.00"
          ],
          [
           0,
           735,
           "0.00"
          ],
          [
           0,
           60,
           "0.00"
          ],
          [
           0,
           3,
           "0.00"
          ],
          [
           0,
           59,
           "0.00"
          ],
          [
           0,
           403,
           "0.00"
          ],
          [
           0,
           1035,
           "0.00"
          ],
          [
           0,
           82,
           "0.00"
          ],
          [
           0,
           1132,
           "0.00"
          ],
          [
           0,
           701,
           "0.00"
          ],
          [
           0,
           1,
           "0.00"
          ],
          [
           0,
           3,
           "0.00"
          ],
          [
           0,
           3,
           "0.00"
          ],
          [
           0,
           1,
           "0.00"
          ],
          [
           0,
           74,
           "0.00"
          ],
          [
           0,
           1,
           "0.00"
          ],
          [
           0,
           1,
           "0.00"
          ],
          [
           0,
           1625,
           "0.00"
          ],
          [
           0,
           1,
           "0.00"
          ],
          [
           0,
           1,
           "0.00"
          ]
         ],
         "hovertemplate": "Model: %{customdata[0]}<br>ID: %{x}<br>Gap: %{text}%<br>Nodes: %{customdata[1]}<br>Heuristics: %{customdata[2]} s<extra></extra>",
         "name": "Model 0",
         "text": [
          "0.00",
          "0.00",
          "0.01",
          "0.00",
          "inf",
          "inf",
          "253.21",
          "inf",
          "inf",
          "0.00",
          "0.00",
          "0.00",
          "0.00",
          "inf",
          "inf",
          "0.00",
          "inf",
          "inf",
          "0.00",
          "0.00",
          "inf",
          "0.00",
          "inf",
          "inf",
          "11.14",
          "inf",
          "inf"
         ],
         "textposition": "none",
         "type": "bar",
         "x": {
          "bdata": "AQIDBAUGBwgJCgsMDQ4PEBESExQVFhcYGRob",
          "dtype": "i1"
         },
         "y": {
          "bdata": "AAAAAAAAAAAAAAAAAAAAAAAAAAAAAAAAAAAAAAAAAAAAAAAAAAAAAAAAAAAAAAAAAAAAAAAAAAAAAAAAAAAAAAAAAAAAAAAAAAAAAAAAAAAAAAAAAAAAAAAAAAAAAAAAAAAAAAAAAAAAAAAAAAAAAAAAAAAAAAAAAAAAAAAAAAAAAAAAAAAAAAAAAAAAAAAAAAAAAAAAAAAAAAAAAAAAAAAAAAAAAAAAAAAAAAAAAAAAAAAAAAAAAAAAAAAAAAAAAAAAAAAAAAAAAAAAAAAAAAAAAAAAAAAA",
          "dtype": "f8"
         }
        },
        {
         "customdata": [
          [
           1,
           3,
           "13.55"
          ],
          [
           1,
           1111,
           "72.60"
          ],
          [
           1,
           86,
           "120.16"
          ],
          [
           1,
           80836,
           "17.44"
          ],
          [
           1,
           6337,
           "95.69"
          ],
          [
           1,
           655,
           "120.12"
          ],
          [
           1,
           34208,
           "18.28"
          ],
          [
           1,
           718,
           "111.88"
          ],
          [
           1,
           702,
           "120.14"
          ],
          [
           1,
           55,
           "89.67"
          ],
          [
           1,
           3,
           "120.24"
          ],
          [
           1,
           38,
           "121.02"
          ],
          [
           1,
           334,
           "108.76"
          ],
          [
           1,
           1412,
           "120.60"
          ],
          [
           1,
           74,
           "120.25"
          ],
          [
           1,
           1156,
           "120.02"
          ],
          [
           1,
           587,
           "120.05"
          ],
          [
           1,
           1,
           "120.16"
          ],
          [
           1,
           3,
           "120.55"
          ],
          [
           1,
           3,
           "121.39"
          ],
          [
           1,
           1,
           "126.58"
          ],
          [
           1,
           44,
           "120.28"
          ],
          [
           1,
           1,
           "122.86"
          ],
          [
           1,
           1,
           "127.64"
          ],
          [
           1,
           5753,
           "120.16"
          ],
          [
           1,
           1,
           "121.28"
          ],
          [
           1,
           1,
           "129.01"
          ]
         ],
         "hovertemplate": "Model: %{customdata[0]}<br>ID: %{x}<br>Gap: %{text}%<br>Nodes: %{customdata[1]}<br>Heuristics: %{customdata[2]} s<extra></extra>",
         "name": "Model 1",
         "text": [
          "0.00",
          "0.00",
          "0.00",
          "16.93",
          "48.00",
          "87.81",
          "242.12",
          "103.37",
          "124.38",
          "0.00",
          "0.00",
          "0.00",
          "0.00",
          "17.26",
          "29.37",
          "0.00",
          "114.32",
          "3057.30",
          "0.00",
          "0.00",
          "76970.17",
          "0.00",
          "22997.23",
          "23526.60",
          "2.31",
          "13188.85",
          "12472.79"
         ],
         "textposition": "none",
         "type": "bar",
         "x": {
          "bdata": "AQIDBAUGBwgJCgsMDQ4PEBESExQVFhcYGRob",
          "dtype": "i1"
         },
         "y": {
          "bdata": "AAAAAP8bK0AAAABmWyZSQAAAAIVGCl5AAAAABGRwMUAAAABn9etXQAAAAMzoB15AAAAADFRHMkD///92IvhbQAAAAEkkCV5AAAAA/KFqVkABAAAxDQ9eQAEAAGE2QV5AAAAADXUwW0D///+zpSZeQAAAAGoqEF5A////VIsBXkAAAAA4XQNeQAAAAMOCCl5AAQAAXl8jXkAAAAAJrVheQP///2rxpF9AAAAAG/YRXkABAABSNrdeQAAAALbU6F9A////TUQKXkAAAACrH1JeQAAAACFkIGBA",
          "dtype": "f8"
         }
        },
        {
         "customdata": [
          [
           2,
           3,
           "13.55"
          ],
          [
           2,
           63,
           "72.60"
          ],
          [
           2,
           102,
           "120.16"
          ],
          [
           2,
           624,
           "17.44"
          ],
          [
           2,
           1788,
           "95.69"
          ],
          [
           2,
           231,
           "120.12"
          ],
          [
           2,
           22890,
           "18.28"
          ],
          [
           2,
           547,
           "111.88"
          ],
          [
           2,
           1,
           "120.14"
          ],
          [
           2,
           55,
           "89.67"
          ],
          [
           2,
           3,
           "120.24"
          ],
          [
           2,
           43,
           "121.02"
          ],
          [
           2,
           260,
           "108.76"
          ],
          [
           2,
           1323,
           "120.60"
          ],
          [
           2,
           1,
           "120.25"
          ],
          [
           2,
           1179,
           "120.02"
          ],
          [
           2,
           314,
           "120.05"
          ],
          [
           2,
           1,
           "120.16"
          ],
          [
           2,
           3,
           "120.55"
          ],
          [
           2,
           3,
           "121.39"
          ],
          [
           2,
           1,
           "126.58"
          ],
          [
           2,
           51,
           "120.28"
          ],
          [
           2,
           1,
           "122.86"
          ],
          [
           2,
           1,
           "127.64"
          ],
          [
           2,
           5382,
           "120.16"
          ],
          [
           2,
           1,
           "121.28"
          ],
          [
           2,
           1,
           "129.01"
          ]
         ],
         "hovertemplate": "Model: %{customdata[0]}<br>ID: %{x}<br>Gap: %{text}%<br>Nodes: %{customdata[1]}<br>Heuristics: %{customdata[2]} s<extra></extra>",
         "name": "Model 2",
         "text": [
          "0.00",
          "0.00",
          "0.00",
          "0.00",
          "55.18",
          "114.02",
          "248.45",
          "140.45",
          "929.74",
          "0.00",
          "0.00",
          "0.00",
          "0.00",
          "25.98",
          "352.86",
          "0.00",
          "113.40",
          "3057.30",
          "0.00",
          "0.00",
          "76970.17",
          "0.00",
          "22997.23",
          "23526.60",
          "2.67",
          "13188.85",
          "12472.79"
         ],
         "textposition": "none",
         "type": "bar",
         "x": {
          "bdata": "AQIDBAUGBwgJCgsMDQ4PEBESExQVFhcYGRob",
          "dtype": "i1"
         },
         "y": {
          "bdata": "AAAAAP8bK0AAAABmWyZSQAAAAIVGCl5AAAAABGRwMUAAAABn9etXQAAAAMzoB15AAAAADFRHMkD///92IvhbQAAAAEkkCV5AAAAA/KFqVkABAAAxDQ9eQAEAAGE2QV5AAAAADXUwW0D///+zpSZeQAAAAGoqEF5A////VIsBXkAAAAA4XQNeQAAAAMOCCl5AAQAAXl8jXkAAAAAJrVheQP///2rxpF9AAAAAG/YRXkABAABSNrdeQAAAALbU6F9A////TUQKXkAAAACrH1JeQAAAACFkIGBA",
          "dtype": "f8"
         }
        }
       ],
       "layout": {
        "autosize": true,
        "barmode": "group",
        "legend": {
         "bgcolor": "rgba(255, 255, 255, 0.5)",
         "x": 0.01,
         "xanchor": "left",
         "y": 0.99,
         "yanchor": "top"
        },
        "margin": {
         "b": 10,
         "l": 10,
         "r": 10,
         "t": 10
        },
        "template": {
         "data": {
          "bar": [
           {
            "error_x": {
             "color": "#2a3f5f"
            },
            "error_y": {
             "color": "#2a3f5f"
            },
            "marker": {
             "line": {
              "color": "#E5ECF6",
              "width": 0.5
             },
             "pattern": {
              "fillmode": "overlay",
              "size": 10,
              "solidity": 0.2
             }
            },
            "type": "bar"
           }
          ],
          "barpolar": [
           {
            "marker": {
             "line": {
              "color": "#E5ECF6",
              "width": 0.5
             },
             "pattern": {
              "fillmode": "overlay",
              "size": 10,
              "solidity": 0.2
             }
            },
            "type": "barpolar"
           }
          ],
          "carpet": [
           {
            "aaxis": {
             "endlinecolor": "#2a3f5f",
             "gridcolor": "white",
             "linecolor": "white",
             "minorgridcolor": "white",
             "startlinecolor": "#2a3f5f"
            },
            "baxis": {
             "endlinecolor": "#2a3f5f",
             "gridcolor": "white",
             "linecolor": "white",
             "minorgridcolor": "white",
             "startlinecolor": "#2a3f5f"
            },
            "type": "carpet"
           }
          ],
          "choropleth": [
           {
            "colorbar": {
             "outlinewidth": 0,
             "ticks": ""
            },
            "type": "choropleth"
           }
          ],
          "contour": [
           {
            "colorbar": {
             "outlinewidth": 0,
             "ticks": ""
            },
            "colorscale": [
             [
              0,
              "#0d0887"
             ],
             [
              0.1111111111111111,
              "#46039f"
             ],
             [
              0.2222222222222222,
              "#7201a8"
             ],
             [
              0.3333333333333333,
              "#9c179e"
             ],
             [
              0.4444444444444444,
              "#bd3786"
             ],
             [
              0.5555555555555556,
              "#d8576b"
             ],
             [
              0.6666666666666666,
              "#ed7953"
             ],
             [
              0.7777777777777778,
              "#fb9f3a"
             ],
             [
              0.8888888888888888,
              "#fdca26"
             ],
             [
              1,
              "#f0f921"
             ]
            ],
            "type": "contour"
           }
          ],
          "contourcarpet": [
           {
            "colorbar": {
             "outlinewidth": 0,
             "ticks": ""
            },
            "type": "contourcarpet"
           }
          ],
          "heatmap": [
           {
            "colorbar": {
             "outlinewidth": 0,
             "ticks": ""
            },
            "colorscale": [
             [
              0,
              "#0d0887"
             ],
             [
              0.1111111111111111,
              "#46039f"
             ],
             [
              0.2222222222222222,
              "#7201a8"
             ],
             [
              0.3333333333333333,
              "#9c179e"
             ],
             [
              0.4444444444444444,
              "#bd3786"
             ],
             [
              0.5555555555555556,
              "#d8576b"
             ],
             [
              0.6666666666666666,
              "#ed7953"
             ],
             [
              0.7777777777777778,
              "#fb9f3a"
             ],
             [
              0.8888888888888888,
              "#fdca26"
             ],
             [
              1,
              "#f0f921"
             ]
            ],
            "type": "heatmap"
           }
          ],
          "histogram": [
           {
            "marker": {
             "pattern": {
              "fillmode": "overlay",
              "size": 10,
              "solidity": 0.2
             }
            },
            "type": "histogram"
           }
          ],
          "histogram2d": [
           {
            "colorbar": {
             "outlinewidth": 0,
             "ticks": ""
            },
            "colorscale": [
             [
              0,
              "#0d0887"
             ],
             [
              0.1111111111111111,
              "#46039f"
             ],
             [
              0.2222222222222222,
              "#7201a8"
             ],
             [
              0.3333333333333333,
              "#9c179e"
             ],
             [
              0.4444444444444444,
              "#bd3786"
             ],
             [
              0.5555555555555556,
              "#d8576b"
             ],
             [
              0.6666666666666666,
              "#ed7953"
             ],
             [
              0.7777777777777778,
              "#fb9f3a"
             ],
             [
              0.8888888888888888,
              "#fdca26"
             ],
             [
              1,
              "#f0f921"
             ]
            ],
            "type": "histogram2d"
           }
          ],
          "histogram2dcontour": [
           {
            "colorbar": {
             "outlinewidth": 0,
             "ticks": ""
            },
            "colorscale": [
             [
              0,
              "#0d0887"
             ],
             [
              0.1111111111111111,
              "#46039f"
             ],
             [
              0.2222222222222222,
              "#7201a8"
             ],
             [
              0.3333333333333333,
              "#9c179e"
             ],
             [
              0.4444444444444444,
              "#bd3786"
             ],
             [
              0.5555555555555556,
              "#d8576b"
             ],
             [
              0.6666666666666666,
              "#ed7953"
             ],
             [
              0.7777777777777778,
              "#fb9f3a"
             ],
             [
              0.8888888888888888,
              "#fdca26"
             ],
             [
              1,
              "#f0f921"
             ]
            ],
            "type": "histogram2dcontour"
           }
          ],
          "mesh3d": [
           {
            "colorbar": {
             "outlinewidth": 0,
             "ticks": ""
            },
            "type": "mesh3d"
           }
          ],
          "parcoords": [
           {
            "line": {
             "colorbar": {
              "outlinewidth": 0,
              "ticks": ""
             }
            },
            "type": "parcoords"
           }
          ],
          "pie": [
           {
            "automargin": true,
            "type": "pie"
           }
          ],
          "scatter": [
           {
            "fillpattern": {
             "fillmode": "overlay",
             "size": 10,
             "solidity": 0.2
            },
            "type": "scatter"
           }
          ],
          "scatter3d": [
           {
            "line": {
             "colorbar": {
              "outlinewidth": 0,
              "ticks": ""
             }
            },
            "marker": {
             "colorbar": {
              "outlinewidth": 0,
              "ticks": ""
             }
            },
            "type": "scatter3d"
           }
          ],
          "scattercarpet": [
           {
            "marker": {
             "colorbar": {
              "outlinewidth": 0,
              "ticks": ""
             }
            },
            "type": "scattercarpet"
           }
          ],
          "scattergeo": [
           {
            "marker": {
             "colorbar": {
              "outlinewidth": 0,
              "ticks": ""
             }
            },
            "type": "scattergeo"
           }
          ],
          "scattergl": [
           {
            "marker": {
             "colorbar": {
              "outlinewidth": 0,
              "ticks": ""
             }
            },
            "type": "scattergl"
           }
          ],
          "scattermap": [
           {
            "marker": {
             "colorbar": {
              "outlinewidth": 0,
              "ticks": ""
             }
            },
            "type": "scattermap"
           }
          ],
          "scattermapbox": [
           {
            "marker": {
             "colorbar": {
              "outlinewidth": 0,
              "ticks": ""
             }
            },
            "type": "scattermapbox"
           }
          ],
          "scatterpolar": [
           {
            "marker": {
             "colorbar": {
              "outlinewidth": 0,
              "ticks": ""
             }
            },
            "type": "scatterpolar"
           }
          ],
          "scatterpolargl": [
           {
            "marker": {
             "colorbar": {
              "outlinewidth": 0,
              "ticks": ""
             }
            },
            "type": "scatterpolargl"
           }
          ],
          "scatterternary": [
           {
            "marker": {
             "colorbar": {
              "outlinewidth": 0,
              "ticks": ""
             }
            },
            "type": "scatterternary"
           }
          ],
          "surface": [
           {
            "colorbar": {
             "outlinewidth": 0,
             "ticks": ""
            },
            "colorscale": [
             [
              0,
              "#0d0887"
             ],
             [
              0.1111111111111111,
              "#46039f"
             ],
             [
              0.2222222222222222,
              "#7201a8"
             ],
             [
              0.3333333333333333,
              "#9c179e"
             ],
             [
              0.4444444444444444,
              "#bd3786"
             ],
             [
              0.5555555555555556,
              "#d8576b"
             ],
             [
              0.6666666666666666,
              "#ed7953"
             ],
             [
              0.7777777777777778,
              "#fb9f3a"
             ],
             [
              0.8888888888888888,
              "#fdca26"
             ],
             [
              1,
              "#f0f921"
             ]
            ],
            "type": "surface"
           }
          ],
          "table": [
           {
            "cells": {
             "fill": {
              "color": "#EBF0F8"
             },
             "line": {
              "color": "white"
             }
            },
            "header": {
             "fill": {
              "color": "#C8D4E3"
             },
             "line": {
              "color": "white"
             }
            },
            "type": "table"
           }
          ]
         },
         "layout": {
          "annotationdefaults": {
           "arrowcolor": "#2a3f5f",
           "arrowhead": 0,
           "arrowwidth": 1
          },
          "autotypenumbers": "strict",
          "coloraxis": {
           "colorbar": {
            "outlinewidth": 0,
            "ticks": ""
           }
          },
          "colorscale": {
           "diverging": [
            [
             0,
             "#8e0152"
            ],
            [
             0.1,
             "#c51b7d"
            ],
            [
             0.2,
             "#de77ae"
            ],
            [
             0.3,
             "#f1b6da"
            ],
            [
             0.4,
             "#fde0ef"
            ],
            [
             0.5,
             "#f7f7f7"
            ],
            [
             0.6,
             "#e6f5d0"
            ],
            [
             0.7,
             "#b8e186"
            ],
            [
             0.8,
             "#7fbc41"
            ],
            [
             0.9,
             "#4d9221"
            ],
            [
             1,
             "#276419"
            ]
           ],
           "sequential": [
            [
             0,
             "#0d0887"
            ],
            [
             0.1111111111111111,
             "#46039f"
            ],
            [
             0.2222222222222222,
             "#7201a8"
            ],
            [
             0.3333333333333333,
             "#9c179e"
            ],
            [
             0.4444444444444444,
             "#bd3786"
            ],
            [
             0.5555555555555556,
             "#d8576b"
            ],
            [
             0.6666666666666666,
             "#ed7953"
            ],
            [
             0.7777777777777778,
             "#fb9f3a"
            ],
            [
             0.8888888888888888,
             "#fdca26"
            ],
            [
             1,
             "#f0f921"
            ]
           ],
           "sequentialminus": [
            [
             0,
             "#0d0887"
            ],
            [
             0.1111111111111111,
             "#46039f"
            ],
            [
             0.2222222222222222,
             "#7201a8"
            ],
            [
             0.3333333333333333,
             "#9c179e"
            ],
            [
             0.4444444444444444,
             "#bd3786"
            ],
            [
             0.5555555555555556,
             "#d8576b"
            ],
            [
             0.6666666666666666,
             "#ed7953"
            ],
            [
             0.7777777777777778,
             "#fb9f3a"
            ],
            [
             0.8888888888888888,
             "#fdca26"
            ],
            [
             1,
             "#f0f921"
            ]
           ]
          },
          "colorway": [
           "#636efa",
           "#EF553B",
           "#00cc96",
           "#ab63fa",
           "#FFA15A",
           "#19d3f3",
           "#FF6692",
           "#B6E880",
           "#FF97FF",
           "#FECB52"
          ],
          "font": {
           "color": "#2a3f5f"
          },
          "geo": {
           "bgcolor": "white",
           "lakecolor": "white",
           "landcolor": "#E5ECF6",
           "showlakes": true,
           "showland": true,
           "subunitcolor": "white"
          },
          "hoverlabel": {
           "align": "left"
          },
          "hovermode": "closest",
          "mapbox": {
           "style": "light"
          },
          "paper_bgcolor": "white",
          "plot_bgcolor": "#E5ECF6",
          "polar": {
           "angularaxis": {
            "gridcolor": "white",
            "linecolor": "white",
            "ticks": ""
           },
           "bgcolor": "#E5ECF6",
           "radialaxis": {
            "gridcolor": "white",
            "linecolor": "white",
            "ticks": ""
           }
          },
          "scene": {
           "xaxis": {
            "backgroundcolor": "#E5ECF6",
            "gridcolor": "white",
            "gridwidth": 2,
            "linecolor": "white",
            "showbackground": true,
            "ticks": "",
            "zerolinecolor": "white"
           },
           "yaxis": {
            "backgroundcolor": "#E5ECF6",
            "gridcolor": "white",
            "gridwidth": 2,
            "linecolor": "white",
            "showbackground": true,
            "ticks": "",
            "zerolinecolor": "white"
           },
           "zaxis": {
            "backgroundcolor": "#E5ECF6",
            "gridcolor": "white",
            "gridwidth": 2,
            "linecolor": "white",
            "showbackground": true,
            "ticks": "",
            "zerolinecolor": "white"
           }
          },
          "shapedefaults": {
           "line": {
            "color": "#2a3f5f"
           }
          },
          "ternary": {
           "aaxis": {
            "gridcolor": "white",
            "linecolor": "white",
            "ticks": ""
           },
           "baxis": {
            "gridcolor": "white",
            "linecolor": "white",
            "ticks": ""
           },
           "bgcolor": "#E5ECF6",
           "caxis": {
            "gridcolor": "white",
            "linecolor": "white",
            "ticks": ""
           }
          },
          "title": {
           "x": 0.05
          },
          "xaxis": {
           "automargin": true,
           "gridcolor": "white",
           "linecolor": "white",
           "ticks": "",
           "title": {
            "standoff": 15
           },
           "zerolinecolor": "white",
           "zerolinewidth": 2
          },
          "yaxis": {
           "automargin": true,
           "gridcolor": "white",
           "linecolor": "white",
           "ticks": "",
           "title": {
            "standoff": 15
           },
           "zerolinecolor": "white",
           "zerolinewidth": 2
          }
         }
        },
        "xaxis": {
         "tickmode": "array",
         "ticktext": [
          0,
          1,
          2,
          3,
          4,
          5,
          6,
          7,
          8,
          9,
          10,
          11,
          12,
          13,
          14,
          15,
          16,
          17,
          18,
          19,
          20,
          21,
          22,
          23,
          24,
          25,
          26,
          27
         ],
         "tickvals": [
          0,
          1,
          2,
          3,
          4,
          5,
          6,
          7,
          8,
          9,
          10,
          11,
          12,
          13,
          14,
          15,
          16,
          17,
          18,
          19,
          20,
          21,
          22,
          23,
          24,
          25,
          26,
          27
         ],
         "title": {
          "text": "Problem Istance (ID)"
         }
        },
        "yaxis": {
         "title": {
          "text": "Heuristics Time (s)"
         }
        }
       }
      }
     },
     "metadata": {},
     "output_type": "display_data"
    }
   ],
   "source": [
    "# import plotly.graph_objects as go\n",
    "\n",
    "# # Create bar plot with visible zeros\n",
    "# hovertemplate_text='Model: %{customdata[0]}<br>ID: %{x}<br>Gap: %{text}%<br>Nodes: %{customdata[1]}<br>Heuristics: %{customdata[2]} s<extra></extra>'\n",
    "# fig = go.Figure(data=[\n",
    "#     go.Bar(\n",
    "#         name='Model 0', \n",
    "#         x=df0['ID'], \n",
    "#         y=df0['heuristics_time'],\n",
    "#         text=df0['gap'].apply(lambda x: f'{x:.2f}'),  # Format text to 2 decimal places\n",
    "#         # Create a 2D array with multiple columns\n",
    "#         customdata=np.dstack((df0['model'], df0['nodes'], df0['heuristics_time'].apply(lambda x: f'{x:.2f}')))[0],\n",
    "#         textposition='none',\n",
    "#         hovertemplate=hovertemplate_text\n",
    "#     ),\n",
    "#     go.Bar(\n",
    "#         name='Model 1', \n",
    "#         x=df1['ID'], \n",
    "#         y=df1['heuristics_time'],\n",
    "#         text=df1['gap'].apply(lambda x: f'{x:.2f}'),\n",
    "#         customdata=np.dstack((df1['model'], df1['nodes'], df1['heuristics_time'].apply(lambda x: f'{x:.2f}')))[0],\n",
    "#         textposition='none',\n",
    "#         hovertemplate=hovertemplate_text\n",
    "#     ),\n",
    "#     go.Bar(\n",
    "#         name='Model 2', \n",
    "#         x=df2['ID'], \n",
    "#         y=df2['heuristics_time'],\n",
    "#         text=df2['gap'].apply(lambda x: f'{x:.2f}'),\n",
    "#         customdata=np.dstack((df2['model'], df2['nodes'], df2['heuristics_time'].apply(lambda x: f'{x:.2f}')))[0],\n",
    "#         textposition='none',\n",
    "#         hovertemplate=hovertemplate_text\n",
    "#     ),\n",
    "# ])\n",
    "\n",
    "# # Add a subtle visual indication for zero values\n",
    "# fig.update_layout(\n",
    "#     autosize=True,   # let the container size drive the plot\n",
    "#     margin=dict(l=10, r=10, t=10, b=10),    # width=1000,\n",
    "#     # width=1000,\n",
    "#     # height=600,\n",
    "#     barmode='group',\n",
    "#     yaxis = dict(\n",
    "#         title = 'Heuristics Time (s)',\n",
    "#     ),\n",
    "#     xaxis = dict(\n",
    "#         title = 'Problem Istance (ID)',\n",
    "#         tickmode = 'array',\n",
    "#         tickvals = list(range(0, 28)),\n",
    "#         ticktext = list(range(0, 28)),\n",
    "#     ),\n",
    "#     legend=dict(\n",
    "#         x=0.01,\n",
    "#         y=0.99,\n",
    "#         xanchor='left',\n",
    "#         yanchor='top',\n",
    "#         bgcolor='rgba(255, 255, 255, 0.5)'\n",
    "#     )\n",
    "# )\n",
    "\n",
    "# fig.show()\n",
    "\n",
    "\n",
    "# # # Save as HTML\n",
    "# # div_schedule = plot(\n",
    "# #     fig, include_plotlyjs=True, config={\"responsive\": True}, output_type=\"div\"\n",
    "# # )\n",
    "# # # write div snippet to file\n",
    "# # with open('../docs/images/results-heuristics.html', 'w') as f:\n",
    "# #     f.write(div_schedule)\n",
    "\n"
   ]
  },
  {
   "cell_type": "code",
   "execution_count": 7,
   "id": "d4797d26",
   "metadata": {},
   "outputs": [],
   "source": [
    "def lighten_color(hex_color, percentage):\n",
    "    \"\"\"\n",
    "    Takes a hex color code and returns a lighter version by the specified percentage.\n",
    "    \n",
    "    Args:\n",
    "        hex_color (str): Hex color code (with or without # prefix)\n",
    "        percentage (float): Percentage to lighten (0-100)\n",
    "    \n",
    "    Returns:\n",
    "        str: Lightened hex color code with # prefix\n",
    "    \"\"\"\n",
    "    # Ensure proper hex format\n",
    "    if hex_color.startswith('#'):\n",
    "        hex_color = hex_color[1:]\n",
    "    \n",
    "    # Convert hex to RGB\n",
    "    r = int(hex_color[0:2], 16)\n",
    "    g = int(hex_color[2:4], 16)\n",
    "    b = int(hex_color[4:6], 16)\n",
    "    \n",
    "    # Lighten by percentage\n",
    "    # This formula moves the color value toward white (255) by the percentage\n",
    "    r = int(r + (255 - r) * (percentage / 100))\n",
    "    g = int(g + (255 - g) * (percentage / 100))\n",
    "    b = int(b + (255 - b) * (percentage / 100))\n",
    "    \n",
    "    # Ensure values are within bounds\n",
    "    r = min(255, max(0, r))\n",
    "    g = min(255, max(0, g))\n",
    "    b = min(255, max(0, b))\n",
    "    \n",
    "    # Convert back to hex\n",
    "    return f'#{r:02x}{g:02x}{b:02x}'"
   ]
  },
  {
   "cell_type": "code",
   "execution_count": 8,
   "id": "a55cca63",
   "metadata": {},
   "outputs": [
    {
     "data": {
      "text/plain": [
       "['#636EFA',\n",
       " '#EF553B',\n",
       " '#00CC96',\n",
       " '#AB63FA',\n",
       " '#FFA15A',\n",
       " '#19D3F3',\n",
       " '#FF6692',\n",
       " '#B6E880',\n",
       " '#FF97FF',\n",
       " '#FECB52']"
      ]
     },
     "execution_count": 8,
     "metadata": {},
     "output_type": "execute_result"
    }
   ],
   "source": [
    "import plotly.express as px\n",
    "colormap = px.colors.qualitative.Plotly\n",
    "colormap"
   ]
  },
  {
   "cell_type": "code",
   "execution_count": null,
   "id": "9d7217b6",
   "metadata": {},
   "outputs": [
    {
     "data": {
      "application/vnd.plotly.v1+json": {
       "config": {
        "plotlyServerURL": "https://plot.ly"
       },
       "data": [
        {
         "customdata": [
          [
           0,
           3,
           "0.22",
           "0.00",
           "0.22"
          ],
          [
           0,
           931,
           "27.07",
           "0.00",
           "27.07"
          ],
          [
           0,
           193,
           "24.98",
           "0.00",
           "24.98"
          ],
          [
           0,
           641,
           "3.34",
           "0.00",
           "3.34"
          ],
          [
           0,
           5543,
           "300.00",
           "0.00",
           "300.00"
          ],
          [
           0,
           616,
           "300.00",
           "0.00",
           "300.00"
          ],
          [
           0,
           26677,
           "300.00",
           "0.00",
           "300.00"
          ],
          [
           0,
           751,
           "300.01",
           "0.00",
           "300.01"
          ],
          [
           0,
           735,
           "300.01",
           "0.00",
           "300.01"
          ],
          [
           0,
           60,
           "2.87",
           "0.00",
           "2.87"
          ],
          [
           0,
           3,
           "19.91",
           "0.00",
           "19.91"
          ],
          [
           0,
           59,
           "88.71",
           "0.00",
           "88.71"
          ],
          [
           0,
           403,
           "16.40",
           "0.00",
           "16.40"
          ],
          [
           0,
           1035,
           "300.00",
           "0.00",
           "300.00"
          ],
          [
           0,
           82,
           "300.02",
           "0.00",
           "300.02"
          ],
          [
           0,
           1132,
           "29.12",
           "0.00",
           "29.12"
          ],
          [
           0,
           701,
           "300.00",
           "0.00",
           "300.00"
          ],
          [
           0,
           1,
           "300.13",
           "0.00",
           "300.13"
          ],
          [
           0,
           3,
           "10.07",
           "0.00",
           "10.07"
          ],
          [
           0,
           3,
           "150.74",
           "0.00",
           "150.74"
          ],
          [
           0,
           1,
           "300.13",
           "0.00",
           "300.13"
          ],
          [
           0,
           74,
           "45.49",
           "0.00",
           "45.49"
          ],
          [
           0,
           1,
           "300.02",
           "0.00",
           "300.02"
          ],
          [
           0,
           1,
           "301.61",
           "0.00",
           "301.61"
          ],
          [
           0,
           1625,
           "300.07",
           "0.00",
           "300.07"
          ],
          [
           0,
           1,
           "300.04",
           "0.00",
           "300.04"
          ],
          [
           0,
           1,
           "300.78",
           "0.00",
           "300.78"
          ]
         ],
         "hovertemplate": "Model: %{customdata[0]}<br>ID: %{x}<br>Gap: %{text}%<br>Nodes: %{customdata[1]}<br>Runtime: %{customdata[2]} s<br>Heuristics: %{customdata[3]} s<br>Total Time: %{customdata[4]} s<extra></extra>",
         "marker": {
          "color": "#636EFA"
         },
         "name": "Model 0",
         "offsetgroup": "0",
         "text": [
          "0.00",
          "0.00",
          "0.01",
          "0.00",
          "1000000.00",
          "1000000.00",
          "253.21",
          "1000000.00",
          "1000000.00",
          "0.00",
          "0.00",
          "0.00",
          "0.00",
          "1000000.00",
          "1000000.00",
          "0.00",
          "1000000.00",
          "1000000.00",
          "0.00",
          "0.00",
          "1000000.00",
          "0.00",
          "1000000.00",
          "1000000.00",
          "11.14",
          "1000000.00",
          "1000000.00"
         ],
         "textposition": "none",
         "type": "bar",
         "x": {
          "bdata": "AQIDBAUGBwgJCgsMDQ4PEBESExQVFhcYGRob",
          "dtype": "i1"
         },
         "y": {
          "bdata": "/v///1WGyz8AAABMixI7QAAAAISR+zhAAAAAgHbACkAAAMC3BsByQAAAQJEDwHJAAACA1wTAckAAAMD2GsByQAAAQLErwHJAAAAAQEjvBkAAAAC4/OczQAAAAO54LVZAAAAAZJ5lMEAAAMDPDcByQAAAQFc/wHJAAAAANMAdPUAAAAAFCsByQAAAAHYRwnJAAQAA6LQlJEAAAIC50NdiQAAAgFMQwnJAAAAA/D2/RkAAAACnVcByQAAAALe12XJAAABALA3BckAAAIBBocByQAAAQPqKzHJA",
          "dtype": "f8"
         }
        },
        {
         "customdata": [
          [
           1,
           3,
           "0.22",
           "13.55",
           "13.77"
          ],
          [
           1,
           1111,
           "30.58",
           "72.60",
           "103.18"
          ],
          [
           1,
           86,
           "19.41",
           "120.16",
           "139.57"
          ],
          [
           1,
           80836,
           "300.00",
           "17.44",
           "317.44"
          ],
          [
           1,
           6337,
           "300.01",
           "95.69",
           "395.70"
          ],
          [
           1,
           655,
           "300.00",
           "120.12",
           "420.13"
          ],
          [
           1,
           34208,
           "300.00",
           "18.28",
           "318.28"
          ],
          [
           1,
           718,
           "300.00",
           "111.88",
           "411.88"
          ],
          [
           1,
           702,
           "300.00",
           "120.14",
           "420.15"
          ],
          [
           1,
           55,
           "2.60",
           "89.67",
           "92.26"
          ],
          [
           1,
           3,
           "15.70",
           "120.24",
           "135.93"
          ],
          [
           1,
           38,
           "62.60",
           "121.02",
           "183.62"
          ],
          [
           1,
           334,
           "13.72",
           "108.76",
           "122.48"
          ],
          [
           1,
           1412,
           "300.05",
           "120.60",
           "420.66"
          ],
          [
           1,
           74,
           "300.09",
           "120.25",
           "420.34"
          ],
          [
           1,
           1156,
           "34.44",
           "120.02",
           "154.46"
          ],
          [
           1,
           587,
           "300.04",
           "120.05",
           "420.10"
          ],
          [
           1,
           1,
           "300.05",
           "120.16",
           "420.22"
          ],
          [
           1,
           3,
           "12.13",
           "120.55",
           "132.68"
          ],
          [
           1,
           3,
           "177.94",
           "121.39",
           "299.32"
          ],
          [
           1,
           1,
           "301.79",
           "126.58",
           "428.37"
          ],
          [
           1,
           44,
           "27.61",
           "120.28",
           "147.89"
          ],
          [
           1,
           1,
           "300.15",
           "122.86",
           "423.02"
          ],
          [
           1,
           1,
           "300.69",
           "127.64",
           "428.33"
          ],
          [
           1,
           5753,
           "300.04",
           "120.16",
           "420.20"
          ],
          [
           1,
           1,
           "300.17",
           "121.28",
           "421.45"
          ],
          [
           1,
           1,
           "302.32",
           "129.01",
           "431.33"
          ]
         ],
         "hovertemplate": "Model: %{customdata[0]}<br>ID: %{x}<br>Gap: %{text}%<br>Nodes: %{customdata[1]}<br>Runtime: %{customdata[2]} s<br>Heuristics: %{customdata[3]} s<br>Total Time: %{customdata[4]} s<extra></extra>",
         "marker": {
          "color": "#EF553B"
         },
         "name": "Model 1",
         "offsetgroup": "1",
         "text": [
          "0.00",
          "0.00",
          "0.00",
          "16.93",
          "48.00",
          "87.81",
          "242.12",
          "103.37",
          "124.38",
          "0.00",
          "0.00",
          "0.00",
          "0.00",
          "17.26",
          "29.37",
          "0.00",
          "114.32",
          "3057.30",
          "0.00",
          "0.00",
          "76970.17",
          "0.00",
          "22997.23",
          "23526.60",
          "2.31",
          "13188.85",
          "12472.79"
         ],
         "textposition": "none",
         "type": "bar",
         "x": {
          "bdata": "AQIDBAUGBwgJCgsMDQ4PEBESExQVFhcYGRob",
          "dtype": "i1"
         },
         "y": {
          "bdata": "/f///+eFyz8AAACYKZU+QAAAAASBaTNAAADA5AbAckAAAAB7IcByQAAAgA8JwHJAAACAEgTAckAAAAChCsByQAAAwKEMwHJAAAAAAHvIBEAAAAAwn2QvQAAAAFymTE9AAAAAiBtwK0AAAEBJ1sByQAAAAA93wXJAAAAAgkg4QUAAAICyr8ByQAAAgFfYwHJAAQAAmBBCKEAAAICkCj5mQAAAQJ2e3HJAAgAAWL2bO0AAAABDecJyQAAAAMYQy3JAAAAAt6/AckAAAIAZt8JyQAAAAMMO5XJA",
          "dtype": "f8"
         },
         "zorder": 2
        },
        {
         "customdata": [
          [
           1,
           3,
           "0.22",
           "13.55",
           "13.77"
          ],
          [
           1,
           1111,
           "30.58",
           "72.60",
           "103.18"
          ],
          [
           1,
           86,
           "19.41",
           "120.16",
           "139.57"
          ],
          [
           1,
           80836,
           "300.00",
           "17.44",
           "317.44"
          ],
          [
           1,
           6337,
           "300.01",
           "95.69",
           "395.70"
          ],
          [
           1,
           655,
           "300.00",
           "120.12",
           "420.13"
          ],
          [
           1,
           34208,
           "300.00",
           "18.28",
           "318.28"
          ],
          [
           1,
           718,
           "300.00",
           "111.88",
           "411.88"
          ],
          [
           1,
           702,
           "300.00",
           "120.14",
           "420.15"
          ],
          [
           1,
           55,
           "2.60",
           "89.67",
           "92.26"
          ],
          [
           1,
           3,
           "15.70",
           "120.24",
           "135.93"
          ],
          [
           1,
           38,
           "62.60",
           "121.02",
           "183.62"
          ],
          [
           1,
           334,
           "13.72",
           "108.76",
           "122.48"
          ],
          [
           1,
           1412,
           "300.05",
           "120.60",
           "420.66"
          ],
          [
           1,
           74,
           "300.09",
           "120.25",
           "420.34"
          ],
          [
           1,
           1156,
           "34.44",
           "120.02",
           "154.46"
          ],
          [
           1,
           587,
           "300.04",
           "120.05",
           "420.10"
          ],
          [
           1,
           1,
           "300.05",
           "120.16",
           "420.22"
          ],
          [
           1,
           3,
           "12.13",
           "120.55",
           "132.68"
          ],
          [
           1,
           3,
           "177.94",
           "121.39",
           "299.32"
          ],
          [
           1,
           1,
           "301.79",
           "126.58",
           "428.37"
          ],
          [
           1,
           44,
           "27.61",
           "120.28",
           "147.89"
          ],
          [
           1,
           1,
           "300.15",
           "122.86",
           "423.02"
          ],
          [
           1,
           1,
           "300.69",
           "127.64",
           "428.33"
          ],
          [
           1,
           5753,
           "300.04",
           "120.16",
           "420.20"
          ],
          [
           1,
           1,
           "300.17",
           "121.28",
           "421.45"
          ],
          [
           1,
           1,
           "302.32",
           "129.01",
           "431.33"
          ]
         ],
         "hovertemplate": "Model: %{customdata[0]}<br>ID: %{x}<br>Gap: %{text}%<br>Nodes: %{customdata[1]}<br>Runtime: %{customdata[2]} s<br>Heuristics: %{customdata[3]} s<br>Total Time: %{customdata[4]} s<extra></extra>",
         "marker": {
          "color": "#f59989"
         },
         "name": "Model 1",
         "offsetgroup": "1",
         "showlegend": false,
         "text": [
          "0.00",
          "0.00",
          "0.00",
          "16.93",
          "48.00",
          "87.81",
          "242.12",
          "103.37",
          "124.38",
          "0.00",
          "0.00",
          "0.00",
          "0.00",
          "17.26",
          "29.37",
          "0.00",
          "114.32",
          "3057.30",
          "0.00",
          "0.00",
          "76970.17",
          "0.00",
          "22997.23",
          "23526.60",
          "2.31",
          "13188.85",
          "12472.79"
         ],
         "textposition": "none",
         "type": "bar",
         "x": {
          "bdata": "AQIDBAUGBwgJCgsMDQ4PEBESExQVFhcYGRob",
          "dtype": "i1"
         },
         "y": {
          "bdata": "AAAAoBaKK0AAAADMpctZQAAAAGNTcmFAAAAAJQ3Xc0AAAMDUHrt4QAAAgEIDQnpAAABAU3nkc0AAAMA+E755QAAAALRVQnpAAAAA1OUQV0AAAICL0P1gQAAAgMfE82ZAAAAAfnieXkAAAEC2f0p6QAAAgKmBRXpAAAAAy9dOY0AAAIAAh0F6QAAAQAh5Q3pAAQCAuNCVYEAAAICUMLVyQAAAAPjaxXpAAACAuHJ8YkAAAIDXRnB6QAAAgPNFxXpAAACAykBDekAAAEAEP1d6QAAAgNNA9XpA",
          "dtype": "f8"
         },
         "zorder": 1
        },
        {
         "customdata": [
          [
           2,
           3,
           "0.21",
           "13.55",
           "13.76"
          ],
          [
           2,
           63,
           "5.92",
           "72.60",
           "78.51"
          ],
          [
           2,
           102,
           "26.48",
           "120.16",
           "146.64"
          ],
          [
           2,
           624,
           "3.65",
           "17.44",
           "21.08"
          ],
          [
           2,
           1788,
           "300.00",
           "95.69",
           "395.69"
          ],
          [
           2,
           231,
           "300.04",
           "120.12",
           "420.16"
          ],
          [
           2,
           22890,
           "300.00",
           "18.28",
           "318.28"
          ],
          [
           2,
           547,
           "300.01",
           "111.88",
           "411.89"
          ],
          [
           2,
           1,
           "300.07",
           "120.14",
           "420.22"
          ],
          [
           2,
           55,
           "2.33",
           "89.67",
           "91.99"
          ],
          [
           2,
           3,
           "16.50",
           "120.24",
           "136.73"
          ],
          [
           2,
           43,
           "72.68",
           "121.02",
           "193.70"
          ],
          [
           2,
           260,
           "10.38",
           "108.76",
           "119.14"
          ],
          [
           2,
           1323,
           "300.04",
           "120.60",
           "420.64"
          ],
          [
           2,
           1,
           "300.28",
           "120.25",
           "420.53"
          ],
          [
           2,
           1179,
           "38.46",
           "120.02",
           "158.48"
          ],
          [
           2,
           314,
           "300.05",
           "120.05",
           "420.11"
          ],
          [
           2,
           1,
           "300.07",
           "120.16",
           "420.24"
          ],
          [
           2,
           3,
           "14.09",
           "120.55",
           "134.64"
          ],
          [
           2,
           3,
           "140.89",
           "121.39",
           "262.27"
          ],
          [
           2,
           1,
           "301.95",
           "126.58",
           "428.53"
          ],
          [
           2,
           51,
           "27.68",
           "120.28",
           "147.96"
          ],
          [
           2,
           1,
           "300.15",
           "122.86",
           "423.01"
          ],
          [
           2,
           1,
           "300.52",
           "127.64",
           "428.16"
          ],
          [
           2,
           5382,
           "300.04",
           "120.16",
           "420.20"
          ],
          [
           2,
           1,
           "300.68",
           "121.28",
           "421.96"
          ],
          [
           2,
           1,
           "300.50",
           "129.01",
           "429.51"
          ]
         ],
         "hovertemplate": "Model: %{customdata[0]}<br>ID: %{x}<br>Gap: %{text}%<br>Nodes: %{customdata[1]}<br>Runtime: %{customdata[2]} s<br>Heuristics: %{customdata[3]} s<br>Total Time: %{customdata[4]} s<extra></extra>",
         "marker": {
          "color": "#00CC96"
         },
         "name": "Model 2",
         "offsetgroup": "2",
         "text": [
          "0.00",
          "0.00",
          "0.00",
          "0.00",
          "55.18",
          "114.02",
          "248.45",
          "140.45",
          "929.74",
          "0.00",
          "0.00",
          "0.00",
          "0.00",
          "25.98",
          "352.86",
          "0.00",
          "113.40",
          "3057.30",
          "0.00",
          "0.00",
          "76970.17",
          "0.00",
          "22997.23",
          "23526.60",
          "2.67",
          "13188.85",
          "12472.79"
         ],
         "textposition": "none",
         "type": "bar",
         "x": {
          "bdata": "AQIDBAUGBwgJCgsMDQ4PEBESExQVFhcYGRob",
          "dtype": "i1"
         },
         "y": {
          "bdata": "/v///8tiyj8AAADAIKkXQAEAABBAejpA/v//X9ApDUAAAIBRD8ByQAAAQGyiwHJAAAAAyALAckAAAABgJsByQAAAAHAtwXJA////HyqbAkAAAABou34wQAAAAE5gK1JAAAAAQCzDJEAAAADlocByQAAAQIaAxHJAAAAAVvc6Q0AAAEBO3sByQAEAQGcuwXJAAQAAyKQuLEAAAIAxXZxhQAAAgG8/33JAAQAAuNutO0AAAMBbaMJyQAAAwD1PyHJAAADAVqzAckAAAMBT3spyQAAAgI/sx3JA",
          "dtype": "f8"
         },
         "zorder": 2
        },
        {
         "customdata": [
          [
           2,
           3,
           "0.21",
           "13.55",
           "13.76"
          ],
          [
           2,
           63,
           "5.92",
           "72.60",
           "78.51"
          ],
          [
           2,
           102,
           "26.48",
           "120.16",
           "146.64"
          ],
          [
           2,
           624,
           "3.65",
           "17.44",
           "21.08"
          ],
          [
           2,
           1788,
           "300.00",
           "95.69",
           "395.69"
          ],
          [
           2,
           231,
           "300.04",
           "120.12",
           "420.16"
          ],
          [
           2,
           22890,
           "300.00",
           "18.28",
           "318.28"
          ],
          [
           2,
           547,
           "300.01",
           "111.88",
           "411.89"
          ],
          [
           2,
           1,
           "300.07",
           "120.14",
           "420.22"
          ],
          [
           2,
           55,
           "2.33",
           "89.67",
           "91.99"
          ],
          [
           2,
           3,
           "16.50",
           "120.24",
           "136.73"
          ],
          [
           2,
           43,
           "72.68",
           "121.02",
           "193.70"
          ],
          [
           2,
           260,
           "10.38",
           "108.76",
           "119.14"
          ],
          [
           2,
           1323,
           "300.04",
           "120.60",
           "420.64"
          ],
          [
           2,
           1,
           "300.28",
           "120.25",
           "420.53"
          ],
          [
           2,
           1179,
           "38.46",
           "120.02",
           "158.48"
          ],
          [
           2,
           314,
           "300.05",
           "120.05",
           "420.11"
          ],
          [
           2,
           1,
           "300.07",
           "120.16",
           "420.24"
          ],
          [
           2,
           3,
           "14.09",
           "120.55",
           "134.64"
          ],
          [
           2,
           3,
           "140.89",
           "121.39",
           "262.27"
          ],
          [
           2,
           1,
           "301.95",
           "126.58",
           "428.53"
          ],
          [
           2,
           51,
           "27.68",
           "120.28",
           "147.96"
          ],
          [
           2,
           1,
           "300.15",
           "122.86",
           "423.01"
          ],
          [
           2,
           1,
           "300.52",
           "127.64",
           "428.16"
          ],
          [
           2,
           5382,
           "300.04",
           "120.16",
           "420.20"
          ],
          [
           2,
           1,
           "300.68",
           "121.28",
           "421.96"
          ],
          [
           2,
           1,
           "300.50",
           "129.01",
           "429.51"
          ]
         ],
         "hovertemplate": "Model: %{customdata[0]}<br>ID: %{x}<br>Gap: %{text}%<br>Nodes: %{customdata[1]}<br>Runtime: %{customdata[2]} s<br>Heuristics: %{customdata[3]} s<br>Total Time: %{customdata[4]} s<extra></extra>",
         "marker": {
          "color": "#66e0c0"
         },
         "name": "Model 2",
         "offsetgroup": "2",
         "showlegend": false,
         "text": [
          "0.00",
          "0.00",
          "0.00",
          "0.00",
          "55.18",
          "114.02",
          "248.45",
          "140.45",
          "929.74",
          "0.00",
          "0.00",
          "0.00",
          "0.00",
          "25.98",
          "352.86",
          "0.00",
          "113.40",
          "3057.30",
          "0.00",
          "0.00",
          "76970.17",
          "0.00",
          "22997.23",
          "23526.60",
          "2.67",
          "13188.85",
          "12472.79"
         ],
         "textposition": "none",
         "type": "bar",
         "x": {
          "bdata": "AQIDBAUGBwgJCgsMDQ4PEBESExQVFhcYGRob",
          "dtype": "i1"
         },
         "y": {
          "bdata": "AAAAMIqFK0AAAABy7aBTQAAAgERrVGJAAAAAEJ4VNUAAAECrDLt4QAAAQJ+cQnpAAADACHjkc0AAAMD9Lr55QAAAQIJ2Q3pAAAAATXv/VkAAAIAFXhdhQAAAgFdLNmhAAAAAldrIXUAAAABSS0p6QAAAwCCLSHpAAAAAgIPPY0AAAECctUF6QAEAABjPQ3pAAQCA+5nUYEAAAADbWWRwQAAAQMp7yHpAAACAhLZ+YkAAAEDwNXB6QAAAQGuEwnpAAABAaj1DekAAAIA+Zl96QAAAAKAe2HpA",
          "dtype": "f8"
         },
         "zorder": 1
        }
       ],
       "layout": {
        "autosize": true,
        "barmode": "group",
        "legend": {
         "bgcolor": "rgba(255, 255, 255, 0.5)",
         "x": 0.01,
         "xanchor": "left",
         "y": 0.99,
         "yanchor": "top"
        },
        "margin": {
         "b": 10,
         "l": 10,
         "r": 10,
         "t": 10
        },
        "template": {
         "data": {
          "bar": [
           {
            "error_x": {
             "color": "#2a3f5f"
            },
            "error_y": {
             "color": "#2a3f5f"
            },
            "marker": {
             "line": {
              "color": "#E5ECF6",
              "width": 0.5
             },
             "pattern": {
              "fillmode": "overlay",
              "size": 10,
              "solidity": 0.2
             }
            },
            "type": "bar"
           }
          ],
          "barpolar": [
           {
            "marker": {
             "line": {
              "color": "#E5ECF6",
              "width": 0.5
             },
             "pattern": {
              "fillmode": "overlay",
              "size": 10,
              "solidity": 0.2
             }
            },
            "type": "barpolar"
           }
          ],
          "carpet": [
           {
            "aaxis": {
             "endlinecolor": "#2a3f5f",
             "gridcolor": "white",
             "linecolor": "white",
             "minorgridcolor": "white",
             "startlinecolor": "#2a3f5f"
            },
            "baxis": {
             "endlinecolor": "#2a3f5f",
             "gridcolor": "white",
             "linecolor": "white",
             "minorgridcolor": "white",
             "startlinecolor": "#2a3f5f"
            },
            "type": "carpet"
           }
          ],
          "choropleth": [
           {
            "colorbar": {
             "outlinewidth": 0,
             "ticks": ""
            },
            "type": "choropleth"
           }
          ],
          "contour": [
           {
            "colorbar": {
             "outlinewidth": 0,
             "ticks": ""
            },
            "colorscale": [
             [
              0,
              "#0d0887"
             ],
             [
              0.1111111111111111,
              "#46039f"
             ],
             [
              0.2222222222222222,
              "#7201a8"
             ],
             [
              0.3333333333333333,
              "#9c179e"
             ],
             [
              0.4444444444444444,
              "#bd3786"
             ],
             [
              0.5555555555555556,
              "#d8576b"
             ],
             [
              0.6666666666666666,
              "#ed7953"
             ],
             [
              0.7777777777777778,
              "#fb9f3a"
             ],
             [
              0.8888888888888888,
              "#fdca26"
             ],
             [
              1,
              "#f0f921"
             ]
            ],
            "type": "contour"
           }
          ],
          "contourcarpet": [
           {
            "colorbar": {
             "outlinewidth": 0,
             "ticks": ""
            },
            "type": "contourcarpet"
           }
          ],
          "heatmap": [
           {
            "colorbar": {
             "outlinewidth": 0,
             "ticks": ""
            },
            "colorscale": [
             [
              0,
              "#0d0887"
             ],
             [
              0.1111111111111111,
              "#46039f"
             ],
             [
              0.2222222222222222,
              "#7201a8"
             ],
             [
              0.3333333333333333,
              "#9c179e"
             ],
             [
              0.4444444444444444,
              "#bd3786"
             ],
             [
              0.5555555555555556,
              "#d8576b"
             ],
             [
              0.6666666666666666,
              "#ed7953"
             ],
             [
              0.7777777777777778,
              "#fb9f3a"
             ],
             [
              0.8888888888888888,
              "#fdca26"
             ],
             [
              1,
              "#f0f921"
             ]
            ],
            "type": "heatmap"
           }
          ],
          "histogram": [
           {
            "marker": {
             "pattern": {
              "fillmode": "overlay",
              "size": 10,
              "solidity": 0.2
             }
            },
            "type": "histogram"
           }
          ],
          "histogram2d": [
           {
            "colorbar": {
             "outlinewidth": 0,
             "ticks": ""
            },
            "colorscale": [
             [
              0,
              "#0d0887"
             ],
             [
              0.1111111111111111,
              "#46039f"
             ],
             [
              0.2222222222222222,
              "#7201a8"
             ],
             [
              0.3333333333333333,
              "#9c179e"
             ],
             [
              0.4444444444444444,
              "#bd3786"
             ],
             [
              0.5555555555555556,
              "#d8576b"
             ],
             [
              0.6666666666666666,
              "#ed7953"
             ],
             [
              0.7777777777777778,
              "#fb9f3a"
             ],
             [
              0.8888888888888888,
              "#fdca26"
             ],
             [
              1,
              "#f0f921"
             ]
            ],
            "type": "histogram2d"
           }
          ],
          "histogram2dcontour": [
           {
            "colorbar": {
             "outlinewidth": 0,
             "ticks": ""
            },
            "colorscale": [
             [
              0,
              "#0d0887"
             ],
             [
              0.1111111111111111,
              "#46039f"
             ],
             [
              0.2222222222222222,
              "#7201a8"
             ],
             [
              0.3333333333333333,
              "#9c179e"
             ],
             [
              0.4444444444444444,
              "#bd3786"
             ],
             [
              0.5555555555555556,
              "#d8576b"
             ],
             [
              0.6666666666666666,
              "#ed7953"
             ],
             [
              0.7777777777777778,
              "#fb9f3a"
             ],
             [
              0.8888888888888888,
              "#fdca26"
             ],
             [
              1,
              "#f0f921"
             ]
            ],
            "type": "histogram2dcontour"
           }
          ],
          "mesh3d": [
           {
            "colorbar": {
             "outlinewidth": 0,
             "ticks": ""
            },
            "type": "mesh3d"
           }
          ],
          "parcoords": [
           {
            "line": {
             "colorbar": {
              "outlinewidth": 0,
              "ticks": ""
             }
            },
            "type": "parcoords"
           }
          ],
          "pie": [
           {
            "automargin": true,
            "type": "pie"
           }
          ],
          "scatter": [
           {
            "fillpattern": {
             "fillmode": "overlay",
             "size": 10,
             "solidity": 0.2
            },
            "type": "scatter"
           }
          ],
          "scatter3d": [
           {
            "line": {
             "colorbar": {
              "outlinewidth": 0,
              "ticks": ""
             }
            },
            "marker": {
             "colorbar": {
              "outlinewidth": 0,
              "ticks": ""
             }
            },
            "type": "scatter3d"
           }
          ],
          "scattercarpet": [
           {
            "marker": {
             "colorbar": {
              "outlinewidth": 0,
              "ticks": ""
             }
            },
            "type": "scattercarpet"
           }
          ],
          "scattergeo": [
           {
            "marker": {
             "colorbar": {
              "outlinewidth": 0,
              "ticks": ""
             }
            },
            "type": "scattergeo"
           }
          ],
          "scattergl": [
           {
            "marker": {
             "colorbar": {
              "outlinewidth": 0,
              "ticks": ""
             }
            },
            "type": "scattergl"
           }
          ],
          "scattermap": [
           {
            "marker": {
             "colorbar": {
              "outlinewidth": 0,
              "ticks": ""
             }
            },
            "type": "scattermap"
           }
          ],
          "scattermapbox": [
           {
            "marker": {
             "colorbar": {
              "outlinewidth": 0,
              "ticks": ""
             }
            },
            "type": "scattermapbox"
           }
          ],
          "scatterpolar": [
           {
            "marker": {
             "colorbar": {
              "outlinewidth": 0,
              "ticks": ""
             }
            },
            "type": "scatterpolar"
           }
          ],
          "scatterpolargl": [
           {
            "marker": {
             "colorbar": {
              "outlinewidth": 0,
              "ticks": ""
             }
            },
            "type": "scatterpolargl"
           }
          ],
          "scatterternary": [
           {
            "marker": {
             "colorbar": {
              "outlinewidth": 0,
              "ticks": ""
             }
            },
            "type": "scatterternary"
           }
          ],
          "surface": [
           {
            "colorbar": {
             "outlinewidth": 0,
             "ticks": ""
            },
            "colorscale": [
             [
              0,
              "#0d0887"
             ],
             [
              0.1111111111111111,
              "#46039f"
             ],
             [
              0.2222222222222222,
              "#7201a8"
             ],
             [
              0.3333333333333333,
              "#9c179e"
             ],
             [
              0.4444444444444444,
              "#bd3786"
             ],
             [
              0.5555555555555556,
              "#d8576b"
             ],
             [
              0.6666666666666666,
              "#ed7953"
             ],
             [
              0.7777777777777778,
              "#fb9f3a"
             ],
             [
              0.8888888888888888,
              "#fdca26"
             ],
             [
              1,
              "#f0f921"
             ]
            ],
            "type": "surface"
           }
          ],
          "table": [
           {
            "cells": {
             "fill": {
              "color": "#EBF0F8"
             },
             "line": {
              "color": "white"
             }
            },
            "header": {
             "fill": {
              "color": "#C8D4E3"
             },
             "line": {
              "color": "white"
             }
            },
            "type": "table"
           }
          ]
         },
         "layout": {
          "annotationdefaults": {
           "arrowcolor": "#2a3f5f",
           "arrowhead": 0,
           "arrowwidth": 1
          },
          "autotypenumbers": "strict",
          "coloraxis": {
           "colorbar": {
            "outlinewidth": 0,
            "ticks": ""
           }
          },
          "colorscale": {
           "diverging": [
            [
             0,
             "#8e0152"
            ],
            [
             0.1,
             "#c51b7d"
            ],
            [
             0.2,
             "#de77ae"
            ],
            [
             0.3,
             "#f1b6da"
            ],
            [
             0.4,
             "#fde0ef"
            ],
            [
             0.5,
             "#f7f7f7"
            ],
            [
             0.6,
             "#e6f5d0"
            ],
            [
             0.7,
             "#b8e186"
            ],
            [
             0.8,
             "#7fbc41"
            ],
            [
             0.9,
             "#4d9221"
            ],
            [
             1,
             "#276419"
            ]
           ],
           "sequential": [
            [
             0,
             "#0d0887"
            ],
            [
             0.1111111111111111,
             "#46039f"
            ],
            [
             0.2222222222222222,
             "#7201a8"
            ],
            [
             0.3333333333333333,
             "#9c179e"
            ],
            [
             0.4444444444444444,
             "#bd3786"
            ],
            [
             0.5555555555555556,
             "#d8576b"
            ],
            [
             0.6666666666666666,
             "#ed7953"
            ],
            [
             0.7777777777777778,
             "#fb9f3a"
            ],
            [
             0.8888888888888888,
             "#fdca26"
            ],
            [
             1,
             "#f0f921"
            ]
           ],
           "sequentialminus": [
            [
             0,
             "#0d0887"
            ],
            [
             0.1111111111111111,
             "#46039f"
            ],
            [
             0.2222222222222222,
             "#7201a8"
            ],
            [
             0.3333333333333333,
             "#9c179e"
            ],
            [
             0.4444444444444444,
             "#bd3786"
            ],
            [
             0.5555555555555556,
             "#d8576b"
            ],
            [
             0.6666666666666666,
             "#ed7953"
            ],
            [
             0.7777777777777778,
             "#fb9f3a"
            ],
            [
             0.8888888888888888,
             "#fdca26"
            ],
            [
             1,
             "#f0f921"
            ]
           ]
          },
          "colorway": [
           "#636efa",
           "#EF553B",
           "#00cc96",
           "#ab63fa",
           "#FFA15A",
           "#19d3f3",
           "#FF6692",
           "#B6E880",
           "#FF97FF",
           "#FECB52"
          ],
          "font": {
           "color": "#2a3f5f"
          },
          "geo": {
           "bgcolor": "white",
           "lakecolor": "white",
           "landcolor": "#E5ECF6",
           "showlakes": true,
           "showland": true,
           "subunitcolor": "white"
          },
          "hoverlabel": {
           "align": "left"
          },
          "hovermode": "closest",
          "mapbox": {
           "style": "light"
          },
          "paper_bgcolor": "white",
          "plot_bgcolor": "#E5ECF6",
          "polar": {
           "angularaxis": {
            "gridcolor": "white",
            "linecolor": "white",
            "ticks": ""
           },
           "bgcolor": "#E5ECF6",
           "radialaxis": {
            "gridcolor": "white",
            "linecolor": "white",
            "ticks": ""
           }
          },
          "scene": {
           "xaxis": {
            "backgroundcolor": "#E5ECF6",
            "gridcolor": "white",
            "gridwidth": 2,
            "linecolor": "white",
            "showbackground": true,
            "ticks": "",
            "zerolinecolor": "white"
           },
           "yaxis": {
            "backgroundcolor": "#E5ECF6",
            "gridcolor": "white",
            "gridwidth": 2,
            "linecolor": "white",
            "showbackground": true,
            "ticks": "",
            "zerolinecolor": "white"
           },
           "zaxis": {
            "backgroundcolor": "#E5ECF6",
            "gridcolor": "white",
            "gridwidth": 2,
            "linecolor": "white",
            "showbackground": true,
            "ticks": "",
            "zerolinecolor": "white"
           }
          },
          "shapedefaults": {
           "line": {
            "color": "#2a3f5f"
           }
          },
          "ternary": {
           "aaxis": {
            "gridcolor": "white",
            "linecolor": "white",
            "ticks": ""
           },
           "baxis": {
            "gridcolor": "white",
            "linecolor": "white",
            "ticks": ""
           },
           "bgcolor": "#E5ECF6",
           "caxis": {
            "gridcolor": "white",
            "linecolor": "white",
            "ticks": ""
           }
          },
          "title": {
           "x": 0.05
          },
          "xaxis": {
           "automargin": true,
           "gridcolor": "white",
           "linecolor": "white",
           "ticks": "",
           "title": {
            "standoff": 15
           },
           "zerolinecolor": "white",
           "zerolinewidth": 2
          },
          "yaxis": {
           "automargin": true,
           "gridcolor": "white",
           "linecolor": "white",
           "ticks": "",
           "title": {
            "standoff": 15
           },
           "zerolinecolor": "white",
           "zerolinewidth": 2
          }
         }
        },
        "xaxis": {
         "tickmode": "array",
         "ticktext": [
          0,
          1,
          2,
          3,
          4,
          5,
          6,
          7,
          8,
          9,
          10,
          11,
          12,
          13,
          14,
          15,
          16,
          17,
          18,
          19,
          20,
          21,
          22,
          23,
          24,
          25,
          26,
          27
         ],
         "tickvals": [
          0,
          1,
          2,
          3,
          4,
          5,
          6,
          7,
          8,
          9,
          10,
          11,
          12,
          13,
          14,
          15,
          16,
          17,
          18,
          19,
          20,
          21,
          22,
          23,
          24,
          25,
          26,
          27
         ],
         "title": {
          "text": "Problem Instance (ID)"
         }
        },
        "yaxis": {
         "title": {
          "text": "Total Time (Runtime + Heuristics) (s)"
         }
        }
       }
      }
     },
     "metadata": {},
     "output_type": "display_data"
    }
   ],
   "source": [
    "import plotly.graph_objects as go\n",
    "\n",
    "\n",
    "lighten_percentage = 40\n",
    "\n",
    "# Create bar plot with visible zeros\n",
    "hovertemplate_text='Model: %{customdata[0]}<br>ID: %{x}<br>Gap: %{text}%<br>Nodes: %{customdata[1]}<br>Runtime: %{customdata[2]} s<br>Heuristics: %{customdata[3]} s<br>Total Time: %{customdata[4]} s<extra></extra>'\n",
    "fig = go.Figure(data=[\n",
    "    go.Bar(\n",
    "        name='Model 0', \n",
    "        x=df0['ID'], \n",
    "        y=df0['runtime'],\n",
    "        text=df0['gap'].apply(lambda x: f'{x:.2f}'),  # Format text to 2 decimal places\n",
    "        marker_color=colormap[0],\n",
    "        # Create a 2D array with multiple columns\n",
    "        customdata=np.dstack((\n",
    "            df0['model'], \n",
    "            df0['nodes'], \n",
    "            df0['runtime'].apply(lambda x: f'{x:.2f}'),\n",
    "            df0['heuristics_time'].apply(lambda x: f'{x:.2f}'),\n",
    "            df0['total_time'].apply(lambda x: f'{x:.2f}')\n",
    "        ))[0],\n",
    "        textposition='none',\n",
    "        hovertemplate=hovertemplate_text,\n",
    "        offsetgroup='0'\n",
    "    ),\n",
    "    go.Bar(\n",
    "        name='Model 1', \n",
    "        x=df1['ID'], \n",
    "        y=df1['runtime'],\n",
    "        text=df1['gap'].apply(lambda x: f'{x:.2f}'),\n",
    "        marker_color=colormap[1],\n",
    "        customdata=np.dstack((\n",
    "            df1['model'], \n",
    "            df1['nodes'], \n",
    "            df1['runtime'].apply(lambda x: f'{x:.2f}'),\n",
    "            df1['heuristics_time'].apply(lambda x: f'{x:.2f}'),\n",
    "            df1['total_time'].apply(lambda x: f'{x:.2f}')\n",
    "        ))[0],\n",
    "        textposition='none',\n",
    "        hovertemplate=hovertemplate_text,\n",
    "        offsetgroup='1',\n",
    "        zorder=2\n",
    "    ),\n",
    "    go.Bar(\n",
    "        name='Model 1', \n",
    "        x=df1['ID'], \n",
    "        y=df1['runtime'] + df1['heuristics_time'],\n",
    "        text=df1['gap'].apply(lambda x: f'{x:.2f}'),\n",
    "        marker_color=lighten_color(colormap[1], lighten_percentage),\n",
    "        customdata=np.dstack((\n",
    "            df1['model'], \n",
    "            df1['nodes'], \n",
    "            df1['runtime'].apply(lambda x: f'{x:.2f}'),\n",
    "            df1['heuristics_time'].apply(lambda x: f'{x:.2f}'),\n",
    "            df1['total_time'].apply(lambda x: f'{x:.2f}')\n",
    "        ))[0],\n",
    "        textposition='none',\n",
    "        hovertemplate=hovertemplate_text,\n",
    "        offsetgroup='1',\n",
    "        showlegend=False,\n",
    "        zorder=1\n",
    "    ),\n",
    "    go.Bar(\n",
    "        name='Model 2', \n",
    "        x=df2['ID'], \n",
    "        y=df2['runtime'],\n",
    "        text=df2['gap'].apply(lambda x: f'{x:.2f}'),\n",
    "        marker_color=colormap[2],\n",
    "        customdata=np.dstack((\n",
    "            df2['model'], \n",
    "            df2['nodes'], \n",
    "            df2['runtime'].apply(lambda x: f'{x:.2f}'),\n",
    "            df2['heuristics_time'].apply(lambda x: f'{x:.2f}'),\n",
    "            df2['total_time'].apply(lambda x: f'{x:.2f}')\n",
    "        ))[0],\n",
    "        textposition='none',\n",
    "        hovertemplate=hovertemplate_text,\n",
    "        offsetgroup='2',\n",
    "        zorder=2\n",
    "    ),\n",
    "    go.Bar(\n",
    "        name='Model 2',\n",
    "        x=df2['ID'],\n",
    "        y=df2['runtime'] + df2['heuristics_time'],\n",
    "        text=df2['gap'].apply(lambda x: f'{x:.2f}'),\n",
    "        marker_color=lighten_color(colormap[2], lighten_percentage),\n",
    "        customdata=np.dstack((\n",
    "            df2['model'], \n",
    "            df2['nodes'], \n",
    "            df2['runtime'].apply(lambda x: f'{x:.2f}'),\n",
    "            df2['heuristics_time'].apply(lambda x: f'{x:.2f}'),\n",
    "            df2['total_time'].apply(lambda x: f'{x:.2f}')\n",
    "        ))[0],\n",
    "        textposition='none',\n",
    "        hovertemplate=hovertemplate_text,\n",
    "        offsetgroup='2',\n",
    "        showlegend=False,\n",
    "        zorder=1\n",
    "    ),\n",
    "])\n",
    "\n",
    "# Add a subtle visual indication for zero values\n",
    "fig.update_layout(\n",
    "    autosize=True,   # let the container size drive the plot\n",
    "    margin=dict(l=10, r=10, t=10, b=10),    # width=1000,\n",
    "    # width=1000,\n",
    "    # height=600,\n",
    "    barmode='group',\n",
    "    yaxis = dict(\n",
    "        title = 'Total Time (Runtime + Heuristics) (s)',\n",
    "    ),\n",
    "    xaxis = dict(\n",
    "        title = 'Problem Instance (ID)',\n",
    "        tickmode = 'array',\n",
    "        tickvals = list(range(0, 28)),\n",
    "        ticktext = list(range(0, 28)),\n",
    "    ),\n",
    "    legend=dict(\n",
    "        x=0.01,\n",
    "        y=0.99,\n",
    "        xanchor='left',\n",
    "        yanchor='top',\n",
    "        bgcolor='rgba(255, 255, 255, 0.5)'\n",
    "    )\n",
    ")\n",
    "\n",
    "fig.show()\n",
    "\n",
    "\n",
    "# # Save as HTML\n",
    "# div_schedule = plot(\n",
    "#     fig, include_plotlyjs=True, config={\"responsive\": True}, output_type=\"div\"\n",
    "# )\n",
    "# # write div snippet to file\n",
    "# with open('../docs/images/results-total-time.html', 'w') as f:\n",
    "#     f.write(div_schedule)"
   ]
  },
  {
   "cell_type": "code",
   "execution_count": 31,
   "id": "9835f1a5",
   "metadata": {},
   "outputs": [],
   "source": [
    "# import plotly.graph_objects as go\n",
    "\n",
    "# # Create bar plot with visible zeros\n",
    "# hovertemplate_text='Model: %{customdata[0]}<br>ID: %{x}<br>Gap: %{text}%<br>Nodes: %{customdata[1]}<br>Runtime: %{customdata[2]} s<extra></extra>'\n",
    "# fig = go.Figure(data=[\n",
    "#     go.Bar(\n",
    "#         name='Model 0', \n",
    "#         x=df0['ID'], \n",
    "#         y=df0['iterations'],\n",
    "#         text=df0['gap'].apply(lambda x: f'{x:.2f}'),  # Format text to 2 decimal places\n",
    "#         # Create a 2D array with multiple columns\n",
    "#         customdata=np.dstack((df0['model'], df0['iterations'], df0['total_time'].apply(lambda x: f'{x:.2f}')))[0],\n",
    "#         textposition='none',\n",
    "#         hovertemplate=hovertemplate_text\n",
    "#     ),\n",
    "#     go.Bar(\n",
    "#         name='Model 1', \n",
    "#         x=df1['ID'], \n",
    "#         y=df1['iterations'],\n",
    "#         text=df1['gap'].apply(lambda x: f'{x:.2f}'),\n",
    "#         customdata=np.dstack((df1['model'], df1['iterations'], df1['total_time'].apply(lambda x: f'{x:.2f}')))[0],\n",
    "#         textposition='none',\n",
    "#         hovertemplate=hovertemplate_text\n",
    "#     ),\n",
    "#     go.Bar(\n",
    "#         name='Model 2', \n",
    "#         x=df2['ID'], \n",
    "#         y=df2['iterations'],\n",
    "#         text=df2['gap'].apply(lambda x: f'{x:.2f}'),\n",
    "#         customdata=np.dstack((df2['model'], df2['iterations'], df2['total_time'].apply(lambda x: f'{x:.2f}')))[0],\n",
    "#         textposition='none',\n",
    "#         hovertemplate=hovertemplate_text\n",
    "#     ),\n",
    "# ])\n",
    "\n",
    "# # Add a subtle visual indication for zero values\n",
    "# fig.update_layout(\n",
    "#     autosize=True,   # let the container size drive the plot\n",
    "#     margin=dict(l=10, r=10, t=10, b=10),    # width=1000,\n",
    "#     # width=1000,\n",
    "#     # height=600,\n",
    "#     barmode='group',\n",
    "#     yaxis = dict(\n",
    "#         title = 'Iterations',\n",
    "#     ),\n",
    "#     xaxis = dict(\n",
    "#         title = 'Problem Istance (ID)',\n",
    "#         tickmode = 'array',\n",
    "#         tickvals = list(range(0, 28)),\n",
    "#         ticktext = list(range(0, 28)),\n",
    "#     ),\n",
    "#     legend=dict(\n",
    "#         x=0.01,\n",
    "#         y=0.99,\n",
    "#         xanchor='left',\n",
    "#         yanchor='top',\n",
    "#         bgcolor='rgba(255, 255, 255, 0.5)'\n",
    "#     )\n",
    "# )\n",
    "\n",
    "# fig.show()\n",
    "\n",
    "# # # Save as HTML\n",
    "# # div_schedule = plot(\n",
    "# #     fig, include_plotlyjs=True, config={\"responsive\": True}, output_type=\"div\"\n",
    "# # )\n",
    "# # # write div snippet to file\n",
    "# # with open('../docs/images/results-iterations.html', 'w') as f:\n",
    "# #     f.write(div_schedule)\n",
    "\n"
   ]
  },
  {
   "cell_type": "markdown",
   "id": "09e98b93",
   "metadata": {},
   "source": [
    "***"
   ]
  },
  {
   "cell_type": "code",
   "execution_count": 11,
   "id": "5842b385",
   "metadata": {},
   "outputs": [],
   "source": [
    "import numpy as np\n",
    "import pandas as pd\n",
    "import matplotlib.pyplot as plt\n",
    "import seaborn as sns\n",
    "from plotly.offline import plot"
   ]
  },
  {
   "cell_type": "code",
   "execution_count": 12,
   "id": "06d9ec17",
   "metadata": {},
   "outputs": [],
   "source": [
    "RESULTFILE = '../results/results_new.csv'\n",
    "df = pd.read_csv(RESULTFILE)\n",
    "\n",
    "# Multiply gap column by 100\n",
    "df['gap'] = df['gap'] * 100\n",
    "\n",
    "df0 = df[df['model']==0].copy()\n",
    "df1 = df[df['model']==1].copy()\n",
    "df2 = df[df['model']==2].copy()"
   ]
  },
  {
   "cell_type": "code",
   "execution_count": 13,
   "id": "07c6a21d",
   "metadata": {},
   "outputs": [],
   "source": [
    "RESULTFILE_e = '../results/results_extra.csv'\n",
    "df_e = pd.read_csv(RESULTFILE_e)\n",
    "\n",
    "# Multiply gap column by 100\n",
    "df_e['gap'] = df_e['gap'] * 100\n",
    "\n",
    "df1e = df_e[df_e['model']==1].copy()\n",
    "df2e = df_e[df_e['model']==2].copy()"
   ]
  },
  {
   "cell_type": "code",
   "execution_count": 22,
   "id": "aa6d5348",
   "metadata": {},
   "outputs": [
    {
     "name": "stdout",
     "output_type": "stream",
     "text": [
      "    ID  model   N   J    T     P  K      status     runtime  heuristics_time  \\\n",
      "0    1      1  10  10   10  2000  3     OPTIMAL    0.215024        13.554680   \n",
      "2    2      1  10  10   50  2000  3     OPTIMAL   30.582666        72.599329   \n",
      "4    3      1  10  10  100  2000  3     OPTIMAL   19.412125       120.160554   \n",
      "6    4      1  10  40   10  2000  3  TIME_LIMIT  300.001683        17.439026   \n",
      "8    5      1  10  40   50  2000  3  TIME_LIMIT  300.008174        95.686853   \n",
      "10   6      1  10  40  100  2000  3  TIME_LIMIT  300.002212       120.123584   \n",
      "12   7      1  10  80   10  2000  3  TIME_LIMIT  300.000994        18.278626   \n",
      "14   8      1  10  80   50  2000  3  TIME_LIMIT  300.002595       111.877104   \n",
      "16   9      1  10  80  100  2000  3  TIME_LIMIT  300.003084       120.142840   \n",
      "18  10      1  20  10   10  2000  3     OPTIMAL    2.597891        89.666137   \n",
      "20  11      1  20  10   50  2000  3     OPTIMAL   15.696527       120.235180   \n",
      "22  12      1  20  10  100  2000  3     OPTIMAL   62.598827       121.018944   \n",
      "24  13      1  20  40   10  2000  3     OPTIMAL   13.718960       108.757144   \n",
      "26  14      1  20  40   50  2000  3  TIME_LIMIT  300.052316       120.603864   \n",
      "28  15      1  20  40  100  2000  3  TIME_LIMIT  300.091567       120.252589   \n",
      "30  16      1  20  80   10  2000  3     OPTIMAL   34.439713       120.024129   \n",
      "32  17      1  20  80   50  2000  3  TIME_LIMIT  300.042895       120.052565   \n",
      "36  19      1  40  10   10  2000  3     OPTIMAL   12.129033       120.552696   \n",
      "38  20      1  40  10   50  2000  3     OPTIMAL  177.938799       121.385561   \n",
      "42  22      1  40  40   10  2000  3     OPTIMAL   27.608358       120.280646   \n",
      "48  25      1  40  80   10  2000  3  TIME_LIMIT  300.042899       120.160419   \n",
      "\n",
      "    total_time         gap     objective    nodes  iterations  timelimit  \\\n",
      "0    13.769704    0.000000  3.591138e+04      3.0       814.0        300   \n",
      "2   103.181994    0.002915  2.420358e+05   1111.0     32754.0        300   \n",
      "4   139.572679    0.000000  4.543764e+05     86.0     19826.0        300   \n",
      "6   317.440709   16.932714  1.780026e+05  80836.0   1449000.0        300   \n",
      "8   395.695027   48.001483  1.168747e+06   6337.0    452375.0        300   \n",
      "10  420.125796   87.811747  2.723354e+06    655.0    217210.0        300   \n",
      "12  318.279620  242.121655  1.501241e+05  34208.0   1493712.0        300   \n",
      "14  411.879699  103.367421  1.813297e+06    718.0    422969.0        300   \n",
      "16  420.145924  124.382296  4.012392e+06    702.0    217533.0        300   \n",
      "18   92.264028    0.000000  6.883477e+04     55.0      1467.0        300   \n",
      "20  135.931707    0.000000  5.760531e+05      3.0      8069.0        300   \n",
      "22  183.617771    0.000000  1.294787e+06     38.0     14472.0        300   \n",
      "24  122.476104    0.000000  3.449102e+05    334.0     11060.0        300   \n",
      "26  420.656180   17.262238  2.612942e+06   1412.0     70767.0        300   \n",
      "28  420.344156   29.369654  4.634310e+06     74.0     83032.0        300   \n",
      "30  154.463842    0.000000  5.799357e+05   1156.0     20582.0        300   \n",
      "32  420.095459  114.321223  5.011376e+06    587.0     84619.0        300   \n",
      "36  132.681729    0.000000  1.753367e+05      3.0      2377.0        300   \n",
      "38  299.324360    0.000000  5.279439e+05      3.0     13761.0        300   \n",
      "42  147.889004    0.000000  6.770150e+05     44.0      8951.0        300   \n",
      "48  420.203318    2.305610  1.609151e+06   5753.0    137160.0        300   \n",
      "\n",
      "    heuristics_limit  \n",
      "0                120  \n",
      "2                120  \n",
      "4                120  \n",
      "6                120  \n",
      "8                120  \n",
      "10               120  \n",
      "12               120  \n",
      "14               120  \n",
      "16               120  \n",
      "18               120  \n",
      "20               120  \n",
      "22               120  \n",
      "24               120  \n",
      "26               120  \n",
      "28               120  \n",
      "30               120  \n",
      "32               120  \n",
      "36               120  \n",
      "38               120  \n",
      "42               120  \n",
      "48               120  \n"
     ]
    }
   ],
   "source": [
    "print(df1)"
   ]
  },
  {
   "cell_type": "code",
   "execution_count": 15,
   "id": "649d39e7",
   "metadata": {},
   "outputs": [
    {
     "data": {
      "text/plain": [
       "array([ 1,  2,  3,  4,  5,  6,  7,  8,  9, 10, 11, 12, 13, 14, 15, 16, 17,\n",
       "       19, 20, 22, 25])"
      ]
     },
     "execution_count": 15,
     "metadata": {},
     "output_type": "execute_result"
    }
   ],
   "source": [
    "instances = df1e['ID'].values\n",
    "instances"
   ]
  },
  {
   "cell_type": "code",
   "execution_count": 16,
   "id": "2516a2b0",
   "metadata": {},
   "outputs": [],
   "source": [
    "df1 = df1[df1['ID'].isin(df1e['ID'])]\n",
    "df2 = df2[df2['ID'].isin(df1e['ID'])]"
   ]
  },
  {
   "cell_type": "code",
   "execution_count": null,
   "id": "a3a688e4",
   "metadata": {},
   "outputs": [
    {
     "data": {
      "application/vnd.plotly.v1+json": {
       "config": {
        "plotlyServerURL": "https://plot.ly"
       },
       "data": [
        {
         "customdata": [
          [
           1,
           3,
           "0.22",
           "13.55",
           "13.77"
          ],
          [
           1,
           1111,
           "30.58",
           "72.60",
           "103.18"
          ],
          [
           1,
           86,
           "19.41",
           "120.16",
           "139.57"
          ],
          [
           1,
           80836,
           "300.00",
           "17.44",
           "317.44"
          ],
          [
           1,
           6337,
           "300.01",
           "95.69",
           "395.70"
          ],
          [
           1,
           655,
           "300.00",
           "120.12",
           "420.13"
          ],
          [
           1,
           34208,
           "300.00",
           "18.28",
           "318.28"
          ],
          [
           1,
           718,
           "300.00",
           "111.88",
           "411.88"
          ],
          [
           1,
           702,
           "300.00",
           "120.14",
           "420.15"
          ],
          [
           1,
           55,
           "2.60",
           "89.67",
           "92.26"
          ],
          [
           1,
           3,
           "15.70",
           "120.24",
           "135.93"
          ],
          [
           1,
           38,
           "62.60",
           "121.02",
           "183.62"
          ],
          [
           1,
           334,
           "13.72",
           "108.76",
           "122.48"
          ],
          [
           1,
           1412,
           "300.05",
           "120.60",
           "420.66"
          ],
          [
           1,
           74,
           "300.09",
           "120.25",
           "420.34"
          ],
          [
           1,
           1156,
           "34.44",
           "120.02",
           "154.46"
          ],
          [
           1,
           587,
           "300.04",
           "120.05",
           "420.10"
          ],
          [
           1,
           3,
           "12.13",
           "120.55",
           "132.68"
          ],
          [
           1,
           3,
           "177.94",
           "121.39",
           "299.32"
          ],
          [
           1,
           44,
           "27.61",
           "120.28",
           "147.89"
          ],
          [
           1,
           5753,
           "300.04",
           "120.16",
           "420.20"
          ]
         ],
         "hovertemplate": "Model: %{customdata[0]}<br>ID: %{x}<br>Gap: %{text}%<br>Nodes: %{customdata[1]}<br>Runtime: %{customdata[2]} s<br>Heuristics: %{customdata[3]} s<br>Total Time: %{customdata[4]} s<extra></extra>",
         "marker": {
          "color": "#EF553B"
         },
         "name": "Model 1",
         "offsetgroup": "1",
         "text": [
          "0.00",
          "0.00",
          "0.00",
          "16.93",
          "48.00",
          "87.81",
          "242.12",
          "103.37",
          "124.38",
          "0.00",
          "0.00",
          "0.00",
          "0.00",
          "17.26",
          "29.37",
          "0.00",
          "114.32",
          "0.00",
          "0.00",
          "0.00",
          "2.31"
         ],
         "textposition": "none",
         "type": "bar",
         "x": [
          0,
          1,
          2,
          3,
          4,
          5,
          6,
          7,
          8,
          9,
          10,
          11,
          12,
          13,
          14,
          15,
          16,
          17,
          18,
          19,
          20
         ],
         "y": {
          "bdata": "AAAAAAAAAEAAAAAAAAAAQAAAAAAAAABACtZTWcbuMEBXm8iYMABIQJhTBKvz81VAwZPOmORDbkDbCyDUg9dZQBCpEop3GF9AAAAAAAAAAEAAAAAAAAAAQAAAAAAAAABAAAAAAAAAAECvtXMCIkMxQHYCUZ6hXj1AAAAAAAAAAEAWxUDqjpRcQAAAAAAAAABAAAAAAAAAAEAAAAAAAAAAQBJ/q7njcQJA",
          "dtype": "f8"
         }
        },
        {
         "customdata": [
          [
           1,
           39,
           "0.34",
           "13.01",
           "13.35"
          ],
          [
           1,
           656,
           "17.81",
           "84.48",
           "102.29"
          ],
          [
           1,
           133,
           "19.66",
           "120.05",
           "139.71"
          ],
          [
           1,
           67220,
           "300.00",
           "20.01",
           "320.01"
          ],
          [
           1,
           6445,
           "300.00",
           "96.64",
           "396.65"
          ],
          [
           1,
           706,
           "300.01",
           "120.23",
           "420.24"
          ],
          [
           1,
           34848,
           "300.00",
           "18.04",
           "318.04"
          ],
          [
           1,
           796,
           "300.01",
           "112.42",
           "412.43"
          ],
          [
           1,
           1265,
           "300.01",
           "120.12",
           "420.12"
          ],
          [
           1,
           21,
           "1.67",
           "79.80",
           "81.47"
          ],
          [
           1,
           3,
           "15.82",
           "120.30",
           "136.13"
          ],
          [
           1,
           44,
           "62.14",
           "120.79",
           "182.94"
          ],
          [
           1,
           206,
           "6.82",
           "89.75",
           "96.57"
          ],
          [
           1,
           1626,
           "300.04",
           "120.44",
           "420.48"
          ],
          [
           1,
           140,
           "300.09",
           "120.70",
           "420.79"
          ],
          [
           1,
           23020,
           "300.00",
           "99.02",
           "399.03"
          ],
          [
           1,
           613,
           "300.02",
           "120.35",
           "420.37"
          ],
          [
           1,
           3,
           "8.83",
           "120.23",
           "129.05"
          ],
          [
           1,
           3,
           "169.15",
           "121.97",
           "291.11"
          ],
          [
           1,
           70,
           "30.47",
           "120.54",
           "151.01"
          ],
          [
           1,
           6017,
           "300.04",
           "120.95",
           "420.99"
          ]
         ],
         "hovertemplate": "Model: %{customdata[0]}<br>ID: %{x}<br>Gap: %{text}%<br>Nodes: %{customdata[1]}<br>Runtime: %{customdata[2]} s<br>Heuristics: %{customdata[3]} s<br>Total Time: %{customdata[4]} s<extra></extra>",
         "marker": {
          "color": "#FF6692"
         },
         "name": "Model 1 (no 15)",
         "offsetgroup": "2",
         "text": [
          "0.00",
          "0.00",
          "0.00",
          "11.69",
          "50.32",
          "88.74",
          "262.09",
          "96.82",
          "128.13",
          "0.00",
          "0.00",
          "0.00",
          "0.00",
          "13.52",
          "28.90",
          "6.59",
          "85.51",
          "0.00",
          "0.00",
          "0.00",
          "1.56"
         ],
         "textposition": "none",
         "type": "bar",
         "x": [
          0,
          1,
          2,
          3,
          4,
          5,
          6,
          7,
          8,
          9,
          10,
          11,
          12,
          13,
          14,
          15,
          16,
          17,
          18,
          19,
          20
         ],
         "y": {
          "bdata": "AAAAAAAAAEAAAAAAAAAAQAAAAAAAAABANetegRlgJ0BMj0ZSHilJQLRZ/YANL1ZAMq/eOG5hcEDU+6+qYDRYQPv2MrItBGBAAAAAAAAAAEAAAAAAAAAAQAAAAAAAAABAAAAAAAAAAEBcwcKOngkrQIs4BEQM5zxA/MoKYX9cGkDsjPggWWBVQAAAAAAAAABAAAAAAAAAAEAAAAAAAAAAQEpu+bhR5/g/",
          "dtype": "f8"
         }
        },
        {
         "customdata": [
          [
           2,
           3,
           "0.21",
           "13.55",
           "13.76"
          ],
          [
           2,
           63,
           "5.92",
           "72.60",
           "78.51"
          ],
          [
           2,
           102,
           "26.48",
           "120.16",
           "146.64"
          ],
          [
           2,
           624,
           "3.65",
           "17.44",
           "21.08"
          ],
          [
           2,
           1788,
           "300.00",
           "95.69",
           "395.69"
          ],
          [
           2,
           231,
           "300.04",
           "120.12",
           "420.16"
          ],
          [
           2,
           22890,
           "300.00",
           "18.28",
           "318.28"
          ],
          [
           2,
           547,
           "300.01",
           "111.88",
           "411.89"
          ],
          [
           2,
           1,
           "300.07",
           "120.14",
           "420.22"
          ],
          [
           2,
           55,
           "2.33",
           "89.67",
           "91.99"
          ],
          [
           2,
           3,
           "16.50",
           "120.24",
           "136.73"
          ],
          [
           2,
           43,
           "72.68",
           "121.02",
           "193.70"
          ],
          [
           2,
           260,
           "10.38",
           "108.76",
           "119.14"
          ],
          [
           2,
           1323,
           "300.04",
           "120.60",
           "420.64"
          ],
          [
           2,
           1,
           "300.28",
           "120.25",
           "420.53"
          ],
          [
           2,
           1179,
           "38.46",
           "120.02",
           "158.48"
          ],
          [
           2,
           314,
           "300.05",
           "120.05",
           "420.11"
          ],
          [
           2,
           3,
           "14.09",
           "120.55",
           "134.64"
          ],
          [
           2,
           3,
           "140.89",
           "121.39",
           "262.27"
          ],
          [
           2,
           51,
           "27.68",
           "120.28",
           "147.96"
          ],
          [
           2,
           5382,
           "300.04",
           "120.16",
           "420.20"
          ]
         ],
         "hovertemplate": "Model: %{customdata[0]}<br>ID: %{x}<br>Gap: %{text}%<br>Nodes: %{customdata[1]}<br>Runtime: %{customdata[2]} s<br>Heuristics: %{customdata[3]} s<br>Total Time: %{customdata[4]} s<extra></extra>",
         "marker": {
          "color": "#00CC96"
         },
         "name": "Model 2",
         "offsetgroup": "3",
         "text": [
          "0.00",
          "0.00",
          "0.00",
          "0.00",
          "55.18",
          "114.02",
          "248.45",
          "140.45",
          "929.74",
          "0.00",
          "0.00",
          "0.00",
          "0.00",
          "25.98",
          "352.86",
          "0.00",
          "113.40",
          "0.00",
          "0.00",
          "0.00",
          "2.67"
         ],
         "textposition": "none",
         "type": "bar",
         "x": [
          0,
          1,
          2,
          3,
          4,
          5,
          6,
          7,
          8,
          9,
          10,
          11,
          12,
          13,
          14,
          15,
          16,
          17,
          18,
          19,
          20
         ],
         "y": {
          "bdata": "AAAAAAAAAEAAAAAAAAAAQAAAAAAAAABAAAAAAAAAAECMzmyhkZdLQFdolgeAgVxAi1IXwoEOb0D0Vc/8dY5hQMNoiMHyDY1AAAAAAAAAAEAAAAAAAAAAQAAAAAAAAABAAAAAAAAAAEDOqnL5nfs5QDD8jCa8DXZAAAAAAAAAAEB5Z2DEhllcQAAAAAAAAABAAAAAAAAAAEAAAAAAAAAAQOSedBmmUgVA",
          "dtype": "f8"
         }
        },
        {
         "customdata": [
          [
           2,
           39,
           "0.33",
           "13.01",
           "13.34"
          ],
          [
           2,
           847,
           "34.26",
           "84.48",
           "118.74"
          ],
          [
           2,
           119,
           "29.68",
           "120.05",
           "149.73"
          ],
          [
           2,
           67249,
           "300.00",
           "20.01",
           "320.01"
          ],
          [
           2,
           1778,
           "300.02",
           "96.64",
           "396.66"
          ],
          [
           2,
           206,
           "300.02",
           "120.23",
           "420.25"
          ],
          [
           2,
           20153,
           "300.00",
           "18.04",
           "318.04"
          ],
          [
           2,
           530,
           "300.00",
           "112.42",
           "412.43"
          ],
          [
           2,
           1,
           "300.02",
           "120.12",
           "420.14"
          ],
          [
           2,
           21,
           "1.70",
           "79.80",
           "81.49"
          ],
          [
           2,
           3,
           "15.35",
           "120.30",
           "135.65"
          ],
          [
           2,
           59,
           "63.82",
           "120.79",
           "184.62"
          ],
          [
           2,
           191,
           "7.60",
           "89.75",
           "97.35"
          ],
          [
           2,
           1442,
           "300.04",
           "120.44",
           "420.48"
          ],
          [
           2,
           1,
           "300.24",
           "120.70",
           "420.94"
          ],
          [
           2,
           22246,
           "300.00",
           "99.02",
           "399.03"
          ],
          [
           2,
           508,
           "300.02",
           "120.35",
           "420.37"
          ],
          [
           2,
           3,
           "9.26",
           "120.23",
           "129.49"
          ],
          [
           2,
           3,
           "177.10",
           "121.97",
           "299.06"
          ],
          [
           2,
           56,
           "25.88",
           "120.54",
           "146.42"
          ],
          [
           2,
           5703,
           "300.04",
           "120.95",
           "420.99"
          ]
         ],
         "hovertemplate": "Model: %{customdata[0]}<br>ID: %{x}<br>Gap: %{text}%<br>Nodes: %{customdata[1]}<br>Runtime: %{customdata[2]} s<br>Heuristics: %{customdata[3]} s<br>Total Time: %{customdata[4]} s<extra></extra>",
         "marker": {
          "color": "#B6E880"
         },
         "name": "Model 2 (no 15)",
         "offsetgroup": "4",
         "text": [
          "0.00",
          "0.00",
          "0.00",
          "13.91",
          "54.91",
          "114.11",
          "265.26",
          "139.30",
          "924.97",
          "0.00",
          "0.00",
          "0.00",
          "0.00",
          "15.64",
          "437.20",
          "8.89",
          "114.46",
          "0.00",
          "0.00",
          "0.00",
          "2.68"
         ],
         "textposition": "none",
         "type": "bar",
         "x": [
          0,
          1,
          2,
          3,
          4,
          5,
          6,
          7,
          8,
          9,
          10,
          11,
          12,
          13,
          14,
          15,
          16,
          17,
          18,
          19,
          20
         ],
         "y": {
          "bdata": "AAAAAAAAAEAAAAAAAAAAQAAAAAAAAABAVJurrqjQK0D4R63EDXRLQBLp4CYEh1xA2slLxjyUcECIfT9kqmlhQNE51drB54xAAAAAAAAAAEAAAAAAAAAAQAAAAAAAAABAAAAAAAAAAECqE6pMYkgvQBvM3J0iU3tAnZs6RIzIIUA7pITfhZ1cQAAAAAAAAABAAAAAAAAAAEAAAAAAAAAAQDpcEfhWcQVA",
          "dtype": "f8"
         }
        }
       ],
       "layout": {
        "autosize": true,
        "barmode": "group",
        "legend": {
         "bgcolor": "rgba(255, 255, 255, 0.5)",
         "x": 0.01,
         "xanchor": "left",
         "y": 0.99,
         "yanchor": "top"
        },
        "margin": {
         "b": 10,
         "l": 10,
         "r": 10,
         "t": 10
        },
        "template": {
         "data": {
          "bar": [
           {
            "error_x": {
             "color": "#2a3f5f"
            },
            "error_y": {
             "color": "#2a3f5f"
            },
            "marker": {
             "line": {
              "color": "#E5ECF6",
              "width": 0.5
             },
             "pattern": {
              "fillmode": "overlay",
              "size": 10,
              "solidity": 0.2
             }
            },
            "type": "bar"
           }
          ],
          "barpolar": [
           {
            "marker": {
             "line": {
              "color": "#E5ECF6",
              "width": 0.5
             },
             "pattern": {
              "fillmode": "overlay",
              "size": 10,
              "solidity": 0.2
             }
            },
            "type": "barpolar"
           }
          ],
          "carpet": [
           {
            "aaxis": {
             "endlinecolor": "#2a3f5f",
             "gridcolor": "white",
             "linecolor": "white",
             "minorgridcolor": "white",
             "startlinecolor": "#2a3f5f"
            },
            "baxis": {
             "endlinecolor": "#2a3f5f",
             "gridcolor": "white",
             "linecolor": "white",
             "minorgridcolor": "white",
             "startlinecolor": "#2a3f5f"
            },
            "type": "carpet"
           }
          ],
          "choropleth": [
           {
            "colorbar": {
             "outlinewidth": 0,
             "ticks": ""
            },
            "type": "choropleth"
           }
          ],
          "contour": [
           {
            "colorbar": {
             "outlinewidth": 0,
             "ticks": ""
            },
            "colorscale": [
             [
              0,
              "#0d0887"
             ],
             [
              0.1111111111111111,
              "#46039f"
             ],
             [
              0.2222222222222222,
              "#7201a8"
             ],
             [
              0.3333333333333333,
              "#9c179e"
             ],
             [
              0.4444444444444444,
              "#bd3786"
             ],
             [
              0.5555555555555556,
              "#d8576b"
             ],
             [
              0.6666666666666666,
              "#ed7953"
             ],
             [
              0.7777777777777778,
              "#fb9f3a"
             ],
             [
              0.8888888888888888,
              "#fdca26"
             ],
             [
              1,
              "#f0f921"
             ]
            ],
            "type": "contour"
           }
          ],
          "contourcarpet": [
           {
            "colorbar": {
             "outlinewidth": 0,
             "ticks": ""
            },
            "type": "contourcarpet"
           }
          ],
          "heatmap": [
           {
            "colorbar": {
             "outlinewidth": 0,
             "ticks": ""
            },
            "colorscale": [
             [
              0,
              "#0d0887"
             ],
             [
              0.1111111111111111,
              "#46039f"
             ],
             [
              0.2222222222222222,
              "#7201a8"
             ],
             [
              0.3333333333333333,
              "#9c179e"
             ],
             [
              0.4444444444444444,
              "#bd3786"
             ],
             [
              0.5555555555555556,
              "#d8576b"
             ],
             [
              0.6666666666666666,
              "#ed7953"
             ],
             [
              0.7777777777777778,
              "#fb9f3a"
             ],
             [
              0.8888888888888888,
              "#fdca26"
             ],
             [
              1,
              "#f0f921"
             ]
            ],
            "type": "heatmap"
           }
          ],
          "histogram": [
           {
            "marker": {
             "pattern": {
              "fillmode": "overlay",
              "size": 10,
              "solidity": 0.2
             }
            },
            "type": "histogram"
           }
          ],
          "histogram2d": [
           {
            "colorbar": {
             "outlinewidth": 0,
             "ticks": ""
            },
            "colorscale": [
             [
              0,
              "#0d0887"
             ],
             [
              0.1111111111111111,
              "#46039f"
             ],
             [
              0.2222222222222222,
              "#7201a8"
             ],
             [
              0.3333333333333333,
              "#9c179e"
             ],
             [
              0.4444444444444444,
              "#bd3786"
             ],
             [
              0.5555555555555556,
              "#d8576b"
             ],
             [
              0.6666666666666666,
              "#ed7953"
             ],
             [
              0.7777777777777778,
              "#fb9f3a"
             ],
             [
              0.8888888888888888,
              "#fdca26"
             ],
             [
              1,
              "#f0f921"
             ]
            ],
            "type": "histogram2d"
           }
          ],
          "histogram2dcontour": [
           {
            "colorbar": {
             "outlinewidth": 0,
             "ticks": ""
            },
            "colorscale": [
             [
              0,
              "#0d0887"
             ],
             [
              0.1111111111111111,
              "#46039f"
             ],
             [
              0.2222222222222222,
              "#7201a8"
             ],
             [
              0.3333333333333333,
              "#9c179e"
             ],
             [
              0.4444444444444444,
              "#bd3786"
             ],
             [
              0.5555555555555556,
              "#d8576b"
             ],
             [
              0.6666666666666666,
              "#ed7953"
             ],
             [
              0.7777777777777778,
              "#fb9f3a"
             ],
             [
              0.8888888888888888,
              "#fdca26"
             ],
             [
              1,
              "#f0f921"
             ]
            ],
            "type": "histogram2dcontour"
           }
          ],
          "mesh3d": [
           {
            "colorbar": {
             "outlinewidth": 0,
             "ticks": ""
            },
            "type": "mesh3d"
           }
          ],
          "parcoords": [
           {
            "line": {
             "colorbar": {
              "outlinewidth": 0,
              "ticks": ""
             }
            },
            "type": "parcoords"
           }
          ],
          "pie": [
           {
            "automargin": true,
            "type": "pie"
           }
          ],
          "scatter": [
           {
            "fillpattern": {
             "fillmode": "overlay",
             "size": 10,
             "solidity": 0.2
            },
            "type": "scatter"
           }
          ],
          "scatter3d": [
           {
            "line": {
             "colorbar": {
              "outlinewidth": 0,
              "ticks": ""
             }
            },
            "marker": {
             "colorbar": {
              "outlinewidth": 0,
              "ticks": ""
             }
            },
            "type": "scatter3d"
           }
          ],
          "scattercarpet": [
           {
            "marker": {
             "colorbar": {
              "outlinewidth": 0,
              "ticks": ""
             }
            },
            "type": "scattercarpet"
           }
          ],
          "scattergeo": [
           {
            "marker": {
             "colorbar": {
              "outlinewidth": 0,
              "ticks": ""
             }
            },
            "type": "scattergeo"
           }
          ],
          "scattergl": [
           {
            "marker": {
             "colorbar": {
              "outlinewidth": 0,
              "ticks": ""
             }
            },
            "type": "scattergl"
           }
          ],
          "scattermap": [
           {
            "marker": {
             "colorbar": {
              "outlinewidth": 0,
              "ticks": ""
             }
            },
            "type": "scattermap"
           }
          ],
          "scattermapbox": [
           {
            "marker": {
             "colorbar": {
              "outlinewidth": 0,
              "ticks": ""
             }
            },
            "type": "scattermapbox"
           }
          ],
          "scatterpolar": [
           {
            "marker": {
             "colorbar": {
              "outlinewidth": 0,
              "ticks": ""
             }
            },
            "type": "scatterpolar"
           }
          ],
          "scatterpolargl": [
           {
            "marker": {
             "colorbar": {
              "outlinewidth": 0,
              "ticks": ""
             }
            },
            "type": "scatterpolargl"
           }
          ],
          "scatterternary": [
           {
            "marker": {
             "colorbar": {
              "outlinewidth": 0,
              "ticks": ""
             }
            },
            "type": "scatterternary"
           }
          ],
          "surface": [
           {
            "colorbar": {
             "outlinewidth": 0,
             "ticks": ""
            },
            "colorscale": [
             [
              0,
              "#0d0887"
             ],
             [
              0.1111111111111111,
              "#46039f"
             ],
             [
              0.2222222222222222,
              "#7201a8"
             ],
             [
              0.3333333333333333,
              "#9c179e"
             ],
             [
              0.4444444444444444,
              "#bd3786"
             ],
             [
              0.5555555555555556,
              "#d8576b"
             ],
             [
              0.6666666666666666,
              "#ed7953"
             ],
             [
              0.7777777777777778,
              "#fb9f3a"
             ],
             [
              0.8888888888888888,
              "#fdca26"
             ],
             [
              1,
              "#f0f921"
             ]
            ],
            "type": "surface"
           }
          ],
          "table": [
           {
            "cells": {
             "fill": {
              "color": "#EBF0F8"
             },
             "line": {
              "color": "white"
             }
            },
            "header": {
             "fill": {
              "color": "#C8D4E3"
             },
             "line": {
              "color": "white"
             }
            },
            "type": "table"
           }
          ]
         },
         "layout": {
          "annotationdefaults": {
           "arrowcolor": "#2a3f5f",
           "arrowhead": 0,
           "arrowwidth": 1
          },
          "autotypenumbers": "strict",
          "coloraxis": {
           "colorbar": {
            "outlinewidth": 0,
            "ticks": ""
           }
          },
          "colorscale": {
           "diverging": [
            [
             0,
             "#8e0152"
            ],
            [
             0.1,
             "#c51b7d"
            ],
            [
             0.2,
             "#de77ae"
            ],
            [
             0.3,
             "#f1b6da"
            ],
            [
             0.4,
             "#fde0ef"
            ],
            [
             0.5,
             "#f7f7f7"
            ],
            [
             0.6,
             "#e6f5d0"
            ],
            [
             0.7,
             "#b8e186"
            ],
            [
             0.8,
             "#7fbc41"
            ],
            [
             0.9,
             "#4d9221"
            ],
            [
             1,
             "#276419"
            ]
           ],
           "sequential": [
            [
             0,
             "#0d0887"
            ],
            [
             0.1111111111111111,
             "#46039f"
            ],
            [
             0.2222222222222222,
             "#7201a8"
            ],
            [
             0.3333333333333333,
             "#9c179e"
            ],
            [
             0.4444444444444444,
             "#bd3786"
            ],
            [
             0.5555555555555556,
             "#d8576b"
            ],
            [
             0.6666666666666666,
             "#ed7953"
            ],
            [
             0.7777777777777778,
             "#fb9f3a"
            ],
            [
             0.8888888888888888,
             "#fdca26"
            ],
            [
             1,
             "#f0f921"
            ]
           ],
           "sequentialminus": [
            [
             0,
             "#0d0887"
            ],
            [
             0.1111111111111111,
             "#46039f"
            ],
            [
             0.2222222222222222,
             "#7201a8"
            ],
            [
             0.3333333333333333,
             "#9c179e"
            ],
            [
             0.4444444444444444,
             "#bd3786"
            ],
            [
             0.5555555555555556,
             "#d8576b"
            ],
            [
             0.6666666666666666,
             "#ed7953"
            ],
            [
             0.7777777777777778,
             "#fb9f3a"
            ],
            [
             0.8888888888888888,
             "#fdca26"
            ],
            [
             1,
             "#f0f921"
            ]
           ]
          },
          "colorway": [
           "#636efa",
           "#EF553B",
           "#00cc96",
           "#ab63fa",
           "#FFA15A",
           "#19d3f3",
           "#FF6692",
           "#B6E880",
           "#FF97FF",
           "#FECB52"
          ],
          "font": {
           "color": "#2a3f5f"
          },
          "geo": {
           "bgcolor": "white",
           "lakecolor": "white",
           "landcolor": "#E5ECF6",
           "showlakes": true,
           "showland": true,
           "subunitcolor": "white"
          },
          "hoverlabel": {
           "align": "left"
          },
          "hovermode": "closest",
          "mapbox": {
           "style": "light"
          },
          "paper_bgcolor": "white",
          "plot_bgcolor": "#E5ECF6",
          "polar": {
           "angularaxis": {
            "gridcolor": "white",
            "linecolor": "white",
            "ticks": ""
           },
           "bgcolor": "#E5ECF6",
           "radialaxis": {
            "gridcolor": "white",
            "linecolor": "white",
            "ticks": ""
           }
          },
          "scene": {
           "xaxis": {
            "backgroundcolor": "#E5ECF6",
            "gridcolor": "white",
            "gridwidth": 2,
            "linecolor": "white",
            "showbackground": true,
            "ticks": "",
            "zerolinecolor": "white"
           },
           "yaxis": {
            "backgroundcolor": "#E5ECF6",
            "gridcolor": "white",
            "gridwidth": 2,
            "linecolor": "white",
            "showbackground": true,
            "ticks": "",
            "zerolinecolor": "white"
           },
           "zaxis": {
            "backgroundcolor": "#E5ECF6",
            "gridcolor": "white",
            "gridwidth": 2,
            "linecolor": "white",
            "showbackground": true,
            "ticks": "",
            "zerolinecolor": "white"
           }
          },
          "shapedefaults": {
           "line": {
            "color": "#2a3f5f"
           }
          },
          "ternary": {
           "aaxis": {
            "gridcolor": "white",
            "linecolor": "white",
            "ticks": ""
           },
           "baxis": {
            "gridcolor": "white",
            "linecolor": "white",
            "ticks": ""
           },
           "bgcolor": "#E5ECF6",
           "caxis": {
            "gridcolor": "white",
            "linecolor": "white",
            "ticks": ""
           }
          },
          "title": {
           "x": 0.05
          },
          "xaxis": {
           "automargin": true,
           "gridcolor": "white",
           "linecolor": "white",
           "ticks": "",
           "title": {
            "standoff": 15
           },
           "zerolinecolor": "white",
           "zerolinewidth": 2
          },
          "yaxis": {
           "automargin": true,
           "gridcolor": "white",
           "linecolor": "white",
           "ticks": "",
           "title": {
            "standoff": 15
           },
           "zerolinecolor": "white",
           "zerolinewidth": 2
          }
         }
        },
        "xaxis": {
         "tickmode": "array",
         "ticktext": [
          1,
          2,
          3,
          4,
          5,
          6,
          7,
          8,
          9,
          10,
          11,
          12,
          13,
          14,
          15,
          16,
          17,
          19,
          20,
          22,
          25
         ],
         "tickvals": [
          0,
          1,
          2,
          3,
          4,
          5,
          6,
          7,
          8,
          9,
          10,
          11,
          12,
          13,
          14,
          15,
          16,
          17,
          18,
          19,
          20
         ],
         "title": {
          "text": "Problem Instance (ID)"
         }
        },
        "yaxis": {
         "range": [
          -0.05,
          300
         ],
         "ticktext": [
          "0%",
          "50%",
          "100%",
          "150%",
          "200%",
          "250%",
          "300%"
         ],
         "tickvals": [
          0,
          50,
          100,
          150,
          200,
          250,
          300
         ],
         "title": {
          "text": "Gap (%)"
         }
        }
       }
      }
     },
     "metadata": {},
     "output_type": "display_data"
    }
   ],
   "source": [
    "import plotly.graph_objects as go\n",
    "\n",
    "# Create bar plot with visible zeros\n",
    "hovertemplate_text='Model: %{customdata[0]}<br>ID: %{x}<br>Gap: %{text}%<br>Nodes: %{customdata[1]}<br>Runtime: %{customdata[2]} s<br>Heuristics: %{customdata[3]} s<br>Total Time: %{customdata[4]} s<extra></extra>'\n",
    "\n",
    "positions = list(range(len(df1)))\n",
    "max_gap = 300\n",
    "\n",
    "\n",
    "fig = go.Figure()\n",
    "\n",
    "fig.add_trace(\n",
    "    go.Bar(\n",
    "        name='Model 1',\n",
    "        x=positions,\n",
    "        y=add_offset_to_zeros(df1['gap'])[0],\n",
    "        text=df1['gap'].apply(lambda x: f'{x:.2f}'),\n",
    "        marker_color=colormap[1],\n",
    "        customdata=np.dstack((\n",
    "            df1['model'], \n",
    "            df1['nodes'], \n",
    "            df1['runtime'].apply(lambda x: f'{x:.2f}'),\n",
    "            df1['heuristics_time'].apply(lambda x: f'{x:.2f}'),\n",
    "            df1['total_time'].apply(lambda x: f'{x:.2f}')\n",
    "        ))[0],\n",
    "        textposition='none',\n",
    "        hovertemplate=hovertemplate_text,\n",
    "        offsetgroup='1'\n",
    "    )\n",
    ")\n",
    "fig.add_trace(\n",
    "    go.Bar(\n",
    "        name='Model 1 (no 15)',\n",
    "        x=positions,\n",
    "        y=add_offset_to_zeros(df1e['gap'])[0],\n",
    "        text=df1e['gap'].apply(lambda x: f'{x:.2f}'),\n",
    "        marker_color=colormap[6],\n",
    "        customdata=np.dstack((\n",
    "            df1e['model'], \n",
    "            df1e['nodes'], \n",
    "            df1e['runtime'].apply(lambda x: f'{x:.2f}'),\n",
    "            df1e['heuristics_time'].apply(lambda x: f'{x:.2f}'),\n",
    "            df1e['total_time'].apply(lambda x: f'{x:.2f}')\n",
    "        ))[0],\n",
    "        textposition='none',\n",
    "        hovertemplate=hovertemplate_text,\n",
    "        offsetgroup='2'\n",
    "    )\n",
    ")\n",
    "fig.add_trace(\n",
    "    go.Bar(\n",
    "        name='Model 2',\n",
    "        x=positions,\n",
    "        y=add_offset_to_zeros(df2['gap'])[0],\n",
    "        text=df2['gap'].apply(lambda x: f'{x:.2f}'),\n",
    "        marker_color=colormap[2],\n",
    "        customdata=np.dstack((\n",
    "            df2['model'], \n",
    "            df2['nodes'], \n",
    "            df2['runtime'].apply(lambda x: f'{x:.2f}'),\n",
    "            df2['heuristics_time'].apply(lambda x: f'{x:.2f}'),\n",
    "            df2['total_time'].apply(lambda x: f'{x:.2f}')\n",
    "        ))[0],\n",
    "        textposition='none',\n",
    "        hovertemplate=hovertemplate_text,\n",
    "        offsetgroup='3'\n",
    "    )\n",
    ")\n",
    "\n",
    "fig.add_trace(\n",
    "    go.Bar(\n",
    "        name='Model 2 (no 15)',\n",
    "        x=positions,\n",
    "        y=add_offset_to_zeros(df2e['gap'])[0],\n",
    "        text=df2e['gap'].apply(lambda x: f'{x:.2f}'),\n",
    "        marker_color=colormap[7],\n",
    "        customdata=np.dstack((\n",
    "            df2e['model'], \n",
    "            df2e['nodes'], \n",
    "            df2e['runtime'].apply(lambda x: f'{x:.2f}'),\n",
    "            df2e['heuristics_time'].apply(lambda x: f'{x:.2f}'),\n",
    "            df2e['total_time'].apply(lambda x: f'{x:.2f}')\n",
    "        ))[0],\n",
    "        textposition='none',\n",
    "        hovertemplate=hovertemplate_text,\n",
    "        offsetgroup='4'\n",
    "    )\n",
    ")\n",
    "\n",
    "\n",
    "\n",
    "fig.update_layout(\n",
    "    autosize=True,\n",
    "    margin=dict(l=10, r=10, t=10, b=10),\n",
    "    barmode='group',\n",
    "    yaxis = dict(\n",
    "        range=[-0.05, max_gap],\n",
    "        title = 'Gap (%)',\n",
    "        tickvals = list(range(0, max_gap + 1, 50)),\n",
    "        ticktext = [str(i) + '%' for i in range(0, max_gap + 1, 50)],\n",
    "    ),\n",
    "    xaxis = dict(\n",
    "        title = 'Problem Instance (ID)',\n",
    "        tickmode = 'array',\n",
    "        tickvals = positions,\n",
    "        ticktext = list(instances),\n",
    "    ),\n",
    "    legend=dict(\n",
    "        x=0.01,\n",
    "        y=0.99,\n",
    "        xanchor='left',\n",
    "        yanchor='top',\n",
    "        bgcolor='rgba(255, 255, 255, 0.5)'\n",
    "    )\n",
    ")\n",
    "\n",
    "fig.show()\n",
    "\n",
    "# # Save as HTML\n",
    "# div_schedule = plot(\n",
    "#     fig, include_plotlyjs=True, config={\"responsive\": True}, output_type=\"div\"\n",
    "# )\n",
    "# with open('../docs/images/comparison-solutions-gap.html', 'w') as f:\n",
    "#     f.write(div_schedule)"
   ]
  },
  {
   "cell_type": "code",
   "execution_count": null,
   "id": "232b5041",
   "metadata": {},
   "outputs": [
    {
     "data": {
      "application/vnd.plotly.v1+json": {
       "config": {
        "plotlyServerURL": "https://plot.ly"
       },
       "data": [
        {
         "customdata": [
          [
           1,
           3,
           "0.22",
           "13.55",
           "13.77"
          ],
          [
           1,
           1111,
           "30.58",
           "72.60",
           "103.18"
          ],
          [
           1,
           86,
           "19.41",
           "120.16",
           "139.57"
          ],
          [
           1,
           80836,
           "300.00",
           "17.44",
           "317.44"
          ],
          [
           1,
           6337,
           "300.01",
           "95.69",
           "395.70"
          ],
          [
           1,
           655,
           "300.00",
           "120.12",
           "420.13"
          ],
          [
           1,
           34208,
           "300.00",
           "18.28",
           "318.28"
          ],
          [
           1,
           718,
           "300.00",
           "111.88",
           "411.88"
          ],
          [
           1,
           702,
           "300.00",
           "120.14",
           "420.15"
          ],
          [
           1,
           55,
           "2.60",
           "89.67",
           "92.26"
          ],
          [
           1,
           3,
           "15.70",
           "120.24",
           "135.93"
          ],
          [
           1,
           38,
           "62.60",
           "121.02",
           "183.62"
          ],
          [
           1,
           334,
           "13.72",
           "108.76",
           "122.48"
          ],
          [
           1,
           1412,
           "300.05",
           "120.60",
           "420.66"
          ],
          [
           1,
           74,
           "300.09",
           "120.25",
           "420.34"
          ],
          [
           1,
           1156,
           "34.44",
           "120.02",
           "154.46"
          ],
          [
           1,
           587,
           "300.04",
           "120.05",
           "420.10"
          ],
          [
           1,
           3,
           "12.13",
           "120.55",
           "132.68"
          ],
          [
           1,
           3,
           "177.94",
           "121.39",
           "299.32"
          ],
          [
           1,
           44,
           "27.61",
           "120.28",
           "147.89"
          ],
          [
           1,
           5753,
           "300.04",
           "120.16",
           "420.20"
          ]
         ],
         "hovertemplate": "Model: %{customdata[0]}<br>ID: %{x}<br>Gap: %{text}%<br>Nodes: %{customdata[1]}<br>Runtime: %{customdata[2]} s<br>Heuristics: %{customdata[3]} s<br>Total Time: %{customdata[4]} s<extra></extra>",
         "marker": {
          "color": "#EF553B"
         },
         "name": "Model 1",
         "offsetgroup": "1",
         "text": [
          "0.00",
          "0.00",
          "0.00",
          "16.93",
          "48.00",
          "87.81",
          "242.12",
          "103.37",
          "124.38",
          "0.00",
          "0.00",
          "0.00",
          "0.00",
          "17.26",
          "29.37",
          "0.00",
          "114.32",
          "0.00",
          "0.00",
          "0.00",
          "2.31"
         ],
         "textposition": "none",
         "type": "bar",
         "x": [
          0,
          1,
          2,
          3,
          4,
          5,
          6,
          7,
          8,
          9,
          10,
          11,
          12,
          13,
          14,
          15,
          16,
          17,
          18,
          19,
          20
         ],
         "y": {
          "bdata": "AAAAAAAACEAAAAAAAFyRQAAAAAAAgFVAAAAAAEC880AAAAAAAMG4QAAAAAAAeIRAAAAAAAC04EAAAAAAAHCGQAAAAAAA8IVAAAAAAACAS0AAAAAAAAAIQAAAAAAAAENAAAAAAADgdEAAAAAAABCWQAAAAAAAgFJAAAAAAAAQkkAAAAAAAFiCQAAAAAAAAAhAAAAAAAAACEAAAAAAAABGQAAAAAAAebZA",
          "dtype": "f8"
         }
        },
        {
         "customdata": [
          [
           1,
           39,
           "0.34",
           "13.01",
           "13.35"
          ],
          [
           1,
           656,
           "17.81",
           "84.48",
           "102.29"
          ],
          [
           1,
           133,
           "19.66",
           "120.05",
           "139.71"
          ],
          [
           1,
           67220,
           "300.00",
           "20.01",
           "320.01"
          ],
          [
           1,
           6445,
           "300.00",
           "96.64",
           "396.65"
          ],
          [
           1,
           706,
           "300.01",
           "120.23",
           "420.24"
          ],
          [
           1,
           34848,
           "300.00",
           "18.04",
           "318.04"
          ],
          [
           1,
           796,
           "300.01",
           "112.42",
           "412.43"
          ],
          [
           1,
           1265,
           "300.01",
           "120.12",
           "420.12"
          ],
          [
           1,
           21,
           "1.67",
           "79.80",
           "81.47"
          ],
          [
           1,
           3,
           "15.82",
           "120.30",
           "136.13"
          ],
          [
           1,
           44,
           "62.14",
           "120.79",
           "182.94"
          ],
          [
           1,
           206,
           "6.82",
           "89.75",
           "96.57"
          ],
          [
           1,
           1626,
           "300.04",
           "120.44",
           "420.48"
          ],
          [
           1,
           140,
           "300.09",
           "120.70",
           "420.79"
          ],
          [
           1,
           23020,
           "300.00",
           "99.02",
           "399.03"
          ],
          [
           1,
           613,
           "300.02",
           "120.35",
           "420.37"
          ],
          [
           1,
           3,
           "8.83",
           "120.23",
           "129.05"
          ],
          [
           1,
           3,
           "169.15",
           "121.97",
           "291.11"
          ],
          [
           1,
           70,
           "30.47",
           "120.54",
           "151.01"
          ],
          [
           1,
           6017,
           "300.04",
           "120.95",
           "420.99"
          ]
         ],
         "hovertemplate": "Model: %{customdata[0]}<br>ID: %{x}<br>Gap: %{text}%<br>Nodes: %{customdata[1]}<br>Runtime: %{customdata[2]} s<br>Heuristics: %{customdata[3]} s<br>Total Time: %{customdata[4]} s<extra></extra>",
         "marker": {
          "color": "#FF6692"
         },
         "name": "Model 1 (no 15)",
         "offsetgroup": "2",
         "text": [
          "0.00",
          "0.00",
          "0.00",
          "11.69",
          "50.32",
          "88.74",
          "262.09",
          "96.82",
          "128.13",
          "0.00",
          "0.00",
          "0.00",
          "0.00",
          "13.52",
          "28.90",
          "6.59",
          "85.51",
          "0.00",
          "0.00",
          "0.00",
          "1.56"
         ],
         "textposition": "none",
         "type": "bar",
         "x": [
          0,
          1,
          2,
          3,
          4,
          5,
          6,
          7,
          8,
          9,
          10,
          11,
          12,
          13,
          14,
          15,
          16,
          17,
          18,
          19,
          20
         ],
         "y": {
          "bdata": "AAAAAACAQ0AAAAAAAICEQAAAAAAAoGBAAAAAAEBp8EAAAAAAAC25QAAAAAAAEIZAAAAAAAAE4UAAAAAAAOCIQAAAAAAAxJNAAAAAAAAANUAAAAAAAAAIQAAAAAAAAEZAAAAAAADAaUAAAAAAAGiZQAAAAAAAgGFAAAAAAAB71kAAAAAAACiDQAAAAAAAAAhAAAAAAAAACEAAAAAAAIBRQAAAAAAAgbdA",
          "dtype": "f8"
         }
        },
        {
         "customdata": [
          [
           2,
           3,
           "0.21",
           "13.55",
           "13.76"
          ],
          [
           2,
           63,
           "5.92",
           "72.60",
           "78.51"
          ],
          [
           2,
           102,
           "26.48",
           "120.16",
           "146.64"
          ],
          [
           2,
           624,
           "3.65",
           "17.44",
           "21.08"
          ],
          [
           2,
           1788,
           "300.00",
           "95.69",
           "395.69"
          ],
          [
           2,
           231,
           "300.04",
           "120.12",
           "420.16"
          ],
          [
           2,
           22890,
           "300.00",
           "18.28",
           "318.28"
          ],
          [
           2,
           547,
           "300.01",
           "111.88",
           "411.89"
          ],
          [
           2,
           1,
           "300.07",
           "120.14",
           "420.22"
          ],
          [
           2,
           55,
           "2.33",
           "89.67",
           "91.99"
          ],
          [
           2,
           3,
           "16.50",
           "120.24",
           "136.73"
          ],
          [
           2,
           43,
           "72.68",
           "121.02",
           "193.70"
          ],
          [
           2,
           260,
           "10.38",
           "108.76",
           "119.14"
          ],
          [
           2,
           1323,
           "300.04",
           "120.60",
           "420.64"
          ],
          [
           2,
           1,
           "300.28",
           "120.25",
           "420.53"
          ],
          [
           2,
           1179,
           "38.46",
           "120.02",
           "158.48"
          ],
          [
           2,
           314,
           "300.05",
           "120.05",
           "420.11"
          ],
          [
           2,
           3,
           "14.09",
           "120.55",
           "134.64"
          ],
          [
           2,
           3,
           "140.89",
           "121.39",
           "262.27"
          ],
          [
           2,
           51,
           "27.68",
           "120.28",
           "147.96"
          ],
          [
           2,
           5382,
           "300.04",
           "120.16",
           "420.20"
          ]
         ],
         "hovertemplate": "Model: %{customdata[0]}<br>ID: %{x}<br>Gap: %{text}%<br>Nodes: %{customdata[1]}<br>Runtime: %{customdata[2]} s<br>Heuristics: %{customdata[3]} s<br>Total Time: %{customdata[4]} s<extra></extra>",
         "marker": {
          "color": "#00CC96"
         },
         "name": "Model 2",
         "offsetgroup": "3",
         "text": [
          "0.00",
          "0.00",
          "0.00",
          "0.00",
          "55.18",
          "114.02",
          "248.45",
          "140.45",
          "929.74",
          "0.00",
          "0.00",
          "0.00",
          "0.00",
          "25.98",
          "352.86",
          "0.00",
          "113.40",
          "0.00",
          "0.00",
          "0.00",
          "2.67"
         ],
         "textposition": "none",
         "type": "bar",
         "x": [
          0,
          1,
          2,
          3,
          4,
          5,
          6,
          7,
          8,
          9,
          10,
          11,
          12,
          13,
          14,
          15,
          16,
          17,
          18,
          19,
          20
         ],
         "y": {
          "bdata": "AAAAAAAACEAAAAAAAIBPQAAAAAAAgFlAAAAAAACAg0AAAAAAAPCbQAAAAAAA4GxAAAAAAIBa1kAAAAAAABiBQAAAAAAAAPA/AAAAAACAS0AAAAAAAAAIQAAAAAAAgEVAAAAAAABAcEAAAAAAAKyUQAAAAAAAAPA/AAAAAABskkAAAAAAAKBzQAAAAAAAAAhAAAAAAAAACEAAAAAAAIBJQAAAAAAABrVA",
          "dtype": "f8"
         }
        },
        {
         "customdata": [
          [
           2,
           39,
           "0.33",
           "13.01",
           "13.34"
          ],
          [
           2,
           847,
           "34.26",
           "84.48",
           "118.74"
          ],
          [
           2,
           119,
           "29.68",
           "120.05",
           "149.73"
          ],
          [
           2,
           67249,
           "300.00",
           "20.01",
           "320.01"
          ],
          [
           2,
           1778,
           "300.02",
           "96.64",
           "396.66"
          ],
          [
           2,
           206,
           "300.02",
           "120.23",
           "420.25"
          ],
          [
           2,
           20153,
           "300.00",
           "18.04",
           "318.04"
          ],
          [
           2,
           530,
           "300.00",
           "112.42",
           "412.43"
          ],
          [
           2,
           1,
           "300.02",
           "120.12",
           "420.14"
          ],
          [
           2,
           21,
           "1.70",
           "79.80",
           "81.49"
          ],
          [
           2,
           3,
           "15.35",
           "120.30",
           "135.65"
          ],
          [
           2,
           59,
           "63.82",
           "120.79",
           "184.62"
          ],
          [
           2,
           191,
           "7.60",
           "89.75",
           "97.35"
          ],
          [
           2,
           1442,
           "300.04",
           "120.44",
           "420.48"
          ],
          [
           2,
           1,
           "300.24",
           "120.70",
           "420.94"
          ],
          [
           2,
           22246,
           "300.00",
           "99.02",
           "399.03"
          ],
          [
           2,
           508,
           "300.02",
           "120.35",
           "420.37"
          ],
          [
           2,
           3,
           "9.26",
           "120.23",
           "129.49"
          ],
          [
           2,
           3,
           "177.10",
           "121.97",
           "299.06"
          ],
          [
           2,
           56,
           "25.88",
           "120.54",
           "146.42"
          ],
          [
           2,
           5703,
           "300.04",
           "120.95",
           "420.99"
          ]
         ],
         "hovertemplate": "Model: %{customdata[0]}<br>ID: %{x}<br>Gap: %{text}%<br>Nodes: %{customdata[1]}<br>Runtime: %{customdata[2]} s<br>Heuristics: %{customdata[3]} s<br>Total Time: %{customdata[4]} s<extra></extra>",
         "marker": {
          "color": "#B6E880"
         },
         "name": "Model 2 (no 15)",
         "offsetgroup": "4",
         "text": [
          "0.00",
          "0.00",
          "0.00",
          "13.91",
          "54.91",
          "114.11",
          "265.26",
          "139.30",
          "924.97",
          "0.00",
          "0.00",
          "0.00",
          "0.00",
          "15.64",
          "437.20",
          "8.89",
          "114.46",
          "0.00",
          "0.00",
          "0.00",
          "2.68"
         ],
         "textposition": "none",
         "type": "bar",
         "x": [
          0,
          1,
          2,
          3,
          4,
          5,
          6,
          7,
          8,
          9,
          10,
          11,
          12,
          13,
          14,
          15,
          16,
          17,
          18,
          19,
          20
         ],
         "y": {
          "bdata": "AAAAAACAQ0AAAAAAAHiKQAAAAAAAwF1AAAAAABBr8EAAAAAAAMibQAAAAAAAwGlAAAAAAECu00AAAAAAAJCAQAAAAAAAAPA/AAAAAAAANUAAAAAAAAAIQAAAAAAAgE1AAAAAAADgZ0AAAAAAAIiWQAAAAAAAAPA/AAAAAIC51UAAAAAAAMB/QAAAAAAAAAhAAAAAAAAACEAAAAAAAABMQAAAAAAAR7ZA",
          "dtype": "f8"
         }
        }
       ],
       "layout": {
        "autosize": true,
        "barmode": "group",
        "legend": {
         "bgcolor": "rgba(255, 255, 255, 0.5)",
         "x": 0.01,
         "xanchor": "left",
         "y": 0.99,
         "yanchor": "top"
        },
        "margin": {
         "b": 10,
         "l": 10,
         "r": 10,
         "t": 10
        },
        "template": {
         "data": {
          "bar": [
           {
            "error_x": {
             "color": "#2a3f5f"
            },
            "error_y": {
             "color": "#2a3f5f"
            },
            "marker": {
             "line": {
              "color": "#E5ECF6",
              "width": 0.5
             },
             "pattern": {
              "fillmode": "overlay",
              "size": 10,
              "solidity": 0.2
             }
            },
            "type": "bar"
           }
          ],
          "barpolar": [
           {
            "marker": {
             "line": {
              "color": "#E5ECF6",
              "width": 0.5
             },
             "pattern": {
              "fillmode": "overlay",
              "size": 10,
              "solidity": 0.2
             }
            },
            "type": "barpolar"
           }
          ],
          "carpet": [
           {
            "aaxis": {
             "endlinecolor": "#2a3f5f",
             "gridcolor": "white",
             "linecolor": "white",
             "minorgridcolor": "white",
             "startlinecolor": "#2a3f5f"
            },
            "baxis": {
             "endlinecolor": "#2a3f5f",
             "gridcolor": "white",
             "linecolor": "white",
             "minorgridcolor": "white",
             "startlinecolor": "#2a3f5f"
            },
            "type": "carpet"
           }
          ],
          "choropleth": [
           {
            "colorbar": {
             "outlinewidth": 0,
             "ticks": ""
            },
            "type": "choropleth"
           }
          ],
          "contour": [
           {
            "colorbar": {
             "outlinewidth": 0,
             "ticks": ""
            },
            "colorscale": [
             [
              0,
              "#0d0887"
             ],
             [
              0.1111111111111111,
              "#46039f"
             ],
             [
              0.2222222222222222,
              "#7201a8"
             ],
             [
              0.3333333333333333,
              "#9c179e"
             ],
             [
              0.4444444444444444,
              "#bd3786"
             ],
             [
              0.5555555555555556,
              "#d8576b"
             ],
             [
              0.6666666666666666,
              "#ed7953"
             ],
             [
              0.7777777777777778,
              "#fb9f3a"
             ],
             [
              0.8888888888888888,
              "#fdca26"
             ],
             [
              1,
              "#f0f921"
             ]
            ],
            "type": "contour"
           }
          ],
          "contourcarpet": [
           {
            "colorbar": {
             "outlinewidth": 0,
             "ticks": ""
            },
            "type": "contourcarpet"
           }
          ],
          "heatmap": [
           {
            "colorbar": {
             "outlinewidth": 0,
             "ticks": ""
            },
            "colorscale": [
             [
              0,
              "#0d0887"
             ],
             [
              0.1111111111111111,
              "#46039f"
             ],
             [
              0.2222222222222222,
              "#7201a8"
             ],
             [
              0.3333333333333333,
              "#9c179e"
             ],
             [
              0.4444444444444444,
              "#bd3786"
             ],
             [
              0.5555555555555556,
              "#d8576b"
             ],
             [
              0.6666666666666666,
              "#ed7953"
             ],
             [
              0.7777777777777778,
              "#fb9f3a"
             ],
             [
              0.8888888888888888,
              "#fdca26"
             ],
             [
              1,
              "#f0f921"
             ]
            ],
            "type": "heatmap"
           }
          ],
          "histogram": [
           {
            "marker": {
             "pattern": {
              "fillmode": "overlay",
              "size": 10,
              "solidity": 0.2
             }
            },
            "type": "histogram"
           }
          ],
          "histogram2d": [
           {
            "colorbar": {
             "outlinewidth": 0,
             "ticks": ""
            },
            "colorscale": [
             [
              0,
              "#0d0887"
             ],
             [
              0.1111111111111111,
              "#46039f"
             ],
             [
              0.2222222222222222,
              "#7201a8"
             ],
             [
              0.3333333333333333,
              "#9c179e"
             ],
             [
              0.4444444444444444,
              "#bd3786"
             ],
             [
              0.5555555555555556,
              "#d8576b"
             ],
             [
              0.6666666666666666,
              "#ed7953"
             ],
             [
              0.7777777777777778,
              "#fb9f3a"
             ],
             [
              0.8888888888888888,
              "#fdca26"
             ],
             [
              1,
              "#f0f921"
             ]
            ],
            "type": "histogram2d"
           }
          ],
          "histogram2dcontour": [
           {
            "colorbar": {
             "outlinewidth": 0,
             "ticks": ""
            },
            "colorscale": [
             [
              0,
              "#0d0887"
             ],
             [
              0.1111111111111111,
              "#46039f"
             ],
             [
              0.2222222222222222,
              "#7201a8"
             ],
             [
              0.3333333333333333,
              "#9c179e"
             ],
             [
              0.4444444444444444,
              "#bd3786"
             ],
             [
              0.5555555555555556,
              "#d8576b"
             ],
             [
              0.6666666666666666,
              "#ed7953"
             ],
             [
              0.7777777777777778,
              "#fb9f3a"
             ],
             [
              0.8888888888888888,
              "#fdca26"
             ],
             [
              1,
              "#f0f921"
             ]
            ],
            "type": "histogram2dcontour"
           }
          ],
          "mesh3d": [
           {
            "colorbar": {
             "outlinewidth": 0,
             "ticks": ""
            },
            "type": "mesh3d"
           }
          ],
          "parcoords": [
           {
            "line": {
             "colorbar": {
              "outlinewidth": 0,
              "ticks": ""
             }
            },
            "type": "parcoords"
           }
          ],
          "pie": [
           {
            "automargin": true,
            "type": "pie"
           }
          ],
          "scatter": [
           {
            "fillpattern": {
             "fillmode": "overlay",
             "size": 10,
             "solidity": 0.2
            },
            "type": "scatter"
           }
          ],
          "scatter3d": [
           {
            "line": {
             "colorbar": {
              "outlinewidth": 0,
              "ticks": ""
             }
            },
            "marker": {
             "colorbar": {
              "outlinewidth": 0,
              "ticks": ""
             }
            },
            "type": "scatter3d"
           }
          ],
          "scattercarpet": [
           {
            "marker": {
             "colorbar": {
              "outlinewidth": 0,
              "ticks": ""
             }
            },
            "type": "scattercarpet"
           }
          ],
          "scattergeo": [
           {
            "marker": {
             "colorbar": {
              "outlinewidth": 0,
              "ticks": ""
             }
            },
            "type": "scattergeo"
           }
          ],
          "scattergl": [
           {
            "marker": {
             "colorbar": {
              "outlinewidth": 0,
              "ticks": ""
             }
            },
            "type": "scattergl"
           }
          ],
          "scattermap": [
           {
            "marker": {
             "colorbar": {
              "outlinewidth": 0,
              "ticks": ""
             }
            },
            "type": "scattermap"
           }
          ],
          "scattermapbox": [
           {
            "marker": {
             "colorbar": {
              "outlinewidth": 0,
              "ticks": ""
             }
            },
            "type": "scattermapbox"
           }
          ],
          "scatterpolar": [
           {
            "marker": {
             "colorbar": {
              "outlinewidth": 0,
              "ticks": ""
             }
            },
            "type": "scatterpolar"
           }
          ],
          "scatterpolargl": [
           {
            "marker": {
             "colorbar": {
              "outlinewidth": 0,
              "ticks": ""
             }
            },
            "type": "scatterpolargl"
           }
          ],
          "scatterternary": [
           {
            "marker": {
             "colorbar": {
              "outlinewidth": 0,
              "ticks": ""
             }
            },
            "type": "scatterternary"
           }
          ],
          "surface": [
           {
            "colorbar": {
             "outlinewidth": 0,
             "ticks": ""
            },
            "colorscale": [
             [
              0,
              "#0d0887"
             ],
             [
              0.1111111111111111,
              "#46039f"
             ],
             [
              0.2222222222222222,
              "#7201a8"
             ],
             [
              0.3333333333333333,
              "#9c179e"
             ],
             [
              0.4444444444444444,
              "#bd3786"
             ],
             [
              0.5555555555555556,
              "#d8576b"
             ],
             [
              0.6666666666666666,
              "#ed7953"
             ],
             [
              0.7777777777777778,
              "#fb9f3a"
             ],
             [
              0.8888888888888888,
              "#fdca26"
             ],
             [
              1,
              "#f0f921"
             ]
            ],
            "type": "surface"
           }
          ],
          "table": [
           {
            "cells": {
             "fill": {
              "color": "#EBF0F8"
             },
             "line": {
              "color": "white"
             }
            },
            "header": {
             "fill": {
              "color": "#C8D4E3"
             },
             "line": {
              "color": "white"
             }
            },
            "type": "table"
           }
          ]
         },
         "layout": {
          "annotationdefaults": {
           "arrowcolor": "#2a3f5f",
           "arrowhead": 0,
           "arrowwidth": 1
          },
          "autotypenumbers": "strict",
          "coloraxis": {
           "colorbar": {
            "outlinewidth": 0,
            "ticks": ""
           }
          },
          "colorscale": {
           "diverging": [
            [
             0,
             "#8e0152"
            ],
            [
             0.1,
             "#c51b7d"
            ],
            [
             0.2,
             "#de77ae"
            ],
            [
             0.3,
             "#f1b6da"
            ],
            [
             0.4,
             "#fde0ef"
            ],
            [
             0.5,
             "#f7f7f7"
            ],
            [
             0.6,
             "#e6f5d0"
            ],
            [
             0.7,
             "#b8e186"
            ],
            [
             0.8,
             "#7fbc41"
            ],
            [
             0.9,
             "#4d9221"
            ],
            [
             1,
             "#276419"
            ]
           ],
           "sequential": [
            [
             0,
             "#0d0887"
            ],
            [
             0.1111111111111111,
             "#46039f"
            ],
            [
             0.2222222222222222,
             "#7201a8"
            ],
            [
             0.3333333333333333,
             "#9c179e"
            ],
            [
             0.4444444444444444,
             "#bd3786"
            ],
            [
             0.5555555555555556,
             "#d8576b"
            ],
            [
             0.6666666666666666,
             "#ed7953"
            ],
            [
             0.7777777777777778,
             "#fb9f3a"
            ],
            [
             0.8888888888888888,
             "#fdca26"
            ],
            [
             1,
             "#f0f921"
            ]
           ],
           "sequentialminus": [
            [
             0,
             "#0d0887"
            ],
            [
             0.1111111111111111,
             "#46039f"
            ],
            [
             0.2222222222222222,
             "#7201a8"
            ],
            [
             0.3333333333333333,
             "#9c179e"
            ],
            [
             0.4444444444444444,
             "#bd3786"
            ],
            [
             0.5555555555555556,
             "#d8576b"
            ],
            [
             0.6666666666666666,
             "#ed7953"
            ],
            [
             0.7777777777777778,
             "#fb9f3a"
            ],
            [
             0.8888888888888888,
             "#fdca26"
            ],
            [
             1,
             "#f0f921"
            ]
           ]
          },
          "colorway": [
           "#636efa",
           "#EF553B",
           "#00cc96",
           "#ab63fa",
           "#FFA15A",
           "#19d3f3",
           "#FF6692",
           "#B6E880",
           "#FF97FF",
           "#FECB52"
          ],
          "font": {
           "color": "#2a3f5f"
          },
          "geo": {
           "bgcolor": "white",
           "lakecolor": "white",
           "landcolor": "#E5ECF6",
           "showlakes": true,
           "showland": true,
           "subunitcolor": "white"
          },
          "hoverlabel": {
           "align": "left"
          },
          "hovermode": "closest",
          "mapbox": {
           "style": "light"
          },
          "paper_bgcolor": "white",
          "plot_bgcolor": "#E5ECF6",
          "polar": {
           "angularaxis": {
            "gridcolor": "white",
            "linecolor": "white",
            "ticks": ""
           },
           "bgcolor": "#E5ECF6",
           "radialaxis": {
            "gridcolor": "white",
            "linecolor": "white",
            "ticks": ""
           }
          },
          "scene": {
           "xaxis": {
            "backgroundcolor": "#E5ECF6",
            "gridcolor": "white",
            "gridwidth": 2,
            "linecolor": "white",
            "showbackground": true,
            "ticks": "",
            "zerolinecolor": "white"
           },
           "yaxis": {
            "backgroundcolor": "#E5ECF6",
            "gridcolor": "white",
            "gridwidth": 2,
            "linecolor": "white",
            "showbackground": true,
            "ticks": "",
            "zerolinecolor": "white"
           },
           "zaxis": {
            "backgroundcolor": "#E5ECF6",
            "gridcolor": "white",
            "gridwidth": 2,
            "linecolor": "white",
            "showbackground": true,
            "ticks": "",
            "zerolinecolor": "white"
           }
          },
          "shapedefaults": {
           "line": {
            "color": "#2a3f5f"
           }
          },
          "ternary": {
           "aaxis": {
            "gridcolor": "white",
            "linecolor": "white",
            "ticks": ""
           },
           "baxis": {
            "gridcolor": "white",
            "linecolor": "white",
            "ticks": ""
           },
           "bgcolor": "#E5ECF6",
           "caxis": {
            "gridcolor": "white",
            "linecolor": "white",
            "ticks": ""
           }
          },
          "title": {
           "x": 0.05
          },
          "xaxis": {
           "automargin": true,
           "gridcolor": "white",
           "linecolor": "white",
           "ticks": "",
           "title": {
            "standoff": 15
           },
           "zerolinecolor": "white",
           "zerolinewidth": 2
          },
          "yaxis": {
           "automargin": true,
           "gridcolor": "white",
           "linecolor": "white",
           "ticks": "",
           "title": {
            "standoff": 15
           },
           "zerolinecolor": "white",
           "zerolinewidth": 2
          }
         }
        },
        "xaxis": {
         "tickmode": "array",
         "ticktext": [
          1,
          2,
          3,
          4,
          5,
          6,
          7,
          8,
          9,
          10,
          11,
          12,
          13,
          14,
          15,
          16,
          17,
          19,
          20,
          22,
          25
         ],
         "tickvals": [
          0,
          1,
          2,
          3,
          4,
          5,
          6,
          7,
          8,
          9,
          10,
          11,
          12,
          13,
          14,
          15,
          16,
          17,
          18,
          19,
          20
         ],
         "title": {
          "text": "Problem Instance (ID)"
         }
        },
        "yaxis": {
         "title": {
          "text": "Nodes (log-scale)"
         },
         "type": "log"
        }
       }
      }
     },
     "metadata": {},
     "output_type": "display_data"
    }
   ],
   "source": [
    "import plotly.graph_objects as go\n",
    "\n",
    "# Create bar plot with visible zeros\n",
    "hovertemplate_text='Model: %{customdata[0]}<br>ID: %{x}<br>Gap: %{text}%<br>Nodes: %{customdata[1]}<br>Runtime: %{customdata[2]} s<br>Heuristics: %{customdata[3]} s<br>Total Time: %{customdata[4]} s<extra></extra>'\n",
    "\n",
    "positions = list(range(len(df1)))\n",
    "max_gap = 300\n",
    "\n",
    "\n",
    "fig = go.Figure()\n",
    "\n",
    "fig.add_trace(\n",
    "    go.Bar(\n",
    "        name='Model 1',\n",
    "        x=positions,\n",
    "        y=df1['nodes'],\n",
    "        text=df1['gap'].apply(lambda x: f'{x:.2f}'),\n",
    "        marker_color=colormap[1],\n",
    "        customdata=np.dstack((\n",
    "            df1['model'], \n",
    "            df1['nodes'], \n",
    "            df1['runtime'].apply(lambda x: f'{x:.2f}'),\n",
    "            df1['heuristics_time'].apply(lambda x: f'{x:.2f}'),\n",
    "            df1['total_time'].apply(lambda x: f'{x:.2f}')\n",
    "        ))[0],\n",
    "        textposition='none',\n",
    "        hovertemplate=hovertemplate_text,\n",
    "        offsetgroup='1'\n",
    "    )\n",
    ")\n",
    "fig.add_trace(\n",
    "    go.Bar(\n",
    "        name='Model 1 (no 15)',\n",
    "        x=positions,\n",
    "        y=df1e['nodes'],\n",
    "        text=df1e['gap'].apply(lambda x: f'{x:.2f}'),\n",
    "        marker_color=colormap[6],\n",
    "        customdata=np.dstack((\n",
    "            df1e['model'], \n",
    "            df1e['nodes'], \n",
    "            df1e['runtime'].apply(lambda x: f'{x:.2f}'),\n",
    "            df1e['heuristics_time'].apply(lambda x: f'{x:.2f}'),\n",
    "            df1e['total_time'].apply(lambda x: f'{x:.2f}')\n",
    "        ))[0],\n",
    "        textposition='none',\n",
    "        hovertemplate=hovertemplate_text,\n",
    "        offsetgroup='2'\n",
    "    )\n",
    ")\n",
    "fig.add_trace(\n",
    "    go.Bar(\n",
    "        name='Model 2',\n",
    "        x=positions,\n",
    "        y=df2['nodes'],\n",
    "        text=df2['gap'].apply(lambda x: f'{x:.2f}'),\n",
    "        marker_color=colormap[2],\n",
    "        customdata=np.dstack((\n",
    "            df2['model'], \n",
    "            df2['nodes'], \n",
    "            df2['runtime'].apply(lambda x: f'{x:.2f}'),\n",
    "            df2['heuristics_time'].apply(lambda x: f'{x:.2f}'),\n",
    "            df2['total_time'].apply(lambda x: f'{x:.2f}')\n",
    "        ))[0],\n",
    "        textposition='none',\n",
    "        hovertemplate=hovertemplate_text,\n",
    "        offsetgroup='3'\n",
    "    )\n",
    ")\n",
    "\n",
    "fig.add_trace(\n",
    "    go.Bar(\n",
    "        name='Model 2 (no 15)',\n",
    "        x=positions,\n",
    "        y=df2e['nodes'],\n",
    "        text=df2e['gap'].apply(lambda x: f'{x:.2f}'),\n",
    "        marker_color=colormap[7],\n",
    "        customdata=np.dstack((\n",
    "            df2e['model'], \n",
    "            df2e['nodes'], \n",
    "            df2e['runtime'].apply(lambda x: f'{x:.2f}'),\n",
    "            df2e['heuristics_time'].apply(lambda x: f'{x:.2f}'),\n",
    "            df2e['total_time'].apply(lambda x: f'{x:.2f}')\n",
    "        ))[0],\n",
    "        textposition='none',\n",
    "        hovertemplate=hovertemplate_text,\n",
    "        offsetgroup='4'\n",
    "    )\n",
    ")\n",
    "\n",
    "\n",
    "\n",
    "fig.update_layout(\n",
    "    autosize=True,\n",
    "    margin=dict(l=10, r=10, t=10, b=10),\n",
    "    barmode='group',\n",
    "    yaxis = dict(\n",
    "        title = 'Nodes (log-scale)',\n",
    "        type='log',\n",
    "    ),\n",
    "    xaxis = dict(\n",
    "        title = 'Problem Instance (ID)',\n",
    "        tickmode = 'array',\n",
    "        tickvals = positions,\n",
    "        ticktext = list(instances),\n",
    "    ),\n",
    "    legend=dict(\n",
    "        x=0.01,\n",
    "        y=0.99,\n",
    "        xanchor='left',\n",
    "        yanchor='top',\n",
    "        bgcolor='rgba(255, 255, 255, 0.5)'\n",
    "    )\n",
    ")\n",
    "\n",
    "fig.show()\n",
    "\n",
    "# # Save as HTML\n",
    "# div_schedule = plot(\n",
    "#     fig, include_plotlyjs=True, config={\"responsive\": True}, output_type=\"div\"\n",
    "# )\n",
    "# with open('../docs/images/comparison-solutions-nodes.html', 'w') as f:\n",
    "#     f.write(div_schedule)"
   ]
  }
 ],
 "metadata": {
  "kernelspec": {
   "display_name": "mathopt",
   "language": "python",
   "name": "python3"
  },
  "language_info": {
   "codemirror_mode": {
    "name": "ipython",
    "version": 3
   },
   "file_extension": ".py",
   "mimetype": "text/x-python",
   "name": "python",
   "nbconvert_exporter": "python",
   "pygments_lexer": "ipython3",
   "version": "3.11.5"
  }
 },
 "nbformat": 4,
 "nbformat_minor": 5
}
