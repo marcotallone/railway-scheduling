{
 "cells": [
  {
   "cell_type": "code",
   "execution_count": 1,
   "id": "74c23ffe",
   "metadata": {},
   "outputs": [],
   "source": [
    "import numpy as np\n",
    "import pandas as pd\n",
    "import matplotlib.pyplot as plt\n",
    "import seaborn as sns\n",
    "from plotly.offline import plot"
   ]
  },
  {
   "cell_type": "code",
   "execution_count": 2,
   "id": "baa6dd5c",
   "metadata": {},
   "outputs": [
    {
     "data": {
      "text/plain": [
       "['#636EFA',\n",
       " '#EF553B',\n",
       " '#00CC96',\n",
       " '#AB63FA',\n",
       " '#FFA15A',\n",
       " '#19D3F3',\n",
       " '#FF6692',\n",
       " '#B6E880',\n",
       " '#FF97FF',\n",
       " '#FECB52']"
      ]
     },
     "execution_count": 2,
     "metadata": {},
     "output_type": "execute_result"
    }
   ],
   "source": [
    "import plotly.graph_objects as go\n",
    "import plotly.express as px\n",
    "colormap = px.colors.qualitative.Plotly\n",
    "colormap"
   ]
  },
  {
   "cell_type": "code",
   "execution_count": 6,
   "id": "12340966",
   "metadata": {},
   "outputs": [
    {
     "name": "stdout",
     "output_type": "stream",
     "text": [
      "Plotly version: 6.0.1\n"
     ]
    }
   ],
   "source": [
    "import plotly\n",
    "print(\"Plotly version:\", plotly.__version__)"
   ]
  },
  {
   "cell_type": "code",
   "execution_count": 23,
   "id": "1f37dc4c",
   "metadata": {},
   "outputs": [
    {
     "name": "stdout",
     "output_type": "stream",
     "text": [
      "181 181 181 181\n"
     ]
    },
    {
     "data": {
      "application/vnd.plotly.v1+json": {
       "config": {
        "plotlyServerURL": "https://plot.ly"
       },
       "data": [
        {
         "hoverinfo": "text",
         "hovertext": [
          "Time: 0s<br>Gap: 10000.0%",
          "Time: 5s<br>Gap: 10000.0%",
          "Time: 10s<br>Gap: 10000.0%",
          "Time: 15s<br>Gap: 10000.0%",
          "Time: 20s<br>Gap: 10000.0%",
          "Time: 25s<br>Gap: 10000.0%",
          "Time: 30s<br>Gap: 10000.0%",
          "Time: 35s<br>Gap: 10000.0%",
          "Time: 40s<br>Gap: 10000.0%",
          "Time: 45s<br>Gap: 10000.0%",
          "Time: 50s<br>Gap: 10000.0%",
          "Time: 55s<br>Gap: 10000.0%",
          "Time: 60s<br>Gap: 10000.0%",
          "Time: 65s<br>Gap: 10000.0%",
          "Time: 70s<br>Gap: 10000.0%",
          "Time: 75s<br>Gap: 10000.0%",
          "Time: 80s<br>Gap: 10000.0%",
          "Time: 85s<br>Gap: 10000.0%",
          "Time: 90s<br>Gap: 10000.0%",
          "Time: 95s<br>Gap: 10000.0%",
          "Time: 100s<br>Gap: 10000.0%",
          "Time: 105s<br>Gap: 10000.0%",
          "Time: 110s<br>Gap: 10000.0%",
          "Time: 115s<br>Gap: 10000.0%",
          "Time: 120s<br>Gap: 10000.0%",
          "Time: 125s<br>Gap: 10000.0%",
          "Time: 130s<br>Gap: 10000.0%",
          "Time: 135s<br>Gap: 10000.0%",
          "Time: 140s<br>Gap: 10000.0%",
          "Time: 145s<br>Gap: 10000.0%",
          "Time: 150s<br>Gap: 10000.0%",
          "Time: 155s<br>Gap: 10000.0%",
          "Time: 160s<br>Gap: 10000.0%",
          "Time: 165s<br>Gap: 104.0%",
          "Time: 170s<br>Gap: 103.0%",
          "Time: 175s<br>Gap: 103.0%",
          "Time: 180s<br>Gap: 103.0%",
          "Time: 185s<br>Gap: 102.0%",
          "Time: 190s<br>Gap: 102.0%",
          "Time: 195s<br>Gap: 102.0%",
          "Time: 200s<br>Gap: 102.0%",
          "Time: 205s<br>Gap: 102.0%",
          "Time: 210s<br>Gap: 102.0%",
          "Time: 215s<br>Gap: 101.0%",
          "Time: 220s<br>Gap: 101.0%",
          "Time: 225s<br>Gap: 101.0%",
          "Time: 230s<br>Gap: 101.0%",
          "Time: 235s<br>Gap: 100.0%",
          "Time: 240s<br>Gap: 100.0%",
          "Time: 245s<br>Gap: 100.0%",
          "Time: 250s<br>Gap: 100.0%",
          "Time: 255s<br>Gap: 100.0%",
          "Time: 260s<br>Gap: 99.4%",
          "Time: 265s<br>Gap: 99.1%",
          "Time: 270s<br>Gap: 99.0%",
          "Time: 275s<br>Gap: 98.8%",
          "Time: 280s<br>Gap: 98.6%",
          "Time: 285s<br>Gap: 98.4%",
          "Time: 290s<br>Gap: 98.2%",
          "Time: 295s<br>Gap: 98.1%",
          "Time: 300s<br>Gap: 98.1%",
          "Time: 305s<br>Gap: 97.7%",
          "Time: 310s<br>Gap: 97.6%",
          "Time: 315s<br>Gap: 97.4%",
          "Time: 320s<br>Gap: 97.3%",
          "Time: 325s<br>Gap: 97.1%",
          "Time: 330s<br>Gap: 97.0%",
          "Time: 335s<br>Gap: 96.8%",
          "Time: 340s<br>Gap: 96.7%",
          "Time: 345s<br>Gap: 96.5%",
          "Time: 350s<br>Gap: 96.2%",
          "Time: 355s<br>Gap: 96.2%",
          "Time: 360s<br>Gap: 96.1%",
          "Time: 365s<br>Gap: 96.0%",
          "Time: 370s<br>Gap: 95.9%",
          "Time: 375s<br>Gap: 95.8%",
          "Time: 380s<br>Gap: 95.8%",
          "Time: 385s<br>Gap: 95.8%",
          "Time: 390s<br>Gap: 95.7%",
          "Time: 395s<br>Gap: 95.6%",
          "Time: 400s<br>Gap: 95.5%",
          "Time: 405s<br>Gap: 95.4%",
          "Time: 410s<br>Gap: 95.3%",
          "Time: 415s<br>Gap: 95.1%",
          "Time: 420s<br>Gap: 95.1%",
          "Time: 425s<br>Gap: 95.0%",
          "Time: 430s<br>Gap: 95.0%",
          "Time: 435s<br>Gap: 94.8%",
          "Time: 440s<br>Gap: 94.7%",
          "Time: 445s<br>Gap: 94.6%",
          "Time: 450s<br>Gap: 94.6%",
          "Time: 455s<br>Gap: 94.5%",
          "Time: 460s<br>Gap: 94.3%",
          "Time: 465s<br>Gap: 94.1%",
          "Time: 470s<br>Gap: 93.8%",
          "Time: 475s<br>Gap: 93.8%",
          "Time: 480s<br>Gap: 93.8%",
          "Time: 485s<br>Gap: 93.6%",
          "Time: 490s<br>Gap: 93.6%",
          "Time: 495s<br>Gap: 93.4%",
          "Time: 500s<br>Gap: 93.3%",
          "Time: 505s<br>Gap: 93.0%",
          "Time: 510s<br>Gap: 92.9%",
          "Time: 515s<br>Gap: 92.7%",
          "Time: 520s<br>Gap: 92.6%",
          "Time: 525s<br>Gap: 92.6%",
          "Time: 530s<br>Gap: 92.5%",
          "Time: 535s<br>Gap: 92.4%",
          "Time: 540s<br>Gap: 92.3%",
          "Time: 545s<br>Gap: 92.2%",
          "Time: 550s<br>Gap: 92.2%",
          "Time: 555s<br>Gap: 92.1%",
          "Time: 560s<br>Gap: 92.0%",
          "Time: 565s<br>Gap: 92.0%",
          "Time: 570s<br>Gap: 92.0%",
          "Time: 575s<br>Gap: 92.0%",
          "Time: 580s<br>Gap: 91.7%",
          "Time: 585s<br>Gap: 91.6%",
          "Time: 590s<br>Gap: 91.5%",
          "Time: 595s<br>Gap: 91.5%",
          "Time: 600s<br>Gap: 91.4%",
          "Time: 605s<br>Gap: 91.2%",
          "Time: 610s<br>Gap: 91.1%",
          "Time: 615s<br>Gap: 91.0%",
          "Time: 620s<br>Gap: 90.9%",
          "Time: 625s<br>Gap: 90.9%",
          "Time: 630s<br>Gap: 90.8%",
          "Time: 635s<br>Gap: 90.7%",
          "Time: 640s<br>Gap: 90.7%",
          "Time: 645s<br>Gap: 90.5%",
          "Time: 650s<br>Gap: 90.5%",
          "Time: 655s<br>Gap: 90.4%",
          "Time: 660s<br>Gap: 90.3%",
          "Time: 665s<br>Gap: 90.2%",
          "Time: 670s<br>Gap: 90.2%",
          "Time: 675s<br>Gap: 90.1%",
          "Time: 680s<br>Gap: 90.1%",
          "Time: 685s<br>Gap: 90.1%",
          "Time: 690s<br>Gap: 90.0%",
          "Time: 695s<br>Gap: 89.9%",
          "Time: 700s<br>Gap: 89.9%",
          "Time: 705s<br>Gap: 89.8%",
          "Time: 710s<br>Gap: 89.7%",
          "Time: 715s<br>Gap: 89.6%",
          "Time: 720s<br>Gap: 89.6%",
          "Time: 725s<br>Gap: 89.6%",
          "Time: 730s<br>Gap: 89.6%",
          "Time: 735s<br>Gap: 89.5%",
          "Time: 740s<br>Gap: 89.5%",
          "Time: 745s<br>Gap: 89.5%",
          "Time: 750s<br>Gap: 89.5%",
          "Time: 755s<br>Gap: 89.4%",
          "Time: 760s<br>Gap: 89.4%",
          "Time: 765s<br>Gap: 89.3%",
          "Time: 770s<br>Gap: 89.3%",
          "Time: 775s<br>Gap: 89.1%",
          "Time: 780s<br>Gap: 89.0%",
          "Time: 785s<br>Gap: 89.0%",
          "Time: 790s<br>Gap: 88.9%",
          "Time: 795s<br>Gap: 88.9%",
          "Time: 800s<br>Gap: 88.9%",
          "Time: 805s<br>Gap: 88.9%",
          "Time: 810s<br>Gap: 88.7%",
          "Time: 815s<br>Gap: 88.7%",
          "Time: 820s<br>Gap: 88.7%",
          "Time: 825s<br>Gap: 88.7%",
          "Time: 830s<br>Gap: 88.6%",
          "Time: 835s<br>Gap: 88.6%",
          "Time: 840s<br>Gap: 88.6%",
          "Time: 845s<br>Gap: 88.6%",
          "Time: 850s<br>Gap: 88.4%",
          "Time: 855s<br>Gap: 88.4%",
          "Time: 860s<br>Gap: 88.3%",
          "Time: 865s<br>Gap: 88.2%",
          "Time: 870s<br>Gap: 88.2%",
          "Time: 875s<br>Gap: 88.2%",
          "Time: 880s<br>Gap: 88.1%",
          "Time: 885s<br>Gap: 88.0%",
          "Time: 890s<br>Gap: 87.9%",
          "Time: 895s<br>Gap: 87.9%",
          "Time: 900s<br>Gap: 87.7%"
         ],
         "line": {
          "color": "#636EFA",
          "width": 2
         },
         "mode": "lines",
         "name": "Model 0",
         "showlegend": true,
         "type": "scatter",
         "x": {
          "bdata": "AAAFAAoADwAUABkAHgAjACgALQAyADcAPABBAEYASwBQAFUAWgBfAGQAaQBuAHMAeAB9AIIAhwCMAJEAlgCbAKAApQCqAK8AtAC5AL4AwwDIAM0A0gDXANwA4QDmAOsA8AD1APoA/wAEAQkBDgETARgBHQEiAScBLAExATYBOwFAAUUBSgFPAVQBWQFeAWMBaAFtAXIBdwF8AYEBhgGLAZABlQGaAZ8BpAGpAa4BswG4Ab0BwgHHAcwB0QHWAdsB4AHlAeoB7wH0AfkB/gEDAggCDQISAhcCHAIhAiYCKwIwAjUCOgI/AkQCSQJOAlMCWAJdAmICZwJsAnECdgJ7AoAChQKKAo8ClAKZAp4CowKoAq0CsgK3ArwCwQLGAssC0ALVAtoC3wLkAukC7gLzAvgC/QICAwcDDAMRAxYDGwMgAyUDKgMvAzQDOQM+A0MDSANNA1IDVwNcA2EDZgNrA3ADdQN6A38DhAM=",
          "dtype": "i2"
         },
         "y": {
          "bdata": "AAAAAACIw0AAAAAAAIjDQAAAAAAAiMNAAAAAAACIw0AAAAAAAIjDQAAAAAAAiMNAAAAAAACIw0AAAAAAAIjDQAAAAAAAiMNAAAAAAACIw0AAAAAAAIjDQAAAAAAAiMNAAAAAAACIw0AAAAAAAIjDQAAAAAAAiMNAAAAAAACIw0AAAAAAAIjDQAAAAAAAiMNAAAAAAACIw0AAAAAAAIjDQAAAAAAAiMNAAAAAAACIw0AAAAAAAIjDQAAAAAAAiMNAAAAAAACIw0AAAAAAAIjDQAAAAAAAiMNAAAAAAACIw0AAAAAAAIjDQAAAAAAAiMNAAAAAAACIw0AAAAAAAIjDQAAAAAAAiMNAAAAAAAAAWkAAAAAAAMBZQAAAAAAAwFlAAAAAAADAWUAAAAAAAIBZQAAAAAAAgFlAAAAAAACAWUAAAAAAAIBZQAAAAAAAgFlAAAAAAACAWUAAAAAAAEBZQAAAAAAAQFlAAAAAAABAWUAAAAAAAEBZQAAAAAAAAFlAAAAAAAAAWUAAAAAAAABZQAAAAAAAAFlAAAAAAAAAWUCamZmZmdlYQGZmZmZmxlhAAAAAAADAWEAzMzMzM7NYQGZmZmZmplhAmpmZmZmZWEDNzMzMzIxYQGZmZmZmhlhAZmZmZmaGWEDNzMzMzGxYQGZmZmZmZlhAmpmZmZlZWEAzMzMzM1NYQGZmZmZmRlhAAAAAAABAWEAzMzMzMzNYQM3MzMzMLFhAAAAAAAAgWEDNzMzMzAxYQM3MzMzMDFhAZmZmZmYGWEAAAAAAAABYQJqZmZmZ+VdAMzMzMzPzV0AzMzMzM/NXQDMzMzMz81dAzczMzMzsV0BmZmZmZuZXQAAAAAAA4FdAmpmZmZnZV0AzMzMzM9NXQGZmZmZmxldAZmZmZmbGV0AAAAAAAMBXQAAAAAAAwFdAMzMzMzOzV0DNzMzMzKxXQGZmZmZmpldAZmZmZmamV0AAAAAAAKBXQDMzMzMzk1dAZmZmZmaGV0AzMzMzM3NXQDMzMzMzc1dAMzMzMzNzV0BmZmZmZmZXQGZmZmZmZldAmpmZmZlZV0AzMzMzM1NXQAAAAAAAQFdAmpmZmZk5V0DNzMzMzCxXQGZmZmZmJldAZmZmZmYmV0AAAAAAACBXQJqZmZmZGVdAMzMzMzMTV0DNzMzMzAxXQM3MzMzMDFdAZmZmZmYGV0AAAAAAAABXQAAAAAAAAFdAAAAAAAAAV0AAAAAAAABXQM3MzMzM7FZAZmZmZmbmVkAAAAAAAOBWQAAAAAAA4FZAmpmZmZnZVkDNzMzMzMxWQGZmZmZmxlZAAAAAAADAVkCamZmZmblWQJqZmZmZuVZAMzMzMzOzVkDNzMzMzKxWQM3MzMzMrFZAAAAAAACgVkAAAAAAAKBWQJqZmZmZmVZAMzMzMzOTVkDNzMzMzIxWQM3MzMzMjFZAZmZmZmaGVkBmZmZmZoZWQGZmZmZmhlZAAAAAAACAVkCamZmZmXlWQJqZmZmZeVZAMzMzMzNzVkDNzMzMzGxWQGZmZmZmZlZAZmZmZmZmVkBmZmZmZmZWQGZmZmZmZlZAAAAAAABgVkAAAAAAAGBWQAAAAAAAYFZAAAAAAABgVkCamZmZmVlWQJqZmZmZWVZAMzMzMzNTVkAzMzMzM1NWQGZmZmZmRlZAAAAAAABAVkAAAAAAAEBWQJqZmZmZOVZAmpmZmZk5VkCamZmZmTlWQJqZmZmZOVZAzczMzMwsVkDNzMzMzCxWQM3MzMzMLFZAzczMzMwsVkBmZmZmZiZWQGZmZmZmJlZAZmZmZmYmVkBmZmZmZiZWQJqZmZmZGVZAmpmZmZkZVkAzMzMzMxNWQM3MzMzMDFZAzczMzMwMVkDNzMzMzAxWQGZmZmZmBlZAAAAAAAAAVkCamZmZmflVQJqZmZmZ+VVAzczMzMzsVUA=",
          "dtype": "f8"
         }
        },
        {
         "hoverinfo": "text",
         "hovertext": [
          "Time: 0s<br>Gap: 1231.0%",
          "Time: 5s<br>Gap: 1230.0%",
          "Time: 10s<br>Gap: 344.0%",
          "Time: 15s<br>Gap: 344.0%",
          "Time: 20s<br>Gap: 344.0%",
          "Time: 25s<br>Gap: 344.0%",
          "Time: 30s<br>Gap: 117.0%",
          "Time: 35s<br>Gap: 117.0%",
          "Time: 40s<br>Gap: 113.0%",
          "Time: 45s<br>Gap: 113.0%",
          "Time: 50s<br>Gap: 113.0%",
          "Time: 55s<br>Gap: 112.0%",
          "Time: 60s<br>Gap: 110.0%",
          "Time: 65s<br>Gap: 110.0%",
          "Time: 70s<br>Gap: 110.0%",
          "Time: 75s<br>Gap: 109.0%",
          "Time: 80s<br>Gap: 109.0%",
          "Time: 85s<br>Gap: 109.0%",
          "Time: 90s<br>Gap: 106.0%",
          "Time: 95s<br>Gap: 105.0%",
          "Time: 100s<br>Gap: 105.0%",
          "Time: 105s<br>Gap: 104.0%",
          "Time: 110s<br>Gap: 103.0%",
          "Time: 115s<br>Gap: 103.0%",
          "Time: 120s<br>Gap: 102.0%",
          "Time: 125s<br>Gap: 100.0%",
          "Time: 130s<br>Gap: 97.3%",
          "Time: 135s<br>Gap: 97.1%",
          "Time: 140s<br>Gap: 96.4%",
          "Time: 145s<br>Gap: 96.3%",
          "Time: 150s<br>Gap: 95.9%",
          "Time: 155s<br>Gap: 95.9%",
          "Time: 160s<br>Gap: 95.4%",
          "Time: 165s<br>Gap: 93.1%",
          "Time: 170s<br>Gap: 92.9%",
          "Time: 175s<br>Gap: 92.9%",
          "Time: 180s<br>Gap: 92.4%",
          "Time: 185s<br>Gap: 92.2%",
          "Time: 190s<br>Gap: 91.8%",
          "Time: 195s<br>Gap: 91.7%",
          "Time: 200s<br>Gap: 91.4%",
          "Time: 205s<br>Gap: 91.2%",
          "Time: 210s<br>Gap: 91.1%",
          "Time: 215s<br>Gap: 91.0%",
          "Time: 220s<br>Gap: 90.8%",
          "Time: 225s<br>Gap: 90.7%",
          "Time: 230s<br>Gap: 90.5%",
          "Time: 235s<br>Gap: 90.3%",
          "Time: 240s<br>Gap: 90.2%",
          "Time: 245s<br>Gap: 90.1%",
          "Time: 250s<br>Gap: 89.9%",
          "Time: 255s<br>Gap: 89.5%",
          "Time: 260s<br>Gap: 89.2%",
          "Time: 265s<br>Gap: 89.2%",
          "Time: 270s<br>Gap: 89.1%",
          "Time: 275s<br>Gap: 88.9%",
          "Time: 280s<br>Gap: 88.8%",
          "Time: 285s<br>Gap: 88.7%",
          "Time: 290s<br>Gap: 88.6%",
          "Time: 295s<br>Gap: 88.6%",
          "Time: 300s<br>Gap: 88.5%",
          "Time: 305s<br>Gap: 88.4%",
          "Time: 310s<br>Gap: 88.4%",
          "Time: 315s<br>Gap: 88.2%",
          "Time: 320s<br>Gap: 88.1%",
          "Time: 325s<br>Gap: 88.0%",
          "Time: 330s<br>Gap: 88.0%",
          "Time: 335s<br>Gap: 87.8%",
          "Time: 340s<br>Gap: 87.7%",
          "Time: 345s<br>Gap: 87.5%",
          "Time: 350s<br>Gap: 87.5%",
          "Time: 355s<br>Gap: 87.5%",
          "Time: 360s<br>Gap: 87.4%",
          "Time: 365s<br>Gap: 87.4%",
          "Time: 370s<br>Gap: 87.3%",
          "Time: 375s<br>Gap: 87.3%",
          "Time: 380s<br>Gap: 87.3%",
          "Time: 385s<br>Gap: 87.2%",
          "Time: 390s<br>Gap: 87.1%",
          "Time: 395s<br>Gap: 87.0%",
          "Time: 400s<br>Gap: 86.9%",
          "Time: 405s<br>Gap: 86.8%",
          "Time: 410s<br>Gap: 86.7%",
          "Time: 415s<br>Gap: 86.7%",
          "Time: 420s<br>Gap: 86.7%",
          "Time: 425s<br>Gap: 86.7%",
          "Time: 430s<br>Gap: 86.5%",
          "Time: 435s<br>Gap: 86.5%",
          "Time: 440s<br>Gap: 86.4%",
          "Time: 445s<br>Gap: 86.3%",
          "Time: 450s<br>Gap: 86.3%",
          "Time: 455s<br>Gap: 86.2%",
          "Time: 460s<br>Gap: 86.2%",
          "Time: 465s<br>Gap: 86.1%",
          "Time: 470s<br>Gap: 86.0%",
          "Time: 475s<br>Gap: 85.9%",
          "Time: 480s<br>Gap: 85.9%",
          "Time: 485s<br>Gap: 85.9%",
          "Time: 490s<br>Gap: 85.8%",
          "Time: 495s<br>Gap: 85.7%",
          "Time: 500s<br>Gap: 85.6%",
          "Time: 505s<br>Gap: 85.5%",
          "Time: 510s<br>Gap: 85.5%",
          "Time: 515s<br>Gap: 85.4%",
          "Time: 520s<br>Gap: 85.4%",
          "Time: 525s<br>Gap: 85.4%",
          "Time: 530s<br>Gap: 85.3%",
          "Time: 535s<br>Gap: 85.3%",
          "Time: 540s<br>Gap: 85.2%",
          "Time: 545s<br>Gap: 85.2%",
          "Time: 550s<br>Gap: 85.2%",
          "Time: 555s<br>Gap: 85.2%",
          "Time: 560s<br>Gap: 85.1%",
          "Time: 565s<br>Gap: 85.1%",
          "Time: 570s<br>Gap: 85.1%",
          "Time: 575s<br>Gap: 85.1%",
          "Time: 580s<br>Gap: 85.0%",
          "Time: 585s<br>Gap: 85.0%",
          "Time: 590s<br>Gap: 84.9%",
          "Time: 595s<br>Gap: 84.9%",
          "Time: 600s<br>Gap: 84.8%",
          "Time: 605s<br>Gap: 84.8%",
          "Time: 610s<br>Gap: 84.8%",
          "Time: 615s<br>Gap: 84.7%",
          "Time: 620s<br>Gap: 84.7%",
          "Time: 625s<br>Gap: 84.6%",
          "Time: 630s<br>Gap: 84.6%",
          "Time: 635s<br>Gap: 84.5%",
          "Time: 640s<br>Gap: 84.5%",
          "Time: 645s<br>Gap: 84.4%",
          "Time: 650s<br>Gap: 84.4%",
          "Time: 655s<br>Gap: 84.3%",
          "Time: 660s<br>Gap: 84.3%",
          "Time: 665s<br>Gap: 84.2%",
          "Time: 670s<br>Gap: 84.2%",
          "Time: 675s<br>Gap: 84.1%",
          "Time: 680s<br>Gap: 84.1%",
          "Time: 685s<br>Gap: 84.0%",
          "Time: 690s<br>Gap: 83.9%",
          "Time: 695s<br>Gap: 83.9%",
          "Time: 700s<br>Gap: 83.9%",
          "Time: 705s<br>Gap: 83.8%",
          "Time: 710s<br>Gap: 83.8%",
          "Time: 715s<br>Gap: 83.7%",
          "Time: 720s<br>Gap: 83.7%",
          "Time: 725s<br>Gap: 83.6%",
          "Time: 730s<br>Gap: 83.6%",
          "Time: 735s<br>Gap: 83.6%",
          "Time: 740s<br>Gap: 83.5%",
          "Time: 745s<br>Gap: 83.5%",
          "Time: 750s<br>Gap: 83.4%",
          "Time: 755s<br>Gap: 83.4%",
          "Time: 760s<br>Gap: 83.4%",
          "Time: 765s<br>Gap: 83.3%",
          "Time: 770s<br>Gap: 83.3%",
          "Time: 775s<br>Gap: 83.3%",
          "Time: 780s<br>Gap: 83.3%",
          "Time: 785s<br>Gap: 83.3%",
          "Time: 790s<br>Gap: 83.3%",
          "Time: 795s<br>Gap: 83.2%",
          "Time: 800s<br>Gap: 83.2%",
          "Time: 805s<br>Gap: 83.1%",
          "Time: 810s<br>Gap: 83.0%",
          "Time: 815s<br>Gap: 83.0%",
          "Time: 820s<br>Gap: 82.9%",
          "Time: 825s<br>Gap: 82.9%",
          "Time: 830s<br>Gap: 82.9%",
          "Time: 835s<br>Gap: 82.9%",
          "Time: 840s<br>Gap: 82.8%",
          "Time: 845s<br>Gap: 82.8%",
          "Time: 850s<br>Gap: 82.7%",
          "Time: 855s<br>Gap: 82.6%",
          "Time: 860s<br>Gap: 82.6%",
          "Time: 865s<br>Gap: 82.6%",
          "Time: 870s<br>Gap: 82.6%",
          "Time: 875s<br>Gap: 82.5%",
          "Time: 880s<br>Gap: 82.5%",
          "Time: 885s<br>Gap: 82.5%",
          "Time: 890s<br>Gap: 82.5%",
          "Time: 895s<br>Gap: 82.4%",
          "Time: 900s<br>Gap: 82.4%"
         ],
         "line": {
          "color": "#EF553B",
          "width": 2
         },
         "mode": "lines",
         "name": "Model 1",
         "showlegend": true,
         "type": "scatter",
         "x": {
          "bdata": "AAAFAAoADwAUABkAHgAjACgALQAyADcAPABBAEYASwBQAFUAWgBfAGQAaQBuAHMAeAB9AIIAhwCMAJEAlgCbAKAApQCqAK8AtAC5AL4AwwDIAM0A0gDXANwA4QDmAOsA8AD1APoA/wAEAQkBDgETARgBHQEiAScBLAExATYBOwFAAUUBSgFPAVQBWQFeAWMBaAFtAXIBdwF8AYEBhgGLAZABlQGaAZ8BpAGpAa4BswG4Ab0BwgHHAcwB0QHWAdsB4AHlAeoB7wH0AfkB/gEDAggCDQISAhcCHAIhAiYCKwIwAjUCOgI/AkQCSQJOAlMCWAJdAmICZwJsAnECdgJ7AoAChQKKAo8ClAKZAp4CowKoAq0CsgK3ArwCwQLGAssC0ALVAtoC3wLkAukC7gLzAvgC/QICAwcDDAMRAxYDGwMgAyUDKgMvAzQDOQM+A0MDSANNA1IDVwNcA2EDZgNrA3ADdQN6A38DhAM=",
          "dtype": "i2"
         },
         "y": {
          "bdata": "AAAAAAA8k0AAAAAAADiTQAAAAAAAgHVAAAAAAACAdUAAAAAAAIB1QAAAAAAAgHVAAAAAAABAXUAAAAAAAEBdQAAAAAAAQFxAAAAAAABAXEAAAAAAAEBcQAAAAAAAAFxAAAAAAACAW0AAAAAAAIBbQAAAAAAAgFtAAAAAAABAW0AAAAAAAEBbQAAAAAAAQFtAAAAAAACAWkAAAAAAAEBaQAAAAAAAQFpAAAAAAAAAWkAAAAAAAMBZQAAAAAAAwFlAAAAAAACAWUAAAAAAAABZQDMzMzMzU1hAZmZmZmZGWECamZmZmRlYQDMzMzMzE1hAmpmZmZn5V0CamZmZmflXQJqZmZmZ2VdAZmZmZmZGV0CamZmZmTlXQJqZmZmZOVdAmpmZmZkZV0DNzMzMzAxXQDMzMzMz81ZAzczMzMzsVkCamZmZmdlWQM3MzMzMzFZAZmZmZmbGVkAAAAAAAMBWQDMzMzMzs1ZAzczMzMysVkAAAAAAAKBWQDMzMzMzk1ZAzczMzMyMVkBmZmZmZoZWQJqZmZmZeVZAAAAAAABgVkDNzMzMzExWQM3MzMzMTFZAZmZmZmZGVkCamZmZmTlWQDMzMzMzM1ZAzczMzMwsVkBmZmZmZiZWQGZmZmZmJlZAAAAAAAAgVkCamZmZmRlWQJqZmZmZGVZAzczMzMwMVkBmZmZmZgZWQAAAAAAAAFZAAAAAAAAAVkAzMzMzM/NVQM3MzMzM7FVAAAAAAADgVUAAAAAAAOBVQAAAAAAA4FVAmpmZmZnZVUCamZmZmdlVQDMzMzMz01VAMzMzMzPTVUAzMzMzM9NVQM3MzMzMzFVAZmZmZmbGVUAAAAAAAMBVQJqZmZmZuVVAMzMzMzOzVUDNzMzMzKxVQM3MzMzMrFVAzczMzMysVUDNzMzMzKxVQAAAAAAAoFVAAAAAAACgVUCamZmZmZlVQDMzMzMzk1VAMzMzMzOTVUDNzMzMzIxVQM3MzMzMjFVAZmZmZmaGVUAAAAAAAIBVQJqZmZmZeVVAmpmZmZl5VUCamZmZmXlVQDMzMzMzc1VAzczMzMxsVUBmZmZmZmZVQAAAAAAAYFVAAAAAAABgVUCamZmZmVlVQJqZmZmZWVVAmpmZmZlZVUAzMzMzM1NVQDMzMzMzU1VAzczMzMxMVUDNzMzMzExVQM3MzMzMTFVAzczMzMxMVUBmZmZmZkZVQGZmZmZmRlVAZmZmZmZGVUBmZmZmZkZVQAAAAAAAQFVAAAAAAABAVUCamZmZmTlVQJqZmZmZOVVAMzMzMzMzVUAzMzMzMzNVQDMzMzMzM1VAzczMzMwsVUDNzMzMzCxVQGZmZmZmJlVAZmZmZmYmVUAAAAAAACBVQAAAAAAAIFVAmpmZmZkZVUCamZmZmRlVQDMzMzMzE1VAMzMzMzMTVUDNzMzMzAxVQM3MzMzMDFVAZmZmZmYGVUBmZmZmZgZVQAAAAAAAAFVAmpmZmZn5VECamZmZmflUQJqZmZmZ+VRAMzMzMzPzVEAzMzMzM/NUQM3MzMzM7FRAzczMzMzsVEBmZmZmZuZUQGZmZmZm5lRAZmZmZmbmVEAAAAAAAOBUQAAAAAAA4FRAmpmZmZnZVECamZmZmdlUQJqZmZmZ2VRAMzMzMzPTVEAzMzMzM9NUQDMzMzMz01RAMzMzMzPTVEAzMzMzM9NUQDMzMzMz01RAzczMzMzMVEDNzMzMzMxUQGZmZmZmxlRAAAAAAADAVEAAAAAAAMBUQJqZmZmZuVRAmpmZmZm5VECamZmZmblUQJqZmZmZuVRAMzMzMzOzVEAzMzMzM7NUQM3MzMzMrFRAZmZmZmamVEBmZmZmZqZUQGZmZmZmplRAZmZmZmamVEAAAAAAAKBUQAAAAAAAoFRAAAAAAACgVEAAAAAAAKBUQJqZmZmZmVRAmpmZmZmZVEA=",
          "dtype": "f8"
         }
        },
        {
         "hoverinfo": "text",
         "hovertext": [
          "Time: 0s<br>Gap: 1231.0%",
          "Time: 5s<br>Gap: 1230.0%",
          "Time: 10s<br>Gap: 346.0%",
          "Time: 15s<br>Gap: 346.0%",
          "Time: 20s<br>Gap: 346.0%",
          "Time: 25s<br>Gap: 346.0%",
          "Time: 30s<br>Gap: 346.0%",
          "Time: 35s<br>Gap: 345.0%",
          "Time: 40s<br>Gap: 345.0%",
          "Time: 45s<br>Gap: 231.0%",
          "Time: 50s<br>Gap: 117.0%",
          "Time: 55s<br>Gap: 117.0%",
          "Time: 60s<br>Gap: 117.0%",
          "Time: 65s<br>Gap: 113.0%",
          "Time: 70s<br>Gap: 113.0%",
          "Time: 75s<br>Gap: 113.0%",
          "Time: 80s<br>Gap: 113.0%",
          "Time: 85s<br>Gap: 112.0%",
          "Time: 90s<br>Gap: 110.0%",
          "Time: 95s<br>Gap: 110.0%",
          "Time: 100s<br>Gap: 110.0%",
          "Time: 105s<br>Gap: 110.0%",
          "Time: 110s<br>Gap: 110.0%",
          "Time: 115s<br>Gap: 109.0%",
          "Time: 120s<br>Gap: 109.0%",
          "Time: 125s<br>Gap: 109.0%",
          "Time: 130s<br>Gap: 109.0%",
          "Time: 135s<br>Gap: 108.0%",
          "Time: 140s<br>Gap: 108.0%",
          "Time: 145s<br>Gap: 108.0%",
          "Time: 150s<br>Gap: 106.0%",
          "Time: 155s<br>Gap: 105.0%",
          "Time: 160s<br>Gap: 101.0%",
          "Time: 165s<br>Gap: 101.0%",
          "Time: 170s<br>Gap: 99.0%",
          "Time: 175s<br>Gap: 98.7%",
          "Time: 180s<br>Gap: 98.2%",
          "Time: 185s<br>Gap: 98.2%",
          "Time: 190s<br>Gap: 98.1%",
          "Time: 195s<br>Gap: 97.6%",
          "Time: 200s<br>Gap: 96.8%",
          "Time: 205s<br>Gap: 95.9%",
          "Time: 210s<br>Gap: 95.9%",
          "Time: 215s<br>Gap: 95.9%",
          "Time: 220s<br>Gap: 95.2%",
          "Time: 225s<br>Gap: 94.9%",
          "Time: 230s<br>Gap: 94.9%",
          "Time: 235s<br>Gap: 94.6%",
          "Time: 240s<br>Gap: 94.6%",
          "Time: 245s<br>Gap: 94.5%",
          "Time: 250s<br>Gap: 93.4%",
          "Time: 255s<br>Gap: 92.7%",
          "Time: 260s<br>Gap: 92.4%",
          "Time: 265s<br>Gap: 90.5%",
          "Time: 270s<br>Gap: 90.5%",
          "Time: 275s<br>Gap: 89.4%",
          "Time: 280s<br>Gap: 89.4%",
          "Time: 285s<br>Gap: 89.4%",
          "Time: 290s<br>Gap: 88.0%",
          "Time: 295s<br>Gap: 87.3%",
          "Time: 300s<br>Gap: 87.1%",
          "Time: 305s<br>Gap: 87.0%",
          "Time: 310s<br>Gap: 87.0%",
          "Time: 315s<br>Gap: 87.0%",
          "Time: 320s<br>Gap: 85.5%",
          "Time: 325s<br>Gap: 85.5%",
          "Time: 330s<br>Gap: 85.3%",
          "Time: 335s<br>Gap: 84.7%",
          "Time: 340s<br>Gap: 84.7%",
          "Time: 345s<br>Gap: 83.5%",
          "Time: 350s<br>Gap: 83.4%",
          "Time: 355s<br>Gap: 83.1%",
          "Time: 360s<br>Gap: 83.0%",
          "Time: 365s<br>Gap: 82.9%",
          "Time: 370s<br>Gap: 82.9%",
          "Time: 375s<br>Gap: 82.7%",
          "Time: 380s<br>Gap: 82.5%",
          "Time: 385s<br>Gap: 82.3%",
          "Time: 390s<br>Gap: 81.9%",
          "Time: 395s<br>Gap: 81.3%",
          "Time: 400s<br>Gap: 81.2%",
          "Time: 405s<br>Gap: 81.1%",
          "Time: 410s<br>Gap: 80.8%",
          "Time: 415s<br>Gap: 80.5%",
          "Time: 420s<br>Gap: 80.4%",
          "Time: 425s<br>Gap: 80.4%",
          "Time: 430s<br>Gap: 79.9%",
          "Time: 435s<br>Gap: 79.8%",
          "Time: 440s<br>Gap: 79.7%",
          "Time: 445s<br>Gap: 79.7%",
          "Time: 450s<br>Gap: 79.6%",
          "Time: 455s<br>Gap: 79.6%",
          "Time: 460s<br>Gap: 79.6%",
          "Time: 465s<br>Gap: 79.5%",
          "Time: 470s<br>Gap: 79.4%",
          "Time: 475s<br>Gap: 79.3%",
          "Time: 480s<br>Gap: 78.9%",
          "Time: 485s<br>Gap: 78.8%",
          "Time: 490s<br>Gap: 78.7%",
          "Time: 495s<br>Gap: 78.6%",
          "Time: 500s<br>Gap: 78.5%",
          "Time: 505s<br>Gap: 78.3%",
          "Time: 510s<br>Gap: 78.3%",
          "Time: 515s<br>Gap: 78.3%",
          "Time: 520s<br>Gap: 78.3%",
          "Time: 525s<br>Gap: 78.3%",
          "Time: 530s<br>Gap: 78.3%",
          "Time: 535s<br>Gap: 78.3%",
          "Time: 540s<br>Gap: 78.1%",
          "Time: 545s<br>Gap: 78.1%",
          "Time: 550s<br>Gap: 78.0%",
          "Time: 555s<br>Gap: 77.9%",
          "Time: 560s<br>Gap: 77.8%",
          "Time: 565s<br>Gap: 77.8%",
          "Time: 570s<br>Gap: 77.8%",
          "Time: 575s<br>Gap: 77.7%",
          "Time: 580s<br>Gap: 77.5%",
          "Time: 585s<br>Gap: 77.4%",
          "Time: 590s<br>Gap: 77.3%",
          "Time: 595s<br>Gap: 77.3%",
          "Time: 600s<br>Gap: 77.2%",
          "Time: 605s<br>Gap: 77.2%",
          "Time: 610s<br>Gap: 77.1%",
          "Time: 615s<br>Gap: 77.1%",
          "Time: 620s<br>Gap: 77.0%",
          "Time: 625s<br>Gap: 77.0%",
          "Time: 630s<br>Gap: 76.9%",
          "Time: 635s<br>Gap: 76.9%",
          "Time: 640s<br>Gap: 76.7%",
          "Time: 645s<br>Gap: 76.7%",
          "Time: 650s<br>Gap: 76.7%",
          "Time: 655s<br>Gap: 76.6%",
          "Time: 660s<br>Gap: 76.6%",
          "Time: 665s<br>Gap: 76.6%",
          "Time: 670s<br>Gap: 76.5%",
          "Time: 675s<br>Gap: 76.5%",
          "Time: 680s<br>Gap: 76.4%",
          "Time: 685s<br>Gap: 76.2%",
          "Time: 690s<br>Gap: 76.2%",
          "Time: 695s<br>Gap: 76.1%",
          "Time: 700s<br>Gap: 76.1%",
          "Time: 705s<br>Gap: 76.1%",
          "Time: 710s<br>Gap: 76.1%",
          "Time: 715s<br>Gap: 76.0%",
          "Time: 720s<br>Gap: 75.9%",
          "Time: 725s<br>Gap: 75.9%",
          "Time: 730s<br>Gap: 75.8%",
          "Time: 735s<br>Gap: 75.8%",
          "Time: 740s<br>Gap: 75.8%",
          "Time: 745s<br>Gap: 75.7%",
          "Time: 750s<br>Gap: 75.7%",
          "Time: 755s<br>Gap: 75.7%",
          "Time: 760s<br>Gap: 75.6%",
          "Time: 765s<br>Gap: 75.5%",
          "Time: 770s<br>Gap: 75.4%",
          "Time: 775s<br>Gap: 75.4%",
          "Time: 780s<br>Gap: 75.3%",
          "Time: 785s<br>Gap: 75.2%",
          "Time: 790s<br>Gap: 75.1%",
          "Time: 795s<br>Gap: 75.1%",
          "Time: 800s<br>Gap: 75.1%",
          "Time: 805s<br>Gap: 75.0%",
          "Time: 810s<br>Gap: 75.0%",
          "Time: 815s<br>Gap: 74.9%",
          "Time: 820s<br>Gap: 74.8%",
          "Time: 825s<br>Gap: 74.8%",
          "Time: 830s<br>Gap: 74.6%",
          "Time: 835s<br>Gap: 74.5%",
          "Time: 840s<br>Gap: 74.5%",
          "Time: 845s<br>Gap: 74.4%",
          "Time: 850s<br>Gap: 74.3%",
          "Time: 855s<br>Gap: 74.3%",
          "Time: 860s<br>Gap: 74.3%",
          "Time: 865s<br>Gap: 74.2%",
          "Time: 870s<br>Gap: 74.2%",
          "Time: 875s<br>Gap: 74.1%",
          "Time: 880s<br>Gap: 74.1%",
          "Time: 885s<br>Gap: 74.1%",
          "Time: 890s<br>Gap: 74.0%",
          "Time: 895s<br>Gap: 73.9%",
          "Time: 900s<br>Gap: 73.9%"
         ],
         "line": {
          "color": "#00CC96",
          "width": 2
         },
         "mode": "lines",
         "name": "Model 2",
         "showlegend": true,
         "type": "scatter",
         "x": {
          "bdata": "AAAFAAoADwAUABkAHgAjACgALQAyADcAPABBAEYASwBQAFUAWgBfAGQAaQBuAHMAeAB9AIIAhwCMAJEAlgCbAKAApQCqAK8AtAC5AL4AwwDIAM0A0gDXANwA4QDmAOsA8AD1APoA/wAEAQkBDgETARgBHQEiAScBLAExATYBOwFAAUUBSgFPAVQBWQFeAWMBaAFtAXIBdwF8AYEBhgGLAZABlQGaAZ8BpAGpAa4BswG4Ab0BwgHHAcwB0QHWAdsB4AHlAeoB7wH0AfkB/gEDAggCDQISAhcCHAIhAiYCKwIwAjUCOgI/AkQCSQJOAlMCWAJdAmICZwJsAnECdgJ7AoAChQKKAo8ClAKZAp4CowKoAq0CsgK3ArwCwQLGAssC0ALVAtoC3wLkAukC7gLzAvgC/QICAwcDDAMRAxYDGwMgAyUDKgMvAzQDOQM+A0MDSANNA1IDVwNcA2EDZgNrA3ADdQN6A38DhAM=",
          "dtype": "i2"
         },
         "y": {
          "bdata": "AAAAAAA8k0AAAAAAADiTQAAAAAAAoHVAAAAAAACgdUAAAAAAAKB1QAAAAAAAoHVAAAAAAACgdUAAAAAAAJB1QAAAAAAAkHVAAAAAAADgbEAAAAAAAEBdQAAAAAAAQF1AAAAAAABAXUAAAAAAAEBcQAAAAAAAQFxAAAAAAABAXEAAAAAAAEBcQAAAAAAAAFxAAAAAAACAW0AAAAAAAIBbQAAAAAAAgFtAAAAAAACAW0AAAAAAAIBbQAAAAAAAQFtAAAAAAABAW0AAAAAAAEBbQAAAAAAAQFtAAAAAAAAAW0AAAAAAAABbQAAAAAAAAFtAAAAAAACAWkAAAAAAAEBaQAAAAAAAQFlAAAAAAABAWUAAAAAAAMBYQM3MzMzMrFhAzczMzMyMWEDNzMzMzIxYQGZmZmZmhlhAZmZmZmZmWEAzMzMzMzNYQJqZmZmZ+VdAmpmZmZn5V0CamZmZmflXQM3MzMzMzFdAmpmZmZm5V0CamZmZmblXQGZmZmZmpldAZmZmZmamV0AAAAAAAKBXQJqZmZmZWVdAzczMzMwsV0CamZmZmRlXQAAAAAAAoFZAAAAAAACgVkCamZmZmVlWQJqZmZmZWVZAmpmZmZlZVkAAAAAAAABWQDMzMzMz01VAZmZmZmbGVUAAAAAAAMBVQAAAAAAAwFVAAAAAAADAVUAAAAAAAGBVQAAAAAAAYFVAMzMzMzNTVUDNzMzMzCxVQM3MzMzMLFVAAAAAAADgVECamZmZmdlUQGZmZmZmxlRAAAAAAADAVECamZmZmblUQJqZmZmZuVRAzczMzMysVEAAAAAAAKBUQDMzMzMzk1RAmpmZmZl5VEAzMzMzM1NUQM3MzMzMTFRAZmZmZmZGVEAzMzMzMzNUQAAAAAAAIFRAmpmZmZkZVECamZmZmRlUQJqZmZmZ+VNAMzMzMzPzU0DNzMzMzOxTQM3MzMzM7FNAZmZmZmbmU0BmZmZmZuZTQGZmZmZm5lNAAAAAAADgU0CamZmZmdlTQDMzMzMz01NAmpmZmZm5U0AzMzMzM7NTQM3MzMzMrFNAZmZmZmamU0AAAAAAAKBTQDMzMzMzk1NAMzMzMzOTU0AzMzMzM5NTQDMzMzMzk1NAMzMzMzOTU0AzMzMzM5NTQDMzMzMzk1NAZmZmZmaGU0BmZmZmZoZTQAAAAAAAgFNAmpmZmZl5U0AzMzMzM3NTQDMzMzMzc1NAMzMzMzNzU0DNzMzMzGxTQAAAAAAAYFNAmpmZmZlZU0AzMzMzM1NTQDMzMzMzU1NAzczMzMxMU0DNzMzMzExTQGZmZmZmRlNAZmZmZmZGU0AAAAAAAEBTQAAAAAAAQFNAmpmZmZk5U0CamZmZmTlTQM3MzMzMLFNAzczMzMwsU0DNzMzMzCxTQGZmZmZmJlNAZmZmZmYmU0BmZmZmZiZTQAAAAAAAIFNAAAAAAAAgU0CamZmZmRlTQM3MzMzMDFNAzczMzMwMU0BmZmZmZgZTQGZmZmZmBlNAZmZmZmYGU0BmZmZmZgZTQAAAAAAAAFNAmpmZmZn5UkCamZmZmflSQDMzMzMz81JAMzMzMzPzUkAzMzMzM/NSQM3MzMzM7FJAzczMzMzsUkDNzMzMzOxSQGZmZmZm5lJAAAAAAADgUkCamZmZmdlSQJqZmZmZ2VJAMzMzMzPTUkDNzMzMzMxSQGZmZmZmxlJAZmZmZmbGUkBmZmZmZsZSQAAAAAAAwFJAAAAAAADAUkCamZmZmblSQDMzMzMzs1JAMzMzMzOzUkBmZmZmZqZSQAAAAAAAoFJAAAAAAACgUkCamZmZmZlSQDMzMzMzk1JAMzMzMzOTUkAzMzMzM5NSQM3MzMzMjFJAzczMzMyMUkBmZmZmZoZSQGZmZmZmhlJAZmZmZmaGUkAAAAAAAIBSQJqZmZmZeVJAmpmZmZl5UkA=",
          "dtype": "f8"
         }
        }
       ],
       "layout": {
        "autosize": true,
        "barmode": "group",
        "legend": {
         "bgcolor": "rgba(255, 255, 255, 0.5)",
         "x": 0.99,
         "xanchor": "right",
         "y": 0.99,
         "yanchor": "top"
        },
        "margin": {
         "b": 10,
         "l": 10,
         "r": 10,
         "t": 10
        },
        "template": {
         "data": {
          "bar": [
           {
            "error_x": {
             "color": "#2a3f5f"
            },
            "error_y": {
             "color": "#2a3f5f"
            },
            "marker": {
             "line": {
              "color": "#E5ECF6",
              "width": 0.5
             },
             "pattern": {
              "fillmode": "overlay",
              "size": 10,
              "solidity": 0.2
             }
            },
            "type": "bar"
           }
          ],
          "barpolar": [
           {
            "marker": {
             "line": {
              "color": "#E5ECF6",
              "width": 0.5
             },
             "pattern": {
              "fillmode": "overlay",
              "size": 10,
              "solidity": 0.2
             }
            },
            "type": "barpolar"
           }
          ],
          "carpet": [
           {
            "aaxis": {
             "endlinecolor": "#2a3f5f",
             "gridcolor": "white",
             "linecolor": "white",
             "minorgridcolor": "white",
             "startlinecolor": "#2a3f5f"
            },
            "baxis": {
             "endlinecolor": "#2a3f5f",
             "gridcolor": "white",
             "linecolor": "white",
             "minorgridcolor": "white",
             "startlinecolor": "#2a3f5f"
            },
            "type": "carpet"
           }
          ],
          "choropleth": [
           {
            "colorbar": {
             "outlinewidth": 0,
             "ticks": ""
            },
            "type": "choropleth"
           }
          ],
          "contour": [
           {
            "colorbar": {
             "outlinewidth": 0,
             "ticks": ""
            },
            "colorscale": [
             [
              0,
              "#0d0887"
             ],
             [
              0.1111111111111111,
              "#46039f"
             ],
             [
              0.2222222222222222,
              "#7201a8"
             ],
             [
              0.3333333333333333,
              "#9c179e"
             ],
             [
              0.4444444444444444,
              "#bd3786"
             ],
             [
              0.5555555555555556,
              "#d8576b"
             ],
             [
              0.6666666666666666,
              "#ed7953"
             ],
             [
              0.7777777777777778,
              "#fb9f3a"
             ],
             [
              0.8888888888888888,
              "#fdca26"
             ],
             [
              1,
              "#f0f921"
             ]
            ],
            "type": "contour"
           }
          ],
          "contourcarpet": [
           {
            "colorbar": {
             "outlinewidth": 0,
             "ticks": ""
            },
            "type": "contourcarpet"
           }
          ],
          "heatmap": [
           {
            "colorbar": {
             "outlinewidth": 0,
             "ticks": ""
            },
            "colorscale": [
             [
              0,
              "#0d0887"
             ],
             [
              0.1111111111111111,
              "#46039f"
             ],
             [
              0.2222222222222222,
              "#7201a8"
             ],
             [
              0.3333333333333333,
              "#9c179e"
             ],
             [
              0.4444444444444444,
              "#bd3786"
             ],
             [
              0.5555555555555556,
              "#d8576b"
             ],
             [
              0.6666666666666666,
              "#ed7953"
             ],
             [
              0.7777777777777778,
              "#fb9f3a"
             ],
             [
              0.8888888888888888,
              "#fdca26"
             ],
             [
              1,
              "#f0f921"
             ]
            ],
            "type": "heatmap"
           }
          ],
          "histogram": [
           {
            "marker": {
             "pattern": {
              "fillmode": "overlay",
              "size": 10,
              "solidity": 0.2
             }
            },
            "type": "histogram"
           }
          ],
          "histogram2d": [
           {
            "colorbar": {
             "outlinewidth": 0,
             "ticks": ""
            },
            "colorscale": [
             [
              0,
              "#0d0887"
             ],
             [
              0.1111111111111111,
              "#46039f"
             ],
             [
              0.2222222222222222,
              "#7201a8"
             ],
             [
              0.3333333333333333,
              "#9c179e"
             ],
             [
              0.4444444444444444,
              "#bd3786"
             ],
             [
              0.5555555555555556,
              "#d8576b"
             ],
             [
              0.6666666666666666,
              "#ed7953"
             ],
             [
              0.7777777777777778,
              "#fb9f3a"
             ],
             [
              0.8888888888888888,
              "#fdca26"
             ],
             [
              1,
              "#f0f921"
             ]
            ],
            "type": "histogram2d"
           }
          ],
          "histogram2dcontour": [
           {
            "colorbar": {
             "outlinewidth": 0,
             "ticks": ""
            },
            "colorscale": [
             [
              0,
              "#0d0887"
             ],
             [
              0.1111111111111111,
              "#46039f"
             ],
             [
              0.2222222222222222,
              "#7201a8"
             ],
             [
              0.3333333333333333,
              "#9c179e"
             ],
             [
              0.4444444444444444,
              "#bd3786"
             ],
             [
              0.5555555555555556,
              "#d8576b"
             ],
             [
              0.6666666666666666,
              "#ed7953"
             ],
             [
              0.7777777777777778,
              "#fb9f3a"
             ],
             [
              0.8888888888888888,
              "#fdca26"
             ],
             [
              1,
              "#f0f921"
             ]
            ],
            "type": "histogram2dcontour"
           }
          ],
          "mesh3d": [
           {
            "colorbar": {
             "outlinewidth": 0,
             "ticks": ""
            },
            "type": "mesh3d"
           }
          ],
          "parcoords": [
           {
            "line": {
             "colorbar": {
              "outlinewidth": 0,
              "ticks": ""
             }
            },
            "type": "parcoords"
           }
          ],
          "pie": [
           {
            "automargin": true,
            "type": "pie"
           }
          ],
          "scatter": [
           {
            "fillpattern": {
             "fillmode": "overlay",
             "size": 10,
             "solidity": 0.2
            },
            "type": "scatter"
           }
          ],
          "scatter3d": [
           {
            "line": {
             "colorbar": {
              "outlinewidth": 0,
              "ticks": ""
             }
            },
            "marker": {
             "colorbar": {
              "outlinewidth": 0,
              "ticks": ""
             }
            },
            "type": "scatter3d"
           }
          ],
          "scattercarpet": [
           {
            "marker": {
             "colorbar": {
              "outlinewidth": 0,
              "ticks": ""
             }
            },
            "type": "scattercarpet"
           }
          ],
          "scattergeo": [
           {
            "marker": {
             "colorbar": {
              "outlinewidth": 0,
              "ticks": ""
             }
            },
            "type": "scattergeo"
           }
          ],
          "scattergl": [
           {
            "marker": {
             "colorbar": {
              "outlinewidth": 0,
              "ticks": ""
             }
            },
            "type": "scattergl"
           }
          ],
          "scattermap": [
           {
            "marker": {
             "colorbar": {
              "outlinewidth": 0,
              "ticks": ""
             }
            },
            "type": "scattermap"
           }
          ],
          "scattermapbox": [
           {
            "marker": {
             "colorbar": {
              "outlinewidth": 0,
              "ticks": ""
             }
            },
            "type": "scattermapbox"
           }
          ],
          "scatterpolar": [
           {
            "marker": {
             "colorbar": {
              "outlinewidth": 0,
              "ticks": ""
             }
            },
            "type": "scatterpolar"
           }
          ],
          "scatterpolargl": [
           {
            "marker": {
             "colorbar": {
              "outlinewidth": 0,
              "ticks": ""
             }
            },
            "type": "scatterpolargl"
           }
          ],
          "scatterternary": [
           {
            "marker": {
             "colorbar": {
              "outlinewidth": 0,
              "ticks": ""
             }
            },
            "type": "scatterternary"
           }
          ],
          "surface": [
           {
            "colorbar": {
             "outlinewidth": 0,
             "ticks": ""
            },
            "colorscale": [
             [
              0,
              "#0d0887"
             ],
             [
              0.1111111111111111,
              "#46039f"
             ],
             [
              0.2222222222222222,
              "#7201a8"
             ],
             [
              0.3333333333333333,
              "#9c179e"
             ],
             [
              0.4444444444444444,
              "#bd3786"
             ],
             [
              0.5555555555555556,
              "#d8576b"
             ],
             [
              0.6666666666666666,
              "#ed7953"
             ],
             [
              0.7777777777777778,
              "#fb9f3a"
             ],
             [
              0.8888888888888888,
              "#fdca26"
             ],
             [
              1,
              "#f0f921"
             ]
            ],
            "type": "surface"
           }
          ],
          "table": [
           {
            "cells": {
             "fill": {
              "color": "#EBF0F8"
             },
             "line": {
              "color": "white"
             }
            },
            "header": {
             "fill": {
              "color": "#C8D4E3"
             },
             "line": {
              "color": "white"
             }
            },
            "type": "table"
           }
          ]
         },
         "layout": {
          "annotationdefaults": {
           "arrowcolor": "#2a3f5f",
           "arrowhead": 0,
           "arrowwidth": 1
          },
          "autotypenumbers": "strict",
          "coloraxis": {
           "colorbar": {
            "outlinewidth": 0,
            "ticks": ""
           }
          },
          "colorscale": {
           "diverging": [
            [
             0,
             "#8e0152"
            ],
            [
             0.1,
             "#c51b7d"
            ],
            [
             0.2,
             "#de77ae"
            ],
            [
             0.3,
             "#f1b6da"
            ],
            [
             0.4,
             "#fde0ef"
            ],
            [
             0.5,
             "#f7f7f7"
            ],
            [
             0.6,
             "#e6f5d0"
            ],
            [
             0.7,
             "#b8e186"
            ],
            [
             0.8,
             "#7fbc41"
            ],
            [
             0.9,
             "#4d9221"
            ],
            [
             1,
             "#276419"
            ]
           ],
           "sequential": [
            [
             0,
             "#0d0887"
            ],
            [
             0.1111111111111111,
             "#46039f"
            ],
            [
             0.2222222222222222,
             "#7201a8"
            ],
            [
             0.3333333333333333,
             "#9c179e"
            ],
            [
             0.4444444444444444,
             "#bd3786"
            ],
            [
             0.5555555555555556,
             "#d8576b"
            ],
            [
             0.6666666666666666,
             "#ed7953"
            ],
            [
             0.7777777777777778,
             "#fb9f3a"
            ],
            [
             0.8888888888888888,
             "#fdca26"
            ],
            [
             1,
             "#f0f921"
            ]
           ],
           "sequentialminus": [
            [
             0,
             "#0d0887"
            ],
            [
             0.1111111111111111,
             "#46039f"
            ],
            [
             0.2222222222222222,
             "#7201a8"
            ],
            [
             0.3333333333333333,
             "#9c179e"
            ],
            [
             0.4444444444444444,
             "#bd3786"
            ],
            [
             0.5555555555555556,
             "#d8576b"
            ],
            [
             0.6666666666666666,
             "#ed7953"
            ],
            [
             0.7777777777777778,
             "#fb9f3a"
            ],
            [
             0.8888888888888888,
             "#fdca26"
            ],
            [
             1,
             "#f0f921"
            ]
           ]
          },
          "colorway": [
           "#636efa",
           "#EF553B",
           "#00cc96",
           "#ab63fa",
           "#FFA15A",
           "#19d3f3",
           "#FF6692",
           "#B6E880",
           "#FF97FF",
           "#FECB52"
          ],
          "font": {
           "color": "#2a3f5f"
          },
          "geo": {
           "bgcolor": "white",
           "lakecolor": "white",
           "landcolor": "#E5ECF6",
           "showlakes": true,
           "showland": true,
           "subunitcolor": "white"
          },
          "hoverlabel": {
           "align": "left"
          },
          "hovermode": "closest",
          "mapbox": {
           "style": "light"
          },
          "paper_bgcolor": "white",
          "plot_bgcolor": "#E5ECF6",
          "polar": {
           "angularaxis": {
            "gridcolor": "white",
            "linecolor": "white",
            "ticks": ""
           },
           "bgcolor": "#E5ECF6",
           "radialaxis": {
            "gridcolor": "white",
            "linecolor": "white",
            "ticks": ""
           }
          },
          "scene": {
           "xaxis": {
            "backgroundcolor": "#E5ECF6",
            "gridcolor": "white",
            "gridwidth": 2,
            "linecolor": "white",
            "showbackground": true,
            "ticks": "",
            "zerolinecolor": "white"
           },
           "yaxis": {
            "backgroundcolor": "#E5ECF6",
            "gridcolor": "white",
            "gridwidth": 2,
            "linecolor": "white",
            "showbackground": true,
            "ticks": "",
            "zerolinecolor": "white"
           },
           "zaxis": {
            "backgroundcolor": "#E5ECF6",
            "gridcolor": "white",
            "gridwidth": 2,
            "linecolor": "white",
            "showbackground": true,
            "ticks": "",
            "zerolinecolor": "white"
           }
          },
          "shapedefaults": {
           "line": {
            "color": "#2a3f5f"
           }
          },
          "ternary": {
           "aaxis": {
            "gridcolor": "white",
            "linecolor": "white",
            "ticks": ""
           },
           "baxis": {
            "gridcolor": "white",
            "linecolor": "white",
            "ticks": ""
           },
           "bgcolor": "#E5ECF6",
           "caxis": {
            "gridcolor": "white",
            "linecolor": "white",
            "ticks": ""
           }
          },
          "title": {
           "x": 0.05
          },
          "xaxis": {
           "automargin": true,
           "gridcolor": "white",
           "linecolor": "white",
           "ticks": "",
           "title": {
            "standoff": 15
           },
           "zerolinecolor": "white",
           "zerolinewidth": 2
          },
          "yaxis": {
           "automargin": true,
           "gridcolor": "white",
           "linecolor": "white",
           "ticks": "",
           "title": {
            "standoff": 15
           },
           "zerolinecolor": "white",
           "zerolinewidth": 2
          }
         }
        },
        "xaxis": {
         "tickmode": "array",
         "ticktext": [
          0,
          60,
          120,
          180,
          240,
          300,
          360,
          420,
          480,
          540,
          600,
          660,
          720,
          780,
          840,
          900
         ],
         "tickvals": [
          0,
          60,
          120,
          180,
          240,
          300,
          360,
          420,
          480,
          540,
          600,
          660,
          720,
          780,
          840,
          900
         ],
         "title": {
          "text": "Time (s)"
         }
        },
        "yaxis": {
         "range": [
          -0.05,
          400
         ],
         "ticktext": [
          "50%",
          "100%",
          "150%",
          "200%",
          "250%",
          "300%",
          "350%",
          "400%"
         ],
         "tickvals": [
          50,
          100,
          150,
          200,
          250,
          300,
          350,
          400
         ],
         "title": {
          "text": "Gap (%)"
         }
        }
       }
      }
     },
     "metadata": {},
     "output_type": "display_data"
    }
   ],
   "source": [
    "# Time evolution of gap\n",
    "timesteps = np.arange(0, 901, 5)\n",
    "\n",
    "gaps0 = np.array(\n",
    "    [\n",
    "        10_000,\n",
    "        10_000,\n",
    "        10_000,\n",
    "        10_000,\n",
    "        10_000,\n",
    "        10_000,\n",
    "        10_000,\n",
    "        10_000,\n",
    "        10_000,\n",
    "        10_000,\n",
    "        10_000,\n",
    "        10_000,\n",
    "        10_000,\n",
    "        10_000,\n",
    "        10_000,\n",
    "        10_000,\n",
    "        10_000,\n",
    "        10_000,\n",
    "        10_000,\n",
    "        10_000,\n",
    "        10_000,\n",
    "        10_000,\n",
    "        10_000,\n",
    "        10_000,\n",
    "        10_000,\n",
    "        10_000,\n",
    "        10_000,\n",
    "        10_000,\n",
    "        10_000,\n",
    "        10_000,\n",
    "        10_000,\n",
    "        10_000,\n",
    "        10_000,\n",
    "        104,\n",
    "        103,\n",
    "        103,\n",
    "        103,\n",
    "        102,\n",
    "        102,\n",
    "        102,\n",
    "        102,\n",
    "        102,\n",
    "        102,\n",
    "        101,\n",
    "        101,\n",
    "        101,\n",
    "        101,\n",
    "        100,\n",
    "        100,\n",
    "        100,\n",
    "        100,\n",
    "        100,\n",
    "        99.4,\n",
    "        99.1,\n",
    "        99.0,\n",
    "        98.8,\n",
    "        98.6,\n",
    "        98.4,\n",
    "        98.2,\n",
    "        98.1,\n",
    "        98.1,\n",
    "        97.7,\n",
    "        97.6,\n",
    "        97.4,\n",
    "        97.3,\n",
    "        97.1,\n",
    "        97.0,\n",
    "        96.8,\n",
    "        96.7,\n",
    "        96.5,\n",
    "        96.2,\n",
    "        96.2,\n",
    "        96.1,\n",
    "        96.0,\n",
    "        95.9,\n",
    "        95.8,\n",
    "        95.8,\n",
    "        95.8,\n",
    "        95.7,\n",
    "        95.6,\n",
    "        95.5,\n",
    "        95.4,\n",
    "        95.3,\n",
    "        95.1,\n",
    "        95.1,\n",
    "        95.0,\n",
    "        95.0,\n",
    "        94.8,\n",
    "        94.7,\n",
    "        94.6,\n",
    "        94.6,\n",
    "        94.5,\n",
    "        94.3,\n",
    "        94.1,\n",
    "        93.8,\n",
    "        93.8,\n",
    "        93.8,\n",
    "        93.6,\n",
    "        93.6,\n",
    "        93.4,\n",
    "        93.3,\n",
    "        93.0,\n",
    "        92.9,\n",
    "        92.7,\n",
    "        92.6,\n",
    "        92.6,\n",
    "        92.5,\n",
    "        92.4,\n",
    "        92.3,\n",
    "        92.2,\n",
    "        92.2,\n",
    "        92.1,\n",
    "        92.0,\n",
    "        92.0,\n",
    "        92.0,\n",
    "        92.0,\n",
    "        91.7,\n",
    "        91.6,\n",
    "        91.5,\n",
    "        91.5,\n",
    "        91.4,\n",
    "        91.2,\n",
    "        91.1,\n",
    "        91.0,\n",
    "        90.9,\n",
    "        90.9,\n",
    "        90.8,\n",
    "        90.7,\n",
    "        90.7,\n",
    "        90.5,\n",
    "        90.5,\n",
    "        90.4,\n",
    "        90.3,\n",
    "        90.2,\n",
    "        90.2,\n",
    "        90.1,\n",
    "        90.1,\n",
    "        90.1,\n",
    "        90.0,\n",
    "        89.9,\n",
    "        89.9,\n",
    "        89.8,\n",
    "        89.7,\n",
    "        89.6,\n",
    "        89.6,\n",
    "        89.6,\n",
    "        89.6,\n",
    "        89.5,\n",
    "        89.5,\n",
    "        89.5,\n",
    "        89.5,\n",
    "        89.4,\n",
    "        89.4,\n",
    "        89.3,\n",
    "        89.3,\n",
    "        89.1,\n",
    "        89.0,\n",
    "        89.0,\n",
    "        88.9,\n",
    "        88.9,\n",
    "        88.9,\n",
    "        88.9,\n",
    "        88.7,\n",
    "        88.7,\n",
    "        88.7,\n",
    "        88.7,\n",
    "        88.6,\n",
    "        88.6,\n",
    "        88.6,\n",
    "        88.6,\n",
    "        88.4,\n",
    "        88.4,\n",
    "        88.3,\n",
    "        88.2,\n",
    "        88.2,\n",
    "        88.2,\n",
    "        88.1,\n",
    "        88.0,\n",
    "        87.9,\n",
    "        87.9,\n",
    "        87.7,\n",
    "    ]\n",
    ")\n",
    "\n",
    "gaps1 = np.array(\n",
    "    [\n",
    "        1231,\n",
    "        1230,\n",
    "        344,\n",
    "        344,\n",
    "        344,\n",
    "        344,\n",
    "        117,\n",
    "        117,\n",
    "        113,\n",
    "        113,\n",
    "        113,\n",
    "        112,\n",
    "        110,\n",
    "        110,\n",
    "        110,\n",
    "        109,\n",
    "        109,\n",
    "        109,\n",
    "        106,\n",
    "        105,\n",
    "        105,\n",
    "        104,\n",
    "        103,\n",
    "        103,\n",
    "        102,\n",
    "        100,\n",
    "        97.3,\n",
    "        97.1,\n",
    "        96.4,\n",
    "        96.3,\n",
    "        95.9,\n",
    "        95.9,\n",
    "        95.4,\n",
    "        93.1,\n",
    "        92.9,\n",
    "        92.9,\n",
    "        92.4,\n",
    "        92.2,\n",
    "        91.8,\n",
    "        91.7,\n",
    "        91.4,\n",
    "        91.2,\n",
    "        91.1,\n",
    "        91.0,\n",
    "        90.8,\n",
    "        90.7,\n",
    "        90.5,\n",
    "        90.3,\n",
    "        90.2,\n",
    "        90.1,\n",
    "        89.9,\n",
    "        89.5,\n",
    "        89.2,\n",
    "        89.2,\n",
    "        89.1,\n",
    "        88.9,\n",
    "        88.8,\n",
    "        88.7,\n",
    "        88.6,\n",
    "        88.6,\n",
    "        88.5,\n",
    "        88.4,\n",
    "        88.4,\n",
    "        88.2,\n",
    "        88.1,\n",
    "        88.0,\n",
    "        88.0,\n",
    "        87.8,\n",
    "        87.7,\n",
    "        87.5,\n",
    "        87.5,\n",
    "        87.5,\n",
    "        87.4,\n",
    "        87.4,\n",
    "        87.3,\n",
    "        87.3,\n",
    "        87.3,\n",
    "        87.2,\n",
    "        87.1,\n",
    "        87.0,\n",
    "        86.9,\n",
    "        86.8,\n",
    "        86.7,\n",
    "        86.7,\n",
    "        86.7,\n",
    "        86.7,\n",
    "        86.5,\n",
    "        86.5,\n",
    "        86.4,\n",
    "        86.3,\n",
    "        86.3,\n",
    "        86.2,\n",
    "        86.2,\n",
    "        86.1,\n",
    "        86.0,\n",
    "        85.9,\n",
    "        85.9,\n",
    "        85.9,\n",
    "        85.8,\n",
    "        85.7,\n",
    "        85.6,\n",
    "        85.5,\n",
    "        85.5,\n",
    "        85.4,\n",
    "        85.4,\n",
    "        85.4,\n",
    "        85.3,\n",
    "        85.3,\n",
    "        85.2,\n",
    "        85.2,\n",
    "        85.2,\n",
    "        85.2,\n",
    "        85.1,\n",
    "        85.1,\n",
    "        85.1,\n",
    "        85.1,\n",
    "        85.0,\n",
    "        85.0,\n",
    "        84.9,\n",
    "        84.9,\n",
    "        84.8,\n",
    "        84.8,\n",
    "        84.8,\n",
    "        84.7,\n",
    "        84.7,\n",
    "        84.6,\n",
    "        84.6,\n",
    "        84.5,\n",
    "        84.5,\n",
    "        84.4,\n",
    "        84.4,\n",
    "        84.3,\n",
    "        84.3,\n",
    "        84.2,\n",
    "        84.2,\n",
    "        84.1,\n",
    "        84.1,\n",
    "        84.0,\n",
    "        83.9,\n",
    "        83.9,\n",
    "        83.9,\n",
    "        83.8,\n",
    "        83.8,\n",
    "        83.7,\n",
    "        83.7,\n",
    "        83.6,\n",
    "        83.6,\n",
    "        83.6,\n",
    "        83.5,\n",
    "        83.5,\n",
    "        83.4,\n",
    "        83.4,\n",
    "        83.4,\n",
    "        83.3,\n",
    "        83.3,\n",
    "        83.3,\n",
    "        83.3,\n",
    "        83.3,\n",
    "        83.3,\n",
    "        83.2,\n",
    "        83.2,\n",
    "        83.1,\n",
    "        83.0,\n",
    "        83.0,\n",
    "        82.9,\n",
    "        82.9,\n",
    "        82.9,\n",
    "        82.9,\n",
    "        82.8,\n",
    "        82.8,\n",
    "        82.7,\n",
    "        82.6,\n",
    "        82.6,\n",
    "        82.6,\n",
    "        82.6,\n",
    "        82.5,\n",
    "        82.5,\n",
    "        82.5,\n",
    "        82.5,\n",
    "        82.4,\n",
    "        82.4,\n",
    "    ]\n",
    ")\n",
    "\n",
    "gaps2 = np.array(\n",
    "    [\n",
    "        1231,\n",
    "        1230,\n",
    "        346,\n",
    "        346,\n",
    "        346,\n",
    "        346,\n",
    "        346,\n",
    "        345,\n",
    "        345,\n",
    "        231,\n",
    "        117,\n",
    "        117,\n",
    "        117,\n",
    "        113,\n",
    "        113,\n",
    "        113,\n",
    "        113,\n",
    "        112,\n",
    "        110,\n",
    "        110,\n",
    "        110,\n",
    "        110,\n",
    "        110,\n",
    "        109,\n",
    "        109,\n",
    "        109,\n",
    "        109,\n",
    "        108,\n",
    "        108,\n",
    "        108,\n",
    "        106,\n",
    "        105,\n",
    "        101,\n",
    "        101,\n",
    "        99.0,\n",
    "        98.7,\n",
    "        98.2,\n",
    "        98.2,\n",
    "        98.1,\n",
    "        97.6,\n",
    "        96.8,\n",
    "        95.9,\n",
    "        95.9,\n",
    "        95.9,\n",
    "        95.2,\n",
    "        94.9,\n",
    "        94.9,\n",
    "        94.6,\n",
    "        94.6,\n",
    "        94.5,\n",
    "        93.4,\n",
    "        92.7,\n",
    "        92.4,\n",
    "        90.5,\n",
    "        90.5,\n",
    "        89.4,\n",
    "        89.4,\n",
    "        89.4,\n",
    "        88.0,\n",
    "        87.3,\n",
    "        87.1,\n",
    "        87.0,\n",
    "        87.0,\n",
    "        87.0,\n",
    "        85.5,\n",
    "        85.5,\n",
    "        85.3,\n",
    "        84.7,\n",
    "        84.7,\n",
    "        83.5,\n",
    "        83.4,\n",
    "        83.1,\n",
    "        83.0,\n",
    "        82.9,\n",
    "        82.9,\n",
    "        82.7,\n",
    "        82.5,\n",
    "        82.3,\n",
    "        81.9,\n",
    "        81.3,\n",
    "        81.2,\n",
    "        81.1,\n",
    "        80.8,\n",
    "        80.5,\n",
    "        80.4,\n",
    "        80.4,\n",
    "        79.9,\n",
    "        79.8,\n",
    "        79.7,\n",
    "        79.7,\n",
    "        79.6,\n",
    "        79.6,\n",
    "        79.6,\n",
    "        79.5,\n",
    "        79.4,\n",
    "        79.3,\n",
    "        78.9,\n",
    "        78.8,\n",
    "        78.7,\n",
    "        78.6,\n",
    "        78.5,\n",
    "        78.3,\n",
    "        78.3,\n",
    "        78.3,\n",
    "        78.3,\n",
    "        78.3,\n",
    "        78.3,\n",
    "        78.3,\n",
    "        78.1,\n",
    "        78.1,\n",
    "        78.0,\n",
    "        77.9,\n",
    "        77.8,\n",
    "        77.8,\n",
    "        77.8,\n",
    "        77.7,\n",
    "        77.5,\n",
    "        77.4,\n",
    "        77.3,\n",
    "        77.3,\n",
    "        77.2,\n",
    "        77.2,\n",
    "        77.1,\n",
    "        77.1,\n",
    "        77.0,\n",
    "        77.0,\n",
    "        76.9,\n",
    "        76.9,\n",
    "        76.7,\n",
    "        76.7,\n",
    "        76.7,\n",
    "        76.6,\n",
    "        76.6,\n",
    "        76.6,\n",
    "        76.5,\n",
    "        76.5,\n",
    "        76.4,\n",
    "        76.2,\n",
    "        76.2,\n",
    "        76.1,\n",
    "        76.1,\n",
    "        76.1,\n",
    "        76.1,\n",
    "        76.0,\n",
    "        75.9,\n",
    "        75.9,\n",
    "        75.8,\n",
    "        75.8,\n",
    "        75.8,\n",
    "        75.7,\n",
    "        75.7,\n",
    "        75.7,\n",
    "        75.6,\n",
    "        75.5,\n",
    "        75.4,\n",
    "        75.4,\n",
    "        75.3,\n",
    "        75.2,\n",
    "        75.1,\n",
    "        75.1,\n",
    "        75.1,\n",
    "        75.0,\n",
    "        75.0,\n",
    "        74.9,\n",
    "        74.8,\n",
    "        74.8,\n",
    "        74.6,\n",
    "        74.5,\n",
    "        74.5,\n",
    "        74.4,\n",
    "        74.3,\n",
    "        74.3,\n",
    "        74.3,\n",
    "        74.2,\n",
    "        74.2,\n",
    "        74.1,\n",
    "        74.1,\n",
    "        74.1,\n",
    "        74.0,\n",
    "        73.9,\n",
    "        73.9,\n",
    "    ]\n",
    ")\n",
    "\n",
    "print(len(timesteps), len(gaps0), len(gaps1), len(gaps2))\n",
    "\n",
    "\n",
    "# Plot the gap evolution in time\n",
    "fig = go.Figure()\n",
    "\n",
    "fig.add_trace(\n",
    "    go.Scatter(\n",
    "        x=timesteps,\n",
    "        y=gaps0,\n",
    "        mode='lines',\n",
    "        name='Model 0',\n",
    "        line=dict(\n",
    "            color=colormap[0],\n",
    "            width=2\n",
    "        ),\n",
    "        hoverinfo='text',\n",
    "        hovertext=[f'Time: {t}s<br>Gap: {g}%' for t, g in zip(timesteps, gaps0)],\n",
    "        showlegend=True\n",
    "    )\n",
    ")\n",
    "\n",
    "fig.add_trace(\n",
    "    go.Scatter(\n",
    "        x=timesteps,\n",
    "        y=gaps1,\n",
    "        mode='lines',\n",
    "        name='Model 1',\n",
    "        line=dict(\n",
    "            color=colormap[1],\n",
    "            width=2\n",
    "        ),\n",
    "        hoverinfo='text',\n",
    "        hovertext=[f'Time: {t}s<br>Gap: {g}%' for t, g in zip(timesteps, gaps1)],\n",
    "        showlegend=True\n",
    "    )\n",
    ")\n",
    "\n",
    "fig.add_trace(\n",
    "    go.Scatter(\n",
    "        x=timesteps,\n",
    "        y=gaps2,\n",
    "        mode='lines',\n",
    "        name='Model 2',\n",
    "        line=dict(\n",
    "            color=colormap[2],\n",
    "            width=2\n",
    "        ),\n",
    "        hoverinfo='text',\n",
    "        hovertext=[f'Time: {t}s<br>Gap: {g}%' for t, g in zip(timesteps, gaps2)],\n",
    "        showlegend=True\n",
    "    )\n",
    ")\n",
    "\n",
    "max_gap=400\n",
    "fig.update_layout(\n",
    "    autosize=True,   # let the container size drive the plot\n",
    "    margin=dict(l=10, r=10, t=10, b=10),    # width=1000,\n",
    "    # height=600,\n",
    "    barmode='group',\n",
    "    yaxis = dict(\n",
    "        range=[-0.05, max_gap],\n",
    "        title = 'Gap (%)',\n",
    "        tickvals = list(range(50, max_gap + 1, 50)),\n",
    "        ticktext = [str(i) + '%' for i in range(50, max_gap + 1, 50)],\n",
    "    ),\n",
    "    xaxis = dict(\n",
    "        title = 'Time (s)',\n",
    "        tickmode = 'array',\n",
    "        tickvals = list(range(0, 901, 60)),\n",
    "        ticktext = list(range(0, 901, 60)),\n",
    "    ),\n",
    "    legend=dict(\n",
    "        x=0.99,\n",
    "        y=0.99,\n",
    "        xanchor='right',\n",
    "        yanchor='top',\n",
    "        bgcolor='rgba(255, 255, 255, 0.5)'\n",
    "    )\n",
    "\n",
    ")\n",
    "fig.show()\n",
    "\n",
    "# # Save as HTML\n",
    "div_schedule = plot(\n",
    "    fig, include_plotlyjs=True, config={\"responsive\": True}, output_type=\"div\"\n",
    ")\n",
    "# write div snippet to file\n",
    "with open('../docs/images/time-evolution-gap.html', 'w') as f:\n",
    "    f.write(div_schedule)"
   ]
  },
  {
   "cell_type": "code",
   "execution_count": 4,
   "id": "0b0fa877",
   "metadata": {},
   "outputs": [],
   "source": [
    "RESULTFILE = '../results/results_nova.csv'\n",
    "df = pd.read_csv(RESULTFILE)\n",
    "\n",
    "# Multiply gap column by 100\n",
    "df['gap'] = df['gap'] * 100\n",
    "\n",
    "\n",
    "df0 = df[df['model']==0].copy()\n",
    "df1 = df[df['model']==1].copy()\n",
    "df2 = df[df['model']==2].copy()"
   ]
  },
  {
   "cell_type": "code",
   "execution_count": null,
   "id": "561c6074",
   "metadata": {},
   "outputs": [
    {
     "name": "stdout",
     "output_type": "stream",
     "text": [
      "|   ID |        gap |   total_time |   heuristics_time |   nodes |       iterations |\n",
      "|-----:|-----------:|-------------:|------------------:|--------:|-----------------:|\n",
      "|    1 |     0      |      17.5217 |           17.298  |       3 |    590           |\n",
      "|    2 |     0      |      93.8309 |           91.4811 |       3 |   4207           |\n",
      "|    3 |     0      |     202.37   |          120.097  |    1190 |  47530           |\n",
      "|    4 |    25.362  |     328.268  |           28.2641 |   68858 |      1.28772e+06 |\n",
      "|    5 |    90.7784 |     407.977  |          107.971  |   11596 | 356043           |\n",
      "|    6 |   111.789  |     521.354  |          221.347  |    1162 | 246015           |\n",
      "|    7 |   162.156  |     330.708  |           30.7026 |   10714 |      1.26297e+06 |\n",
      "|    8 |   205.398  |     426.481  |          126.474  |    1778 | 363331           |\n",
      "|    9 |   422.396  |     554.002  |          253.991  |    1161 | 185621           |\n",
      "|   10 |     0      |     105.648  |          104.523  |       3 |    786           |\n",
      "|   11 |     0      |     309.903  |          300.185  |       3 |   4386           |\n",
      "|   12 |     0      |     331.182  |          300.77   |       3 |   8083           |\n",
      "|   13 |    32.4426 |     413.693  |          113.684  |   27769 | 468593           |\n",
      "|   14 |    93.7098 |     600.172  |          300.101  |    2215 | 103523           |\n",
      "|   15 |   184.796  |     600.671  |          300.551  |     286 |  51204           |\n",
      "|   16 |    37.7725 |     425.166  |          125.158  |   23143 | 472549           |\n",
      "|   17 |    53.1671 |     600.575  |          300.534  |     723 | 102865           |\n",
      "|   18 |   153.325  |     600.873  |          300.667  |      47 | 113804           |\n",
      "|   19 |     0      |     303.976  |          300.196  |       3 |    845           |\n",
      "|   20 |     0      |     354.088  |          300.198  |       3 |   4533           |\n",
      "|   21 |     0      |     489.492  |          301.734  |       3 |  12329           |\n",
      "|   22 |     0      |     305.492  |          300.01   |       2 |   3276           |\n",
      "|   23 |     0      |     395.096  |          300.931  |       7 |  16056           |\n",
      "|   24 |  2651.18   |     601.257  |          300.627  |       1 |  30962           |\n",
      "|   25 |     0      |     429.392  |          300.07   |    1925 |  17955           |\n",
      "|   26 |    29.1067 |     600.362  |          300.204  |     163 |  45203           |\n",
      "|   27 | 16190.3    |     601.372  |          301.033  |       1 |  64425           |\n"
     ]
    }
   ],
   "source": [
    "# # FIlter relevant columns discarding index\n",
    "# df1 = df1[['ID', 'gap', 'total_time', 'heuristics_time', 'nodes', 'iterations']]\n",
    "# # df2 = df2[['ID', 'N', 'J', 'T', 'K']]\n",
    "\n",
    "# # Remove df index column\n",
    "# df1.reset_index(drop=True, inplace=True)\n",
    "\n",
    "# # Print styling as markdown table\n",
    "# print(df1.to_markdown(index=False))"
   ]
  },
  {
   "cell_type": "code",
   "execution_count": 5,
   "id": "f2e78977",
   "metadata": {},
   "outputs": [],
   "source": [
    "# # Compare values\n",
    "# compared_column = 'gap'\n",
    "# comparison_df = df1[['ID', compared_column]].merge(\n",
    "#     df2[['ID', compared_column]], \n",
    "#     on='ID', \n",
    "#     suffixes=('_model1', '_model2')\n",
    "# )\n",
    "\n",
    "# display(comparison_df)"
   ]
  },
  {
   "cell_type": "code",
   "execution_count": 6,
   "id": "79185050",
   "metadata": {},
   "outputs": [],
   "source": [
    "# # Keep only ID, gap and objetive columns\n",
    "# selected_columns = ['ID', 'gap', 'objective']\n",
    "# df0 = df0[selected_columns]\n",
    "# df1 = df1[selected_columns]\n",
    "# df2 = df2[selected_columns]\n",
    "\n",
    "# # # Multiply gap column by 100\n",
    "# # df0['gap'] = df0['gap'] * 100\n",
    "# # df1['gap'] = df1['gap'] * 100\n",
    "# # df2['gap'] = df2['gap'] * 100"
   ]
  },
  {
   "cell_type": "code",
   "execution_count": 7,
   "id": "7679ef79",
   "metadata": {},
   "outputs": [],
   "source": [
    "# ID=df[df['model']==0]['ID'].values\n",
    "# plt.figure(figsize=(15, 10))\n",
    "# plt.grid(True, which='major', linestyle='--', color='gray', alpha=0.5)\n",
    "# # sns.lineplot(\n",
    "# #     x=df[df['model']==0]['ID'],\n",
    "# #     y=df[df['model']==0]['gap'],\n",
    "# #     color='tab:blue',\n",
    "# #     label='Model0'\n",
    "# # )\n",
    "# # sns.lineplot(\n",
    "# #     x=df[df['model']==1]['ID'],\n",
    "# #     y=df[df['model']==1]['gap'],\n",
    "# #     color='tab:orange',\n",
    "# #     label='Model1'\n",
    "# # )\n",
    "# # sns.lineplot(\n",
    "# #     x=df[df['model']==2]['ID'],\n",
    "# #     y=df[df['model']==2]['gap'],\n",
    "# #     color='tab:green',\n",
    "# #     label='Model2'\n",
    "# # )\n",
    "# # sns.lineplot(\n",
    "# #     data=df,\n",
    "# #     x='ID',\n",
    "# #     y='gap',\n",
    "# #     hue='model',\n",
    "# #     style='model',\n",
    "# #     markers=True,\n",
    "# #     markersize=10,\n",
    "# #     palette='tab10',\n",
    "# #     alpha=0.7\n",
    "# # )\n",
    "# sns.scatterplot(\n",
    "#     data=df,\n",
    "#     x='ID',\n",
    "#     y='gap',\n",
    "#     hue='model',\n",
    "#     style='model',\n",
    "#     markers=True,\n",
    "#     s=100,\n",
    "#     palette='tab10',\n",
    "#     alpha=0.75\n",
    "# )\n",
    "# plt.ylim(0,2.1)\n",
    "# # plt.ylim(0,0.1)\n",
    "# # plt.yscale('log')\n",
    "# plt.xticks(ID)\n",
    "# plt.legend()\n",
    "# plt.show()"
   ]
  },
  {
   "cell_type": "code",
   "execution_count": 4,
   "id": "9e2e664d",
   "metadata": {},
   "outputs": [
    {
     "data": {
      "application/vnd.plotly.v1+json": {
       "config": {
        "plotlyServerURL": "https://plot.ly"
       },
       "data": [
        {
         "customdata": [
          [
           0,
           10,
           10,
           10,
           3,
           "0.21"
          ],
          [
           0,
           10,
           10,
           50,
           3,
           "2.43"
          ],
          [
           0,
           10,
           10,
           100,
           1822,
           "109.72"
          ],
          [
           0,
           10,
           40,
           10,
           68355,
           "300.01"
          ],
          [
           0,
           10,
           40,
           50,
           12006,
           "300.01"
          ],
          [
           0,
           10,
           40,
           100,
           1197,
           "300.00"
          ],
          [
           0,
           10,
           80,
           10,
           18290,
           "300.01"
          ],
          [
           0,
           10,
           80,
           50,
           1709,
           "300.00"
          ],
          [
           0,
           10,
           80,
           100,
           849,
           "300.01"
          ],
          [
           0,
           20,
           10,
           10,
           3,
           "0.94"
          ],
          [
           0,
           20,
           10,
           50,
           3,
           "8.35"
          ],
          [
           0,
           20,
           10,
           100,
           3,
           "27.67"
          ],
          [
           0,
           20,
           40,
           10,
           30462,
           "300.01"
          ],
          [
           0,
           20,
           40,
           50,
           3358,
           "300.01"
          ],
          [
           0,
           20,
           40,
           100,
           365,
           "300.20"
          ],
          [
           0,
           20,
           80,
           10,
           24697,
           "300.03"
          ],
          [
           0,
           20,
           80,
           50,
           1069,
           "300.01"
          ],
          [
           0,
           20,
           80,
           100,
           102,
           "300.12"
          ],
          [
           0,
           40,
           10,
           10,
           3,
           "3.27"
          ],
          [
           0,
           40,
           10,
           50,
           3,
           "50.14"
          ],
          [
           0,
           40,
           10,
           100,
           3,
           "152.50"
          ],
          [
           0,
           40,
           40,
           10,
           3,
           "5.98"
          ],
          [
           0,
           40,
           40,
           50,
           7,
           "86.91"
          ],
          [
           0,
           40,
           40,
           100,
           1,
           "300.43"
          ],
          [
           0,
           40,
           80,
           10,
           4242,
           "285.52"
          ],
          [
           0,
           40,
           80,
           50,
           187,
           "300.16"
          ],
          [
           0,
           40,
           80,
           100,
           1,
           "300.04"
          ]
         ],
         "hovertemplate": "Model: %{customdata[0]}<br>ID: %{x}<br>N: %{customdata[1]}<br>J: %{customdata[2]}<br>T: %{customdata[3]}<br>Gap: %{text}%<br>Nodes: %{customdata[4]}<br>Runtime: %{customdata[5]} s<extra></extra>",
         "name": "Model 0",
         "text": [
          "0.00",
          "0.00",
          "0.00",
          "24.48",
          "97.70",
          "inf",
          "142.65",
          "inf",
          "inf",
          "0.00",
          "0.00",
          "0.00",
          "23.37",
          "inf",
          "inf",
          "38.88",
          "inf",
          "inf",
          "0.00",
          "0.00",
          "0.00",
          "0.00",
          "0.00",
          "inf",
          "0.00",
          "29.04",
          "inf"
         ],
         "textposition": "none",
         "type": "bar",
         "x": {
          "bdata": "AQIDBAUGBwgJCgsMDQ4PEBESExQVFhcYGRob",
          "dtype": "i1"
         },
         "y": {
          "bdata": "AAAAAAAAAEAAAAAAAAAAQAAAAAAAAABA9rXKX9F7OEAKi7W/Dm1YQAAAAACAhC5BkFvNP73UYUAAAAAAgIQuQQAAAACAhC5BAAAAAAAAAEAAAAAAAAAAQAAAAAAAAABA5mIyzXxeN0AAAAAAgIQuQQAAAACAhC5BMzlbtDlxQ0AAAAAAgIQuQQAAAACAhC5BAAAAAAAAAEAAAAAAAAAAQAAAAAAAAABAAAAAAAAAAEAAAAAAAAAAQAAAAACAhC5BAAAAAAAAAEDtRdnIOAk9QAAAAACAhC5B",
          "dtype": "f8"
         }
        },
        {
         "customdata": [
          [
           1,
           10,
           10,
           10,
           3,
           "17.52"
          ],
          [
           1,
           10,
           10,
           50,
           3,
           "93.83"
          ],
          [
           1,
           10,
           10,
           100,
           1190,
           "202.37"
          ],
          [
           1,
           10,
           40,
           10,
           68858,
           "328.27"
          ],
          [
           1,
           10,
           40,
           50,
           11596,
           "407.98"
          ],
          [
           1,
           10,
           40,
           100,
           1162,
           "521.35"
          ],
          [
           1,
           10,
           80,
           10,
           10714,
           "330.71"
          ],
          [
           1,
           10,
           80,
           50,
           1778,
           "426.48"
          ],
          [
           1,
           10,
           80,
           100,
           1161,
           "554.00"
          ],
          [
           1,
           20,
           10,
           10,
           3,
           "105.65"
          ],
          [
           1,
           20,
           10,
           50,
           3,
           "309.90"
          ],
          [
           1,
           20,
           10,
           100,
           3,
           "331.18"
          ],
          [
           1,
           20,
           40,
           10,
           27769,
           "413.69"
          ],
          [
           1,
           20,
           40,
           50,
           2215,
           "600.17"
          ],
          [
           1,
           20,
           40,
           100,
           286,
           "600.67"
          ],
          [
           1,
           20,
           80,
           10,
           23143,
           "425.17"
          ],
          [
           1,
           20,
           80,
           50,
           723,
           "600.58"
          ],
          [
           1,
           20,
           80,
           100,
           47,
           "600.87"
          ],
          [
           1,
           40,
           10,
           10,
           3,
           "303.98"
          ],
          [
           1,
           40,
           10,
           50,
           3,
           "354.09"
          ],
          [
           1,
           40,
           10,
           100,
           3,
           "489.49"
          ],
          [
           1,
           40,
           40,
           10,
           2,
           "305.49"
          ],
          [
           1,
           40,
           40,
           50,
           7,
           "395.10"
          ],
          [
           1,
           40,
           40,
           100,
           1,
           "601.26"
          ],
          [
           1,
           40,
           80,
           10,
           1925,
           "429.39"
          ],
          [
           1,
           40,
           80,
           50,
           163,
           "600.36"
          ],
          [
           1,
           40,
           80,
           100,
           1,
           "601.37"
          ]
         ],
         "hovertemplate": "Model: %{customdata[0]}<br>ID: %{x}<br>N: %{customdata[1]}<br>J: %{customdata[2]}<br>T: %{customdata[3]}<br>Gap: %{text}%<br>Nodes: %{customdata[4]}<br>Runtime: %{customdata[5]} s<extra></extra>",
         "name": "Model 1",
         "text": [
          "0.00",
          "0.00",
          "0.00",
          "25.36",
          "90.78",
          "111.79",
          "162.16",
          "205.40",
          "422.40",
          "0.00",
          "0.00",
          "0.00",
          "32.44",
          "93.71",
          "184.80",
          "37.77",
          "53.17",
          "153.32",
          "0.00",
          "0.00",
          "0.00",
          "0.00",
          "0.00",
          "2651.18",
          "0.00",
          "29.11",
          "16190.33"
         ],
         "textposition": "none",
         "type": "bar",
         "x": {
          "bdata": "AQIDBAUGBwgJCgsMDQ4PEBESExQVFhcYGRob",
          "dtype": "i1"
         },
         "y": {
          "bdata": "AAAAAAAAAEAAAAAAAAAAQAAAAAAAAABAsUqlC6xcOUB/EFsF0bFWQBVjrbh48ltAQxDZfPtEZECgbQLduKxpQKKpr1lWZnpAAAAAAAAAAEAAAAAAAAAAQAAAAAAAAABA1XpxBag4QEDdp1wMbW1XQLU5+I92GWdAAlXKqeDiQkCTe18uY5VKQDjd3/RlKmNAAAAAAAAAAEAAAAAAAAAAQAAAAAAAAABAAAAAAAAAAEAAAAAAAAAAQCOW0LdetqRAAAAAAAAAAEDTlZ+1Uhs9QPy+7Jgqn89A",
          "dtype": "f8"
         }
        },
        {
         "customdata": [
          [
           2,
           10,
           10,
           10,
           3,
           "17.54"
          ],
          [
           2,
           10,
           10,
           50,
           3,
           "93.72"
          ],
          [
           2,
           10,
           10,
           100,
           1767,
           "253.75"
          ],
          [
           2,
           10,
           40,
           10,
           55111,
           "328.27"
          ],
          [
           2,
           10,
           40,
           50,
           5706,
           "407.98"
          ],
          [
           2,
           10,
           40,
           100,
           552,
           "521.38"
          ],
          [
           2,
           10,
           80,
           10,
           16325,
           "330.71"
          ],
          [
           2,
           10,
           80,
           50,
           1235,
           "426.50"
          ],
          [
           2,
           10,
           80,
           100,
           423,
           "554.04"
          ],
          [
           2,
           20,
           10,
           10,
           3,
           "105.58"
          ],
          [
           2,
           20,
           10,
           50,
           3,
           "308.56"
          ],
          [
           2,
           20,
           10,
           100,
           3,
           "328.79"
          ],
          [
           2,
           20,
           40,
           10,
           27494,
           "413.69"
          ],
          [
           2,
           20,
           40,
           50,
           2154,
           "600.13"
          ],
          [
           2,
           20,
           40,
           100,
           374,
           "600.67"
          ],
          [
           2,
           20,
           80,
           10,
           21153,
           "425.17"
          ],
          [
           2,
           20,
           80,
           50,
           1098,
           "600.57"
          ],
          [
           2,
           20,
           80,
           100,
           17,
           "600.76"
          ],
          [
           2,
           40,
           10,
           10,
           3,
           "303.56"
          ],
          [
           2,
           40,
           10,
           50,
           3,
           "345.75"
          ],
          [
           2,
           40,
           10,
           100,
           3,
           "459.02"
          ],
          [
           2,
           40,
           40,
           10,
           2,
           "305.43"
          ],
          [
           2,
           40,
           40,
           50,
           3,
           "399.58"
          ],
          [
           2,
           40,
           40,
           100,
           1,
           "601.38"
          ],
          [
           2,
           40,
           80,
           10,
           1521,
           "402.40"
          ],
          [
           2,
           40,
           80,
           50,
           223,
           "600.43"
          ],
          [
           2,
           40,
           80,
           100,
           1,
           "601.61"
          ]
         ],
         "hovertemplate": "Model: %{customdata[0]}<br>ID: %{x}<br>N: %{customdata[1]}<br>J: %{customdata[2]}<br>T: %{customdata[3]}<br>Gap: %{text}%<br>Nodes: %{customdata[4]}<br>Runtime: %{customdata[5]} s<extra></extra>",
         "name": "Model 2",
         "text": [
          "0.00",
          "0.00",
          "0.00",
          "26.11",
          "84.09",
          "114.47",
          "147.69",
          "207.40",
          "539.45",
          "0.00",
          "0.00",
          "0.00",
          "35.75",
          "93.62",
          "185.33",
          "34.51",
          "93.85",
          "159.55",
          "0.00",
          "0.00",
          "0.00",
          "0.00",
          "0.00",
          "2652.31",
          "0.00",
          "30.70",
          "16190.33"
         ],
         "textposition": "none",
         "type": "bar",
         "x": {
          "bdata": "AQIDBAUGBwgJCgsMDQ4PEBESExQVFhcYGRob",
          "dtype": "i1"
         },
         "y": {
          "bdata": "AAAAAAAAAEAAAAAAAAAAQAAAAAAAAABAR0hovY4bOkAk3LET4QVVQEo49VcinlxAnqawaAd2YkBDivOpvOxpQE0ePpGT24BAAAAAAAAAAEAAAAAAAAAAQAAAAAAAAABAMygUpTzgQUDABluwXWdXQOnTDRR4KmdAUq1G66hAQUAzatU9XnZXQEYdzA+d8WNAAAAAAAAAAEAAAAAAAAAAQAAAAAAAAABAAAAAAAAAAEAAAAAAAAAAQJiwpuaguKRAAAAAAAAAAEBINs6SSbI+QPy+7Jgqn89A",
          "dtype": "f8"
         }
        }
       ],
       "layout": {
        "autosize": true,
        "barmode": "group",
        "legend": {
         "bgcolor": "rgba(255, 255, 255, 0.5)",
         "x": 0.01,
         "xanchor": "left",
         "y": 0.99,
         "yanchor": "top"
        },
        "margin": {
         "b": 10,
         "l": 10,
         "r": 10,
         "t": 10
        },
        "template": {
         "data": {
          "bar": [
           {
            "error_x": {
             "color": "#2a3f5f"
            },
            "error_y": {
             "color": "#2a3f5f"
            },
            "marker": {
             "line": {
              "color": "#E5ECF6",
              "width": 0.5
             },
             "pattern": {
              "fillmode": "overlay",
              "size": 10,
              "solidity": 0.2
             }
            },
            "type": "bar"
           }
          ],
          "barpolar": [
           {
            "marker": {
             "line": {
              "color": "#E5ECF6",
              "width": 0.5
             },
             "pattern": {
              "fillmode": "overlay",
              "size": 10,
              "solidity": 0.2
             }
            },
            "type": "barpolar"
           }
          ],
          "carpet": [
           {
            "aaxis": {
             "endlinecolor": "#2a3f5f",
             "gridcolor": "white",
             "linecolor": "white",
             "minorgridcolor": "white",
             "startlinecolor": "#2a3f5f"
            },
            "baxis": {
             "endlinecolor": "#2a3f5f",
             "gridcolor": "white",
             "linecolor": "white",
             "minorgridcolor": "white",
             "startlinecolor": "#2a3f5f"
            },
            "type": "carpet"
           }
          ],
          "choropleth": [
           {
            "colorbar": {
             "outlinewidth": 0,
             "ticks": ""
            },
            "type": "choropleth"
           }
          ],
          "contour": [
           {
            "colorbar": {
             "outlinewidth": 0,
             "ticks": ""
            },
            "colorscale": [
             [
              0,
              "#0d0887"
             ],
             [
              0.1111111111111111,
              "#46039f"
             ],
             [
              0.2222222222222222,
              "#7201a8"
             ],
             [
              0.3333333333333333,
              "#9c179e"
             ],
             [
              0.4444444444444444,
              "#bd3786"
             ],
             [
              0.5555555555555556,
              "#d8576b"
             ],
             [
              0.6666666666666666,
              "#ed7953"
             ],
             [
              0.7777777777777778,
              "#fb9f3a"
             ],
             [
              0.8888888888888888,
              "#fdca26"
             ],
             [
              1,
              "#f0f921"
             ]
            ],
            "type": "contour"
           }
          ],
          "contourcarpet": [
           {
            "colorbar": {
             "outlinewidth": 0,
             "ticks": ""
            },
            "type": "contourcarpet"
           }
          ],
          "heatmap": [
           {
            "colorbar": {
             "outlinewidth": 0,
             "ticks": ""
            },
            "colorscale": [
             [
              0,
              "#0d0887"
             ],
             [
              0.1111111111111111,
              "#46039f"
             ],
             [
              0.2222222222222222,
              "#7201a8"
             ],
             [
              0.3333333333333333,
              "#9c179e"
             ],
             [
              0.4444444444444444,
              "#bd3786"
             ],
             [
              0.5555555555555556,
              "#d8576b"
             ],
             [
              0.6666666666666666,
              "#ed7953"
             ],
             [
              0.7777777777777778,
              "#fb9f3a"
             ],
             [
              0.8888888888888888,
              "#fdca26"
             ],
             [
              1,
              "#f0f921"
             ]
            ],
            "type": "heatmap"
           }
          ],
          "histogram": [
           {
            "marker": {
             "pattern": {
              "fillmode": "overlay",
              "size": 10,
              "solidity": 0.2
             }
            },
            "type": "histogram"
           }
          ],
          "histogram2d": [
           {
            "colorbar": {
             "outlinewidth": 0,
             "ticks": ""
            },
            "colorscale": [
             [
              0,
              "#0d0887"
             ],
             [
              0.1111111111111111,
              "#46039f"
             ],
             [
              0.2222222222222222,
              "#7201a8"
             ],
             [
              0.3333333333333333,
              "#9c179e"
             ],
             [
              0.4444444444444444,
              "#bd3786"
             ],
             [
              0.5555555555555556,
              "#d8576b"
             ],
             [
              0.6666666666666666,
              "#ed7953"
             ],
             [
              0.7777777777777778,
              "#fb9f3a"
             ],
             [
              0.8888888888888888,
              "#fdca26"
             ],
             [
              1,
              "#f0f921"
             ]
            ],
            "type": "histogram2d"
           }
          ],
          "histogram2dcontour": [
           {
            "colorbar": {
             "outlinewidth": 0,
             "ticks": ""
            },
            "colorscale": [
             [
              0,
              "#0d0887"
             ],
             [
              0.1111111111111111,
              "#46039f"
             ],
             [
              0.2222222222222222,
              "#7201a8"
             ],
             [
              0.3333333333333333,
              "#9c179e"
             ],
             [
              0.4444444444444444,
              "#bd3786"
             ],
             [
              0.5555555555555556,
              "#d8576b"
             ],
             [
              0.6666666666666666,
              "#ed7953"
             ],
             [
              0.7777777777777778,
              "#fb9f3a"
             ],
             [
              0.8888888888888888,
              "#fdca26"
             ],
             [
              1,
              "#f0f921"
             ]
            ],
            "type": "histogram2dcontour"
           }
          ],
          "mesh3d": [
           {
            "colorbar": {
             "outlinewidth": 0,
             "ticks": ""
            },
            "type": "mesh3d"
           }
          ],
          "parcoords": [
           {
            "line": {
             "colorbar": {
              "outlinewidth": 0,
              "ticks": ""
             }
            },
            "type": "parcoords"
           }
          ],
          "pie": [
           {
            "automargin": true,
            "type": "pie"
           }
          ],
          "scatter": [
           {
            "fillpattern": {
             "fillmode": "overlay",
             "size": 10,
             "solidity": 0.2
            },
            "type": "scatter"
           }
          ],
          "scatter3d": [
           {
            "line": {
             "colorbar": {
              "outlinewidth": 0,
              "ticks": ""
             }
            },
            "marker": {
             "colorbar": {
              "outlinewidth": 0,
              "ticks": ""
             }
            },
            "type": "scatter3d"
           }
          ],
          "scattercarpet": [
           {
            "marker": {
             "colorbar": {
              "outlinewidth": 0,
              "ticks": ""
             }
            },
            "type": "scattercarpet"
           }
          ],
          "scattergeo": [
           {
            "marker": {
             "colorbar": {
              "outlinewidth": 0,
              "ticks": ""
             }
            },
            "type": "scattergeo"
           }
          ],
          "scattergl": [
           {
            "marker": {
             "colorbar": {
              "outlinewidth": 0,
              "ticks": ""
             }
            },
            "type": "scattergl"
           }
          ],
          "scattermap": [
           {
            "marker": {
             "colorbar": {
              "outlinewidth": 0,
              "ticks": ""
             }
            },
            "type": "scattermap"
           }
          ],
          "scattermapbox": [
           {
            "marker": {
             "colorbar": {
              "outlinewidth": 0,
              "ticks": ""
             }
            },
            "type": "scattermapbox"
           }
          ],
          "scatterpolar": [
           {
            "marker": {
             "colorbar": {
              "outlinewidth": 0,
              "ticks": ""
             }
            },
            "type": "scatterpolar"
           }
          ],
          "scatterpolargl": [
           {
            "marker": {
             "colorbar": {
              "outlinewidth": 0,
              "ticks": ""
             }
            },
            "type": "scatterpolargl"
           }
          ],
          "scatterternary": [
           {
            "marker": {
             "colorbar": {
              "outlinewidth": 0,
              "ticks": ""
             }
            },
            "type": "scatterternary"
           }
          ],
          "surface": [
           {
            "colorbar": {
             "outlinewidth": 0,
             "ticks": ""
            },
            "colorscale": [
             [
              0,
              "#0d0887"
             ],
             [
              0.1111111111111111,
              "#46039f"
             ],
             [
              0.2222222222222222,
              "#7201a8"
             ],
             [
              0.3333333333333333,
              "#9c179e"
             ],
             [
              0.4444444444444444,
              "#bd3786"
             ],
             [
              0.5555555555555556,
              "#d8576b"
             ],
             [
              0.6666666666666666,
              "#ed7953"
             ],
             [
              0.7777777777777778,
              "#fb9f3a"
             ],
             [
              0.8888888888888888,
              "#fdca26"
             ],
             [
              1,
              "#f0f921"
             ]
            ],
            "type": "surface"
           }
          ],
          "table": [
           {
            "cells": {
             "fill": {
              "color": "#EBF0F8"
             },
             "line": {
              "color": "white"
             }
            },
            "header": {
             "fill": {
              "color": "#C8D4E3"
             },
             "line": {
              "color": "white"
             }
            },
            "type": "table"
           }
          ]
         },
         "layout": {
          "annotationdefaults": {
           "arrowcolor": "#2a3f5f",
           "arrowhead": 0,
           "arrowwidth": 1
          },
          "autotypenumbers": "strict",
          "coloraxis": {
           "colorbar": {
            "outlinewidth": 0,
            "ticks": ""
           }
          },
          "colorscale": {
           "diverging": [
            [
             0,
             "#8e0152"
            ],
            [
             0.1,
             "#c51b7d"
            ],
            [
             0.2,
             "#de77ae"
            ],
            [
             0.3,
             "#f1b6da"
            ],
            [
             0.4,
             "#fde0ef"
            ],
            [
             0.5,
             "#f7f7f7"
            ],
            [
             0.6,
             "#e6f5d0"
            ],
            [
             0.7,
             "#b8e186"
            ],
            [
             0.8,
             "#7fbc41"
            ],
            [
             0.9,
             "#4d9221"
            ],
            [
             1,
             "#276419"
            ]
           ],
           "sequential": [
            [
             0,
             "#0d0887"
            ],
            [
             0.1111111111111111,
             "#46039f"
            ],
            [
             0.2222222222222222,
             "#7201a8"
            ],
            [
             0.3333333333333333,
             "#9c179e"
            ],
            [
             0.4444444444444444,
             "#bd3786"
            ],
            [
             0.5555555555555556,
             "#d8576b"
            ],
            [
             0.6666666666666666,
             "#ed7953"
            ],
            [
             0.7777777777777778,
             "#fb9f3a"
            ],
            [
             0.8888888888888888,
             "#fdca26"
            ],
            [
             1,
             "#f0f921"
            ]
           ],
           "sequentialminus": [
            [
             0,
             "#0d0887"
            ],
            [
             0.1111111111111111,
             "#46039f"
            ],
            [
             0.2222222222222222,
             "#7201a8"
            ],
            [
             0.3333333333333333,
             "#9c179e"
            ],
            [
             0.4444444444444444,
             "#bd3786"
            ],
            [
             0.5555555555555556,
             "#d8576b"
            ],
            [
             0.6666666666666666,
             "#ed7953"
            ],
            [
             0.7777777777777778,
             "#fb9f3a"
            ],
            [
             0.8888888888888888,
             "#fdca26"
            ],
            [
             1,
             "#f0f921"
            ]
           ]
          },
          "colorway": [
           "#636efa",
           "#EF553B",
           "#00cc96",
           "#ab63fa",
           "#FFA15A",
           "#19d3f3",
           "#FF6692",
           "#B6E880",
           "#FF97FF",
           "#FECB52"
          ],
          "font": {
           "color": "#2a3f5f"
          },
          "geo": {
           "bgcolor": "white",
           "lakecolor": "white",
           "landcolor": "#E5ECF6",
           "showlakes": true,
           "showland": true,
           "subunitcolor": "white"
          },
          "hoverlabel": {
           "align": "left"
          },
          "hovermode": "closest",
          "mapbox": {
           "style": "light"
          },
          "paper_bgcolor": "white",
          "plot_bgcolor": "#E5ECF6",
          "polar": {
           "angularaxis": {
            "gridcolor": "white",
            "linecolor": "white",
            "ticks": ""
           },
           "bgcolor": "#E5ECF6",
           "radialaxis": {
            "gridcolor": "white",
            "linecolor": "white",
            "ticks": ""
           }
          },
          "scene": {
           "xaxis": {
            "backgroundcolor": "#E5ECF6",
            "gridcolor": "white",
            "gridwidth": 2,
            "linecolor": "white",
            "showbackground": true,
            "ticks": "",
            "zerolinecolor": "white"
           },
           "yaxis": {
            "backgroundcolor": "#E5ECF6",
            "gridcolor": "white",
            "gridwidth": 2,
            "linecolor": "white",
            "showbackground": true,
            "ticks": "",
            "zerolinecolor": "white"
           },
           "zaxis": {
            "backgroundcolor": "#E5ECF6",
            "gridcolor": "white",
            "gridwidth": 2,
            "linecolor": "white",
            "showbackground": true,
            "ticks": "",
            "zerolinecolor": "white"
           }
          },
          "shapedefaults": {
           "line": {
            "color": "#2a3f5f"
           }
          },
          "ternary": {
           "aaxis": {
            "gridcolor": "white",
            "linecolor": "white",
            "ticks": ""
           },
           "baxis": {
            "gridcolor": "white",
            "linecolor": "white",
            "ticks": ""
           },
           "bgcolor": "#E5ECF6",
           "caxis": {
            "gridcolor": "white",
            "linecolor": "white",
            "ticks": ""
           }
          },
          "title": {
           "x": 0.05
          },
          "xaxis": {
           "automargin": true,
           "gridcolor": "white",
           "linecolor": "white",
           "ticks": "",
           "title": {
            "standoff": 15
           },
           "zerolinecolor": "white",
           "zerolinewidth": 2
          },
          "yaxis": {
           "automargin": true,
           "gridcolor": "white",
           "linecolor": "white",
           "ticks": "",
           "title": {
            "standoff": 15
           },
           "zerolinecolor": "white",
           "zerolinewidth": 2
          }
         }
        },
        "xaxis": {
         "tickmode": "array",
         "ticktext": [
          0,
          1,
          2,
          3,
          4,
          5,
          6,
          7,
          8,
          9,
          10,
          11,
          12,
          13,
          14,
          15,
          16,
          17,
          18,
          19,
          20,
          21,
          22,
          23,
          24,
          25,
          26,
          27
         ],
         "tickvals": [
          0,
          1,
          2,
          3,
          4,
          5,
          6,
          7,
          8,
          9,
          10,
          11,
          12,
          13,
          14,
          15,
          16,
          17,
          18,
          19,
          20,
          21,
          22,
          23,
          24,
          25,
          26,
          27
         ],
         "title": {
          "text": "Problem Instance (ID)"
         }
        },
        "yaxis": {
         "range": [
          -0.05,
          250
         ],
         "ticktext": [
          "0%",
          "10%",
          "20%",
          "30%",
          "40%",
          "50%",
          "60%",
          "70%",
          "80%",
          "90%",
          "100%",
          "110%",
          "120%",
          "130%",
          "140%",
          "150%",
          "160%",
          "170%",
          "180%",
          "190%",
          "200%",
          "210%",
          "220%",
          "230%",
          "240%",
          "250%"
         ],
         "tickvals": [
          0,
          10,
          20,
          30,
          40,
          50,
          60,
          70,
          80,
          90,
          100,
          110,
          120,
          130,
          140,
          150,
          160,
          170,
          180,
          190,
          200,
          210,
          220,
          230,
          240,
          250
         ],
         "title": {
          "text": "Gap"
         }
        }
       }
      }
     },
     "metadata": {},
     "output_type": "display_data"
    }
   ],
   "source": [
    "import plotly.graph_objects as go\n",
    "\n",
    "# Clean data\n",
    "max_gap = 250\n",
    "# gapcleaned_df0 = df0[df0['gap'] < max_gap]\n",
    "# gapcleaned_df1 = df1[df1['gap'] < max_gap]\n",
    "# gapcleaned_df2 = df2[df2['gap'] < max_gap]\n",
    "\n",
    "gapcleaned_df0 = df0\n",
    "gapcleaned_df1 = df1\n",
    "gapcleaned_df2 = df2\n",
    "# gapcleaned_df0['gap'] = gapcleaned_df0['gap'].apply(lambda x: min(x, max_gap))\n",
    "# gapcleaned_df1['gap'] = gapcleaned_df1['gap'].apply(lambda x: min(x, max_gap))\n",
    "# gapcleaned_df2['gap'] = gapcleaned_df2['gap'].apply(lambda x: min(x, max_gap))\n",
    "\n",
    "# Substitute values at infinity with large value: 1e6\n",
    "gapcleaned_df0['gap'] = gapcleaned_df0['gap'].replace([np.inf, -np.inf], 1e6)\n",
    "gapcleaned_df1['gap'] = gapcleaned_df1['gap'].replace([np.inf, -np.inf], 1e6)\n",
    "gapcleaned_df2['gap'] = gapcleaned_df2['gap'].replace([np.inf, -np.inf], 1e6)\n",
    "\n",
    "# Define a small offset value for visibility\n",
    "offset = 2  # Adjust this based on your data range\n",
    "\n",
    "# Function to add offset to zeros but keep original text\n",
    "def add_offset_to_zeros(values):\n",
    "    display_values = values.copy()  # For visual height\n",
    "    text_values = values.copy()     # For labels/text\n",
    "    display_values[display_values <= 0.05] = offset\n",
    "    return display_values, text_values\n",
    "\n",
    "# First, create a function to format the gap values\n",
    "def format_gap(x):\n",
    "    if abs(x - 1e6) < 1e-6:  # Check if it's very close to 1e6 (our infinity placeholder)\n",
    "        return \"inf\"\n",
    "    else:\n",
    "        return f'{x:.2f}'\n",
    "\n",
    "# Then use this function when creating the text values\n",
    "\n",
    "# Create bar plot with visible zeros\n",
    "hovertemplate_text='Model: %{customdata[0]}<br>ID: %{x}<br>N: %{customdata[1]}<br>J: %{customdata[2]}<br>T: %{customdata[3]}<br>Gap: %{text}%<br>Nodes: %{customdata[4]}<br>Runtime: %{customdata[5]} s<extra></extra>'\n",
    "fig = go.Figure(data=[\n",
    "    go.Bar(\n",
    "        name='Model 0', \n",
    "        x=gapcleaned_df0['ID'], \n",
    "        y=add_offset_to_zeros(gapcleaned_df0['gap'])[0],\n",
    "        # text=gapcleaned_df0['gap'].apply(lambda x: f'{x:.2f}'),  # Format text to 2 decimal places\n",
    "        text=gapcleaned_df0['gap'].apply(format_gap),  # Format text to 2 decimal places\n",
    "        # Create a 2D array with multiple columns\n",
    "        customdata=np.dstack((\n",
    "            gapcleaned_df0['model'], \n",
    "            gapcleaned_df0['N'], \n",
    "            gapcleaned_df0['J'], \n",
    "            gapcleaned_df0['T'], \n",
    "            gapcleaned_df0['nodes'], \n",
    "            gapcleaned_df0['total_time'].apply(lambda x: f'{x:.2f}')\n",
    "        ))[0],\n",
    "        textposition='none',\n",
    "        hovertemplate=hovertemplate_text\n",
    "    ),\n",
    "    go.Bar(\n",
    "        name='Model 1', \n",
    "        x=gapcleaned_df1['ID'], \n",
    "        y=add_offset_to_zeros(gapcleaned_df1['gap'])[0],\n",
    "        text=gapcleaned_df1['gap'].apply(format_gap),\n",
    "        customdata=np.dstack((\n",
    "            gapcleaned_df1['model'], \n",
    "            gapcleaned_df1['N'], \n",
    "            gapcleaned_df1['J'], \n",
    "            gapcleaned_df1['T'], \n",
    "            gapcleaned_df1['nodes'], \n",
    "            gapcleaned_df1['total_time'].apply(lambda x: f'{x:.2f}')\n",
    "        ))[0],\n",
    "        textposition='none',\n",
    "        hovertemplate=hovertemplate_text\n",
    "    ),\n",
    "    go.Bar(\n",
    "        name='Model 2', \n",
    "        x=gapcleaned_df2['ID'], \n",
    "        y=add_offset_to_zeros(gapcleaned_df2['gap'])[0],\n",
    "        text=gapcleaned_df2['gap'].apply(format_gap),\n",
    "        customdata=np.dstack((\n",
    "            gapcleaned_df2['model'], \n",
    "            gapcleaned_df2['N'], \n",
    "            gapcleaned_df2['J'], \n",
    "            gapcleaned_df2['T'], \n",
    "            gapcleaned_df2['nodes'], \n",
    "            gapcleaned_df2['total_time'].apply(lambda x: f'{x:.2f}')\n",
    "        ))[0],\n",
    "        textposition='none',\n",
    "        hovertemplate=hovertemplate_text\n",
    "    ),\n",
    "])\n",
    "\n",
    "# Add a subtle visual indication for zero values\n",
    "fig.update_layout(\n",
    "    autosize=True,   # let the container size drive the plot\n",
    "    margin=dict(l=10, r=10, t=10, b=10),    # width=1000,\n",
    "    # height=600,\n",
    "    barmode='group',\n",
    "    yaxis = dict(\n",
    "        range=[-0.05, max_gap],\n",
    "        title = 'Gap',\n",
    "        tickvals = list(range(0, max_gap + 1, 10)),\n",
    "        ticktext = [str(i) + '%' for i in range(0, max_gap + 1, 10)],\n",
    "    ),\n",
    "    xaxis = dict(\n",
    "        title = 'Problem Instance (ID)',\n",
    "        tickmode = 'array',\n",
    "        tickvals = list(range(0, 28)),\n",
    "        ticktext = list(range(0, 28)),\n",
    "    ),\n",
    "    legend=dict(\n",
    "        x=0.01,\n",
    "        y=0.99,\n",
    "        xanchor='left',\n",
    "        yanchor='top',\n",
    "        bgcolor='rgba(255, 255, 255, 0.5)'\n",
    "    )\n",
    ")\n",
    "\n",
    "fig.show()\n",
    "\n",
    "# # Save as HTML\n",
    "div_schedule = plot(\n",
    "    fig, include_plotlyjs=True, config={\"responsive\": True}, output_type=\"div\"\n",
    ")\n",
    "# write div snippet to file\n",
    "with open('../docs/images/results-gap.html', 'w') as f:\n",
    "    f.write(div_schedule)"
   ]
  },
  {
   "cell_type": "code",
   "execution_count": 7,
   "id": "d653a424",
   "metadata": {},
   "outputs": [
    {
     "data": {
      "application/vnd.plotly.v1+json": {
       "config": {
        "plotlyServerURL": "https://plot.ly"
       },
       "data": [
        {
         "customdata": [
          [
           0,
           10,
           10,
           10,
           3,
           "0.21"
          ],
          [
           0,
           10,
           10,
           50,
           3,
           "2.43"
          ],
          [
           0,
           10,
           10,
           100,
           1822,
           "109.72"
          ],
          [
           0,
           10,
           40,
           10,
           68355,
           "300.01"
          ],
          [
           0,
           10,
           40,
           50,
           12006,
           "300.01"
          ],
          [
           0,
           10,
           40,
           100,
           1197,
           "300.00"
          ],
          [
           0,
           10,
           80,
           10,
           18290,
           "300.01"
          ],
          [
           0,
           10,
           80,
           50,
           1709,
           "300.00"
          ],
          [
           0,
           10,
           80,
           100,
           849,
           "300.01"
          ],
          [
           0,
           20,
           10,
           10,
           3,
           "0.94"
          ],
          [
           0,
           20,
           10,
           50,
           3,
           "8.35"
          ],
          [
           0,
           20,
           10,
           100,
           3,
           "27.67"
          ],
          [
           0,
           20,
           40,
           10,
           30462,
           "300.01"
          ],
          [
           0,
           20,
           40,
           50,
           3358,
           "300.01"
          ],
          [
           0,
           20,
           40,
           100,
           365,
           "300.20"
          ],
          [
           0,
           20,
           80,
           10,
           24697,
           "300.03"
          ],
          [
           0,
           20,
           80,
           50,
           1069,
           "300.01"
          ],
          [
           0,
           20,
           80,
           100,
           102,
           "300.12"
          ],
          [
           0,
           40,
           10,
           10,
           3,
           "3.27"
          ],
          [
           0,
           40,
           10,
           50,
           3,
           "50.14"
          ],
          [
           0,
           40,
           10,
           100,
           3,
           "152.50"
          ],
          [
           0,
           40,
           40,
           10,
           3,
           "5.98"
          ],
          [
           0,
           40,
           40,
           50,
           7,
           "86.91"
          ],
          [
           0,
           40,
           40,
           100,
           1,
           "300.43"
          ],
          [
           0,
           40,
           80,
           10,
           4242,
           "285.52"
          ],
          [
           0,
           40,
           80,
           50,
           187,
           "300.16"
          ],
          [
           0,
           40,
           80,
           100,
           1,
           "300.04"
          ]
         ],
         "hovertemplate": "Model: %{customdata[0]}<br>ID: %{x}<br>N: %{customdata[1]}<br>J: %{customdata[2]}<br>T: %{customdata[3]}<br>Gap: %{text}%<br>Nodes: %{customdata[4]}<br>Runtime: %{customdata[5]} s<extra></extra>",
         "name": "Model 0",
         "text": [
          "0.00",
          "0.00",
          "0.00",
          "24.48",
          "97.70",
          "inf",
          "142.65",
          "inf",
          "inf",
          "0.00",
          "0.00",
          "0.00",
          "23.37",
          "inf",
          "inf",
          "38.88",
          "inf",
          "inf",
          "0.00",
          "0.00",
          "0.00",
          "0.00",
          "0.00",
          "inf",
          "0.00",
          "29.04",
          "inf"
         ],
         "textposition": "none",
         "type": "bar",
         "x": {
          "bdata": "AQIDBAUGBwgJCgsMDQ4PEBESExQVFhcYGRob",
          "dtype": "i1"
         },
         "y": {
          "bdata": "AAAAAAAACEAAAAAAAAAIQAAAAAAAeJxAAAAAADCw8EAAAAAAAHPHQAAAAAAAtJJAAAAAAIDc0UAAAAAAALSaQAAAAAAAiIpAAAAAAAAACEAAAAAAAAAIQAAAAAAAAAhAAAAAAIC/3UAAAAAAADyqQAAAAAAA0HZAAAAAAEAe2EAAAAAAALSQQAAAAAAAgFlAAAAAAAAACEAAAAAAAAAIQAAAAAAAAAhAAAAAAAAACEAAAAAAAAAcQAAAAAAAAPA/AAAAAACSsEAAAAAAAGBnQAAAAAAAAPA/",
          "dtype": "f8"
         }
        },
        {
         "customdata": [
          [
           1,
           10,
           10,
           10,
           3,
           "17.52"
          ],
          [
           1,
           10,
           10,
           50,
           3,
           "93.83"
          ],
          [
           1,
           10,
           10,
           100,
           1190,
           "202.37"
          ],
          [
           1,
           10,
           40,
           10,
           68858,
           "328.27"
          ],
          [
           1,
           10,
           40,
           50,
           11596,
           "407.98"
          ],
          [
           1,
           10,
           40,
           100,
           1162,
           "521.35"
          ],
          [
           1,
           10,
           80,
           10,
           10714,
           "330.71"
          ],
          [
           1,
           10,
           80,
           50,
           1778,
           "426.48"
          ],
          [
           1,
           10,
           80,
           100,
           1161,
           "554.00"
          ],
          [
           1,
           20,
           10,
           10,
           3,
           "105.65"
          ],
          [
           1,
           20,
           10,
           50,
           3,
           "309.90"
          ],
          [
           1,
           20,
           10,
           100,
           3,
           "331.18"
          ],
          [
           1,
           20,
           40,
           10,
           27769,
           "413.69"
          ],
          [
           1,
           20,
           40,
           50,
           2215,
           "600.17"
          ],
          [
           1,
           20,
           40,
           100,
           286,
           "600.67"
          ],
          [
           1,
           20,
           80,
           10,
           23143,
           "425.17"
          ],
          [
           1,
           20,
           80,
           50,
           723,
           "600.58"
          ],
          [
           1,
           20,
           80,
           100,
           47,
           "600.87"
          ],
          [
           1,
           40,
           10,
           10,
           3,
           "303.98"
          ],
          [
           1,
           40,
           10,
           50,
           3,
           "354.09"
          ],
          [
           1,
           40,
           10,
           100,
           3,
           "489.49"
          ],
          [
           1,
           40,
           40,
           10,
           2,
           "305.49"
          ],
          [
           1,
           40,
           40,
           50,
           7,
           "395.10"
          ],
          [
           1,
           40,
           40,
           100,
           1,
           "601.26"
          ],
          [
           1,
           40,
           80,
           10,
           1925,
           "429.39"
          ],
          [
           1,
           40,
           80,
           50,
           163,
           "600.36"
          ],
          [
           1,
           40,
           80,
           100,
           1,
           "601.37"
          ]
         ],
         "hovertemplate": "Model: %{customdata[0]}<br>ID: %{x}<br>N: %{customdata[1]}<br>J: %{customdata[2]}<br>T: %{customdata[3]}<br>Gap: %{text}%<br>Nodes: %{customdata[4]}<br>Runtime: %{customdata[5]} s<extra></extra>",
         "name": "Model 1",
         "text": [
          "0.00",
          "0.00",
          "0.00",
          "25.36",
          "90.78",
          "111.79",
          "162.16",
          "205.40",
          "422.40",
          "0.00",
          "0.00",
          "0.00",
          "32.44",
          "93.71",
          "184.80",
          "37.77",
          "53.17",
          "153.32",
          "0.00",
          "0.00",
          "0.00",
          "0.00",
          "0.00",
          "2651.18",
          "0.00",
          "29.11",
          "16190.33"
         ],
         "textposition": "none",
         "type": "bar",
         "x": {
          "bdata": "AQIDBAUGBwgJCgsMDQ4PEBESExQVFhcYGRob",
          "dtype": "i1"
         },
         "y": {
          "bdata": "AAAAAAAACEAAAAAAAAAIQAAAAAAAmJJAAAAAAKDP8EAAAAAAAKbGQAAAAAAAKJJAAAAAAADtxEAAAAAAAMibQAAAAAAAJJJAAAAAAAAACEAAAAAAAAAIQAAAAAAAAAhAAAAAAEAe20AAAAAAAE6hQAAAAAAA4HFAAAAAAMCZ1kAAAAAAAJiGQAAAAAAAgEdAAAAAAAAACEAAAAAAAAAIQAAAAAAAAAhAAAAAAAAAAEAAAAAAAAAcQAAAAAAAAPA/AAAAAAAUnkAAAAAAAGBkQAAAAAAAAPA/",
          "dtype": "f8"
         }
        },
        {
         "customdata": [
          [
           2,
           10,
           10,
           10,
           3,
           "17.54"
          ],
          [
           2,
           10,
           10,
           50,
           3,
           "93.72"
          ],
          [
           2,
           10,
           10,
           100,
           1767,
           "253.75"
          ],
          [
           2,
           10,
           40,
           10,
           55111,
           "328.27"
          ],
          [
           2,
           10,
           40,
           50,
           5706,
           "407.98"
          ],
          [
           2,
           10,
           40,
           100,
           552,
           "521.38"
          ],
          [
           2,
           10,
           80,
           10,
           16325,
           "330.71"
          ],
          [
           2,
           10,
           80,
           50,
           1235,
           "426.50"
          ],
          [
           2,
           10,
           80,
           100,
           423,
           "554.04"
          ],
          [
           2,
           20,
           10,
           10,
           3,
           "105.58"
          ],
          [
           2,
           20,
           10,
           50,
           3,
           "308.56"
          ],
          [
           2,
           20,
           10,
           100,
           3,
           "328.79"
          ],
          [
           2,
           20,
           40,
           10,
           27494,
           "413.69"
          ],
          [
           2,
           20,
           40,
           50,
           2154,
           "600.13"
          ],
          [
           2,
           20,
           40,
           100,
           374,
           "600.67"
          ],
          [
           2,
           20,
           80,
           10,
           21153,
           "425.17"
          ],
          [
           2,
           20,
           80,
           50,
           1098,
           "600.57"
          ],
          [
           2,
           20,
           80,
           100,
           17,
           "600.76"
          ],
          [
           2,
           40,
           10,
           10,
           3,
           "303.56"
          ],
          [
           2,
           40,
           10,
           50,
           3,
           "345.75"
          ],
          [
           2,
           40,
           10,
           100,
           3,
           "459.02"
          ],
          [
           2,
           40,
           40,
           10,
           2,
           "305.43"
          ],
          [
           2,
           40,
           40,
           50,
           3,
           "399.58"
          ],
          [
           2,
           40,
           40,
           100,
           1,
           "601.38"
          ],
          [
           2,
           40,
           80,
           10,
           1521,
           "402.40"
          ],
          [
           2,
           40,
           80,
           50,
           223,
           "600.43"
          ],
          [
           2,
           40,
           80,
           100,
           1,
           "601.61"
          ]
         ],
         "hovertemplate": "Model: %{customdata[0]}<br>ID: %{x}<br>N: %{customdata[1]}<br>J: %{customdata[2]}<br>T: %{customdata[3]}<br>Gap: %{text}%<br>Nodes: %{customdata[4]}<br>Runtime: %{customdata[5]} s<extra></extra>",
         "name": "Model 2",
         "text": [
          "0.00",
          "0.00",
          "0.00",
          "26.11",
          "84.09",
          "114.47",
          "147.69",
          "207.40",
          "539.45",
          "0.00",
          "0.00",
          "0.00",
          "35.75",
          "93.62",
          "185.33",
          "34.51",
          "93.85",
          "159.55",
          "0.00",
          "0.00",
          "0.00",
          "0.00",
          "0.00",
          "2652.31",
          "0.00",
          "30.70",
          "16190.33"
         ],
         "textposition": "none",
         "type": "bar",
         "x": {
          "bdata": "AQIDBAUGBwgJCgsMDQ4PEBESExQVFhcYGRob",
          "dtype": "i1"
         },
         "y": {
          "bdata": "AAAAAAAACEAAAAAAAAAIQAAAAAAAnJtAAAAAAODo6kAAAAAAAEq2QAAAAAAAQIFAAAAAAIDiz0AAAAAAAEyTQAAAAAAAcHpAAAAAAAAACEAAAAAAAAAIQAAAAAAAAAhAAAAAAIDZ2kAAAAAAANSgQAAAAAAAYHdAAAAAAECo1EAAAAAAACiRQAAAAAAAADFAAAAAAAAACEAAAAAAAAAIQAAAAAAAAAhAAAAAAAAAAEAAAAAAAAAIQAAAAAAAAPA/AAAAAADEl0AAAAAAAOBrQAAAAAAAAPA/",
          "dtype": "f8"
         }
        }
       ],
       "layout": {
        "autosize": true,
        "barmode": "group",
        "legend": {
         "bgcolor": "rgba(255, 255, 255, 0.5)",
         "x": 0.01,
         "xanchor": "left",
         "y": 0.99,
         "yanchor": "top"
        },
        "margin": {
         "b": 10,
         "l": 10,
         "r": 10,
         "t": 10
        },
        "template": {
         "data": {
          "bar": [
           {
            "error_x": {
             "color": "#2a3f5f"
            },
            "error_y": {
             "color": "#2a3f5f"
            },
            "marker": {
             "line": {
              "color": "#E5ECF6",
              "width": 0.5
             },
             "pattern": {
              "fillmode": "overlay",
              "size": 10,
              "solidity": 0.2
             }
            },
            "type": "bar"
           }
          ],
          "barpolar": [
           {
            "marker": {
             "line": {
              "color": "#E5ECF6",
              "width": 0.5
             },
             "pattern": {
              "fillmode": "overlay",
              "size": 10,
              "solidity": 0.2
             }
            },
            "type": "barpolar"
           }
          ],
          "carpet": [
           {
            "aaxis": {
             "endlinecolor": "#2a3f5f",
             "gridcolor": "white",
             "linecolor": "white",
             "minorgridcolor": "white",
             "startlinecolor": "#2a3f5f"
            },
            "baxis": {
             "endlinecolor": "#2a3f5f",
             "gridcolor": "white",
             "linecolor": "white",
             "minorgridcolor": "white",
             "startlinecolor": "#2a3f5f"
            },
            "type": "carpet"
           }
          ],
          "choropleth": [
           {
            "colorbar": {
             "outlinewidth": 0,
             "ticks": ""
            },
            "type": "choropleth"
           }
          ],
          "contour": [
           {
            "colorbar": {
             "outlinewidth": 0,
             "ticks": ""
            },
            "colorscale": [
             [
              0,
              "#0d0887"
             ],
             [
              0.1111111111111111,
              "#46039f"
             ],
             [
              0.2222222222222222,
              "#7201a8"
             ],
             [
              0.3333333333333333,
              "#9c179e"
             ],
             [
              0.4444444444444444,
              "#bd3786"
             ],
             [
              0.5555555555555556,
              "#d8576b"
             ],
             [
              0.6666666666666666,
              "#ed7953"
             ],
             [
              0.7777777777777778,
              "#fb9f3a"
             ],
             [
              0.8888888888888888,
              "#fdca26"
             ],
             [
              1,
              "#f0f921"
             ]
            ],
            "type": "contour"
           }
          ],
          "contourcarpet": [
           {
            "colorbar": {
             "outlinewidth": 0,
             "ticks": ""
            },
            "type": "contourcarpet"
           }
          ],
          "heatmap": [
           {
            "colorbar": {
             "outlinewidth": 0,
             "ticks": ""
            },
            "colorscale": [
             [
              0,
              "#0d0887"
             ],
             [
              0.1111111111111111,
              "#46039f"
             ],
             [
              0.2222222222222222,
              "#7201a8"
             ],
             [
              0.3333333333333333,
              "#9c179e"
             ],
             [
              0.4444444444444444,
              "#bd3786"
             ],
             [
              0.5555555555555556,
              "#d8576b"
             ],
             [
              0.6666666666666666,
              "#ed7953"
             ],
             [
              0.7777777777777778,
              "#fb9f3a"
             ],
             [
              0.8888888888888888,
              "#fdca26"
             ],
             [
              1,
              "#f0f921"
             ]
            ],
            "type": "heatmap"
           }
          ],
          "histogram": [
           {
            "marker": {
             "pattern": {
              "fillmode": "overlay",
              "size": 10,
              "solidity": 0.2
             }
            },
            "type": "histogram"
           }
          ],
          "histogram2d": [
           {
            "colorbar": {
             "outlinewidth": 0,
             "ticks": ""
            },
            "colorscale": [
             [
              0,
              "#0d0887"
             ],
             [
              0.1111111111111111,
              "#46039f"
             ],
             [
              0.2222222222222222,
              "#7201a8"
             ],
             [
              0.3333333333333333,
              "#9c179e"
             ],
             [
              0.4444444444444444,
              "#bd3786"
             ],
             [
              0.5555555555555556,
              "#d8576b"
             ],
             [
              0.6666666666666666,
              "#ed7953"
             ],
             [
              0.7777777777777778,
              "#fb9f3a"
             ],
             [
              0.8888888888888888,
              "#fdca26"
             ],
             [
              1,
              "#f0f921"
             ]
            ],
            "type": "histogram2d"
           }
          ],
          "histogram2dcontour": [
           {
            "colorbar": {
             "outlinewidth": 0,
             "ticks": ""
            },
            "colorscale": [
             [
              0,
              "#0d0887"
             ],
             [
              0.1111111111111111,
              "#46039f"
             ],
             [
              0.2222222222222222,
              "#7201a8"
             ],
             [
              0.3333333333333333,
              "#9c179e"
             ],
             [
              0.4444444444444444,
              "#bd3786"
             ],
             [
              0.5555555555555556,
              "#d8576b"
             ],
             [
              0.6666666666666666,
              "#ed7953"
             ],
             [
              0.7777777777777778,
              "#fb9f3a"
             ],
             [
              0.8888888888888888,
              "#fdca26"
             ],
             [
              1,
              "#f0f921"
             ]
            ],
            "type": "histogram2dcontour"
           }
          ],
          "mesh3d": [
           {
            "colorbar": {
             "outlinewidth": 0,
             "ticks": ""
            },
            "type": "mesh3d"
           }
          ],
          "parcoords": [
           {
            "line": {
             "colorbar": {
              "outlinewidth": 0,
              "ticks": ""
             }
            },
            "type": "parcoords"
           }
          ],
          "pie": [
           {
            "automargin": true,
            "type": "pie"
           }
          ],
          "scatter": [
           {
            "fillpattern": {
             "fillmode": "overlay",
             "size": 10,
             "solidity": 0.2
            },
            "type": "scatter"
           }
          ],
          "scatter3d": [
           {
            "line": {
             "colorbar": {
              "outlinewidth": 0,
              "ticks": ""
             }
            },
            "marker": {
             "colorbar": {
              "outlinewidth": 0,
              "ticks": ""
             }
            },
            "type": "scatter3d"
           }
          ],
          "scattercarpet": [
           {
            "marker": {
             "colorbar": {
              "outlinewidth": 0,
              "ticks": ""
             }
            },
            "type": "scattercarpet"
           }
          ],
          "scattergeo": [
           {
            "marker": {
             "colorbar": {
              "outlinewidth": 0,
              "ticks": ""
             }
            },
            "type": "scattergeo"
           }
          ],
          "scattergl": [
           {
            "marker": {
             "colorbar": {
              "outlinewidth": 0,
              "ticks": ""
             }
            },
            "type": "scattergl"
           }
          ],
          "scattermap": [
           {
            "marker": {
             "colorbar": {
              "outlinewidth": 0,
              "ticks": ""
             }
            },
            "type": "scattermap"
           }
          ],
          "scattermapbox": [
           {
            "marker": {
             "colorbar": {
              "outlinewidth": 0,
              "ticks": ""
             }
            },
            "type": "scattermapbox"
           }
          ],
          "scatterpolar": [
           {
            "marker": {
             "colorbar": {
              "outlinewidth": 0,
              "ticks": ""
             }
            },
            "type": "scatterpolar"
           }
          ],
          "scatterpolargl": [
           {
            "marker": {
             "colorbar": {
              "outlinewidth": 0,
              "ticks": ""
             }
            },
            "type": "scatterpolargl"
           }
          ],
          "scatterternary": [
           {
            "marker": {
             "colorbar": {
              "outlinewidth": 0,
              "ticks": ""
             }
            },
            "type": "scatterternary"
           }
          ],
          "surface": [
           {
            "colorbar": {
             "outlinewidth": 0,
             "ticks": ""
            },
            "colorscale": [
             [
              0,
              "#0d0887"
             ],
             [
              0.1111111111111111,
              "#46039f"
             ],
             [
              0.2222222222222222,
              "#7201a8"
             ],
             [
              0.3333333333333333,
              "#9c179e"
             ],
             [
              0.4444444444444444,
              "#bd3786"
             ],
             [
              0.5555555555555556,
              "#d8576b"
             ],
             [
              0.6666666666666666,
              "#ed7953"
             ],
             [
              0.7777777777777778,
              "#fb9f3a"
             ],
             [
              0.8888888888888888,
              "#fdca26"
             ],
             [
              1,
              "#f0f921"
             ]
            ],
            "type": "surface"
           }
          ],
          "table": [
           {
            "cells": {
             "fill": {
              "color": "#EBF0F8"
             },
             "line": {
              "color": "white"
             }
            },
            "header": {
             "fill": {
              "color": "#C8D4E3"
             },
             "line": {
              "color": "white"
             }
            },
            "type": "table"
           }
          ]
         },
         "layout": {
          "annotationdefaults": {
           "arrowcolor": "#2a3f5f",
           "arrowhead": 0,
           "arrowwidth": 1
          },
          "autotypenumbers": "strict",
          "coloraxis": {
           "colorbar": {
            "outlinewidth": 0,
            "ticks": ""
           }
          },
          "colorscale": {
           "diverging": [
            [
             0,
             "#8e0152"
            ],
            [
             0.1,
             "#c51b7d"
            ],
            [
             0.2,
             "#de77ae"
            ],
            [
             0.3,
             "#f1b6da"
            ],
            [
             0.4,
             "#fde0ef"
            ],
            [
             0.5,
             "#f7f7f7"
            ],
            [
             0.6,
             "#e6f5d0"
            ],
            [
             0.7,
             "#b8e186"
            ],
            [
             0.8,
             "#7fbc41"
            ],
            [
             0.9,
             "#4d9221"
            ],
            [
             1,
             "#276419"
            ]
           ],
           "sequential": [
            [
             0,
             "#0d0887"
            ],
            [
             0.1111111111111111,
             "#46039f"
            ],
            [
             0.2222222222222222,
             "#7201a8"
            ],
            [
             0.3333333333333333,
             "#9c179e"
            ],
            [
             0.4444444444444444,
             "#bd3786"
            ],
            [
             0.5555555555555556,
             "#d8576b"
            ],
            [
             0.6666666666666666,
             "#ed7953"
            ],
            [
             0.7777777777777778,
             "#fb9f3a"
            ],
            [
             0.8888888888888888,
             "#fdca26"
            ],
            [
             1,
             "#f0f921"
            ]
           ],
           "sequentialminus": [
            [
             0,
             "#0d0887"
            ],
            [
             0.1111111111111111,
             "#46039f"
            ],
            [
             0.2222222222222222,
             "#7201a8"
            ],
            [
             0.3333333333333333,
             "#9c179e"
            ],
            [
             0.4444444444444444,
             "#bd3786"
            ],
            [
             0.5555555555555556,
             "#d8576b"
            ],
            [
             0.6666666666666666,
             "#ed7953"
            ],
            [
             0.7777777777777778,
             "#fb9f3a"
            ],
            [
             0.8888888888888888,
             "#fdca26"
            ],
            [
             1,
             "#f0f921"
            ]
           ]
          },
          "colorway": [
           "#636efa",
           "#EF553B",
           "#00cc96",
           "#ab63fa",
           "#FFA15A",
           "#19d3f3",
           "#FF6692",
           "#B6E880",
           "#FF97FF",
           "#FECB52"
          ],
          "font": {
           "color": "#2a3f5f"
          },
          "geo": {
           "bgcolor": "white",
           "lakecolor": "white",
           "landcolor": "#E5ECF6",
           "showlakes": true,
           "showland": true,
           "subunitcolor": "white"
          },
          "hoverlabel": {
           "align": "left"
          },
          "hovermode": "closest",
          "mapbox": {
           "style": "light"
          },
          "paper_bgcolor": "white",
          "plot_bgcolor": "#E5ECF6",
          "polar": {
           "angularaxis": {
            "gridcolor": "white",
            "linecolor": "white",
            "ticks": ""
           },
           "bgcolor": "#E5ECF6",
           "radialaxis": {
            "gridcolor": "white",
            "linecolor": "white",
            "ticks": ""
           }
          },
          "scene": {
           "xaxis": {
            "backgroundcolor": "#E5ECF6",
            "gridcolor": "white",
            "gridwidth": 2,
            "linecolor": "white",
            "showbackground": true,
            "ticks": "",
            "zerolinecolor": "white"
           },
           "yaxis": {
            "backgroundcolor": "#E5ECF6",
            "gridcolor": "white",
            "gridwidth": 2,
            "linecolor": "white",
            "showbackground": true,
            "ticks": "",
            "zerolinecolor": "white"
           },
           "zaxis": {
            "backgroundcolor": "#E5ECF6",
            "gridcolor": "white",
            "gridwidth": 2,
            "linecolor": "white",
            "showbackground": true,
            "ticks": "",
            "zerolinecolor": "white"
           }
          },
          "shapedefaults": {
           "line": {
            "color": "#2a3f5f"
           }
          },
          "ternary": {
           "aaxis": {
            "gridcolor": "white",
            "linecolor": "white",
            "ticks": ""
           },
           "baxis": {
            "gridcolor": "white",
            "linecolor": "white",
            "ticks": ""
           },
           "bgcolor": "#E5ECF6",
           "caxis": {
            "gridcolor": "white",
            "linecolor": "white",
            "ticks": ""
           }
          },
          "title": {
           "x": 0.05
          },
          "xaxis": {
           "automargin": true,
           "gridcolor": "white",
           "linecolor": "white",
           "ticks": "",
           "title": {
            "standoff": 15
           },
           "zerolinecolor": "white",
           "zerolinewidth": 2
          },
          "yaxis": {
           "automargin": true,
           "gridcolor": "white",
           "linecolor": "white",
           "ticks": "",
           "title": {
            "standoff": 15
           },
           "zerolinecolor": "white",
           "zerolinewidth": 2
          }
         }
        },
        "xaxis": {
         "tickmode": "array",
         "ticktext": [
          0,
          1,
          2,
          3,
          4,
          5,
          6,
          7,
          8,
          9,
          10,
          11,
          12,
          13,
          14,
          15,
          16,
          17,
          18,
          19,
          20,
          21,
          22,
          23,
          24,
          25,
          26,
          27
         ],
         "tickvals": [
          0,
          1,
          2,
          3,
          4,
          5,
          6,
          7,
          8,
          9,
          10,
          11,
          12,
          13,
          14,
          15,
          16,
          17,
          18,
          19,
          20,
          21,
          22,
          23,
          24,
          25,
          26,
          27
         ],
         "title": {
          "text": "Problem Instance (ID)"
         }
        },
        "yaxis": {
         "title": {
          "text": "Nodes (log-scale)"
         },
         "type": "log"
        }
       }
      }
     },
     "metadata": {},
     "output_type": "display_data"
    }
   ],
   "source": [
    "import plotly.graph_objects as go\n",
    "\n",
    "# Create bar plot with visible zeros\n",
    "# hovertemplate_text='Model: %{customdata[0]}<br>ID: %{x}<br>Gap: %{text}%<br>Nodes: %{customdata[1]}<br>Runtime: %{customdata[2]} s<extra></extra>'\n",
    "hovertemplate_text='Model: %{customdata[0]}<br>ID: %{x}<br>N: %{customdata[1]}<br>J: %{customdata[2]}<br>T: %{customdata[3]}<br>Gap: %{text}%<br>Nodes: %{customdata[4]}<br>Runtime: %{customdata[5]} s<extra></extra>'\n",
    "fig = go.Figure(data=[\n",
    "    go.Bar(\n",
    "        name='Model 0', \n",
    "        x=df0['ID'], \n",
    "        y=df0['nodes'],\n",
    "        text=df0['gap'].apply(format_gap),  # Format text to 2 decimal places\n",
    "        # Create a 2D array with multiple columns\n",
    "        customdata=np.dstack((\n",
    "            df0['model'], \n",
    "            df0['N'], \n",
    "            df0['J'], \n",
    "            df0['T'], \n",
    "            df0['nodes'], \n",
    "            df0['total_time'].apply(format_gap)\n",
    "        ))[0],\n",
    "        textposition='none',\n",
    "        hovertemplate=hovertemplate_text\n",
    "    ),\n",
    "    go.Bar(\n",
    "        name='Model 1', \n",
    "        x=df1['ID'], \n",
    "        y=df1['nodes'],\n",
    "        text=df1['gap'].apply(format_gap),\n",
    "        customdata=np.dstack((\n",
    "            df1['model'], \n",
    "            df1['N'], \n",
    "            df1['J'], \n",
    "            df1['T'], \n",
    "            df1['nodes'], \n",
    "            df1['total_time'].apply(format_gap)\n",
    "        ))[0],\n",
    "        textposition='none',\n",
    "        hovertemplate=hovertemplate_text\n",
    "    ),\n",
    "    go.Bar(\n",
    "        name='Model 2', \n",
    "        x=df2['ID'], \n",
    "        y=df2['nodes'],\n",
    "        text=df2['gap'].apply(format_gap),\n",
    "        customdata=np.dstack((\n",
    "            df2['model'], \n",
    "            df2['N'], \n",
    "            df2['J'], \n",
    "            df2['T'], \n",
    "            df2['nodes'], \n",
    "            df2['total_time'].apply(format_gap)\n",
    "        ))[0],\n",
    "        textposition='none',\n",
    "        hovertemplate=hovertemplate_text\n",
    "    ),\n",
    "])\n",
    "\n",
    "# Add a subtle visual indication for zero values\n",
    "fig.update_layout(\n",
    "    autosize=True,   # let the container size drive the plot\n",
    "    margin=dict(l=10, r=10, t=10, b=10),    # width=1000,\n",
    "    # width=1000,\n",
    "    # height=600,\n",
    "    barmode='group',\n",
    "    yaxis = dict(\n",
    "        title = 'Nodes (log-scale)',\n",
    "        type='log',\n",
    "    ),\n",
    "    xaxis = dict(\n",
    "        title = 'Problem Instance (ID)',\n",
    "        tickmode = 'array',\n",
    "        tickvals = list(range(0, 28)),\n",
    "        ticktext = list(range(0, 28)),\n",
    "    ),\n",
    "    legend=dict(\n",
    "        x=0.01,\n",
    "        y=0.99,\n",
    "        xanchor='left',\n",
    "        yanchor='top',\n",
    "        bgcolor='rgba(255, 255, 255, 0.5)'\n",
    "    )\n",
    ")\n",
    "\n",
    "fig.show()\n",
    "\n",
    "# Save as HTML\n",
    "div_schedule = plot(\n",
    "    fig, include_plotlyjs=True, config={\"responsive\": True}, output_type=\"div\"\n",
    ")\n",
    "# write div snippet to file\n",
    "with open('../docs/images/results-nodes.html', 'w') as f:\n",
    "    f.write(div_schedule)\n"
   ]
  },
  {
   "cell_type": "code",
   "execution_count": 12,
   "id": "c8403b29",
   "metadata": {},
   "outputs": [],
   "source": [
    "# import plotly.graph_objects as go\n",
    "\n",
    "# # Create bar plot with visible zeros\n",
    "# hovertemplate_text='Model: %{customdata[0]}<br>ID: %{x}<br>Gap: %{text}%<br>Nodes: %{customdata[1]}<br>Runtime: %{customdata[2]} s<extra></extra>'\n",
    "# fig = go.Figure(data=[\n",
    "#     go.Bar(\n",
    "#         name='Model 0', \n",
    "#         x=df0['ID'], \n",
    "#         y=df0['runtime'],\n",
    "#         text=df0['gap'].apply(lambda x: f'{x:.2f}'),  # Format text to 2 decimal places\n",
    "#         # Create a 2D array with multiple columns\n",
    "#         customdata=np.dstack((df0['model'], df0['nodes'], df0['runtime'].apply(lambda x: f'{x:.2f}')))[0],\n",
    "#         textposition='none',\n",
    "#         hovertemplate=hovertemplate_text\n",
    "#     ),\n",
    "#     go.Bar(\n",
    "#         name='Model 1', \n",
    "#         x=df1['ID'], \n",
    "#         y=df1['runtime'],\n",
    "#         text=df1['gap'].apply(lambda x: f'{x:.2f}'),\n",
    "#         customdata=np.dstack((df1['model'], df1['nodes'], df1['runtime'].apply(lambda x: f'{x:.2f}')))[0],\n",
    "#         textposition='none',\n",
    "#         hovertemplate=hovertemplate_text\n",
    "#     ),\n",
    "#     go.Bar(\n",
    "#         name='Model 2', \n",
    "#         x=df2['ID'], \n",
    "#         y=df2['runtime'],\n",
    "#         text=df2['gap'].apply(lambda x: f'{x:.2f}'),\n",
    "#         customdata=np.dstack((df2['model'], df2['nodes'], df2['runtime'].apply(lambda x: f'{x:.2f}')))[0],\n",
    "#         textposition='none',\n",
    "#         hovertemplate=hovertemplate_text\n",
    "#     ),\n",
    "# ])\n",
    "\n",
    "# # Add a subtle visual indication for zero values\n",
    "# fig.update_layout(\n",
    "#     autosize=True,   # let the container size drive the plot\n",
    "#     margin=dict(l=10, r=10, t=10, b=10),    # width=1000,\n",
    "#     # width=1000,\n",
    "#     # height=600,\n",
    "#     barmode='group',\n",
    "#     yaxis = dict(\n",
    "#         title = 'Runtime (s)',\n",
    "#     ),\n",
    "#     xaxis = dict(\n",
    "#         title = 'Problem Istance (ID)',\n",
    "#         tickmode = 'array',\n",
    "#         tickvals = list(range(0, 28)),\n",
    "#         ticktext = list(range(0, 28)),\n",
    "#     ),\n",
    "#     legend=dict(\n",
    "#         x=0.01,\n",
    "#         y=0.99,\n",
    "#         xanchor='left',\n",
    "#         yanchor='top',\n",
    "#         bgcolor='rgba(255, 255, 255, 0.5)'\n",
    "#     )\n",
    "# )\n",
    "\n",
    "# fig.show()\n",
    "\n",
    "# # # # Save as HTML\n",
    "# # div_schedule = plot(\n",
    "# #     fig, include_plotlyjs=True, config={\"responsive\": True}, output_type=\"div\"\n",
    "# # )\n",
    "# # # write div snippet to file\n",
    "# # with open('../docs/images/results-runtime.html', 'w') as f:\n",
    "# #     f.write(div_schedule)"
   ]
  },
  {
   "cell_type": "code",
   "execution_count": 15,
   "id": "b43c3b6d",
   "metadata": {},
   "outputs": [],
   "source": [
    "# import plotly.graph_objects as go\n",
    "\n",
    "# # Create bar plot with visible zeros\n",
    "# hovertemplate_text='Model: %{customdata[0]}<br>ID: %{x}<br>Gap: %{text}%<br>Nodes: %{customdata[1]}<br>Heuristics: %{customdata[2]} s<extra></extra>'\n",
    "# fig = go.Figure(data=[\n",
    "#     go.Bar(\n",
    "#         name='Model 0', \n",
    "#         x=df0['ID'], \n",
    "#         y=df0['heuristics_time'],\n",
    "#         text=df0['gap'].apply(lambda x: f'{x:.2f}'),  # Format text to 2 decimal places\n",
    "#         # Create a 2D array with multiple columns\n",
    "#         customdata=np.dstack((df0['model'], df0['nodes'], df0['heuristics_time'].apply(lambda x: f'{x:.2f}')))[0],\n",
    "#         textposition='none',\n",
    "#         hovertemplate=hovertemplate_text\n",
    "#     ),\n",
    "#     go.Bar(\n",
    "#         name='Model 1', \n",
    "#         x=df1['ID'], \n",
    "#         y=df1['heuristics_time'],\n",
    "#         text=df1['gap'].apply(lambda x: f'{x:.2f}'),\n",
    "#         customdata=np.dstack((df1['model'], df1['nodes'], df1['heuristics_time'].apply(lambda x: f'{x:.2f}')))[0],\n",
    "#         textposition='none',\n",
    "#         hovertemplate=hovertemplate_text\n",
    "#     ),\n",
    "#     go.Bar(\n",
    "#         name='Model 2', \n",
    "#         x=df2['ID'], \n",
    "#         y=df2['heuristics_time'],\n",
    "#         text=df2['gap'].apply(lambda x: f'{x:.2f}'),\n",
    "#         customdata=np.dstack((df2['model'], df2['nodes'], df2['heuristics_time'].apply(lambda x: f'{x:.2f}')))[0],\n",
    "#         textposition='none',\n",
    "#         hovertemplate=hovertemplate_text\n",
    "#     ),\n",
    "# ])\n",
    "\n",
    "# # Add a subtle visual indication for zero values\n",
    "# fig.update_layout(\n",
    "#     autosize=True,   # let the container size drive the plot\n",
    "#     margin=dict(l=10, r=10, t=10, b=10),    # width=1000,\n",
    "#     # width=1000,\n",
    "#     # height=600,\n",
    "#     barmode='group',\n",
    "#     yaxis = dict(\n",
    "#         title = 'Heuristics Time (s)',\n",
    "#     ),\n",
    "#     xaxis = dict(\n",
    "#         title = 'Problem Istance (ID)',\n",
    "#         tickmode = 'array',\n",
    "#         tickvals = list(range(0, 28)),\n",
    "#         ticktext = list(range(0, 28)),\n",
    "#     ),\n",
    "#     legend=dict(\n",
    "#         x=0.01,\n",
    "#         y=0.99,\n",
    "#         xanchor='left',\n",
    "#         yanchor='top',\n",
    "#         bgcolor='rgba(255, 255, 255, 0.5)'\n",
    "#     )\n",
    "# )\n",
    "\n",
    "# fig.show()\n",
    "\n",
    "\n",
    "# # # Save as HTML\n",
    "# # div_schedule = plot(\n",
    "# #     fig, include_plotlyjs=True, config={\"responsive\": True}, output_type=\"div\"\n",
    "# # )\n",
    "# # # write div snippet to file\n",
    "# # with open('../docs/images/results-heuristics.html', 'w') as f:\n",
    "# #     f.write(div_schedule)\n",
    "\n"
   ]
  },
  {
   "cell_type": "code",
   "execution_count": 8,
   "id": "d4797d26",
   "metadata": {},
   "outputs": [],
   "source": [
    "def lighten_color(hex_color, percentage):\n",
    "    \"\"\"\n",
    "    Takes a hex color code and returns a lighter version by the specified percentage.\n",
    "    \n",
    "    Args:\n",
    "        hex_color (str): Hex color code (with or without # prefix)\n",
    "        percentage (float): Percentage to lighten (0-100)\n",
    "    \n",
    "    Returns:\n",
    "        str: Lightened hex color code with # prefix\n",
    "    \"\"\"\n",
    "    # Ensure proper hex format\n",
    "    if hex_color.startswith('#'):\n",
    "        hex_color = hex_color[1:]\n",
    "    \n",
    "    # Convert hex to RGB\n",
    "    r = int(hex_color[0:2], 16)\n",
    "    g = int(hex_color[2:4], 16)\n",
    "    b = int(hex_color[4:6], 16)\n",
    "    \n",
    "    # Lighten by percentage\n",
    "    # This formula moves the color value toward white (255) by the percentage\n",
    "    r = int(r + (255 - r) * (percentage / 100))\n",
    "    g = int(g + (255 - g) * (percentage / 100))\n",
    "    b = int(b + (255 - b) * (percentage / 100))\n",
    "    \n",
    "    # Ensure values are within bounds\n",
    "    r = min(255, max(0, r))\n",
    "    g = min(255, max(0, g))\n",
    "    b = min(255, max(0, b))\n",
    "    \n",
    "    # Convert back to hex\n",
    "    return f'#{r:02x}{g:02x}{b:02x}'"
   ]
  },
  {
   "cell_type": "code",
   "execution_count": 9,
   "id": "a55cca63",
   "metadata": {},
   "outputs": [
    {
     "data": {
      "text/plain": [
       "['#636EFA',\n",
       " '#EF553B',\n",
       " '#00CC96',\n",
       " '#AB63FA',\n",
       " '#FFA15A',\n",
       " '#19D3F3',\n",
       " '#FF6692',\n",
       " '#B6E880',\n",
       " '#FF97FF',\n",
       " '#FECB52']"
      ]
     },
     "execution_count": 9,
     "metadata": {},
     "output_type": "execute_result"
    }
   ],
   "source": [
    "import plotly.express as px\n",
    "colormap = px.colors.qualitative.Plotly\n",
    "colormap"
   ]
  },
  {
   "cell_type": "code",
   "execution_count": 11,
   "id": "9d7217b6",
   "metadata": {},
   "outputs": [
    {
     "data": {
      "application/vnd.plotly.v1+json": {
       "config": {
        "plotlyServerURL": "https://plot.ly"
       },
       "data": [
        {
         "customdata": [
          [
           0,
           3,
           "0.21",
           "0.00",
           "0.21"
          ],
          [
           0,
           3,
           "2.43",
           "0.00",
           "2.43"
          ],
          [
           0,
           1822,
           "109.72",
           "0.00",
           "109.72"
          ],
          [
           0,
           68355,
           "300.01",
           "0.00",
           "300.01"
          ],
          [
           0,
           12006,
           "300.01",
           "0.00",
           "300.01"
          ],
          [
           0,
           1197,
           "300.00",
           "0.00",
           "300.00"
          ],
          [
           0,
           18290,
           "300.01",
           "0.00",
           "300.01"
          ],
          [
           0,
           1709,
           "300.00",
           "0.00",
           "300.00"
          ],
          [
           0,
           849,
           "300.01",
           "0.00",
           "300.01"
          ],
          [
           0,
           3,
           "0.94",
           "0.00",
           "0.94"
          ],
          [
           0,
           3,
           "8.35",
           "0.00",
           "8.35"
          ],
          [
           0,
           3,
           "27.67",
           "0.00",
           "27.67"
          ],
          [
           0,
           30462,
           "300.01",
           "0.00",
           "300.01"
          ],
          [
           0,
           3358,
           "300.01",
           "0.00",
           "300.01"
          ],
          [
           0,
           365,
           "300.20",
           "0.00",
           "300.20"
          ],
          [
           0,
           24697,
           "300.03",
           "0.00",
           "300.03"
          ],
          [
           0,
           1069,
           "300.01",
           "0.00",
           "300.01"
          ],
          [
           0,
           102,
           "300.12",
           "0.00",
           "300.12"
          ],
          [
           0,
           3,
           "3.27",
           "0.00",
           "3.27"
          ],
          [
           0,
           3,
           "50.14",
           "0.00",
           "50.14"
          ],
          [
           0,
           3,
           "152.50",
           "0.00",
           "152.50"
          ],
          [
           0,
           3,
           "5.98",
           "0.00",
           "5.98"
          ],
          [
           0,
           7,
           "86.91",
           "0.00",
           "86.91"
          ],
          [
           0,
           1,
           "300.43",
           "0.00",
           "300.43"
          ],
          [
           0,
           4242,
           "285.52",
           "0.00",
           "285.52"
          ],
          [
           0,
           187,
           "300.16",
           "0.00",
           "300.16"
          ],
          [
           0,
           1,
           "300.04",
           "0.00",
           "300.04"
          ]
         ],
         "hovertemplate": "Model: %{customdata[0]}<br>ID: %{x}<br>Gap: %{text}%<br>Nodes: %{customdata[1]}<br>Runtime: %{customdata[2]} s<br>Heuristics: %{customdata[3]} s<br>Total Time: %{customdata[4]} s<extra></extra>",
         "marker": {
          "color": "#636EFA"
         },
         "name": "Model 0",
         "offsetgroup": "0",
         "text": [
          "0.00",
          "0.00",
          "0.00",
          "24.48",
          "97.70",
          "1000000.00",
          "142.65",
          "1000000.00",
          "1000000.00",
          "0.00",
          "0.00",
          "0.00",
          "23.37",
          "1000000.00",
          "1000000.00",
          "38.88",
          "1000000.00",
          "1000000.00",
          "0.00",
          "0.00",
          "0.00",
          "0.00",
          "0.00",
          "1000000.00",
          "0.00",
          "29.04",
          "1000000.00"
         ],
         "textposition": "none",
         "type": "bar",
         "x": {
          "bdata": "AQIDBAUGBwgJCgsMDQ4PEBESExQVFhcYGRob",
          "dtype": "i1"
         },
         "y": {
          "bdata": "AAAAAPCvyj8AAADg324DQAAAAHZPbltAAACAvxfAckAAAMBnK8ByQAAAwAcSwHJAAADAtBTAckAAAIDdDMByQAAAQJwzwHJAAAAAgCU57j8AAAAYX7MgQAAAAIgMqztAAACAVyfAckAAAIDwGsByQAAAQCIsw3JAAAAAbXLAckAAAMBgIsByQAAAADbZwXJAAAAAIOklCkAAAAAQzhFJQAAAgLgPEGNAAAAAEJfqF0AAAADaH7pVQAAAACzdxnJAAACAZUfYcUAAAICnicJyQP//P6OmwHJA",
          "dtype": "f8"
         }
        },
        {
         "customdata": [
          [
           1,
           3,
           "0.22",
           "17.30",
           "17.52"
          ],
          [
           1,
           3,
           "2.35",
           "91.48",
           "93.83"
          ],
          [
           1,
           1190,
           "82.27",
           "120.10",
           "202.37"
          ],
          [
           1,
           68858,
           "300.00",
           "28.26",
           "328.27"
          ],
          [
           1,
           11596,
           "300.01",
           "107.97",
           "407.98"
          ],
          [
           1,
           1162,
           "300.01",
           "221.35",
           "521.35"
          ],
          [
           1,
           10714,
           "300.01",
           "30.70",
           "330.71"
          ],
          [
           1,
           1778,
           "300.01",
           "126.47",
           "426.48"
          ],
          [
           1,
           1161,
           "300.01",
           "253.99",
           "554.00"
          ],
          [
           1,
           3,
           "1.12",
           "104.52",
           "105.65"
          ],
          [
           1,
           3,
           "9.72",
           "300.19",
           "309.90"
          ],
          [
           1,
           3,
           "30.41",
           "300.77",
           "331.18"
          ],
          [
           1,
           27769,
           "300.01",
           "113.68",
           "413.69"
          ],
          [
           1,
           2215,
           "300.07",
           "300.10",
           "600.17"
          ],
          [
           1,
           286,
           "300.12",
           "300.55",
           "600.67"
          ],
          [
           1,
           23143,
           "300.01",
           "125.16",
           "425.17"
          ],
          [
           1,
           723,
           "300.04",
           "300.53",
           "600.58"
          ],
          [
           1,
           47,
           "300.21",
           "300.67",
           "600.87"
          ],
          [
           1,
           3,
           "3.78",
           "300.20",
           "303.98"
          ],
          [
           1,
           3,
           "53.89",
           "300.20",
           "354.09"
          ],
          [
           1,
           3,
           "187.76",
           "301.73",
           "489.49"
          ],
          [
           1,
           2,
           "5.48",
           "300.01",
           "305.49"
          ],
          [
           1,
           7,
           "94.17",
           "300.93",
           "395.10"
          ],
          [
           1,
           1,
           "300.63",
           "300.63",
           "601.26"
          ],
          [
           1,
           1925,
           "129.32",
           "300.07",
           "429.39"
          ],
          [
           1,
           163,
           "300.16",
           "300.20",
           "600.36"
          ],
          [
           1,
           1,
           "300.34",
           "301.03",
           "601.37"
          ]
         ],
         "hovertemplate": "Model: %{customdata[0]}<br>ID: %{x}<br>Gap: %{text}%<br>Nodes: %{customdata[1]}<br>Runtime: %{customdata[2]} s<br>Heuristics: %{customdata[3]} s<br>Total Time: %{customdata[4]} s<extra></extra>",
         "marker": {
          "color": "#EF553B"
         },
         "name": "Model 1",
         "offsetgroup": "1",
         "text": [
          "0.00",
          "0.00",
          "0.00",
          "25.36",
          "90.78",
          "111.79",
          "162.16",
          "205.40",
          "422.40",
          "0.00",
          "0.00",
          "0.00",
          "32.44",
          "93.71",
          "184.80",
          "37.77",
          "53.17",
          "153.32",
          "0.00",
          "0.00",
          "0.00",
          "0.00",
          "0.00",
          "2651.18",
          "0.00",
          "29.11",
          "16190.33"
         ],
         "textposition": "none",
         "type": "bar",
         "x": {
          "bdata": "AQIDBAUGBwgJCgsMDQ4PEBESExQVFhcYGRob",
          "dtype": "i1"
         },
         "y": {
          "bdata": "/v///1WizD8AAAAgZ8wCQAAAAD9vkVRAAABAChDAckAAAIBnF8ByQAAAQFMawHJAAADAGRjAckAAAADoG8ByQAAAwNYswHJAAAAAAE798T8AAADwdG8jQAEAADRzaT5AAADAuyTAckAAAABoI8FyQAAAAH7qwXJAAADApiPAckAAAMARq8ByQAAAQN1Ow3JA////H9o8DkAAAAA03fFKQAAAAM5EeGdAAAAAUEvuFUAAAAAllYpXQAAAAL4VynJAAACAxkwqYEAAAEAeh8JyQAAAwKZrxXJA",
          "dtype": "f8"
         },
         "zorder": 2
        },
        {
         "customdata": [
          [
           1,
           3,
           "0.22",
           "17.30",
           "17.52"
          ],
          [
           1,
           3,
           "2.35",
           "91.48",
           "93.83"
          ],
          [
           1,
           1190,
           "82.27",
           "120.10",
           "202.37"
          ],
          [
           1,
           68858,
           "300.00",
           "28.26",
           "328.27"
          ],
          [
           1,
           11596,
           "300.01",
           "107.97",
           "407.98"
          ],
          [
           1,
           1162,
           "300.01",
           "221.35",
           "521.35"
          ],
          [
           1,
           10714,
           "300.01",
           "30.70",
           "330.71"
          ],
          [
           1,
           1778,
           "300.01",
           "126.47",
           "426.48"
          ],
          [
           1,
           1161,
           "300.01",
           "253.99",
           "554.00"
          ],
          [
           1,
           3,
           "1.12",
           "104.52",
           "105.65"
          ],
          [
           1,
           3,
           "9.72",
           "300.19",
           "309.90"
          ],
          [
           1,
           3,
           "30.41",
           "300.77",
           "331.18"
          ],
          [
           1,
           27769,
           "300.01",
           "113.68",
           "413.69"
          ],
          [
           1,
           2215,
           "300.07",
           "300.10",
           "600.17"
          ],
          [
           1,
           286,
           "300.12",
           "300.55",
           "600.67"
          ],
          [
           1,
           23143,
           "300.01",
           "125.16",
           "425.17"
          ],
          [
           1,
           723,
           "300.04",
           "300.53",
           "600.58"
          ],
          [
           1,
           47,
           "300.21",
           "300.67",
           "600.87"
          ],
          [
           1,
           3,
           "3.78",
           "300.20",
           "303.98"
          ],
          [
           1,
           3,
           "53.89",
           "300.20",
           "354.09"
          ],
          [
           1,
           3,
           "187.76",
           "301.73",
           "489.49"
          ],
          [
           1,
           2,
           "5.48",
           "300.01",
           "305.49"
          ],
          [
           1,
           7,
           "94.17",
           "300.93",
           "395.10"
          ],
          [
           1,
           1,
           "300.63",
           "300.63",
           "601.26"
          ],
          [
           1,
           1925,
           "129.32",
           "300.07",
           "429.39"
          ],
          [
           1,
           163,
           "300.16",
           "300.20",
           "600.36"
          ],
          [
           1,
           1,
           "300.34",
           "301.03",
           "601.37"
          ]
         ],
         "hovertemplate": "Model: %{customdata[0]}<br>ID: %{x}<br>Gap: %{text}%<br>Nodes: %{customdata[1]}<br>Runtime: %{customdata[2]} s<br>Heuristics: %{customdata[3]} s<br>Total Time: %{customdata[4]} s<extra></extra>",
         "marker": {
          "color": "#f59989"
         },
         "name": "Model 1",
         "offsetgroup": "1",
         "showlegend": false,
         "text": [
          "0.00",
          "0.00",
          "0.00",
          "25.36",
          "90.78",
          "111.79",
          "162.16",
          "205.40",
          "422.40",
          "0.00",
          "0.00",
          "0.00",
          "32.44",
          "93.71",
          "184.80",
          "37.77",
          "53.17",
          "153.32",
          "0.00",
          "0.00",
          "0.00",
          "0.00",
          "0.00",
          "2651.18",
          "0.00",
          "29.11",
          "16190.33"
         ],
         "textposition": "none",
         "type": "bar",
         "x": {
          "bdata": "AQIDBAUGBwgJCgsMDQ4PEBESExQVFhcYGRob",
          "dtype": "i1"
         },
         "y": {
          "bdata": "AAAA8I2FMUAAAAAQLXVXQAAAAE3VS2lAAABAv0mEdEAAAAAhoX95QAAAAKvUSoBAAAAA6FWrdEAAAEA8s6d6QAAAwHkDUIFA////IXRpWkAAAAC1cV5zQAAAwNznsnRAAABAixbbeUAAAADQX8GCQAAA4IddxYJAAABA0aiSekAAAKBamsSCQAAAQOT8xoJAAADAjZ7/ckAAAMDUZiF2QAAAgG3gl35AAABAzOAXc0AAAECLirF4QAAAIB4PyoJAAADA30PWekAAAKAp5cKCQAAAwDv5yoJA",
          "dtype": "f8"
         },
         "zorder": 1
        },
        {
         "customdata": [
          [
           2,
           3,
           "0.24",
           "17.30",
           "17.54"
          ],
          [
           2,
           3,
           "2.24",
           "91.48",
           "93.72"
          ],
          [
           2,
           1767,
           "133.65",
           "120.10",
           "253.75"
          ],
          [
           2,
           55111,
           "300.00",
           "28.26",
           "328.27"
          ],
          [
           2,
           5706,
           "300.01",
           "107.97",
           "407.98"
          ],
          [
           2,
           552,
           "300.03",
           "221.35",
           "521.38"
          ],
          [
           2,
           16325,
           "300.01",
           "30.70",
           "330.71"
          ],
          [
           2,
           1235,
           "300.03",
           "126.47",
           "426.50"
          ],
          [
           2,
           423,
           "300.05",
           "253.99",
           "554.04"
          ],
          [
           2,
           3,
           "1.05",
           "104.52",
           "105.58"
          ],
          [
           2,
           3,
           "8.38",
           "300.19",
           "308.56"
          ],
          [
           2,
           3,
           "28.02",
           "300.77",
           "328.79"
          ],
          [
           2,
           27494,
           "300.01",
           "113.68",
           "413.69"
          ],
          [
           2,
           2154,
           "300.03",
           "300.10",
           "600.13"
          ],
          [
           2,
           374,
           "300.12",
           "300.55",
           "600.67"
          ],
          [
           2,
           21153,
           "300.01",
           "125.16",
           "425.17"
          ],
          [
           2,
           1098,
           "300.04",
           "300.53",
           "600.57"
          ],
          [
           2,
           17,
           "300.09",
           "300.67",
           "600.76"
          ],
          [
           2,
           3,
           "3.36",
           "300.20",
           "303.56"
          ],
          [
           2,
           3,
           "45.55",
           "300.20",
           "345.75"
          ],
          [
           2,
           3,
           "157.29",
           "301.73",
           "459.02"
          ],
          [
           2,
           2,
           "5.42",
           "300.01",
           "305.43"
          ],
          [
           2,
           3,
           "98.64",
           "300.93",
           "399.58"
          ],
          [
           2,
           1,
           "300.76",
           "300.63",
           "601.38"
          ],
          [
           2,
           1521,
           "102.33",
           "300.07",
           "402.40"
          ],
          [
           2,
           223,
           "300.23",
           "300.20",
           "600.43"
          ],
          [
           2,
           1,
           "300.58",
           "301.03",
           "601.61"
          ]
         ],
         "hovertemplate": "Model: %{customdata[0]}<br>ID: %{x}<br>Gap: %{text}%<br>Nodes: %{customdata[1]}<br>Runtime: %{customdata[2]} s<br>Heuristics: %{customdata[3]} s<br>Total Time: %{customdata[4]} s<extra></extra>",
         "marker": {
          "color": "#00CC96"
         },
         "name": "Model 2",
         "offsetgroup": "2",
         "text": [
          "0.00",
          "0.00",
          "0.00",
          "26.11",
          "84.09",
          "114.47",
          "147.69",
          "207.40",
          "539.45",
          "0.00",
          "0.00",
          "0.00",
          "35.75",
          "93.62",
          "185.33",
          "34.51",
          "93.85",
          "159.55",
          "0.00",
          "0.00",
          "0.00",
          "0.00",
          "0.00",
          "2652.31",
          "0.00",
          "30.70",
          "16190.33"
         ],
         "textposition": "none",
         "type": "bar",
         "x": {
          "bdata": "AQIDBAUGBwgJCgsMDQ4PEBESExQVFhcYGRob",
          "dtype": "i1"
         },
         "y": {
          "bdata": "/////yMQzz8AAACAueEBQAAAAJzdtGBAAABAqBPAckAAAICTM8ByQAAAQF+JwHJAAQBAOhfAckAAAADWasByQAAAQGfLwHJAAAAAwN3Z8D8AAADAJcAgQAAAAPzkBDxAAABA6SfAckAAAADyesByQAAAQI3fwXJAAABA6yLAckAAAMDemcByQAAAwDl/wXJAAAAAoB/qCkD////fB8dGQAAAgCQmqWNAAAAA8L+uFUABAAAqO6lYQP///3AezHJAAQAANxaVWUAAAIDqpcNyQAAAQJZGyXJA",
          "dtype": "f8"
         },
         "zorder": 2
        },
        {
         "customdata": [
          [
           2,
           3,
           "0.24",
           "17.30",
           "17.54"
          ],
          [
           2,
           3,
           "2.24",
           "91.48",
           "93.72"
          ],
          [
           2,
           1767,
           "133.65",
           "120.10",
           "253.75"
          ],
          [
           2,
           55111,
           "300.00",
           "28.26",
           "328.27"
          ],
          [
           2,
           5706,
           "300.01",
           "107.97",
           "407.98"
          ],
          [
           2,
           552,
           "300.03",
           "221.35",
           "521.38"
          ],
          [
           2,
           16325,
           "300.01",
           "30.70",
           "330.71"
          ],
          [
           2,
           1235,
           "300.03",
           "126.47",
           "426.50"
          ],
          [
           2,
           423,
           "300.05",
           "253.99",
           "554.04"
          ],
          [
           2,
           3,
           "1.05",
           "104.52",
           "105.58"
          ],
          [
           2,
           3,
           "8.38",
           "300.19",
           "308.56"
          ],
          [
           2,
           3,
           "28.02",
           "300.77",
           "328.79"
          ],
          [
           2,
           27494,
           "300.01",
           "113.68",
           "413.69"
          ],
          [
           2,
           2154,
           "300.03",
           "300.10",
           "600.13"
          ],
          [
           2,
           374,
           "300.12",
           "300.55",
           "600.67"
          ],
          [
           2,
           21153,
           "300.01",
           "125.16",
           "425.17"
          ],
          [
           2,
           1098,
           "300.04",
           "300.53",
           "600.57"
          ],
          [
           2,
           17,
           "300.09",
           "300.67",
           "600.76"
          ],
          [
           2,
           3,
           "3.36",
           "300.20",
           "303.56"
          ],
          [
           2,
           3,
           "45.55",
           "300.20",
           "345.75"
          ],
          [
           2,
           3,
           "157.29",
           "301.73",
           "459.02"
          ],
          [
           2,
           2,
           "5.42",
           "300.01",
           "305.43"
          ],
          [
           2,
           3,
           "98.64",
           "300.93",
           "399.58"
          ],
          [
           2,
           1,
           "300.76",
           "300.63",
           "601.38"
          ],
          [
           2,
           1521,
           "102.33",
           "300.07",
           "402.40"
          ],
          [
           2,
           223,
           "300.23",
           "300.20",
           "600.43"
          ],
          [
           2,
           1,
           "300.58",
           "301.03",
           "601.61"
          ]
         ],
         "hovertemplate": "Model: %{customdata[0]}<br>ID: %{x}<br>Gap: %{text}%<br>Nodes: %{customdata[1]}<br>Runtime: %{customdata[2]} s<br>Heuristics: %{customdata[3]} s<br>Total Time: %{customdata[4]} s<extra></extra>",
         "marker": {
          "color": "#66e0c0"
         },
         "name": "Model 2",
         "offsetgroup": "2",
         "showlegend": false,
         "text": [
          "0.00",
          "0.00",
          "0.00",
          "26.11",
          "84.09",
          "114.47",
          "147.69",
          "207.40",
          "539.45",
          "0.00",
          "0.00",
          "0.00",
          "35.75",
          "93.62",
          "185.33",
          "34.51",
          "93.85",
          "159.55",
          "0.00",
          "0.00",
          "0.00",
          "0.00",
          "0.00",
          "2652.31",
          "0.00",
          "30.70",
          "16190.33"
         ],
         "textposition": "none",
         "type": "bar",
         "x": {
          "bdata": "AQIDBAUGBwgJCgsMDQ4PEBESExQVFhcYGRob",
          "dtype": "i1"
         },
         "y": {
          "bdata": "AAAAjGmKMUAAAACj121XQAAAgEn7t29AAABAXU2EdEAAAABNvX95QAAAADEMS4BAAQCACFWrdEAAAEAqAqh6QAAAAMJSUIFA////YOZkWkAAAIA790hzQAAAQPmejHRAAADAuBnbeUAAAACVC8GCQAAAgA9YxYJAAADAFaiSekAAACDBkcSCQAAAgBIVxoJAAADAGPn4ckAAAEAqDJx1QAAAwBhRsHxAAADAnuIWc0AAAIAMNPl4QAAAoHcTy4JAAABACmMmeUAAAMCPdMOCQAAAgLPmzIJA",
          "dtype": "f8"
         },
         "zorder": 1
        }
       ],
       "layout": {
        "autosize": true,
        "barmode": "group",
        "legend": {
         "bgcolor": "rgba(255, 255, 255, 0.5)",
         "x": 0.01,
         "xanchor": "left",
         "y": 0.99,
         "yanchor": "top"
        },
        "margin": {
         "b": 10,
         "l": 10,
         "r": 10,
         "t": 10
        },
        "template": {
         "data": {
          "bar": [
           {
            "error_x": {
             "color": "#2a3f5f"
            },
            "error_y": {
             "color": "#2a3f5f"
            },
            "marker": {
             "line": {
              "color": "#E5ECF6",
              "width": 0.5
             },
             "pattern": {
              "fillmode": "overlay",
              "size": 10,
              "solidity": 0.2
             }
            },
            "type": "bar"
           }
          ],
          "barpolar": [
           {
            "marker": {
             "line": {
              "color": "#E5ECF6",
              "width": 0.5
             },
             "pattern": {
              "fillmode": "overlay",
              "size": 10,
              "solidity": 0.2
             }
            },
            "type": "barpolar"
           }
          ],
          "carpet": [
           {
            "aaxis": {
             "endlinecolor": "#2a3f5f",
             "gridcolor": "white",
             "linecolor": "white",
             "minorgridcolor": "white",
             "startlinecolor": "#2a3f5f"
            },
            "baxis": {
             "endlinecolor": "#2a3f5f",
             "gridcolor": "white",
             "linecolor": "white",
             "minorgridcolor": "white",
             "startlinecolor": "#2a3f5f"
            },
            "type": "carpet"
           }
          ],
          "choropleth": [
           {
            "colorbar": {
             "outlinewidth": 0,
             "ticks": ""
            },
            "type": "choropleth"
           }
          ],
          "contour": [
           {
            "colorbar": {
             "outlinewidth": 0,
             "ticks": ""
            },
            "colorscale": [
             [
              0,
              "#0d0887"
             ],
             [
              0.1111111111111111,
              "#46039f"
             ],
             [
              0.2222222222222222,
              "#7201a8"
             ],
             [
              0.3333333333333333,
              "#9c179e"
             ],
             [
              0.4444444444444444,
              "#bd3786"
             ],
             [
              0.5555555555555556,
              "#d8576b"
             ],
             [
              0.6666666666666666,
              "#ed7953"
             ],
             [
              0.7777777777777778,
              "#fb9f3a"
             ],
             [
              0.8888888888888888,
              "#fdca26"
             ],
             [
              1,
              "#f0f921"
             ]
            ],
            "type": "contour"
           }
          ],
          "contourcarpet": [
           {
            "colorbar": {
             "outlinewidth": 0,
             "ticks": ""
            },
            "type": "contourcarpet"
           }
          ],
          "heatmap": [
           {
            "colorbar": {
             "outlinewidth": 0,
             "ticks": ""
            },
            "colorscale": [
             [
              0,
              "#0d0887"
             ],
             [
              0.1111111111111111,
              "#46039f"
             ],
             [
              0.2222222222222222,
              "#7201a8"
             ],
             [
              0.3333333333333333,
              "#9c179e"
             ],
             [
              0.4444444444444444,
              "#bd3786"
             ],
             [
              0.5555555555555556,
              "#d8576b"
             ],
             [
              0.6666666666666666,
              "#ed7953"
             ],
             [
              0.7777777777777778,
              "#fb9f3a"
             ],
             [
              0.8888888888888888,
              "#fdca26"
             ],
             [
              1,
              "#f0f921"
             ]
            ],
            "type": "heatmap"
           }
          ],
          "histogram": [
           {
            "marker": {
             "pattern": {
              "fillmode": "overlay",
              "size": 10,
              "solidity": 0.2
             }
            },
            "type": "histogram"
           }
          ],
          "histogram2d": [
           {
            "colorbar": {
             "outlinewidth": 0,
             "ticks": ""
            },
            "colorscale": [
             [
              0,
              "#0d0887"
             ],
             [
              0.1111111111111111,
              "#46039f"
             ],
             [
              0.2222222222222222,
              "#7201a8"
             ],
             [
              0.3333333333333333,
              "#9c179e"
             ],
             [
              0.4444444444444444,
              "#bd3786"
             ],
             [
              0.5555555555555556,
              "#d8576b"
             ],
             [
              0.6666666666666666,
              "#ed7953"
             ],
             [
              0.7777777777777778,
              "#fb9f3a"
             ],
             [
              0.8888888888888888,
              "#fdca26"
             ],
             [
              1,
              "#f0f921"
             ]
            ],
            "type": "histogram2d"
           }
          ],
          "histogram2dcontour": [
           {
            "colorbar": {
             "outlinewidth": 0,
             "ticks": ""
            },
            "colorscale": [
             [
              0,
              "#0d0887"
             ],
             [
              0.1111111111111111,
              "#46039f"
             ],
             [
              0.2222222222222222,
              "#7201a8"
             ],
             [
              0.3333333333333333,
              "#9c179e"
             ],
             [
              0.4444444444444444,
              "#bd3786"
             ],
             [
              0.5555555555555556,
              "#d8576b"
             ],
             [
              0.6666666666666666,
              "#ed7953"
             ],
             [
              0.7777777777777778,
              "#fb9f3a"
             ],
             [
              0.8888888888888888,
              "#fdca26"
             ],
             [
              1,
              "#f0f921"
             ]
            ],
            "type": "histogram2dcontour"
           }
          ],
          "mesh3d": [
           {
            "colorbar": {
             "outlinewidth": 0,
             "ticks": ""
            },
            "type": "mesh3d"
           }
          ],
          "parcoords": [
           {
            "line": {
             "colorbar": {
              "outlinewidth": 0,
              "ticks": ""
             }
            },
            "type": "parcoords"
           }
          ],
          "pie": [
           {
            "automargin": true,
            "type": "pie"
           }
          ],
          "scatter": [
           {
            "fillpattern": {
             "fillmode": "overlay",
             "size": 10,
             "solidity": 0.2
            },
            "type": "scatter"
           }
          ],
          "scatter3d": [
           {
            "line": {
             "colorbar": {
              "outlinewidth": 0,
              "ticks": ""
             }
            },
            "marker": {
             "colorbar": {
              "outlinewidth": 0,
              "ticks": ""
             }
            },
            "type": "scatter3d"
           }
          ],
          "scattercarpet": [
           {
            "marker": {
             "colorbar": {
              "outlinewidth": 0,
              "ticks": ""
             }
            },
            "type": "scattercarpet"
           }
          ],
          "scattergeo": [
           {
            "marker": {
             "colorbar": {
              "outlinewidth": 0,
              "ticks": ""
             }
            },
            "type": "scattergeo"
           }
          ],
          "scattergl": [
           {
            "marker": {
             "colorbar": {
              "outlinewidth": 0,
              "ticks": ""
             }
            },
            "type": "scattergl"
           }
          ],
          "scattermap": [
           {
            "marker": {
             "colorbar": {
              "outlinewidth": 0,
              "ticks": ""
             }
            },
            "type": "scattermap"
           }
          ],
          "scattermapbox": [
           {
            "marker": {
             "colorbar": {
              "outlinewidth": 0,
              "ticks": ""
             }
            },
            "type": "scattermapbox"
           }
          ],
          "scatterpolar": [
           {
            "marker": {
             "colorbar": {
              "outlinewidth": 0,
              "ticks": ""
             }
            },
            "type": "scatterpolar"
           }
          ],
          "scatterpolargl": [
           {
            "marker": {
             "colorbar": {
              "outlinewidth": 0,
              "ticks": ""
             }
            },
            "type": "scatterpolargl"
           }
          ],
          "scatterternary": [
           {
            "marker": {
             "colorbar": {
              "outlinewidth": 0,
              "ticks": ""
             }
            },
            "type": "scatterternary"
           }
          ],
          "surface": [
           {
            "colorbar": {
             "outlinewidth": 0,
             "ticks": ""
            },
            "colorscale": [
             [
              0,
              "#0d0887"
             ],
             [
              0.1111111111111111,
              "#46039f"
             ],
             [
              0.2222222222222222,
              "#7201a8"
             ],
             [
              0.3333333333333333,
              "#9c179e"
             ],
             [
              0.4444444444444444,
              "#bd3786"
             ],
             [
              0.5555555555555556,
              "#d8576b"
             ],
             [
              0.6666666666666666,
              "#ed7953"
             ],
             [
              0.7777777777777778,
              "#fb9f3a"
             ],
             [
              0.8888888888888888,
              "#fdca26"
             ],
             [
              1,
              "#f0f921"
             ]
            ],
            "type": "surface"
           }
          ],
          "table": [
           {
            "cells": {
             "fill": {
              "color": "#EBF0F8"
             },
             "line": {
              "color": "white"
             }
            },
            "header": {
             "fill": {
              "color": "#C8D4E3"
             },
             "line": {
              "color": "white"
             }
            },
            "type": "table"
           }
          ]
         },
         "layout": {
          "annotationdefaults": {
           "arrowcolor": "#2a3f5f",
           "arrowhead": 0,
           "arrowwidth": 1
          },
          "autotypenumbers": "strict",
          "coloraxis": {
           "colorbar": {
            "outlinewidth": 0,
            "ticks": ""
           }
          },
          "colorscale": {
           "diverging": [
            [
             0,
             "#8e0152"
            ],
            [
             0.1,
             "#c51b7d"
            ],
            [
             0.2,
             "#de77ae"
            ],
            [
             0.3,
             "#f1b6da"
            ],
            [
             0.4,
             "#fde0ef"
            ],
            [
             0.5,
             "#f7f7f7"
            ],
            [
             0.6,
             "#e6f5d0"
            ],
            [
             0.7,
             "#b8e186"
            ],
            [
             0.8,
             "#7fbc41"
            ],
            [
             0.9,
             "#4d9221"
            ],
            [
             1,
             "#276419"
            ]
           ],
           "sequential": [
            [
             0,
             "#0d0887"
            ],
            [
             0.1111111111111111,
             "#46039f"
            ],
            [
             0.2222222222222222,
             "#7201a8"
            ],
            [
             0.3333333333333333,
             "#9c179e"
            ],
            [
             0.4444444444444444,
             "#bd3786"
            ],
            [
             0.5555555555555556,
             "#d8576b"
            ],
            [
             0.6666666666666666,
             "#ed7953"
            ],
            [
             0.7777777777777778,
             "#fb9f3a"
            ],
            [
             0.8888888888888888,
             "#fdca26"
            ],
            [
             1,
             "#f0f921"
            ]
           ],
           "sequentialminus": [
            [
             0,
             "#0d0887"
            ],
            [
             0.1111111111111111,
             "#46039f"
            ],
            [
             0.2222222222222222,
             "#7201a8"
            ],
            [
             0.3333333333333333,
             "#9c179e"
            ],
            [
             0.4444444444444444,
             "#bd3786"
            ],
            [
             0.5555555555555556,
             "#d8576b"
            ],
            [
             0.6666666666666666,
             "#ed7953"
            ],
            [
             0.7777777777777778,
             "#fb9f3a"
            ],
            [
             0.8888888888888888,
             "#fdca26"
            ],
            [
             1,
             "#f0f921"
            ]
           ]
          },
          "colorway": [
           "#636efa",
           "#EF553B",
           "#00cc96",
           "#ab63fa",
           "#FFA15A",
           "#19d3f3",
           "#FF6692",
           "#B6E880",
           "#FF97FF",
           "#FECB52"
          ],
          "font": {
           "color": "#2a3f5f"
          },
          "geo": {
           "bgcolor": "white",
           "lakecolor": "white",
           "landcolor": "#E5ECF6",
           "showlakes": true,
           "showland": true,
           "subunitcolor": "white"
          },
          "hoverlabel": {
           "align": "left"
          },
          "hovermode": "closest",
          "mapbox": {
           "style": "light"
          },
          "paper_bgcolor": "white",
          "plot_bgcolor": "#E5ECF6",
          "polar": {
           "angularaxis": {
            "gridcolor": "white",
            "linecolor": "white",
            "ticks": ""
           },
           "bgcolor": "#E5ECF6",
           "radialaxis": {
            "gridcolor": "white",
            "linecolor": "white",
            "ticks": ""
           }
          },
          "scene": {
           "xaxis": {
            "backgroundcolor": "#E5ECF6",
            "gridcolor": "white",
            "gridwidth": 2,
            "linecolor": "white",
            "showbackground": true,
            "ticks": "",
            "zerolinecolor": "white"
           },
           "yaxis": {
            "backgroundcolor": "#E5ECF6",
            "gridcolor": "white",
            "gridwidth": 2,
            "linecolor": "white",
            "showbackground": true,
            "ticks": "",
            "zerolinecolor": "white"
           },
           "zaxis": {
            "backgroundcolor": "#E5ECF6",
            "gridcolor": "white",
            "gridwidth": 2,
            "linecolor": "white",
            "showbackground": true,
            "ticks": "",
            "zerolinecolor": "white"
           }
          },
          "shapedefaults": {
           "line": {
            "color": "#2a3f5f"
           }
          },
          "ternary": {
           "aaxis": {
            "gridcolor": "white",
            "linecolor": "white",
            "ticks": ""
           },
           "baxis": {
            "gridcolor": "white",
            "linecolor": "white",
            "ticks": ""
           },
           "bgcolor": "#E5ECF6",
           "caxis": {
            "gridcolor": "white",
            "linecolor": "white",
            "ticks": ""
           }
          },
          "title": {
           "x": 0.05
          },
          "xaxis": {
           "automargin": true,
           "gridcolor": "white",
           "linecolor": "white",
           "ticks": "",
           "title": {
            "standoff": 15
           },
           "zerolinecolor": "white",
           "zerolinewidth": 2
          },
          "yaxis": {
           "automargin": true,
           "gridcolor": "white",
           "linecolor": "white",
           "ticks": "",
           "title": {
            "standoff": 15
           },
           "zerolinecolor": "white",
           "zerolinewidth": 2
          }
         }
        },
        "xaxis": {
         "tickmode": "array",
         "ticktext": [
          0,
          1,
          2,
          3,
          4,
          5,
          6,
          7,
          8,
          9,
          10,
          11,
          12,
          13,
          14,
          15,
          16,
          17,
          18,
          19,
          20,
          21,
          22,
          23,
          24,
          25,
          26,
          27
         ],
         "tickvals": [
          0,
          1,
          2,
          3,
          4,
          5,
          6,
          7,
          8,
          9,
          10,
          11,
          12,
          13,
          14,
          15,
          16,
          17,
          18,
          19,
          20,
          21,
          22,
          23,
          24,
          25,
          26,
          27
         ],
         "title": {
          "text": "Problem Instance (ID)"
         }
        },
        "yaxis": {
         "title": {
          "text": "Total Time (Runtime + Heuristics) (s)"
         }
        }
       }
      }
     },
     "metadata": {},
     "output_type": "display_data"
    }
   ],
   "source": [
    "import plotly.graph_objects as go\n",
    "\n",
    "\n",
    "lighten_percentage = 40\n",
    "\n",
    "# Create bar plot with visible zeros\n",
    "hovertemplate_text='Model: %{customdata[0]}<br>ID: %{x}<br>Gap: %{text}%<br>Nodes: %{customdata[1]}<br>Runtime: %{customdata[2]} s<br>Heuristics: %{customdata[3]} s<br>Total Time: %{customdata[4]} s<extra></extra>'\n",
    "fig = go.Figure(data=[\n",
    "    go.Bar(\n",
    "        name='Model 0', \n",
    "        x=df0['ID'], \n",
    "        y=df0['runtime'],\n",
    "        text=df0['gap'].apply(lambda x: f'{x:.2f}'),  # Format text to 2 decimal places\n",
    "        marker_color=colormap[0],\n",
    "        # Create a 2D array with multiple columns\n",
    "        customdata=np.dstack((\n",
    "            df0['model'], \n",
    "            df0['nodes'], \n",
    "            df0['runtime'].apply(lambda x: f'{x:.2f}'),\n",
    "            df0['heuristics_time'].apply(lambda x: f'{x:.2f}'),\n",
    "            df0['total_time'].apply(lambda x: f'{x:.2f}')\n",
    "        ))[0],\n",
    "        textposition='none',\n",
    "        hovertemplate=hovertemplate_text,\n",
    "        offsetgroup='0'\n",
    "    ),\n",
    "    go.Bar(\n",
    "        name='Model 1', \n",
    "        x=df1['ID'], \n",
    "        y=df1['runtime'],\n",
    "        text=df1['gap'].apply(lambda x: f'{x:.2f}'),\n",
    "        marker_color=colormap[1],\n",
    "        customdata=np.dstack((\n",
    "            df1['model'], \n",
    "            df1['nodes'], \n",
    "            df1['runtime'].apply(lambda x: f'{x:.2f}'),\n",
    "            df1['heuristics_time'].apply(lambda x: f'{x:.2f}'),\n",
    "            df1['total_time'].apply(lambda x: f'{x:.2f}')\n",
    "        ))[0],\n",
    "        textposition='none',\n",
    "        hovertemplate=hovertemplate_text,\n",
    "        offsetgroup='1',\n",
    "        zorder=2\n",
    "    ),\n",
    "    go.Bar(\n",
    "        name='Model 1', \n",
    "        x=df1['ID'], \n",
    "        y=df1['runtime'] + df1['heuristics_time'],\n",
    "        text=df1['gap'].apply(lambda x: f'{x:.2f}'),\n",
    "        marker_color=lighten_color(colormap[1], lighten_percentage),\n",
    "        customdata=np.dstack((\n",
    "            df1['model'], \n",
    "            df1['nodes'], \n",
    "            df1['runtime'].apply(lambda x: f'{x:.2f}'),\n",
    "            df1['heuristics_time'].apply(lambda x: f'{x:.2f}'),\n",
    "            df1['total_time'].apply(lambda x: f'{x:.2f}')\n",
    "        ))[0],\n",
    "        textposition='none',\n",
    "        hovertemplate=hovertemplate_text,\n",
    "        offsetgroup='1',\n",
    "        showlegend=False,\n",
    "        zorder=1\n",
    "    ),\n",
    "    go.Bar(\n",
    "        name='Model 2', \n",
    "        x=df2['ID'], \n",
    "        y=df2['runtime'],\n",
    "        text=df2['gap'].apply(lambda x: f'{x:.2f}'),\n",
    "        marker_color=colormap[2],\n",
    "        customdata=np.dstack((\n",
    "            df2['model'], \n",
    "            df2['nodes'], \n",
    "            df2['runtime'].apply(lambda x: f'{x:.2f}'),\n",
    "            df2['heuristics_time'].apply(lambda x: f'{x:.2f}'),\n",
    "            df2['total_time'].apply(lambda x: f'{x:.2f}')\n",
    "        ))[0],\n",
    "        textposition='none',\n",
    "        hovertemplate=hovertemplate_text,\n",
    "        offsetgroup='2',\n",
    "        zorder=2\n",
    "    ),\n",
    "    go.Bar(\n",
    "        name='Model 2',\n",
    "        x=df2['ID'],\n",
    "        y=df2['runtime'] + df2['heuristics_time'],\n",
    "        text=df2['gap'].apply(lambda x: f'{x:.2f}'),\n",
    "        marker_color=lighten_color(colormap[2], lighten_percentage),\n",
    "        customdata=np.dstack((\n",
    "            df2['model'], \n",
    "            df2['nodes'], \n",
    "            df2['runtime'].apply(lambda x: f'{x:.2f}'),\n",
    "            df2['heuristics_time'].apply(lambda x: f'{x:.2f}'),\n",
    "            df2['total_time'].apply(lambda x: f'{x:.2f}')\n",
    "        ))[0],\n",
    "        textposition='none',\n",
    "        hovertemplate=hovertemplate_text,\n",
    "        offsetgroup='2',\n",
    "        showlegend=False,\n",
    "        zorder=1\n",
    "    ),\n",
    "])\n",
    "\n",
    "# Add a subtle visual indication for zero values\n",
    "fig.update_layout(\n",
    "    autosize=True,   # let the container size drive the plot\n",
    "    margin=dict(l=10, r=10, t=10, b=10),    # width=1000,\n",
    "    # width=1000,\n",
    "    # height=600,\n",
    "    barmode='group',\n",
    "    yaxis = dict(\n",
    "        title = 'Total Time (Runtime + Heuristics) (s)',\n",
    "    ),\n",
    "    xaxis = dict(\n",
    "        title = 'Problem Instance (ID)',\n",
    "        tickmode = 'array',\n",
    "        tickvals = list(range(0, 28)),\n",
    "        ticktext = list(range(0, 28)),\n",
    "    ),\n",
    "    legend=dict(\n",
    "        x=0.01,\n",
    "        y=0.99,\n",
    "        xanchor='left',\n",
    "        yanchor='top',\n",
    "        bgcolor='rgba(255, 255, 255, 0.5)'\n",
    "    )\n",
    ")\n",
    "\n",
    "fig.show()\n",
    "\n",
    "\n",
    "# Save as HTML\n",
    "div_schedule = plot(\n",
    "    fig, include_plotlyjs=True, config={\"responsive\": True}, output_type=\"div\"\n",
    ")\n",
    "# write div snippet to file\n",
    "with open('../docs/images/results-total-time.html', 'w') as f:\n",
    "    f.write(div_schedule)"
   ]
  },
  {
   "cell_type": "code",
   "execution_count": 31,
   "id": "9835f1a5",
   "metadata": {},
   "outputs": [],
   "source": [
    "# import plotly.graph_objects as go\n",
    "\n",
    "# # Create bar plot with visible zeros\n",
    "# hovertemplate_text='Model: %{customdata[0]}<br>ID: %{x}<br>Gap: %{text}%<br>Nodes: %{customdata[1]}<br>Runtime: %{customdata[2]} s<extra></extra>'\n",
    "# fig = go.Figure(data=[\n",
    "#     go.Bar(\n",
    "#         name='Model 0', \n",
    "#         x=df0['ID'], \n",
    "#         y=df0['iterations'],\n",
    "#         text=df0['gap'].apply(lambda x: f'{x:.2f}'),  # Format text to 2 decimal places\n",
    "#         # Create a 2D array with multiple columns\n",
    "#         customdata=np.dstack((df0['model'], df0['iterations'], df0['total_time'].apply(lambda x: f'{x:.2f}')))[0],\n",
    "#         textposition='none',\n",
    "#         hovertemplate=hovertemplate_text\n",
    "#     ),\n",
    "#     go.Bar(\n",
    "#         name='Model 1', \n",
    "#         x=df1['ID'], \n",
    "#         y=df1['iterations'],\n",
    "#         text=df1['gap'].apply(lambda x: f'{x:.2f}'),\n",
    "#         customdata=np.dstack((df1['model'], df1['iterations'], df1['total_time'].apply(lambda x: f'{x:.2f}')))[0],\n",
    "#         textposition='none',\n",
    "#         hovertemplate=hovertemplate_text\n",
    "#     ),\n",
    "#     go.Bar(\n",
    "#         name='Model 2', \n",
    "#         x=df2['ID'], \n",
    "#         y=df2['iterations'],\n",
    "#         text=df2['gap'].apply(lambda x: f'{x:.2f}'),\n",
    "#         customdata=np.dstack((df2['model'], df2['iterations'], df2['total_time'].apply(lambda x: f'{x:.2f}')))[0],\n",
    "#         textposition='none',\n",
    "#         hovertemplate=hovertemplate_text\n",
    "#     ),\n",
    "# ])\n",
    "\n",
    "# # Add a subtle visual indication for zero values\n",
    "# fig.update_layout(\n",
    "#     autosize=True,   # let the container size drive the plot\n",
    "#     margin=dict(l=10, r=10, t=10, b=10),    # width=1000,\n",
    "#     # width=1000,\n",
    "#     # height=600,\n",
    "#     barmode='group',\n",
    "#     yaxis = dict(\n",
    "#         title = 'Iterations',\n",
    "#     ),\n",
    "#     xaxis = dict(\n",
    "#         title = 'Problem Istance (ID)',\n",
    "#         tickmode = 'array',\n",
    "#         tickvals = list(range(0, 28)),\n",
    "#         ticktext = list(range(0, 28)),\n",
    "#     ),\n",
    "#     legend=dict(\n",
    "#         x=0.01,\n",
    "#         y=0.99,\n",
    "#         xanchor='left',\n",
    "#         yanchor='top',\n",
    "#         bgcolor='rgba(255, 255, 255, 0.5)'\n",
    "#     )\n",
    "# )\n",
    "\n",
    "# fig.show()\n",
    "\n",
    "# # # Save as HTML\n",
    "# # div_schedule = plot(\n",
    "# #     fig, include_plotlyjs=True, config={\"responsive\": True}, output_type=\"div\"\n",
    "# # )\n",
    "# # # write div snippet to file\n",
    "# # with open('../docs/images/results-iterations.html', 'w') as f:\n",
    "# #     f.write(div_schedule)\n",
    "\n"
   ]
  },
  {
   "cell_type": "markdown",
   "id": "09e98b93",
   "metadata": {},
   "source": [
    "***"
   ]
  },
  {
   "cell_type": "code",
   "execution_count": 11,
   "id": "5842b385",
   "metadata": {},
   "outputs": [],
   "source": [
    "import numpy as np\n",
    "import pandas as pd\n",
    "import matplotlib.pyplot as plt\n",
    "import seaborn as sns\n",
    "from plotly.offline import plot"
   ]
  },
  {
   "cell_type": "code",
   "execution_count": 12,
   "id": "06d9ec17",
   "metadata": {},
   "outputs": [],
   "source": [
    "RESULTFILE = '../results/results_new.csv'\n",
    "df = pd.read_csv(RESULTFILE)\n",
    "\n",
    "# Multiply gap column by 100\n",
    "df['gap'] = df['gap'] * 100\n",
    "\n",
    "df0 = df[df['model']==0].copy()\n",
    "df1 = df[df['model']==1].copy()\n",
    "df2 = df[df['model']==2].copy()"
   ]
  },
  {
   "cell_type": "code",
   "execution_count": 13,
   "id": "07c6a21d",
   "metadata": {},
   "outputs": [],
   "source": [
    "RESULTFILE_e = '../results/results_extra.csv'\n",
    "df_e = pd.read_csv(RESULTFILE_e)\n",
    "\n",
    "# Multiply gap column by 100\n",
    "df_e['gap'] = df_e['gap'] * 100\n",
    "\n",
    "df1e = df_e[df_e['model']==1].copy()\n",
    "df2e = df_e[df_e['model']==2].copy()"
   ]
  },
  {
   "cell_type": "code",
   "execution_count": 22,
   "id": "aa6d5348",
   "metadata": {},
   "outputs": [
    {
     "name": "stdout",
     "output_type": "stream",
     "text": [
      "    ID  model   N   J    T     P  K      status     runtime  heuristics_time  \\\n",
      "0    1      1  10  10   10  2000  3     OPTIMAL    0.215024        13.554680   \n",
      "2    2      1  10  10   50  2000  3     OPTIMAL   30.582666        72.599329   \n",
      "4    3      1  10  10  100  2000  3     OPTIMAL   19.412125       120.160554   \n",
      "6    4      1  10  40   10  2000  3  TIME_LIMIT  300.001683        17.439026   \n",
      "8    5      1  10  40   50  2000  3  TIME_LIMIT  300.008174        95.686853   \n",
      "10   6      1  10  40  100  2000  3  TIME_LIMIT  300.002212       120.123584   \n",
      "12   7      1  10  80   10  2000  3  TIME_LIMIT  300.000994        18.278626   \n",
      "14   8      1  10  80   50  2000  3  TIME_LIMIT  300.002595       111.877104   \n",
      "16   9      1  10  80  100  2000  3  TIME_LIMIT  300.003084       120.142840   \n",
      "18  10      1  20  10   10  2000  3     OPTIMAL    2.597891        89.666137   \n",
      "20  11      1  20  10   50  2000  3     OPTIMAL   15.696527       120.235180   \n",
      "22  12      1  20  10  100  2000  3     OPTIMAL   62.598827       121.018944   \n",
      "24  13      1  20  40   10  2000  3     OPTIMAL   13.718960       108.757144   \n",
      "26  14      1  20  40   50  2000  3  TIME_LIMIT  300.052316       120.603864   \n",
      "28  15      1  20  40  100  2000  3  TIME_LIMIT  300.091567       120.252589   \n",
      "30  16      1  20  80   10  2000  3     OPTIMAL   34.439713       120.024129   \n",
      "32  17      1  20  80   50  2000  3  TIME_LIMIT  300.042895       120.052565   \n",
      "36  19      1  40  10   10  2000  3     OPTIMAL   12.129033       120.552696   \n",
      "38  20      1  40  10   50  2000  3     OPTIMAL  177.938799       121.385561   \n",
      "42  22      1  40  40   10  2000  3     OPTIMAL   27.608358       120.280646   \n",
      "48  25      1  40  80   10  2000  3  TIME_LIMIT  300.042899       120.160419   \n",
      "\n",
      "    total_time         gap     objective    nodes  iterations  timelimit  \\\n",
      "0    13.769704    0.000000  3.591138e+04      3.0       814.0        300   \n",
      "2   103.181994    0.002915  2.420358e+05   1111.0     32754.0        300   \n",
      "4   139.572679    0.000000  4.543764e+05     86.0     19826.0        300   \n",
      "6   317.440709   16.932714  1.780026e+05  80836.0   1449000.0        300   \n",
      "8   395.695027   48.001483  1.168747e+06   6337.0    452375.0        300   \n",
      "10  420.125796   87.811747  2.723354e+06    655.0    217210.0        300   \n",
      "12  318.279620  242.121655  1.501241e+05  34208.0   1493712.0        300   \n",
      "14  411.879699  103.367421  1.813297e+06    718.0    422969.0        300   \n",
      "16  420.145924  124.382296  4.012392e+06    702.0    217533.0        300   \n",
      "18   92.264028    0.000000  6.883477e+04     55.0      1467.0        300   \n",
      "20  135.931707    0.000000  5.760531e+05      3.0      8069.0        300   \n",
      "22  183.617771    0.000000  1.294787e+06     38.0     14472.0        300   \n",
      "24  122.476104    0.000000  3.449102e+05    334.0     11060.0        300   \n",
      "26  420.656180   17.262238  2.612942e+06   1412.0     70767.0        300   \n",
      "28  420.344156   29.369654  4.634310e+06     74.0     83032.0        300   \n",
      "30  154.463842    0.000000  5.799357e+05   1156.0     20582.0        300   \n",
      "32  420.095459  114.321223  5.011376e+06    587.0     84619.0        300   \n",
      "36  132.681729    0.000000  1.753367e+05      3.0      2377.0        300   \n",
      "38  299.324360    0.000000  5.279439e+05      3.0     13761.0        300   \n",
      "42  147.889004    0.000000  6.770150e+05     44.0      8951.0        300   \n",
      "48  420.203318    2.305610  1.609151e+06   5753.0    137160.0        300   \n",
      "\n",
      "    heuristics_limit  \n",
      "0                120  \n",
      "2                120  \n",
      "4                120  \n",
      "6                120  \n",
      "8                120  \n",
      "10               120  \n",
      "12               120  \n",
      "14               120  \n",
      "16               120  \n",
      "18               120  \n",
      "20               120  \n",
      "22               120  \n",
      "24               120  \n",
      "26               120  \n",
      "28               120  \n",
      "30               120  \n",
      "32               120  \n",
      "36               120  \n",
      "38               120  \n",
      "42               120  \n",
      "48               120  \n"
     ]
    }
   ],
   "source": [
    "print(df1)"
   ]
  },
  {
   "cell_type": "code",
   "execution_count": 15,
   "id": "649d39e7",
   "metadata": {},
   "outputs": [
    {
     "data": {
      "text/plain": [
       "array([ 1,  2,  3,  4,  5,  6,  7,  8,  9, 10, 11, 12, 13, 14, 15, 16, 17,\n",
       "       19, 20, 22, 25])"
      ]
     },
     "execution_count": 15,
     "metadata": {},
     "output_type": "execute_result"
    }
   ],
   "source": [
    "instances = df1e['ID'].values\n",
    "instances"
   ]
  },
  {
   "cell_type": "code",
   "execution_count": 16,
   "id": "2516a2b0",
   "metadata": {},
   "outputs": [],
   "source": [
    "df1 = df1[df1['ID'].isin(df1e['ID'])]\n",
    "df2 = df2[df2['ID'].isin(df1e['ID'])]"
   ]
  },
  {
   "cell_type": "code",
   "execution_count": null,
   "id": "a3a688e4",
   "metadata": {},
   "outputs": [
    {
     "data": {
      "application/vnd.plotly.v1+json": {
       "config": {
        "plotlyServerURL": "https://plot.ly"
       },
       "data": [
        {
         "customdata": [
          [
           1,
           3,
           "0.22",
           "13.55",
           "13.77"
          ],
          [
           1,
           1111,
           "30.58",
           "72.60",
           "103.18"
          ],
          [
           1,
           86,
           "19.41",
           "120.16",
           "139.57"
          ],
          [
           1,
           80836,
           "300.00",
           "17.44",
           "317.44"
          ],
          [
           1,
           6337,
           "300.01",
           "95.69",
           "395.70"
          ],
          [
           1,
           655,
           "300.00",
           "120.12",
           "420.13"
          ],
          [
           1,
           34208,
           "300.00",
           "18.28",
           "318.28"
          ],
          [
           1,
           718,
           "300.00",
           "111.88",
           "411.88"
          ],
          [
           1,
           702,
           "300.00",
           "120.14",
           "420.15"
          ],
          [
           1,
           55,
           "2.60",
           "89.67",
           "92.26"
          ],
          [
           1,
           3,
           "15.70",
           "120.24",
           "135.93"
          ],
          [
           1,
           38,
           "62.60",
           "121.02",
           "183.62"
          ],
          [
           1,
           334,
           "13.72",
           "108.76",
           "122.48"
          ],
          [
           1,
           1412,
           "300.05",
           "120.60",
           "420.66"
          ],
          [
           1,
           74,
           "300.09",
           "120.25",
           "420.34"
          ],
          [
           1,
           1156,
           "34.44",
           "120.02",
           "154.46"
          ],
          [
           1,
           587,
           "300.04",
           "120.05",
           "420.10"
          ],
          [
           1,
           3,
           "12.13",
           "120.55",
           "132.68"
          ],
          [
           1,
           3,
           "177.94",
           "121.39",
           "299.32"
          ],
          [
           1,
           44,
           "27.61",
           "120.28",
           "147.89"
          ],
          [
           1,
           5753,
           "300.04",
           "120.16",
           "420.20"
          ]
         ],
         "hovertemplate": "Model: %{customdata[0]}<br>ID: %{x}<br>Gap: %{text}%<br>Nodes: %{customdata[1]}<br>Runtime: %{customdata[2]} s<br>Heuristics: %{customdata[3]} s<br>Total Time: %{customdata[4]} s<extra></extra>",
         "marker": {
          "color": "#EF553B"
         },
         "name": "Model 1",
         "offsetgroup": "1",
         "text": [
          "0.00",
          "0.00",
          "0.00",
          "16.93",
          "48.00",
          "87.81",
          "242.12",
          "103.37",
          "124.38",
          "0.00",
          "0.00",
          "0.00",
          "0.00",
          "17.26",
          "29.37",
          "0.00",
          "114.32",
          "0.00",
          "0.00",
          "0.00",
          "2.31"
         ],
         "textposition": "none",
         "type": "bar",
         "x": [
          0,
          1,
          2,
          3,
          4,
          5,
          6,
          7,
          8,
          9,
          10,
          11,
          12,
          13,
          14,
          15,
          16,
          17,
          18,
          19,
          20
         ],
         "y": {
          "bdata": "AAAAAAAAAEAAAAAAAAAAQAAAAAAAAABACtZTWcbuMEBXm8iYMABIQJhTBKvz81VAwZPOmORDbkDbCyDUg9dZQBCpEop3GF9AAAAAAAAAAEAAAAAAAAAAQAAAAAAAAABAAAAAAAAAAECvtXMCIkMxQHYCUZ6hXj1AAAAAAAAAAEAWxUDqjpRcQAAAAAAAAABAAAAAAAAAAEAAAAAAAAAAQBJ/q7njcQJA",
          "dtype": "f8"
         }
        },
        {
         "customdata": [
          [
           1,
           39,
           "0.34",
           "13.01",
           "13.35"
          ],
          [
           1,
           656,
           "17.81",
           "84.48",
           "102.29"
          ],
          [
           1,
           133,
           "19.66",
           "120.05",
           "139.71"
          ],
          [
           1,
           67220,
           "300.00",
           "20.01",
           "320.01"
          ],
          [
           1,
           6445,
           "300.00",
           "96.64",
           "396.65"
          ],
          [
           1,
           706,
           "300.01",
           "120.23",
           "420.24"
          ],
          [
           1,
           34848,
           "300.00",
           "18.04",
           "318.04"
          ],
          [
           1,
           796,
           "300.01",
           "112.42",
           "412.43"
          ],
          [
           1,
           1265,
           "300.01",
           "120.12",
           "420.12"
          ],
          [
           1,
           21,
           "1.67",
           "79.80",
           "81.47"
          ],
          [
           1,
           3,
           "15.82",
           "120.30",
           "136.13"
          ],
          [
           1,
           44,
           "62.14",
           "120.79",
           "182.94"
          ],
          [
           1,
           206,
           "6.82",
           "89.75",
           "96.57"
          ],
          [
           1,
           1626,
           "300.04",
           "120.44",
           "420.48"
          ],
          [
           1,
           140,
           "300.09",
           "120.70",
           "420.79"
          ],
          [
           1,
           23020,
           "300.00",
           "99.02",
           "399.03"
          ],
          [
           1,
           613,
           "300.02",
           "120.35",
           "420.37"
          ],
          [
           1,
           3,
           "8.83",
           "120.23",
           "129.05"
          ],
          [
           1,
           3,
           "169.15",
           "121.97",
           "291.11"
          ],
          [
           1,
           70,
           "30.47",
           "120.54",
           "151.01"
          ],
          [
           1,
           6017,
           "300.04",
           "120.95",
           "420.99"
          ]
         ],
         "hovertemplate": "Model: %{customdata[0]}<br>ID: %{x}<br>Gap: %{text}%<br>Nodes: %{customdata[1]}<br>Runtime: %{customdata[2]} s<br>Heuristics: %{customdata[3]} s<br>Total Time: %{customdata[4]} s<extra></extra>",
         "marker": {
          "color": "#FF6692"
         },
         "name": "Model 1 (no 15)",
         "offsetgroup": "2",
         "text": [
          "0.00",
          "0.00",
          "0.00",
          "11.69",
          "50.32",
          "88.74",
          "262.09",
          "96.82",
          "128.13",
          "0.00",
          "0.00",
          "0.00",
          "0.00",
          "13.52",
          "28.90",
          "6.59",
          "85.51",
          "0.00",
          "0.00",
          "0.00",
          "1.56"
         ],
         "textposition": "none",
         "type": "bar",
         "x": [
          0,
          1,
          2,
          3,
          4,
          5,
          6,
          7,
          8,
          9,
          10,
          11,
          12,
          13,
          14,
          15,
          16,
          17,
          18,
          19,
          20
         ],
         "y": {
          "bdata": "AAAAAAAAAEAAAAAAAAAAQAAAAAAAAABANetegRlgJ0BMj0ZSHilJQLRZ/YANL1ZAMq/eOG5hcEDU+6+qYDRYQPv2MrItBGBAAAAAAAAAAEAAAAAAAAAAQAAAAAAAAABAAAAAAAAAAEBcwcKOngkrQIs4BEQM5zxA/MoKYX9cGkDsjPggWWBVQAAAAAAAAABAAAAAAAAAAEAAAAAAAAAAQEpu+bhR5/g/",
          "dtype": "f8"
         }
        },
        {
         "customdata": [
          [
           2,
           3,
           "0.21",
           "13.55",
           "13.76"
          ],
          [
           2,
           63,
           "5.92",
           "72.60",
           "78.51"
          ],
          [
           2,
           102,
           "26.48",
           "120.16",
           "146.64"
          ],
          [
           2,
           624,
           "3.65",
           "17.44",
           "21.08"
          ],
          [
           2,
           1788,
           "300.00",
           "95.69",
           "395.69"
          ],
          [
           2,
           231,
           "300.04",
           "120.12",
           "420.16"
          ],
          [
           2,
           22890,
           "300.00",
           "18.28",
           "318.28"
          ],
          [
           2,
           547,
           "300.01",
           "111.88",
           "411.89"
          ],
          [
           2,
           1,
           "300.07",
           "120.14",
           "420.22"
          ],
          [
           2,
           55,
           "2.33",
           "89.67",
           "91.99"
          ],
          [
           2,
           3,
           "16.50",
           "120.24",
           "136.73"
          ],
          [
           2,
           43,
           "72.68",
           "121.02",
           "193.70"
          ],
          [
           2,
           260,
           "10.38",
           "108.76",
           "119.14"
          ],
          [
           2,
           1323,
           "300.04",
           "120.60",
           "420.64"
          ],
          [
           2,
           1,
           "300.28",
           "120.25",
           "420.53"
          ],
          [
           2,
           1179,
           "38.46",
           "120.02",
           "158.48"
          ],
          [
           2,
           314,
           "300.05",
           "120.05",
           "420.11"
          ],
          [
           2,
           3,
           "14.09",
           "120.55",
           "134.64"
          ],
          [
           2,
           3,
           "140.89",
           "121.39",
           "262.27"
          ],
          [
           2,
           51,
           "27.68",
           "120.28",
           "147.96"
          ],
          [
           2,
           5382,
           "300.04",
           "120.16",
           "420.20"
          ]
         ],
         "hovertemplate": "Model: %{customdata[0]}<br>ID: %{x}<br>Gap: %{text}%<br>Nodes: %{customdata[1]}<br>Runtime: %{customdata[2]} s<br>Heuristics: %{customdata[3]} s<br>Total Time: %{customdata[4]} s<extra></extra>",
         "marker": {
          "color": "#00CC96"
         },
         "name": "Model 2",
         "offsetgroup": "3",
         "text": [
          "0.00",
          "0.00",
          "0.00",
          "0.00",
          "55.18",
          "114.02",
          "248.45",
          "140.45",
          "929.74",
          "0.00",
          "0.00",
          "0.00",
          "0.00",
          "25.98",
          "352.86",
          "0.00",
          "113.40",
          "0.00",
          "0.00",
          "0.00",
          "2.67"
         ],
         "textposition": "none",
         "type": "bar",
         "x": [
          0,
          1,
          2,
          3,
          4,
          5,
          6,
          7,
          8,
          9,
          10,
          11,
          12,
          13,
          14,
          15,
          16,
          17,
          18,
          19,
          20
         ],
         "y": {
          "bdata": "AAAAAAAAAEAAAAAAAAAAQAAAAAAAAABAAAAAAAAAAECMzmyhkZdLQFdolgeAgVxAi1IXwoEOb0D0Vc/8dY5hQMNoiMHyDY1AAAAAAAAAAEAAAAAAAAAAQAAAAAAAAABAAAAAAAAAAEDOqnL5nfs5QDD8jCa8DXZAAAAAAAAAAEB5Z2DEhllcQAAAAAAAAABAAAAAAAAAAEAAAAAAAAAAQOSedBmmUgVA",
          "dtype": "f8"
         }
        },
        {
         "customdata": [
          [
           2,
           39,
           "0.33",
           "13.01",
           "13.34"
          ],
          [
           2,
           847,
           "34.26",
           "84.48",
           "118.74"
          ],
          [
           2,
           119,
           "29.68",
           "120.05",
           "149.73"
          ],
          [
           2,
           67249,
           "300.00",
           "20.01",
           "320.01"
          ],
          [
           2,
           1778,
           "300.02",
           "96.64",
           "396.66"
          ],
          [
           2,
           206,
           "300.02",
           "120.23",
           "420.25"
          ],
          [
           2,
           20153,
           "300.00",
           "18.04",
           "318.04"
          ],
          [
           2,
           530,
           "300.00",
           "112.42",
           "412.43"
          ],
          [
           2,
           1,
           "300.02",
           "120.12",
           "420.14"
          ],
          [
           2,
           21,
           "1.70",
           "79.80",
           "81.49"
          ],
          [
           2,
           3,
           "15.35",
           "120.30",
           "135.65"
          ],
          [
           2,
           59,
           "63.82",
           "120.79",
           "184.62"
          ],
          [
           2,
           191,
           "7.60",
           "89.75",
           "97.35"
          ],
          [
           2,
           1442,
           "300.04",
           "120.44",
           "420.48"
          ],
          [
           2,
           1,
           "300.24",
           "120.70",
           "420.94"
          ],
          [
           2,
           22246,
           "300.00",
           "99.02",
           "399.03"
          ],
          [
           2,
           508,
           "300.02",
           "120.35",
           "420.37"
          ],
          [
           2,
           3,
           "9.26",
           "120.23",
           "129.49"
          ],
          [
           2,
           3,
           "177.10",
           "121.97",
           "299.06"
          ],
          [
           2,
           56,
           "25.88",
           "120.54",
           "146.42"
          ],
          [
           2,
           5703,
           "300.04",
           "120.95",
           "420.99"
          ]
         ],
         "hovertemplate": "Model: %{customdata[0]}<br>ID: %{x}<br>Gap: %{text}%<br>Nodes: %{customdata[1]}<br>Runtime: %{customdata[2]} s<br>Heuristics: %{customdata[3]} s<br>Total Time: %{customdata[4]} s<extra></extra>",
         "marker": {
          "color": "#B6E880"
         },
         "name": "Model 2 (no 15)",
         "offsetgroup": "4",
         "text": [
          "0.00",
          "0.00",
          "0.00",
          "13.91",
          "54.91",
          "114.11",
          "265.26",
          "139.30",
          "924.97",
          "0.00",
          "0.00",
          "0.00",
          "0.00",
          "15.64",
          "437.20",
          "8.89",
          "114.46",
          "0.00",
          "0.00",
          "0.00",
          "2.68"
         ],
         "textposition": "none",
         "type": "bar",
         "x": [
          0,
          1,
          2,
          3,
          4,
          5,
          6,
          7,
          8,
          9,
          10,
          11,
          12,
          13,
          14,
          15,
          16,
          17,
          18,
          19,
          20
         ],
         "y": {
          "bdata": "AAAAAAAAAEAAAAAAAAAAQAAAAAAAAABAVJurrqjQK0D4R63EDXRLQBLp4CYEh1xA2slLxjyUcECIfT9kqmlhQNE51drB54xAAAAAAAAAAEAAAAAAAAAAQAAAAAAAAABAAAAAAAAAAECqE6pMYkgvQBvM3J0iU3tAnZs6RIzIIUA7pITfhZ1cQAAAAAAAAABAAAAAAAAAAEAAAAAAAAAAQDpcEfhWcQVA",
          "dtype": "f8"
         }
        }
       ],
       "layout": {
        "autosize": true,
        "barmode": "group",
        "legend": {
         "bgcolor": "rgba(255, 255, 255, 0.5)",
         "x": 0.01,
         "xanchor": "left",
         "y": 0.99,
         "yanchor": "top"
        },
        "margin": {
         "b": 10,
         "l": 10,
         "r": 10,
         "t": 10
        },
        "template": {
         "data": {
          "bar": [
           {
            "error_x": {
             "color": "#2a3f5f"
            },
            "error_y": {
             "color": "#2a3f5f"
            },
            "marker": {
             "line": {
              "color": "#E5ECF6",
              "width": 0.5
             },
             "pattern": {
              "fillmode": "overlay",
              "size": 10,
              "solidity": 0.2
             }
            },
            "type": "bar"
           }
          ],
          "barpolar": [
           {
            "marker": {
             "line": {
              "color": "#E5ECF6",
              "width": 0.5
             },
             "pattern": {
              "fillmode": "overlay",
              "size": 10,
              "solidity": 0.2
             }
            },
            "type": "barpolar"
           }
          ],
          "carpet": [
           {
            "aaxis": {
             "endlinecolor": "#2a3f5f",
             "gridcolor": "white",
             "linecolor": "white",
             "minorgridcolor": "white",
             "startlinecolor": "#2a3f5f"
            },
            "baxis": {
             "endlinecolor": "#2a3f5f",
             "gridcolor": "white",
             "linecolor": "white",
             "minorgridcolor": "white",
             "startlinecolor": "#2a3f5f"
            },
            "type": "carpet"
           }
          ],
          "choropleth": [
           {
            "colorbar": {
             "outlinewidth": 0,
             "ticks": ""
            },
            "type": "choropleth"
           }
          ],
          "contour": [
           {
            "colorbar": {
             "outlinewidth": 0,
             "ticks": ""
            },
            "colorscale": [
             [
              0,
              "#0d0887"
             ],
             [
              0.1111111111111111,
              "#46039f"
             ],
             [
              0.2222222222222222,
              "#7201a8"
             ],
             [
              0.3333333333333333,
              "#9c179e"
             ],
             [
              0.4444444444444444,
              "#bd3786"
             ],
             [
              0.5555555555555556,
              "#d8576b"
             ],
             [
              0.6666666666666666,
              "#ed7953"
             ],
             [
              0.7777777777777778,
              "#fb9f3a"
             ],
             [
              0.8888888888888888,
              "#fdca26"
             ],
             [
              1,
              "#f0f921"
             ]
            ],
            "type": "contour"
           }
          ],
          "contourcarpet": [
           {
            "colorbar": {
             "outlinewidth": 0,
             "ticks": ""
            },
            "type": "contourcarpet"
           }
          ],
          "heatmap": [
           {
            "colorbar": {
             "outlinewidth": 0,
             "ticks": ""
            },
            "colorscale": [
             [
              0,
              "#0d0887"
             ],
             [
              0.1111111111111111,
              "#46039f"
             ],
             [
              0.2222222222222222,
              "#7201a8"
             ],
             [
              0.3333333333333333,
              "#9c179e"
             ],
             [
              0.4444444444444444,
              "#bd3786"
             ],
             [
              0.5555555555555556,
              "#d8576b"
             ],
             [
              0.6666666666666666,
              "#ed7953"
             ],
             [
              0.7777777777777778,
              "#fb9f3a"
             ],
             [
              0.8888888888888888,
              "#fdca26"
             ],
             [
              1,
              "#f0f921"
             ]
            ],
            "type": "heatmap"
           }
          ],
          "histogram": [
           {
            "marker": {
             "pattern": {
              "fillmode": "overlay",
              "size": 10,
              "solidity": 0.2
             }
            },
            "type": "histogram"
           }
          ],
          "histogram2d": [
           {
            "colorbar": {
             "outlinewidth": 0,
             "ticks": ""
            },
            "colorscale": [
             [
              0,
              "#0d0887"
             ],
             [
              0.1111111111111111,
              "#46039f"
             ],
             [
              0.2222222222222222,
              "#7201a8"
             ],
             [
              0.3333333333333333,
              "#9c179e"
             ],
             [
              0.4444444444444444,
              "#bd3786"
             ],
             [
              0.5555555555555556,
              "#d8576b"
             ],
             [
              0.6666666666666666,
              "#ed7953"
             ],
             [
              0.7777777777777778,
              "#fb9f3a"
             ],
             [
              0.8888888888888888,
              "#fdca26"
             ],
             [
              1,
              "#f0f921"
             ]
            ],
            "type": "histogram2d"
           }
          ],
          "histogram2dcontour": [
           {
            "colorbar": {
             "outlinewidth": 0,
             "ticks": ""
            },
            "colorscale": [
             [
              0,
              "#0d0887"
             ],
             [
              0.1111111111111111,
              "#46039f"
             ],
             [
              0.2222222222222222,
              "#7201a8"
             ],
             [
              0.3333333333333333,
              "#9c179e"
             ],
             [
              0.4444444444444444,
              "#bd3786"
             ],
             [
              0.5555555555555556,
              "#d8576b"
             ],
             [
              0.6666666666666666,
              "#ed7953"
             ],
             [
              0.7777777777777778,
              "#fb9f3a"
             ],
             [
              0.8888888888888888,
              "#fdca26"
             ],
             [
              1,
              "#f0f921"
             ]
            ],
            "type": "histogram2dcontour"
           }
          ],
          "mesh3d": [
           {
            "colorbar": {
             "outlinewidth": 0,
             "ticks": ""
            },
            "type": "mesh3d"
           }
          ],
          "parcoords": [
           {
            "line": {
             "colorbar": {
              "outlinewidth": 0,
              "ticks": ""
             }
            },
            "type": "parcoords"
           }
          ],
          "pie": [
           {
            "automargin": true,
            "type": "pie"
           }
          ],
          "scatter": [
           {
            "fillpattern": {
             "fillmode": "overlay",
             "size": 10,
             "solidity": 0.2
            },
            "type": "scatter"
           }
          ],
          "scatter3d": [
           {
            "line": {
             "colorbar": {
              "outlinewidth": 0,
              "ticks": ""
             }
            },
            "marker": {
             "colorbar": {
              "outlinewidth": 0,
              "ticks": ""
             }
            },
            "type": "scatter3d"
           }
          ],
          "scattercarpet": [
           {
            "marker": {
             "colorbar": {
              "outlinewidth": 0,
              "ticks": ""
             }
            },
            "type": "scattercarpet"
           }
          ],
          "scattergeo": [
           {
            "marker": {
             "colorbar": {
              "outlinewidth": 0,
              "ticks": ""
             }
            },
            "type": "scattergeo"
           }
          ],
          "scattergl": [
           {
            "marker": {
             "colorbar": {
              "outlinewidth": 0,
              "ticks": ""
             }
            },
            "type": "scattergl"
           }
          ],
          "scattermap": [
           {
            "marker": {
             "colorbar": {
              "outlinewidth": 0,
              "ticks": ""
             }
            },
            "type": "scattermap"
           }
          ],
          "scattermapbox": [
           {
            "marker": {
             "colorbar": {
              "outlinewidth": 0,
              "ticks": ""
             }
            },
            "type": "scattermapbox"
           }
          ],
          "scatterpolar": [
           {
            "marker": {
             "colorbar": {
              "outlinewidth": 0,
              "ticks": ""
             }
            },
            "type": "scatterpolar"
           }
          ],
          "scatterpolargl": [
           {
            "marker": {
             "colorbar": {
              "outlinewidth": 0,
              "ticks": ""
             }
            },
            "type": "scatterpolargl"
           }
          ],
          "scatterternary": [
           {
            "marker": {
             "colorbar": {
              "outlinewidth": 0,
              "ticks": ""
             }
            },
            "type": "scatterternary"
           }
          ],
          "surface": [
           {
            "colorbar": {
             "outlinewidth": 0,
             "ticks": ""
            },
            "colorscale": [
             [
              0,
              "#0d0887"
             ],
             [
              0.1111111111111111,
              "#46039f"
             ],
             [
              0.2222222222222222,
              "#7201a8"
             ],
             [
              0.3333333333333333,
              "#9c179e"
             ],
             [
              0.4444444444444444,
              "#bd3786"
             ],
             [
              0.5555555555555556,
              "#d8576b"
             ],
             [
              0.6666666666666666,
              "#ed7953"
             ],
             [
              0.7777777777777778,
              "#fb9f3a"
             ],
             [
              0.8888888888888888,
              "#fdca26"
             ],
             [
              1,
              "#f0f921"
             ]
            ],
            "type": "surface"
           }
          ],
          "table": [
           {
            "cells": {
             "fill": {
              "color": "#EBF0F8"
             },
             "line": {
              "color": "white"
             }
            },
            "header": {
             "fill": {
              "color": "#C8D4E3"
             },
             "line": {
              "color": "white"
             }
            },
            "type": "table"
           }
          ]
         },
         "layout": {
          "annotationdefaults": {
           "arrowcolor": "#2a3f5f",
           "arrowhead": 0,
           "arrowwidth": 1
          },
          "autotypenumbers": "strict",
          "coloraxis": {
           "colorbar": {
            "outlinewidth": 0,
            "ticks": ""
           }
          },
          "colorscale": {
           "diverging": [
            [
             0,
             "#8e0152"
            ],
            [
             0.1,
             "#c51b7d"
            ],
            [
             0.2,
             "#de77ae"
            ],
            [
             0.3,
             "#f1b6da"
            ],
            [
             0.4,
             "#fde0ef"
            ],
            [
             0.5,
             "#f7f7f7"
            ],
            [
             0.6,
             "#e6f5d0"
            ],
            [
             0.7,
             "#b8e186"
            ],
            [
             0.8,
             "#7fbc41"
            ],
            [
             0.9,
             "#4d9221"
            ],
            [
             1,
             "#276419"
            ]
           ],
           "sequential": [
            [
             0,
             "#0d0887"
            ],
            [
             0.1111111111111111,
             "#46039f"
            ],
            [
             0.2222222222222222,
             "#7201a8"
            ],
            [
             0.3333333333333333,
             "#9c179e"
            ],
            [
             0.4444444444444444,
             "#bd3786"
            ],
            [
             0.5555555555555556,
             "#d8576b"
            ],
            [
             0.6666666666666666,
             "#ed7953"
            ],
            [
             0.7777777777777778,
             "#fb9f3a"
            ],
            [
             0.8888888888888888,
             "#fdca26"
            ],
            [
             1,
             "#f0f921"
            ]
           ],
           "sequentialminus": [
            [
             0,
             "#0d0887"
            ],
            [
             0.1111111111111111,
             "#46039f"
            ],
            [
             0.2222222222222222,
             "#7201a8"
            ],
            [
             0.3333333333333333,
             "#9c179e"
            ],
            [
             0.4444444444444444,
             "#bd3786"
            ],
            [
             0.5555555555555556,
             "#d8576b"
            ],
            [
             0.6666666666666666,
             "#ed7953"
            ],
            [
             0.7777777777777778,
             "#fb9f3a"
            ],
            [
             0.8888888888888888,
             "#fdca26"
            ],
            [
             1,
             "#f0f921"
            ]
           ]
          },
          "colorway": [
           "#636efa",
           "#EF553B",
           "#00cc96",
           "#ab63fa",
           "#FFA15A",
           "#19d3f3",
           "#FF6692",
           "#B6E880",
           "#FF97FF",
           "#FECB52"
          ],
          "font": {
           "color": "#2a3f5f"
          },
          "geo": {
           "bgcolor": "white",
           "lakecolor": "white",
           "landcolor": "#E5ECF6",
           "showlakes": true,
           "showland": true,
           "subunitcolor": "white"
          },
          "hoverlabel": {
           "align": "left"
          },
          "hovermode": "closest",
          "mapbox": {
           "style": "light"
          },
          "paper_bgcolor": "white",
          "plot_bgcolor": "#E5ECF6",
          "polar": {
           "angularaxis": {
            "gridcolor": "white",
            "linecolor": "white",
            "ticks": ""
           },
           "bgcolor": "#E5ECF6",
           "radialaxis": {
            "gridcolor": "white",
            "linecolor": "white",
            "ticks": ""
           }
          },
          "scene": {
           "xaxis": {
            "backgroundcolor": "#E5ECF6",
            "gridcolor": "white",
            "gridwidth": 2,
            "linecolor": "white",
            "showbackground": true,
            "ticks": "",
            "zerolinecolor": "white"
           },
           "yaxis": {
            "backgroundcolor": "#E5ECF6",
            "gridcolor": "white",
            "gridwidth": 2,
            "linecolor": "white",
            "showbackground": true,
            "ticks": "",
            "zerolinecolor": "white"
           },
           "zaxis": {
            "backgroundcolor": "#E5ECF6",
            "gridcolor": "white",
            "gridwidth": 2,
            "linecolor": "white",
            "showbackground": true,
            "ticks": "",
            "zerolinecolor": "white"
           }
          },
          "shapedefaults": {
           "line": {
            "color": "#2a3f5f"
           }
          },
          "ternary": {
           "aaxis": {
            "gridcolor": "white",
            "linecolor": "white",
            "ticks": ""
           },
           "baxis": {
            "gridcolor": "white",
            "linecolor": "white",
            "ticks": ""
           },
           "bgcolor": "#E5ECF6",
           "caxis": {
            "gridcolor": "white",
            "linecolor": "white",
            "ticks": ""
           }
          },
          "title": {
           "x": 0.05
          },
          "xaxis": {
           "automargin": true,
           "gridcolor": "white",
           "linecolor": "white",
           "ticks": "",
           "title": {
            "standoff": 15
           },
           "zerolinecolor": "white",
           "zerolinewidth": 2
          },
          "yaxis": {
           "automargin": true,
           "gridcolor": "white",
           "linecolor": "white",
           "ticks": "",
           "title": {
            "standoff": 15
           },
           "zerolinecolor": "white",
           "zerolinewidth": 2
          }
         }
        },
        "xaxis": {
         "tickmode": "array",
         "ticktext": [
          1,
          2,
          3,
          4,
          5,
          6,
          7,
          8,
          9,
          10,
          11,
          12,
          13,
          14,
          15,
          16,
          17,
          19,
          20,
          22,
          25
         ],
         "tickvals": [
          0,
          1,
          2,
          3,
          4,
          5,
          6,
          7,
          8,
          9,
          10,
          11,
          12,
          13,
          14,
          15,
          16,
          17,
          18,
          19,
          20
         ],
         "title": {
          "text": "Problem Instance (ID)"
         }
        },
        "yaxis": {
         "range": [
          -0.05,
          300
         ],
         "ticktext": [
          "0%",
          "50%",
          "100%",
          "150%",
          "200%",
          "250%",
          "300%"
         ],
         "tickvals": [
          0,
          50,
          100,
          150,
          200,
          250,
          300
         ],
         "title": {
          "text": "Gap (%)"
         }
        }
       }
      }
     },
     "metadata": {},
     "output_type": "display_data"
    }
   ],
   "source": [
    "import plotly.graph_objects as go\n",
    "\n",
    "# Create bar plot with visible zeros\n",
    "hovertemplate_text='Model: %{customdata[0]}<br>ID: %{x}<br>Gap: %{text}%<br>Nodes: %{customdata[1]}<br>Runtime: %{customdata[2]} s<br>Heuristics: %{customdata[3]} s<br>Total Time: %{customdata[4]} s<extra></extra>'\n",
    "\n",
    "positions = list(range(len(df1)))\n",
    "max_gap = 300\n",
    "\n",
    "\n",
    "fig = go.Figure()\n",
    "\n",
    "fig.add_trace(\n",
    "    go.Bar(\n",
    "        name='Model 1',\n",
    "        x=positions,\n",
    "        y=add_offset_to_zeros(df1['gap'])[0],\n",
    "        text=df1['gap'].apply(lambda x: f'{x:.2f}'),\n",
    "        marker_color=colormap[1],\n",
    "        customdata=np.dstack((\n",
    "            df1['model'], \n",
    "            df1['nodes'], \n",
    "            df1['runtime'].apply(lambda x: f'{x:.2f}'),\n",
    "            df1['heuristics_time'].apply(lambda x: f'{x:.2f}'),\n",
    "            df1['total_time'].apply(lambda x: f'{x:.2f}')\n",
    "        ))[0],\n",
    "        textposition='none',\n",
    "        hovertemplate=hovertemplate_text,\n",
    "        offsetgroup='1'\n",
    "    )\n",
    ")\n",
    "fig.add_trace(\n",
    "    go.Bar(\n",
    "        name='Model 1 (no 15)',\n",
    "        x=positions,\n",
    "        y=add_offset_to_zeros(df1e['gap'])[0],\n",
    "        text=df1e['gap'].apply(lambda x: f'{x:.2f}'),\n",
    "        marker_color=colormap[6],\n",
    "        customdata=np.dstack((\n",
    "            df1e['model'], \n",
    "            df1e['nodes'], \n",
    "            df1e['runtime'].apply(lambda x: f'{x:.2f}'),\n",
    "            df1e['heuristics_time'].apply(lambda x: f'{x:.2f}'),\n",
    "            df1e['total_time'].apply(lambda x: f'{x:.2f}')\n",
    "        ))[0],\n",
    "        textposition='none',\n",
    "        hovertemplate=hovertemplate_text,\n",
    "        offsetgroup='2'\n",
    "    )\n",
    ")\n",
    "fig.add_trace(\n",
    "    go.Bar(\n",
    "        name='Model 2',\n",
    "        x=positions,\n",
    "        y=add_offset_to_zeros(df2['gap'])[0],\n",
    "        text=df2['gap'].apply(lambda x: f'{x:.2f}'),\n",
    "        marker_color=colormap[2],\n",
    "        customdata=np.dstack((\n",
    "            df2['model'], \n",
    "            df2['nodes'], \n",
    "            df2['runtime'].apply(lambda x: f'{x:.2f}'),\n",
    "            df2['heuristics_time'].apply(lambda x: f'{x:.2f}'),\n",
    "            df2['total_time'].apply(lambda x: f'{x:.2f}')\n",
    "        ))[0],\n",
    "        textposition='none',\n",
    "        hovertemplate=hovertemplate_text,\n",
    "        offsetgroup='3'\n",
    "    )\n",
    ")\n",
    "\n",
    "fig.add_trace(\n",
    "    go.Bar(\n",
    "        name='Model 2 (no 15)',\n",
    "        x=positions,\n",
    "        y=add_offset_to_zeros(df2e['gap'])[0],\n",
    "        text=df2e['gap'].apply(lambda x: f'{x:.2f}'),\n",
    "        marker_color=colormap[7],\n",
    "        customdata=np.dstack((\n",
    "            df2e['model'], \n",
    "            df2e['nodes'], \n",
    "            df2e['runtime'].apply(lambda x: f'{x:.2f}'),\n",
    "            df2e['heuristics_time'].apply(lambda x: f'{x:.2f}'),\n",
    "            df2e['total_time'].apply(lambda x: f'{x:.2f}')\n",
    "        ))[0],\n",
    "        textposition='none',\n",
    "        hovertemplate=hovertemplate_text,\n",
    "        offsetgroup='4'\n",
    "    )\n",
    ")\n",
    "\n",
    "\n",
    "\n",
    "fig.update_layout(\n",
    "    autosize=True,\n",
    "    margin=dict(l=10, r=10, t=10, b=10),\n",
    "    barmode='group',\n",
    "    yaxis = dict(\n",
    "        range=[-0.05, max_gap],\n",
    "        title = 'Gap (%)',\n",
    "        tickvals = list(range(0, max_gap + 1, 50)),\n",
    "        ticktext = [str(i) + '%' for i in range(0, max_gap + 1, 50)],\n",
    "    ),\n",
    "    xaxis = dict(\n",
    "        title = 'Problem Instance (ID)',\n",
    "        tickmode = 'array',\n",
    "        tickvals = positions,\n",
    "        ticktext = list(instances),\n",
    "    ),\n",
    "    legend=dict(\n",
    "        x=0.01,\n",
    "        y=0.99,\n",
    "        xanchor='left',\n",
    "        yanchor='top',\n",
    "        bgcolor='rgba(255, 255, 255, 0.5)'\n",
    "    )\n",
    ")\n",
    "\n",
    "fig.show()\n",
    "\n",
    "# # Save as HTML\n",
    "# div_schedule = plot(\n",
    "#     fig, include_plotlyjs=True, config={\"responsive\": True}, output_type=\"div\"\n",
    "# )\n",
    "# with open('../docs/images/comparison-solutions-gap.html', 'w') as f:\n",
    "#     f.write(div_schedule)"
   ]
  },
  {
   "cell_type": "code",
   "execution_count": null,
   "id": "232b5041",
   "metadata": {},
   "outputs": [
    {
     "data": {
      "application/vnd.plotly.v1+json": {
       "config": {
        "plotlyServerURL": "https://plot.ly"
       },
       "data": [
        {
         "customdata": [
          [
           1,
           3,
           "0.22",
           "13.55",
           "13.77"
          ],
          [
           1,
           1111,
           "30.58",
           "72.60",
           "103.18"
          ],
          [
           1,
           86,
           "19.41",
           "120.16",
           "139.57"
          ],
          [
           1,
           80836,
           "300.00",
           "17.44",
           "317.44"
          ],
          [
           1,
           6337,
           "300.01",
           "95.69",
           "395.70"
          ],
          [
           1,
           655,
           "300.00",
           "120.12",
           "420.13"
          ],
          [
           1,
           34208,
           "300.00",
           "18.28",
           "318.28"
          ],
          [
           1,
           718,
           "300.00",
           "111.88",
           "411.88"
          ],
          [
           1,
           702,
           "300.00",
           "120.14",
           "420.15"
          ],
          [
           1,
           55,
           "2.60",
           "89.67",
           "92.26"
          ],
          [
           1,
           3,
           "15.70",
           "120.24",
           "135.93"
          ],
          [
           1,
           38,
           "62.60",
           "121.02",
           "183.62"
          ],
          [
           1,
           334,
           "13.72",
           "108.76",
           "122.48"
          ],
          [
           1,
           1412,
           "300.05",
           "120.60",
           "420.66"
          ],
          [
           1,
           74,
           "300.09",
           "120.25",
           "420.34"
          ],
          [
           1,
           1156,
           "34.44",
           "120.02",
           "154.46"
          ],
          [
           1,
           587,
           "300.04",
           "120.05",
           "420.10"
          ],
          [
           1,
           3,
           "12.13",
           "120.55",
           "132.68"
          ],
          [
           1,
           3,
           "177.94",
           "121.39",
           "299.32"
          ],
          [
           1,
           44,
           "27.61",
           "120.28",
           "147.89"
          ],
          [
           1,
           5753,
           "300.04",
           "120.16",
           "420.20"
          ]
         ],
         "hovertemplate": "Model: %{customdata[0]}<br>ID: %{x}<br>Gap: %{text}%<br>Nodes: %{customdata[1]}<br>Runtime: %{customdata[2]} s<br>Heuristics: %{customdata[3]} s<br>Total Time: %{customdata[4]} s<extra></extra>",
         "marker": {
          "color": "#EF553B"
         },
         "name": "Model 1",
         "offsetgroup": "1",
         "text": [
          "0.00",
          "0.00",
          "0.00",
          "16.93",
          "48.00",
          "87.81",
          "242.12",
          "103.37",
          "124.38",
          "0.00",
          "0.00",
          "0.00",
          "0.00",
          "17.26",
          "29.37",
          "0.00",
          "114.32",
          "0.00",
          "0.00",
          "0.00",
          "2.31"
         ],
         "textposition": "none",
         "type": "bar",
         "x": [
          0,
          1,
          2,
          3,
          4,
          5,
          6,
          7,
          8,
          9,
          10,
          11,
          12,
          13,
          14,
          15,
          16,
          17,
          18,
          19,
          20
         ],
         "y": {
          "bdata": "AAAAAAAACEAAAAAAAFyRQAAAAAAAgFVAAAAAAEC880AAAAAAAMG4QAAAAAAAeIRAAAAAAAC04EAAAAAAAHCGQAAAAAAA8IVAAAAAAACAS0AAAAAAAAAIQAAAAAAAAENAAAAAAADgdEAAAAAAABCWQAAAAAAAgFJAAAAAAAAQkkAAAAAAAFiCQAAAAAAAAAhAAAAAAAAACEAAAAAAAABGQAAAAAAAebZA",
          "dtype": "f8"
         }
        },
        {
         "customdata": [
          [
           1,
           39,
           "0.34",
           "13.01",
           "13.35"
          ],
          [
           1,
           656,
           "17.81",
           "84.48",
           "102.29"
          ],
          [
           1,
           133,
           "19.66",
           "120.05",
           "139.71"
          ],
          [
           1,
           67220,
           "300.00",
           "20.01",
           "320.01"
          ],
          [
           1,
           6445,
           "300.00",
           "96.64",
           "396.65"
          ],
          [
           1,
           706,
           "300.01",
           "120.23",
           "420.24"
          ],
          [
           1,
           34848,
           "300.00",
           "18.04",
           "318.04"
          ],
          [
           1,
           796,
           "300.01",
           "112.42",
           "412.43"
          ],
          [
           1,
           1265,
           "300.01",
           "120.12",
           "420.12"
          ],
          [
           1,
           21,
           "1.67",
           "79.80",
           "81.47"
          ],
          [
           1,
           3,
           "15.82",
           "120.30",
           "136.13"
          ],
          [
           1,
           44,
           "62.14",
           "120.79",
           "182.94"
          ],
          [
           1,
           206,
           "6.82",
           "89.75",
           "96.57"
          ],
          [
           1,
           1626,
           "300.04",
           "120.44",
           "420.48"
          ],
          [
           1,
           140,
           "300.09",
           "120.70",
           "420.79"
          ],
          [
           1,
           23020,
           "300.00",
           "99.02",
           "399.03"
          ],
          [
           1,
           613,
           "300.02",
           "120.35",
           "420.37"
          ],
          [
           1,
           3,
           "8.83",
           "120.23",
           "129.05"
          ],
          [
           1,
           3,
           "169.15",
           "121.97",
           "291.11"
          ],
          [
           1,
           70,
           "30.47",
           "120.54",
           "151.01"
          ],
          [
           1,
           6017,
           "300.04",
           "120.95",
           "420.99"
          ]
         ],
         "hovertemplate": "Model: %{customdata[0]}<br>ID: %{x}<br>Gap: %{text}%<br>Nodes: %{customdata[1]}<br>Runtime: %{customdata[2]} s<br>Heuristics: %{customdata[3]} s<br>Total Time: %{customdata[4]} s<extra></extra>",
         "marker": {
          "color": "#FF6692"
         },
         "name": "Model 1 (no 15)",
         "offsetgroup": "2",
         "text": [
          "0.00",
          "0.00",
          "0.00",
          "11.69",
          "50.32",
          "88.74",
          "262.09",
          "96.82",
          "128.13",
          "0.00",
          "0.00",
          "0.00",
          "0.00",
          "13.52",
          "28.90",
          "6.59",
          "85.51",
          "0.00",
          "0.00",
          "0.00",
          "1.56"
         ],
         "textposition": "none",
         "type": "bar",
         "x": [
          0,
          1,
          2,
          3,
          4,
          5,
          6,
          7,
          8,
          9,
          10,
          11,
          12,
          13,
          14,
          15,
          16,
          17,
          18,
          19,
          20
         ],
         "y": {
          "bdata": "AAAAAACAQ0AAAAAAAICEQAAAAAAAoGBAAAAAAEBp8EAAAAAAAC25QAAAAAAAEIZAAAAAAAAE4UAAAAAAAOCIQAAAAAAAxJNAAAAAAAAANUAAAAAAAAAIQAAAAAAAAEZAAAAAAADAaUAAAAAAAGiZQAAAAAAAgGFAAAAAAAB71kAAAAAAACiDQAAAAAAAAAhAAAAAAAAACEAAAAAAAIBRQAAAAAAAgbdA",
          "dtype": "f8"
         }
        },
        {
         "customdata": [
          [
           2,
           3,
           "0.21",
           "13.55",
           "13.76"
          ],
          [
           2,
           63,
           "5.92",
           "72.60",
           "78.51"
          ],
          [
           2,
           102,
           "26.48",
           "120.16",
           "146.64"
          ],
          [
           2,
           624,
           "3.65",
           "17.44",
           "21.08"
          ],
          [
           2,
           1788,
           "300.00",
           "95.69",
           "395.69"
          ],
          [
           2,
           231,
           "300.04",
           "120.12",
           "420.16"
          ],
          [
           2,
           22890,
           "300.00",
           "18.28",
           "318.28"
          ],
          [
           2,
           547,
           "300.01",
           "111.88",
           "411.89"
          ],
          [
           2,
           1,
           "300.07",
           "120.14",
           "420.22"
          ],
          [
           2,
           55,
           "2.33",
           "89.67",
           "91.99"
          ],
          [
           2,
           3,
           "16.50",
           "120.24",
           "136.73"
          ],
          [
           2,
           43,
           "72.68",
           "121.02",
           "193.70"
          ],
          [
           2,
           260,
           "10.38",
           "108.76",
           "119.14"
          ],
          [
           2,
           1323,
           "300.04",
           "120.60",
           "420.64"
          ],
          [
           2,
           1,
           "300.28",
           "120.25",
           "420.53"
          ],
          [
           2,
           1179,
           "38.46",
           "120.02",
           "158.48"
          ],
          [
           2,
           314,
           "300.05",
           "120.05",
           "420.11"
          ],
          [
           2,
           3,
           "14.09",
           "120.55",
           "134.64"
          ],
          [
           2,
           3,
           "140.89",
           "121.39",
           "262.27"
          ],
          [
           2,
           51,
           "27.68",
           "120.28",
           "147.96"
          ],
          [
           2,
           5382,
           "300.04",
           "120.16",
           "420.20"
          ]
         ],
         "hovertemplate": "Model: %{customdata[0]}<br>ID: %{x}<br>Gap: %{text}%<br>Nodes: %{customdata[1]}<br>Runtime: %{customdata[2]} s<br>Heuristics: %{customdata[3]} s<br>Total Time: %{customdata[4]} s<extra></extra>",
         "marker": {
          "color": "#00CC96"
         },
         "name": "Model 2",
         "offsetgroup": "3",
         "text": [
          "0.00",
          "0.00",
          "0.00",
          "0.00",
          "55.18",
          "114.02",
          "248.45",
          "140.45",
          "929.74",
          "0.00",
          "0.00",
          "0.00",
          "0.00",
          "25.98",
          "352.86",
          "0.00",
          "113.40",
          "0.00",
          "0.00",
          "0.00",
          "2.67"
         ],
         "textposition": "none",
         "type": "bar",
         "x": [
          0,
          1,
          2,
          3,
          4,
          5,
          6,
          7,
          8,
          9,
          10,
          11,
          12,
          13,
          14,
          15,
          16,
          17,
          18,
          19,
          20
         ],
         "y": {
          "bdata": "AAAAAAAACEAAAAAAAIBPQAAAAAAAgFlAAAAAAACAg0AAAAAAAPCbQAAAAAAA4GxAAAAAAIBa1kAAAAAAABiBQAAAAAAAAPA/AAAAAACAS0AAAAAAAAAIQAAAAAAAgEVAAAAAAABAcEAAAAAAAKyUQAAAAAAAAPA/AAAAAABskkAAAAAAAKBzQAAAAAAAAAhAAAAAAAAACEAAAAAAAIBJQAAAAAAABrVA",
          "dtype": "f8"
         }
        },
        {
         "customdata": [
          [
           2,
           39,
           "0.33",
           "13.01",
           "13.34"
          ],
          [
           2,
           847,
           "34.26",
           "84.48",
           "118.74"
          ],
          [
           2,
           119,
           "29.68",
           "120.05",
           "149.73"
          ],
          [
           2,
           67249,
           "300.00",
           "20.01",
           "320.01"
          ],
          [
           2,
           1778,
           "300.02",
           "96.64",
           "396.66"
          ],
          [
           2,
           206,
           "300.02",
           "120.23",
           "420.25"
          ],
          [
           2,
           20153,
           "300.00",
           "18.04",
           "318.04"
          ],
          [
           2,
           530,
           "300.00",
           "112.42",
           "412.43"
          ],
          [
           2,
           1,
           "300.02",
           "120.12",
           "420.14"
          ],
          [
           2,
           21,
           "1.70",
           "79.80",
           "81.49"
          ],
          [
           2,
           3,
           "15.35",
           "120.30",
           "135.65"
          ],
          [
           2,
           59,
           "63.82",
           "120.79",
           "184.62"
          ],
          [
           2,
           191,
           "7.60",
           "89.75",
           "97.35"
          ],
          [
           2,
           1442,
           "300.04",
           "120.44",
           "420.48"
          ],
          [
           2,
           1,
           "300.24",
           "120.70",
           "420.94"
          ],
          [
           2,
           22246,
           "300.00",
           "99.02",
           "399.03"
          ],
          [
           2,
           508,
           "300.02",
           "120.35",
           "420.37"
          ],
          [
           2,
           3,
           "9.26",
           "120.23",
           "129.49"
          ],
          [
           2,
           3,
           "177.10",
           "121.97",
           "299.06"
          ],
          [
           2,
           56,
           "25.88",
           "120.54",
           "146.42"
          ],
          [
           2,
           5703,
           "300.04",
           "120.95",
           "420.99"
          ]
         ],
         "hovertemplate": "Model: %{customdata[0]}<br>ID: %{x}<br>Gap: %{text}%<br>Nodes: %{customdata[1]}<br>Runtime: %{customdata[2]} s<br>Heuristics: %{customdata[3]} s<br>Total Time: %{customdata[4]} s<extra></extra>",
         "marker": {
          "color": "#B6E880"
         },
         "name": "Model 2 (no 15)",
         "offsetgroup": "4",
         "text": [
          "0.00",
          "0.00",
          "0.00",
          "13.91",
          "54.91",
          "114.11",
          "265.26",
          "139.30",
          "924.97",
          "0.00",
          "0.00",
          "0.00",
          "0.00",
          "15.64",
          "437.20",
          "8.89",
          "114.46",
          "0.00",
          "0.00",
          "0.00",
          "2.68"
         ],
         "textposition": "none",
         "type": "bar",
         "x": [
          0,
          1,
          2,
          3,
          4,
          5,
          6,
          7,
          8,
          9,
          10,
          11,
          12,
          13,
          14,
          15,
          16,
          17,
          18,
          19,
          20
         ],
         "y": {
          "bdata": "AAAAAACAQ0AAAAAAAHiKQAAAAAAAwF1AAAAAABBr8EAAAAAAAMibQAAAAAAAwGlAAAAAAECu00AAAAAAAJCAQAAAAAAAAPA/AAAAAAAANUAAAAAAAAAIQAAAAAAAgE1AAAAAAADgZ0AAAAAAAIiWQAAAAAAAAPA/AAAAAIC51UAAAAAAAMB/QAAAAAAAAAhAAAAAAAAACEAAAAAAAABMQAAAAAAAR7ZA",
          "dtype": "f8"
         }
        }
       ],
       "layout": {
        "autosize": true,
        "barmode": "group",
        "legend": {
         "bgcolor": "rgba(255, 255, 255, 0.5)",
         "x": 0.01,
         "xanchor": "left",
         "y": 0.99,
         "yanchor": "top"
        },
        "margin": {
         "b": 10,
         "l": 10,
         "r": 10,
         "t": 10
        },
        "template": {
         "data": {
          "bar": [
           {
            "error_x": {
             "color": "#2a3f5f"
            },
            "error_y": {
             "color": "#2a3f5f"
            },
            "marker": {
             "line": {
              "color": "#E5ECF6",
              "width": 0.5
             },
             "pattern": {
              "fillmode": "overlay",
              "size": 10,
              "solidity": 0.2
             }
            },
            "type": "bar"
           }
          ],
          "barpolar": [
           {
            "marker": {
             "line": {
              "color": "#E5ECF6",
              "width": 0.5
             },
             "pattern": {
              "fillmode": "overlay",
              "size": 10,
              "solidity": 0.2
             }
            },
            "type": "barpolar"
           }
          ],
          "carpet": [
           {
            "aaxis": {
             "endlinecolor": "#2a3f5f",
             "gridcolor": "white",
             "linecolor": "white",
             "minorgridcolor": "white",
             "startlinecolor": "#2a3f5f"
            },
            "baxis": {
             "endlinecolor": "#2a3f5f",
             "gridcolor": "white",
             "linecolor": "white",
             "minorgridcolor": "white",
             "startlinecolor": "#2a3f5f"
            },
            "type": "carpet"
           }
          ],
          "choropleth": [
           {
            "colorbar": {
             "outlinewidth": 0,
             "ticks": ""
            },
            "type": "choropleth"
           }
          ],
          "contour": [
           {
            "colorbar": {
             "outlinewidth": 0,
             "ticks": ""
            },
            "colorscale": [
             [
              0,
              "#0d0887"
             ],
             [
              0.1111111111111111,
              "#46039f"
             ],
             [
              0.2222222222222222,
              "#7201a8"
             ],
             [
              0.3333333333333333,
              "#9c179e"
             ],
             [
              0.4444444444444444,
              "#bd3786"
             ],
             [
              0.5555555555555556,
              "#d8576b"
             ],
             [
              0.6666666666666666,
              "#ed7953"
             ],
             [
              0.7777777777777778,
              "#fb9f3a"
             ],
             [
              0.8888888888888888,
              "#fdca26"
             ],
             [
              1,
              "#f0f921"
             ]
            ],
            "type": "contour"
           }
          ],
          "contourcarpet": [
           {
            "colorbar": {
             "outlinewidth": 0,
             "ticks": ""
            },
            "type": "contourcarpet"
           }
          ],
          "heatmap": [
           {
            "colorbar": {
             "outlinewidth": 0,
             "ticks": ""
            },
            "colorscale": [
             [
              0,
              "#0d0887"
             ],
             [
              0.1111111111111111,
              "#46039f"
             ],
             [
              0.2222222222222222,
              "#7201a8"
             ],
             [
              0.3333333333333333,
              "#9c179e"
             ],
             [
              0.4444444444444444,
              "#bd3786"
             ],
             [
              0.5555555555555556,
              "#d8576b"
             ],
             [
              0.6666666666666666,
              "#ed7953"
             ],
             [
              0.7777777777777778,
              "#fb9f3a"
             ],
             [
              0.8888888888888888,
              "#fdca26"
             ],
             [
              1,
              "#f0f921"
             ]
            ],
            "type": "heatmap"
           }
          ],
          "histogram": [
           {
            "marker": {
             "pattern": {
              "fillmode": "overlay",
              "size": 10,
              "solidity": 0.2
             }
            },
            "type": "histogram"
           }
          ],
          "histogram2d": [
           {
            "colorbar": {
             "outlinewidth": 0,
             "ticks": ""
            },
            "colorscale": [
             [
              0,
              "#0d0887"
             ],
             [
              0.1111111111111111,
              "#46039f"
             ],
             [
              0.2222222222222222,
              "#7201a8"
             ],
             [
              0.3333333333333333,
              "#9c179e"
             ],
             [
              0.4444444444444444,
              "#bd3786"
             ],
             [
              0.5555555555555556,
              "#d8576b"
             ],
             [
              0.6666666666666666,
              "#ed7953"
             ],
             [
              0.7777777777777778,
              "#fb9f3a"
             ],
             [
              0.8888888888888888,
              "#fdca26"
             ],
             [
              1,
              "#f0f921"
             ]
            ],
            "type": "histogram2d"
           }
          ],
          "histogram2dcontour": [
           {
            "colorbar": {
             "outlinewidth": 0,
             "ticks": ""
            },
            "colorscale": [
             [
              0,
              "#0d0887"
             ],
             [
              0.1111111111111111,
              "#46039f"
             ],
             [
              0.2222222222222222,
              "#7201a8"
             ],
             [
              0.3333333333333333,
              "#9c179e"
             ],
             [
              0.4444444444444444,
              "#bd3786"
             ],
             [
              0.5555555555555556,
              "#d8576b"
             ],
             [
              0.6666666666666666,
              "#ed7953"
             ],
             [
              0.7777777777777778,
              "#fb9f3a"
             ],
             [
              0.8888888888888888,
              "#fdca26"
             ],
             [
              1,
              "#f0f921"
             ]
            ],
            "type": "histogram2dcontour"
           }
          ],
          "mesh3d": [
           {
            "colorbar": {
             "outlinewidth": 0,
             "ticks": ""
            },
            "type": "mesh3d"
           }
          ],
          "parcoords": [
           {
            "line": {
             "colorbar": {
              "outlinewidth": 0,
              "ticks": ""
             }
            },
            "type": "parcoords"
           }
          ],
          "pie": [
           {
            "automargin": true,
            "type": "pie"
           }
          ],
          "scatter": [
           {
            "fillpattern": {
             "fillmode": "overlay",
             "size": 10,
             "solidity": 0.2
            },
            "type": "scatter"
           }
          ],
          "scatter3d": [
           {
            "line": {
             "colorbar": {
              "outlinewidth": 0,
              "ticks": ""
             }
            },
            "marker": {
             "colorbar": {
              "outlinewidth": 0,
              "ticks": ""
             }
            },
            "type": "scatter3d"
           }
          ],
          "scattercarpet": [
           {
            "marker": {
             "colorbar": {
              "outlinewidth": 0,
              "ticks": ""
             }
            },
            "type": "scattercarpet"
           }
          ],
          "scattergeo": [
           {
            "marker": {
             "colorbar": {
              "outlinewidth": 0,
              "ticks": ""
             }
            },
            "type": "scattergeo"
           }
          ],
          "scattergl": [
           {
            "marker": {
             "colorbar": {
              "outlinewidth": 0,
              "ticks": ""
             }
            },
            "type": "scattergl"
           }
          ],
          "scattermap": [
           {
            "marker": {
             "colorbar": {
              "outlinewidth": 0,
              "ticks": ""
             }
            },
            "type": "scattermap"
           }
          ],
          "scattermapbox": [
           {
            "marker": {
             "colorbar": {
              "outlinewidth": 0,
              "ticks": ""
             }
            },
            "type": "scattermapbox"
           }
          ],
          "scatterpolar": [
           {
            "marker": {
             "colorbar": {
              "outlinewidth": 0,
              "ticks": ""
             }
            },
            "type": "scatterpolar"
           }
          ],
          "scatterpolargl": [
           {
            "marker": {
             "colorbar": {
              "outlinewidth": 0,
              "ticks": ""
             }
            },
            "type": "scatterpolargl"
           }
          ],
          "scatterternary": [
           {
            "marker": {
             "colorbar": {
              "outlinewidth": 0,
              "ticks": ""
             }
            },
            "type": "scatterternary"
           }
          ],
          "surface": [
           {
            "colorbar": {
             "outlinewidth": 0,
             "ticks": ""
            },
            "colorscale": [
             [
              0,
              "#0d0887"
             ],
             [
              0.1111111111111111,
              "#46039f"
             ],
             [
              0.2222222222222222,
              "#7201a8"
             ],
             [
              0.3333333333333333,
              "#9c179e"
             ],
             [
              0.4444444444444444,
              "#bd3786"
             ],
             [
              0.5555555555555556,
              "#d8576b"
             ],
             [
              0.6666666666666666,
              "#ed7953"
             ],
             [
              0.7777777777777778,
              "#fb9f3a"
             ],
             [
              0.8888888888888888,
              "#fdca26"
             ],
             [
              1,
              "#f0f921"
             ]
            ],
            "type": "surface"
           }
          ],
          "table": [
           {
            "cells": {
             "fill": {
              "color": "#EBF0F8"
             },
             "line": {
              "color": "white"
             }
            },
            "header": {
             "fill": {
              "color": "#C8D4E3"
             },
             "line": {
              "color": "white"
             }
            },
            "type": "table"
           }
          ]
         },
         "layout": {
          "annotationdefaults": {
           "arrowcolor": "#2a3f5f",
           "arrowhead": 0,
           "arrowwidth": 1
          },
          "autotypenumbers": "strict",
          "coloraxis": {
           "colorbar": {
            "outlinewidth": 0,
            "ticks": ""
           }
          },
          "colorscale": {
           "diverging": [
            [
             0,
             "#8e0152"
            ],
            [
             0.1,
             "#c51b7d"
            ],
            [
             0.2,
             "#de77ae"
            ],
            [
             0.3,
             "#f1b6da"
            ],
            [
             0.4,
             "#fde0ef"
            ],
            [
             0.5,
             "#f7f7f7"
            ],
            [
             0.6,
             "#e6f5d0"
            ],
            [
             0.7,
             "#b8e186"
            ],
            [
             0.8,
             "#7fbc41"
            ],
            [
             0.9,
             "#4d9221"
            ],
            [
             1,
             "#276419"
            ]
           ],
           "sequential": [
            [
             0,
             "#0d0887"
            ],
            [
             0.1111111111111111,
             "#46039f"
            ],
            [
             0.2222222222222222,
             "#7201a8"
            ],
            [
             0.3333333333333333,
             "#9c179e"
            ],
            [
             0.4444444444444444,
             "#bd3786"
            ],
            [
             0.5555555555555556,
             "#d8576b"
            ],
            [
             0.6666666666666666,
             "#ed7953"
            ],
            [
             0.7777777777777778,
             "#fb9f3a"
            ],
            [
             0.8888888888888888,
             "#fdca26"
            ],
            [
             1,
             "#f0f921"
            ]
           ],
           "sequentialminus": [
            [
             0,
             "#0d0887"
            ],
            [
             0.1111111111111111,
             "#46039f"
            ],
            [
             0.2222222222222222,
             "#7201a8"
            ],
            [
             0.3333333333333333,
             "#9c179e"
            ],
            [
             0.4444444444444444,
             "#bd3786"
            ],
            [
             0.5555555555555556,
             "#d8576b"
            ],
            [
             0.6666666666666666,
             "#ed7953"
            ],
            [
             0.7777777777777778,
             "#fb9f3a"
            ],
            [
             0.8888888888888888,
             "#fdca26"
            ],
            [
             1,
             "#f0f921"
            ]
           ]
          },
          "colorway": [
           "#636efa",
           "#EF553B",
           "#00cc96",
           "#ab63fa",
           "#FFA15A",
           "#19d3f3",
           "#FF6692",
           "#B6E880",
           "#FF97FF",
           "#FECB52"
          ],
          "font": {
           "color": "#2a3f5f"
          },
          "geo": {
           "bgcolor": "white",
           "lakecolor": "white",
           "landcolor": "#E5ECF6",
           "showlakes": true,
           "showland": true,
           "subunitcolor": "white"
          },
          "hoverlabel": {
           "align": "left"
          },
          "hovermode": "closest",
          "mapbox": {
           "style": "light"
          },
          "paper_bgcolor": "white",
          "plot_bgcolor": "#E5ECF6",
          "polar": {
           "angularaxis": {
            "gridcolor": "white",
            "linecolor": "white",
            "ticks": ""
           },
           "bgcolor": "#E5ECF6",
           "radialaxis": {
            "gridcolor": "white",
            "linecolor": "white",
            "ticks": ""
           }
          },
          "scene": {
           "xaxis": {
            "backgroundcolor": "#E5ECF6",
            "gridcolor": "white",
            "gridwidth": 2,
            "linecolor": "white",
            "showbackground": true,
            "ticks": "",
            "zerolinecolor": "white"
           },
           "yaxis": {
            "backgroundcolor": "#E5ECF6",
            "gridcolor": "white",
            "gridwidth": 2,
            "linecolor": "white",
            "showbackground": true,
            "ticks": "",
            "zerolinecolor": "white"
           },
           "zaxis": {
            "backgroundcolor": "#E5ECF6",
            "gridcolor": "white",
            "gridwidth": 2,
            "linecolor": "white",
            "showbackground": true,
            "ticks": "",
            "zerolinecolor": "white"
           }
          },
          "shapedefaults": {
           "line": {
            "color": "#2a3f5f"
           }
          },
          "ternary": {
           "aaxis": {
            "gridcolor": "white",
            "linecolor": "white",
            "ticks": ""
           },
           "baxis": {
            "gridcolor": "white",
            "linecolor": "white",
            "ticks": ""
           },
           "bgcolor": "#E5ECF6",
           "caxis": {
            "gridcolor": "white",
            "linecolor": "white",
            "ticks": ""
           }
          },
          "title": {
           "x": 0.05
          },
          "xaxis": {
           "automargin": true,
           "gridcolor": "white",
           "linecolor": "white",
           "ticks": "",
           "title": {
            "standoff": 15
           },
           "zerolinecolor": "white",
           "zerolinewidth": 2
          },
          "yaxis": {
           "automargin": true,
           "gridcolor": "white",
           "linecolor": "white",
           "ticks": "",
           "title": {
            "standoff": 15
           },
           "zerolinecolor": "white",
           "zerolinewidth": 2
          }
         }
        },
        "xaxis": {
         "tickmode": "array",
         "ticktext": [
          1,
          2,
          3,
          4,
          5,
          6,
          7,
          8,
          9,
          10,
          11,
          12,
          13,
          14,
          15,
          16,
          17,
          19,
          20,
          22,
          25
         ],
         "tickvals": [
          0,
          1,
          2,
          3,
          4,
          5,
          6,
          7,
          8,
          9,
          10,
          11,
          12,
          13,
          14,
          15,
          16,
          17,
          18,
          19,
          20
         ],
         "title": {
          "text": "Problem Instance (ID)"
         }
        },
        "yaxis": {
         "title": {
          "text": "Nodes (log-scale)"
         },
         "type": "log"
        }
       }
      }
     },
     "metadata": {},
     "output_type": "display_data"
    }
   ],
   "source": [
    "import plotly.graph_objects as go\n",
    "\n",
    "# Create bar plot with visible zeros\n",
    "hovertemplate_text='Model: %{customdata[0]}<br>ID: %{x}<br>Gap: %{text}%<br>Nodes: %{customdata[1]}<br>Runtime: %{customdata[2]} s<br>Heuristics: %{customdata[3]} s<br>Total Time: %{customdata[4]} s<extra></extra>'\n",
    "\n",
    "positions = list(range(len(df1)))\n",
    "max_gap = 300\n",
    "\n",
    "\n",
    "fig = go.Figure()\n",
    "\n",
    "fig.add_trace(\n",
    "    go.Bar(\n",
    "        name='Model 1',\n",
    "        x=positions,\n",
    "        y=df1['nodes'],\n",
    "        text=df1['gap'].apply(lambda x: f'{x:.2f}'),\n",
    "        marker_color=colormap[1],\n",
    "        customdata=np.dstack((\n",
    "            df1['model'], \n",
    "            df1['nodes'], \n",
    "            df1['runtime'].apply(lambda x: f'{x:.2f}'),\n",
    "            df1['heuristics_time'].apply(lambda x: f'{x:.2f}'),\n",
    "            df1['total_time'].apply(lambda x: f'{x:.2f}')\n",
    "        ))[0],\n",
    "        textposition='none',\n",
    "        hovertemplate=hovertemplate_text,\n",
    "        offsetgroup='1'\n",
    "    )\n",
    ")\n",
    "fig.add_trace(\n",
    "    go.Bar(\n",
    "        name='Model 1 (no 15)',\n",
    "        x=positions,\n",
    "        y=df1e['nodes'],\n",
    "        text=df1e['gap'].apply(lambda x: f'{x:.2f}'),\n",
    "        marker_color=colormap[6],\n",
    "        customdata=np.dstack((\n",
    "            df1e['model'], \n",
    "            df1e['nodes'], \n",
    "            df1e['runtime'].apply(lambda x: f'{x:.2f}'),\n",
    "            df1e['heuristics_time'].apply(lambda x: f'{x:.2f}'),\n",
    "            df1e['total_time'].apply(lambda x: f'{x:.2f}')\n",
    "        ))[0],\n",
    "        textposition='none',\n",
    "        hovertemplate=hovertemplate_text,\n",
    "        offsetgroup='2'\n",
    "    )\n",
    ")\n",
    "fig.add_trace(\n",
    "    go.Bar(\n",
    "        name='Model 2',\n",
    "        x=positions,\n",
    "        y=df2['nodes'],\n",
    "        text=df2['gap'].apply(lambda x: f'{x:.2f}'),\n",
    "        marker_color=colormap[2],\n",
    "        customdata=np.dstack((\n",
    "            df2['model'], \n",
    "            df2['nodes'], \n",
    "            df2['runtime'].apply(lambda x: f'{x:.2f}'),\n",
    "            df2['heuristics_time'].apply(lambda x: f'{x:.2f}'),\n",
    "            df2['total_time'].apply(lambda x: f'{x:.2f}')\n",
    "        ))[0],\n",
    "        textposition='none',\n",
    "        hovertemplate=hovertemplate_text,\n",
    "        offsetgroup='3'\n",
    "    )\n",
    ")\n",
    "\n",
    "fig.add_trace(\n",
    "    go.Bar(\n",
    "        name='Model 2 (no 15)',\n",
    "        x=positions,\n",
    "        y=df2e['nodes'],\n",
    "        text=df2e['gap'].apply(lambda x: f'{x:.2f}'),\n",
    "        marker_color=colormap[7],\n",
    "        customdata=np.dstack((\n",
    "            df2e['model'], \n",
    "            df2e['nodes'], \n",
    "            df2e['runtime'].apply(lambda x: f'{x:.2f}'),\n",
    "            df2e['heuristics_time'].apply(lambda x: f'{x:.2f}'),\n",
    "            df2e['total_time'].apply(lambda x: f'{x:.2f}')\n",
    "        ))[0],\n",
    "        textposition='none',\n",
    "        hovertemplate=hovertemplate_text,\n",
    "        offsetgroup='4'\n",
    "    )\n",
    ")\n",
    "\n",
    "\n",
    "\n",
    "fig.update_layout(\n",
    "    autosize=True,\n",
    "    margin=dict(l=10, r=10, t=10, b=10),\n",
    "    barmode='group',\n",
    "    yaxis = dict(\n",
    "        title = 'Nodes (log-scale)',\n",
    "        type='log',\n",
    "    ),\n",
    "    xaxis = dict(\n",
    "        title = 'Problem Instance (ID)',\n",
    "        tickmode = 'array',\n",
    "        tickvals = positions,\n",
    "        ticktext = list(instances),\n",
    "    ),\n",
    "    legend=dict(\n",
    "        x=0.01,\n",
    "        y=0.99,\n",
    "        xanchor='left',\n",
    "        yanchor='top',\n",
    "        bgcolor='rgba(255, 255, 255, 0.5)'\n",
    "    )\n",
    ")\n",
    "\n",
    "fig.show()\n",
    "\n",
    "# # Save as HTML\n",
    "# div_schedule = plot(\n",
    "#     fig, include_plotlyjs=True, config={\"responsive\": True}, output_type=\"div\"\n",
    "# )\n",
    "# with open('../docs/images/comparison-solutions-nodes.html', 'w') as f:\n",
    "#     f.write(div_schedule)"
   ]
  }
 ],
 "metadata": {
  "kernelspec": {
   "display_name": "mathopt",
   "language": "python",
   "name": "python3"
  },
  "language_info": {
   "codemirror_mode": {
    "name": "ipython",
    "version": 3
   },
   "file_extension": ".py",
   "mimetype": "text/x-python",
   "name": "python",
   "nbconvert_exporter": "python",
   "pygments_lexer": "ipython3",
   "version": "3.11.5"
  }
 },
 "nbformat": 4,
 "nbformat_minor": 5
}
