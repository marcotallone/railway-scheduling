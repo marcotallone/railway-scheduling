{
 "cells": [
  {
   "cell_type": "markdown",
   "metadata": {},
   "source": [
    "### Test Model 1 with Simulated Annealing Technique implemented"
   ]
  },
  {
   "cell_type": "code",
   "execution_count": 1,
   "metadata": {},
   "outputs": [
    {
     "name": "stdout",
     "output_type": "stream",
     "text": [
      "Current working directory: 📂 /home/marco/railway-scheduling\n"
     ]
    }
   ],
   "source": [
    "import os\n",
    "import sys\n",
    "from railway import *\n",
    "from gurobipy import GRB\n",
    "import numpy as np\n",
    "\n",
    "import matplotlib.pyplot as plt\n",
    "import seaborn as sns\n",
    "sns.set_theme(\n",
    "\tstyle=\"whitegrid\",\n",
    "\tpalette=\"tab10\",\n",
    "\trc={\n",
    "\t\t\"grid.linestyle\": \"--\",\n",
    "\t\t\"grid.color\": \"gray\",\n",
    "\t\t\"grid.alpha\": 0.3,\n",
    "\t\t\"grid.linewidth\": 0.5,\n",
    "\t},\n",
    ")\n",
    "\n",
    "# Set the current directory to root directory\n",
    "os.chdir(\"/home/marco/railway-scheduling\")\n",
    "sys.path.append(os.getcwd())\n",
    "print(f\"Current working directory: 📂 {os.getcwd()}\")"
   ]
  },
  {
   "cell_type": "code",
   "execution_count": 2,
   "metadata": {},
   "outputs": [
    {
     "name": "stdout",
     "output_type": "stream",
     "text": [
      "Set parameter Username\n",
      "Set parameter LicenseID to value 2585388\n",
      "Academic license - for non-commercial use only - expires 2025-11-15\n",
      "Set parameter TimeLimit to value 60\n",
      "Railway scheduling problem\n",
      "\n",
      "Parameters:\n",
      "N:  10 stations\n",
      "T:  10 periods\n",
      "J:  80 jobs\n",
      "P:  2000 passengers\n",
      "K:  3 alternative routes\n",
      "Aj: 80 jobs with arcs\n",
      "Ja: 37 arcs with jobs\n",
      "C:  0 arcs unavailable simultaneously\n",
      "\n",
      "Optimization model:\n",
      "Variables:   0\n",
      "Constraints: 0\n",
      "Objective:   0.0\n",
      "Status:      LOADED\n",
      "\n"
     ]
    }
   ],
   "source": [
    "# Import model from dataset\n",
    "N = 10\n",
    "T = 10\n",
    "J = 80\n",
    "P = 2000\n",
    "K = 3\n",
    "FILENAME = f\"datasets/railway_N{N}_T{T}_J{J}_P{P}_K{K}.json\"\n",
    "rail = Railway.load(FILENAME)\n",
    "rail.model.setParam('TimeLimit', 60)\n",
    "rail.set_constraints()\n",
    "rail.set_objective()\n",
    "\n",
    "print(rail)"
   ]
  },
  {
   "cell_type": "code",
   "execution_count": 3,
   "metadata": {},
   "outputs": [
    {
     "name": "stdout",
     "output_type": "stream",
     "text": [
      "{1: 1, 2: 1, 3: 1, 4: 1, 5: 1, 6: 1, 7: 1, 8: 1, 9: 1, 10: 1, 11: 1, 12: 2, 13: 1, 14: 1, 15: 2, 16: 3, 17: 1, 18: 1, 19: 3, 20: 1, 21: 1, 22: 3, 23: 1, 24: 1, 25: 3, 26: 1, 27: 1, 28: 3, 29: 1, 30: 1, 31: 1, 32: 1, 33: 3, 34: 3, 35: 2, 36: 5, 37: 2, 38: 2, 39: 2, 40: 5, 41: 2, 42: 3, 43: 4, 44: 1, 45: 1, 46: 3, 47: 2, 48: 3, 49: 5, 50: 3, 51: 7, 52: 3, 53: 1, 54: 7, 55: 1, 56: 1, 57: 5, 58: 1, 59: 1, 60: 1, 61: 1, 62: 2, 63: 1, 64: 9, 65: 7, 66: 1, 67: 2, 68: 2, 69: 2, 70: 3, 71: 4, 72: 3, 73: 2, 74: 3, 75: 2, 76: 5, 77: 4, 78: 6, 79: 1, 80: 2}\n"
     ]
    }
   ],
   "source": [
    "# Generate an initial solution\n",
    "S = rail.generate_initial_solution()\n",
    "print(S)"
   ]
  },
  {
   "cell_type": "code",
   "execution_count": 4,
   "metadata": {},
   "outputs": [
    {
     "name": "stdout",
     "output_type": "stream",
     "text": [
      "S\t {1: 1, 2: 1, 3: 1, 4: 1, 5: 1, 6: 1, 7: 1, 8: 1, 9: 1, 10: 1, 11: 1, 12: 2, 13: 1, 14: 1, 15: 2, 16: 3, 17: 1, 18: 1, 19: 3, 20: 1, 21: 1, 22: 3, 23: 1, 24: 1, 25: 3, 26: 1, 27: 1, 28: 3, 29: 1, 30: 1, 31: 1, 32: 1, 33: 3, 34: 3, 35: 2, 36: 5, 37: 2, 38: 2, 39: 2, 40: 5, 41: 2, 42: 3, 43: 4, 44: 1, 45: 1, 46: 3, 47: 2, 48: 3, 49: 5, 50: 3, 51: 7, 52: 3, 53: 1, 54: 7, 55: 1, 56: 1, 57: 5, 58: 1, 59: 1, 60: 1, 61: 1, 62: 2, 63: 1, 64: 9, 65: 7, 66: 1, 67: 2, 68: 2, 69: 2, 70: 3, 71: 4, 72: 3, 73: 2, 74: 3, 75: 2, 76: 5, 77: 4, 78: 6, 79: 1, 80: 2}\n",
      "Snew\t {1: 1, 2: 1, 3: 1, 4: 1, 5: 1, 6: 1, 7: 1, 8: 1, 9: 1, 10: 1, 11: 1, 12: 2, 13: 1, 14: 1, 15: 2, 16: 3, 17: 1, 18: 1, 19: 3, 20: 1, 21: 1, 22: 3, 23: 1, 24: 1, 25: 3, 26: 1, 27: 1, 28: 3, 29: 1, 30: 1, 31: 1, 32: 1, 33: 3, 34: 3, 35: 2, 36: 5, 37: 2, 38: 2, 39: 2, 40: 5, 41: 2, 42: 3, 43: 4, 44: 1, 45: 1, 46: 3, 47: 2, 48: 3, 49: 5, 50: 3, 51: 7, 52: 3, 53: 1, 54: 7, 55: 1, 56: 1, 57: 5, 58: 1, 59: 1, 60: 1, 61: 1, 62: 2, 63: 1, 64: 9, 65: 7, 66: 1, 67: 2, 68: 2, 69: 2, 70: 3, 71: 4, 72: 3, 73: 2, 74: 3, 75: 2, 76: 5, 77: 4, 78: 6, 79: 6, 80: 2}\n",
      "Snew2\t {1: 1, 2: 1, 3: 1, 4: 1, 5: 1, 6: 1, 7: 1, 8: 1, 9: 1, 10: 1, 11: 1, 12: 2, 13: 1, 14: 1, 15: 2, 16: 3, 17: 1, 18: 1, 19: 3, 20: 1, 21: 1, 22: 3, 23: 1, 24: 1, 25: 3, 26: 1, 27: 1, 28: 3, 29: 1, 30: 1, 31: 1, 32: 1, 33: 3, 34: 3, 35: 2, 36: 5, 37: 2, 38: 2, 39: 2, 40: 5, 41: 2, 42: 3, 43: 4, 44: 1, 45: 1, 46: 3, 47: 2, 48: 3, 49: 5, 50: 3, 51: 7, 52: 3, 53: 1, 54: 7, 55: 1, 56: 1, 57: 5, 58: 1, 59: 1, 60: 1, 61: 1, 62: 2, 63: 1, 64: 9, 65: 7, 66: 1, 67: 2, 68: 2, 69: 2, 70: 3, 71: 4, 72: 9, 73: 2, 74: 3, 75: 2, 76: 5, 77: 4, 78: 6, 79: 6, 80: 2}\n",
      "\n",
      "Differences:\n",
      "job\tS -> Snew\n",
      "79:\t1 -> 6\n",
      "\n",
      "job\tSnew -> Snew2\n",
      "72:\t3 -> 9\n"
     ]
    }
   ],
   "source": [
    "# Generate an alternative solution and see the diferences with initial one\n",
    "Snew = rail.generate_neighbor_solution(S)\n",
    "print(\"S\\t\", S)\n",
    "print(\"Snew\\t\", Snew)\n",
    "\n",
    "Snew2 = rail.generate_neighbor_solution(Snew)\n",
    "print(\"Snew2\\t\", Snew2)\n",
    "\n",
    "print(\"\\nDifferences:\")\n",
    "for job in S:\n",
    "\tif S[job] != Snew[job]:\n",
    "\t\tprint(\"job\\tS -> Snew\")\n",
    "\t\tprint(f\"{job}:\\t{S[job]} -> {Snew[job]}\")\n",
    "\t\t\n",
    "if S == Snew:\n",
    "\tprint(\"WARNING! No differences found!\")\n",
    "\n",
    "print()\n",
    " \n",
    "for job in Snew:\n",
    "\tif Snew[job] != Snew2[job]:\n",
    "\t\tprint(\"job\\tSnew -> Snew2\")\n",
    "\t\tprint(f\"{job}:\\t{Snew[job]} -> {Snew2[job]}\")\n",
    "  \n",
    "if Snew == Snew2:\n",
    "\tprint(\"WARNING! No differences found!\")"
   ]
  },
  {
   "cell_type": "code",
   "execution_count": 5,
   "metadata": {},
   "outputs": [
    {
     "name": "stdout",
     "output_type": "stream",
     "text": [
      "Objective function:\n",
      "Initial solution:\t33982.51970519358\n",
      "Alternative solution:\t31905.30337912753\n",
      "Alternative solution 2:\t31932.024144343202\n"
     ]
    }
   ],
   "source": [
    "# Get decision variables for both solutions\n",
    "y, x, h, w, v = rail.get_vars_from_times(S)\n",
    "ynew, xnew, hnew, wnew, vnew = rail.get_vars_from_times(Snew)\n",
    "ynew2, xnew2, hnew2, wnew2, vnew2 = rail.get_vars_from_times(Snew2)\n",
    "\n",
    "# Evaluate objective function on both solutions\n",
    "print(\"Objective function:\")\n",
    "print(f\"Initial solution:\\t{rail.get_objective_value(v)}\")\n",
    "print(f\"Alternative solution:\\t{rail.get_objective_value(vnew)}\")\n",
    "print(f\"Alternative solution 2:\\t{rail.get_objective_value(vnew2)}\")"
   ]
  },
  {
   "cell_type": "code",
   "execution_count": null,
   "metadata": {},
   "outputs": [
    {
     "name": "stdout",
     "output_type": "stream",
     "text": [
      "Final solution:\t14933.753696458081\n"
     ]
    },
    {
     "data": {
      "text/plain": [
       "[<matplotlib.lines.Line2D at 0x740be322edd0>]"
      ]
     },
     "execution_count": 11,
     "metadata": {},
     "output_type": "execute_result"
    },
    {
     "data": {
      "image/png": "[encoded data removed]",
      "text/plain": [
       "<Figure size 640x480 with 1 Axes>"
      ]
     },
     "metadata": {},
     "output_type": "display_data"
    }
   ],
   "source": [
    "# Try SA algorithm to see if it improves initial solution\n",
    "\n",
    "# Inputs\n",
    "T = 1000\n",
    "c = 0.99\n",
    "L = 1\n",
    "max_iter = 1000\n",
    "\n",
    "# Initialize solution and iteration counter\n",
    "S = rail.generate_initial_solution()\n",
    "_, _, _, _, v = rail.get_vars_from_times(S)\n",
    "f_values = [rail.get_objective_value(v)]\n",
    "\n",
    "iter = 0\n",
    "\n",
    "# SA algorithm\n",
    "while (T > 1e-6) and (iter < max_iter):\n",
    "\tfor _ in range(L):\n",
    "\t\t# Generate a new solution\n",
    "\t\tS_new = rail.generate_neighbor_solution(S)\n",
    "\n",
    "\t\t# Get the solutions' variables\n",
    "\t\t_, _, _, _, v = rail.get_vars_from_times(S)\n",
    "\t\t_, _, _, _, v_new = rail.get_vars_from_times(S_new)\n",
    "\n",
    "\t\t# Compute the objective function values\n",
    "\t\tf = rail.get_objective_value(v)\n",
    "\t\tf_new = rail.get_objective_value(v_new)\n",
    "\n",
    "\t\t# Accept solution if it's better or with a certain probability\n",
    "\t\tif f_new <= f:\n",
    "\t\t\tS = S_new\n",
    "\t\t\tf_values.append(f_new)\n",
    "\t\telse:\n",
    "\t\t\tp = np.exp((f - f_new) / T)\n",
    "\t\t\tif np.random.rand() < p:\n",
    "\t\t\t\tS = S_new\n",
    "\t\t\t\tf_values.append(f_new)\n",
    "\n",
    "\t# Cool down the temperature\n",
    "\tT *= c\n",
    "\n",
    "\t# Increment the iteration counter\n",
    "\titer += 1\n",
    " \n",
    " # Final solution with SA\n",
    "print(f\"Final solution with SA:\\t{f_values[-1]}\")\n",
    " \n",
    " # Plot f_values with time\n",
    "plt.plot(f_values)"
   ]
  },
  {
   "cell_type": "code",
   "execution_count": 15,
   "metadata": {},
   "outputs": [
    {
     "name": "stdout",
     "output_type": "stream",
     "text": [
      "Optimal solution:\t14590.799574075569\n",
      "Final solution with SA:\t14933.753696458081\n"
     ]
    }
   ],
   "source": [
    "# Optimize the model\n",
    "rail.model.setParam('outputFlag', 0) # Avoid verbose output \n",
    "rail.optimize()\n",
    "\n",
    "# Print optimal solution\n",
    "print(f\"Optimal solution:\\t{rail.model.getObjective().getValue()}\")\n",
    "print(f\"Final solution with SA:\\t{f_values[-1]}\")"
   ]
  }
 ],
 "metadata": {
  "kernelspec": {
   "display_name": "mathopt",
   "language": "python",
   "name": "python3"
  },
  "language_info": {
   "codemirror_mode": {
    "name": "ipython",
    "version": 3
   },
   "file_extension": ".py",
   "mimetype": "text/x-python",
   "name": "python",
   "nbconvert_exporter": "python",
   "pygments_lexer": "ipython3",
   "version": "3.11.5"
  }
 },
 "nbformat": 4,
 "nbformat_minor": 2
}
