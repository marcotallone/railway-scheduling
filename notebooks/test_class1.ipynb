{
 "cells": [
  {
   "cell_type": "markdown",
   "metadata": {},
   "source": [
    "### Test Model 1 with Simulated Annealing Technique implemented"
   ]
  },
  {
   "cell_type": "code",
   "execution_count": 1,
   "metadata": {},
   "outputs": [
    {
     "name": "stdout",
     "output_type": "stream",
     "text": [
      "Current working directory: 📂 /home/marco/railway-scheduling\n"
     ]
    }
   ],
   "source": [
    "import os\n",
    "import sys\n",
    "from railway import *\n",
    "from gurobipy import GRB\n",
    "import numpy as np\n",
    "\n",
    "import matplotlib.pyplot as plt\n",
    "import seaborn as sns\n",
    "sns.set_theme(\n",
    "\tstyle=\"whitegrid\",\n",
    "\tpalette=\"tab10\",\n",
    "\trc={\n",
    "\t\t\"grid.linestyle\": \"--\",\n",
    "\t\t\"grid.color\": \"gray\",\n",
    "\t\t\"grid.alpha\": 0.3,\n",
    "\t\t\"grid.linewidth\": 0.5,\n",
    "\t},\n",
    ")\n",
    "\n",
    "# Set the current directory to root directory\n",
    "os.chdir(\"/home/marco/railway-scheduling\")\n",
    "sys.path.append(os.getcwd())\n",
    "print(f\"Current working directory: 📂 {os.getcwd()}\")"
   ]
  },
  {
   "cell_type": "code",
   "execution_count": 2,
   "metadata": {},
   "outputs": [
    {
     "name": "stdout",
     "output_type": "stream",
     "text": [
      "Set parameter Username\n",
      "Set parameter LicenseID to value 2585388\n",
      "Academic license - for non-commercial use only - expires 2025-11-15\n",
      "Set parameter TimeLimit to value 60\n",
      "Railway scheduling problem\n",
      "\n",
      "Parameters:\n",
      "N:  10 stations\n",
      "T:  10 periods\n",
      "J:  80 jobs\n",
      "P:  2000 passengers\n",
      "K:  3 alternative routes\n",
      "Aj: 80 jobs with arcs\n",
      "Ja: 37 arcs with jobs\n",
      "C:  0 arcs unavailable simultaneously\n",
      "\n",
      "Optimization model:\n",
      "Variables:   0\n",
      "Constraints: 0\n",
      "Objective:   0.0\n",
      "Status:      LOADED\n",
      "\n"
     ]
    }
   ],
   "source": [
    "# Import model from dataset\n",
    "N = 10\n",
    "T = 10\n",
    "J = 80\n",
    "P = 2000\n",
    "K = 3\n",
    "FILENAME = f\"datasets/railway_N{N}_T{T}_J{J}_P{P}_K{K}.json\"\n",
    "rail = Railway.load(FILENAME)\n",
    "rail.model.setParam('TimeLimit', 60)\n",
    "rail.set_constraints()\n",
    "rail.set_objective()\n",
    "\n",
    "print(rail)"
   ]
  },
  {
   "cell_type": "code",
   "execution_count": 3,
   "metadata": {},
   "outputs": [
    {
     "name": "stdout",
     "output_type": "stream",
     "text": [
      "{1: 1, 2: 1, 3: 1, 4: 1, 5: 1, 6: 1, 7: 1, 8: 1, 9: 1, 10: 1, 11: 1, 12: 2, 13: 1, 14: 1, 15: 2, 16: 3, 17: 1, 18: 1, 19: 3, 20: 1, 21: 1, 22: 3, 23: 1, 24: 1, 25: 3, 26: 1, 27: 1, 28: 3, 29: 1, 30: 1, 31: 1, 32: 1, 33: 3, 34: 3, 35: 2, 36: 5, 37: 2, 38: 2, 39: 2, 40: 5, 41: 2, 42: 3, 43: 4, 44: 1, 45: 1, 46: 3, 47: 2, 48: 3, 49: 5, 50: 3, 51: 7, 52: 3, 53: 1, 54: 7, 55: 1, 56: 1, 57: 5, 58: 1, 59: 1, 60: 1, 61: 1, 62: 2, 63: 1, 64: 9, 65: 7, 66: 1, 67: 2, 68: 2, 69: 2, 70: 3, 71: 4, 72: 3, 73: 2, 74: 3, 75: 2, 76: 5, 77: 4, 78: 6, 79: 1, 80: 2}\n"
     ]
    }
   ],
   "source": [
    "# Generate an initial solution\n",
    "S = rail.generate_initial_solution()\n",
    "print(S)"
   ]
  },
  {
   "cell_type": "code",
   "execution_count": 4,
   "metadata": {},
   "outputs": [
    {
     "name": "stdout",
     "output_type": "stream",
     "text": [
      "S\t {1: 1, 2: 1, 3: 1, 4: 1, 5: 1, 6: 1, 7: 1, 8: 1, 9: 1, 10: 1, 11: 1, 12: 2, 13: 1, 14: 1, 15: 2, 16: 3, 17: 1, 18: 1, 19: 3, 20: 1, 21: 1, 22: 3, 23: 1, 24: 1, 25: 3, 26: 1, 27: 1, 28: 3, 29: 1, 30: 1, 31: 1, 32: 1, 33: 3, 34: 3, 35: 2, 36: 5, 37: 2, 38: 2, 39: 2, 40: 5, 41: 2, 42: 3, 43: 4, 44: 1, 45: 1, 46: 3, 47: 2, 48: 3, 49: 5, 50: 3, 51: 7, 52: 3, 53: 1, 54: 7, 55: 1, 56: 1, 57: 5, 58: 1, 59: 1, 60: 1, 61: 1, 62: 2, 63: 1, 64: 9, 65: 7, 66: 1, 67: 2, 68: 2, 69: 2, 70: 3, 71: 4, 72: 3, 73: 2, 74: 3, 75: 2, 76: 5, 77: 4, 78: 6, 79: 1, 80: 2}\n",
      "Snew\t {1: 1, 2: 1, 3: 1, 4: 1, 5: 1, 6: 1, 7: 1, 8: 1, 9: 1, 10: 1, 11: 1, 12: 2, 13: 1, 14: 1, 15: 2, 16: 3, 17: 1, 18: 1, 19: 3, 20: 1, 21: 1, 22: 3, 23: 1, 24: 1, 25: 3, 26: 1, 27: 1, 28: 3, 29: 1, 30: 1, 31: 1, 32: 1, 33: 3, 34: 3, 35: 2, 36: 5, 37: 2, 38: 2, 39: 2, 40: 5, 41: 2, 42: 3, 43: 4, 44: 1, 45: 1, 46: 9, 47: 2, 48: 3, 49: 5, 50: 3, 51: 7, 52: 3, 53: 1, 54: 7, 55: 1, 56: 1, 57: 5, 58: 1, 59: 1, 60: 1, 61: 1, 62: 2, 63: 1, 64: 9, 65: 7, 66: 1, 67: 2, 68: 2, 69: 2, 70: 3, 71: 4, 72: 3, 73: 2, 74: 3, 75: 2, 76: 5, 77: 4, 78: 6, 79: 1, 80: 2}\n",
      "Snew2\t {1: 8, 2: 1, 3: 1, 4: 1, 5: 1, 6: 1, 7: 1, 8: 1, 9: 1, 10: 1, 11: 1, 12: 2, 13: 1, 14: 1, 15: 2, 16: 3, 17: 1, 18: 1, 19: 3, 20: 1, 21: 1, 22: 3, 23: 1, 24: 1, 25: 3, 26: 1, 27: 1, 28: 3, 29: 1, 30: 1, 31: 1, 32: 1, 33: 3, 34: 3, 35: 2, 36: 5, 37: 2, 38: 2, 39: 2, 40: 5, 41: 2, 42: 3, 43: 4, 44: 1, 45: 1, 46: 9, 47: 2, 48: 3, 49: 5, 50: 3, 51: 7, 52: 3, 53: 1, 54: 7, 55: 1, 56: 1, 57: 5, 58: 1, 59: 1, 60: 1, 61: 1, 62: 2, 63: 1, 64: 9, 65: 7, 66: 1, 67: 2, 68: 2, 69: 2, 70: 3, 71: 4, 72: 3, 73: 2, 74: 3, 75: 2, 76: 5, 77: 4, 78: 6, 79: 1, 80: 2}\n",
      "\n",
      "Differences:\n",
      "job\tS -> Snew\n",
      "46:\t3 -> 9\n",
      "\n",
      "job\tSnew -> Snew2\n",
      "1:\t1 -> 8\n"
     ]
    }
   ],
   "source": [
    "# Generate an alternative solution and see the diferences with initial one\n",
    "Snew = rail.generate_neighbor_solution(S)\n",
    "print(\"S\\t\", S)\n",
    "print(\"Snew\\t\", Snew)\n",
    "\n",
    "Snew2 = rail.generate_neighbor_solution(Snew)\n",
    "print(\"Snew2\\t\", Snew2)\n",
    "\n",
    "print(\"\\nDifferences:\")\n",
    "for job in S:\n",
    "\tif S[job] != Snew[job]:\n",
    "\t\tprint(\"job\\tS -> Snew\")\n",
    "\t\tprint(f\"{job}:\\t{S[job]} -> {Snew[job]}\")\n",
    "\t\t\n",
    "if S == Snew:\n",
    "\tprint(\"WARNING! No differences found!\")\n",
    "\n",
    "print()\n",
    " \n",
    "for job in Snew:\n",
    "\tif Snew[job] != Snew2[job]:\n",
    "\t\tprint(\"job\\tSnew -> Snew2\")\n",
    "\t\tprint(f\"{job}:\\t{Snew[job]} -> {Snew2[job]}\")\n",
    "  \n",
    "if Snew == Snew2:\n",
    "\tprint(\"WARNING! No differences found!\")"
   ]
  },
  {
   "cell_type": "code",
   "execution_count": 5,
   "metadata": {},
   "outputs": [
    {
     "name": "stdout",
     "output_type": "stream",
     "text": [
      "Objective function:\n",
      "Initial solution:\t33982.51970519358\n",
      "Alternative solution:\t33981.822184289995\n",
      "Alternative solution 2:\t33615.449721742974\n"
     ]
    }
   ],
   "source": [
    "# Get decision variables for both solutions\n",
    "y, x, h, w, v = rail.get_vars_from_times(S)\n",
    "ynew, xnew, hnew, wnew, vnew = rail.get_vars_from_times(Snew)\n",
    "ynew2, xnew2, hnew2, wnew2, vnew2 = rail.get_vars_from_times(Snew2)\n",
    "\n",
    "# Evaluate objective function on both solutions\n",
    "print(\"Objective function:\")\n",
    "print(f\"Initial solution:\\t{rail.get_objective_value(v)}\")\n",
    "print(f\"Alternative solution:\\t{rail.get_objective_value(vnew)}\")\n",
    "print(f\"Alternative solution 2:\\t{rail.get_objective_value(vnew2)}\")"
   ]
  },
  {
   "cell_type": "code",
   "execution_count": 6,
   "metadata": {},
   "outputs": [
    {
     "name": "stdout",
     "output_type": "stream",
     "text": [
      "Final solution with SA:\t18772.85544380728\n"
     ]
    },
    {
     "data": {
      "text/plain": [
       "[<matplotlib.lines.Line2D at 0x70ddc79eec50>]"
      ]
     },
     "execution_count": 6,
     "metadata": {},
     "output_type": "execute_result"
    },
    {
     "data": {
      "image/png": "[encoded data removed]",
      "text/plain": [
       "<Figure size 640x480 with 1 Axes>"
      ]
     },
     "metadata": {},
     "output_type": "display_data"
    }
   ],
   "source": [
    "# Try SA algorithm to see if it improves initial solution\n",
    "\n",
    "# Inputs\n",
    "T = 1000\n",
    "c = 0.99\n",
    "L = 1\n",
    "max_iter = 100\n",
    "\n",
    "# Initialize solution and iteration counter\n",
    "S = rail.generate_initial_solution()\n",
    "_, _, _, _, v = rail.get_vars_from_times(S)\n",
    "f_values = [rail.get_objective_value(v)]\n",
    "\n",
    "iter = 0\n",
    "\n",
    "# SA algorithm\n",
    "while (T > 1e-6) and (iter < max_iter):\n",
    "\tfor _ in range(L):\n",
    "\t\t# Generate a new solution\n",
    "\t\tS_new = rail.generate_neighbor_solution(S)\n",
    "\n",
    "\t\t# Get the solutions' variables\n",
    "\t\t_, _, _, _, v = rail.get_vars_from_times(S)\n",
    "\t\t_, _, _, _, v_new = rail.get_vars_from_times(S_new)\n",
    "\n",
    "\t\t# Compute the objective function values\n",
    "\t\tf = rail.get_objective_value(v)\n",
    "\t\tf_new = rail.get_objective_value(v_new)\n",
    "\n",
    "\t\t# Accept solution if it's better or with a certain probability\n",
    "\t\tif f_new <= f:\n",
    "\t\t\tS = S_new\n",
    "\t\t\tf_values.append(f_new)\n",
    "\t\telse:\n",
    "\t\t\tp = np.exp((f - f_new) / T)\n",
    "\t\t\tif np.random.rand() < p:\n",
    "\t\t\t\tS = S_new\n",
    "\t\t\t\tf_values.append(f_new)\n",
    "\n",
    "\t# Cool down the temperature\n",
    "\tT *= c\n",
    "\n",
    "\t# Increment the iteration counter\n",
    "\titer += 1\n",
    " \n",
    " # Final solution with SA\n",
    "print(f\"Final solution with SA:\\t{f_values[-1]}\")\n",
    " \n",
    " # Plot f_values with time\n",
    "plt.plot(f_values)"
   ]
  },
  {
   "cell_type": "code",
   "execution_count": 7,
   "metadata": {},
   "outputs": [
    {
     "name": "stdout",
     "output_type": "stream",
     "text": [
      "Gurobi Optimizer version 12.0.0 build v12.0.0rc1 (linux64 - \"Arch Linux\")\n",
      "\n",
      "CPU model: Intel(R) Core(TM) i7-8565U CPU @ 1.80GHz, instruction set [SSE2|AVX|AVX2]\n",
      "Thread count: 4 physical cores, 8 logical processors, using up to 8 threads\n",
      "\n",
      "Non-default parameters:\n",
      "TimeLimit  60\n",
      "\n",
      "Optimize a model with 8285 rows, 5700 columns and 24727 nonzeros\n",
      "Model fingerprint: 0x6c85c40f\n",
      "Variable types: 1450 continuous, 4250 integer (4250 binary)\n",
      "Coefficient statistics:\n",
      "  Matrix range     [3e-02, 1e+06]\n",
      "  Objective range  [1e+03, 2e+03]\n",
      "  Bounds range     [1e+00, 1e+00]\n",
      "  RHS range        [9e-02, 1e+06]\n",
      "Presolve removed 5806 rows and 3956 columns\n",
      "Presolve time: 0.18s\n",
      "Presolved: 2479 rows, 1744 columns, 9503 nonzeros\n",
      "Variable types: 380 continuous, 1364 integer (1364 binary)\n",
      "Found heuristic solution: objective 24605.834389\n",
      "\n",
      "Root relaxation: objective 8.399367e+03, 1337 iterations, 0.02 seconds (0.01 work units)\n",
      "\n",
      "    Nodes    |    Current Node    |     Objective Bounds      |     Work\n",
      " Expl Unexpl |  Obj  Depth IntInf | Incumbent    BestBd   Gap | It/Node Time\n",
      "\n",
      "     0     0 8399.36738    0  302 24605.8344 8399.36738  65.9%     -    0s\n",
      "H    0     0                    17705.505729 8399.36738  52.6%     -    0s\n",
      "H    0     0                    17575.935131 8399.36738  52.2%     -    0s\n",
      "H    0     0                    16021.644780 8399.36738  47.6%     -    0s\n",
      "H    0     0                    15290.528538 8399.36738  45.1%     -    0s\n",
      "H    0     0                    15258.034516 8399.36738  45.0%     -    0s\n",
      "     0     0 11752.0325    0  196 15258.0345 11752.0325  23.0%     -    0s\n",
      "H    0     0                    15056.525656 12392.2880  17.7%     -    0s\n",
      "     0     0 12392.2880    0  181 15056.5257 12392.2880  17.7%     -    0s\n",
      "     0     0 12546.4236    0  124 15056.5257 12546.4236  16.7%     -    0s\n",
      "     0     0 12741.8484    0   87 15056.5257 12741.8484  15.4%     -    0s\n",
      "     0     0 12741.8484    0   87 15056.5257 12741.8484  15.4%     -    0s\n",
      "     0     0 14515.2362    0   30 15056.5257 14515.2362  3.60%     -    0s\n",
      "H    0     0                    14599.093196 14515.2395  0.57%     -    0s\n",
      "H    0     0                    14597.841238 14515.2395  0.57%     -    0s\n",
      "     0     0 14522.6509    0   16 14597.8412 14522.6509  0.52%     -    0s\n",
      "     0     0 14539.0358    0   19 14597.8412 14539.0358  0.40%     -    0s\n",
      "     0     0 14589.1266    0   10 14597.8412 14589.1266  0.06%     -    0s\n",
      "H    0     0                    14590.799609 14589.1266  0.01%     -    0s\n",
      "     0     0          -    0      14590.7996 14590.3608  0.00%     -    0s\n",
      "\n",
      "Explored 1 nodes (3067 simplex iterations) in 0.71 seconds (0.26 work units)\n",
      "Thread count was 8 (of 8 available processors)\n",
      "\n",
      "Solution count 10: 14590.8 14591.6 14591.8 ... 17575.9\n",
      "\n",
      "Optimal solution found (tolerance 1.00e-04)\n",
      "Best objective 1.459079957408e+04, best bound 1.459036075506e+04, gap 0.0030%\n",
      "Final solution with SA:\t18772.85544380728\n",
      "Optimal solution:\t14590.799574075569\n"
     ]
    }
   ],
   "source": [
    "# Optimize the model\n",
    "# rail.model.setParam('outputFlag', 0) # Avoid verbose output \n",
    "rail.optimize()\n",
    "\n",
    "# Print optimal solution\n",
    "print(f\"Final solution with SA:\\t{f_values[-1]}\")\n",
    "print(f\"Optimal solution:\\t{rail.model.getObjective().getValue()}\")"
   ]
  },
  {
   "cell_type": "code",
   "execution_count": null,
   "metadata": {},
   "outputs": [
    {
     "name": "stdout",
     "output_type": "stream",
     "text": [
      "Set parameter TimeLimit to value 60\n",
      "Final solution with SA:\t18772.85544380728\n",
      "Start objective value:\t18772.85544380728\n",
      "Gurobi Optimizer version 12.0.0 build v12.0.0rc1 (linux64 - \"Arch Linux\")\n",
      "\n",
      "CPU model: Intel(R) Core(TM) i7-8565U CPU @ 1.80GHz, instruction set [SSE2|AVX|AVX2]\n",
      "Thread count: 4 physical cores, 8 logical processors, using up to 8 threads\n",
      "\n",
      "Non-default parameters:\n",
      "TimeLimit  60\n",
      "\n",
      "Optimize a model with 8285 rows, 5700 columns and 24727 nonzeros\n",
      "Model fingerprint: 0xae919de6\n",
      "Variable types: 1450 continuous, 4250 integer (4250 binary)\n",
      "Coefficient statistics:\n",
      "  Matrix range     [3e-02, 1e+06]\n",
      "  Objective range  [1e+03, 2e+03]\n",
      "  Bounds range     [1e+00, 1e+00]\n",
      "  RHS range        [9e-02, 1e+06]\n",
      "\n",
      "User MIP start produced solution with objective 18772.9 (0.01s)\n",
      "Loaded user MIP start with objective 18772.9\n",
      "\n",
      "Presolve removed 5806 rows and 3956 columns\n",
      "Presolve time: 0.16s\n",
      "Presolved: 2479 rows, 1744 columns, 9503 nonzeros\n",
      "Found heuristic solution: objective 17228.018235\n",
      "Variable types: 380 continuous, 1364 integer (1364 binary)\n",
      "\n",
      "Root relaxation: objective 8.399367e+03, 1337 iterations, 0.02 seconds (0.01 work units)\n",
      "\n",
      "    Nodes    |    Current Node    |     Objective Bounds      |     Work\n",
      " Expl Unexpl |  Obj  Depth IntInf | Incumbent    BestBd   Gap | It/Node Time\n",
      "\n",
      "     0     0 8399.36738    0  302 17228.0182 8399.36738  51.2%     -    0s\n",
      "H    0     0                    16274.613507 8399.36738  48.4%     -    0s\n",
      "H    0     0                    16021.644780 8399.36738  47.6%     -    0s\n",
      "H    0     0                    15290.528538 8399.36738  45.1%     -    0s\n",
      "H    0     0                    15258.034516 8399.36738  45.0%     -    0s\n",
      "     0     0 11752.0325    0  196 15258.0345 11752.0325  23.0%     -    0s\n",
      "H    0     0                    15216.249583 12392.2880  18.6%     -    0s\n",
      "     0     0 12392.2880    0  181 15216.2496 12392.2880  18.6%     -    0s\n",
      "H    0     0                    15056.525656 12546.4236  16.7%     -    0s\n",
      "H    0     0                    15051.040524 12546.4236  16.6%     -    0s\n",
      "     0     0 12546.4236    0  124 15051.0405 12546.4236  16.6%     -    0s\n",
      "     0     0 12741.8484    0   87 15051.0405 12741.8484  15.3%     -    0s\n",
      "     0     0 12741.8484    0   87 15051.0405 12741.8484  15.3%     -    0s\n",
      "     0     0 14515.2362    0   30 15051.0405 14515.2362  3.56%     -    0s\n",
      "H    0     0                    14599.093196 14515.2395  0.57%     -    0s\n",
      "H    0     0                    14598.987092 14515.2395  0.57%     -    0s\n",
      "     0     0 14522.6509    0   16 14598.9871 14522.6509  0.52%     -    0s\n",
      "     0     0 14539.0358    0   19 14598.9871 14539.0358  0.41%     -    0s\n",
      "     0     0 14589.1266    0   10 14598.9871 14589.1266  0.07%     -    0s\n",
      "H    0     0                    14590.799609 14589.1266  0.01%     -    0s\n",
      "     0     0          -    0      14590.7996 14590.3608  0.00%     -    0s\n",
      "\n",
      "Explored 1 nodes (3067 simplex iterations) in 0.60 seconds (0.27 work units)\n",
      "Thread count was 8 (of 8 available processors)\n",
      "\n",
      "Solution count 10: 14590.8 14590.8 14591.6 ... 15290.5\n",
      "\n",
      "Optimal solution found (tolerance 1.00e-04)\n",
      "Best objective 1.459079957411e+04, best bound 1.459036075509e+04, gap 0.0030%\n"
     ]
    }
   ],
   "source": [
    "# New model\n",
    "rail2 = Railway.load(FILENAME)\n",
    "rail2.model.setParam('TimeLimit', 60)\n",
    "# rail2.model.setParam('outputFlag', 0) # Avoid verbose output\n",
    "\n",
    "# Set model variables `Start` to SA solution\n",
    "y, x, h, w, v = rail2.get_vars_from_times(S)\n",
    "rail2.set_start(y, x, h, w, v)\n",
    "\n",
    "# Update the model to actually set the variables\n",
    "rail2.model.update()\n",
    "\n",
    "# Set constraints and objective\n",
    "rail2.set_constraints()\n",
    "rail2.set_objective()\n",
    "\n",
    "# Print initial objective value\n",
    "objective_value = sum(\n",
    "\tsum(\n",
    "\t\trail2.phi[o, d, t] * (rail2.v[o, d, t].start - rail2.Omega[o, d])\n",
    "\t\tfor t in rail2.T\n",
    "\t)\n",
    "\tfor o, d in rail2.OD\n",
    ")\n",
    "\n",
    "print(f\"Final solution with SA:\\t{f_values[-1]}\")\n",
    "print(f\"Start objective value:\\t{objective_value}\")\n",
    "\n",
    "# Optimize the model\n",
    "rail2.optimize()"
   ]
  },
  {
   "cell_type": "code",
   "execution_count": 9,
   "metadata": {},
   "outputs": [],
   "source": [
    "# Check start for all variables\n",
    "\n",
    "# y\n",
    "for j in rail2.J:\n",
    "\tfor t in rail2.T:\n",
    "\t\tif rail2.y[j, t].start != y[j, t]:\n",
    "\t\t\tprint(f\"j: {j}, t: {t}, values: y[{j}, {t}]: {y[j, t]} -> {rail2.y[j, t].start}\")\n",
    "\n",
    "# x\n",
    "for a in rail2.A:\n",
    "\tfor t in rail2.T:\n",
    "\t\tif rail2.x[*a, t].start != x[a, t]:\n",
    "\t\t\tprint(f\"a: {a}, t: {t}, values: x[{a}, {t}]: {x[a, t]} -> {rail2.x[*a, t].start}\")\n",
    "   \n",
    "# h\n",
    "for o, d in rail2.OD:\n",
    "\tfor t in rail2.T:\n",
    "\t\tfor i in range(1, rail2.K + 1):\n",
    "\t\t\tif rail2.h[o, d, t, i].start != h[o, d, t, i]:\n",
    "\t\t\t\tprint(f\"o: {o}, d: {d}, t: {t}, i: {i}, values: h[{o}, {d}, {t}, {i}]: {h[o, d, t, i]} -> {rail2.h[o, d, t, i].start}\")\n",
    "\t\n",
    "# w\n",
    "for a in rail2.A:\n",
    "\tfor t in rail2.T:\n",
    "\t\tif rail2.w[*a, t].start != w[a, t]:\n",
    "\t\t\tprint(f\"a: {a}, t: {t}, values: w[{a}, {t}]: {w[a, t]} -> {rail2.w[*a, t].start}\")\n",
    "   \n",
    "# v\n",
    "for o, d in rail2.OD:\n",
    "\tfor t in rail2.T:\n",
    "\t\tif rail2.v[o, d, t].start != v[o, d, t]:\n",
    "\t\t\tprint(f\"o: {o}, d: {d}, t: {t}, values: v[{o}, {d}, {t}]: {v[o, d, t]} -> {rail2.v[o, d, t].start}\")"
   ]
  }
 ],
 "metadata": {
  "kernelspec": {
   "display_name": "mathopt",
   "language": "python",
   "name": "python3"
  },
  "language_info": {
   "codemirror_mode": {
    "name": "ipython",
    "version": 3
   },
   "file_extension": ".py",
   "mimetype": "text/x-python",
   "name": "python",
   "nbconvert_exporter": "python",
   "pygments_lexer": "ipython3",
   "version": "3.11.5"
  }
 },
 "nbformat": 4,
 "nbformat_minor": 2
}
