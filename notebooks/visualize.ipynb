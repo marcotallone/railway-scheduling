{
 "cells": [
  {
   "cell_type": "code",
   "execution_count": 1,
   "id": "b596d527",
   "metadata": {},
   "outputs": [],
   "source": [
    "import os\n",
    "import sys\n",
    "from railway import *"
   ]
  },
  {
   "cell_type": "code",
   "execution_count": 2,
   "id": "1c3467dd",
   "metadata": {},
   "outputs": [
    {
     "name": "stdout",
     "output_type": "stream",
     "text": [
      "Current working directory: 📂 /home/marco/railway-scheduling\n"
     ]
    }
   ],
   "source": [
    "# Root folder directory\n",
    "ROOT_DIR = \"/home/marco/railway-scheduling\"\n",
    "\n",
    "# Set the current directory to root directory\n",
    "os.chdir(ROOT_DIR)\n",
    "sys.path.append(os.getcwd())\n",
    "print(f\"Current working directory: 📂 {os.getcwd()}\")"
   ]
  },
  {
   "cell_type": "code",
   "execution_count": 3,
   "id": "7cdbce27",
   "metadata": {},
   "outputs": [
    {
     "name": "stdout",
     "output_type": "stream",
     "text": [
      "Set parameter Username\n",
      "Set parameter LicenseID to value 2629256\n",
      "Academic license - for non-commercial use only - expires 2026-02-27\n",
      "Railway scheduling problem\n",
      "\n",
      "Parameters:\n",
      "N:  20 stations\n",
      "T:  50 periods\n",
      "J:  40 jobs\n",
      "P:  2000 passengers\n",
      "K:  3 alternative routes\n",
      "Aj: 40 jobs with arcs\n",
      "Ja: 39 arcs with jobs\n",
      "C:  0 arcs unavailable simultaneously\n",
      "\n",
      "Optimization model:\n",
      "Variables:   0\n",
      "Constraints: 0\n",
      "Objective:   0.0\n",
      "Status:      LOADED\n",
      "\n"
     ]
    }
   ],
   "source": [
    "# Define problem parameters\n",
    "N = 20\n",
    "T = 50\n",
    "J = 40\n",
    "P = 2000\n",
    "K = 3\n",
    "\n",
    "# Name of the file to load\n",
    "FILENAME = f\"datasets/railway_N{N}_T{T}_J{J}_P{P}_K{K}.json\"\n",
    "\n",
    "# Instantiate the Railway object\n",
    "rail = Railway.load(FILENAME)\n",
    "# rail.model.setParam('TimeLimit', 60)\n",
    "\n",
    "# Print the model in summary\n",
    "print(rail)"
   ]
  },
  {
   "cell_type": "code",
   "execution_count": 4,
   "id": "521c151b",
   "metadata": {},
   "outputs": [
    {
     "name": "stdout",
     "output_type": "stream",
     "text": [
      "Set parameter LPWarmStart to value 0\n",
      "Set parameter PoolSolutions to value 1\n",
      "Set parameter MultiObjPre to value 0\n",
      "Set parameter Cuts to value 0\n",
      "Set parameter CutPasses to value 0\n",
      "Set parameter Threads to value 1\n",
      "Set parameter Heuristics to value 0\n",
      "Set parameter Symmetry to value 0\n",
      "Gurobi Optimizer version 12.0.1 build v12.0.1rc0 (linux64 - \"Arch Linux\")\n",
      "\n",
      "CPU model: Intel(R) Core(TM) i7-8565U CPU @ 1.80GHz, instruction set [SSE2|AVX|AVX2]\n",
      "Thread count: 4 physical cores, 8 logical processors, using up to 1 threads\n",
      "\n",
      "Non-default parameters:\n",
      "LPWarmStart  0\n",
      "Heuristics  0\n",
      "Symmetry  0\n",
      "Cuts  0\n",
      "CutPasses  0\n",
      "Threads  1\n",
      "MultiObjPre  0\n",
      "PoolSolutions  1\n",
      "\n",
      "Optimize a model with 169330 rows, 101000 columns and 470785 nonzeros\n",
      "Model fingerprint: 0x8cf3c06d\n",
      "Variable types: 29500 continuous, 71500 integer (71500 binary)\n",
      "Coefficient statistics:\n",
      "  Matrix range     [3e-02, 3e+07]\n",
      "  Objective range  [1e+03, 2e+03]\n",
      "  Bounds range     [1e+00, 1e+00]\n",
      "  RHS range        [1e-01, 3e+07]\n",
      "Presolve removed 151337 rows and 87290 columns\n",
      "Presolve time: 0.33s\n",
      "Presolved: 17993 rows, 13710 columns, 45734 nonzeros\n",
      "Variable types: 4100 continuous, 9610 integer (9610 binary)\n",
      "Performing another presolve...\n",
      "Presolve removed 16273 rows and 12792 columns\n",
      "Presolve time: 1.94s\n",
      "\n",
      "Root relaxation: objective -9.411105e+03, 311 iterations, 0.00 seconds (0.00 work units)\n",
      "\n",
      "    Nodes    |    Current Node    |     Objective Bounds      |     Work\n",
      " Expl Unexpl |  Obj  Depth IntInf | Incumbent    BestBd   Gap | It/Node Time\n",
      "\n",
      "     0     0 -9411.1054    0   21          - -9411.1054      -     -    2s\n",
      "     0     2 -9311.1154    0   21          - -9311.1154      -     -    2s\n",
      "*  106   106             101    2640.8325117 -9139.8433   446%   5.5    2s\n",
      "*  107   105             100    2581.3429383 -9139.8433   454%   5.8    2s\n",
      "*  563   457              13    2564.1954106 2564.19541  0.00%   5.8    3s\n",
      "\n",
      "Explored 563 nodes (4247 simplex iterations) in 3.90 seconds (1.72 work units)\n",
      "Thread count was 1 (of 8 available processors)\n",
      "\n",
      "Solution count 1: 2564.19 \n",
      "No other solutions better than 2564.2\n",
      "\n",
      "Optimal solution found (tolerance 1.00e-04)\n",
      "Best objective 2.564193374868e+03, best bound 2.564193374868e+03, gap 0.0000%\n"
     ]
    },
    {
     "data": {
      "text/plain": [
       "{'runtime': 3.910651922225952,\n",
       " 'node_count': 563.0,\n",
       " 'simplex_iterations': 4247.0,\n",
       " 'barrier_iterations': 0,\n",
       " 'mip_gap': 0.0,\n",
       " 'obj_val': 2564.1933748684824}"
      ]
     },
     "execution_count": 4,
     "metadata": {},
     "output_type": "execute_result"
    }
   ],
   "source": [
    "# Set constraints\n",
    "rail.set_constraints()\n",
    "\n",
    "# Set objective\n",
    "rail.set_objective()\n",
    "\n",
    "# Most basic model\n",
    "rail.model.setParam('LPWarmStart',0)\n",
    "rail.model.setParam('PoolSolutions', 1)\n",
    "# rail.model.Params.presolve = 0\n",
    "rail.model.Params.MultiObjPre = 0\n",
    "rail.model.Params.cuts = 0\n",
    "rail.model.Params.cutpasses = 0\n",
    "rail.model.Params.threads = 1\n",
    "rail.model.Params.heuristics = 0\n",
    "rail.model.Params.symmetry = 0\n",
    "\n",
    "# Solve the scheduling problem\n",
    "rail.optimize()"
   ]
  },
  {
   "cell_type": "code",
   "execution_count": 5,
   "id": "a70ef923",
   "metadata": {},
   "outputs": [
    {
     "name": "stdout",
     "output_type": "stream",
     "text": [
      "Optimization took 3.9107 seconds\n"
     ]
    }
   ],
   "source": [
    "# Measure runtime\n",
    "runtime = rail.model.Runtime\n",
    "print(f\"Optimization took {runtime:.4f} seconds\")"
   ]
  },
  {
   "cell_type": "code",
   "execution_count": 6,
   "id": "ea4abfe5",
   "metadata": {},
   "outputs": [
    {
     "name": "stdout",
     "output_type": "stream",
     "text": [
      "<class 'dict'>\n",
      "{1: 41, 2: 18, 3: 34, 4: 12, 5: 17, 6: 13, 7: 47, 8: 34, 9: 47, 10: 36, 11: 37, 12: 3, 13: 45, 14: 36, 15: 22, 16: 11, 17: 48, 18: 37, 19: 27, 20: 12, 21: 26, 22: 3, 23: 22, 24: 45, 25: 49, 26: 38, 27: 45, 28: 47, 29: 44, 30: 42, 31: 19, 32: 29, 33: 8, 34: 25, 35: 44, 36: 31, 37: 14, 38: 8, 39: 35, 40: 24}\n",
      "\n",
      "<class 'dict'>\n",
      "{1: [(10, 20)], 2: [(14, 17)], 3: [(9, 10)], 4: [(5, 20)], 5: [(10, 15)], 6: [(8, 13)], 7: [(5, 7)], 8: [(10, 16)], 9: [(9, 15)], 10: [(10, 15)], 11: [(2, 16)], 12: [(17, 20)], 13: [(6, 15)], 14: [(3, 6)], 15: [(13, 14)], 16: [(14, 18)], 17: [(5, 15)], 18: [(3, 17)], 19: [(3, 5)], 20: [(6, 14)], 21: [(11, 20)], 22: [(13, 20)], 23: [(2, 7)], 24: [(8, 19)], 25: [(3, 10)], 26: [(11, 16)], 27: [(8, 16)], 28: [(5, 19)], 29: [(2, 10)], 30: [(8, 9)], 31: [(8, 17)], 32: [(1, 14)], 33: [(2, 6)], 34: [(11, 17)], 35: [(11, 12)], 36: [(14, 16)], 37: [(3, 13)], 38: [(17, 18)], 39: [(1, 2)], 40: [(7, 19)]}\n",
      "\n",
      "<class 'list'>\n",
      "[(1, 2), (1, 3), (1, 4), (1, 5), (1, 6), (1, 7), (1, 8), (1, 9), (1, 10), (1, 11), (1, 12), (1, 13), (1, 14), (1, 15), (1, 16), (1, 17), (1, 18), (1, 19), (1, 20), (2, 3), (2, 4), (2, 5), (2, 6), (2, 7), (2, 8), (2, 9), (2, 10), (2, 11), (2, 12), (2, 13), (2, 14), (2, 15), (2, 16), (2, 17), (2, 18), (2, 19), (2, 20), (3, 4), (3, 5), (3, 6), (3, 7), (3, 8), (3, 9), (3, 10), (3, 11), (3, 12), (3, 13), (3, 14), (3, 15), (3, 16), (3, 17), (3, 18), (3, 19), (3, 20), (4, 5), (4, 6), (4, 7), (4, 8), (4, 9), (4, 10), (4, 11), (4, 12), (4, 13), (4, 14), (4, 15), (4, 16), (4, 17), (4, 18), (4, 19), (4, 20), (5, 6), (5, 7), (5, 8), (5, 9), (5, 10), (5, 11), (5, 12), (5, 13), (5, 14), (5, 15), (5, 16), (5, 17), (5, 18), (5, 19), (5, 20), (6, 7), (6, 8), (6, 9), (6, 10), (6, 11), (6, 12), (6, 13), (6, 14), (6, 15), (6, 16), (6, 17), (6, 18), (6, 19), (6, 20), (7, 8), (7, 9), (7, 10), (7, 11), (7, 12), (7, 13), (7, 14), (7, 15), (7, 16), (7, 17), (7, 18), (7, 19), (7, 20), (8, 9), (8, 10), (8, 11), (8, 12), (8, 13), (8, 14), (8, 15), (8, 16), (8, 17), (8, 18), (8, 19), (8, 20), (9, 10), (9, 11), (9, 12), (9, 13), (9, 14), (9, 15), (9, 16), (9, 17), (9, 18), (9, 19), (9, 20), (10, 11), (10, 12), (10, 13), (10, 14), (10, 15), (10, 16), (10, 17), (10, 18), (10, 19), (10, 20), (11, 12), (11, 13), (11, 14), (11, 15), (11, 16), (11, 17), (11, 18), (11, 19), (11, 20), (12, 13), (12, 14), (12, 15), (12, 16), (12, 17), (12, 18), (12, 19), (12, 20), (13, 14), (13, 15), (13, 16), (13, 17), (13, 18), (13, 19), (13, 20), (14, 15), (14, 16), (14, 17), (14, 18), (14, 19), (14, 20), (15, 16), (15, 17), (15, 18), (15, 19), (15, 20), (16, 17), (16, 18), (16, 19), (16, 20), (17, 18), (17, 19), (17, 20), (18, 19), (18, 20), (19, 20)]\n"
     ]
    }
   ],
   "source": [
    "print(type(rail.S))\n",
    "print(rail.S)\n",
    "\n",
    "print()\n",
    "\n",
    "print(type(rail.Aj))\n",
    "print(rail.Aj)\n",
    "\n",
    "print()\n",
    "\n",
    "print(type(rail.A))\n",
    "print(rail.A)"
   ]
  },
  {
   "cell_type": "code",
   "execution_count": 7,
   "id": "534ab5c3",
   "metadata": {},
   "outputs": [
    {
     "name": "stdout",
     "output_type": "stream",
     "text": [
      "sorted_arc_names\n",
      "['a0', 'a12', 'a22', 'a23', 'a26', 'a32', 'a38', 'a39', 'a43', 'a46', 'a50', 'a71', 'a79', 'a83', 'a84', 'a92', 'a93', 'a110', 'a112', 'a116', 'a119', 'a120', 'a122', 'a124', 'a129', 'a139', 'a140', 'a144', 'a145', 'a149', 'a150', 'a153', 'a162', 'a168', 'a170', 'a171', 'a172', 'a184', 'a186']\n",
      "Aj\n",
      "{1: [27], 2: [35], 3: [23], 4: [14], 5: [25], 6: [19], 7: [11], 8: [26], 9: [24], 10: [25], 11: [5], 12: [38], 13: [16], 14: [7], 15: [32], 16: [36], 17: [12], 18: [10], 19: [6], 20: [15], 21: [31], 22: [33], 23: [3], 24: [22], 25: [8], 26: [29], 27: [20], 28: [13], 29: [4], 30: [18], 31: [21], 32: [1], 33: [2], 34: [30], 35: [28], 36: [34], 37: [9], 38: [37], 39: [0], 40: [17]}\n",
      "S\n",
      "{1: 41, 2: 18, 3: 34, 4: 12, 5: 17, 6: 13, 7: 47, 8: 34, 9: 47, 10: 36, 11: 37, 12: 3, 13: 45, 14: 36, 15: 22, 16: 11, 17: 48, 18: 37, 19: 27, 20: 12, 21: 26, 22: 3, 23: 22, 24: 45, 25: 49, 26: 38, 27: 45, 28: 47, 29: 44, 30: 42, 31: 19, 32: 29, 33: 8, 34: 25, 35: 44, 36: 31, 37: 14, 38: 8, 39: 35, 40: 24}\n"
     ]
    }
   ],
   "source": [
    "S = rail.S.copy()\n",
    "Aj_original = rail.Aj.copy()  # Keep original reference\n",
    "Aj = rail.Aj.copy() \n",
    "A = rail.A.copy()\n",
    "Tend = rail.Tend\n",
    "\n",
    "# Create dictionary of named arcs\n",
    "An = {}\n",
    "for i, a in enumerate(A):\n",
    "    An[f\"a{i}\"] = a\n",
    "\n",
    "# Use a regular set instead of OrderedDict\n",
    "jobs_arc_set = set()\n",
    "\n",
    "# Convert arcs in Aj dictionary to their names\n",
    "for job, job_arc_list in Aj_original.items():\n",
    "    for i, arc in enumerate(job_arc_list):\n",
    "        # Find the name of the arc in An\n",
    "        arc_name = [name for name, value in An.items() if value == arc]\n",
    "        if arc_name:\n",
    "            # Replace the arc with its name\n",
    "            Aj[job][i] = arc_name[0]\n",
    "            \n",
    "            # Add the arc to the set\n",
    "            jobs_arc_set.add(arc_name[0])\n",
    "\n",
    "# Sort the set when you need ordered output\n",
    "# This sorts by the numerical portion (e.g., \"a12\" -> 12)\n",
    "sorted_arc_names = sorted(jobs_arc_set, key=lambda x: int(x[1:]))\n",
    "\n",
    "# Convert arcs in Aj to their position in sorted_arc_names\n",
    "for job, job_arc_list in Aj.items():\n",
    "    for i, arc_name in enumerate(job_arc_list):\n",
    "        # Find the index of the arc name in sorted_arc_names\n",
    "        index = sorted_arc_names.index(arc_name)\n",
    "        # Replace the arc name with its index\n",
    "        Aj[job][i] = index\n",
    "        \n",
    "        \n",
    "    \n",
    "print('sorted_arc_names')\n",
    "print(sorted_arc_names)\n",
    "\n",
    "print('Aj')\n",
    "print(Aj)\n",
    "\n",
    "print('S')\n",
    "print(S)"
   ]
  },
  {
   "cell_type": "code",
   "execution_count": 8,
   "id": "5ef82e06",
   "metadata": {},
   "outputs": [
    {
     "data": {
      "text/plain": [
       "[27]"
      ]
     },
     "execution_count": 8,
     "metadata": {},
     "output_type": "execute_result"
    }
   ],
   "source": [
    "j0 = list(S.keys())[0]\n",
    "Aj[j0]"
   ]
  },
  {
   "cell_type": "code",
   "execution_count": 9,
   "id": "6badced5",
   "metadata": {},
   "outputs": [
    {
     "data": {
      "application/vnd.plotly.v1+json": {
       "config": {
        "plotlyServerURL": "https://plot.ly"
       },
       "data": [],
       "layout": {
        "height": 600,
        "shapes": [
         {
          "line": {
           "color": "white",
           "width": 1
          },
          "type": "line",
          "x0": 0,
          "x1": 50,
          "xref": "x",
          "y0": 0,
          "y1": 0,
          "yref": "y"
         },
         {
          "line": {
           "color": "white",
           "width": 1
          },
          "type": "line",
          "x0": 0,
          "x1": 50,
          "xref": "x",
          "y0": 1,
          "y1": 1,
          "yref": "y"
         },
         {
          "line": {
           "color": "white",
           "width": 1
          },
          "type": "line",
          "x0": 0,
          "x1": 50,
          "xref": "x",
          "y0": 2,
          "y1": 2,
          "yref": "y"
         },
         {
          "line": {
           "color": "white",
           "width": 1
          },
          "type": "line",
          "x0": 0,
          "x1": 50,
          "xref": "x",
          "y0": 3,
          "y1": 3,
          "yref": "y"
         },
         {
          "line": {
           "color": "white",
           "width": 1
          },
          "type": "line",
          "x0": 0,
          "x1": 50,
          "xref": "x",
          "y0": 4,
          "y1": 4,
          "yref": "y"
         },
         {
          "line": {
           "color": "white",
           "width": 1
          },
          "type": "line",
          "x0": 0,
          "x1": 50,
          "xref": "x",
          "y0": 5,
          "y1": 5,
          "yref": "y"
         },
         {
          "line": {
           "color": "white",
           "width": 1
          },
          "type": "line",
          "x0": 0,
          "x1": 50,
          "xref": "x",
          "y0": 6,
          "y1": 6,
          "yref": "y"
         },
         {
          "line": {
           "color": "white",
           "width": 1
          },
          "type": "line",
          "x0": 0,
          "x1": 50,
          "xref": "x",
          "y0": 7,
          "y1": 7,
          "yref": "y"
         },
         {
          "line": {
           "color": "white",
           "width": 1
          },
          "type": "line",
          "x0": 0,
          "x1": 50,
          "xref": "x",
          "y0": 8,
          "y1": 8,
          "yref": "y"
         },
         {
          "line": {
           "color": "white",
           "width": 1
          },
          "type": "line",
          "x0": 0,
          "x1": 50,
          "xref": "x",
          "y0": 9,
          "y1": 9,
          "yref": "y"
         },
         {
          "line": {
           "color": "white",
           "width": 1
          },
          "type": "line",
          "x0": 0,
          "x1": 50,
          "xref": "x",
          "y0": 10,
          "y1": 10,
          "yref": "y"
         },
         {
          "line": {
           "color": "white",
           "width": 1
          },
          "type": "line",
          "x0": 0,
          "x1": 50,
          "xref": "x",
          "y0": 11,
          "y1": 11,
          "yref": "y"
         },
         {
          "line": {
           "color": "white",
           "width": 1
          },
          "type": "line",
          "x0": 0,
          "x1": 50,
          "xref": "x",
          "y0": 12,
          "y1": 12,
          "yref": "y"
         },
         {
          "line": {
           "color": "white",
           "width": 1
          },
          "type": "line",
          "x0": 0,
          "x1": 50,
          "xref": "x",
          "y0": 13,
          "y1": 13,
          "yref": "y"
         },
         {
          "line": {
           "color": "white",
           "width": 1
          },
          "type": "line",
          "x0": 0,
          "x1": 50,
          "xref": "x",
          "y0": 14,
          "y1": 14,
          "yref": "y"
         },
         {
          "line": {
           "color": "white",
           "width": 1
          },
          "type": "line",
          "x0": 0,
          "x1": 50,
          "xref": "x",
          "y0": 15,
          "y1": 15,
          "yref": "y"
         },
         {
          "line": {
           "color": "white",
           "width": 1
          },
          "type": "line",
          "x0": 0,
          "x1": 50,
          "xref": "x",
          "y0": 16,
          "y1": 16,
          "yref": "y"
         },
         {
          "line": {
           "color": "white",
           "width": 1
          },
          "type": "line",
          "x0": 0,
          "x1": 50,
          "xref": "x",
          "y0": 17,
          "y1": 17,
          "yref": "y"
         },
         {
          "line": {
           "color": "white",
           "width": 1
          },
          "type": "line",
          "x0": 0,
          "x1": 50,
          "xref": "x",
          "y0": 18,
          "y1": 18,
          "yref": "y"
         },
         {
          "line": {
           "color": "white",
           "width": 1
          },
          "type": "line",
          "x0": 0,
          "x1": 50,
          "xref": "x",
          "y0": 19,
          "y1": 19,
          "yref": "y"
         },
         {
          "line": {
           "color": "white",
           "width": 1
          },
          "type": "line",
          "x0": 0,
          "x1": 50,
          "xref": "x",
          "y0": 20,
          "y1": 20,
          "yref": "y"
         },
         {
          "line": {
           "color": "white",
           "width": 1
          },
          "type": "line",
          "x0": 0,
          "x1": 50,
          "xref": "x",
          "y0": 21,
          "y1": 21,
          "yref": "y"
         },
         {
          "line": {
           "color": "white",
           "width": 1
          },
          "type": "line",
          "x0": 0,
          "x1": 50,
          "xref": "x",
          "y0": 22,
          "y1": 22,
          "yref": "y"
         },
         {
          "line": {
           "color": "white",
           "width": 1
          },
          "type": "line",
          "x0": 0,
          "x1": 50,
          "xref": "x",
          "y0": 23,
          "y1": 23,
          "yref": "y"
         },
         {
          "line": {
           "color": "white",
           "width": 1
          },
          "type": "line",
          "x0": 0,
          "x1": 50,
          "xref": "x",
          "y0": 24,
          "y1": 24,
          "yref": "y"
         },
         {
          "line": {
           "color": "white",
           "width": 1
          },
          "type": "line",
          "x0": 0,
          "x1": 50,
          "xref": "x",
          "y0": 25,
          "y1": 25,
          "yref": "y"
         },
         {
          "line": {
           "color": "white",
           "width": 1
          },
          "type": "line",
          "x0": 0,
          "x1": 50,
          "xref": "x",
          "y0": 26,
          "y1": 26,
          "yref": "y"
         },
         {
          "line": {
           "color": "white",
           "width": 1
          },
          "type": "line",
          "x0": 0,
          "x1": 50,
          "xref": "x",
          "y0": 27,
          "y1": 27,
          "yref": "y"
         },
         {
          "line": {
           "color": "white",
           "width": 1
          },
          "type": "line",
          "x0": 0,
          "x1": 50,
          "xref": "x",
          "y0": 28,
          "y1": 28,
          "yref": "y"
         },
         {
          "line": {
           "color": "white",
           "width": 1
          },
          "type": "line",
          "x0": 0,
          "x1": 50,
          "xref": "x",
          "y0": 29,
          "y1": 29,
          "yref": "y"
         },
         {
          "line": {
           "color": "white",
           "width": 1
          },
          "type": "line",
          "x0": 0,
          "x1": 50,
          "xref": "x",
          "y0": 30,
          "y1": 30,
          "yref": "y"
         },
         {
          "line": {
           "color": "white",
           "width": 1
          },
          "type": "line",
          "x0": 0,
          "x1": 50,
          "xref": "x",
          "y0": 31,
          "y1": 31,
          "yref": "y"
         },
         {
          "line": {
           "color": "white",
           "width": 1
          },
          "type": "line",
          "x0": 0,
          "x1": 50,
          "xref": "x",
          "y0": 32,
          "y1": 32,
          "yref": "y"
         },
         {
          "line": {
           "color": "white",
           "width": 1
          },
          "type": "line",
          "x0": 0,
          "x1": 50,
          "xref": "x",
          "y0": 33,
          "y1": 33,
          "yref": "y"
         },
         {
          "line": {
           "color": "white",
           "width": 1
          },
          "type": "line",
          "x0": 0,
          "x1": 50,
          "xref": "x",
          "y0": 34,
          "y1": 34,
          "yref": "y"
         },
         {
          "line": {
           "color": "white",
           "width": 1
          },
          "type": "line",
          "x0": 0,
          "x1": 50,
          "xref": "x",
          "y0": 35,
          "y1": 35,
          "yref": "y"
         },
         {
          "line": {
           "color": "white",
           "width": 1
          },
          "type": "line",
          "x0": 0,
          "x1": 50,
          "xref": "x",
          "y0": 36,
          "y1": 36,
          "yref": "y"
         },
         {
          "line": {
           "color": "white",
           "width": 1
          },
          "type": "line",
          "x0": 0,
          "x1": 50,
          "xref": "x",
          "y0": 37,
          "y1": 37,
          "yref": "y"
         },
         {
          "line": {
           "color": "white",
           "width": 1
          },
          "type": "line",
          "x0": 0,
          "x1": 50,
          "xref": "x",
          "y0": 38,
          "y1": 38,
          "yref": "y"
         },
         {
          "line": {
           "color": "white",
           "width": 1
          },
          "type": "line",
          "x0": 0,
          "x1": 50,
          "xref": "x",
          "y0": 39,
          "y1": 39,
          "yref": "y"
         },
         {
          "fillcolor": "LightSkyBlue",
          "line": {
           "color": "LightSkyBlue",
           "width": 1
          },
          "type": "rect",
          "x0": 41,
          "x1": 42,
          "xref": "x",
          "y0": 27,
          "y1": 28,
          "yref": "y"
         },
         {
          "fillcolor": "LightCoral",
          "line": {
           "color": "LightCoral",
           "width": 1
          },
          "type": "rect",
          "x0": 18,
          "x1": 19,
          "xref": "x",
          "y0": 35,
          "y1": 36,
          "yref": "y"
         },
         {
          "fillcolor": "LightGreen",
          "line": {
           "color": "LightGreen",
           "width": 1
          },
          "type": "rect",
          "x0": 34,
          "x1": 35,
          "xref": "x",
          "y0": 23,
          "y1": 24,
          "yref": "y"
         },
         {
          "fillcolor": "LightPink",
          "line": {
           "color": "LightPink",
           "width": 1
          },
          "type": "rect",
          "x0": 12,
          "x1": 13,
          "xref": "x",
          "y0": 14,
          "y1": 15,
          "yref": "y"
         },
         {
          "fillcolor": "LightSalmon",
          "line": {
           "color": "LightSalmon",
           "width": 1
          },
          "type": "rect",
          "x0": 17,
          "x1": 18,
          "xref": "x",
          "y0": 25,
          "y1": 26,
          "yref": "y"
         },
         {
          "fillcolor": "LightSteelBlue",
          "line": {
           "color": "LightSteelBlue",
           "width": 1
          },
          "type": "rect",
          "x0": 13,
          "x1": 14,
          "xref": "x",
          "y0": 19,
          "y1": 20,
          "yref": "y"
         },
         {
          "fillcolor": "LightYellow",
          "line": {
           "color": "LightYellow",
           "width": 1
          },
          "type": "rect",
          "x0": 47,
          "x1": 48,
          "xref": "x",
          "y0": 11,
          "y1": 12,
          "yref": "y"
         },
         {
          "fillcolor": "LightGray",
          "line": {
           "color": "LightGray",
           "width": 1
          },
          "type": "rect",
          "x0": 34,
          "x1": 35,
          "xref": "x",
          "y0": 26,
          "y1": 27,
          "yref": "y"
         },
         {
          "fillcolor": "LightGoldenRodYellow",
          "line": {
           "color": "LightGoldenRodYellow",
           "width": 1
          },
          "type": "rect",
          "x0": 47,
          "x1": 48,
          "xref": "x",
          "y0": 24,
          "y1": 25,
          "yref": "y"
         },
         {
          "fillcolor": "LightCyan",
          "line": {
           "color": "LightCyan",
           "width": 1
          },
          "type": "rect",
          "x0": 36,
          "x1": 37,
          "xref": "x",
          "y0": 25,
          "y1": 26,
          "yref": "y"
         },
         {
          "fillcolor": "LightSkyBlue",
          "line": {
           "color": "LightSkyBlue",
           "width": 1
          },
          "type": "rect",
          "x0": 37,
          "x1": 38,
          "xref": "x",
          "y0": 5,
          "y1": 6,
          "yref": "y"
         },
         {
          "fillcolor": "LightCoral",
          "line": {
           "color": "LightCoral",
           "width": 1
          },
          "type": "rect",
          "x0": 3,
          "x1": 4,
          "xref": "x",
          "y0": 38,
          "y1": 39,
          "yref": "y"
         },
         {
          "fillcolor": "LightGreen",
          "line": {
           "color": "LightGreen",
           "width": 1
          },
          "type": "rect",
          "x0": 45,
          "x1": 46,
          "xref": "x",
          "y0": 16,
          "y1": 17,
          "yref": "y"
         },
         {
          "fillcolor": "LightPink",
          "line": {
           "color": "LightPink",
           "width": 1
          },
          "type": "rect",
          "x0": 36,
          "x1": 37,
          "xref": "x",
          "y0": 7,
          "y1": 8,
          "yref": "y"
         },
         {
          "fillcolor": "LightSalmon",
          "line": {
           "color": "LightSalmon",
           "width": 1
          },
          "type": "rect",
          "x0": 22,
          "x1": 23,
          "xref": "x",
          "y0": 32,
          "y1": 33,
          "yref": "y"
         },
         {
          "fillcolor": "LightSteelBlue",
          "line": {
           "color": "LightSteelBlue",
           "width": 1
          },
          "type": "rect",
          "x0": 11,
          "x1": 12,
          "xref": "x",
          "y0": 36,
          "y1": 37,
          "yref": "y"
         },
         {
          "fillcolor": "LightYellow",
          "line": {
           "color": "LightYellow",
           "width": 1
          },
          "type": "rect",
          "x0": 48,
          "x1": 49,
          "xref": "x",
          "y0": 12,
          "y1": 13,
          "yref": "y"
         },
         {
          "fillcolor": "LightGray",
          "line": {
           "color": "LightGray",
           "width": 1
          },
          "type": "rect",
          "x0": 37,
          "x1": 38,
          "xref": "x",
          "y0": 10,
          "y1": 11,
          "yref": "y"
         },
         {
          "fillcolor": "LightGoldenRodYellow",
          "line": {
           "color": "LightGoldenRodYellow",
           "width": 1
          },
          "type": "rect",
          "x0": 27,
          "x1": 28,
          "xref": "x",
          "y0": 6,
          "y1": 7,
          "yref": "y"
         },
         {
          "fillcolor": "LightCyan",
          "line": {
           "color": "LightCyan",
           "width": 1
          },
          "type": "rect",
          "x0": 12,
          "x1": 13,
          "xref": "x",
          "y0": 15,
          "y1": 16,
          "yref": "y"
         },
         {
          "fillcolor": "LightSkyBlue",
          "line": {
           "color": "LightSkyBlue",
           "width": 1
          },
          "type": "rect",
          "x0": 26,
          "x1": 27,
          "xref": "x",
          "y0": 31,
          "y1": 32,
          "yref": "y"
         },
         {
          "fillcolor": "LightCoral",
          "line": {
           "color": "LightCoral",
           "width": 1
          },
          "type": "rect",
          "x0": 3,
          "x1": 4,
          "xref": "x",
          "y0": 33,
          "y1": 34,
          "yref": "y"
         },
         {
          "fillcolor": "LightGreen",
          "line": {
           "color": "LightGreen",
           "width": 1
          },
          "type": "rect",
          "x0": 22,
          "x1": 23,
          "xref": "x",
          "y0": 3,
          "y1": 4,
          "yref": "y"
         },
         {
          "fillcolor": "LightPink",
          "line": {
           "color": "LightPink",
           "width": 1
          },
          "type": "rect",
          "x0": 45,
          "x1": 46,
          "xref": "x",
          "y0": 22,
          "y1": 23,
          "yref": "y"
         },
         {
          "fillcolor": "LightSalmon",
          "line": {
           "color": "LightSalmon",
           "width": 1
          },
          "type": "rect",
          "x0": 49,
          "x1": 50,
          "xref": "x",
          "y0": 8,
          "y1": 9,
          "yref": "y"
         },
         {
          "fillcolor": "LightSteelBlue",
          "line": {
           "color": "LightSteelBlue",
           "width": 1
          },
          "type": "rect",
          "x0": 38,
          "x1": 39,
          "xref": "x",
          "y0": 29,
          "y1": 30,
          "yref": "y"
         },
         {
          "fillcolor": "LightYellow",
          "line": {
           "color": "LightYellow",
           "width": 1
          },
          "type": "rect",
          "x0": 45,
          "x1": 46,
          "xref": "x",
          "y0": 20,
          "y1": 21,
          "yref": "y"
         },
         {
          "fillcolor": "LightGray",
          "line": {
           "color": "LightGray",
           "width": 1
          },
          "type": "rect",
          "x0": 47,
          "x1": 48,
          "xref": "x",
          "y0": 13,
          "y1": 14,
          "yref": "y"
         },
         {
          "fillcolor": "LightGoldenRodYellow",
          "line": {
           "color": "LightGoldenRodYellow",
           "width": 1
          },
          "type": "rect",
          "x0": 44,
          "x1": 45,
          "xref": "x",
          "y0": 4,
          "y1": 5,
          "yref": "y"
         },
         {
          "fillcolor": "LightCyan",
          "line": {
           "color": "LightCyan",
           "width": 1
          },
          "type": "rect",
          "x0": 42,
          "x1": 43,
          "xref": "x",
          "y0": 18,
          "y1": 19,
          "yref": "y"
         },
         {
          "fillcolor": "LightSkyBlue",
          "line": {
           "color": "LightSkyBlue",
           "width": 1
          },
          "type": "rect",
          "x0": 19,
          "x1": 20,
          "xref": "x",
          "y0": 21,
          "y1": 22,
          "yref": "y"
         },
         {
          "fillcolor": "LightCoral",
          "line": {
           "color": "LightCoral",
           "width": 1
          },
          "type": "rect",
          "x0": 29,
          "x1": 30,
          "xref": "x",
          "y0": 1,
          "y1": 2,
          "yref": "y"
         },
         {
          "fillcolor": "LightGreen",
          "line": {
           "color": "LightGreen",
           "width": 1
          },
          "type": "rect",
          "x0": 8,
          "x1": 9,
          "xref": "x",
          "y0": 2,
          "y1": 3,
          "yref": "y"
         },
         {
          "fillcolor": "LightPink",
          "line": {
           "color": "LightPink",
           "width": 1
          },
          "type": "rect",
          "x0": 25,
          "x1": 26,
          "xref": "x",
          "y0": 30,
          "y1": 31,
          "yref": "y"
         },
         {
          "fillcolor": "LightSalmon",
          "line": {
           "color": "LightSalmon",
           "width": 1
          },
          "type": "rect",
          "x0": 44,
          "x1": 45,
          "xref": "x",
          "y0": 28,
          "y1": 29,
          "yref": "y"
         },
         {
          "fillcolor": "LightSteelBlue",
          "line": {
           "color": "LightSteelBlue",
           "width": 1
          },
          "type": "rect",
          "x0": 31,
          "x1": 32,
          "xref": "x",
          "y0": 34,
          "y1": 35,
          "yref": "y"
         },
         {
          "fillcolor": "LightYellow",
          "line": {
           "color": "LightYellow",
           "width": 1
          },
          "type": "rect",
          "x0": 14,
          "x1": 15,
          "xref": "x",
          "y0": 9,
          "y1": 10,
          "yref": "y"
         },
         {
          "fillcolor": "LightGray",
          "line": {
           "color": "LightGray",
           "width": 1
          },
          "type": "rect",
          "x0": 8,
          "x1": 9,
          "xref": "x",
          "y0": 37,
          "y1": 38,
          "yref": "y"
         },
         {
          "fillcolor": "LightGoldenRodYellow",
          "line": {
           "color": "LightGoldenRodYellow",
           "width": 1
          },
          "type": "rect",
          "x0": 35,
          "x1": 36,
          "xref": "x",
          "y0": 0,
          "y1": 1,
          "yref": "y"
         },
         {
          "fillcolor": "LightCyan",
          "line": {
           "color": "LightCyan",
           "width": 1
          },
          "type": "rect",
          "x0": 24,
          "x1": 25,
          "xref": "x",
          "y0": 17,
          "y1": 18,
          "yref": "y"
         }
        ],
        "template": {
         "data": {
          "bar": [
           {
            "error_x": {
             "color": "#2a3f5f"
            },
            "error_y": {
             "color": "#2a3f5f"
            },
            "marker": {
             "line": {
              "color": "#E5ECF6",
              "width": 0.5
             },
             "pattern": {
              "fillmode": "overlay",
              "size": 10,
              "solidity": 0.2
             }
            },
            "type": "bar"
           }
          ],
          "barpolar": [
           {
            "marker": {
             "line": {
              "color": "#E5ECF6",
              "width": 0.5
             },
             "pattern": {
              "fillmode": "overlay",
              "size": 10,
              "solidity": 0.2
             }
            },
            "type": "barpolar"
           }
          ],
          "carpet": [
           {
            "aaxis": {
             "endlinecolor": "#2a3f5f",
             "gridcolor": "white",
             "linecolor": "white",
             "minorgridcolor": "white",
             "startlinecolor": "#2a3f5f"
            },
            "baxis": {
             "endlinecolor": "#2a3f5f",
             "gridcolor": "white",
             "linecolor": "white",
             "minorgridcolor": "white",
             "startlinecolor": "#2a3f5f"
            },
            "type": "carpet"
           }
          ],
          "choropleth": [
           {
            "colorbar": {
             "outlinewidth": 0,
             "ticks": ""
            },
            "type": "choropleth"
           }
          ],
          "contour": [
           {
            "colorbar": {
             "outlinewidth": 0,
             "ticks": ""
            },
            "colorscale": [
             [
              0,
              "#0d0887"
             ],
             [
              0.1111111111111111,
              "#46039f"
             ],
             [
              0.2222222222222222,
              "#7201a8"
             ],
             [
              0.3333333333333333,
              "#9c179e"
             ],
             [
              0.4444444444444444,
              "#bd3786"
             ],
             [
              0.5555555555555556,
              "#d8576b"
             ],
             [
              0.6666666666666666,
              "#ed7953"
             ],
             [
              0.7777777777777778,
              "#fb9f3a"
             ],
             [
              0.8888888888888888,
              "#fdca26"
             ],
             [
              1,
              "#f0f921"
             ]
            ],
            "type": "contour"
           }
          ],
          "contourcarpet": [
           {
            "colorbar": {
             "outlinewidth": 0,
             "ticks": ""
            },
            "type": "contourcarpet"
           }
          ],
          "heatmap": [
           {
            "colorbar": {
             "outlinewidth": 0,
             "ticks": ""
            },
            "colorscale": [
             [
              0,
              "#0d0887"
             ],
             [
              0.1111111111111111,
              "#46039f"
             ],
             [
              0.2222222222222222,
              "#7201a8"
             ],
             [
              0.3333333333333333,
              "#9c179e"
             ],
             [
              0.4444444444444444,
              "#bd3786"
             ],
             [
              0.5555555555555556,
              "#d8576b"
             ],
             [
              0.6666666666666666,
              "#ed7953"
             ],
             [
              0.7777777777777778,
              "#fb9f3a"
             ],
             [
              0.8888888888888888,
              "#fdca26"
             ],
             [
              1,
              "#f0f921"
             ]
            ],
            "type": "heatmap"
           }
          ],
          "histogram": [
           {
            "marker": {
             "pattern": {
              "fillmode": "overlay",
              "size": 10,
              "solidity": 0.2
             }
            },
            "type": "histogram"
           }
          ],
          "histogram2d": [
           {
            "colorbar": {
             "outlinewidth": 0,
             "ticks": ""
            },
            "colorscale": [
             [
              0,
              "#0d0887"
             ],
             [
              0.1111111111111111,
              "#46039f"
             ],
             [
              0.2222222222222222,
              "#7201a8"
             ],
             [
              0.3333333333333333,
              "#9c179e"
             ],
             [
              0.4444444444444444,
              "#bd3786"
             ],
             [
              0.5555555555555556,
              "#d8576b"
             ],
             [
              0.6666666666666666,
              "#ed7953"
             ],
             [
              0.7777777777777778,
              "#fb9f3a"
             ],
             [
              0.8888888888888888,
              "#fdca26"
             ],
             [
              1,
              "#f0f921"
             ]
            ],
            "type": "histogram2d"
           }
          ],
          "histogram2dcontour": [
           {
            "colorbar": {
             "outlinewidth": 0,
             "ticks": ""
            },
            "colorscale": [
             [
              0,
              "#0d0887"
             ],
             [
              0.1111111111111111,
              "#46039f"
             ],
             [
              0.2222222222222222,
              "#7201a8"
             ],
             [
              0.3333333333333333,
              "#9c179e"
             ],
             [
              0.4444444444444444,
              "#bd3786"
             ],
             [
              0.5555555555555556,
              "#d8576b"
             ],
             [
              0.6666666666666666,
              "#ed7953"
             ],
             [
              0.7777777777777778,
              "#fb9f3a"
             ],
             [
              0.8888888888888888,
              "#fdca26"
             ],
             [
              1,
              "#f0f921"
             ]
            ],
            "type": "histogram2dcontour"
           }
          ],
          "mesh3d": [
           {
            "colorbar": {
             "outlinewidth": 0,
             "ticks": ""
            },
            "type": "mesh3d"
           }
          ],
          "parcoords": [
           {
            "line": {
             "colorbar": {
              "outlinewidth": 0,
              "ticks": ""
             }
            },
            "type": "parcoords"
           }
          ],
          "pie": [
           {
            "automargin": true,
            "type": "pie"
           }
          ],
          "scatter": [
           {
            "fillpattern": {
             "fillmode": "overlay",
             "size": 10,
             "solidity": 0.2
            },
            "type": "scatter"
           }
          ],
          "scatter3d": [
           {
            "line": {
             "colorbar": {
              "outlinewidth": 0,
              "ticks": ""
             }
            },
            "marker": {
             "colorbar": {
              "outlinewidth": 0,
              "ticks": ""
             }
            },
            "type": "scatter3d"
           }
          ],
          "scattercarpet": [
           {
            "marker": {
             "colorbar": {
              "outlinewidth": 0,
              "ticks": ""
             }
            },
            "type": "scattercarpet"
           }
          ],
          "scattergeo": [
           {
            "marker": {
             "colorbar": {
              "outlinewidth": 0,
              "ticks": ""
             }
            },
            "type": "scattergeo"
           }
          ],
          "scattergl": [
           {
            "marker": {
             "colorbar": {
              "outlinewidth": 0,
              "ticks": ""
             }
            },
            "type": "scattergl"
           }
          ],
          "scattermap": [
           {
            "marker": {
             "colorbar": {
              "outlinewidth": 0,
              "ticks": ""
             }
            },
            "type": "scattermap"
           }
          ],
          "scattermapbox": [
           {
            "marker": {
             "colorbar": {
              "outlinewidth": 0,
              "ticks": ""
             }
            },
            "type": "scattermapbox"
           }
          ],
          "scatterpolar": [
           {
            "marker": {
             "colorbar": {
              "outlinewidth": 0,
              "ticks": ""
             }
            },
            "type": "scatterpolar"
           }
          ],
          "scatterpolargl": [
           {
            "marker": {
             "colorbar": {
              "outlinewidth": 0,
              "ticks": ""
             }
            },
            "type": "scatterpolargl"
           }
          ],
          "scatterternary": [
           {
            "marker": {
             "colorbar": {
              "outlinewidth": 0,
              "ticks": ""
             }
            },
            "type": "scatterternary"
           }
          ],
          "surface": [
           {
            "colorbar": {
             "outlinewidth": 0,
             "ticks": ""
            },
            "colorscale": [
             [
              0,
              "#0d0887"
             ],
             [
              0.1111111111111111,
              "#46039f"
             ],
             [
              0.2222222222222222,
              "#7201a8"
             ],
             [
              0.3333333333333333,
              "#9c179e"
             ],
             [
              0.4444444444444444,
              "#bd3786"
             ],
             [
              0.5555555555555556,
              "#d8576b"
             ],
             [
              0.6666666666666666,
              "#ed7953"
             ],
             [
              0.7777777777777778,
              "#fb9f3a"
             ],
             [
              0.8888888888888888,
              "#fdca26"
             ],
             [
              1,
              "#f0f921"
             ]
            ],
            "type": "surface"
           }
          ],
          "table": [
           {
            "cells": {
             "fill": {
              "color": "#EBF0F8"
             },
             "line": {
              "color": "white"
             }
            },
            "header": {
             "fill": {
              "color": "#C8D4E3"
             },
             "line": {
              "color": "white"
             }
            },
            "type": "table"
           }
          ]
         },
         "layout": {
          "annotationdefaults": {
           "arrowcolor": "#2a3f5f",
           "arrowhead": 0,
           "arrowwidth": 1
          },
          "autotypenumbers": "strict",
          "coloraxis": {
           "colorbar": {
            "outlinewidth": 0,
            "ticks": ""
           }
          },
          "colorscale": {
           "diverging": [
            [
             0,
             "#8e0152"
            ],
            [
             0.1,
             "#c51b7d"
            ],
            [
             0.2,
             "#de77ae"
            ],
            [
             0.3,
             "#f1b6da"
            ],
            [
             0.4,
             "#fde0ef"
            ],
            [
             0.5,
             "#f7f7f7"
            ],
            [
             0.6,
             "#e6f5d0"
            ],
            [
             0.7,
             "#b8e186"
            ],
            [
             0.8,
             "#7fbc41"
            ],
            [
             0.9,
             "#4d9221"
            ],
            [
             1,
             "#276419"
            ]
           ],
           "sequential": [
            [
             0,
             "#0d0887"
            ],
            [
             0.1111111111111111,
             "#46039f"
            ],
            [
             0.2222222222222222,
             "#7201a8"
            ],
            [
             0.3333333333333333,
             "#9c179e"
            ],
            [
             0.4444444444444444,
             "#bd3786"
            ],
            [
             0.5555555555555556,
             "#d8576b"
            ],
            [
             0.6666666666666666,
             "#ed7953"
            ],
            [
             0.7777777777777778,
             "#fb9f3a"
            ],
            [
             0.8888888888888888,
             "#fdca26"
            ],
            [
             1,
             "#f0f921"
            ]
           ],
           "sequentialminus": [
            [
             0,
             "#0d0887"
            ],
            [
             0.1111111111111111,
             "#46039f"
            ],
            [
             0.2222222222222222,
             "#7201a8"
            ],
            [
             0.3333333333333333,
             "#9c179e"
            ],
            [
             0.4444444444444444,
             "#bd3786"
            ],
            [
             0.5555555555555556,
             "#d8576b"
            ],
            [
             0.6666666666666666,
             "#ed7953"
            ],
            [
             0.7777777777777778,
             "#fb9f3a"
            ],
            [
             0.8888888888888888,
             "#fdca26"
            ],
            [
             1,
             "#f0f921"
            ]
           ]
          },
          "colorway": [
           "#636efa",
           "#EF553B",
           "#00cc96",
           "#ab63fa",
           "#FFA15A",
           "#19d3f3",
           "#FF6692",
           "#B6E880",
           "#FF97FF",
           "#FECB52"
          ],
          "font": {
           "color": "#2a3f5f"
          },
          "geo": {
           "bgcolor": "white",
           "lakecolor": "white",
           "landcolor": "#E5ECF6",
           "showlakes": true,
           "showland": true,
           "subunitcolor": "white"
          },
          "hoverlabel": {
           "align": "left"
          },
          "hovermode": "closest",
          "mapbox": {
           "style": "light"
          },
          "paper_bgcolor": "white",
          "plot_bgcolor": "#E5ECF6",
          "polar": {
           "angularaxis": {
            "gridcolor": "white",
            "linecolor": "white",
            "ticks": ""
           },
           "bgcolor": "#E5ECF6",
           "radialaxis": {
            "gridcolor": "white",
            "linecolor": "white",
            "ticks": ""
           }
          },
          "scene": {
           "xaxis": {
            "backgroundcolor": "#E5ECF6",
            "gridcolor": "white",
            "gridwidth": 2,
            "linecolor": "white",
            "showbackground": true,
            "ticks": "",
            "zerolinecolor": "white"
           },
           "yaxis": {
            "backgroundcolor": "#E5ECF6",
            "gridcolor": "white",
            "gridwidth": 2,
            "linecolor": "white",
            "showbackground": true,
            "ticks": "",
            "zerolinecolor": "white"
           },
           "zaxis": {
            "backgroundcolor": "#E5ECF6",
            "gridcolor": "white",
            "gridwidth": 2,
            "linecolor": "white",
            "showbackground": true,
            "ticks": "",
            "zerolinecolor": "white"
           }
          },
          "shapedefaults": {
           "line": {
            "color": "#2a3f5f"
           }
          },
          "ternary": {
           "aaxis": {
            "gridcolor": "white",
            "linecolor": "white",
            "ticks": ""
           },
           "baxis": {
            "gridcolor": "white",
            "linecolor": "white",
            "ticks": ""
           },
           "bgcolor": "#E5ECF6",
           "caxis": {
            "gridcolor": "white",
            "linecolor": "white",
            "ticks": ""
           }
          },
          "title": {
           "x": 0.05
          },
          "xaxis": {
           "automargin": true,
           "gridcolor": "white",
           "linecolor": "white",
           "ticks": "",
           "title": {
            "standoff": 15
           },
           "zerolinecolor": "white",
           "zerolinewidth": 2
          },
          "yaxis": {
           "automargin": true,
           "gridcolor": "white",
           "linecolor": "white",
           "ticks": "",
           "title": {
            "standoff": 15
           },
           "zerolinecolor": "white",
           "zerolinewidth": 2
          }
         }
        },
        "width": 800,
        "xaxis": {
         "range": [
          0,
          50
         ],
         "tickvals": [
          0,
          1,
          2,
          3,
          4,
          5,
          6,
          7,
          8,
          9,
          10,
          11,
          12,
          13,
          14,
          15,
          16,
          17,
          18,
          19,
          20,
          21,
          22,
          23,
          24,
          25,
          26,
          27,
          28,
          29,
          30,
          31,
          32,
          33,
          34,
          35,
          36,
          37,
          38,
          39,
          40,
          41,
          42,
          43,
          44,
          45,
          46,
          47,
          48,
          49,
          50
         ],
         "title": {
          "text": "Time"
         }
        },
        "yaxis": {
         "range": [
          0,
          39
         ],
         "showgrid": false,
         "ticktext": [
          "a0",
          "a12",
          "a22",
          "a23",
          "a26",
          "a32",
          "a38",
          "a39",
          "a43",
          "a46",
          "a50",
          "a71",
          "a79",
          "a83",
          "a84",
          "a92",
          "a93",
          "a110",
          "a112",
          "a116",
          "a119",
          "a120",
          "a122",
          "a124",
          "a129",
          "a139",
          "a140",
          "a144",
          "a145",
          "a149",
          "a150",
          "a153",
          "a162",
          "a168",
          "a170",
          "a171",
          "a172",
          "a184",
          "a186"
         ],
         "tickvals": [
          0.5,
          1.5,
          2.5,
          3.5,
          4.5,
          5.5,
          6.5,
          7.5,
          8.5,
          9.5,
          10.5,
          11.5,
          12.5,
          13.5,
          14.5,
          15.5,
          16.5,
          17.5,
          18.5,
          19.5,
          20.5,
          21.5,
          22.5,
          23.5,
          24.5,
          25.5,
          26.5,
          27.5,
          28.5,
          29.5,
          30.5,
          31.5,
          32.5,
          33.5,
          34.5,
          35.5,
          36.5,
          37.5,
          38.5
         ],
         "title": {
          "text": "Arcs"
         },
         "type": "category"
        }
       }
      }
     },
     "metadata": {},
     "output_type": "display_data"
    }
   ],
   "source": [
    "import numpy as np\n",
    "import plotly.graph_objects as go\n",
    "\n",
    "fig = go.Figure()\n",
    "\n",
    "# Collect arcs data\n",
    "num_arcs = len(sorted_arc_names)\n",
    "label_positions = [i + 0.5 for i in range(len(sorted_arc_names))]\n",
    "\n",
    "# Horizontal white lines at every integer y value\n",
    "for i in range(num_arcs + 1):\n",
    "    fig.add_shape(type=\"line\",\n",
    "        x0=0, y0=i, x1=Tend, y1=i,\n",
    "        line=dict(\n",
    "            color='white',\n",
    "            width=1,\n",
    "        ),\n",
    "    )\n",
    "\n",
    "\n",
    "# Get color palette for jobs\n",
    "colors = [\n",
    "    \"LightSkyBlue\", \"LightCoral\", \"LightGreen\", \"LightPink\",\n",
    "    \"LightSalmon\", \"LightSteelBlue\", \"LightYellow\", \"LightGray\",\n",
    "    \"LightGoldenRodYellow\", \"LightCyan\"\n",
    "]\n",
    "\n",
    "# Add shapes\n",
    "# j0 = list(S.keys())[0]\n",
    "# fig.add_shape(type=\"rect\",\n",
    "#     x0=S[j0],\n",
    "#     y0=Aj[j0][0],\n",
    "#     x1=S[j0] + 1,\n",
    "#     y1=Aj[j0][0] + 1,\n",
    "#     line=dict(\n",
    "#         color=\"RoyalBlue\",\n",
    "#         width=1,\n",
    "#     ),\n",
    "#     fillcolor=\"LightSkyBlue\",\n",
    "# )\n",
    "# fig.update_shapes(dict(xref='x', yref='y'))\n",
    "\n",
    "jobs = list(S.keys())\n",
    "for j in jobs:\n",
    "    for i in range(len(Aj[j])):\n",
    "        fig.add_shape(type=\"rect\",\n",
    "            x0=S[j],\n",
    "            y0=Aj[j][i],\n",
    "            x1=S[j] + 1,\n",
    "            y1=Aj[j][i] + 1,\n",
    "            line=dict(\n",
    "                color=colors[jobs.index(j) % len(colors)],\n",
    "                width=1,\n",
    "            ),\n",
    "            fillcolor=colors[jobs.index(j) % len(colors)],\n",
    "            # hovertext=f\"Job {j} - Arc {sorted_arc_names[Aj[j][i]]}\",\n",
    "        )\n",
    "        fig.update_shapes(dict(xref='x', yref='y'))\n",
    "\n",
    "\n",
    "# Layout\n",
    "fig.update_layout(\n",
    "    width=800,\n",
    "    height=600,\n",
    "    xaxis=dict(\n",
    "        title=\"Time\",\n",
    "        range=[0, Tend],\n",
    "        tickvals=list(range(0, Tend + 1)),\n",
    "    ),\n",
    "    yaxis=dict(\n",
    "        type=\"category\",\n",
    "        title=\"Arcs\",\n",
    "        range=[0, num_arcs],\n",
    "        tickvals=label_positions,\n",
    "        ticktext=sorted_arc_names,\n",
    "        showgrid=False,\n",
    "    ),\n",
    ")\n",
    "\n",
    "\n",
    "fig.show()"
   ]
  }
 ],
 "metadata": {
  "kernelspec": {
   "display_name": "mathopt",
   "language": "python",
   "name": "python3"
  },
  "language_info": {
   "codemirror_mode": {
    "name": "ipython",
    "version": 3
   },
   "file_extension": ".py",
   "mimetype": "text/x-python",
   "name": "python",
   "nbconvert_exporter": "python",
   "pygments_lexer": "ipython3",
   "version": "3.11.5"
  }
 },
 "nbformat": 4,
 "nbformat_minor": 5
}
