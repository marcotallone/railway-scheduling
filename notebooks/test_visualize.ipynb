{
 "cells": [
  {
   "cell_type": "code",
   "execution_count": 1,
   "id": "50581f18",
   "metadata": {},
   "outputs": [],
   "source": [
    "# import plotly.graph_objs as go\n",
    "# from plotly.offline import plot\n",
    "\n",
    "# fig = go.Figure([go.Bar(y=[2, 3, 1])],)\n",
    "\n",
    "# fig.update_layout(\n",
    "#   autosize=True,   # let the container size drive the plot\n",
    "#   margin=dict(l=0, r=0, t=0, b=0)\n",
    "# )\n",
    "# div_snippet = plot(\n",
    "#     fig, include_plotlyjs=True, config={\"responsive\": True}, output_type=\"div\"\n",
    "# )\n",
    "\n",
    "# # write div snippet to file\n",
    "# with open('plotly_div.html', 'w') as f:\n",
    "#     f.write(div_snippet)"
   ]
  },
  {
   "cell_type": "code",
   "execution_count": 2,
   "id": "b596d527",
   "metadata": {},
   "outputs": [],
   "source": [
    "import os\n",
    "import sys\n",
    "from railway import *"
   ]
  },
  {
   "cell_type": "code",
   "execution_count": 3,
   "id": "1c3467dd",
   "metadata": {},
   "outputs": [
    {
     "name": "stdout",
     "output_type": "stream",
     "text": [
      "Current working directory: 📂 /home/marco/railway-scheduling\n"
     ]
    }
   ],
   "source": [
    "# Root folder directory\n",
    "ROOT_DIR = \"/home/marco/railway-scheduling\"\n",
    "\n",
    "# Set the current directory to root directory\n",
    "os.chdir(ROOT_DIR)\n",
    "sys.path.append(os.getcwd())\n",
    "print(f\"Current working directory: 📂 {os.getcwd()}\")"
   ]
  },
  {
   "cell_type": "code",
   "execution_count": 4,
   "id": "7cdbce27",
   "metadata": {},
   "outputs": [],
   "source": [
    "# # Define problem parameters\n",
    "# N = 10\n",
    "# T = 10\n",
    "# J = 10\n",
    "# P = 2000\n",
    "# K = 3\n",
    "\n",
    "# # Name of the file to load\n",
    "# FILENAME = f\"datasets/railway_N{N}_T{T}_J{J}_P{P}_K{K}.json\"\n",
    "\n",
    "# # Instantiate the Railway object\n",
    "# rail = Railway.load(FILENAME)\n",
    "# # rail.model.setParam('TimeLimit', 60)\n",
    "\n",
    "# # Print the model in summary\n",
    "# print(rail)"
   ]
  },
  {
   "cell_type": "code",
   "execution_count": 5,
   "id": "868f91c5",
   "metadata": {},
   "outputs": [
    {
     "name": "stdout",
     "output_type": "stream",
     "text": [
      "Set parameter Username\n",
      "Set parameter LicenseID to value 2629256\n",
      "Academic license - for non-commercial use only - expires 2026-02-27\n",
      "Problem generated successfully. Remember to set constraints and objective (again).\n"
     ]
    }
   ],
   "source": [
    "# Generate a problem\n",
    "\n",
    "# Constant values\n",
    "n = 5\n",
    "periods = 10\n",
    "jobs = 10\n",
    "passengers = 2000\n",
    "K = 3\n",
    "\n",
    "# Create blueprint model\n",
    "rail = Railway(n, periods, jobs, passengers, K)\n",
    "\n",
    "# Generate problem parameters\n",
    "job_min_time, job_max_time = 1, 2\n",
    "job_min_length, job_max_length = 1, 2\n",
    "pause_min_time, pause_max_time = 0, 0\n",
    "min_demand, max_demand = 0.0, 1.0\n",
    "min_share, max_share = 1.0, 1.0\n",
    "min_capacity, max_capacity = 0.5, 0.7\n",
    "n_max_events = 0\n",
    "event_min_length, event_max_length = 0, 0\n",
    "\n",
    "rail.generate(\n",
    "    job_min_time,\n",
    "    job_max_time,\n",
    "    job_min_length,\n",
    "    job_max_length,\n",
    "    pause_min_time,\n",
    "    pause_max_time,\n",
    "    min_demand,\n",
    "    max_demand,\n",
    "    min_share,\n",
    "    max_share,\n",
    "    min_capacity,\n",
    "    max_capacity,\n",
    "    n_max_events,\n",
    "    event_min_length,\n",
    "    event_max_length,\n",
    ")\n",
    "\n",
    "\n",
    "# # Load model\n",
    "\n",
    "# # Define problem parameters\n",
    "# N = 10\n",
    "# T = 10\n",
    "# J = 40\n",
    "# P = 2000\n",
    "# K = 3\n",
    "\n",
    "# # Name of the file to load\n",
    "# FILENAME = f\"../datasets/railway_N{N}_T{T}_J{J}_P{P}_K{K}.json\"\n",
    "\n",
    "# # Instantiate the Railway object\n",
    "# model = Railway.load(FILENAME)"
   ]
  },
  {
   "cell_type": "code",
   "execution_count": 7,
   "id": "521c151b",
   "metadata": {},
   "outputs": [],
   "source": [
    "# Copy before optimizing\n",
    "# rail2 = Railway.copy(rail)\n",
    "\n",
    "# Set constraints\n",
    "rail.set_constraints()\n",
    "\n",
    "# Set objective\n",
    "rail.set_objective()\n",
    "\n",
    "# Silence output\n",
    "rail.model.setParam('OutputFlag', 0)\n",
    "rail.model.setParam('Timelimit', 20)\n",
    "\n",
    "# Most basic model\n",
    "rail.model.setParam('LPWarmStart',0)\n",
    "rail.model.setParam('PoolSolutions', 1)\n",
    "# rail.model.Params.presolve = 0\n",
    "rail.model.Params.MultiObjPre = 0\n",
    "rail.model.Params.cuts = 0\n",
    "rail.model.Params.cutpasses = 0\n",
    "rail.model.Params.threads = 1\n",
    "rail.model.Params.heuristics = 0\n",
    "rail.model.Params.symmetry = 0\n",
    "\n",
    "# Solve the scheduling problem\n",
    "performance = rail.optimize()"
   ]
  },
  {
   "cell_type": "code",
   "execution_count": 15,
   "id": "79e7d65b",
   "metadata": {},
   "outputs": [
    {
     "data": {
      "text/plain": [
       "[(1.0, 0.0),\n",
       " (0.8090169943749475, 0.5877852522924731),\n",
       " (0.30901699437494745, 0.9510565162951535),\n",
       " (-0.30901699437494734, 0.9510565162951536),\n",
       " (-0.8090169943749473, 0.5877852522924732),\n",
       " (-1.0, 1.2246467991473532e-16),\n",
       " (-0.8090169943749475, -0.587785252292473),\n",
       " (-0.30901699437494756, -0.9510565162951535),\n",
       " (0.30901699437494723, -0.9510565162951536),\n",
       " (0.8090169943749473, -0.5877852522924734)]"
      ]
     },
     "execution_count": 15,
     "metadata": {},
     "output_type": "execute_result"
    }
   ],
   "source": [
    "rail.coords"
   ]
  },
  {
   "cell_type": "code",
   "execution_count": null,
   "id": "4797c6dd",
   "metadata": {},
   "outputs": [
    {
     "data": {
      "application/vnd.plotly.v1+json": {
       "config": {
        "plotlyServerURL": "https://plot.ly"
       },
       "data": [
        {
         "hoverinfo": "skip",
         "line": {
          "color": "black",
          "dash": "dash",
          "width": 1
         },
         "mode": "lines",
         "showlegend": false,
         "type": "scatter",
         "x": {
          "bdata": "AAAAAAAA8D+VSynBge/vP2j6BgUYvu8/Jek3u/Vr7z8jfxaOb/nuP/FJcov7Zu4/XLHeqjC17T9+NRQyxuTsP1+hBPiS9us/uvBkh4zr6j9WMpEhxsTpPzlQz6Jvg+g/tDkVSdQo5z+WUJVeWbblP0ATccl8LeQ/A6sNgtOP4j9cLKDxB9/gP1a1P3WwOd4/thLH2SiW2j+KU4hOOdfWP1tDY1G+ANM/jFrgSlktzj+Mcwt+GjrGPyLsuGvkX7w/cyCwKKhcqD/N+ijPKj+QvwzJ6KS5SbS/3kQPZF83wr9P3qvaGjfKv5OAwi7oDdG/PSGBd67u1L83i/Tn4LnYv4vJmF6Wa9y/AgAAAAAA4L/P5tyRtrnhv860DJEnYeO/hlh3f5705L/bPrV2e3Lmv11Sx9Q02ee/JuDa0Vgn6b9dHHf9jlvqv4pZi6GZdOu/wfLvCVdx7L/ZTwivwlDtvxstUkL2Ee6/V1DNmyq07r9D8kaHuDbvvwQ9tXAZme+/XjTx7ufa778HB0As4PvvvwcHQCzg+++/XjTx7ufa778EPbVwGZnvv0PyRoe4Nu+/V1DNmyq07r8cLVJC9hHuv9lPCK/CUO2/wvLvCVdx7L+JWYuhmXTrv14cd/2OW+q/JeDa0Vgn6b9eUsfUNNnnv9o+tXZ7cua/iFh3f5705L/MtAyRJ2Hjv9Hm3JG2ueG/+f//////37+IyZhelmvcvzeL9Ofgudi/QSGBd67u1L+MgMIu6A3Rv0jeq9oaN8q/3kQPZF83wr8eyeikuUm0v1T6KM8qP5C/kCCwKKhcqD8R7Lhr5F+8P3xzC34aOsY/k1rgSlktzj9bQ2NRvgDTP4ZTiE4519Y/vRLH2SiW2j9ZtT91sDneP1wsoPEH3+A/AasNgtOP4j9DE3HJfC3kP5dQlV5ZtuU/tDkVSdQo5z83UM+ib4PoP1cykSHGxOk/uvBkh4zr6j9foQT4kvbrP301FDLG5Ow/XbHeqjC17T/xSXKL+2buPyN/Fo5v+e4/Juk3u/Vr7z9o+gYFGL7vP5VLKcGB7+8/AAAAAAAA8D8=",
          "dtype": "f8"
         },
         "y": {
          "bdata": "AAAAAAAAAAADhrXMjDywP/CDAnguNMA/kayggGI5yD+aiNkBzxLQP9ofIiFb+NM/+5MNU1HJ1z+CQNqEwoHbPxlNPurYHd8/C1i7+O1M4T9GhZoMGvniPxwWPFK3keQ/ABg/lCAV5j+GGZN4xoHnP4hAIRwx1ug/lkFFlgER6j93zoZi8zDrPzKcHq/dNOw/EyzujrQb7T/B8a4NiuTtP/0jPCWPju4/3176khQZ7z8XHIGMi4PvPzTGy1KGze8/g6xao7j27z/vOc8G+P7vP2Zmsvw75u8/70I4BJ6s7z+/l/eBWVLvPwOssILL1+4/xVNiW3I97j+TIxAn7YPtP1EHwCL7q+w/qUxY6Hq26z+RVimJaaTqP5aCD4nhduk/oSg6uxkv6D+158MBZM7mP9OHZvErVuU/8XixWvXH4z8mRkW6WiXiP2ITsJELcOA/8qg+VZVT3T/agWKM2KjZP/gLinSo49U/v412/ecH0j/lKaSyIjPMP+bENsZjOcQ/3FNHxZdVuD+s23zJpD6gP8nbfMmkPqC/6lNHxZdVuL/txDbGYznEv9wppLIiM8y/wo12/ecH0r/0C4p0qOPVv92BYozYqNm/7qg+VZVT3b9jE7CRC3DgvyRGRbpaJeK/83ixWvXH47/Rh2bxK1blv7fnwwFkzua/oCg6uxkv6L+Xgg+J4Xbpv5BWKYlppOq/rExY6Hq2679SB8Ai+6vsv5MjECftg+2/xFNiW3I97r8ErLCCy9fuv7+X94FZUu+/70I4BJ6s779lZrL8O+bvv+85zwb4/u+/g6xao7j27780xstShs3vvxgcgYyLg++/3176khQZ77/9Izwlj47uv8Lxrg2K5O2/EizujrQb7b8xnB6v3TTsv3fOhmLzMOu/l0FFlgER6r+GQCEcMdbov4UZk3jGgee/ABg/lCAV5r8fFjxSt5Hkv0SFmgwa+eK/Cli7+O1M4b8bTT7q2B3fv4dA2oTCgdu/9ZMNU1HJ17/ZHyIhW/jTv52I2QHPEtC/gKyggGI5yL/ogwJ4LjTAvwSGtcyMPLC/B1wUMyamsbw=",
          "dtype": "f8"
         }
        },
        {
         "hovertemplate": "Arc: (1, 2)<br>omega_e: 0.48<br>omega_j: 0.65<br>Jobs: [2]<extra></extra>",
         "hovertext": "Arc: (1, 2)<br>omega_e: 0.48<br>omega_j: 0.65<br>Jobs: [2]",
         "line": {
          "color": "gray",
          "width": 2
         },
         "mode": "lines",
         "showlegend": false,
         "type": "scatter",
         "x": [
          -0.5116792409876731,
          -0.07552819681310724
         ],
         "y": [
          -0.20809510799838776,
          -0.405573396916296
         ]
        },
        {
         "hovertemplate": "Arc: (1, 3)<br>omega_e: 0.76<br>omega_j: 1.03<br>Jobs: [2]<extra></extra>",
         "hovertext": "Arc: (1, 3)<br>omega_e: 0.76<br>omega_j: 1.03<br>Jobs: [2]",
         "line": {
          "color": "gray",
          "width": 2
         },
         "mode": "lines",
         "showlegend": false,
         "type": "scatter",
         "x": [
          -0.5116792409876731,
          0.07851915493586577
         ],
         "y": [
          -0.20809510799838776,
          -0.686295091176635
         ]
        },
        {
         "hovertemplate": "Arc: (1, 4)<br>omega_e: 0.55<br>omega_j: 0.75<br>Jobs: [6, 7, 8]<extra></extra>",
         "hovertext": "Arc: (1, 4)<br>omega_e: 0.55<br>omega_j: 0.75<br>Jobs: [6, 7, 8]",
         "line": {
          "color": "gray",
          "width": 2
         },
         "mode": "lines",
         "showlegend": false,
         "type": "scatter",
         "x": [
          -0.5116792409876731,
          -0.20300771448867933
         ],
         "y": [
          -0.20809510799838776,
          0.25258782625773246
         ]
        },
        {
         "hovertemplate": "Arc: (1, 5)<br>omega_e: 0.70<br>omega_j: 0.95<br>Jobs: None<extra></extra>",
         "hovertext": "Arc: (1, 5)<br>omega_e: 0.70<br>omega_j: 0.95<br>Jobs: None",
         "line": {
          "color": "gray",
          "width": 2
         },
         "mode": "lines",
         "showlegend": false,
         "type": "scatter",
         "x": [
          -0.5116792409876731,
          0.18917740087395227
         ],
         "y": [
          -0.20809510799838776,
          -0.20287960338016456
         ]
        },
        {
         "hovertemplate": "Arc: (2, 3)<br>omega_e: 0.32<br>omega_j: 0.43<br>Jobs: [9]<extra></extra>",
         "hovertext": "Arc: (2, 3)<br>omega_e: 0.32<br>omega_j: 0.43<br>Jobs: [9]",
         "line": {
          "color": "gray",
          "width": 2
         },
         "mode": "lines",
         "showlegend": false,
         "type": "scatter",
         "x": [
          -0.07552819681310724,
          0.07851915493586577
         ],
         "y": [
          -0.405573396916296,
          -0.686295091176635
         ]
        },
        {
         "hovertemplate": "Arc: (2, 4)<br>omega_e: 0.67<br>omega_j: 0.91<br>Jobs: [1, 4, 5]<extra></extra>",
         "hovertext": "Arc: (2, 4)<br>omega_e: 0.67<br>omega_j: 0.91<br>Jobs: [1, 4, 5]",
         "line": {
          "color": "gray",
          "width": 2
         },
         "mode": "lines",
         "showlegend": false,
         "type": "scatter",
         "x": [
          -0.07552819681310724,
          -0.20300771448867933
         ],
         "y": [
          -0.405573396916296,
          0.25258782625773246
         ]
        },
        {
         "hovertemplate": "Arc: (2, 5)<br>omega_e: 0.33<br>omega_j: 0.45<br>Jobs: [5]<extra></extra>",
         "hovertext": "Arc: (2, 5)<br>omega_e: 0.33<br>omega_j: 0.45<br>Jobs: [5]",
         "line": {
          "color": "gray",
          "width": 2
         },
         "mode": "lines",
         "showlegend": false,
         "type": "scatter",
         "x": [
          -0.07552819681310724,
          0.18917740087395227
         ],
         "y": [
          -0.405573396916296,
          -0.20287960338016456
         ]
        },
        {
         "hovertemplate": "Arc: (3, 4)<br>omega_e: 0.98<br>omega_j: 1.32<br>Jobs: [4, 8]<extra></extra>",
         "hovertext": "Arc: (3, 4)<br>omega_e: 0.98<br>omega_j: 1.32<br>Jobs: [4, 8]",
         "line": {
          "color": "gray",
          "width": 2
         },
         "mode": "lines",
         "showlegend": false,
         "type": "scatter",
         "x": [
          0.07851915493586577,
          -0.20300771448867933
         ],
         "y": [
          -0.686295091176635,
          0.25258782625773246
         ]
        },
        {
         "hovertemplate": "Arc: (3, 5)<br>omega_e: 0.50<br>omega_j: 0.67<br>Jobs: [3, 9, 10]<extra></extra>",
         "hovertext": "Arc: (3, 5)<br>omega_e: 0.50<br>omega_j: 0.67<br>Jobs: [3, 9, 10]",
         "line": {
          "color": "gray",
          "width": 2
         },
         "mode": "lines",
         "showlegend": false,
         "type": "scatter",
         "x": [
          0.07851915493586577,
          0.18917740087395227
         ],
         "y": [
          -0.686295091176635,
          -0.20287960338016456
         ]
        },
        {
         "hovertemplate": "Arc: (4, 5)<br>omega_e: 0.60<br>omega_j: 0.81<br>Jobs: [7]<extra></extra>",
         "hovertext": "Arc: (4, 5)<br>omega_e: 0.60<br>omega_j: 0.81<br>Jobs: [7]",
         "line": {
          "color": "gray",
          "width": 2
         },
         "mode": "lines",
         "showlegend": false,
         "type": "scatter",
         "x": [
          -0.20300771448867933,
          0.18917740087395227
         ],
         "y": [
          0.25258782625773246,
          -0.20287960338016456
         ]
        },
        {
         "hoverinfo": "text",
         "hovertext": "Job 1<br>Arc: (2, 4)",
         "line": {
          "color": "rgb(228,26,28)",
          "width": 2
         },
         "mode": "lines",
         "name": "Job 1",
         "type": "scatter",
         "x": [
          -0.07552819681310724,
          -0.20300771448867933
         ],
         "y": [
          -0.405573396916296,
          0.25258782625773246
         ]
        },
        {
         "hoverinfo": "text",
         "hovertext": "Job 2<br>Arc: (1, 3)",
         "line": {
          "color": "rgb(55,126,184)",
          "width": 2
         },
         "mode": "lines",
         "name": "Job 2",
         "type": "scatter",
         "x": [
          -0.5116792409876731,
          0.07851915493586577
         ],
         "y": [
          -0.20809510799838776,
          -0.686295091176635
         ]
        },
        {
         "hoverinfo": "text",
         "hovertext": "Job 2<br>Arc: (1, 2)",
         "line": {
          "color": "rgb(55,126,184)",
          "width": 2
         },
         "mode": "lines",
         "name": "Job 2",
         "type": "scatter",
         "x": [
          -0.5116792409876731,
          -0.07552819681310724
         ],
         "y": [
          -0.20809510799838776,
          -0.405573396916296
         ]
        },
        {
         "hoverinfo": "text",
         "hovertext": "Job 3<br>Arc: (3, 5)",
         "line": {
          "color": "rgb(77,175,74)",
          "width": 2
         },
         "mode": "lines",
         "name": "Job 3",
         "type": "scatter",
         "x": [
          0.07851915493586577,
          0.18917740087395227
         ],
         "y": [
          -0.686295091176635,
          -0.20287960338016456
         ]
        },
        {
         "hoverinfo": "text",
         "hovertext": "Job 4<br>Arc: (3, 4)",
         "line": {
          "color": "rgb(152,78,163)",
          "width": 2
         },
         "mode": "lines",
         "name": "Job 4",
         "type": "scatter",
         "x": [
          0.07851915493586577,
          -0.20300771448867933
         ],
         "y": [
          -0.686295091176635,
          0.25258782625773246
         ]
        },
        {
         "hoverinfo": "text",
         "hovertext": "Job 4<br>Arc: (2, 4)",
         "line": {
          "color": "rgb(152,78,163)",
          "width": 2
         },
         "mode": "lines",
         "name": "Job 4",
         "type": "scatter",
         "x": [
          -0.07552819681310724,
          -0.20300771448867933
         ],
         "y": [
          -0.405573396916296,
          0.25258782625773246
         ]
        },
        {
         "hoverinfo": "text",
         "hovertext": "Job 5<br>Arc: (2, 5)",
         "line": {
          "color": "rgb(255,127,0)",
          "width": 2
         },
         "mode": "lines",
         "name": "Job 5",
         "type": "scatter",
         "x": [
          -0.07552819681310724,
          0.18917740087395227
         ],
         "y": [
          -0.405573396916296,
          -0.20287960338016456
         ]
        },
        {
         "hoverinfo": "text",
         "hovertext": "Job 5<br>Arc: (2, 4)",
         "line": {
          "color": "rgb(255,127,0)",
          "width": 2
         },
         "mode": "lines",
         "name": "Job 5",
         "type": "scatter",
         "x": [
          -0.07552819681310724,
          -0.20300771448867933
         ],
         "y": [
          -0.405573396916296,
          0.25258782625773246
         ]
        },
        {
         "hoverinfo": "text",
         "hovertext": "Job 6<br>Arc: (1, 4)",
         "line": {
          "color": "rgb(255,255,51)",
          "width": 2
         },
         "mode": "lines",
         "name": "Job 6",
         "type": "scatter",
         "x": [
          -0.5116792409876731,
          -0.20300771448867933
         ],
         "y": [
          -0.20809510799838776,
          0.25258782625773246
         ]
        },
        {
         "hoverinfo": "text",
         "hovertext": "Job 7<br>Arc: (1, 4)",
         "line": {
          "color": "rgb(166,86,40)",
          "width": 2
         },
         "mode": "lines",
         "name": "Job 7",
         "type": "scatter",
         "x": [
          -0.5116792409876731,
          -0.20300771448867933
         ],
         "y": [
          -0.20809510799838776,
          0.25258782625773246
         ]
        },
        {
         "hoverinfo": "text",
         "hovertext": "Job 7<br>Arc: (4, 5)",
         "line": {
          "color": "rgb(166,86,40)",
          "width": 2
         },
         "mode": "lines",
         "name": "Job 7",
         "type": "scatter",
         "x": [
          -0.20300771448867933,
          0.18917740087395227
         ],
         "y": [
          0.25258782625773246,
          -0.20287960338016456
         ]
        },
        {
         "hoverinfo": "text",
         "hovertext": "Job 8<br>Arc: (1, 4)",
         "line": {
          "color": "rgb(247,129,191)",
          "width": 2
         },
         "mode": "lines",
         "name": "Job 8",
         "type": "scatter",
         "x": [
          -0.5116792409876731,
          -0.20300771448867933
         ],
         "y": [
          -0.20809510799838776,
          0.25258782625773246
         ]
        },
        {
         "hoverinfo": "text",
         "hovertext": "Job 8<br>Arc: (3, 4)",
         "line": {
          "color": "rgb(247,129,191)",
          "width": 2
         },
         "mode": "lines",
         "name": "Job 8",
         "type": "scatter",
         "x": [
          0.07851915493586577,
          -0.20300771448867933
         ],
         "y": [
          -0.686295091176635,
          0.25258782625773246
         ]
        },
        {
         "hoverinfo": "text",
         "hovertext": "Job 9<br>Arc: (3, 5)",
         "line": {
          "color": "rgb(153,153,153)",
          "width": 2
         },
         "mode": "lines",
         "name": "Job 9",
         "type": "scatter",
         "x": [
          0.07851915493586577,
          0.18917740087395227
         ],
         "y": [
          -0.686295091176635,
          -0.20287960338016456
         ]
        },
        {
         "hoverinfo": "text",
         "hovertext": "Job 9<br>Arc: (2, 3)",
         "line": {
          "color": "rgb(153,153,153)",
          "width": 2
         },
         "mode": "lines",
         "name": "Job 9",
         "type": "scatter",
         "x": [
          -0.07552819681310724,
          0.07851915493586577
         ],
         "y": [
          -0.405573396916296,
          -0.686295091176635
         ]
        },
        {
         "hoverinfo": "text",
         "marker": {
          "color": "blue",
          "size": 10
         },
         "mode": "markers",
         "showlegend": false,
         "text": [
          "Station: 1<br>X: -0.51<br>Y: -0.21",
          "Station: 2<br>X: -0.08<br>Y: -0.41",
          "Station: 3<br>X: 0.08<br>Y: -0.69",
          "Station: 4<br>X: -0.20<br>Y: 0.25",
          "Station: 5<br>X: 0.19<br>Y: -0.20"
         ],
         "type": "scatter",
         "x": [
          -0.5116792409876731,
          -0.07552819681310724,
          0.07851915493586577,
          -0.20300771448867933,
          0.18917740087395227
         ],
         "y": [
          -0.20809510799838776,
          -0.405573396916296,
          -0.686295091176635,
          0.25258782625773246,
          -0.20287960338016456
         ]
        }
       ],
       "layout": {
        "height": 1000,
        "hovermode": "closest",
        "legend": {
         "x": 0.01,
         "xanchor": "right",
         "y": 0.99,
         "yanchor": "top"
        },
        "shapes": [
         {
          "fillcolor": "lightgray",
          "layer": "below",
          "line": {
           "color": "lightgray",
           "width": 0
          },
          "type": "rect",
          "x0": -1.1,
          "x1": 1.1,
          "y0": -1.1,
          "y1": 1.1
         },
         {
          "fillcolor": "white",
          "layer": "below",
          "line": {
           "color": "white",
           "width": 0
          },
          "type": "circle",
          "x0": -1,
          "x1": 1,
          "y0": -1,
          "y1": 1
         }
        ],
        "template": {
         "data": {
          "bar": [
           {
            "error_x": {
             "color": "#2a3f5f"
            },
            "error_y": {
             "color": "#2a3f5f"
            },
            "marker": {
             "line": {
              "color": "#E5ECF6",
              "width": 0.5
             },
             "pattern": {
              "fillmode": "overlay",
              "size": 10,
              "solidity": 0.2
             }
            },
            "type": "bar"
           }
          ],
          "barpolar": [
           {
            "marker": {
             "line": {
              "color": "#E5ECF6",
              "width": 0.5
             },
             "pattern": {
              "fillmode": "overlay",
              "size": 10,
              "solidity": 0.2
             }
            },
            "type": "barpolar"
           }
          ],
          "carpet": [
           {
            "aaxis": {
             "endlinecolor": "#2a3f5f",
             "gridcolor": "white",
             "linecolor": "white",
             "minorgridcolor": "white",
             "startlinecolor": "#2a3f5f"
            },
            "baxis": {
             "endlinecolor": "#2a3f5f",
             "gridcolor": "white",
             "linecolor": "white",
             "minorgridcolor": "white",
             "startlinecolor": "#2a3f5f"
            },
            "type": "carpet"
           }
          ],
          "choropleth": [
           {
            "colorbar": {
             "outlinewidth": 0,
             "ticks": ""
            },
            "type": "choropleth"
           }
          ],
          "contour": [
           {
            "colorbar": {
             "outlinewidth": 0,
             "ticks": ""
            },
            "colorscale": [
             [
              0,
              "#0d0887"
             ],
             [
              0.1111111111111111,
              "#46039f"
             ],
             [
              0.2222222222222222,
              "#7201a8"
             ],
             [
              0.3333333333333333,
              "#9c179e"
             ],
             [
              0.4444444444444444,
              "#bd3786"
             ],
             [
              0.5555555555555556,
              "#d8576b"
             ],
             [
              0.6666666666666666,
              "#ed7953"
             ],
             [
              0.7777777777777778,
              "#fb9f3a"
             ],
             [
              0.8888888888888888,
              "#fdca26"
             ],
             [
              1,
              "#f0f921"
             ]
            ],
            "type": "contour"
           }
          ],
          "contourcarpet": [
           {
            "colorbar": {
             "outlinewidth": 0,
             "ticks": ""
            },
            "type": "contourcarpet"
           }
          ],
          "heatmap": [
           {
            "colorbar": {
             "outlinewidth": 0,
             "ticks": ""
            },
            "colorscale": [
             [
              0,
              "#0d0887"
             ],
             [
              0.1111111111111111,
              "#46039f"
             ],
             [
              0.2222222222222222,
              "#7201a8"
             ],
             [
              0.3333333333333333,
              "#9c179e"
             ],
             [
              0.4444444444444444,
              "#bd3786"
             ],
             [
              0.5555555555555556,
              "#d8576b"
             ],
             [
              0.6666666666666666,
              "#ed7953"
             ],
             [
              0.7777777777777778,
              "#fb9f3a"
             ],
             [
              0.8888888888888888,
              "#fdca26"
             ],
             [
              1,
              "#f0f921"
             ]
            ],
            "type": "heatmap"
           }
          ],
          "histogram": [
           {
            "marker": {
             "pattern": {
              "fillmode": "overlay",
              "size": 10,
              "solidity": 0.2
             }
            },
            "type": "histogram"
           }
          ],
          "histogram2d": [
           {
            "colorbar": {
             "outlinewidth": 0,
             "ticks": ""
            },
            "colorscale": [
             [
              0,
              "#0d0887"
             ],
             [
              0.1111111111111111,
              "#46039f"
             ],
             [
              0.2222222222222222,
              "#7201a8"
             ],
             [
              0.3333333333333333,
              "#9c179e"
             ],
             [
              0.4444444444444444,
              "#bd3786"
             ],
             [
              0.5555555555555556,
              "#d8576b"
             ],
             [
              0.6666666666666666,
              "#ed7953"
             ],
             [
              0.7777777777777778,
              "#fb9f3a"
             ],
             [
              0.8888888888888888,
              "#fdca26"
             ],
             [
              1,
              "#f0f921"
             ]
            ],
            "type": "histogram2d"
           }
          ],
          "histogram2dcontour": [
           {
            "colorbar": {
             "outlinewidth": 0,
             "ticks": ""
            },
            "colorscale": [
             [
              0,
              "#0d0887"
             ],
             [
              0.1111111111111111,
              "#46039f"
             ],
             [
              0.2222222222222222,
              "#7201a8"
             ],
             [
              0.3333333333333333,
              "#9c179e"
             ],
             [
              0.4444444444444444,
              "#bd3786"
             ],
             [
              0.5555555555555556,
              "#d8576b"
             ],
             [
              0.6666666666666666,
              "#ed7953"
             ],
             [
              0.7777777777777778,
              "#fb9f3a"
             ],
             [
              0.8888888888888888,
              "#fdca26"
             ],
             [
              1,
              "#f0f921"
             ]
            ],
            "type": "histogram2dcontour"
           }
          ],
          "mesh3d": [
           {
            "colorbar": {
             "outlinewidth": 0,
             "ticks": ""
            },
            "type": "mesh3d"
           }
          ],
          "parcoords": [
           {
            "line": {
             "colorbar": {
              "outlinewidth": 0,
              "ticks": ""
             }
            },
            "type": "parcoords"
           }
          ],
          "pie": [
           {
            "automargin": true,
            "type": "pie"
           }
          ],
          "scatter": [
           {
            "fillpattern": {
             "fillmode": "overlay",
             "size": 10,
             "solidity": 0.2
            },
            "type": "scatter"
           }
          ],
          "scatter3d": [
           {
            "line": {
             "colorbar": {
              "outlinewidth": 0,
              "ticks": ""
             }
            },
            "marker": {
             "colorbar": {
              "outlinewidth": 0,
              "ticks": ""
             }
            },
            "type": "scatter3d"
           }
          ],
          "scattercarpet": [
           {
            "marker": {
             "colorbar": {
              "outlinewidth": 0,
              "ticks": ""
             }
            },
            "type": "scattercarpet"
           }
          ],
          "scattergeo": [
           {
            "marker": {
             "colorbar": {
              "outlinewidth": 0,
              "ticks": ""
             }
            },
            "type": "scattergeo"
           }
          ],
          "scattergl": [
           {
            "marker": {
             "colorbar": {
              "outlinewidth": 0,
              "ticks": ""
             }
            },
            "type": "scattergl"
           }
          ],
          "scattermap": [
           {
            "marker": {
             "colorbar": {
              "outlinewidth": 0,
              "ticks": ""
             }
            },
            "type": "scattermap"
           }
          ],
          "scattermapbox": [
           {
            "marker": {
             "colorbar": {
              "outlinewidth": 0,
              "ticks": ""
             }
            },
            "type": "scattermapbox"
           }
          ],
          "scatterpolar": [
           {
            "marker": {
             "colorbar": {
              "outlinewidth": 0,
              "ticks": ""
             }
            },
            "type": "scatterpolar"
           }
          ],
          "scatterpolargl": [
           {
            "marker": {
             "colorbar": {
              "outlinewidth": 0,
              "ticks": ""
             }
            },
            "type": "scatterpolargl"
           }
          ],
          "scatterternary": [
           {
            "marker": {
             "colorbar": {
              "outlinewidth": 0,
              "ticks": ""
             }
            },
            "type": "scatterternary"
           }
          ],
          "surface": [
           {
            "colorbar": {
             "outlinewidth": 0,
             "ticks": ""
            },
            "colorscale": [
             [
              0,
              "#0d0887"
             ],
             [
              0.1111111111111111,
              "#46039f"
             ],
             [
              0.2222222222222222,
              "#7201a8"
             ],
             [
              0.3333333333333333,
              "#9c179e"
             ],
             [
              0.4444444444444444,
              "#bd3786"
             ],
             [
              0.5555555555555556,
              "#d8576b"
             ],
             [
              0.6666666666666666,
              "#ed7953"
             ],
             [
              0.7777777777777778,
              "#fb9f3a"
             ],
             [
              0.8888888888888888,
              "#fdca26"
             ],
             [
              1,
              "#f0f921"
             ]
            ],
            "type": "surface"
           }
          ],
          "table": [
           {
            "cells": {
             "fill": {
              "color": "#EBF0F8"
             },
             "line": {
              "color": "white"
             }
            },
            "header": {
             "fill": {
              "color": "#C8D4E3"
             },
             "line": {
              "color": "white"
             }
            },
            "type": "table"
           }
          ]
         },
         "layout": {
          "annotationdefaults": {
           "arrowcolor": "#2a3f5f",
           "arrowhead": 0,
           "arrowwidth": 1
          },
          "autotypenumbers": "strict",
          "coloraxis": {
           "colorbar": {
            "outlinewidth": 0,
            "ticks": ""
           }
          },
          "colorscale": {
           "diverging": [
            [
             0,
             "#8e0152"
            ],
            [
             0.1,
             "#c51b7d"
            ],
            [
             0.2,
             "#de77ae"
            ],
            [
             0.3,
             "#f1b6da"
            ],
            [
             0.4,
             "#fde0ef"
            ],
            [
             0.5,
             "#f7f7f7"
            ],
            [
             0.6,
             "#e6f5d0"
            ],
            [
             0.7,
             "#b8e186"
            ],
            [
             0.8,
             "#7fbc41"
            ],
            [
             0.9,
             "#4d9221"
            ],
            [
             1,
             "#276419"
            ]
           ],
           "sequential": [
            [
             0,
             "#0d0887"
            ],
            [
             0.1111111111111111,
             "#46039f"
            ],
            [
             0.2222222222222222,
             "#7201a8"
            ],
            [
             0.3333333333333333,
             "#9c179e"
            ],
            [
             0.4444444444444444,
             "#bd3786"
            ],
            [
             0.5555555555555556,
             "#d8576b"
            ],
            [
             0.6666666666666666,
             "#ed7953"
            ],
            [
             0.7777777777777778,
             "#fb9f3a"
            ],
            [
             0.8888888888888888,
             "#fdca26"
            ],
            [
             1,
             "#f0f921"
            ]
           ],
           "sequentialminus": [
            [
             0,
             "#0d0887"
            ],
            [
             0.1111111111111111,
             "#46039f"
            ],
            [
             0.2222222222222222,
             "#7201a8"
            ],
            [
             0.3333333333333333,
             "#9c179e"
            ],
            [
             0.4444444444444444,
             "#bd3786"
            ],
            [
             0.5555555555555556,
             "#d8576b"
            ],
            [
             0.6666666666666666,
             "#ed7953"
            ],
            [
             0.7777777777777778,
             "#fb9f3a"
            ],
            [
             0.8888888888888888,
             "#fdca26"
            ],
            [
             1,
             "#f0f921"
            ]
           ]
          },
          "colorway": [
           "#636efa",
           "#EF553B",
           "#00cc96",
           "#ab63fa",
           "#FFA15A",
           "#19d3f3",
           "#FF6692",
           "#B6E880",
           "#FF97FF",
           "#FECB52"
          ],
          "font": {
           "color": "#2a3f5f"
          },
          "geo": {
           "bgcolor": "white",
           "lakecolor": "white",
           "landcolor": "#E5ECF6",
           "showlakes": true,
           "showland": true,
           "subunitcolor": "white"
          },
          "hoverlabel": {
           "align": "left"
          },
          "hovermode": "closest",
          "mapbox": {
           "style": "light"
          },
          "paper_bgcolor": "white",
          "plot_bgcolor": "#E5ECF6",
          "polar": {
           "angularaxis": {
            "gridcolor": "white",
            "linecolor": "white",
            "ticks": ""
           },
           "bgcolor": "#E5ECF6",
           "radialaxis": {
            "gridcolor": "white",
            "linecolor": "white",
            "ticks": ""
           }
          },
          "scene": {
           "xaxis": {
            "backgroundcolor": "#E5ECF6",
            "gridcolor": "white",
            "gridwidth": 2,
            "linecolor": "white",
            "showbackground": true,
            "ticks": "",
            "zerolinecolor": "white"
           },
           "yaxis": {
            "backgroundcolor": "#E5ECF6",
            "gridcolor": "white",
            "gridwidth": 2,
            "linecolor": "white",
            "showbackground": true,
            "ticks": "",
            "zerolinecolor": "white"
           },
           "zaxis": {
            "backgroundcolor": "#E5ECF6",
            "gridcolor": "white",
            "gridwidth": 2,
            "linecolor": "white",
            "showbackground": true,
            "ticks": "",
            "zerolinecolor": "white"
           }
          },
          "shapedefaults": {
           "line": {
            "color": "#2a3f5f"
           }
          },
          "ternary": {
           "aaxis": {
            "gridcolor": "white",
            "linecolor": "white",
            "ticks": ""
           },
           "baxis": {
            "gridcolor": "white",
            "linecolor": "white",
            "ticks": ""
           },
           "bgcolor": "#E5ECF6",
           "caxis": {
            "gridcolor": "white",
            "linecolor": "white",
            "ticks": ""
           }
          },
          "title": {
           "x": 0.05
          },
          "xaxis": {
           "automargin": true,
           "gridcolor": "white",
           "linecolor": "white",
           "ticks": "",
           "title": {
            "standoff": 15
           },
           "zerolinecolor": "white",
           "zerolinewidth": 2
          },
          "yaxis": {
           "automargin": true,
           "gridcolor": "white",
           "linecolor": "white",
           "ticks": "",
           "title": {
            "standoff": 15
           },
           "zerolinecolor": "white",
           "zerolinewidth": 2
          }
         }
        },
        "title": {
         "text": "Stations and arcs"
        },
        "width": 1000,
        "xaxis": {
         "range": [
          -1.1,
          1.1
         ],
         "showgrid": false,
         "zeroline": false
        },
        "yaxis": {
         "range": [
          -1.1,
          1.1
         ],
         "scaleanchor": "x",
         "scaleratio": 1,
         "showgrid": false,
         "zeroline": false
        }
       }
      }
     },
     "metadata": {},
     "output_type": "display_data"
    }
   ],
   "source": [
    "import plotly.graph_objects as go\n",
    "import numpy as np\n",
    "\n",
    "\n",
    "# Variables\n",
    "N = rail.N\n",
    "coords = rail.coords\n",
    "coords_plot = []\n",
    "for (x, y), i in zip(coords, N):\n",
    "\tcoords_plot.append((x, y, i))\n",
    "A = rail.A\n",
    "Ja = rail.Ja\n",
    "omega_e = rail.omega_e\n",
    "omega_j = rail.omega_j\n",
    "J = rail.J\n",
    "Aj = rail.Aj\n",
    "\n",
    "\n",
    "\n",
    "\n",
    "# Create figure\n",
    "fig = go.Figure()\n",
    "\n",
    "# Create background (gray rectangle + white circle)\n",
    "fig.add_shape(\n",
    "    type=\"rect\",\n",
    "    x0=-1.1, y0=-1.1, x1=1.1, y1=1.1,\n",
    "    fillcolor=\"lightgray\",\n",
    "    line=dict(color=\"lightgray\", width=0),\n",
    "    layer=\"below\"\n",
    ")\n",
    "\n",
    "fig.add_shape(\n",
    "    type=\"circle\",\n",
    "    x0=-1, y0=-1, x1=1, y1=1,\n",
    "    fillcolor=\"white\",\n",
    "    line=dict(color=\"white\", width=0),\n",
    "    layer=\"below\"\n",
    ")\n",
    "\n",
    "# Add dashed unit circle\n",
    "theta = np.linspace(0, 2 * np.pi, 100)\n",
    "circle_x = np.cos(theta)\n",
    "circle_y = np.sin(theta)\n",
    "\n",
    "fig.add_trace(go.Scatter(\n",
    "    x=circle_x, y=circle_y,\n",
    "    mode=\"lines\",\n",
    "    line=dict(color=\"black\", dash=\"dash\", width=1),\n",
    "    hoverinfo=\"skip\",\n",
    "    showlegend=False\n",
    "))\n",
    "\n",
    "# Add arcs (gray lines between stations)\n",
    "for i, j in A:\n",
    "    i_idx = i - 1  # Adjust for 0-based indexing\n",
    "    j_idx = j - 1\n",
    "    x0, y0 = coords[i_idx]\n",
    "    x1, y1 = coords[j_idx]\n",
    "    \n",
    "    # Create hover text\n",
    "    if Ja is not None:\n",
    "        jobs_text = f\"{Ja[(i, j)]}\" if (i, j) in Ja and Ja[(i, j)] else \"None\"\n",
    "    else:\n",
    "        jobs_text = \"\"\n",
    "        \n",
    "    hover_text = f\"Arc: ({i}, {j})<br>omega_e: {omega_e[(i, j)]:.2f}<br>omega_j: {omega_j[(i, j)]:.2f}\"\n",
    "    if jobs_text:\n",
    "        hover_text += f\"<br>Jobs: {jobs_text}\"\n",
    "        \n",
    "    fig.add_trace(go.Scatter(\n",
    "        x=[x0, x1], y=[y0, y1],\n",
    "        mode=\"lines\",\n",
    "        line=dict(color=\"gray\", width=2),\n",
    "        hovertext=hover_text,\n",
    "        hovertemplate=hover_text + \"<extra></extra>\",\n",
    "        showlegend=False\n",
    "    ))\n",
    "\n",
    "# Add colored arcs for jobs (if provided)\n",
    "if J is not None and Aj is not None:\n",
    "    # Import color palette similar to tab10\n",
    "    import plotly.express as px\n",
    "    colors = px.colors.qualitative.Set1\n",
    "    \n",
    "    for j, color in zip(J, colors):\n",
    "        if j > len(colors):  # Handle case with more jobs than colors\n",
    "            color = colors[j % len(colors)]\n",
    "            \n",
    "        if j in Aj:\n",
    "            for a in Aj[j]:\n",
    "                i, k = a\n",
    "                i_idx = i - 1\n",
    "                k_idx = k - 1\n",
    "                x0, y0 = coords[i_idx]\n",
    "                x1, y1 = coords[k_idx]\n",
    "                \n",
    "                fig.add_trace(go.Scatter(\n",
    "                    x=[x0, x1], y=[y0, y1],\n",
    "                    mode=\"lines\",\n",
    "                    line=dict(color=color, width=2),\n",
    "                    name=f\"Job {j}\",\n",
    "                    hoverinfo=\"text\",\n",
    "                    hovertext=f\"Job {j}<br>Arc: ({i}, {k})\"\n",
    "                ))\n",
    "\n",
    "# Add stations (blue dots)\n",
    "fig.add_trace(go.Scatter(\n",
    "    x=[x for x, _, _ in coords_plot],\n",
    "    y=[y for _, y, _ in coords_plot],\n",
    "    mode=\"markers\",\n",
    "    marker=dict(color=\"blue\", size=10),\n",
    "    text=[f\"Station: {s}<br>X: {x:.2f}<br>Y: {y:.2f}\" for x, y, s in coords_plot],\n",
    "    hoverinfo=\"text\",\n",
    "    showlegend=False\n",
    "))\n",
    "\n",
    "# Update layout\n",
    "fig.update_layout(\n",
    "    title=\"Stations and arcs\",\n",
    "    width=1000, height=1000,\n",
    "    xaxis=dict(\n",
    "        range=[-1.1, 1.1],\n",
    "        showgrid=False,\n",
    "        zeroline=False,\n",
    "    ),\n",
    "    yaxis=dict(\n",
    "        range=[-1.1, 1.1],\n",
    "        showgrid=False,\n",
    "        zeroline=False,\n",
    "        scaleanchor=\"x\",\n",
    "        scaleratio=1\n",
    "    ),\n",
    "    legend=dict(\n",
    "        yanchor=\"top\",\n",
    "        y=0.99,\n",
    "        xanchor=\"right\",\n",
    "        x=0.01\n",
    "    ),\n",
    "    hovermode=\"closest\"\n",
    ")\n",
    "\n",
    "fig.show()"
   ]
  },
  {
   "cell_type": "code",
   "execution_count": null,
   "id": "97df0791",
   "metadata": {},
   "outputs": [],
   "source": []
  },
  {
   "cell_type": "code",
   "execution_count": null,
   "id": "def274d8",
   "metadata": {},
   "outputs": [],
   "source": []
  },
  {
   "cell_type": "code",
   "execution_count": 11,
   "id": "0cc5463f",
   "metadata": {},
   "outputs": [
    {
     "data": {
      "text/plain": [
       "{'runtime': 0.07273697853088379,\n",
       " 'nodes': 21.0,\n",
       " 'iterations': 177.0,\n",
       " 'gap': 0.0,\n",
       " 'obj': 40087.146130013745}"
      ]
     },
     "execution_count": 11,
     "metadata": {},
     "output_type": "execute_result"
    }
   ],
   "source": [
    "performance"
   ]
  },
  {
   "cell_type": "code",
   "execution_count": 12,
   "id": "ba1b92d0",
   "metadata": {},
   "outputs": [
    {
     "name": "stdout",
     "output_type": "stream",
     "text": [
      "Railway scheduling problem\n",
      "\n",
      "Parameters:\n",
      "N:  10 stations\n",
      "T:  10 periods\n",
      "J:  10 jobs\n",
      "P:  2000 passengers\n",
      "K:  3 alternative routes\n",
      "Aj: 10 jobs with arcs\n",
      "Ja: 9 arcs with jobs\n",
      "C:  0 arcs unavailable simultaneously\n",
      "\n",
      "Optimization model:\n",
      "Variables:   4600\n",
      "Constraints: 9805\n",
      "Objective:   -3513895.9717796026 + 1746.0 v[1,2,1] + 772.0 v[1,2,2] + 1800.0 v[1,2,3] + 223.0 v[1,2,4] + 167.0 v[1,2,5] + 1855.0 v[1,2,6] + 1169.0 v[1,2,7] + 1993.0 v[1,2,8] + 869.0 v[1,2,9] + 1468.0 v[1,2,10] + 76.0 v[1,3,1] + 1974.0 v[1,3,2] + 561.0 v[1,3,3] + 301.0 v[1,3,4] + 442.0 v[1,3,5] + 894.0 v[1,3,6] + 1510.0 v[1,3,7] + 1160.0 v[1,3,8] + 851.0 v[1,3,9] + 1030.0 v[1,3,10] + 1478.0 v[1,4,1] + 581.0 v[1,4,2] + 1750.0 v[1,4,3] + 1823.0 v[1,4,4] + 367.0 v[1,4,5] + 1950.0 v[1,4,6] + 988.0 v[1,4,7] + 1695.0 v[1,4,8] + 1028.0 v[1,4,9] + 808.0 v[1,4,10] + 465.0 v[1,5,1] + 1128.0 v[1,5,2] + 1081.0 v[1,5,3] + 908.0 v[1,5,4] + 1816.0 v[1,5,5] + 790.0 v[1,5,6] + 333.0 v[1,5,7] + 482.0 v[1,5,8] + 892.0 v[1,5,9] + 1081.0 v[1,5,10] + 1322.0 v[1,6,1] + 1839.0 v[1,6,2] + 744.0 v[1,6,3] + 1142.0 v[1,6,4] + 433.0 v[1,6,5] + 285.0 v[1,6,6] + 1276.0 v[1,6,7] + 1127.0 v[1,6,8] + 653.0 v[1,6,9] + 705.0 v[1,6,10] + 1182.0 v[1,7,1] + 473.0 v[1,7,2] + 117.0 v[1,7,3] + 713.0 v[1,7,4] + 1844.0 v[1,7,5] + 1755.0 v[1,7,6] + 80.0 v[1,7,7] + 1862.0 v[1,7,8] + 1366.0 v[1,7,9] + 120.0 v[1,7,10] + 1956.0 v[1,8,1] + 779.0 v[1,8,2] + 1146.0 v[1,8,3] + 96.0 v[1,8,4] + 1264.0 v[1,8,5] + 406.0 v[1,8,6] + 834.0 v[1,8,7] + 318.0 v[1,8,8] + 1513.0 v[1,8,9] + 805.0 v[1,8,10] + 1514.0 v[1,9,1] + 648.0 v[1,9,2] + 1700.0 v[1,9,3] + 1684.0 v[1,9,4] + 1364.0 v[1,9,5] + 1110.0 v[1,9,6] + 245.0 v[1,9,7] + 1690.0 v[1,9,8] + 82.0 v[1,9,9] + 1650.0 v[1,9,10] + 946.0 v[1,10,1] + 138.0 v[1,10,2] + 204.0 v[1,10,3] + 1177.0 v[1,10,4] + 1613.0 v[1,10,5] + 1501.0 v[1,10,6] + 89.0 v[1,10,7] + 1771.0 v[1,10,8] + 1108.0 v[1,10,9] + 220.0 v[1,10,10] + 563.0 v[2,1,1] + 276.0 v[2,1,2] + 1055.0 v[2,1,3] + 477.0 v[2,1,4] + 1016.0 v[2,1,5] + 217.0 v[2,1,6] + 487.0 v[2,1,7] + 268.0 v[2,1,8] + 766.0 v[2,1,9] + 375.0 v[2,1,10] + 425.0 v[2,3,1] + 1557.0 v[2,3,2] + 1874.0 v[2,3,3] + 873.0 v[2,3,4] + 42.0 v[2,3,5] + 712.0 v[2,3,6] + 1990.0 v[2,3,7] + 1663.0 v[2,3,8] + 946.0 v[2,3,9] + 952.0 v[2,3,10] + 106.0 v[2,4,1] + 89.0 v[2,4,2] + 1504.0 v[2,4,3] + 468.0 v[2,4,4] + 1198.0 v[2,4,5] + 1373.0 v[2,4,6] + 1403.0 v[2,4,7] + 1044.0 v[2,4,8] + 606.0 v[2,4,9] + 817.0 v[2,4,10] + 574.0 v[2,5,1] + 209.0 v[2,5,2] + 901.0 v[2,5,3] + 1455.0 v[2,5,4] + 1208.0 v[2,5,5] + 999.0 v[2,5,6] + 1840.0 v[2,5,7] + 1250.0 v[2,5,8] + 1077.0 v[2,5,9] + 668.0 v[2,5,10] + 1975.0 v[2,6,1] + 97.0 v[2,6,2] + 1050.0 v[2,6,3] + 167.0 v[2,6,4] + 1954.0 v[2,6,5] + 518.0 v[2,6,6] + 1783.0 v[2,6,7] + 283.0 v[2,6,8] + 1403.0 v[2,6,9] + 1610.0 v[2,6,10] + 50.0 v[2,7,1] + 1903.0 v[2,7,2] + 611.0 v[2,7,3] + 1405.0 v[2,7,4] + 1462.0 v[2,7,5] + 29.0 v[2,7,6] + 390.0 v[2,7,7] + 1718.0 v[2,7,8] + 1825.0 v[2,7,9] + 728.0 v[2,7,10] + 1680.0 v[2,8,1] + 1143.0 v[2,8,2] + 860.0 v[2,8,3] + 1502.0 v[2,8,4] + 1694.0 v[2,8,5] + 357.0 v[2,8,6] + 498.0 v[2,8,7] + 770.0 v[2,8,8] + 1641.0 v[2,8,9] + 304.0 v[2,8,10] + 336.0 v[2,9,1] + 1831.0 v[2,9,2] + 243.0 v[2,9,3] + 47.0 v[2,9,4] + 251.0 v[2,9,5] + 575.0 v[2,9,6] + 1459.0 v[2,9,7] + 1902.0 v[2,9,8] + 2.0 v[2,9,9] + 1415.0 v[2,9,10] + 1094.0 v[2,10,1] + 917.0 v[2,10,2] + 229.0 v[2,10,3] + 1812.0 v[2,10,4] + 329.0 v[2,10,5] + 1973.0 v[2,10,6] + 619.0 v[2,10,7] + 1485.0 v[2,10,8] + 566.0 v[2,10,9] + 21.0 v[2,10,10] + 1981.0 v[3,1,1] + 1608.0 v[3,1,2] + 325.0 v[3,1,3] + 305.0 v[3,1,4] + 1912.0 v[3,1,5] + 1429.0 v[3,1,6] + 1493.0 v[3,1,7] + 1078.0 v[3,1,8] + 1529.0 v[3,1,9] + 703.0 v[3,1,10] + 663.0 v[3,2,1] + 1063.0 v[3,2,2] + 552.0 v[3,2,3] + 1371.0 v[3,2,4] + 16.0 v[3,2,5] + 809.0 v[3,2,6] + 572.0 v[3,2,7] + 1924.0 v[3,2,8] + 84.0 v[3,2,9] + 1207.0 v[3,2,10] + 215.0 v[3,4,1] + 1320.0 v[3,4,2] + 230.0 v[3,4,3] + 1147.0 v[3,4,4] + 631.0 v[3,4,5] + 1542.0 v[3,4,6] + 1809.0 v[3,4,7] + 204.0 v[3,4,8] + 1974.0 v[3,4,9] + 1262.0 v[3,4,10] + 799.0 v[3,5,1] + 350.0 v[3,5,2] + 571.0 v[3,5,3] + 999.0 v[3,5,4] + 1623.0 v[3,5,5] + 1350.0 v[3,5,6] + 1293.0 v[3,5,7] + 108.0 v[3,5,8] + 321.0 v[3,5,9] + 1058.0 v[3,5,10] + 1375.0 v[3,6,1] + 726.0 v[3,6,2] + 1332.0 v[3,6,3] + 813.0 v[3,6,4] + 249.0 v[3,6,5] + 1142.0 v[3,6,6] + 1273.0 v[3,6,7] + 62.0 v[3,6,8] + 1499.0 v[3,6,9] + 1816.0 v[3,6,10] + 1601.0 v[3,7,1] + 835.0 v[3,7,2] + 1525.0 v[3,7,3] + 734.0 v[3,7,4] + 185.0 v[3,7,5] + 113.0 v[3,7,6] + 311.0 v[3,7,7] + 1673.0 v[3,7,8] + 206.0 v[3,7,9] + 61.0 v[3,7,10] + 1772.0 v[3,8,1] + 1993.0 v[3,8,2] + 1746.0 v[3,8,3] + 873.0 v[3,8,4] + 1054.0 v[3,8,5] + 260.0 v[3,8,6] + 1600.0 v[3,8,7] + 1829.0 v[3,8,8] + 1201.0 v[3,8,9] + 1891.0 v[3,8,10] + 524.0 v[3,9,1] + 214.0 v[3,9,2] + 683.0 v[3,9,3] + 502.0 v[3,9,4] + 410.0 v[3,9,5] + 835.0 v[3,9,6] + 1625.0 v[3,9,7] + 1309.0 v[3,9,8] + 676.0 v[3,9,9] + 15.0 v[3,9,10] + 1841.0 v[3,10,1] + 1329.0 v[3,10,2] + 1491.0 v[3,10,3] + 1578.0 v[3,10,4] + 784.0 v[3,10,5] + 990.0 v[3,10,6] + 451.0 v[3,10,7] + 1340.0 v[3,10,8] + 342.0 v[3,10,9] + 576.0 v[3,10,10] + 59.0 v[4,1,1] + 34.0 v[4,1,2] + 684.0 v[4,1,3] + 1667.0 v[4,1,4] + 612.0 v[4,1,5] + 1630.0 v[4,1,6] + 1981.0 v[4,1,7] + 456.0 v[4,1,8] + 1632.0 v[4,1,9] + 1678.0 v[4,1,10] + 816.0 v[4,2,1] + 1347.0 v[4,2,2] + 1208.0 v[4,2,3] + 1622.0 v[4,2,4] + 1073.0 v[4,2,5] + 444.0 v[4,2,6] + 1753.0 v[4,2,7] + 1148.0 v[4,2,8] + 1655.0 v[4,2,9] + 441.0 v[4,2,10] + 1496.0 v[4,3,1] + 1953.0 v[4,3,2] + 1988.0 v[4,3,3] + 278.0 v[4,3,4] + 144.0 v[4,3,5] + 1428.0 v[4,3,6] + 261.0 v[4,3,7] + 1097.0 v[4,3,8] + 1968.0 v[4,3,9] + 226.0 v[4,3,10] + 733.0 v[4,5,1] + 1312.0 v[4,5,2] + 1357.0 v[4,5,3] + 955.0 v[4,5,4] + 980.0 v[4,5,5] + 557.0 v[4,5,6] + 1200.0 v[4,5,7] + 1090.0 v[4,5,8] + 335.0 v[4,5,9] + 1126.0 v[4,5,10] + 22.0 v[4,6,1] + 987.0 v[4,6,2] + 927.0 v[4,6,3] + 290.0 v[4,6,4] + 78.0 v[4,6,5] + 348.0 v[4,6,6] + 1977.0 v[4,6,7] + 1213.0 v[4,6,8] + 52.0 v[4,6,9] + 1326.0 v[4,6,10] + 329.0 v[4,7,1] + 1830.0 v[4,7,2] + 461.0 v[4,7,3] + 1496.0 v[4,7,4] + 1235.0 v[4,7,5] + 1326.0 v[4,7,6] + 701.0 v[4,7,7] + 407.0 v[4,7,8] + 700.0 v[4,7,9] + 1051.0 v[4,7,10] + 1637.0 v[4,8,1] + 1001.0 v[4,8,2] + 835.0 v[4,8,3] + 1871.0 v[4,8,4] + 1229.0 v[4,8,5] + 1990.0 v[4,8,6] + 1816.0 v[4,8,7] + 941.0 v[4,8,8] + 1226.0 v[4,8,9] + 393.0 v[4,8,10] + 702.0 v[4,9,1] + 1562.0 v[4,9,2] + 1165.0 v[4,9,3] + 333.0 v[4,9,4] + 1258.0 v[4,9,5] + 1330.0 v[4,9,6] + 1775.0 v[4,9,7] + 1030.0 v[4,9,8] + 1691.0 v[4,9,9] + 335.0 v[4,9,10] + 881.0 v[4,10,1] + 1821.0 v[4,10,2] + 1609.0 v[4,10,3] + 459.0 v[4,10,4] + 695.0 v[4,10,5] + 295.0 v[4,10,6] + 691.0 v[4,10,7] + 1005.0 v[4,10,8] + 641.0 v[4,10,9] + 1492.0 v[4,10,10] + 864.0 v[5,1,1] + 721.0 v[5,1,2] + 607.0 v[5,1,3] + 369.0 v[5,1,4] + 423.0 v[5,1,5] + 159.0 v[5,1,6] + 241.0 v[5,1,7] + 1793.0 v[5,1,8] + 225.0 v[5,1,9] + 574.0 v[5,1,10] + 176.0 v[5,2,1] + 1837.0 v[5,2,2] + 59.0 v[5,2,3] + 1131.0 v[5,2,4] + 1216.0 v[5,2,5] + 685.0 v[5,2,6] + 416.0 v[5,2,7] + 1063.0 v[5,2,8] + 405.0 v[5,2,9] + 1312.0 v[5,2,10] + 1695.0 v[5,3,1] + 1597.0 v[5,3,2] + 1525.0 v[5,3,3] + 1541.0 v[5,3,4] + 1342.0 v[5,3,5] + 1048.0 v[5,3,6] + 939.0 v[5,3,7] + 1533.0 v[5,3,8] + 515.0 v[5,3,9] + 945.0 v[5,3,10] + 681.0 v[5,4,1] + 484.0 v[5,4,2] + 490.0 v[5,4,3] + 1468.0 v[5,4,4] + 1210.0 v[5,4,5] + 1617.0 v[5,4,6] + 1205.0 v[5,4,7] + 856.0 v[5,4,8] + 1253.0 v[5,4,9] + 1441.0 v[5,4,10] + 150.0 v[5,6,1] + 1481.0 v[5,6,2] + 247.0 v[5,6,3] + 334.0 v[5,6,4] + 1027.0 v[5,6,5] + 437.0 v[5,6,6] + 1152.0 v[5,6,7] + 1287.0 v[5,6,8] + 53.0 v[5,6,9] + 379.0 v[5,6,10] + 1065.0 v[5,7,1] + 867.0 v[5,7,2] + 61.0 v[5,7,3] + 892.0 v[5,7,4] + 1809.0 v[5,7,5] + 630.0 v[5,7,6] + 279.0 v[5,7,7] + 1923.0 v[5,7,8] + 365.0 v[5,7,9] + 1412.0 v[5,7,10] + 40.0 v[5,8,1] + 482.0 v[5,8,2] + 106.0 v[5,8,3] + 1832.0 v[5,8,4] + 1299.0 v[5,8,5] + 1823.0 v[5,8,6] + 1062.0 v[5,8,7] + 338.0 v[5,8,8] + 1358.0 v[5,8,9] + 414.0 v[5,8,10] + 555.0 v[5,9,1] + 810.0 v[5,9,2] + 87.0 v[5,9,3] + 540.0 v[5,9,4] + 317.0 v[5,9,5] + 1985.0 v[5,9,6] + 140.0 v[5,9,7] + 1289.0 v[5,9,8] + 64.0 v[5,9,9] + 1646.0 v[5,9,10] + 1522.0 v[5,10,1] + 421.0 v[5,10,2] + 136.0 v[5,10,3] + 209.0 v[5,10,4] + 233.0 v[5,10,5] + 939.0 v[5,10,6] + 1879.0 v[5,10,7] + 90.0 v[5,10,8] + 1293.0 v[5,10,9] + 426.0 v[5,10,10] + 1342.0 v[6,1,1] + 1365.0 v[6,1,2] + 535.0 v[6,1,3] + 486.0 v[6,1,4] + 1043.0 v[6,1,5] + 1480.0 v[6,1,6] + 369.0 v[6,1,7] + 1948.0 v[6,1,8] + 65.0 v[6,1,9] + 187.0 v[6,1,10] + 971.0 v[6,2,1] + 706.0 v[6,2,2] + 1116.0 v[6,2,3] + 893.0 v[6,2,4] + 654.0 v[6,2,5] + 556.0 v[6,2,6] + 1696.0 v[6,2,7] + 532.0 v[6,2,8] + 1894.0 v[6,2,9] + 478.0 v[6,2,10] + 1273.0 v[6,3,1] + 336.0 v[6,3,2] + 1343.0 v[6,3,3] + 933.0 v[6,3,4] + 367.0 v[6,3,5] + 1815.0 v[6,3,6] + 153.0 v[6,3,7] + 40.0 v[6,3,8] + 1687.0 v[6,3,9] + 1536.0 v[6,3,10] + 519.0 v[6,4,1] + 213.0 v[6,4,2] + 189.0 v[6,4,3] + 506.0 v[6,4,4] + 1425.0 v[6,4,5] + 313.0 v[6,4,6] + 1918.0 v[6,4,7] + 110.0 v[6,4,8] + 967.0 v[6,4,9] + 1173.0 v[6,4,10] + 659.0 v[6,5,1] + 1968.0 v[6,5,2] + 994.0 v[6,5,3] + 347.0 v[6,5,4] + 1648.0 v[6,5,5] + 1461.0 v[6,5,6] + 61.0 v[6,5,7] + 496.0 v[6,5,8] + 1838.0 v[6,5,9] + 909.0 v[6,5,10] + 1216.0 v[6,7,1] + 1115.0 v[6,7,2] + 1555.0 v[6,7,3] + 202.0 v[6,7,4] + 1263.0 v[6,7,5] + 1190.0 v[6,7,6] + 1257.0 v[6,7,7] + 1142.0 v[6,7,8] + 938.0 v[6,7,9] + 269.0 v[6,7,10] + 833.0 v[6,8,1] + 1114.0 v[6,8,2] + 968.0 v[6,8,3] + 1855.0 v[6,8,4] + 27.0 v[6,8,5] + 1254.0 v[6,8,6] + 154.0 v[6,8,7] + 1869.0 v[6,8,8] + 374.0 v[6,8,9] + 484.0 v[6,8,10] + 523.0 v[6,9,1] + 344.0 v[6,9,2] + 1805.0 v[6,9,3] + 1703.0 v[6,9,4] + 633.0 v[6,9,5] + 1928.0 v[6,9,6] + 1719.0 v[6,9,7] + 620.0 v[6,9,8] + 1037.0 v[6,9,9] + 903.0 v[6,9,10] + 123.0 v[6,10,1] + 1799.0 v[6,10,2] + 714.0 v[6,10,3] + 1831.0 v[6,10,4] + 9.0 v[6,10,5] + 1541.0 v[6,10,6] + 412.0 v[6,10,7] + 1119.0 v[6,10,8] + 1540.0 v[6,10,9] + 1237.0 v[6,10,10] + 817.0 v[7,1,1] + 777.0 v[7,1,2] + 1483.0 v[7,1,3] + 1592.0 v[7,1,4] + 849.0 v[7,1,5] + 1615.0 v[7,1,6] + 1061.0 v[7,1,7] + 1927.0 v[7,1,8] + 1178.0 v[7,1,9] + 1318.0 v[7,1,10] + 1057.0 v[7,2,1] + 1456.0 v[7,2,2] + 841.0 v[7,2,3] + 553.0 v[7,2,4] + 770.0 v[7,2,5] + 455.0 v[7,2,6] + 542.0 v[7,2,7] + 1490.0 v[7,2,8] + 696.0 v[7,2,9] + 1498.0 v[7,2,10] + 1630.0 v[7,3,1] + 1589.0 v[7,3,2] + 800.0 v[7,3,3] + 726.0 v[7,3,4] + 1153.0 v[7,3,5] + 1615.0 v[7,3,6] + 1694.0 v[7,3,7] + 641.0 v[7,3,8] + 1754.0 v[7,3,9] + 574.0 v[7,3,10] + 1075.0 v[7,4,1] + 45.0 v[7,4,2] + 1216.0 v[7,4,3] + 1002.0 v[7,4,4] + 932.0 v[7,4,5] + 1833.0 v[7,4,6] + 674.0 v[7,4,7] + 1731.0 v[7,4,8] + 941.0 v[7,4,9] + 713.0 v[7,4,10] + 474.0 v[7,5,1] + 1735.0 v[7,5,2] + 55.0 v[7,5,3] + 585.0 v[7,5,4] + 1649.0 v[7,5,5] + 1714.0 v[7,5,6] + 599.0 v[7,5,7] + 1964.0 v[7,5,8] + 1218.0 v[7,5,9] + 77.0 v[7,5,10] + 1012.0 v[7,6,1] + 1267.0 v[7,6,2] + 537.0 v[7,6,3] + 596.0 v[7,6,4] + 783.0 v[7,6,5] + 1101.0 v[7,6,6] + 797.0 v[7,6,7] + 430.0 v[7,6,8] + 1163.0 v[7,6,9] + 486.0 v[7,6,10] + 600.0 v[7,8,1] + 1281.0 v[7,8,2] + 51.0 v[7,8,3] + 1596.0 v[7,8,4] + 1285.0 v[7,8,5] + 1124.0 v[7,8,6] + 1323.0 v[7,8,7] + 355.0 v[7,8,8] + 267.0 v[7,8,9] + 1935.0 v[7,8,10] + 1150.0 v[7,9,1] + 1459.0 v[7,9,2] + 1642.0 v[7,9,3] + 247.0 v[7,9,4] + 674.0 v[7,9,5] + 1715.0 v[7,9,6] + 1888.0 v[7,9,7] + 934.0 v[7,9,8] + 1041.0 v[7,9,9] + 1289.0 v[7,9,10] + 1528.0 v[7,10,1] + 827.0 v[7,10,2] + 797.0 v[7,10,3] + 1050.0 v[7,10,4] + 1893.0 v[7,10,5] + 156.0 v[7,10,6] + 189.0 v[7,10,7] + 323.0 v[7,10,8] + 323.0 v[7,10,9] + 1272.0 v[7,10,10] + 809.0 v[8,1,1] + 596.0 v[8,1,2] + 235.0 v[8,1,3] + 1670.0 v[8,1,4] + 395.0 v[8,1,5] + 888.0 v[8,1,6] + 46.0 v[8,1,7] + 480.0 v[8,1,8] + 627.0 v[8,1,9] + 118.0 v[8,1,10] + 416.0 v[8,2,1] + 146.0 v[8,2,2] + 251.0 v[8,2,3] + 193.0 v[8,2,4] + 1703.0 v[8,2,5] + 163.0 v[8,2,6] + 1930.0 v[8,2,7] + 365.0 v[8,2,8] + 585.0 v[8,2,9] + 664.0 v[8,2,10] + 211.0 v[8,3,1] + 699.0 v[8,3,2] + 1998.0 v[8,3,3] + 993.0 v[8,3,4] + 414.0 v[8,3,5] + 198.0 v[8,3,6] + 1878.0 v[8,3,7] + 306.0 v[8,3,8] + 1220.0 v[8,3,9] + 1249.0 v[8,3,10] + 1921.0 v[8,4,1] + 175.0 v[8,4,2] + 419.0 v[8,4,3] + 1875.0 v[8,4,4] + 1711.0 v[8,4,5] + 1186.0 v[8,4,6] + 1443.0 v[8,4,7] + 529.0 v[8,4,8] + 1516.0 v[8,4,9] + 350.0 v[8,4,10] + 1739.0 v[8,5,1] + 686.0 v[8,5,2] + 817.0 v[8,5,3] + 167.0 v[8,5,4] + 1682.0 v[8,5,5] + 1734.0 v[8,5,6] + 1212.0 v[8,5,7] + 1816.0 v[8,5,8] + 965.0 v[8,5,9] + 169.0 v[8,5,10] + 1248.0 v[8,6,1] + 241.0 v[8,6,2] + 551.0 v[8,6,3] + 1970.0 v[8,6,4] + 453.0 v[8,6,5] + 1547.0 v[8,6,6] + 1840.0 v[8,6,7] + 583.0 v[8,6,8] + 1989.0 v[8,6,9] + 103.0 v[8,6,10] + 1460.0 v[8,7,1] + 1047.0 v[8,7,2] + 1709.0 v[8,7,3] + 1113.0 v[8,7,4] + 1543.0 v[8,7,5] + 115.0 v[8,7,6] + 1477.0 v[8,7,7] + 658.0 v[8,7,8] + 258.0 v[8,7,9] + 1546.0 v[8,7,10] + 1065.0 v[8,9,1] + 1124.0 v[8,9,2] + 1278.0 v[8,9,3] + 1951.0 v[8,9,4] + 1962.0 v[8,9,5] + 1097.0 v[8,9,6] + 1224.0 v[8,9,7] + 977.0 v[8,9,8] + 1303.0 v[8,9,9] + 1275.0 v[8,9,10] + 842.0 v[8,10,1] + 213.0 v[8,10,2] + 31.0 v[8,10,3] + 1173.0 v[8,10,4] + 1655.0 v[8,10,5] + 1317.0 v[8,10,6] + 1122.0 v[8,10,7] + 523.0 v[8,10,8] + 1663.0 v[8,10,9] + 1441.0 v[8,10,10] + 149.0 v[9,1,1] + 1178.0 v[9,1,2] + 776.0 v[9,1,3] + 962.0 v[9,1,4] + 700.0 v[9,1,5] + 470.0 v[9,1,6] + 1801.0 v[9,1,7] + 1678.0 v[9,1,8] + 877.0 v[9,1,9] + 1577.0 v[9,1,10] + 116.0 v[9,2,1] + 1252.0 v[9,2,2] + 524.0 v[9,2,3] + 159.0 v[9,2,4] + 1511.0 v[9,2,5] + 634.0 v[9,2,6] + 1475.0 v[9,2,7] + 1728.0 v[9,2,8] + 874.0 v[9,2,9] + 1387.0 v[9,2,10] + 667.0 v[9,3,1] + 77.0 v[9,3,2] + 1788.0 v[9,3,3] + 730.0 v[9,3,4] + 1575.0 v[9,3,5] + 1977.0 v[9,3,6] + 763.0 v[9,3,7] + 75.0 v[9,3,8] + 466.0 v[9,3,9] + 53.0 v[9,3,10] + 1394.0 v[9,4,1] + 711.0 v[9,4,2] + 1298.0 v[9,4,3] + 399.0 v[9,4,4] + 1235.0 v[9,4,5] + 694.0 v[9,4,6] + 1483.0 v[9,4,7] + 1701.0 v[9,4,8] + 1952.0 v[9,4,9] + 1186.0 v[9,4,10] + 1087.0 v[9,5,1] + 1684.0 v[9,5,2] + 244.0 v[9,5,3] + 94.0 v[9,5,4] + 1259.0 v[9,5,5] + 735.0 v[9,5,6] + 71.0 v[9,5,7] + 295.0 v[9,5,8] + 1580.0 v[9,5,9] + 1431.0 v[9,5,10] + 460.0 v[9,6,1] + 896.0 v[9,6,2] + 790.0 v[9,6,3] + 205.0 v[9,6,4] + 1559.0 v[9,6,5] + 225.0 v[9,6,6] + 1774.0 v[9,6,7] + 238.0 v[9,6,8] + 1920.0 v[9,6,9] + 84.0 v[9,6,10] + 1927.0 v[9,7,1] + 1296.0 v[9,7,2] + 1349.0 v[9,7,3] + 1526.0 v[9,7,4] + 256.0 v[9,7,5] + 301.0 v[9,7,6] + 1007.0 v[9,7,7] + 5.0 v[9,7,8] + 1154.0 v[9,7,9] + 320.0 v[9,7,10] + 1116.0 v[9,8,1] + 625.0 v[9,8,2] + 1099.0 v[9,8,3] + 611.0 v[9,8,4] + 290.0 v[9,8,5] + 764.0 v[9,8,6] + 762.0 v[9,8,7] + 1507.0 v[9,8,8] + 1021.0 v[9,8,9] + 1497.0 v[9,8,10] + 1443.0 v[9,10,1] + 836.0 v[9,10,2] + 1531.0 v[9,10,3] + 1296.0 v[9,10,4] + 1431.0 v[9,10,5] + 1132.0 v[9,10,6] + 1059.0 v[9,10,7] + 403.0 v[9,10,8] + 1614.0 v[9,10,9] + 1486.0 v[9,10,10] + 1806.0 v[10,1,1] + 1250.0 v[10,1,2] + 1740.0 v[10,1,3] + 487.0 v[10,1,4] + 752.0 v[10,1,5] + 1647.0 v[10,1,6] + 1986.0 v[10,1,7] + 941.0 v[10,1,8] + 195.0 v[10,1,9] + 826.0 v[10,1,10] + 60.0 v[10,2,1] + 1754.0 v[10,2,2] + 1591.0 v[10,2,3] + 144.0 v[10,2,4] + 1503.0 v[10,2,5] + 195.0 v[10,2,6] + 715.0 v[10,2,7] + 203.0 v[10,2,8] + 189.0 v[10,2,9] + 489.0 v[10,2,10] + 989.0 v[10,3,1] + 643.0 v[10,3,2] + 570.0 v[10,3,3] + 1305.0 v[10,3,4] + 1517.0 v[10,3,5] + 330.0 v[10,3,6] + 1019.0 v[10,3,7] + 519.0 v[10,3,8] + 127.0 v[10,3,9] + 814.0 v[10,3,10] + 672.0 v[10,4,1] + 679.0 v[10,4,2] + 924.0 v[10,4,3] + 1383.0 v[10,4,4] + 424.0 v[10,4,5] + 1037.0 v[10,4,6] + 676.0 v[10,4,7] + 690.0 v[10,4,8] + 1540.0 v[10,4,9] + 1224.0 v[10,4,10] + 263.0 v[10,5,1] + 1973.0 v[10,5,2] + 152.0 v[10,5,3] + 1050.0 v[10,5,4] + 982.0 v[10,5,5] + 630.0 v[10,5,6] + 1885.0 v[10,5,7] + 1535.0 v[10,5,8] + 109.0 v[10,5,9] + 1105.0 v[10,5,10] + 653.0 v[10,6,1] + 934.0 v[10,6,2] + 551.0 v[10,6,3] + 1307.0 v[10,6,4] + 1376.0 v[10,6,5] + 160.0 v[10,6,6] + 1220.0 v[10,6,7] + 637.0 v[10,6,8] + 1123.0 v[10,6,9] + 236.0 v[10,6,10] + 1622.0 v[10,7,1] + 1691.0 v[10,7,2] + 638.0 v[10,7,3] + 184.0 v[10,7,4] + 783.0 v[10,7,5] + 159.0 v[10,7,6] + 1729.0 v[10,7,7] + 913.0 v[10,7,8] + 8.0 v[10,7,9] + 696.0 v[10,8,1] + 1306.0 v[10,8,2] + 863.0 v[10,8,3] + 695.0 v[10,8,4] + 1104.0 v[10,8,5] + 656.0 v[10,8,6] + 1888.0 v[10,8,7] + 1323.0 v[10,8,8] + 1472.0 v[10,8,9] + 1734.0 v[10,8,10] + 53.0 v[10,9,1] + 1985.0 v[10,9,2] + 1878.0 v[10,9,3] + 865.0 v[10,9,4] + 1482.0 v[10,9,5] + 1551.0 v[10,9,6] + 1176.0 v[10,9,7] + 1153.0 v[10,9,8] + 594.0 v[10,9,9] + 544.0 v[10,9,10]\n",
      "Status:      OPTIMAL\n",
      "\n"
     ]
    }
   ],
   "source": [
    "print(rail)"
   ]
  },
  {
   "cell_type": "code",
   "execution_count": 13,
   "id": "544f3a61",
   "metadata": {},
   "outputs": [
    {
     "name": "stdout",
     "output_type": "stream",
     "text": [
      "Railway scheduling problem\n",
      "\n",
      "Parameters:\n",
      "N:  10 stations\n",
      "T:  10 periods\n",
      "J:  10 jobs\n",
      "P:  2000 passengers\n",
      "K:  3 alternative routes\n",
      "Aj: 10 jobs with arcs\n",
      "Ja: 9 arcs with jobs\n",
      "C:  0 arcs unavailable simultaneously\n",
      "\n",
      "Optimization model:\n",
      "Variables:   0\n",
      "Constraints: 0\n",
      "Objective:   0.0\n",
      "Status:      LOADED\n",
      "\n"
     ]
    }
   ],
   "source": [
    "print(rail2)"
   ]
  },
  {
   "cell_type": "code",
   "execution_count": 14,
   "id": "a70ef923",
   "metadata": {},
   "outputs": [
    {
     "name": "stdout",
     "output_type": "stream",
     "text": [
      "Optimization took 0.0727 seconds\n"
     ]
    }
   ],
   "source": [
    "# Measure runtime\n",
    "runtime = rail.model.Runtime\n",
    "print(f\"Optimization took {runtime:.4f} seconds\")"
   ]
  },
  {
   "cell_type": "code",
   "execution_count": 15,
   "id": "ea4abfe5",
   "metadata": {},
   "outputs": [
    {
     "name": "stdout",
     "output_type": "stream",
     "text": [
      "<class 'dict'>\n",
      "{1: 9, 2: 8, 3: 1, 4: 1, 5: 1, 6: 1, 7: 6, 8: 4, 9: 1, 10: 2}\n",
      "\n",
      "<class 'dict'>\n",
      "{1: [(9, 10)], 2: [(7, 10)], 3: [(2, 6)], 4: [(1, 6)], 5: [(3, 10)], 6: [(8, 9)], 7: [(6, 10)], 8: [(7, 10)], 9: [(2, 9)], 10: [(4, 8)]}\n",
      "\n",
      "<class 'list'>\n",
      "[(1, 2), (1, 3), (1, 4), (1, 5), (1, 6), (1, 7), (1, 8), (1, 9), (1, 10), (2, 3), (2, 4), (2, 5), (2, 6), (2, 7), (2, 8), (2, 9), (2, 10), (3, 4), (3, 5), (3, 6), (3, 7), (3, 8), (3, 9), (3, 10), (4, 5), (4, 6), (4, 7), (4, 8), (4, 9), (4, 10), (5, 6), (5, 7), (5, 8), (5, 9), (5, 10), (6, 7), (6, 8), (6, 9), (6, 10), (7, 8), (7, 9), (7, 10), (8, 9), (8, 10), (9, 10)]\n"
     ]
    }
   ],
   "source": [
    "print(type(rail.S))\n",
    "print(rail.S)\n",
    "\n",
    "print()\n",
    "\n",
    "print(type(rail.Aj))\n",
    "print(rail.Aj)\n",
    "\n",
    "print()\n",
    "\n",
    "print(type(rail.A))\n",
    "print(rail.A)"
   ]
  },
  {
   "cell_type": "code",
   "execution_count": 16,
   "id": "534ab5c3",
   "metadata": {},
   "outputs": [
    {
     "name": "stdout",
     "output_type": "stream",
     "text": [
      "sorted_arc_names\n",
      "['a4', 'a12', 'a15', 'a23', 'a27', 'a38', 'a41', 'a42', 'a44']\n",
      "Aj\n",
      "{1: [8], 2: [6], 3: [1], 4: [0], 5: [3], 6: [7], 7: [5], 8: [6], 9: [2], 10: [4]}\n",
      "S\n",
      "{1: 9, 2: 8, 3: 1, 4: 1, 5: 1, 6: 1, 7: 6, 8: 4, 9: 1, 10: 2}\n"
     ]
    }
   ],
   "source": [
    "S = rail.S.copy()\n",
    "Aj_original = rail.Aj.copy()  # Keep original reference\n",
    "Aj = rail.Aj.copy() \n",
    "A = rail.A.copy()\n",
    "Tend = rail.Tend\n",
    "\n",
    "# Create dictionary of named arcs\n",
    "An = {}\n",
    "for i, a in enumerate(A):\n",
    "    An[f\"a{i}\"] = a\n",
    "\n",
    "# Use a regular set instead of OrderedDict\n",
    "jobs_arc_set = set()\n",
    "\n",
    "# Convert arcs in Aj dictionary to their names\n",
    "for job, job_arc_list in Aj_original.items():\n",
    "    for i, arc in enumerate(job_arc_list):\n",
    "        # Find the name of the arc in An\n",
    "        arc_name = [name for name, value in An.items() if value == arc]\n",
    "        if arc_name:\n",
    "            # Replace the arc with its name\n",
    "            Aj[job][i] = arc_name[0]\n",
    "            \n",
    "            # Add the arc to the set\n",
    "            jobs_arc_set.add(arc_name[0])\n",
    "\n",
    "# Sort the set when you need ordered output\n",
    "# This sorts by the numerical portion (e.g., \"a12\" -> 12)\n",
    "sorted_arc_names = sorted(jobs_arc_set, key=lambda x: int(x[1:]))\n",
    "\n",
    "# Convert arcs in Aj to their position in sorted_arc_names\n",
    "for job, job_arc_list in Aj.items():\n",
    "    for i, arc_name in enumerate(job_arc_list):\n",
    "        # Find the index of the arc name in sorted_arc_names\n",
    "        index = sorted_arc_names.index(arc_name)\n",
    "        # Replace the arc name with its index\n",
    "        Aj[job][i] = index\n",
    "        \n",
    "        \n",
    "    \n",
    "print('sorted_arc_names')\n",
    "print(sorted_arc_names)\n",
    "\n",
    "print('Aj')\n",
    "print(Aj)\n",
    "\n",
    "print('S')\n",
    "print(S)"
   ]
  },
  {
   "cell_type": "code",
   "execution_count": 17,
   "id": "5ef82e06",
   "metadata": {},
   "outputs": [
    {
     "data": {
      "text/plain": [
       "[8]"
      ]
     },
     "execution_count": 17,
     "metadata": {},
     "output_type": "execute_result"
    }
   ],
   "source": [
    "j0 = list(S.keys())[0]\n",
    "Aj[j0]"
   ]
  },
  {
   "cell_type": "code",
   "execution_count": 18,
   "id": "6badced5",
   "metadata": {},
   "outputs": [
    {
     "data": {
      "application/vnd.plotly.v1+json": {
       "config": {
        "plotlyServerURL": "https://plot.ly"
       },
       "data": [],
       "layout": {
        "height": 600,
        "shapes": [
         {
          "line": {
           "color": "white",
           "width": 1
          },
          "type": "line",
          "x0": 0,
          "x1": 10,
          "xref": "x",
          "y0": 0,
          "y1": 0,
          "yref": "y"
         },
         {
          "line": {
           "color": "white",
           "width": 1
          },
          "type": "line",
          "x0": 0,
          "x1": 10,
          "xref": "x",
          "y0": 1,
          "y1": 1,
          "yref": "y"
         },
         {
          "line": {
           "color": "white",
           "width": 1
          },
          "type": "line",
          "x0": 0,
          "x1": 10,
          "xref": "x",
          "y0": 2,
          "y1": 2,
          "yref": "y"
         },
         {
          "line": {
           "color": "white",
           "width": 1
          },
          "type": "line",
          "x0": 0,
          "x1": 10,
          "xref": "x",
          "y0": 3,
          "y1": 3,
          "yref": "y"
         },
         {
          "line": {
           "color": "white",
           "width": 1
          },
          "type": "line",
          "x0": 0,
          "x1": 10,
          "xref": "x",
          "y0": 4,
          "y1": 4,
          "yref": "y"
         },
         {
          "line": {
           "color": "white",
           "width": 1
          },
          "type": "line",
          "x0": 0,
          "x1": 10,
          "xref": "x",
          "y0": 5,
          "y1": 5,
          "yref": "y"
         },
         {
          "line": {
           "color": "white",
           "width": 1
          },
          "type": "line",
          "x0": 0,
          "x1": 10,
          "xref": "x",
          "y0": 6,
          "y1": 6,
          "yref": "y"
         },
         {
          "line": {
           "color": "white",
           "width": 1
          },
          "type": "line",
          "x0": 0,
          "x1": 10,
          "xref": "x",
          "y0": 7,
          "y1": 7,
          "yref": "y"
         },
         {
          "line": {
           "color": "white",
           "width": 1
          },
          "type": "line",
          "x0": 0,
          "x1": 10,
          "xref": "x",
          "y0": 8,
          "y1": 8,
          "yref": "y"
         },
         {
          "line": {
           "color": "white",
           "width": 1
          },
          "type": "line",
          "x0": 0,
          "x1": 10,
          "xref": "x",
          "y0": 9,
          "y1": 9,
          "yref": "y"
         },
         {
          "fillcolor": "LightSkyBlue",
          "line": {
           "color": "LightSkyBlue",
           "width": 1
          },
          "type": "rect",
          "x0": 9,
          "x1": 10,
          "xref": "x",
          "y0": 8,
          "y1": 9,
          "yref": "y"
         },
         {
          "fillcolor": "LightCoral",
          "line": {
           "color": "LightCoral",
           "width": 1
          },
          "type": "rect",
          "x0": 8,
          "x1": 9,
          "xref": "x",
          "y0": 6,
          "y1": 7,
          "yref": "y"
         },
         {
          "fillcolor": "LightGreen",
          "line": {
           "color": "LightGreen",
           "width": 1
          },
          "type": "rect",
          "x0": 1,
          "x1": 2,
          "xref": "x",
          "y0": 1,
          "y1": 2,
          "yref": "y"
         },
         {
          "fillcolor": "LightPink",
          "line": {
           "color": "LightPink",
           "width": 1
          },
          "type": "rect",
          "x0": 1,
          "x1": 2,
          "xref": "x",
          "y0": 0,
          "y1": 1,
          "yref": "y"
         },
         {
          "fillcolor": "LightSalmon",
          "line": {
           "color": "LightSalmon",
           "width": 1
          },
          "type": "rect",
          "x0": 1,
          "x1": 2,
          "xref": "x",
          "y0": 3,
          "y1": 4,
          "yref": "y"
         },
         {
          "fillcolor": "LightSteelBlue",
          "line": {
           "color": "LightSteelBlue",
           "width": 1
          },
          "type": "rect",
          "x0": 1,
          "x1": 2,
          "xref": "x",
          "y0": 7,
          "y1": 8,
          "yref": "y"
         },
         {
          "fillcolor": "LightYellow",
          "line": {
           "color": "LightYellow",
           "width": 1
          },
          "type": "rect",
          "x0": 6,
          "x1": 7,
          "xref": "x",
          "y0": 5,
          "y1": 6,
          "yref": "y"
         },
         {
          "fillcolor": "LightGray",
          "line": {
           "color": "LightGray",
           "width": 1
          },
          "type": "rect",
          "x0": 4,
          "x1": 5,
          "xref": "x",
          "y0": 6,
          "y1": 7,
          "yref": "y"
         },
         {
          "fillcolor": "LightGoldenRodYellow",
          "line": {
           "color": "LightGoldenRodYellow",
           "width": 1
          },
          "type": "rect",
          "x0": 1,
          "x1": 2,
          "xref": "x",
          "y0": 2,
          "y1": 3,
          "yref": "y"
         },
         {
          "fillcolor": "LightCyan",
          "line": {
           "color": "LightCyan",
           "width": 1
          },
          "type": "rect",
          "x0": 2,
          "x1": 3,
          "xref": "x",
          "y0": 4,
          "y1": 5,
          "yref": "y"
         }
        ],
        "template": {
         "data": {
          "bar": [
           {
            "error_x": {
             "color": "#2a3f5f"
            },
            "error_y": {
             "color": "#2a3f5f"
            },
            "marker": {
             "line": {
              "color": "#E5ECF6",
              "width": 0.5
             },
             "pattern": {
              "fillmode": "overlay",
              "size": 10,
              "solidity": 0.2
             }
            },
            "type": "bar"
           }
          ],
          "barpolar": [
           {
            "marker": {
             "line": {
              "color": "#E5ECF6",
              "width": 0.5
             },
             "pattern": {
              "fillmode": "overlay",
              "size": 10,
              "solidity": 0.2
             }
            },
            "type": "barpolar"
           }
          ],
          "carpet": [
           {
            "aaxis": {
             "endlinecolor": "#2a3f5f",
             "gridcolor": "white",
             "linecolor": "white",
             "minorgridcolor": "white",
             "startlinecolor": "#2a3f5f"
            },
            "baxis": {
             "endlinecolor": "#2a3f5f",
             "gridcolor": "white",
             "linecolor": "white",
             "minorgridcolor": "white",
             "startlinecolor": "#2a3f5f"
            },
            "type": "carpet"
           }
          ],
          "choropleth": [
           {
            "colorbar": {
             "outlinewidth": 0,
             "ticks": ""
            },
            "type": "choropleth"
           }
          ],
          "contour": [
           {
            "colorbar": {
             "outlinewidth": 0,
             "ticks": ""
            },
            "colorscale": [
             [
              0,
              "#0d0887"
             ],
             [
              0.1111111111111111,
              "#46039f"
             ],
             [
              0.2222222222222222,
              "#7201a8"
             ],
             [
              0.3333333333333333,
              "#9c179e"
             ],
             [
              0.4444444444444444,
              "#bd3786"
             ],
             [
              0.5555555555555556,
              "#d8576b"
             ],
             [
              0.6666666666666666,
              "#ed7953"
             ],
             [
              0.7777777777777778,
              "#fb9f3a"
             ],
             [
              0.8888888888888888,
              "#fdca26"
             ],
             [
              1,
              "#f0f921"
             ]
            ],
            "type": "contour"
           }
          ],
          "contourcarpet": [
           {
            "colorbar": {
             "outlinewidth": 0,
             "ticks": ""
            },
            "type": "contourcarpet"
           }
          ],
          "heatmap": [
           {
            "colorbar": {
             "outlinewidth": 0,
             "ticks": ""
            },
            "colorscale": [
             [
              0,
              "#0d0887"
             ],
             [
              0.1111111111111111,
              "#46039f"
             ],
             [
              0.2222222222222222,
              "#7201a8"
             ],
             [
              0.3333333333333333,
              "#9c179e"
             ],
             [
              0.4444444444444444,
              "#bd3786"
             ],
             [
              0.5555555555555556,
              "#d8576b"
             ],
             [
              0.6666666666666666,
              "#ed7953"
             ],
             [
              0.7777777777777778,
              "#fb9f3a"
             ],
             [
              0.8888888888888888,
              "#fdca26"
             ],
             [
              1,
              "#f0f921"
             ]
            ],
            "type": "heatmap"
           }
          ],
          "histogram": [
           {
            "marker": {
             "pattern": {
              "fillmode": "overlay",
              "size": 10,
              "solidity": 0.2
             }
            },
            "type": "histogram"
           }
          ],
          "histogram2d": [
           {
            "colorbar": {
             "outlinewidth": 0,
             "ticks": ""
            },
            "colorscale": [
             [
              0,
              "#0d0887"
             ],
             [
              0.1111111111111111,
              "#46039f"
             ],
             [
              0.2222222222222222,
              "#7201a8"
             ],
             [
              0.3333333333333333,
              "#9c179e"
             ],
             [
              0.4444444444444444,
              "#bd3786"
             ],
             [
              0.5555555555555556,
              "#d8576b"
             ],
             [
              0.6666666666666666,
              "#ed7953"
             ],
             [
              0.7777777777777778,
              "#fb9f3a"
             ],
             [
              0.8888888888888888,
              "#fdca26"
             ],
             [
              1,
              "#f0f921"
             ]
            ],
            "type": "histogram2d"
           }
          ],
          "histogram2dcontour": [
           {
            "colorbar": {
             "outlinewidth": 0,
             "ticks": ""
            },
            "colorscale": [
             [
              0,
              "#0d0887"
             ],
             [
              0.1111111111111111,
              "#46039f"
             ],
             [
              0.2222222222222222,
              "#7201a8"
             ],
             [
              0.3333333333333333,
              "#9c179e"
             ],
             [
              0.4444444444444444,
              "#bd3786"
             ],
             [
              0.5555555555555556,
              "#d8576b"
             ],
             [
              0.6666666666666666,
              "#ed7953"
             ],
             [
              0.7777777777777778,
              "#fb9f3a"
             ],
             [
              0.8888888888888888,
              "#fdca26"
             ],
             [
              1,
              "#f0f921"
             ]
            ],
            "type": "histogram2dcontour"
           }
          ],
          "mesh3d": [
           {
            "colorbar": {
             "outlinewidth": 0,
             "ticks": ""
            },
            "type": "mesh3d"
           }
          ],
          "parcoords": [
           {
            "line": {
             "colorbar": {
              "outlinewidth": 0,
              "ticks": ""
             }
            },
            "type": "parcoords"
           }
          ],
          "pie": [
           {
            "automargin": true,
            "type": "pie"
           }
          ],
          "scatter": [
           {
            "fillpattern": {
             "fillmode": "overlay",
             "size": 10,
             "solidity": 0.2
            },
            "type": "scatter"
           }
          ],
          "scatter3d": [
           {
            "line": {
             "colorbar": {
              "outlinewidth": 0,
              "ticks": ""
             }
            },
            "marker": {
             "colorbar": {
              "outlinewidth": 0,
              "ticks": ""
             }
            },
            "type": "scatter3d"
           }
          ],
          "scattercarpet": [
           {
            "marker": {
             "colorbar": {
              "outlinewidth": 0,
              "ticks": ""
             }
            },
            "type": "scattercarpet"
           }
          ],
          "scattergeo": [
           {
            "marker": {
             "colorbar": {
              "outlinewidth": 0,
              "ticks": ""
             }
            },
            "type": "scattergeo"
           }
          ],
          "scattergl": [
           {
            "marker": {
             "colorbar": {
              "outlinewidth": 0,
              "ticks": ""
             }
            },
            "type": "scattergl"
           }
          ],
          "scattermap": [
           {
            "marker": {
             "colorbar": {
              "outlinewidth": 0,
              "ticks": ""
             }
            },
            "type": "scattermap"
           }
          ],
          "scattermapbox": [
           {
            "marker": {
             "colorbar": {
              "outlinewidth": 0,
              "ticks": ""
             }
            },
            "type": "scattermapbox"
           }
          ],
          "scatterpolar": [
           {
            "marker": {
             "colorbar": {
              "outlinewidth": 0,
              "ticks": ""
             }
            },
            "type": "scatterpolar"
           }
          ],
          "scatterpolargl": [
           {
            "marker": {
             "colorbar": {
              "outlinewidth": 0,
              "ticks": ""
             }
            },
            "type": "scatterpolargl"
           }
          ],
          "scatterternary": [
           {
            "marker": {
             "colorbar": {
              "outlinewidth": 0,
              "ticks": ""
             }
            },
            "type": "scatterternary"
           }
          ],
          "surface": [
           {
            "colorbar": {
             "outlinewidth": 0,
             "ticks": ""
            },
            "colorscale": [
             [
              0,
              "#0d0887"
             ],
             [
              0.1111111111111111,
              "#46039f"
             ],
             [
              0.2222222222222222,
              "#7201a8"
             ],
             [
              0.3333333333333333,
              "#9c179e"
             ],
             [
              0.4444444444444444,
              "#bd3786"
             ],
             [
              0.5555555555555556,
              "#d8576b"
             ],
             [
              0.6666666666666666,
              "#ed7953"
             ],
             [
              0.7777777777777778,
              "#fb9f3a"
             ],
             [
              0.8888888888888888,
              "#fdca26"
             ],
             [
              1,
              "#f0f921"
             ]
            ],
            "type": "surface"
           }
          ],
          "table": [
           {
            "cells": {
             "fill": {
              "color": "#EBF0F8"
             },
             "line": {
              "color": "white"
             }
            },
            "header": {
             "fill": {
              "color": "#C8D4E3"
             },
             "line": {
              "color": "white"
             }
            },
            "type": "table"
           }
          ]
         },
         "layout": {
          "annotationdefaults": {
           "arrowcolor": "#2a3f5f",
           "arrowhead": 0,
           "arrowwidth": 1
          },
          "autotypenumbers": "strict",
          "coloraxis": {
           "colorbar": {
            "outlinewidth": 0,
            "ticks": ""
           }
          },
          "colorscale": {
           "diverging": [
            [
             0,
             "#8e0152"
            ],
            [
             0.1,
             "#c51b7d"
            ],
            [
             0.2,
             "#de77ae"
            ],
            [
             0.3,
             "#f1b6da"
            ],
            [
             0.4,
             "#fde0ef"
            ],
            [
             0.5,
             "#f7f7f7"
            ],
            [
             0.6,
             "#e6f5d0"
            ],
            [
             0.7,
             "#b8e186"
            ],
            [
             0.8,
             "#7fbc41"
            ],
            [
             0.9,
             "#4d9221"
            ],
            [
             1,
             "#276419"
            ]
           ],
           "sequential": [
            [
             0,
             "#0d0887"
            ],
            [
             0.1111111111111111,
             "#46039f"
            ],
            [
             0.2222222222222222,
             "#7201a8"
            ],
            [
             0.3333333333333333,
             "#9c179e"
            ],
            [
             0.4444444444444444,
             "#bd3786"
            ],
            [
             0.5555555555555556,
             "#d8576b"
            ],
            [
             0.6666666666666666,
             "#ed7953"
            ],
            [
             0.7777777777777778,
             "#fb9f3a"
            ],
            [
             0.8888888888888888,
             "#fdca26"
            ],
            [
             1,
             "#f0f921"
            ]
           ],
           "sequentialminus": [
            [
             0,
             "#0d0887"
            ],
            [
             0.1111111111111111,
             "#46039f"
            ],
            [
             0.2222222222222222,
             "#7201a8"
            ],
            [
             0.3333333333333333,
             "#9c179e"
            ],
            [
             0.4444444444444444,
             "#bd3786"
            ],
            [
             0.5555555555555556,
             "#d8576b"
            ],
            [
             0.6666666666666666,
             "#ed7953"
            ],
            [
             0.7777777777777778,
             "#fb9f3a"
            ],
            [
             0.8888888888888888,
             "#fdca26"
            ],
            [
             1,
             "#f0f921"
            ]
           ]
          },
          "colorway": [
           "#636efa",
           "#EF553B",
           "#00cc96",
           "#ab63fa",
           "#FFA15A",
           "#19d3f3",
           "#FF6692",
           "#B6E880",
           "#FF97FF",
           "#FECB52"
          ],
          "font": {
           "color": "#2a3f5f"
          },
          "geo": {
           "bgcolor": "white",
           "lakecolor": "white",
           "landcolor": "#E5ECF6",
           "showlakes": true,
           "showland": true,
           "subunitcolor": "white"
          },
          "hoverlabel": {
           "align": "left"
          },
          "hovermode": "closest",
          "mapbox": {
           "style": "light"
          },
          "paper_bgcolor": "white",
          "plot_bgcolor": "#E5ECF6",
          "polar": {
           "angularaxis": {
            "gridcolor": "white",
            "linecolor": "white",
            "ticks": ""
           },
           "bgcolor": "#E5ECF6",
           "radialaxis": {
            "gridcolor": "white",
            "linecolor": "white",
            "ticks": ""
           }
          },
          "scene": {
           "xaxis": {
            "backgroundcolor": "#E5ECF6",
            "gridcolor": "white",
            "gridwidth": 2,
            "linecolor": "white",
            "showbackground": true,
            "ticks": "",
            "zerolinecolor": "white"
           },
           "yaxis": {
            "backgroundcolor": "#E5ECF6",
            "gridcolor": "white",
            "gridwidth": 2,
            "linecolor": "white",
            "showbackground": true,
            "ticks": "",
            "zerolinecolor": "white"
           },
           "zaxis": {
            "backgroundcolor": "#E5ECF6",
            "gridcolor": "white",
            "gridwidth": 2,
            "linecolor": "white",
            "showbackground": true,
            "ticks": "",
            "zerolinecolor": "white"
           }
          },
          "shapedefaults": {
           "line": {
            "color": "#2a3f5f"
           }
          },
          "ternary": {
           "aaxis": {
            "gridcolor": "white",
            "linecolor": "white",
            "ticks": ""
           },
           "baxis": {
            "gridcolor": "white",
            "linecolor": "white",
            "ticks": ""
           },
           "bgcolor": "#E5ECF6",
           "caxis": {
            "gridcolor": "white",
            "linecolor": "white",
            "ticks": ""
           }
          },
          "title": {
           "x": 0.05
          },
          "xaxis": {
           "automargin": true,
           "gridcolor": "white",
           "linecolor": "white",
           "ticks": "",
           "title": {
            "standoff": 15
           },
           "zerolinecolor": "white",
           "zerolinewidth": 2
          },
          "yaxis": {
           "automargin": true,
           "gridcolor": "white",
           "linecolor": "white",
           "ticks": "",
           "title": {
            "standoff": 15
           },
           "zerolinecolor": "white",
           "zerolinewidth": 2
          }
         }
        },
        "width": 800,
        "xaxis": {
         "range": [
          0,
          10
         ],
         "tickvals": [
          0,
          1,
          2,
          3,
          4,
          5,
          6,
          7,
          8,
          9,
          10
         ],
         "title": {
          "text": "Time"
         }
        },
        "yaxis": {
         "range": [
          0,
          9
         ],
         "showgrid": false,
         "ticktext": [
          "a4",
          "a12",
          "a15",
          "a23",
          "a27",
          "a38",
          "a41",
          "a42",
          "a44"
         ],
         "tickvals": [
          0.5,
          1.5,
          2.5,
          3.5,
          4.5,
          5.5,
          6.5,
          7.5,
          8.5
         ],
         "title": {
          "text": "Arcs"
         },
         "type": "category"
        }
       }
      }
     },
     "metadata": {},
     "output_type": "display_data"
    }
   ],
   "source": [
    "import numpy as np\n",
    "import plotly.graph_objects as go\n",
    "\n",
    "fig = go.Figure()\n",
    "\n",
    "# Collect arcs data\n",
    "num_arcs = len(sorted_arc_names)\n",
    "label_positions = [i + 0.5 for i in range(len(sorted_arc_names))]\n",
    "\n",
    "# Horizontal white lines at every integer y value\n",
    "for i in range(num_arcs + 1):\n",
    "    fig.add_shape(type=\"line\",\n",
    "        x0=0, y0=i, x1=Tend, y1=i,\n",
    "        line=dict(\n",
    "            color='white',\n",
    "            width=1,\n",
    "        ),\n",
    "    )\n",
    "\n",
    "\n",
    "# Get color palette for jobs\n",
    "colors = [\n",
    "    \"LightSkyBlue\", \"LightCoral\", \"LightGreen\", \"LightPink\",\n",
    "    \"LightSalmon\", \"LightSteelBlue\", \"LightYellow\", \"LightGray\",\n",
    "    \"LightGoldenRodYellow\", \"LightCyan\"\n",
    "]\n",
    "\n",
    "# Add shapes\n",
    "# j0 = list(S.keys())[0]\n",
    "# fig.add_shape(type=\"rect\",\n",
    "#     x0=S[j0],\n",
    "#     y0=Aj[j0][0],\n",
    "#     x1=S[j0] + 1,\n",
    "#     y1=Aj[j0][0] + 1,\n",
    "#     line=dict(\n",
    "#         color=\"RoyalBlue\",\n",
    "#         width=1,\n",
    "#     ),\n",
    "#     fillcolor=\"LightSkyBlue\",\n",
    "# )\n",
    "# fig.update_shapes(dict(xref='x', yref='y'))\n",
    "\n",
    "jobs = list(S.keys())\n",
    "for j in jobs:\n",
    "    for i in range(len(Aj[j])):\n",
    "        fig.add_shape(type=\"rect\",\n",
    "            x0=S[j],\n",
    "            y0=Aj[j][i],\n",
    "            x1=S[j] + 1,\n",
    "            y1=Aj[j][i] + 1,\n",
    "            line=dict(\n",
    "                color=colors[jobs.index(j) % len(colors)],\n",
    "                width=1,\n",
    "            ),\n",
    "            fillcolor=colors[jobs.index(j) % len(colors)],\n",
    "            # hovertext=f\"Job {j} - Arc {sorted_arc_names[Aj[j][i]]}\",\n",
    "        )\n",
    "        fig.update_shapes(dict(xref='x', yref='y'))\n",
    "\n",
    "\n",
    "# Layout\n",
    "fig.update_layout(\n",
    "    width=800,\n",
    "    height=600,\n",
    "    xaxis=dict(\n",
    "        title=\"Time\",\n",
    "        range=[0, Tend],\n",
    "        tickvals=list(range(0, Tend + 1)),\n",
    "    ),\n",
    "    yaxis=dict(\n",
    "        type=\"category\",\n",
    "        title=\"Arcs\",\n",
    "        range=[0, num_arcs],\n",
    "        tickvals=label_positions,\n",
    "        ticktext=sorted_arc_names,\n",
    "        showgrid=False,\n",
    "    ),\n",
    ")\n",
    "\n",
    "\n",
    "fig.show()\n",
    "\n",
    "# # Save as HTML\n",
    "# fig.write_html(\"railway_schedule.html\")"
   ]
  },
  {
   "cell_type": "code",
   "execution_count": 20,
   "id": "4debd0b3",
   "metadata": {},
   "outputs": [
    {
     "data": {
      "text/plain": [
       "'railway_schedule.html'"
      ]
     },
     "execution_count": 20,
     "metadata": {},
     "output_type": "execute_result"
    }
   ],
   "source": [
    "import numpy as np\n",
    "import plotly.graph_objects as go\n",
    "\n",
    "fig = go.Figure()\n",
    "\n",
    "# Collect arcs data\n",
    "num_arcs = len(sorted_arc_names)\n",
    "label_positions = [i + 0.5 for i in range(len(sorted_arc_names))]\n",
    "\n",
    "# Horizontal white lines at every integer y value\n",
    "for i in range(num_arcs + 1):\n",
    "    fig.add_shape(type=\"line\",\n",
    "        x0=0, y0=i, x1=Tend, y1=i,\n",
    "        line=dict(\n",
    "            color='white',\n",
    "            width=1,\n",
    "        ),\n",
    "    )\n",
    "\n",
    "# Get color palette for jobs\n",
    "colors = [\n",
    "    \"LightSkyBlue\", \"LightCoral\", \"LightGreen\", \"LightPink\",\n",
    "    \"LightSalmon\", \"LightSteelBlue\", \"LightYellow\", \"LightGray\",\n",
    "    \"LightGoldenRodYellow\", \"LightCyan\"\n",
    "]\n",
    "\n",
    "# Add shapes and hover points\n",
    "jobs = list(S.keys())\n",
    "hover_x = []\n",
    "hover_y = []\n",
    "hover_text = []\n",
    "hover_colors = []\n",
    "\n",
    "for j in jobs:\n",
    "    for i in range(len(Aj[j])):\n",
    "        # Add rectangle shape\n",
    "        fig.add_shape(type=\"rect\",\n",
    "            x0=S[j],\n",
    "            y0=Aj[j][i],\n",
    "            x1=S[j] + 1,\n",
    "            y1=Aj[j][i] + 1,\n",
    "            line=dict(\n",
    "                color=colors[jobs.index(j) % len(colors)],\n",
    "                width=1,\n",
    "            ),\n",
    "            fillcolor=colors[jobs.index(j) % len(colors)],\n",
    "        )\n",
    "        \n",
    "        # Collect hover data for this rectangle\n",
    "        hover_x.append(S[j] + 0.5)  # Center of rectangle\n",
    "        hover_y.append(Aj[j][i] + 0.5)  # Center of rectangle\n",
    "        hover_text.append(f\"Job {j} - Arc {sorted_arc_names[Aj[j][i]]}\")\n",
    "        hover_colors.append(colors[jobs.index(j) % len(colors)])\n",
    "\n",
    "# Add invisible scatter trace with hover information\n",
    "fig.add_trace(go.Scatter(\n",
    "    x=hover_x,\n",
    "    y=hover_y,\n",
    "    mode=\"markers\",\n",
    "    marker=dict(\n",
    "        size=15,\n",
    "        color=hover_colors,\n",
    "        opacity=0,  # Make markers invisible\n",
    "    ),\n",
    "    text=hover_text,\n",
    "    hoverinfo=\"text\",\n",
    "))\n",
    "\n",
    "# Layout\n",
    "fig.update_layout(\n",
    "    # width=800,\n",
    "    # height=600,\n",
    "    autosize=True,   # let the container size drive the plot\n",
    "    margin=dict(l=0, r=0, t=0, b=0),\n",
    "    xaxis=dict(\n",
    "        title=\"Time\",\n",
    "        range=[0, Tend],\n",
    "        tickvals=list(range(0, Tend + 1)),\n",
    "    ),\n",
    "    yaxis=dict(\n",
    "        type=\"category\",\n",
    "        title=\"Arcs\",\n",
    "        range=[0, num_arcs],\n",
    "        tickvals=label_positions,\n",
    "        ticktext=sorted_arc_names,\n",
    "        showgrid=False,\n",
    "    ),\n",
    ")\n",
    "plot(\n",
    "  fig,\n",
    "  filename='railway_schedule.html',\n",
    "  auto_open=False,\n",
    "  include_plotlyjs=True,\n",
    "  config={'responsive': True}\n",
    ")\n",
    "\n",
    "\n",
    "# fig.show()\n",
    "\n",
    "# # Save as HTML\n",
    "# fig.write_html(\"railway_schedule.html\")"
   ]
  }
 ],
 "metadata": {
  "kernelspec": {
   "display_name": "mathopt",
   "language": "python",
   "name": "python3"
  },
  "language_info": {
   "codemirror_mode": {
    "name": "ipython",
    "version": 3
   },
   "file_extension": ".py",
   "mimetype": "text/x-python",
   "name": "python",
   "nbconvert_exporter": "python",
   "pygments_lexer": "ipython3",
   "version": "3.11.5"
  }
 },
 "nbformat": 4,
 "nbformat_minor": 5
}
