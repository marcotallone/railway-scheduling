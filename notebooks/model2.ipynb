{
 "cells": [
  {
   "cell_type": "markdown",
   "metadata": {},
   "source": [
    "# Model 2\n",
    "\n",
    "This notebboks shows a basic usage example of the `Model2` for the railway scheduling problem. This model solves the railwayscheduling problem using the branch & bounds algorithm implemented in Gurobi with the addition of the initial solution generation through the simulated annealing algorith, the usage of additional valid inequalities to tighted the feasible space and the inclusion of the following cutting plane generators:\n",
    "\n",
    "- Boolean quadratic polytope cuts\n",
    "- Clique cuts\n",
    "- Cover cuts\n",
    "- Flow cover cuts\n",
    "- Flow path cuts\n",
    "- Gomori cuts\n",
    "- GUB cover cuts\n",
    "- Implied bound cuts\n",
    "- Lift-and-project cuts\n",
    "- MIR cuts\n",
    "- Mod-k cuts\n",
    "- Network cuts\n",
    "- Relax-and-lift cuts\n",
    "- Strong-CG cuts\n",
    "- $\\{0, \\frac{1}{2}\\}$ cuts"
   ]
  },
  {
   "cell_type": "markdown",
   "metadata": {},
   "source": [
    "To initialize the model the following imports are needed."
   ]
  },
  {
   "cell_type": "code",
   "execution_count": 1,
   "metadata": {},
   "outputs": [],
   "source": [
    "import os\n",
    "import sys\n",
    "import numpy as np\n",
    "from railway import *"
   ]
  },
  {
   "cell_type": "markdown",
   "metadata": {},
   "source": [
    "We then change the directory to the root folder of the project in order to correctly load the datasets.\\\n",
    "⚠ **WARNING**: change the path below, which might differ from mine, according to your file system setting in order to correctly load the datasets."
   ]
  },
  {
   "cell_type": "code",
   "execution_count": 2,
   "metadata": {},
   "outputs": [
    {
     "name": "stdout",
     "output_type": "stream",
     "text": [
      "Current working directory: 📂 /home/marco/railway-scheduling\n"
     ]
    }
   ],
   "source": [
    "# Root folder directory\n",
    "ROOT_DIR = \"/home/marco/railway-scheduling\"\n",
    "\n",
    "# Set the current directory to root directory\n",
    "os.chdir(ROOT_DIR)\n",
    "sys.path.append(os.getcwd())\n",
    "print(f\"Current working directory: 📂 {os.getcwd()}\")"
   ]
  },
  {
   "cell_type": "markdown",
   "metadata": {},
   "source": [
    "We can then initialize the railway scheduling problem by loading one of the datasets present in the `datasets/` folder. To do so we need to define the parameters:\n",
    "\n",
    "- `N`: number of nodes (stations), with $N \\in \\{10, 20, 40\\}$\n",
    "- `T`: time horizon, with $T \\in \\{10, 50, 100\\}$\n",
    "- `J`: number of jobs, with $J \\in \\{10, 40, 80\\}$\n",
    "- `P`: total number of passengers per arc, currently only $P = 2000$ is available\n",
    "- `K`: number of alternative routes, currently only $K = 3$ is available\n",
    "\n",
    "And the problem can be instantiated as follows. Notice that we use the same class as in the `Model0` notebook, the difference will be in which methods we call before the optimization step."
   ]
  },
  {
   "cell_type": "code",
   "execution_count": 3,
   "metadata": {},
   "outputs": [
    {
     "name": "stdout",
     "output_type": "stream",
     "text": [
      "Set parameter Username\n",
      "Set parameter LicenseID to value 2585388\n",
      "Academic license - for non-commercial use only - expires 2025-11-15\n"
     ]
    },
    {
     "name": "stdout",
     "output_type": "stream",
     "text": [
      "Set parameter TimeLimit to value 60\n",
      "Railway scheduling problem\n",
      "\n",
      "Parameters:\n",
      "N:  10 stations\n",
      "T:  10 periods\n",
      "J:  80 jobs\n",
      "P:  2000 passengers\n",
      "K:  3 alternative routes\n",
      "Aj: 80 jobs with arcs\n",
      "Ja: 37 arcs with jobs\n",
      "C:  0 arcs unavailable simultaneously\n",
      "\n",
      "Optimization model:\n",
      "Variables:   0\n",
      "Constraints: 0\n",
      "Objective:   0.0\n",
      "Status:      LOADED\n",
      "\n"
     ]
    }
   ],
   "source": [
    "# Define problem parameters\n",
    "N = 10\n",
    "T = 10\n",
    "J = 80\n",
    "P = 2000\n",
    "K = 3\n",
    "\n",
    "# Name of the file to load\n",
    "FILENAME = f\"datasets/railway_N{N}_T{T}_J{J}_P{P}_K{K}.json\"\n",
    "\n",
    "# Instantiate the Railway object\n",
    "rail = Railway.load(FILENAME)\n",
    "rail.model.setParam('TimeLimit', 60)\n",
    "\n",
    "# Print the model in summary\n",
    "print(rail)"
   ]
  },
  {
   "cell_type": "markdown",
   "metadata": {},
   "source": [
    "Alternatively the model can be initialized using the default constructor rather than importing it from a dataset file:\n",
    "\n",
    "```python\n",
    "rail = Railway(N, T, J, P, K)\n",
    "```\n",
    "\n",
    "But then the other problem parameters such as stations coordinates or passengers' demands must be randomly generated with the `generate()` method. See the `apps/generate.py` file for an example on how to do that."
   ]
  },
  {
   "cell_type": "markdown",
   "metadata": {},
   "source": [
    "An initial solution can then be generated and set using the simulated annealing meta-heuristic as follows."
   ]
  },
  {
   "cell_type": "code",
   "execution_count": 4,
   "metadata": {},
   "outputs": [
    {
     "name": "stdout",
     "output_type": "stream",
     "text": [
      "Initial solution with SA:\t{1: 6, 2: 1, 3: 6, 4: 4, 5: 1, 6: 4, 7: 4, 8: 1, 9: 5, 10: 9, 11: 5, 12: 5, 13: 3, 14: 7, 15: 4, 16: 3, 17: 6, 18: 4, 19: 3, 20: 6, 21: 6, 22: 6, 23: 4, 24: 7, 25: 3, 26: 7, 27: 3, 28: 4, 29: 6, 30: 2, 31: 1, 32: 1, 33: 9, 34: 8, 35: 8, 36: 6, 37: 3, 38: 2, 39: 1, 40: 5, 41: 7, 42: 3, 43: 4, 44: 5, 45: 8, 46: 1, 47: 2, 48: 8, 49: 9, 50: 2, 51: 7, 52: 9, 53: 9, 54: 7, 55: 8, 56: 8, 57: 5, 58: 2, 59: 7, 60: 2, 61: 6, 62: 7, 63: 6, 64: 9, 65: 7, 66: 6, 67: 8, 68: 4, 69: 9, 70: 3, 71: 4, 72: 4, 73: 7, 74: 5, 75: 3, 76: 2, 77: 1, 78: 7, 79: 8, 80: 5}\n"
     ]
    }
   ],
   "source": [
    "# Generate initial solution through simulated annealing\n",
    "_ = rail.simulated_annealing()\n",
    "\n",
    "# Set the initial solution\n",
    "rail.set_solution()\n",
    "\n",
    "# Print initial solution\n",
    "print(f\"Initial solution with SA:\\t{rail.S}\")"
   ]
  },
  {
   "cell_type": "markdown",
   "metadata": {},
   "source": [
    "Then, we can set the problem constraints and the objective function to minimize with the dedicated methods."
   ]
  },
  {
   "cell_type": "code",
   "execution_count": 5,
   "metadata": {},
   "outputs": [],
   "source": [
    "# Set constraints\n",
    "rail.set_constraints()\n",
    "\n",
    "# Set objective\n",
    "rail.set_objective()"
   ]
  },
  {
   "cell_type": "markdown",
   "metadata": {},
   "source": [
    "For this model we then set the valid inequalities to be used in the optimization processand the cutting planes generators with the dedicated implemented methods."
   ]
  },
  {
   "cell_type": "code",
   "execution_count": 6,
   "metadata": {},
   "outputs": [
    {
     "name": "stdout",
     "output_type": "stream",
     "text": [
      "Set parameter Presolve to value 1\n",
      "Set parameter Cuts to value 0\n",
      "Set parameter BQPCuts to value -1\n",
      "Set parameter CliqueCuts to value -1\n",
      "Set parameter CoverCuts to value -1\n",
      "Set parameter FlowCoverCuts to value -1\n",
      "Set parameter FlowPathCuts to value -1\n",
      "Set parameter GomoryPasses to value -1\n",
      "Set parameter GUBCoverCuts to value -1\n",
      "Set parameter ImpliedCuts to value -1\n",
      "Set parameter LiftProjectCuts to value -1\n",
      "Set parameter MIRCuts to value -1\n",
      "Set parameter ModKCuts to value -1\n",
      "Set parameter NetworkCuts to value -1\n",
      "Set parameter RelaxLiftCuts to value -1\n",
      "Set parameter StrongCGCuts to value -1\n",
      "Set parameter ZeroHalfCuts to value -1\n",
      "Set parameter CutPasses to value 0\n",
      "Set parameter Heuristics to value 0\n",
      "Set parameter Symmetry to value 0\n"
     ]
    }
   ],
   "source": [
    "# Set valid inequalities\n",
    "rail.set_valid_inequalities()\n",
    "\n",
    "# Set cuttings planes\n",
    "rail.set_cutting_planes()"
   ]
  },
  {
   "cell_type": "markdown",
   "metadata": {},
   "source": [
    "Finally the optimization can be run with the `optimize` method as always."
   ]
  },
  {
   "cell_type": "code",
   "execution_count": 7,
   "metadata": {},
   "outputs": [
    {
     "name": "stdout",
     "output_type": "stream",
     "text": [
      "Gurobi Optimizer version 12.0.0 build v12.0.0rc1 (linux64 - \"Arch Linux\")\n",
      "\n",
      "CPU model: Intel(R) Core(TM) i7-8565U CPU @ 1.80GHz, instruction set [SSE2|AVX|AVX2]\n",
      "Thread count: 4 physical cores, 8 logical processors, using up to 8 threads\n",
      "\n",
      "Non-default parameters:\n",
      "TimeLimit  60\n",
      "Heuristics  0\n",
      "Symmetry  0\n",
      "Cuts  0\n",
      "CutPasses  0\n",
      "Presolve  1\n",
      "\n",
      "Optimize a model with 11665 rows, 5700 columns and 30687 nonzeros\n",
      "Model fingerprint: 0x289043a4\n",
      "Variable types: 1450 continuous, 4250 integer (4250 binary)\n",
      "Coefficient statistics:\n",
      "  Matrix range     [3e-02, 1e+06]\n",
      "  Objective range  [1e+03, 2e+03]\n",
      "  Bounds range     [1e+00, 1e+00]\n",
      "  RHS range        [9e-02, 1e+06]\n",
      "\n",
      "User MIP start produced solution with objective 15262.5 (0.03s)\n",
      "Loaded user MIP start with objective 15262.5\n",
      "\n",
      "Presolve removed 9186 rows and 3956 columns\n",
      "Presolve time: 0.45s\n",
      "Presolved: 2479 rows, 1744 columns, 9105 nonzeros\n",
      "Found heuristic solution: objective 14969.253214\n",
      "Variable types: 380 continuous, 1364 integer (1364 binary)\n",
      "\n",
      "Root relaxation: objective -7.086318e+04, 1897 iterations, 0.06 seconds (0.02 work units)\n",
      "\n",
      "    Nodes    |    Current Node    |     Objective Bounds      |     Work\n",
      " Expl Unexpl |  Obj  Depth IntInf | Incumbent    BestBd   Gap | It/Node Time\n",
      "\n",
      "     0     0 -70863.178    0  678 14969.2532 -70863.178   573%     -    0s\n",
      "     0     0 -70382.641    0  683 14969.2532 -70382.641   570%     -    0s\n",
      "     0     0 -70257.936    0  685 14969.2532 -70257.936   569%     -    0s\n",
      "     0     0 -70029.380    0  678 14969.2532 -70029.380   568%     -    0s\n",
      "     0     0 -68532.553    0  666 14969.2532 -68532.553   558%     -    0s\n",
      "     0     2 -67936.658    0  665 14969.2532 -67936.658   554%     -    0s\n",
      "* 3037  1937              92    14948.964445 9216.50881  38.3%  15.7    3s\n",
      "* 3044  1886              97    14947.751710 9216.50881  38.3%  15.7    3s\n",
      "* 3247  1919              94    14947.253946 9232.99516  38.2%  15.3    3s\n",
      "* 3444  1747             103    14762.597341 9303.95185  37.0%  15.2    3s\n",
      "* 3447  1720             105    14761.384606 9303.95185  37.0%  15.1    3s\n",
      "* 3450  1719             107    14760.886842 9303.95185  37.0%  15.1    3s\n",
      "  6624  3991 13743.6459   26  248 14760.8868 10138.2589  31.3%  13.8    5s\n",
      "*16612 10385              93    14759.451213 11760.2079  20.3%  12.6    8s\n",
      "*16614 10335              94    14728.397315 11760.2079  20.2%  12.6    8s\n",
      "*16616 10332              92    14727.235865 11760.2079  20.1%  12.6    8s\n",
      "*18313 11620              97    14725.222997 11899.4194  19.2%  12.4    8s\n",
      "*21617 13822              93    14722.495106 12330.3792  16.2%  12.0    9s\n",
      " 22996 15306 13706.7230   30  273 14722.4951 12437.9089  15.5%  11.9   10s\n",
      "*36433 23599             111    14670.726612 12966.6933  11.6%  11.2   13s\n",
      "*36489 23589             107    14668.824886 12966.6933  11.6%  11.2   13s\n",
      "*39976 26073             101    14667.650633 13033.4658  11.1%  11.2   14s\n",
      " 40720 26286 14574.8725   84   12 14667.6506 13046.0707  11.1%  11.2   15s\n",
      " 57609 36898 13623.3982   31  222 14667.6506 13185.7418  10.1%  11.0   20s\n",
      " 74832 47557 13362.3142   37  313 14667.6506 13255.5041  9.63%  11.0   25s\n",
      "*86051 53458              99    14654.053722 13289.9709  9.31%  11.0   27s\n",
      "*86057 53454              94    14653.555958 13289.9709  9.31%  11.0   27s\n",
      "*87728 54471              95    14644.198160 13293.6424  9.22%  11.0   28s\n",
      " 93037 57564     cutoff   39      14644.1982 13309.2640  9.12%  11.0   30s\n",
      " 109121 66625 14262.3789   39  155 14644.1982 13352.3699  8.82%  11.3   35s\n",
      " 126425 75389 infeasible   55      14644.1982 13392.8634  8.54%  11.5   40s\n",
      " 142797 83762 infeasible   35      14644.1982 13423.1046  8.34%  11.7   45s\n",
      " 158285 91467 infeasible   46      14644.1982 13447.6019  8.17%  11.9   50s\n",
      " 173396 98678 14039.0649   43  231 14644.1982 13468.7934  8.03%  12.1   55s\n",
      " 189459 106021 13588.3486   31  234 14644.1982 13489.8930  7.88%  12.2   60s\n",
      "\n",
      "Explored 189783 nodes (2320268 simplex iterations) in 60.04 seconds (24.81 work units)\n",
      "Thread count was 8 (of 8 available processors)\n",
      "\n",
      "Solution count 10: 14644.2 14653.6 14654.1 ... 14728.4\n",
      "\n",
      "Time limit reached\n",
      "Best objective 1.464419809101e+04, best bound 1.349003353942e+04, gap 7.8814%\n"
     ]
    }
   ],
   "source": [
    "# Solve the scheduling problem\n",
    "rail.optimize()"
   ]
  }
 ],
 "metadata": {
  "kernelspec": {
   "display_name": "mathopt",
   "language": "python",
   "name": "python3"
  },
  "language_info": {
   "codemirror_mode": {
    "name": "ipython",
    "version": 3
   },
   "file_extension": ".py",
   "mimetype": "text/x-python",
   "name": "python",
   "nbconvert_exporter": "python",
   "pygments_lexer": "ipython3",
   "version": "3.11.5"
  }
 },
 "nbformat": 4,
 "nbformat_minor": 2
}
