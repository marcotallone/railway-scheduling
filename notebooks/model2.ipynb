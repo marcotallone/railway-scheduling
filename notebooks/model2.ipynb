{
 "cells": [
  {
   "cell_type": "markdown",
   "metadata": {},
   "source": [
    "# Model 2\n",
    "\n",
    "This notebboks shows a basic usage example of the `Model2` for the railway scheduling problem. This model solves the railwayscheduling problem using the branch & bounds algorithm implemented in Gurobi with the addition of the initial solution generation through the simulated annealing algorith, the usage of additional valid inequalities to tighted the feasible space and the inclusion of the following cutting plane generators:\n",
    "\n",
    "- Boolean quadratic polytope cuts\n",
    "- Clique cuts\n",
    "- Cover cuts\n",
    "- Flow cover cuts\n",
    "- Flow path cuts\n",
    "- Gomori cuts\n",
    "- GUB cover cuts\n",
    "- Implied bound cuts\n",
    "- Lift-and-project cuts\n",
    "- MIR cuts\n",
    "- Mod-k cuts\n",
    "- Network cuts\n",
    "- Relax-and-lift cuts\n",
    "- Strong-CG cuts\n",
    "- $\\{0, \\frac{1}{2}\\}$ cuts"
   ]
  },
  {
   "cell_type": "markdown",
   "metadata": {},
   "source": [
    "To initialize the model the following imports are needed."
   ]
  },
  {
   "cell_type": "code",
   "execution_count": 1,
   "metadata": {},
   "outputs": [],
   "source": [
    "import os\n",
    "import sys\n",
    "import numpy as np\n",
    "from railway import *"
   ]
  },
  {
   "cell_type": "markdown",
   "metadata": {},
   "source": [
    "We then change the directory to the root folder of the project in order to correctly load the datasets.\\\n",
    "⚠ **WARNING**: change the path below, which might differ from mine, according to your file system setting in order to correctly load the datasets."
   ]
  },
  {
   "cell_type": "code",
   "execution_count": 2,
   "metadata": {},
   "outputs": [
    {
     "name": "stdout",
     "output_type": "stream",
     "text": [
      "Current working directory: 📂 /home/marco/railway-scheduling\n"
     ]
    }
   ],
   "source": [
    "# Root folder directory\n",
    "ROOT_DIR = \"/home/marco/railway-scheduling\"\n",
    "\n",
    "# Set the current directory to root directory\n",
    "os.chdir(ROOT_DIR)\n",
    "sys.path.append(os.getcwd())\n",
    "print(f\"Current working directory: 📂 {os.getcwd()}\")"
   ]
  },
  {
   "cell_type": "markdown",
   "metadata": {},
   "source": [
    "We can then initialize the railway scheduling problem by loading one of the datasets present in the `datasets/` folder. To do so we need to define the parameters:\n",
    "\n",
    "- `N`: number of nodes (stations), with $N \\in \\{10, 20, 40\\}$\n",
    "- `T`: time horizon, with $T \\in \\{10, 50, 100\\}$\n",
    "- `J`: number of jobs, with $J \\in \\{10, 40, 80\\}$\n",
    "- `P`: total number of passengers per arc, currently only $P = 1000$ is available\n",
    "- `K`: number of alternative routes, currently only $K = 3$ is available\n",
    "\n",
    "And the problem can be instantiated as follows. Notice that we use the same class as in the `Model0` notebook, the difference will be in which methods we call before the optimization step."
   ]
  },
  {
   "cell_type": "code",
   "execution_count": 4,
   "metadata": {},
   "outputs": [
    {
     "name": "stdout",
     "output_type": "stream",
     "text": [
      "Railway scheduling problem\n",
      "\n",
      "Parameters:\n",
      "N:  10 stations\n",
      "T:  10 periods\n",
      "J:  10 jobs\n",
      "P:  1000 passengers\n",
      "K:  3 alternative routes\n",
      "Aj: 10 jobs with arcs\n",
      "Ja: 10 arcs with jobs\n",
      "C:  0 arcs unavailable simultaneously\n",
      "\n",
      "Optimization model:\n",
      "Variables:   0\n",
      "Constraints: 0\n",
      "Objective:   0.0\n",
      "Status:      LOADED\n",
      "\n"
     ]
    }
   ],
   "source": [
    "# Define problem parameters\n",
    "N = 10\n",
    "T = 10\n",
    "J = 10\n",
    "P = 1000\n",
    "K = 3\n",
    "\n",
    "# Name of the file to load\n",
    "FILENAME = f\"datasets/railway_N{N}_T{T}_J{J}_P{P}_K{K}.json\"\n",
    "\n",
    "# Instantiate the Railway object\n",
    "rail = Railway.load(FILENAME)\n",
    "\n",
    "# Print the model in summary\n",
    "print(rail)"
   ]
  },
  {
   "cell_type": "markdown",
   "metadata": {},
   "source": [
    "Alternatively the model can be initialized using the default constructor rather than importing it from a dataset file:\n",
    "\n",
    "```python\n",
    "rail = Railway(N, T, J, P, K)\n",
    "```\n",
    "\n",
    "But then the other problem parameters such as stations coordinates or passengers' demands must be randomly generated with the `generate()` method. See the `apps/generate.py` file for an example on how to do that."
   ]
  },
  {
   "cell_type": "markdown",
   "metadata": {},
   "source": [
    "An initial solution can then be generated and set using the simulated annealing meta-heuristic as follows."
   ]
  },
  {
   "cell_type": "code",
   "execution_count": 5,
   "metadata": {},
   "outputs": [
    {
     "name": "stdout",
     "output_type": "stream",
     "text": [
      "Running simulated annealing (SA)...\n",
      "Time:  28.4 s, Iteration:   848, T:    0.99, Current Obj.:    3913, Best Obj.:    3913\t \n",
      "Initial solution with SA:\t{1: 1, 2: 7, 3: 4, 4: 1, 5: 1, 6: 3, 7: 7, 8: 1, 9: 4, 10: 8}\n",
      "Initial SA objective:\t{1: 1, 2: 7, 3: 4, 4: 1, 5: 1, 6: 3, 7: 7, 8: 1, 9: 4, 10: 8}\n"
     ]
    }
   ],
   "source": [
    "# Generate initial solution through simulated annealing\n",
    "print('Running simulated annealing (SA)...')\n",
    "SA_objective, SA_time = rail.simulated_annealing(\n",
    "    T=5e3,\n",
    "    c=0.99,\n",
    "    L=1,\n",
    "    min_T=1,\n",
    "    max_time=30,\n",
    "    debug=True\n",
    ")\n",
    "\n",
    "# Set the initial solution\n",
    "rail.set_solution()\n",
    "\n",
    "# Print initial solution\n",
    "print(f\"Initial solution with SA:\\t{rail.S}\")\n",
    "print(f\"Initial SA objective:\\t{SA_objective}\")"
   ]
  },
  {
   "cell_type": "markdown",
   "metadata": {},
   "source": [
    "Then, we can set the problem parameters, constraints and the objective function to minimize with the dedicated methods."
   ]
  },
  {
   "cell_type": "code",
   "execution_count": 6,
   "metadata": {},
   "outputs": [
    {
     "name": "stdout",
     "output_type": "stream",
     "text": [
      "Set parameter TimeLimit to value 60\n",
      "Set parameter PoolSolutions to value 1\n",
      "Set parameter Cuts to value 0\n",
      "Set parameter CutPasses to value 0\n",
      "Set parameter Heuristics to value 0\n",
      "Set parameter Symmetry to value 0\n",
      "Set parameter Threads to value 1\n",
      "Set parameter Presolve to value 0\n",
      "Set parameter NumericFocus to value 3\n"
     ]
    }
   ],
   "source": [
    "# Set model2 parameters\n",
    "rail.set_model2(timelimit=60, verbose=True)\n",
    "\n",
    "# Set constraints\n",
    "rail.set_constraints()\n",
    "\n",
    "# Set objective\n",
    "rail.set_objective()"
   ]
  },
  {
   "cell_type": "markdown",
   "metadata": {},
   "source": [
    "For this model we then set the valid inequalities to be used in the optimization processand the cutting planes generators with the dedicated implemented methods."
   ]
  },
  {
   "cell_type": "code",
   "execution_count": 7,
   "metadata": {},
   "outputs": [
    {
     "name": "stdout",
     "output_type": "stream",
     "text": [
      "Set parameter BQPCuts to value -1\n",
      "Set parameter CliqueCuts to value -1\n",
      "Set parameter CoverCuts to value -1\n",
      "Set parameter FlowCoverCuts to value -1\n",
      "Set parameter FlowPathCuts to value -1\n",
      "Set parameter GomoryPasses to value -1\n",
      "Set parameter GUBCoverCuts to value -1\n",
      "Set parameter ImpliedCuts to value -1\n",
      "Set parameter LiftProjectCuts to value -1\n",
      "Set parameter MIRCuts to value -1\n",
      "Set parameter ModKCuts to value -1\n",
      "Set parameter NetworkCuts to value -1\n",
      "Set parameter RelaxLiftCuts to value -1\n",
      "Set parameter StrongCGCuts to value -1\n",
      "Set parameter ZeroHalfCuts to value -1\n"
     ]
    }
   ],
   "source": [
    "# Set valid inequalities\n",
    "rail.set_valid_inequalities()\n",
    "\n",
    "# Set cuttings planes\n",
    "rail.set_cutting_planes()"
   ]
  },
  {
   "cell_type": "markdown",
   "metadata": {},
   "source": [
    "Finally the optimization can be run with the `optimize` method as always."
   ]
  },
  {
   "cell_type": "code",
   "execution_count": 8,
   "metadata": {},
   "outputs": [
    {
     "name": "stdout",
     "output_type": "stream",
     "text": [
      "Gurobi Optimizer version 12.0.1 build v12.0.1rc0 (linux64 - \"Arch Linux\")\n",
      "\n",
      "CPU model: Intel(R) Core(TM) i7-8565U CPU @ 1.80GHz, instruction set [SSE2|AVX|AVX2]\n",
      "Thread count: 4 physical cores, 8 logical processors, using up to 1 threads\n",
      "\n",
      "Non-default parameters:\n",
      "TimeLimit  60\n",
      "Heuristics  0\n",
      "Symmetry  0\n",
      "Cuts  0\n",
      "CutPasses  0\n",
      "NumericFocus  3\n",
      "Presolve  0\n",
      "Threads  1\n",
      "PoolSolutions  1\n",
      "\n",
      "Optimize a model with 9755 rows, 4600 columns and 28839 nonzeros\n",
      "Model fingerprint: 0x6e71ca5e\n",
      "Variable types: 1350 continuous, 3250 integer (3250 binary)\n",
      "Coefficient statistics:\n",
      "  Matrix range     [4e-02, 1e+05]\n",
      "  Objective range  [4e+00, 1e+03]\n",
      "  Bounds range     [1e+00, 1e+00]\n",
      "  RHS range        [1e-01, 1e+05]\n",
      "\n",
      "Loaded user MIP start with objective 3913.47\n",
      "\n",
      "Variable types: 1350 continuous, 3250 integer (3250 binary)\n",
      "\n",
      "Root relaxation: objective -9.208446e+04, 513 iterations, 0.13 seconds (0.03 work units)\n",
      "\n",
      "    Nodes    |    Current Node    |     Objective Bounds      |     Work\n",
      " Expl Unexpl |  Obj  Depth IntInf | Incumbent    BestBd   Gap | It/Node Time\n",
      "\n",
      "     0     0 -92084.456    0  180 3913.46563 -92084.456  2453%     -    0s\n",
      "     0     0 -90926.398    0  174 3913.46563 -90926.398  2423%     -    0s\n",
      "     0     2 -86239.150    0  174 3913.46563 -86239.150  2304%     -    0s\n",
      "*    1     1               1    3067.0263315 -49750.966  1722%  35.0    0s\n",
      "\n",
      "Explored 3 nodes (590 simplex iterations) in 0.60 seconds (0.18 work units)\n",
      "Thread count was 1 (of 8 available processors)\n",
      "\n",
      "Solution count 1: 3067.03 \n",
      "\n",
      "Optimal solution found (tolerance 1.00e-04)\n",
      "Best objective 3.067026331474e+03, best bound 3.067026331474e+03, gap 0.0000%\n"
     ]
    },
    {
     "data": {
      "text/plain": [
       "{'runtime': 0.6067149639129639,\n",
       " 'nodes': 3.0,\n",
       " 'iterations': 590.0,\n",
       " 'gap': 0.0,\n",
       " 'obj': 3067.026331473724}"
      ]
     },
     "execution_count": 8,
     "metadata": {},
     "output_type": "execute_result"
    }
   ],
   "source": [
    "# Solve the scheduling problem\n",
    "rail.optimize()"
   ]
  }
 ],
 "metadata": {
  "kernelspec": {
   "display_name": "mathopt",
   "language": "python",
   "name": "python3"
  },
  "language_info": {
   "codemirror_mode": {
    "name": "ipython",
    "version": 3
   },
   "file_extension": ".py",
   "mimetype": "text/x-python",
   "name": "python",
   "nbconvert_exporter": "python",
   "pygments_lexer": "ipython3",
   "version": "3.11.5"
  }
 },
 "nbformat": 4,
 "nbformat_minor": 2
}
