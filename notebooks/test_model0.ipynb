{
 "cells": [
  {
   "cell_type": "markdown",
   "metadata": {},
   "source": [
    "# Railway Maintenance Scheduling Problem"
   ]
  },
  {
   "cell_type": "code",
   "execution_count": 1,
   "metadata": {},
   "outputs": [
    {
     "name": "stdout",
     "output_type": "stream",
     "text": [
      "Gurobi version: (12, 0, 0)\n"
     ]
    }
   ],
   "source": [
    "import numpy as np\n",
    "import gurobipy as gb\n",
    "from gurobipy import Model, quicksum\n",
    "import random as random\n",
    "from collections import deque\n",
    "\n",
    "print(\"Gurobi version:\", gb.gurobi.version())"
   ]
  },
  {
   "cell_type": "markdown",
   "metadata": {},
   "source": [
    "***"
   ]
  },
  {
   "cell_type": "markdown",
   "metadata": {},
   "source": [
    "\n",
    "### Sets and Constants"
   ]
  },
  {
   "cell_type": "code",
   "execution_count": null,
   "metadata": {},
   "outputs": [],
   "source": [
    "# Scalar constants\n",
    "n = 10 # Number of stations\n",
    "Tend = 30 # Time horizon\n",
    "jobs = 5 # Number of jobs\n",
    "\n",
    "\n",
    "# Set of discrete time periods\t\t\t\t\t\t\t\t\t\t\t\t\t(T)\n",
    "T = range(Tend)\n",
    "\n",
    "\n",
    "# Set of stations\t\t\t\t\t\t\t\t\t\t\t\t\t\t\t\t(N)\n",
    "N = range(n)\n",
    "\n",
    "\n",
    "# Set of arcs\t\t\t\t\t\t\t\t\t\t\t\t\t\t\t\t\t(A)\n",
    "A = [(i, j) for i in N for j in N if i != j]\n",
    "\n",
    "\n",
    "# Sets of connected arcs for each job\t\t\t\t\t\t\t\t\t\t\t(A_j)\n",
    "Aj = []\n",
    "for j in range(jobs):\n",
    "\tstart = np.random.randint(0, n) # Start station\n",
    "\tlength = np.random.randint(1, n) # Length of the arcs for the job\n",
    "\tAjob = [(start, (start + i) % n) for i in range(length)] # Arcs for the job\n",
    "\tAj.append(Ajob) # Add the arcs to the list:\n",
    "\n",
    "\n",
    "# Processing times for each job\t\t\t\t\t\t\t\t\t\t\t\t\t(pi)\n",
    "pi = np.random.randint(1, Tend//2, jobs)\n",
    "\n",
    "\n",
    "# Set of Jobs\t\t\t\t\t\t\t\t\t\t\t\t\t\t\t\t\t(J)\n",
    "# J = {j: (Aj[j],pi[j]) for j in range(jobs)}\n",
    "J = range(jobs)\n",
    "\n",
    "\n",
    "# Set of jobs on arc a\t\t\t\t\t\t\t\t\t\t\t\t\t\t\t(J_a)\n",
    "Ja = {a: [] for a in A}\n",
    "\n",
    "for a in A:\n",
    "\t# for job in J:\n",
    "\t\t# if a in J[job][0]:\n",
    "\t\t\t# Ja[a].append((job, J[job][1]))\n",
    "\t\t\t   \n",
    "\tfor job in J:\n",
    "\t\tif a in Aj[job]:\n",
    "\t\t\tJa[a].append(job)\n",
    "\n",
    "\n",
    "# Number of routes considered when travelling from any o to d\t\t\t\t\t(K)\n",
    "K = 3 \n",
    "\n",
    "# Set of routes from o to d\t\t\t\t\t\t\t\t\t\t\t\t\t\t(R)\n",
    "R = {(o, d): [] for o in N for d in N if o != d}\n",
    "\n",
    "\n",
    "# Function to find all paths from o to d using BFS\n",
    "def find_all_paths(o, d, A):\n",
    "\tqueue = deque([(o, [o])])\n",
    "\tpaths = []\n",
    "\twhile queue:\n",
    "\t\t(node, path) = queue.popleft()\n",
    "\t\tfor (i, j) in A:\n",
    "\t\t\tif i == node and j not in path:\n",
    "\t\t\t\tnew_path = path + [j]\n",
    "\t\t\t\tif j == d:\n",
    "\t\t\t\t\tpaths.append(new_path)\n",
    "\t\t\t\telse:\n",
    "\t\t\t\t\tqueue.append((j, new_path))\n",
    "\treturn paths\n",
    "\n",
    "\n",
    "# Generate routes for each pair (o, d)\n",
    "for o in N:\n",
    "\tfor d in N:\n",
    "\t\tif o != d:\n",
    "\t\t\tall_paths = find_all_paths(o, d, A)\n",
    "\t\t\tif len(all_paths) >= K:\n",
    "\t\t\t\tselected_paths = random.sample(all_paths, K)\n",
    "\t\t\telse:\n",
    "\t\t\t\tselected_paths = all_paths\n",
    "\t\t\tR[(o, d)] = [[(path[i], path[i+1]) for i in range(len(path)-1)] for path in selected_paths]\n",
    "\n",
    "\n",
    "# Expected travel times by train on each arc\t\t\t\t\t\t\t\t\t(omega^e)\n",
    "omega_e = {(i, j): np.random.randint(1, 10) for (i, j) in A}\n",
    "\n",
    "\n",
    "# Expected travel times by alternative services\ton each arc\t\t\t\t\t\t(omega^j)\n",
    "omega_j = {(i, j): omega_e[i, j] + np.random.randint(1, 5) for (i, j) in A} \n",
    "\n",
    "\n",
    "# Passeger demand for each possible (origin, destination) pair at time t\t\t(phi)\n",
    "phi = {(i, j, t): np.random.randint(1, 100) for (i, j) in A for t in T}\n",
    "\n",
    "\n",
    "# Share of daily passenger demand in peak moment in time t\t\t\t\t\t\t(beta)\n",
    "beta = {(i, j, t): np.random.uniform(0.1, 0.9) for (i, j) in A for t in T}\n",
    "\n",
    "\n",
    "# Average travel time between o and d\n",
    "Omega = {(o, d): 0 for o in N for d in N}\n",
    "for o in N:\n",
    "\tfor d in N:\n",
    "\t\tif o != d:\n",
    "\t\t\tOmega[(o, d)] = np.random.randint(1, 10)\n",
    "\t\n",
    "\n",
    "# Set of arcs that cannot be unavailable simultaneously\t\t\t\t\t\t\t(C)\n",
    "C = [\n",
    "\t[A[0], A[5], A[27]],\n",
    "\t[A[1], A[6], A[28], A[3]],\n",
    "\t[A[80], A[9], A[29], A[4]],\n",
    "\t[A[2], A[17]],\n",
    "]\n",
    "\n",
    "\n",
    "# Limited capacity of alternative services in segment s in A at time t\t\t\t(gamma)\n",
    "gamma = 80\n",
    "\n",
    "\n",
    "# Minimum time interval in days between maintanance of arc a\t\t\t\t\t(tau)\n",
    "tau = {a: np.random.randint(1, 5) for a in A}\n",
    "\n",
    "\n",
    "# Set of event tracks at each time t\t\t\t\t\t\t\t\t\t\t\t(Et)\n",
    "Et = {}\n",
    "for t in T:\n",
    "\tn_event = np.random.randint(1, 10) # np.random number of event tracks\n",
    "\tEt_tmp = []\n",
    "\n",
    "\t# np.randomly sample n_event arcs from A\n",
    "\tfor i in range(n_event):\n",
    "\t\tn_rand = np.random.randint(0, len(A)-1)\n",
    "\t\tEt_tmp.append(A[n_rand])\n",
    "\n",
    "\tEt[t] = Et_tmp\n"
   ]
  },
  {
   "cell_type": "markdown",
   "metadata": {},
   "source": [
    "***"
   ]
  },
  {
   "cell_type": "markdown",
   "metadata": {},
   "source": [
    "### Model"
   ]
  },
  {
   "cell_type": "code",
   "execution_count": 3,
   "metadata": {},
   "outputs": [
    {
     "name": "stdout",
     "output_type": "stream",
     "text": [
      "Set parameter Username\n",
      "Set parameter LicenseID to value 2585388\n",
      "Academic license - for non-commercial use only - expires 2025-11-15\n"
     ]
    }
   ],
   "source": [
    "# Model\n",
    "model = Model()\n",
    "model.ModelSense = gb.GRB.MINIMIZE"
   ]
  },
  {
   "cell_type": "markdown",
   "metadata": {},
   "source": [
    "***"
   ]
  },
  {
   "cell_type": "markdown",
   "metadata": {},
   "source": [
    "### Decision Variables"
   ]
  },
  {
   "cell_type": "code",
   "execution_count": 4,
   "metadata": {},
   "outputs": [],
   "source": [
    "# Start time of j^th job\t\t\t\t\t\t\t\t\t\t\t\t\t\t(y)\n",
    "# y[j,t] = 1 if job j starts at time t, 0 otherwise\n",
    "# y = model.addVars(len(J), len(T), vtype=gb.GRB.BINARY, name='y')\n",
    "y = model.addVars(J, T, vtype=gb.GRB.BINARY, name='y')\n",
    "\n",
    "# Availability of arc a at time t\t\t\t\t\t\t\t\t\t\t\t\t(x)\n",
    "# x[a,t] = 1 if arc a is available at time t, 0 otherwise\n",
    "# x = model.addVars(len(A), len(T), vtype=gb.GRB.BINARY, name='x')\n",
    "x = model.addVars(A, T, vtype=gb.GRB.BINARY, name='x')\n",
    "\n",
    "# Route option k used when travelling from o to d at time t\t\t\t\t\t\t(h)\n",
    "# h[o,d,t,k] = 1 if route option k is used when travelling from o to d at time t, 0 otherwise\n",
    "# h = model.addVars(len(N), len(N), len(T), K, vtype=gb.GRB.BINARY, name='h')\n",
    "h = model.addVars(N, N, T, range(K), vtype=gb.GRB.BINARY, name='h')\n",
    "\n",
    "# Travel time traversing arc a at time t\t\t\t\t\t\t\t\t\t\t(w)\n",
    "# w[a,t] = travel time (continuous)\n",
    "# w = model.addVars(len(A), len(T), lb=0, vtype=gb.GRB.CONTINUOUS, name='w')\n",
    "w = model.addVars(A, T, lb=0, vtype=gb.GRB.CONTINUOUS, name='w')\n",
    "\n",
    "# Travel time from origin to destination at time t\t\t\t\t\t\t\t\t(v)\n",
    "# v[o,d,t] = travel time (continuous)\n",
    "# v = model.addVars(len(N), len(N), len(T), lb=0, vtype=gb.GRB.CONTINUOUS, name='v')\n",
    "v = model.addVars(N, N, T, lb=0, vtype=gb.GRB.CONTINUOUS, name='v')"
   ]
  },
  {
   "cell_type": "markdown",
   "metadata": {},
   "source": [
    "***"
   ]
  },
  {
   "cell_type": "markdown",
   "metadata": {},
   "source": [
    "### Objective Function"
   ]
  },
  {
   "cell_type": "code",
   "execution_count": 5,
   "metadata": {},
   "outputs": [],
   "source": [
    "# Minimize total passenger delays\t\t\t\t\t\t\t\t\t\t\t\t(1)\n",
    "model.setObjective(\n",
    "\tquicksum(\n",
    "\t\tquicksum(\n",
    "\t\t\tphi[o, d, t] * (v[o, d, t] - Omega[o, d]) for t in T\n",
    "\t\t) for o in N for d in N if o != d\n",
    "\t)\n",
    ")"
   ]
  },
  {
   "cell_type": "markdown",
   "metadata": {},
   "source": [
    "***\n",
    "\n",
    "### Constraints"
   ]
  },
  {
   "cell_type": "markdown",
   "metadata": {},
   "source": [
    "Maintainance scheduling constraints"
   ]
  },
  {
   "cell_type": "code",
   "execution_count": 6,
   "metadata": {},
   "outputs": [],
   "source": [
    "# Job started and completed within time horizon\t\t\t\t\t\t\t\t\t(2)\n",
    "for j in J:\n",
    "\tmodel.addConstr(\n",
    "\t\tquicksum(y[j, t] for t in range(Tend - pi[j] + 1)) == 1\n",
    "\t)\n",
    "\n",
    "# Availability of arc a at time t\t\t\t\t\t\t\t\t\t\t\t\t(3)\n",
    "# for a, (o, d) in enumerate(A):\n",
    "for a in A:\n",
    "\tfor t in T:\n",
    "\t\t# for j in Ja[(o, d)]:\n",
    "\t\tfor j in Ja[a]:\n",
    "\t\t\tmodel.addConstr(\n",
    "\t\t\t\tx[a[0], a[1], t] + quicksum(y[j, tp] for tp in range(max(0, t-pi[j]+2), t+1)) <= 1\n",
    "\t\t\t)\n",
    "\n",
    "# increased travel time for service replacement\t\t\t\t\t\t\t\t\t(4)\n",
    "# for a, (o, d) in enumerate(A):\n",
    "for a in A:\n",
    "\tfor t in T:\n",
    "\t\tmodel.addConstr(\n",
    "\t\t\tw[a[0], a[1], t] == x[a[0], a[1], t] * omega_e[a] + (1 - x[a[0], a[1], t]) * omega_j[a]\n",
    "\t\t)\n",
    "\n",
    "# Ensure correct arc travel times for free variables\t\t\t\t\t\t\t(5)\n",
    "# for a, (o, d) in enumerate(A):\n",
    "for a in A:\n",
    "\tmodel.addConstr(\n",
    "\t\tquicksum(x[a[0], a[1],t] for t in T) == len(T) - quicksum(pi[j] for j in Ja[a])\n",
    "\t)"
   ]
  },
  {
   "cell_type": "markdown",
   "metadata": {},
   "source": [
    "Restrictions on maintenance scheduling"
   ]
  },
  {
   "cell_type": "code",
   "execution_count": 7,
   "metadata": {},
   "outputs": [],
   "source": [
    "# Arcs that cannt be unavailable simultaneously\t\t\t\t\t\t\t\t\t(6)\n",
    "for t in T:\n",
    "\tfor j in J:\n",
    "\t\tfor c in C:\n",
    "\t\t\tmodel.addConstr(\n",
    "\t\t\t\tquicksum(1 - x[a[0], a[1], t] for a in c) <= 1\n",
    "\t\t\t)\n",
    "\n",
    "# Non overlapping jobs on same arc\t\t\t\t\t\t\t\t\t\t\t\t(7)\n",
    "# for a, (o, d) in enumerate(A):\n",
    "for a in A:\n",
    "\tfor t in T:\n",
    "\t\tmodel.addConstr(\n",
    "\t\t\tquicksum(\n",
    "\t\t\t\tquicksum(\n",
    "\t\t\t\t\ty[j, tp] for tp in range(max(0, t-pi[j]-tau[a]+1), Tend)\n",
    "\t\t\t\t) for j in Ja[a]\n",
    "\t\t\t) <= 1\n",
    "\t\t)"
   ]
  },
  {
   "cell_type": "markdown",
   "metadata": {},
   "source": [
    "Event Requests"
   ]
  },
  {
   "cell_type": "code",
   "execution_count": 8,
   "metadata": {},
   "outputs": [],
   "source": [
    "# Each track segment in an event request has limited capacity\t\t\t\t\t(8)\n",
    "\n",
    "# TODO: This should be fixed... we should guarantee M is large enough (see inequality) \n",
    "# and also for now each s is a single arch but in principle it should be a set of arcs\n",
    "# like [(1,2), (2,3), (3,4)] for example since it should model a track segment being under event\n",
    "# --> after fixing these the extra sum term is needed\n",
    "\n",
    "M = 1000 # Large potitive number for unilimited train capacity\n",
    "for t in T:\n",
    "\tfor a in Et[t]:\n",
    "\t\tmodel.addConstr(\n",
    "\t\t\t# quicksum(\n",
    "\t\t\tquicksum(\n",
    "\t\t\t\tquicksum(\n",
    "\t\t\t\t\th[o, d, t, i]*beta[o, d, t]*phi[o, d, t] for i in range(K) if a in R[(o, d)][i]\n",
    "\t\t\t\t) for o in N for d in N if o != d\n",
    "\t\t\t\t# ) for a in s\n",
    "\t\t\t)\n",
    "\t\t\t<= gamma \n",
    "\t\t\t# + M * quicksum(x[a[0], a[1], t] for a in s)\n",
    "\t\t\t+ M * x[a[0], a[1], t]\n",
    "\t\t)"
   ]
  },
  {
   "cell_type": "markdown",
   "metadata": {},
   "source": [
    "Passenger Route Choice and Evaluation"
   ]
  },
  {
   "cell_type": "code",
   "execution_count": 9,
   "metadata": {},
   "outputs": [],
   "source": [
    "# Passeger flow from o to d is served by one of predefined routes\t\t\t\t(9)\n",
    "for t in T:\n",
    "\tfor o in N:\n",
    "\t\tfor d in N:\n",
    "\t\t\tif o != d:\n",
    "\t\t\t\tmodel.addConstr(\n",
    "\t\t\t\t\tquicksum(\n",
    "\t\t\t\t\t\th[o, d, t, i] for i in range(K)\n",
    "\t\t\t\t\t) == 1\n",
    "\t\t\t\t)\n",
    "\n",
    "# Lower bound for travel time from o to d\t\t\t\t\t\t\t\t\t\t(10)\n",
    "for t in T:\n",
    "\tfor o in N:\n",
    "\t\tfor d in N:\n",
    "\t\t\tif o != d:\n",
    "\t\t\t\tfor i in range(K):\n",
    "\t\t\t\t\tmodel.addConstr(\n",
    "\t\t\t\t\t\tv[o, d, t] >= quicksum(w[a[0], a[1], t] for a in R[(o, d)][i]) - M*(1 - h[o, d, t, i])\n",
    "\t\t\t\t\t)\n",
    "\n",
    "# Upper bound for travel time from o to d\t\t\t\t\t\t\t\t\t\t(11)\n",
    "for t in T:\n",
    "\tfor o in N:\n",
    "\t\tfor d in N:\n",
    "\t\t\tif o != d:\n",
    "\t\t\t\tfor i in range(K):\n",
    "\t\t\t\t\tmodel.addConstr(\n",
    "\t\t\t\t\t\tv[o, d, t] <= quicksum(w[a[0], a[1], t] for a in R[(o, d)][i])\n",
    "\t\t\t\t\t)"
   ]
  },
  {
   "cell_type": "markdown",
   "metadata": {},
   "source": [
    "***\n",
    "\n",
    "### Optimisation"
   ]
  },
  {
   "cell_type": "code",
   "execution_count": 10,
   "metadata": {},
   "outputs": [
    {
     "name": "stdout",
     "output_type": "stream",
     "text": [
      "Gurobi Optimizer version 11.0.3 build v11.0.3rc0 (linux64 - \"Arch Linux\")\n",
      "\n",
      "CPU model: Intel(R) Core(TM) i7-8565U CPU @ 1.80GHz, instruction set [SSE2|AVX|AVX2]\n",
      "Thread count: 4 physical cores, 8 logical processors, using up to 8 threads\n",
      "\n",
      "Optimize a model with 25677 rows, 17550 columns and 190647 nonzeros\n",
      "Model fingerprint: 0xc79c7f5e\n",
      "Variable types: 5700 continuous, 11850 integer (11850 binary)\n",
      "Coefficient statistics:\n",
      "  Matrix range     [2e-01, 1e+03]\n",
      "  Objective range  [1e+00, 1e+02]\n",
      "  Bounds range     [1e+00, 1e+00]\n",
      "  RHS range        [1e+00, 1e+03]\n",
      "Presolve removed 21809 rows and 15019 columns\n",
      "Presolve time: 0.28s\n",
      "Presolved: 3868 rows, 2531 columns, 14822 nonzeros\n",
      "Variable types: 0 continuous, 2531 integer (1627 binary)\n",
      "Found heuristic solution: objective 3940854.0000\n",
      "Found heuristic solution: objective 3939315.0000\n",
      "\n",
      "Root relaxation: objective 3.905427e+06, 2282 iterations, 0.09 seconds (0.10 work units)\n",
      "\n",
      "    Nodes    |    Current Node    |     Objective Bounds      |     Work\n",
      " Expl Unexpl |  Obj  Depth IntInf | Incumbent    BestBd   Gap | It/Node Time\n",
      "\n",
      "     0     0 3905426.63    0 1383 3939315.00 3905426.63  0.86%     -    0s\n",
      "H    0     0                    3934912.0000 3905426.63  0.75%     -    0s\n",
      "H    0     0                    3934492.0000 3905426.63  0.74%     -    0s\n",
      "     0     0 3922028.99    0 1142 3934492.00 3922028.99  0.32%     -    0s\n",
      "H    0     0                    3934208.0000 3922043.03  0.31%     -    0s\n",
      "H    0     0                    3933971.0000 3923629.87  0.26%     -    0s\n",
      "     0     0 3923629.87    0 1094 3933971.00 3923629.87  0.26%     -    0s\n",
      "     0     0 3923855.85    0  981 3933971.00 3923855.85  0.26%     -    0s\n",
      "     0     0 3923867.48    0 1059 3933971.00 3923867.48  0.26%     -    0s\n",
      "     0     0 3923868.91    0 1085 3933971.00 3923868.91  0.26%     -    0s\n",
      "H    0     0                    3933876.0000 3926019.23  0.20%     -    1s\n",
      "H    0     0                    3933276.0000 3926019.23  0.18%     -    1s\n",
      "     0     0 3926101.67    0 1073 3933276.00 3926101.67  0.18%     -    1s\n",
      "     0     0 3926409.72    0 1022 3933276.00 3926409.72  0.17%     -    1s\n",
      "     0     0 3926500.76    0  962 3933276.00 3926500.76  0.17%     -    1s\n",
      "     0     0 3926529.40    0 1029 3933276.00 3926529.40  0.17%     -    1s\n",
      "     0     0 3926531.64    0  954 3933276.00 3926531.64  0.17%     -    1s\n",
      "H    0     0                    3933235.0000 3926531.64  0.17%     -    1s\n",
      "H    0     0                    3932830.0000 3926531.64  0.16%     -    1s\n",
      "H    0     0                    3932589.0000 3926531.64  0.15%     -    1s\n",
      "H    0     0                    3932275.0000 3926531.64  0.15%     -    1s\n",
      "H    0     0                    3932273.0000 3926531.64  0.15%     -    1s\n",
      "H    0     0                    3931904.0000 3926531.64  0.14%     -    1s\n",
      "H    0     0                    3931865.0000 3927166.54  0.12%     -    1s\n",
      "     0     0 3927166.54    0 1042 3931865.00 3927166.54  0.12%     -    1s\n",
      "     0     0 3927201.13    0 1014 3931865.00 3927201.13  0.12%     -    1s\n",
      "     0     0 3927204.45    0 1019 3931865.00 3927204.45  0.12%     -    1s\n",
      "H    0     0                    3931809.0000 3927501.82  0.11%     -    1s\n",
      "     0     0 3927516.65    0  866 3931809.00 3927516.65  0.11%     -    1s\n",
      "     0     0 3927557.49    0  898 3931809.00 3927557.49  0.11%     -    1s\n",
      "     0     0 3927770.39    0  970 3931809.00 3927770.39  0.10%     -    1s\n",
      "     0     0 3927802.99    0  899 3931809.00 3927802.99  0.10%     -    1s\n",
      "H    0     0                    3931782.0000 3927802.99  0.10%     -    1s\n",
      "     0     0 3927866.47    0  893 3931782.00 3927866.47  0.10%     -    2s\n",
      "H    0     0                    3931414.0000 3927866.47  0.09%     -    2s\n",
      "     0     2 3927866.47    0  893 3931414.00 3927866.47  0.09%     -    2s\n",
      "H  108    79                    3931378.0000 3929167.71  0.06%  39.0    2s\n",
      "\n",
      "Cutting planes:\n",
      "  Learned: 105\n",
      "  Gomory: 57\n",
      "  Cover: 350\n",
      "  Implied bound: 419\n",
      "  Clique: 48\n",
      "  MIR: 427\n",
      "  StrongCG: 41\n",
      "  GUB cover: 6\n",
      "  Zero half: 33\n",
      "  RLT: 132\n",
      "  Relax-and-lift: 239\n",
      "  BQP: 3\n",
      "\n",
      "Explored 609 nodes (29339 simplex iterations) in 3.42 seconds (2.57 work units)\n",
      "Thread count was 8 (of 8 available processors)\n",
      "\n",
      "Solution count 10: 3.93138e+06 3.93141e+06 3.93178e+06 ... 3.93283e+06\n",
      "\n",
      "Optimal solution found (tolerance 1.00e-04)\n",
      "Best objective 3.931378000000e+06, best bound 3.931091215656e+06, gap 0.0073%\n"
     ]
    }
   ],
   "source": [
    "model.optimize()"
   ]
  }
 ],
 "metadata": {
  "kernelspec": {
   "display_name": "mathopt",
   "language": "python",
   "name": "python3"
  },
  "language_info": {
   "codemirror_mode": {
    "name": "ipython",
    "version": 3
   },
   "file_extension": ".py",
   "mimetype": "text/x-python",
   "name": "python",
   "nbconvert_exporter": "python",
   "pygments_lexer": "ipython3",
   "version": "3.11.5"
  }
 },
 "nbformat": 4,
 "nbformat_minor": 2
}
