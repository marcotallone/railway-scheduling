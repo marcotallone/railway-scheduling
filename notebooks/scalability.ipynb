{
 "cells": [
  {
   "cell_type": "code",
   "execution_count": 1,
   "id": "74c23ffe",
   "metadata": {},
   "outputs": [],
   "source": [
    "import numpy as np\n",
    "import pandas as pd\n",
    "import matplotlib.pyplot as plt\n",
    "import seaborn as sns\n",
    "from plotly.offline import plot"
   ]
  },
  {
   "cell_type": "code",
   "execution_count": 2,
   "id": "0b0fa877",
   "metadata": {},
   "outputs": [],
   "source": [
    "RESULTFILE = '../results/results.csv'\n",
    "df = pd.read_csv(RESULTFILE)\n",
    "\n",
    "# Multiply gap column by 100\n",
    "df['gap'] = df['gap'] * 100\n",
    "\n",
    "\n",
    "df0 = df[df['model']==0].copy()\n",
    "df1 = df[df['model']==1].copy()\n",
    "df2 = df[df['model']==2].copy()"
   ]
  },
  {
   "cell_type": "code",
   "execution_count": 4,
   "id": "561c6074",
   "metadata": {},
   "outputs": [
    {
     "name": "stdout",
     "output_type": "stream",
     "text": [
      "    ID   N   J    T  K\n",
      "2    1  10  10   10  3\n",
      "5    2  10  10   50  3\n",
      "8    3  10  10  100  3\n",
      "11   4  10  40   10  3\n",
      "14   5  10  40   50  3\n",
      "17   6  10  40  100  3\n",
      "20   7  10  80   10  3\n",
      "23   8  10  80   50  3\n",
      "26   9  10  80  100  3\n",
      "29  10  20  10   10  3\n",
      "32  11  20  10   50  3\n",
      "35  12  20  10  100  3\n",
      "38  13  20  40   10  3\n",
      "41  14  20  40   50  3\n",
      "44  15  20  40  100  3\n",
      "47  16  20  80   10  3\n",
      "50  17  20  80   50  3\n",
      "53  18  20  80  100  3\n",
      "56  19  40  10   10  3\n",
      "59  20  40  10   50  3\n",
      "62  21  40  10  100  3\n",
      "65  22  40  40   10  3\n",
      "68  23  40  40   50  3\n",
      "71  24  40  40  100  3\n",
      "74  25  40  80   10  3\n",
      "77  26  40  80   50  3\n",
      "80  27  40  80  100  3\n"
     ]
    }
   ],
   "source": [
    "# # FIlter relevant columns discarding index\n",
    "# df2 = df2[['ID', 'gap', 'total_time', 'heuristics_time', 'nodes', 'iterations']]\n",
    "df2 = df2[['ID', 'N', 'J', 'T', 'K']]\n",
    "print(df2)"
   ]
  },
  {
   "cell_type": "code",
   "execution_count": null,
   "id": "f2e78977",
   "metadata": {},
   "outputs": [],
   "source": [
    "# # Compare values\n",
    "# compared_column = 'gap'\n",
    "# comparison_df = df1[['ID', compared_column]].merge(\n",
    "#     df2[['ID', compared_column]], \n",
    "#     on='ID', \n",
    "#     suffixes=('_model1', '_model2')\n",
    "# )\n",
    "\n",
    "# display(comparison_df)"
   ]
  },
  {
   "cell_type": "code",
   "execution_count": null,
   "id": "79185050",
   "metadata": {},
   "outputs": [],
   "source": [
    "# # Keep only ID, gap and objetive columns\n",
    "# selected_columns = ['ID', 'gap', 'objective']\n",
    "# df0 = df0[selected_columns]\n",
    "# df1 = df1[selected_columns]\n",
    "# df2 = df2[selected_columns]\n",
    "\n",
    "# # # Multiply gap column by 100\n",
    "# # df0['gap'] = df0['gap'] * 100\n",
    "# # df1['gap'] = df1['gap'] * 100\n",
    "# # df2['gap'] = df2['gap'] * 100"
   ]
  },
  {
   "cell_type": "code",
   "execution_count": 5,
   "id": "7679ef79",
   "metadata": {},
   "outputs": [],
   "source": [
    "# ID=df[df['model']==0]['ID'].values\n",
    "# plt.figure(figsize=(15, 10))\n",
    "# plt.grid(True, which='major', linestyle='--', color='gray', alpha=0.5)\n",
    "# # sns.lineplot(\n",
    "# #     x=df[df['model']==0]['ID'],\n",
    "# #     y=df[df['model']==0]['gap'],\n",
    "# #     color='tab:blue',\n",
    "# #     label='Model0'\n",
    "# # )\n",
    "# # sns.lineplot(\n",
    "# #     x=df[df['model']==1]['ID'],\n",
    "# #     y=df[df['model']==1]['gap'],\n",
    "# #     color='tab:orange',\n",
    "# #     label='Model1'\n",
    "# # )\n",
    "# # sns.lineplot(\n",
    "# #     x=df[df['model']==2]['ID'],\n",
    "# #     y=df[df['model']==2]['gap'],\n",
    "# #     color='tab:green',\n",
    "# #     label='Model2'\n",
    "# # )\n",
    "# # sns.lineplot(\n",
    "# #     data=df,\n",
    "# #     x='ID',\n",
    "# #     y='gap',\n",
    "# #     hue='model',\n",
    "# #     style='model',\n",
    "# #     markers=True,\n",
    "# #     markersize=10,\n",
    "# #     palette='tab10',\n",
    "# #     alpha=0.7\n",
    "# # )\n",
    "# sns.scatterplot(\n",
    "#     data=df,\n",
    "#     x='ID',\n",
    "#     y='gap',\n",
    "#     hue='model',\n",
    "#     style='model',\n",
    "#     markers=True,\n",
    "#     s=100,\n",
    "#     palette='tab10',\n",
    "#     alpha=0.75\n",
    "# )\n",
    "# plt.ylim(0,2.1)\n",
    "# # plt.ylim(0,0.1)\n",
    "# # plt.yscale('log')\n",
    "# plt.xticks(ID)\n",
    "# plt.legend()\n",
    "# plt.show()"
   ]
  },
  {
   "cell_type": "code",
   "execution_count": null,
   "id": "9e2e664d",
   "metadata": {},
   "outputs": [
    {
     "data": {
      "application/vnd.plotly.v1+json": {
       "config": {
        "plotlyServerURL": "https://plot.ly"
       },
       "data": [
        {
         "customdata": [
          [
           0,
           3,
           "0.18"
          ],
          [
           0,
           529,
           "8.00"
          ],
          [
           0,
           116,
           "9.50"
          ],
          [
           0,
           680,
           "1.75"
          ],
          [
           0,
           36,
           "0.93"
          ],
          [
           0,
           3,
           "5.76"
          ],
          [
           0,
           98,
           "33.53"
          ],
          [
           0,
           96,
           "2.26"
          ],
          [
           0,
           4081,
           "300.03"
          ],
          [
           0,
           1231,
           "13.93"
          ],
          [
           0,
           3,
           "5.93"
          ],
          [
           0,
           3,
           "55.97"
          ],
          [
           0,
           3,
           "162.09"
          ],
          [
           0,
           90,
           "14.08"
          ],
          [
           0,
           243,
           "300.29"
          ],
          [
           0,
           14439,
           "300.04"
          ]
         ],
         "hovertemplate": "Model: %{customdata[0]}<br>ID: %{x}<br>Gap: %{text}%<br>Nodes: %{customdata[1]}<br>Runtime: %{customdata[2]} s<extra></extra>",
         "name": "Model 0",
         "text": [
          "0.00",
          "0.00",
          "0.00",
          "0.00",
          "0.00",
          "0.00",
          "0.00",
          "0.00",
          "9.30",
          "0.00",
          "0.00",
          "0.00",
          "0.00",
          "0.00",
          "0.58",
          "0.14"
         ],
         "textposition": "none",
         "type": "bar",
         "x": {
          "bdata": "AQIDBAoLDA0OEBMUFRYXGQ==",
          "dtype": "i1"
         },
         "y": {
          "bdata": "AAAAAAAA8D8AAAAAAADwPwAAAAAAAPA/AAAAAAAA8D8AAAAAAADwPwAAAAAAAPA/AAAAAAAA8D8AAAAAAADwP2Ennd23myJAAAAAAAAA8D8AAAAAAADwPwAAAAAAAPA/AAAAAAAA8D8AAAAAAADwP2eX0QOpsOI//jowVgNKwj8=",
          "dtype": "f8"
         }
        },
        {
         "customdata": [
          [
           1,
           3,
           "13.55"
          ],
          [
           1,
           697,
           "82.89"
          ],
          [
           1,
           84,
           "128.36"
          ],
          [
           1,
           711,
           "19.91"
          ],
          [
           1,
           14789,
           "393.59"
          ],
          [
           1,
           973,
           "420.10"
          ],
          [
           1,
           1004,
           "413.03"
          ],
          [
           1,
           627,
           "420.53"
          ],
          [
           1,
           43,
           "82.36"
          ],
          [
           1,
           3,
           "126.23"
          ],
          [
           1,
           66,
           "152.16"
          ],
          [
           1,
           439,
           "106.50"
          ],
          [
           1,
           4452,
           "420.38"
          ],
          [
           1,
           1228,
           "420.68"
          ],
          [
           1,
           1193,
           "116.69"
          ],
          [
           1,
           788,
           "420.48"
          ],
          [
           1,
           306,
           "421.02"
          ],
          [
           1,
           3,
           "126.11"
          ],
          [
           1,
           3,
           "178.43"
          ],
          [
           1,
           3,
           "284.78"
          ],
          [
           1,
           50,
           "132.32"
          ],
          [
           1,
           302,
           "423.33"
          ],
          [
           1,
           17182,
           "420.09"
          ]
         ],
         "hovertemplate": "Model: %{customdata[0]}<br>ID: %{x}<br>Gap: %{text}%<br>Nodes: %{customdata[1]}<br>Runtime: %{customdata[2]} s<extra></extra>",
         "name": "Model 1",
         "text": [
          "0.00",
          "0.00",
          "0.00",
          "0.00",
          "47.99",
          "88.63",
          "103.27",
          "117.66",
          "0.00",
          "0.00",
          "0.00",
          "0.00",
          "9.71",
          "22.45",
          "0.00",
          "77.16",
          "97.07",
          "0.00",
          "0.00",
          "0.00",
          "0.00",
          "0.55",
          "0.86"
         ],
         "textposition": "none",
         "type": "bar",
         "x": {
          "bdata": "AQIDBAUGCAkKCwwNDg8QERITFBUWFxk=",
          "dtype": "i1"
         },
         "y": {
          "bdata": "AAAAAAAA8D8AAAAAAADwPwAAAAAAAPA/AAAAAAAA8D8Ot7BzKP5HQAEgKMCXKFZAPdQifh3RWUDub9c1RGpdQAAAAAAAAPA/AAAAAAAA8D8AAAAAAADwPwAAAAAAAPA/6az7d3hrI0AmU7n8SnI2QAAAAAAAAPA/+ZrAiIdKU0AtwiQTxkRYQAAAAAAAAPA/AAAAAAAA8D8AAAAAAADwPwAAAAAAAPA/y/sJPROs4T/I3xf+DqLrPw==",
          "dtype": "f8"
         }
        },
        {
         "customdata": [
          [
           2,
           1,
           "13.50"
          ],
          [
           2,
           1,
           "79.73"
          ],
          [
           2,
           57,
           "123.62"
          ],
          [
           2,
           312,
           "18.94"
          ],
          [
           2,
           552,
           "115.14"
          ],
          [
           2,
           16,
           "420.20"
          ],
          [
           2,
           8033,
           "58.30"
          ],
          [
           2,
           389,
           "410.87"
          ],
          [
           2,
           1,
           "420.22"
          ],
          [
           2,
           1,
           "80.94"
          ],
          [
           2,
           1,
           "120.84"
          ],
          [
           2,
           1,
           "122.93"
          ],
          [
           2,
           1,
           "94.74"
          ],
          [
           2,
           1767,
           "138.50"
          ],
          [
           2,
           1,
           "161.40"
          ],
          [
           2,
           1,
           "102.32"
          ],
          [
           2,
           684,
           "420.58"
          ],
          [
           2,
           1,
           "420.67"
          ],
          [
           2,
           1,
           "121.07"
          ],
          [
           2,
           1,
           "127.27"
          ],
          [
           2,
           1,
           "136.04"
          ],
          [
           2,
           1,
           "121.49"
          ],
          [
           2,
           1,
           "130.34"
          ],
          [
           2,
           1,
           "151.59"
          ],
          [
           2,
           1,
           "122.00"
          ],
          [
           2,
           3013,
           "364.31"
          ],
          [
           2,
           828,
           "388.34"
          ]
         ],
         "hovertemplate": "Model: %{customdata[0]}<br>ID: %{x}<br>Gap: %{text}%<br>Nodes: %{customdata[1]}<br>Runtime: %{customdata[2]} s<extra></extra>",
         "name": "Model 2",
         "text": [
          "0.00",
          "0.00",
          "0.00",
          "0.00",
          "0.00",
          "5.45",
          "0.00",
          "3.21",
          "96.72",
          "0.00",
          "0.00",
          "0.00",
          "0.00",
          "0.00",
          "0.00",
          "0.01",
          "0.57",
          "2.66",
          "0.00",
          "0.00",
          "0.00",
          "0.00",
          "0.00",
          "0.01",
          "0.01",
          "0.01",
          "0.01"
         ],
         "textposition": "none",
         "type": "bar",
         "x": {
          "bdata": "AQIDBAUGBwgJCgsMDQ4PEBESExQVFhcYGRob",
          "dtype": "i1"
         },
         "y": {
          "bdata": "AAAAAAAA8D8AAAAAAADwPwAAAAAAAPA/AAAAAAAA8D8AAAAAAADwP6jXrEqQzBVAAAAAAAAA8D9mQ1jlTLAJQLns6p7XLVhAAAAAAAAA8D8AAAAAAADwPwAAAAAAAPA/AAAAAAAA8D8AAAAAAADwPwAAAAAAAPA/AAAAAAAA8D9iZl5vPkDiPwOSi6hxUAVAAAAAAAAA8D8AAAAAAADwPwAAAAAAAPA/AAAAAAAA8D8AAAAAAADwPwAAAAAAAPA/AAAAAAAA8D8AAAAAAADwPwAAAAAAAPA/",
          "dtype": "f8"
         }
        }
       ],
       "layout": {
        "autosize": true,
        "barmode": "group",
        "legend": {
         "bgcolor": "rgba(255, 255, 255, 0.5)",
         "x": 0.99,
         "xanchor": "right",
         "y": 0.99,
         "yanchor": "top"
        },
        "margin": {
         "b": 10,
         "l": 10,
         "r": 10,
         "t": 10
        },
        "template": {
         "data": {
          "bar": [
           {
            "error_x": {
             "color": "#2a3f5f"
            },
            "error_y": {
             "color": "#2a3f5f"
            },
            "marker": {
             "line": {
              "color": "#E5ECF6",
              "width": 0.5
             },
             "pattern": {
              "fillmode": "overlay",
              "size": 10,
              "solidity": 0.2
             }
            },
            "type": "bar"
           }
          ],
          "barpolar": [
           {
            "marker": {
             "line": {
              "color": "#E5ECF6",
              "width": 0.5
             },
             "pattern": {
              "fillmode": "overlay",
              "size": 10,
              "solidity": 0.2
             }
            },
            "type": "barpolar"
           }
          ],
          "carpet": [
           {
            "aaxis": {
             "endlinecolor": "#2a3f5f",
             "gridcolor": "white",
             "linecolor": "white",
             "minorgridcolor": "white",
             "startlinecolor": "#2a3f5f"
            },
            "baxis": {
             "endlinecolor": "#2a3f5f",
             "gridcolor": "white",
             "linecolor": "white",
             "minorgridcolor": "white",
             "startlinecolor": "#2a3f5f"
            },
            "type": "carpet"
           }
          ],
          "choropleth": [
           {
            "colorbar": {
             "outlinewidth": 0,
             "ticks": ""
            },
            "type": "choropleth"
           }
          ],
          "contour": [
           {
            "colorbar": {
             "outlinewidth": 0,
             "ticks": ""
            },
            "colorscale": [
             [
              0,
              "#0d0887"
             ],
             [
              0.1111111111111111,
              "#46039f"
             ],
             [
              0.2222222222222222,
              "#7201a8"
             ],
             [
              0.3333333333333333,
              "#9c179e"
             ],
             [
              0.4444444444444444,
              "#bd3786"
             ],
             [
              0.5555555555555556,
              "#d8576b"
             ],
             [
              0.6666666666666666,
              "#ed7953"
             ],
             [
              0.7777777777777778,
              "#fb9f3a"
             ],
             [
              0.8888888888888888,
              "#fdca26"
             ],
             [
              1,
              "#f0f921"
             ]
            ],
            "type": "contour"
           }
          ],
          "contourcarpet": [
           {
            "colorbar": {
             "outlinewidth": 0,
             "ticks": ""
            },
            "type": "contourcarpet"
           }
          ],
          "heatmap": [
           {
            "colorbar": {
             "outlinewidth": 0,
             "ticks": ""
            },
            "colorscale": [
             [
              0,
              "#0d0887"
             ],
             [
              0.1111111111111111,
              "#46039f"
             ],
             [
              0.2222222222222222,
              "#7201a8"
             ],
             [
              0.3333333333333333,
              "#9c179e"
             ],
             [
              0.4444444444444444,
              "#bd3786"
             ],
             [
              0.5555555555555556,
              "#d8576b"
             ],
             [
              0.6666666666666666,
              "#ed7953"
             ],
             [
              0.7777777777777778,
              "#fb9f3a"
             ],
             [
              0.8888888888888888,
              "#fdca26"
             ],
             [
              1,
              "#f0f921"
             ]
            ],
            "type": "heatmap"
           }
          ],
          "histogram": [
           {
            "marker": {
             "pattern": {
              "fillmode": "overlay",
              "size": 10,
              "solidity": 0.2
             }
            },
            "type": "histogram"
           }
          ],
          "histogram2d": [
           {
            "colorbar": {
             "outlinewidth": 0,
             "ticks": ""
            },
            "colorscale": [
             [
              0,
              "#0d0887"
             ],
             [
              0.1111111111111111,
              "#46039f"
             ],
             [
              0.2222222222222222,
              "#7201a8"
             ],
             [
              0.3333333333333333,
              "#9c179e"
             ],
             [
              0.4444444444444444,
              "#bd3786"
             ],
             [
              0.5555555555555556,
              "#d8576b"
             ],
             [
              0.6666666666666666,
              "#ed7953"
             ],
             [
              0.7777777777777778,
              "#fb9f3a"
             ],
             [
              0.8888888888888888,
              "#fdca26"
             ],
             [
              1,
              "#f0f921"
             ]
            ],
            "type": "histogram2d"
           }
          ],
          "histogram2dcontour": [
           {
            "colorbar": {
             "outlinewidth": 0,
             "ticks": ""
            },
            "colorscale": [
             [
              0,
              "#0d0887"
             ],
             [
              0.1111111111111111,
              "#46039f"
             ],
             [
              0.2222222222222222,
              "#7201a8"
             ],
             [
              0.3333333333333333,
              "#9c179e"
             ],
             [
              0.4444444444444444,
              "#bd3786"
             ],
             [
              0.5555555555555556,
              "#d8576b"
             ],
             [
              0.6666666666666666,
              "#ed7953"
             ],
             [
              0.7777777777777778,
              "#fb9f3a"
             ],
             [
              0.8888888888888888,
              "#fdca26"
             ],
             [
              1,
              "#f0f921"
             ]
            ],
            "type": "histogram2dcontour"
           }
          ],
          "mesh3d": [
           {
            "colorbar": {
             "outlinewidth": 0,
             "ticks": ""
            },
            "type": "mesh3d"
           }
          ],
          "parcoords": [
           {
            "line": {
             "colorbar": {
              "outlinewidth": 0,
              "ticks": ""
             }
            },
            "type": "parcoords"
           }
          ],
          "pie": [
           {
            "automargin": true,
            "type": "pie"
           }
          ],
          "scatter": [
           {
            "fillpattern": {
             "fillmode": "overlay",
             "size": 10,
             "solidity": 0.2
            },
            "type": "scatter"
           }
          ],
          "scatter3d": [
           {
            "line": {
             "colorbar": {
              "outlinewidth": 0,
              "ticks": ""
             }
            },
            "marker": {
             "colorbar": {
              "outlinewidth": 0,
              "ticks": ""
             }
            },
            "type": "scatter3d"
           }
          ],
          "scattercarpet": [
           {
            "marker": {
             "colorbar": {
              "outlinewidth": 0,
              "ticks": ""
             }
            },
            "type": "scattercarpet"
           }
          ],
          "scattergeo": [
           {
            "marker": {
             "colorbar": {
              "outlinewidth": 0,
              "ticks": ""
             }
            },
            "type": "scattergeo"
           }
          ],
          "scattergl": [
           {
            "marker": {
             "colorbar": {
              "outlinewidth": 0,
              "ticks": ""
             }
            },
            "type": "scattergl"
           }
          ],
          "scattermap": [
           {
            "marker": {
             "colorbar": {
              "outlinewidth": 0,
              "ticks": ""
             }
            },
            "type": "scattermap"
           }
          ],
          "scattermapbox": [
           {
            "marker": {
             "colorbar": {
              "outlinewidth": 0,
              "ticks": ""
             }
            },
            "type": "scattermapbox"
           }
          ],
          "scatterpolar": [
           {
            "marker": {
             "colorbar": {
              "outlinewidth": 0,
              "ticks": ""
             }
            },
            "type": "scatterpolar"
           }
          ],
          "scatterpolargl": [
           {
            "marker": {
             "colorbar": {
              "outlinewidth": 0,
              "ticks": ""
             }
            },
            "type": "scatterpolargl"
           }
          ],
          "scatterternary": [
           {
            "marker": {
             "colorbar": {
              "outlinewidth": 0,
              "ticks": ""
             }
            },
            "type": "scatterternary"
           }
          ],
          "surface": [
           {
            "colorbar": {
             "outlinewidth": 0,
             "ticks": ""
            },
            "colorscale": [
             [
              0,
              "#0d0887"
             ],
             [
              0.1111111111111111,
              "#46039f"
             ],
             [
              0.2222222222222222,
              "#7201a8"
             ],
             [
              0.3333333333333333,
              "#9c179e"
             ],
             [
              0.4444444444444444,
              "#bd3786"
             ],
             [
              0.5555555555555556,
              "#d8576b"
             ],
             [
              0.6666666666666666,
              "#ed7953"
             ],
             [
              0.7777777777777778,
              "#fb9f3a"
             ],
             [
              0.8888888888888888,
              "#fdca26"
             ],
             [
              1,
              "#f0f921"
             ]
            ],
            "type": "surface"
           }
          ],
          "table": [
           {
            "cells": {
             "fill": {
              "color": "#EBF0F8"
             },
             "line": {
              "color": "white"
             }
            },
            "header": {
             "fill": {
              "color": "#C8D4E3"
             },
             "line": {
              "color": "white"
             }
            },
            "type": "table"
           }
          ]
         },
         "layout": {
          "annotationdefaults": {
           "arrowcolor": "#2a3f5f",
           "arrowhead": 0,
           "arrowwidth": 1
          },
          "autotypenumbers": "strict",
          "coloraxis": {
           "colorbar": {
            "outlinewidth": 0,
            "ticks": ""
           }
          },
          "colorscale": {
           "diverging": [
            [
             0,
             "#8e0152"
            ],
            [
             0.1,
             "#c51b7d"
            ],
            [
             0.2,
             "#de77ae"
            ],
            [
             0.3,
             "#f1b6da"
            ],
            [
             0.4,
             "#fde0ef"
            ],
            [
             0.5,
             "#f7f7f7"
            ],
            [
             0.6,
             "#e6f5d0"
            ],
            [
             0.7,
             "#b8e186"
            ],
            [
             0.8,
             "#7fbc41"
            ],
            [
             0.9,
             "#4d9221"
            ],
            [
             1,
             "#276419"
            ]
           ],
           "sequential": [
            [
             0,
             "#0d0887"
            ],
            [
             0.1111111111111111,
             "#46039f"
            ],
            [
             0.2222222222222222,
             "#7201a8"
            ],
            [
             0.3333333333333333,
             "#9c179e"
            ],
            [
             0.4444444444444444,
             "#bd3786"
            ],
            [
             0.5555555555555556,
             "#d8576b"
            ],
            [
             0.6666666666666666,
             "#ed7953"
            ],
            [
             0.7777777777777778,
             "#fb9f3a"
            ],
            [
             0.8888888888888888,
             "#fdca26"
            ],
            [
             1,
             "#f0f921"
            ]
           ],
           "sequentialminus": [
            [
             0,
             "#0d0887"
            ],
            [
             0.1111111111111111,
             "#46039f"
            ],
            [
             0.2222222222222222,
             "#7201a8"
            ],
            [
             0.3333333333333333,
             "#9c179e"
            ],
            [
             0.4444444444444444,
             "#bd3786"
            ],
            [
             0.5555555555555556,
             "#d8576b"
            ],
            [
             0.6666666666666666,
             "#ed7953"
            ],
            [
             0.7777777777777778,
             "#fb9f3a"
            ],
            [
             0.8888888888888888,
             "#fdca26"
            ],
            [
             1,
             "#f0f921"
            ]
           ]
          },
          "colorway": [
           "#636efa",
           "#EF553B",
           "#00cc96",
           "#ab63fa",
           "#FFA15A",
           "#19d3f3",
           "#FF6692",
           "#B6E880",
           "#FF97FF",
           "#FECB52"
          ],
          "font": {
           "color": "#2a3f5f"
          },
          "geo": {
           "bgcolor": "white",
           "lakecolor": "white",
           "landcolor": "#E5ECF6",
           "showlakes": true,
           "showland": true,
           "subunitcolor": "white"
          },
          "hoverlabel": {
           "align": "left"
          },
          "hovermode": "closest",
          "mapbox": {
           "style": "light"
          },
          "paper_bgcolor": "white",
          "plot_bgcolor": "#E5ECF6",
          "polar": {
           "angularaxis": {
            "gridcolor": "white",
            "linecolor": "white",
            "ticks": ""
           },
           "bgcolor": "#E5ECF6",
           "radialaxis": {
            "gridcolor": "white",
            "linecolor": "white",
            "ticks": ""
           }
          },
          "scene": {
           "xaxis": {
            "backgroundcolor": "#E5ECF6",
            "gridcolor": "white",
            "gridwidth": 2,
            "linecolor": "white",
            "showbackground": true,
            "ticks": "",
            "zerolinecolor": "white"
           },
           "yaxis": {
            "backgroundcolor": "#E5ECF6",
            "gridcolor": "white",
            "gridwidth": 2,
            "linecolor": "white",
            "showbackground": true,
            "ticks": "",
            "zerolinecolor": "white"
           },
           "zaxis": {
            "backgroundcolor": "#E5ECF6",
            "gridcolor": "white",
            "gridwidth": 2,
            "linecolor": "white",
            "showbackground": true,
            "ticks": "",
            "zerolinecolor": "white"
           }
          },
          "shapedefaults": {
           "line": {
            "color": "#2a3f5f"
           }
          },
          "ternary": {
           "aaxis": {
            "gridcolor": "white",
            "linecolor": "white",
            "ticks": ""
           },
           "baxis": {
            "gridcolor": "white",
            "linecolor": "white",
            "ticks": ""
           },
           "bgcolor": "#E5ECF6",
           "caxis": {
            "gridcolor": "white",
            "linecolor": "white",
            "ticks": ""
           }
          },
          "title": {
           "x": 0.05
          },
          "xaxis": {
           "automargin": true,
           "gridcolor": "white",
           "linecolor": "white",
           "ticks": "",
           "title": {
            "standoff": 15
           },
           "zerolinecolor": "white",
           "zerolinewidth": 2
          },
          "yaxis": {
           "automargin": true,
           "gridcolor": "white",
           "linecolor": "white",
           "ticks": "",
           "title": {
            "standoff": 15
           },
           "zerolinecolor": "white",
           "zerolinewidth": 2
          }
         }
        },
        "xaxis": {
         "tickmode": "array",
         "ticktext": [
          0,
          1,
          2,
          3,
          4,
          5,
          6,
          7,
          8,
          9,
          10,
          11,
          12,
          13,
          14,
          15,
          16,
          17,
          18,
          19,
          20,
          21,
          22,
          23,
          24,
          25,
          26,
          27
         ],
         "tickvals": [
          0,
          1,
          2,
          3,
          4,
          5,
          6,
          7,
          8,
          9,
          10,
          11,
          12,
          13,
          14,
          15,
          16,
          17,
          18,
          19,
          20,
          21,
          22,
          23,
          24,
          25,
          26,
          27
         ],
         "title": {
          "text": "Problem Istance (ID)"
         }
        },
        "yaxis": {
         "range": [
          -0.05,
          120
         ],
         "ticktext": [
          "0%",
          "10%",
          "20%",
          "30%",
          "40%",
          "50%",
          "60%",
          "70%",
          "80%",
          "90%",
          "100%",
          "110%",
          "120%"
         ],
         "tickvals": [
          0,
          10,
          20,
          30,
          40,
          50,
          60,
          70,
          80,
          90,
          100,
          110,
          120
         ],
         "title": {
          "text": "Gap"
         }
        }
       }
      }
     },
     "metadata": {},
     "output_type": "display_data"
    }
   ],
   "source": [
    "import plotly.graph_objects as go\n",
    "\n",
    "# Clean data\n",
    "max_gap = 120\n",
    "gapcleaned_df0 = df0[df0['gap'] < max_gap]\n",
    "gapcleaned_df1 = df1[df1['gap'] < max_gap]\n",
    "gapcleaned_df2 = df2[df2['gap'] < max_gap]\n",
    "\n",
    "# Define a small offset value for visibility\n",
    "offset = 1  # Adjust this based on your data range\n",
    "\n",
    "# Function to add offset to zeros but keep original text\n",
    "def add_offset_to_zeros(values):\n",
    "    display_values = values.copy()  # For visual height\n",
    "    text_values = values.copy()     # For labels/text\n",
    "    display_values[display_values <= 0.05] = offset\n",
    "    return display_values, text_values\n",
    "\n",
    "# Create bar plot with visible zeros\n",
    "hovertemplate_text='Model: %{customdata[0]}<br>ID: %{x}<br>Gap: %{text}%<br>Nodes: %{customdata[1]}<br>Runtime: %{customdata[2]} s<extra></extra>'\n",
    "fig = go.Figure(data=[\n",
    "    go.Bar(\n",
    "        name='Model 0', \n",
    "        x=gapcleaned_df0['ID'], \n",
    "        y=add_offset_to_zeros(gapcleaned_df0['gap'])[0],\n",
    "        text=gapcleaned_df0['gap'].apply(lambda x: f'{x:.2f}'),  # Format text to 2 decimal places\n",
    "        # Create a 2D array with multiple columns\n",
    "        customdata=np.dstack((gapcleaned_df0['model'], gapcleaned_df0['nodes'], gapcleaned_df0['total_time'].apply(lambda x: f'{x:.2f}')))[0],\n",
    "        textposition='none',\n",
    "        hovertemplate=hovertemplate_text\n",
    "    ),\n",
    "    go.Bar(\n",
    "        name='Model 1', \n",
    "        x=gapcleaned_df1['ID'], \n",
    "        y=add_offset_to_zeros(gapcleaned_df1['gap'])[0],\n",
    "        text=gapcleaned_df1['gap'].apply(lambda x: f'{x:.2f}'),\n",
    "        customdata=np.dstack((gapcleaned_df1['model'], gapcleaned_df1['nodes'], gapcleaned_df1['total_time'].apply(lambda x: f'{x:.2f}')))[0],\n",
    "        textposition='none',\n",
    "        hovertemplate=hovertemplate_text\n",
    "    ),\n",
    "    go.Bar(\n",
    "        name='Model 2', \n",
    "        x=gapcleaned_df2['ID'], \n",
    "        y=add_offset_to_zeros(gapcleaned_df2['gap'])[0],\n",
    "        text=gapcleaned_df2['gap'].apply(lambda x: f'{x:.2f}'),\n",
    "        customdata=np.dstack((gapcleaned_df2['model'], gapcleaned_df2['nodes'], gapcleaned_df2['total_time'].apply(lambda x: f'{x:.2f}')))[0],\n",
    "        textposition='none',\n",
    "        hovertemplate=hovertemplate_text\n",
    "    ),\n",
    "])\n",
    "\n",
    "# Add a subtle visual indication for zero values\n",
    "fig.update_layout(\n",
    "    autosize=True,   # let the container size drive the plot\n",
    "    margin=dict(l=10, r=10, t=10, b=10),    # width=1000,\n",
    "    # height=600,\n",
    "    barmode='group',\n",
    "    yaxis = dict(\n",
    "        range=[-0.05, max_gap],\n",
    "        title = 'Gap',\n",
    "        tickvals = list(range(0, 121, 10)),\n",
    "        ticktext = [str(i) + '%' for i in range(0, 121, 10)],\n",
    "    ),\n",
    "    xaxis = dict(\n",
    "        title = 'Problem Istance (ID)',\n",
    "        tickmode = 'array',\n",
    "        tickvals = list(range(0, 28)),\n",
    "        ticktext = list(range(0, 28)),\n",
    "    ),\n",
    "    legend=dict(\n",
    "        x=0.99,\n",
    "        y=0.99,\n",
    "        xanchor='right',\n",
    "        yanchor='top',\n",
    "        bgcolor='rgba(255, 255, 255, 0.5)'\n",
    "    )\n",
    ")\n",
    "\n",
    "fig.show()\n",
    "\n",
    "# # # Save as HTML\n",
    "# div_schedule = plot(\n",
    "#     fig, include_plotlyjs=True, config={\"responsive\": True}, output_type=\"div\"\n",
    "# )\n",
    "# # write div snippet to file\n",
    "# with open('../docs/images/results-gap.html', 'w') as f:\n",
    "#     f.write(div_schedule)"
   ]
  },
  {
   "cell_type": "code",
   "execution_count": 10,
   "id": "d653a424",
   "metadata": {},
   "outputs": [
    {
     "data": {
      "application/vnd.plotly.v1+json": {
       "config": {
        "plotlyServerURL": "https://plot.ly"
       },
       "data": [
        {
         "customdata": [
          [
           0,
           3,
           "0.18"
          ],
          [
           0,
           529,
           "8.00"
          ],
          [
           0,
           116,
           "9.50"
          ],
          [
           0,
           680,
           "1.75"
          ],
          [
           0,
           12818,
           "300.00"
          ],
          [
           0,
           858,
           "300.01"
          ],
          [
           0,
           72826,
           "300.00"
          ],
          [
           0,
           1059,
           "300.01"
          ],
          [
           0,
           685,
           "300.01"
          ],
          [
           0,
           36,
           "0.93"
          ],
          [
           0,
           3,
           "5.76"
          ],
          [
           0,
           98,
           "33.53"
          ],
          [
           0,
           96,
           "2.26"
          ],
          [
           0,
           4081,
           "300.03"
          ],
          [
           0,
           1077,
           "300.02"
          ],
          [
           0,
           1231,
           "13.93"
          ],
          [
           0,
           848,
           "300.01"
          ],
          [
           0,
           402,
           "300.03"
          ],
          [
           0,
           3,
           "5.93"
          ],
          [
           0,
           3,
           "55.97"
          ],
          [
           0,
           3,
           "162.09"
          ],
          [
           0,
           90,
           "14.08"
          ],
          [
           0,
           243,
           "300.29"
          ],
          [
           0,
           1,
           "300.03"
          ],
          [
           0,
           14439,
           "300.04"
          ],
          [
           0,
           1,
           "300.01"
          ],
          [
           0,
           1,
           "300.03"
          ]
         ],
         "hovertemplate": "Model: %{customdata[0]}<br>ID: %{x}<br>Gap: %{text}%<br>Nodes: %{customdata[1]}<br>Runtime: %{customdata[2]} s<extra></extra>",
         "name": "Model 0",
         "text": [
          "0.00",
          "0.00",
          "0.00",
          "0.00",
          "inf",
          "inf",
          "229.07",
          "inf",
          "inf",
          "0.00",
          "0.00",
          "0.00",
          "0.00",
          "9.30",
          "inf",
          "0.00",
          "inf",
          "inf",
          "0.00",
          "0.00",
          "0.00",
          "0.00",
          "0.58",
          "inf",
          "0.14",
          "inf",
          "inf"
         ],
         "textposition": "none",
         "type": "bar",
         "x": {
          "bdata": "AQIDBAUGBwgJCgsMDQ4PEBESExQVFhcYGRob",
          "dtype": "i1"
         },
         "y": {
          "bdata": "AAAAAAAACEAAAAAAAIiAQAAAAAAAAF1AAAAAAABAhUAAAAAAAAnJQAAAAAAA0IpAAAAAAKDH8UAAAAAAAIyQQAAAAAAAaIVAAAAAAAAAQkAAAAAAAAAIQAAAAAAAgFhAAAAAAAAAWEAAAAAAAOKvQAAAAAAA1JBAAAAAAAA8k0AAAAAAAICKQAAAAAAAIHlAAAAAAAAACEAAAAAAAAAIQAAAAAAAAAhAAAAAAACAVkAAAAAAAGBuQAAAAAAAAPA/AAAAAIAzzEAAAAAAAADwPwAAAAAAAPA/",
          "dtype": "f8"
         }
        },
        {
         "customdata": [
          [
           1,
           3,
           "13.55"
          ],
          [
           1,
           697,
           "82.89"
          ],
          [
           1,
           84,
           "128.36"
          ],
          [
           1,
           711,
           "19.91"
          ],
          [
           1,
           14789,
           "393.59"
          ],
          [
           1,
           973,
           "420.10"
          ],
          [
           1,
           77956,
           "317.73"
          ],
          [
           1,
           1004,
           "413.03"
          ],
          [
           1,
           627,
           "420.53"
          ],
          [
           1,
           43,
           "82.36"
          ],
          [
           1,
           3,
           "126.23"
          ],
          [
           1,
           66,
           "152.16"
          ],
          [
           1,
           439,
           "106.50"
          ],
          [
           1,
           4452,
           "420.38"
          ],
          [
           1,
           1228,
           "420.68"
          ],
          [
           1,
           1193,
           "116.69"
          ],
          [
           1,
           788,
           "420.48"
          ],
          [
           1,
           306,
           "421.02"
          ],
          [
           1,
           3,
           "126.11"
          ],
          [
           1,
           3,
           "178.43"
          ],
          [
           1,
           3,
           "284.78"
          ],
          [
           1,
           50,
           "132.32"
          ],
          [
           1,
           302,
           "423.33"
          ],
          [
           1,
           1,
           "427.22"
          ],
          [
           1,
           17182,
           "420.09"
          ],
          [
           1,
           1,
           "423.46"
          ],
          [
           1,
           1,
           "425.08"
          ]
         ],
         "hovertemplate": "Model: %{customdata[0]}<br>ID: %{x}<br>Gap: %{text}%<br>Nodes: %{customdata[1]}<br>Runtime: %{customdata[2]} s<extra></extra>",
         "name": "Model 1",
         "text": [
          "0.00",
          "0.00",
          "0.00",
          "0.00",
          "47.99",
          "88.63",
          "223.74",
          "103.27",
          "117.66",
          "0.00",
          "0.00",
          "0.00",
          "0.00",
          "9.71",
          "22.45",
          "0.00",
          "77.16",
          "97.07",
          "0.00",
          "0.00",
          "0.00",
          "0.00",
          "0.55",
          "23487.83",
          "0.86",
          "13290.34",
          "12452.75"
         ],
         "textposition": "none",
         "type": "bar",
         "x": {
          "bdata": "AQIDBAUGBwgJCgsMDQ4PEBESExQVFhcYGRob",
          "dtype": "i1"
         },
         "y": {
          "bdata": "AAAAAAAACEAAAAAAAMiFQAAAAAAAAFVAAAAAAAA4hkAAAAAAgOLMQAAAAAAAaI5AAAAAAEAI80AAAAAAAGCPQAAAAAAAmINAAAAAAACARUAAAAAAAAAIQAAAAAAAgFBAAAAAAABwe0AAAAAAAGSxQAAAAAAAMJNAAAAAAACkkkAAAAAAAKCIQAAAAAAAIHNAAAAAAAAACEAAAAAAAAAIQAAAAAAAAAhAAAAAAAAASUAAAAAAAOByQAAAAAAAAPA/AAAAAIDH0EAAAAAAAADwPwAAAAAAAPA/",
          "dtype": "f8"
         }
        },
        {
         "customdata": [
          [
           2,
           1,
           "13.50"
          ],
          [
           2,
           1,
           "79.73"
          ],
          [
           2,
           57,
           "123.62"
          ],
          [
           2,
           312,
           "18.94"
          ],
          [
           2,
           552,
           "115.14"
          ],
          [
           2,
           16,
           "420.20"
          ],
          [
           2,
           8033,
           "58.30"
          ],
          [
           2,
           389,
           "410.87"
          ],
          [
           2,
           1,
           "420.22"
          ],
          [
           2,
           1,
           "80.94"
          ],
          [
           2,
           1,
           "120.84"
          ],
          [
           2,
           1,
           "122.93"
          ],
          [
           2,
           1,
           "94.74"
          ],
          [
           2,
           1767,
           "138.50"
          ],
          [
           2,
           1,
           "161.40"
          ],
          [
           2,
           1,
           "102.32"
          ],
          [
           2,
           684,
           "420.58"
          ],
          [
           2,
           1,
           "420.67"
          ],
          [
           2,
           1,
           "121.07"
          ],
          [
           2,
           1,
           "127.27"
          ],
          [
           2,
           1,
           "136.04"
          ],
          [
           2,
           1,
           "121.49"
          ],
          [
           2,
           1,
           "130.34"
          ],
          [
           2,
           1,
           "151.59"
          ],
          [
           2,
           1,
           "122.00"
          ],
          [
           2,
           3013,
           "364.31"
          ],
          [
           2,
           828,
           "388.34"
          ]
         ],
         "hovertemplate": "Model: %{customdata[0]}<br>ID: %{x}<br>Gap: %{text}%<br>Nodes: %{customdata[1]}<br>Runtime: %{customdata[2]} s<extra></extra>",
         "name": "Model 2",
         "text": [
          "0.00",
          "0.00",
          "0.00",
          "0.00",
          "0.00",
          "5.45",
          "0.00",
          "3.21",
          "96.72",
          "0.00",
          "0.00",
          "0.00",
          "0.00",
          "0.00",
          "0.00",
          "0.01",
          "0.57",
          "2.66",
          "0.00",
          "0.00",
          "0.00",
          "0.00",
          "0.00",
          "0.01",
          "0.01",
          "0.01",
          "0.01"
         ],
         "textposition": "none",
         "type": "bar",
         "x": {
          "bdata": "AQIDBAUGBwgJCgsMDQ4PEBESExQVFhcYGRob",
          "dtype": "i1"
         },
         "y": {
          "bdata": "AAAAAAAA8D8AAAAAAADwPwAAAAAAgExAAAAAAACAc0AAAAAAAECBQAAAAAAAADBAAAAAAABhv0AAAAAAAFB4QAAAAAAAAPA/AAAAAAAA8D8AAAAAAADwPwAAAAAAAPA/AAAAAAAA8D8AAAAAAJybQAAAAAAAAPA/AAAAAAAA8D8AAAAAAGCFQAAAAAAAAPA/AAAAAAAA8D8AAAAAAADwPwAAAAAAAPA/AAAAAAAA8D8AAAAAAADwPwAAAAAAAPA/AAAAAAAA8D8AAAAAAIqnQAAAAAAA4IlA",
          "dtype": "f8"
         }
        }
       ],
       "layout": {
        "autosize": true,
        "barmode": "group",
        "legend": {
         "bgcolor": "rgba(255, 255, 255, 0.5)",
         "x": 0.01,
         "xanchor": "left",
         "y": 0.99,
         "yanchor": "top"
        },
        "margin": {
         "b": 10,
         "l": 10,
         "r": 10,
         "t": 10
        },
        "template": {
         "data": {
          "bar": [
           {
            "error_x": {
             "color": "#2a3f5f"
            },
            "error_y": {
             "color": "#2a3f5f"
            },
            "marker": {
             "line": {
              "color": "#E5ECF6",
              "width": 0.5
             },
             "pattern": {
              "fillmode": "overlay",
              "size": 10,
              "solidity": 0.2
             }
            },
            "type": "bar"
           }
          ],
          "barpolar": [
           {
            "marker": {
             "line": {
              "color": "#E5ECF6",
              "width": 0.5
             },
             "pattern": {
              "fillmode": "overlay",
              "size": 10,
              "solidity": 0.2
             }
            },
            "type": "barpolar"
           }
          ],
          "carpet": [
           {
            "aaxis": {
             "endlinecolor": "#2a3f5f",
             "gridcolor": "white",
             "linecolor": "white",
             "minorgridcolor": "white",
             "startlinecolor": "#2a3f5f"
            },
            "baxis": {
             "endlinecolor": "#2a3f5f",
             "gridcolor": "white",
             "linecolor": "white",
             "minorgridcolor": "white",
             "startlinecolor": "#2a3f5f"
            },
            "type": "carpet"
           }
          ],
          "choropleth": [
           {
            "colorbar": {
             "outlinewidth": 0,
             "ticks": ""
            },
            "type": "choropleth"
           }
          ],
          "contour": [
           {
            "colorbar": {
             "outlinewidth": 0,
             "ticks": ""
            },
            "colorscale": [
             [
              0,
              "#0d0887"
             ],
             [
              0.1111111111111111,
              "#46039f"
             ],
             [
              0.2222222222222222,
              "#7201a8"
             ],
             [
              0.3333333333333333,
              "#9c179e"
             ],
             [
              0.4444444444444444,
              "#bd3786"
             ],
             [
              0.5555555555555556,
              "#d8576b"
             ],
             [
              0.6666666666666666,
              "#ed7953"
             ],
             [
              0.7777777777777778,
              "#fb9f3a"
             ],
             [
              0.8888888888888888,
              "#fdca26"
             ],
             [
              1,
              "#f0f921"
             ]
            ],
            "type": "contour"
           }
          ],
          "contourcarpet": [
           {
            "colorbar": {
             "outlinewidth": 0,
             "ticks": ""
            },
            "type": "contourcarpet"
           }
          ],
          "heatmap": [
           {
            "colorbar": {
             "outlinewidth": 0,
             "ticks": ""
            },
            "colorscale": [
             [
              0,
              "#0d0887"
             ],
             [
              0.1111111111111111,
              "#46039f"
             ],
             [
              0.2222222222222222,
              "#7201a8"
             ],
             [
              0.3333333333333333,
              "#9c179e"
             ],
             [
              0.4444444444444444,
              "#bd3786"
             ],
             [
              0.5555555555555556,
              "#d8576b"
             ],
             [
              0.6666666666666666,
              "#ed7953"
             ],
             [
              0.7777777777777778,
              "#fb9f3a"
             ],
             [
              0.8888888888888888,
              "#fdca26"
             ],
             [
              1,
              "#f0f921"
             ]
            ],
            "type": "heatmap"
           }
          ],
          "histogram": [
           {
            "marker": {
             "pattern": {
              "fillmode": "overlay",
              "size": 10,
              "solidity": 0.2
             }
            },
            "type": "histogram"
           }
          ],
          "histogram2d": [
           {
            "colorbar": {
             "outlinewidth": 0,
             "ticks": ""
            },
            "colorscale": [
             [
              0,
              "#0d0887"
             ],
             [
              0.1111111111111111,
              "#46039f"
             ],
             [
              0.2222222222222222,
              "#7201a8"
             ],
             [
              0.3333333333333333,
              "#9c179e"
             ],
             [
              0.4444444444444444,
              "#bd3786"
             ],
             [
              0.5555555555555556,
              "#d8576b"
             ],
             [
              0.6666666666666666,
              "#ed7953"
             ],
             [
              0.7777777777777778,
              "#fb9f3a"
             ],
             [
              0.8888888888888888,
              "#fdca26"
             ],
             [
              1,
              "#f0f921"
             ]
            ],
            "type": "histogram2d"
           }
          ],
          "histogram2dcontour": [
           {
            "colorbar": {
             "outlinewidth": 0,
             "ticks": ""
            },
            "colorscale": [
             [
              0,
              "#0d0887"
             ],
             [
              0.1111111111111111,
              "#46039f"
             ],
             [
              0.2222222222222222,
              "#7201a8"
             ],
             [
              0.3333333333333333,
              "#9c179e"
             ],
             [
              0.4444444444444444,
              "#bd3786"
             ],
             [
              0.5555555555555556,
              "#d8576b"
             ],
             [
              0.6666666666666666,
              "#ed7953"
             ],
             [
              0.7777777777777778,
              "#fb9f3a"
             ],
             [
              0.8888888888888888,
              "#fdca26"
             ],
             [
              1,
              "#f0f921"
             ]
            ],
            "type": "histogram2dcontour"
           }
          ],
          "mesh3d": [
           {
            "colorbar": {
             "outlinewidth": 0,
             "ticks": ""
            },
            "type": "mesh3d"
           }
          ],
          "parcoords": [
           {
            "line": {
             "colorbar": {
              "outlinewidth": 0,
              "ticks": ""
             }
            },
            "type": "parcoords"
           }
          ],
          "pie": [
           {
            "automargin": true,
            "type": "pie"
           }
          ],
          "scatter": [
           {
            "fillpattern": {
             "fillmode": "overlay",
             "size": 10,
             "solidity": 0.2
            },
            "type": "scatter"
           }
          ],
          "scatter3d": [
           {
            "line": {
             "colorbar": {
              "outlinewidth": 0,
              "ticks": ""
             }
            },
            "marker": {
             "colorbar": {
              "outlinewidth": 0,
              "ticks": ""
             }
            },
            "type": "scatter3d"
           }
          ],
          "scattercarpet": [
           {
            "marker": {
             "colorbar": {
              "outlinewidth": 0,
              "ticks": ""
             }
            },
            "type": "scattercarpet"
           }
          ],
          "scattergeo": [
           {
            "marker": {
             "colorbar": {
              "outlinewidth": 0,
              "ticks": ""
             }
            },
            "type": "scattergeo"
           }
          ],
          "scattergl": [
           {
            "marker": {
             "colorbar": {
              "outlinewidth": 0,
              "ticks": ""
             }
            },
            "type": "scattergl"
           }
          ],
          "scattermap": [
           {
            "marker": {
             "colorbar": {
              "outlinewidth": 0,
              "ticks": ""
             }
            },
            "type": "scattermap"
           }
          ],
          "scattermapbox": [
           {
            "marker": {
             "colorbar": {
              "outlinewidth": 0,
              "ticks": ""
             }
            },
            "type": "scattermapbox"
           }
          ],
          "scatterpolar": [
           {
            "marker": {
             "colorbar": {
              "outlinewidth": 0,
              "ticks": ""
             }
            },
            "type": "scatterpolar"
           }
          ],
          "scatterpolargl": [
           {
            "marker": {
             "colorbar": {
              "outlinewidth": 0,
              "ticks": ""
             }
            },
            "type": "scatterpolargl"
           }
          ],
          "scatterternary": [
           {
            "marker": {
             "colorbar": {
              "outlinewidth": 0,
              "ticks": ""
             }
            },
            "type": "scatterternary"
           }
          ],
          "surface": [
           {
            "colorbar": {
             "outlinewidth": 0,
             "ticks": ""
            },
            "colorscale": [
             [
              0,
              "#0d0887"
             ],
             [
              0.1111111111111111,
              "#46039f"
             ],
             [
              0.2222222222222222,
              "#7201a8"
             ],
             [
              0.3333333333333333,
              "#9c179e"
             ],
             [
              0.4444444444444444,
              "#bd3786"
             ],
             [
              0.5555555555555556,
              "#d8576b"
             ],
             [
              0.6666666666666666,
              "#ed7953"
             ],
             [
              0.7777777777777778,
              "#fb9f3a"
             ],
             [
              0.8888888888888888,
              "#fdca26"
             ],
             [
              1,
              "#f0f921"
             ]
            ],
            "type": "surface"
           }
          ],
          "table": [
           {
            "cells": {
             "fill": {
              "color": "#EBF0F8"
             },
             "line": {
              "color": "white"
             }
            },
            "header": {
             "fill": {
              "color": "#C8D4E3"
             },
             "line": {
              "color": "white"
             }
            },
            "type": "table"
           }
          ]
         },
         "layout": {
          "annotationdefaults": {
           "arrowcolor": "#2a3f5f",
           "arrowhead": 0,
           "arrowwidth": 1
          },
          "autotypenumbers": "strict",
          "coloraxis": {
           "colorbar": {
            "outlinewidth": 0,
            "ticks": ""
           }
          },
          "colorscale": {
           "diverging": [
            [
             0,
             "#8e0152"
            ],
            [
             0.1,
             "#c51b7d"
            ],
            [
             0.2,
             "#de77ae"
            ],
            [
             0.3,
             "#f1b6da"
            ],
            [
             0.4,
             "#fde0ef"
            ],
            [
             0.5,
             "#f7f7f7"
            ],
            [
             0.6,
             "#e6f5d0"
            ],
            [
             0.7,
             "#b8e186"
            ],
            [
             0.8,
             "#7fbc41"
            ],
            [
             0.9,
             "#4d9221"
            ],
            [
             1,
             "#276419"
            ]
           ],
           "sequential": [
            [
             0,
             "#0d0887"
            ],
            [
             0.1111111111111111,
             "#46039f"
            ],
            [
             0.2222222222222222,
             "#7201a8"
            ],
            [
             0.3333333333333333,
             "#9c179e"
            ],
            [
             0.4444444444444444,
             "#bd3786"
            ],
            [
             0.5555555555555556,
             "#d8576b"
            ],
            [
             0.6666666666666666,
             "#ed7953"
            ],
            [
             0.7777777777777778,
             "#fb9f3a"
            ],
            [
             0.8888888888888888,
             "#fdca26"
            ],
            [
             1,
             "#f0f921"
            ]
           ],
           "sequentialminus": [
            [
             0,
             "#0d0887"
            ],
            [
             0.1111111111111111,
             "#46039f"
            ],
            [
             0.2222222222222222,
             "#7201a8"
            ],
            [
             0.3333333333333333,
             "#9c179e"
            ],
            [
             0.4444444444444444,
             "#bd3786"
            ],
            [
             0.5555555555555556,
             "#d8576b"
            ],
            [
             0.6666666666666666,
             "#ed7953"
            ],
            [
             0.7777777777777778,
             "#fb9f3a"
            ],
            [
             0.8888888888888888,
             "#fdca26"
            ],
            [
             1,
             "#f0f921"
            ]
           ]
          },
          "colorway": [
           "#636efa",
           "#EF553B",
           "#00cc96",
           "#ab63fa",
           "#FFA15A",
           "#19d3f3",
           "#FF6692",
           "#B6E880",
           "#FF97FF",
           "#FECB52"
          ],
          "font": {
           "color": "#2a3f5f"
          },
          "geo": {
           "bgcolor": "white",
           "lakecolor": "white",
           "landcolor": "#E5ECF6",
           "showlakes": true,
           "showland": true,
           "subunitcolor": "white"
          },
          "hoverlabel": {
           "align": "left"
          },
          "hovermode": "closest",
          "mapbox": {
           "style": "light"
          },
          "paper_bgcolor": "white",
          "plot_bgcolor": "#E5ECF6",
          "polar": {
           "angularaxis": {
            "gridcolor": "white",
            "linecolor": "white",
            "ticks": ""
           },
           "bgcolor": "#E5ECF6",
           "radialaxis": {
            "gridcolor": "white",
            "linecolor": "white",
            "ticks": ""
           }
          },
          "scene": {
           "xaxis": {
            "backgroundcolor": "#E5ECF6",
            "gridcolor": "white",
            "gridwidth": 2,
            "linecolor": "white",
            "showbackground": true,
            "ticks": "",
            "zerolinecolor": "white"
           },
           "yaxis": {
            "backgroundcolor": "#E5ECF6",
            "gridcolor": "white",
            "gridwidth": 2,
            "linecolor": "white",
            "showbackground": true,
            "ticks": "",
            "zerolinecolor": "white"
           },
           "zaxis": {
            "backgroundcolor": "#E5ECF6",
            "gridcolor": "white",
            "gridwidth": 2,
            "linecolor": "white",
            "showbackground": true,
            "ticks": "",
            "zerolinecolor": "white"
           }
          },
          "shapedefaults": {
           "line": {
            "color": "#2a3f5f"
           }
          },
          "ternary": {
           "aaxis": {
            "gridcolor": "white",
            "linecolor": "white",
            "ticks": ""
           },
           "baxis": {
            "gridcolor": "white",
            "linecolor": "white",
            "ticks": ""
           },
           "bgcolor": "#E5ECF6",
           "caxis": {
            "gridcolor": "white",
            "linecolor": "white",
            "ticks": ""
           }
          },
          "title": {
           "x": 0.05
          },
          "xaxis": {
           "automargin": true,
           "gridcolor": "white",
           "linecolor": "white",
           "ticks": "",
           "title": {
            "standoff": 15
           },
           "zerolinecolor": "white",
           "zerolinewidth": 2
          },
          "yaxis": {
           "automargin": true,
           "gridcolor": "white",
           "linecolor": "white",
           "ticks": "",
           "title": {
            "standoff": 15
           },
           "zerolinecolor": "white",
           "zerolinewidth": 2
          }
         }
        },
        "xaxis": {
         "tickmode": "array",
         "ticktext": [
          0,
          1,
          2,
          3,
          4,
          5,
          6,
          7,
          8,
          9,
          10,
          11,
          12,
          13,
          14,
          15,
          16,
          17,
          18,
          19,
          20,
          21,
          22,
          23,
          24,
          25,
          26,
          27
         ],
         "tickvals": [
          0,
          1,
          2,
          3,
          4,
          5,
          6,
          7,
          8,
          9,
          10,
          11,
          12,
          13,
          14,
          15,
          16,
          17,
          18,
          19,
          20,
          21,
          22,
          23,
          24,
          25,
          26,
          27
         ],
         "title": {
          "text": "Problem Istance (ID)"
         }
        },
        "yaxis": {
         "title": {
          "text": "Nodes"
         }
        }
       }
      }
     },
     "metadata": {},
     "output_type": "display_data"
    }
   ],
   "source": [
    "import plotly.graph_objects as go\n",
    "\n",
    "# Create bar plot with visible zeros\n",
    "hovertemplate_text='Model: %{customdata[0]}<br>ID: %{x}<br>Gap: %{text}%<br>Nodes: %{customdata[1]}<br>Runtime: %{customdata[2]} s<extra></extra>'\n",
    "fig = go.Figure(data=[\n",
    "    go.Bar(\n",
    "        name='Model 0', \n",
    "        x=df0['ID'], \n",
    "        y=df0['nodes'],\n",
    "        text=df0['gap'].apply(lambda x: f'{x:.2f}'),  # Format text to 2 decimal places\n",
    "        # Create a 2D array with multiple columns\n",
    "        customdata=np.dstack((df0['model'], df0['nodes'], df0['total_time'].apply(lambda x: f'{x:.2f}')))[0],\n",
    "        textposition='none',\n",
    "        hovertemplate=hovertemplate_text\n",
    "    ),\n",
    "    go.Bar(\n",
    "        name='Model 1', \n",
    "        x=df1['ID'], \n",
    "        y=df1['nodes'],\n",
    "        text=df1['gap'].apply(lambda x: f'{x:.2f}'),\n",
    "        customdata=np.dstack((df1['model'], df1['nodes'], df1['total_time'].apply(lambda x: f'{x:.2f}')))[0],\n",
    "        textposition='none',\n",
    "        hovertemplate=hovertemplate_text\n",
    "    ),\n",
    "    go.Bar(\n",
    "        name='Model 2', \n",
    "        x=df2['ID'], \n",
    "        y=df2['nodes'],\n",
    "        text=df2['gap'].apply(lambda x: f'{x:.2f}'),\n",
    "        customdata=np.dstack((df2['model'], df2['nodes'], df2['total_time'].apply(lambda x: f'{x:.2f}')))[0],\n",
    "        textposition='none',\n",
    "        hovertemplate=hovertemplate_text\n",
    "    ),\n",
    "])\n",
    "\n",
    "# Add a subtle visual indication for zero values\n",
    "fig.update_layout(\n",
    "    autosize=True,   # let the container size drive the plot\n",
    "    margin=dict(l=10, r=10, t=10, b=10),    # width=1000,\n",
    "    # width=1000,\n",
    "    # height=600,\n",
    "    barmode='group',\n",
    "    yaxis = dict(\n",
    "        title = 'Nodes',\n",
    "    ),\n",
    "    xaxis = dict(\n",
    "        title = 'Problem Istance (ID)',\n",
    "        tickmode = 'array',\n",
    "        tickvals = list(range(0, 28)),\n",
    "        ticktext = list(range(0, 28)),\n",
    "    ),\n",
    "    legend=dict(\n",
    "        x=0.01,\n",
    "        y=0.99,\n",
    "        xanchor='left',\n",
    "        yanchor='top',\n",
    "        bgcolor='rgba(255, 255, 255, 0.5)'\n",
    "    )\n",
    ")\n",
    "\n",
    "fig.show()\n",
    "\n",
    "# # Save as HTML\n",
    "div_schedule = plot(\n",
    "    fig, include_plotlyjs=True, config={\"responsive\": True}, output_type=\"div\"\n",
    ")\n",
    "# write div snippet to file\n",
    "with open('../docs/images/results-nodes.html', 'w') as f:\n",
    "    f.write(div_schedule)\n"
   ]
  },
  {
   "cell_type": "code",
   "execution_count": 11,
   "id": "c8403b29",
   "metadata": {},
   "outputs": [
    {
     "data": {
      "application/vnd.plotly.v1+json": {
       "config": {
        "plotlyServerURL": "https://plot.ly"
       },
       "data": [
        {
         "customdata": [
          [
           0,
           3,
           "0.18"
          ],
          [
           0,
           529,
           "8.00"
          ],
          [
           0,
           116,
           "9.50"
          ],
          [
           0,
           680,
           "1.75"
          ],
          [
           0,
           12818,
           "300.00"
          ],
          [
           0,
           858,
           "300.01"
          ],
          [
           0,
           72826,
           "300.00"
          ],
          [
           0,
           1059,
           "300.01"
          ],
          [
           0,
           685,
           "300.01"
          ],
          [
           0,
           36,
           "0.93"
          ],
          [
           0,
           3,
           "5.76"
          ],
          [
           0,
           98,
           "33.53"
          ],
          [
           0,
           96,
           "2.26"
          ],
          [
           0,
           4081,
           "300.03"
          ],
          [
           0,
           1077,
           "300.02"
          ],
          [
           0,
           1231,
           "13.93"
          ],
          [
           0,
           848,
           "300.01"
          ],
          [
           0,
           402,
           "300.03"
          ],
          [
           0,
           3,
           "5.93"
          ],
          [
           0,
           3,
           "55.97"
          ],
          [
           0,
           3,
           "162.09"
          ],
          [
           0,
           90,
           "14.08"
          ],
          [
           0,
           243,
           "300.29"
          ],
          [
           0,
           1,
           "300.03"
          ],
          [
           0,
           14439,
           "300.04"
          ],
          [
           0,
           1,
           "300.01"
          ],
          [
           0,
           1,
           "300.03"
          ]
         ],
         "hovertemplate": "Model: %{customdata[0]}<br>ID: %{x}<br>Gap: %{text}%<br>Nodes: %{customdata[1]}<br>Runtime: %{customdata[2]} s<extra></extra>",
         "name": "Model 0",
         "text": [
          "0.00",
          "0.00",
          "0.00",
          "0.00",
          "inf",
          "inf",
          "229.07",
          "inf",
          "inf",
          "0.00",
          "0.00",
          "0.00",
          "0.00",
          "9.30",
          "inf",
          "0.00",
          "inf",
          "inf",
          "0.00",
          "0.00",
          "0.00",
          "0.00",
          "0.58",
          "inf",
          "0.14",
          "inf",
          "inf"
         ],
         "textposition": "none",
         "type": "bar",
         "x": {
          "bdata": "AQIDBAUGBwgJCgsMDQ4PEBESExQVFhcYGRob",
          "dtype": "i1"
         },
         "y": {
          "bdata": "/////zGmxj8AAADg7wEgQAAAANDn/SJAAAAAgM/y+z8BAMCsA8ByQAAAQJIgwHJAAABAJQPAckAAAMBVF8ByQAAAgIQuwHJAAAAAgBC67T8AAACA2wgXQAAAAGzrw0BAAAAAYGMMAkAAAIBZhcByQAAAQBVawHJAAAAAwPjaK0AAAMCHNsByQAAAwBZ0wHJAAAAAgF66F0AAAAAWUPxLQAAAAAQEQ2RAAAAAyO0nLEAAAMChlMRyQAAAgCWIwHJAAACA0q3AckAAAACxNMByQAAAwJNzwHJA",
          "dtype": "f8"
         }
        },
        {
         "customdata": [
          [
           1,
           3,
           "0.17"
          ],
          [
           1,
           697,
           "7.69"
          ],
          [
           1,
           84,
           "8.24"
          ],
          [
           1,
           711,
           "1.82"
          ],
          [
           1,
           14789,
           "300.00"
          ],
          [
           1,
           973,
           "300.01"
          ],
          [
           1,
           77956,
           "300.00"
          ],
          [
           1,
           1004,
           "300.00"
          ],
          [
           1,
           627,
           "300.01"
          ],
          [
           1,
           43,
           "0.95"
          ],
          [
           1,
           3,
           "5.92"
          ],
          [
           1,
           66,
           "30.39"
          ],
          [
           1,
           439,
           "5.92"
          ],
          [
           1,
           4452,
           "300.04"
          ],
          [
           1,
           1228,
           "300.07"
          ],
          [
           1,
           1193,
           "14.44"
          ],
          [
           1,
           788,
           "300.02"
          ],
          [
           1,
           306,
           "300.07"
          ],
          [
           1,
           3,
           "5.84"
          ],
          [
           1,
           3,
           "58.08"
          ],
          [
           1,
           3,
           "164.54"
          ],
          [
           1,
           50,
           "12.25"
          ],
          [
           1,
           302,
           "300.24"
          ],
          [
           1,
           1,
           "300.70"
          ],
          [
           1,
           17182,
           "300.04"
          ],
          [
           1,
           1,
           "300.16"
          ],
          [
           1,
           1,
           "300.37"
          ]
         ],
         "hovertemplate": "Model: %{customdata[0]}<br>ID: %{x}<br>Gap: %{text}%<br>Nodes: %{customdata[1]}<br>Runtime: %{customdata[2]} s<extra></extra>",
         "name": "Model 1",
         "text": [
          "0.00",
          "0.00",
          "0.00",
          "0.00",
          "47.99",
          "88.63",
          "223.74",
          "103.27",
          "117.66",
          "0.00",
          "0.00",
          "0.00",
          "0.00",
          "9.71",
          "22.45",
          "0.00",
          "77.16",
          "97.07",
          "0.00",
          "0.00",
          "0.00",
          "0.00",
          "0.55",
          "23487.83",
          "0.86",
          "13290.34",
          "12452.75"
         ],
         "textposition": "none",
         "type": "bar",
         "x": {
          "bdata": "AQIDBAUGBwgJCgsMDQ4PEBESExQVFhcYGRob",
          "dtype": "i1"
         },
         "y": {
          "bdata": "AAAAAAZkxT8AAABQQb4eQAAAAOhPfCBAAAAAQAAa/T8BAABNBMByQAAAwJMlwHJAAABA3ADAckAAAMAcCsByQAAAwGA9wHJAAAAAADKD7j8AAAAQrrAXQAAAAIjYZD5AAAAAgACwF0AAAICQkMByQAAAwB8iwXJAAAAAsO7gLEAAAIAKT8ByQAAAAJQqwXJAAAAAgKJgF0AAAABWGQpNQAAAgKNWkWRA////j/5/KEAAAECI3MNyQAAAQF1Ay3JAAADANKnAckAAAEBwjcJyQAAAQJH1xXJA",
          "dtype": "f8"
         }
        },
        {
         "customdata": [
          [
           2,
           1,
           "0.03"
          ],
          [
           2,
           1,
           "0.32"
          ],
          [
           2,
           57,
           "3.51"
          ],
          [
           2,
           312,
           "0.72"
          ],
          [
           2,
           552,
           "22.85"
          ],
          [
           2,
           16,
           "300.06"
          ],
          [
           2,
           8033,
           "40.61"
          ],
          [
           2,
           389,
           "300.05"
          ],
          [
           2,
           1,
           "300.10"
          ],
          [
           2,
           1,
           "0.09"
          ],
          [
           2,
           1,
           "0.70"
          ],
          [
           2,
           1,
           "1.93"
          ],
          [
           2,
           1,
           "0.18"
          ],
          [
           2,
           1767,
           "18.42"
          ],
          [
           2,
           1,
           "40.59"
          ],
          [
           2,
           1,
           "0.85"
          ],
          [
           2,
           684,
           "300.06"
          ],
          [
           2,
           1,
           "300.12"
          ],
          [
           2,
           1,
           "0.86"
          ],
          [
           2,
           1,
           "6.36"
          ],
          [
           2,
           1,
           "13.91"
          ],
          [
           2,
           1,
           "0.90"
          ],
          [
           2,
           1,
           "8.17"
          ],
          [
           2,
           1,
           "25.21"
          ],
          [
           2,
           1,
           "1.34"
          ],
          [
           2,
           3013,
           "240.94"
          ],
          [
           2,
           828,
           "262.88"
          ]
         ],
         "hovertemplate": "Model: %{customdata[0]}<br>ID: %{x}<br>Gap: %{text}%<br>Nodes: %{customdata[1]}<br>Runtime: %{customdata[2]} s<extra></extra>",
         "name": "Model 2",
         "text": [
          "0.00",
          "0.00",
          "0.00",
          "0.00",
          "0.00",
          "5.45",
          "0.00",
          "3.21",
          "96.72",
          "0.00",
          "0.00",
          "0.00",
          "0.00",
          "0.00",
          "0.00",
          "0.01",
          "0.57",
          "2.66",
          "0.00",
          "0.00",
          "0.00",
          "0.00",
          "0.00",
          "0.01",
          "0.01",
          "0.01",
          "0.01"
         ],
         "textposition": "none",
         "type": "bar",
         "x": {
          "bdata": "AQIDBAUGBwgJCgsMDQ4PEBESExQVFhcYGRob",
          "dtype": "i1"
         },
         "y": {
          "bdata": "/f///2cuoT//////Y8rUPwAAAGAbDgxAAAAAANzz5j8AAADIsdk2QAAAwCn6wHJAAAAA1AtOREAAAMAVw8ByQAAAQAOcwXJAAAAAAPxmtj8AAAAARVjmPwMAAMBU0P4/AAAAAIppxj8AAADEc2syQAAAALbYS0RAAAAAAFsn6z8AAAAy88ByQAAAADLnwXJAAAAAAGVt6z8AAACAWXMZQAEAAPCT0ytAAAAAAAWz7D8AAADY91ggQAAAAGzZNTlAAQAAwJt79T8AAIDY+x1uQAAAgHATbnBA",
          "dtype": "f8"
         }
        }
       ],
       "layout": {
        "autosize": true,
        "barmode": "group",
        "legend": {
         "bgcolor": "rgba(255, 255, 255, 0.5)",
         "x": 0.01,
         "xanchor": "left",
         "y": 0.99,
         "yanchor": "top"
        },
        "margin": {
         "b": 10,
         "l": 10,
         "r": 10,
         "t": 10
        },
        "template": {
         "data": {
          "bar": [
           {
            "error_x": {
             "color": "#2a3f5f"
            },
            "error_y": {
             "color": "#2a3f5f"
            },
            "marker": {
             "line": {
              "color": "#E5ECF6",
              "width": 0.5
             },
             "pattern": {
              "fillmode": "overlay",
              "size": 10,
              "solidity": 0.2
             }
            },
            "type": "bar"
           }
          ],
          "barpolar": [
           {
            "marker": {
             "line": {
              "color": "#E5ECF6",
              "width": 0.5
             },
             "pattern": {
              "fillmode": "overlay",
              "size": 10,
              "solidity": 0.2
             }
            },
            "type": "barpolar"
           }
          ],
          "carpet": [
           {
            "aaxis": {
             "endlinecolor": "#2a3f5f",
             "gridcolor": "white",
             "linecolor": "white",
             "minorgridcolor": "white",
             "startlinecolor": "#2a3f5f"
            },
            "baxis": {
             "endlinecolor": "#2a3f5f",
             "gridcolor": "white",
             "linecolor": "white",
             "minorgridcolor": "white",
             "startlinecolor": "#2a3f5f"
            },
            "type": "carpet"
           }
          ],
          "choropleth": [
           {
            "colorbar": {
             "outlinewidth": 0,
             "ticks": ""
            },
            "type": "choropleth"
           }
          ],
          "contour": [
           {
            "colorbar": {
             "outlinewidth": 0,
             "ticks": ""
            },
            "colorscale": [
             [
              0,
              "#0d0887"
             ],
             [
              0.1111111111111111,
              "#46039f"
             ],
             [
              0.2222222222222222,
              "#7201a8"
             ],
             [
              0.3333333333333333,
              "#9c179e"
             ],
             [
              0.4444444444444444,
              "#bd3786"
             ],
             [
              0.5555555555555556,
              "#d8576b"
             ],
             [
              0.6666666666666666,
              "#ed7953"
             ],
             [
              0.7777777777777778,
              "#fb9f3a"
             ],
             [
              0.8888888888888888,
              "#fdca26"
             ],
             [
              1,
              "#f0f921"
             ]
            ],
            "type": "contour"
           }
          ],
          "contourcarpet": [
           {
            "colorbar": {
             "outlinewidth": 0,
             "ticks": ""
            },
            "type": "contourcarpet"
           }
          ],
          "heatmap": [
           {
            "colorbar": {
             "outlinewidth": 0,
             "ticks": ""
            },
            "colorscale": [
             [
              0,
              "#0d0887"
             ],
             [
              0.1111111111111111,
              "#46039f"
             ],
             [
              0.2222222222222222,
              "#7201a8"
             ],
             [
              0.3333333333333333,
              "#9c179e"
             ],
             [
              0.4444444444444444,
              "#bd3786"
             ],
             [
              0.5555555555555556,
              "#d8576b"
             ],
             [
              0.6666666666666666,
              "#ed7953"
             ],
             [
              0.7777777777777778,
              "#fb9f3a"
             ],
             [
              0.8888888888888888,
              "#fdca26"
             ],
             [
              1,
              "#f0f921"
             ]
            ],
            "type": "heatmap"
           }
          ],
          "histogram": [
           {
            "marker": {
             "pattern": {
              "fillmode": "overlay",
              "size": 10,
              "solidity": 0.2
             }
            },
            "type": "histogram"
           }
          ],
          "histogram2d": [
           {
            "colorbar": {
             "outlinewidth": 0,
             "ticks": ""
            },
            "colorscale": [
             [
              0,
              "#0d0887"
             ],
             [
              0.1111111111111111,
              "#46039f"
             ],
             [
              0.2222222222222222,
              "#7201a8"
             ],
             [
              0.3333333333333333,
              "#9c179e"
             ],
             [
              0.4444444444444444,
              "#bd3786"
             ],
             [
              0.5555555555555556,
              "#d8576b"
             ],
             [
              0.6666666666666666,
              "#ed7953"
             ],
             [
              0.7777777777777778,
              "#fb9f3a"
             ],
             [
              0.8888888888888888,
              "#fdca26"
             ],
             [
              1,
              "#f0f921"
             ]
            ],
            "type": "histogram2d"
           }
          ],
          "histogram2dcontour": [
           {
            "colorbar": {
             "outlinewidth": 0,
             "ticks": ""
            },
            "colorscale": [
             [
              0,
              "#0d0887"
             ],
             [
              0.1111111111111111,
              "#46039f"
             ],
             [
              0.2222222222222222,
              "#7201a8"
             ],
             [
              0.3333333333333333,
              "#9c179e"
             ],
             [
              0.4444444444444444,
              "#bd3786"
             ],
             [
              0.5555555555555556,
              "#d8576b"
             ],
             [
              0.6666666666666666,
              "#ed7953"
             ],
             [
              0.7777777777777778,
              "#fb9f3a"
             ],
             [
              0.8888888888888888,
              "#fdca26"
             ],
             [
              1,
              "#f0f921"
             ]
            ],
            "type": "histogram2dcontour"
           }
          ],
          "mesh3d": [
           {
            "colorbar": {
             "outlinewidth": 0,
             "ticks": ""
            },
            "type": "mesh3d"
           }
          ],
          "parcoords": [
           {
            "line": {
             "colorbar": {
              "outlinewidth": 0,
              "ticks": ""
             }
            },
            "type": "parcoords"
           }
          ],
          "pie": [
           {
            "automargin": true,
            "type": "pie"
           }
          ],
          "scatter": [
           {
            "fillpattern": {
             "fillmode": "overlay",
             "size": 10,
             "solidity": 0.2
            },
            "type": "scatter"
           }
          ],
          "scatter3d": [
           {
            "line": {
             "colorbar": {
              "outlinewidth": 0,
              "ticks": ""
             }
            },
            "marker": {
             "colorbar": {
              "outlinewidth": 0,
              "ticks": ""
             }
            },
            "type": "scatter3d"
           }
          ],
          "scattercarpet": [
           {
            "marker": {
             "colorbar": {
              "outlinewidth": 0,
              "ticks": ""
             }
            },
            "type": "scattercarpet"
           }
          ],
          "scattergeo": [
           {
            "marker": {
             "colorbar": {
              "outlinewidth": 0,
              "ticks": ""
             }
            },
            "type": "scattergeo"
           }
          ],
          "scattergl": [
           {
            "marker": {
             "colorbar": {
              "outlinewidth": 0,
              "ticks": ""
             }
            },
            "type": "scattergl"
           }
          ],
          "scattermap": [
           {
            "marker": {
             "colorbar": {
              "outlinewidth": 0,
              "ticks": ""
             }
            },
            "type": "scattermap"
           }
          ],
          "scattermapbox": [
           {
            "marker": {
             "colorbar": {
              "outlinewidth": 0,
              "ticks": ""
             }
            },
            "type": "scattermapbox"
           }
          ],
          "scatterpolar": [
           {
            "marker": {
             "colorbar": {
              "outlinewidth": 0,
              "ticks": ""
             }
            },
            "type": "scatterpolar"
           }
          ],
          "scatterpolargl": [
           {
            "marker": {
             "colorbar": {
              "outlinewidth": 0,
              "ticks": ""
             }
            },
            "type": "scatterpolargl"
           }
          ],
          "scatterternary": [
           {
            "marker": {
             "colorbar": {
              "outlinewidth": 0,
              "ticks": ""
             }
            },
            "type": "scatterternary"
           }
          ],
          "surface": [
           {
            "colorbar": {
             "outlinewidth": 0,
             "ticks": ""
            },
            "colorscale": [
             [
              0,
              "#0d0887"
             ],
             [
              0.1111111111111111,
              "#46039f"
             ],
             [
              0.2222222222222222,
              "#7201a8"
             ],
             [
              0.3333333333333333,
              "#9c179e"
             ],
             [
              0.4444444444444444,
              "#bd3786"
             ],
             [
              0.5555555555555556,
              "#d8576b"
             ],
             [
              0.6666666666666666,
              "#ed7953"
             ],
             [
              0.7777777777777778,
              "#fb9f3a"
             ],
             [
              0.8888888888888888,
              "#fdca26"
             ],
             [
              1,
              "#f0f921"
             ]
            ],
            "type": "surface"
           }
          ],
          "table": [
           {
            "cells": {
             "fill": {
              "color": "#EBF0F8"
             },
             "line": {
              "color": "white"
             }
            },
            "header": {
             "fill": {
              "color": "#C8D4E3"
             },
             "line": {
              "color": "white"
             }
            },
            "type": "table"
           }
          ]
         },
         "layout": {
          "annotationdefaults": {
           "arrowcolor": "#2a3f5f",
           "arrowhead": 0,
           "arrowwidth": 1
          },
          "autotypenumbers": "strict",
          "coloraxis": {
           "colorbar": {
            "outlinewidth": 0,
            "ticks": ""
           }
          },
          "colorscale": {
           "diverging": [
            [
             0,
             "#8e0152"
            ],
            [
             0.1,
             "#c51b7d"
            ],
            [
             0.2,
             "#de77ae"
            ],
            [
             0.3,
             "#f1b6da"
            ],
            [
             0.4,
             "#fde0ef"
            ],
            [
             0.5,
             "#f7f7f7"
            ],
            [
             0.6,
             "#e6f5d0"
            ],
            [
             0.7,
             "#b8e186"
            ],
            [
             0.8,
             "#7fbc41"
            ],
            [
             0.9,
             "#4d9221"
            ],
            [
             1,
             "#276419"
            ]
           ],
           "sequential": [
            [
             0,
             "#0d0887"
            ],
            [
             0.1111111111111111,
             "#46039f"
            ],
            [
             0.2222222222222222,
             "#7201a8"
            ],
            [
             0.3333333333333333,
             "#9c179e"
            ],
            [
             0.4444444444444444,
             "#bd3786"
            ],
            [
             0.5555555555555556,
             "#d8576b"
            ],
            [
             0.6666666666666666,
             "#ed7953"
            ],
            [
             0.7777777777777778,
             "#fb9f3a"
            ],
            [
             0.8888888888888888,
             "#fdca26"
            ],
            [
             1,
             "#f0f921"
            ]
           ],
           "sequentialminus": [
            [
             0,
             "#0d0887"
            ],
            [
             0.1111111111111111,
             "#46039f"
            ],
            [
             0.2222222222222222,
             "#7201a8"
            ],
            [
             0.3333333333333333,
             "#9c179e"
            ],
            [
             0.4444444444444444,
             "#bd3786"
            ],
            [
             0.5555555555555556,
             "#d8576b"
            ],
            [
             0.6666666666666666,
             "#ed7953"
            ],
            [
             0.7777777777777778,
             "#fb9f3a"
            ],
            [
             0.8888888888888888,
             "#fdca26"
            ],
            [
             1,
             "#f0f921"
            ]
           ]
          },
          "colorway": [
           "#636efa",
           "#EF553B",
           "#00cc96",
           "#ab63fa",
           "#FFA15A",
           "#19d3f3",
           "#FF6692",
           "#B6E880",
           "#FF97FF",
           "#FECB52"
          ],
          "font": {
           "color": "#2a3f5f"
          },
          "geo": {
           "bgcolor": "white",
           "lakecolor": "white",
           "landcolor": "#E5ECF6",
           "showlakes": true,
           "showland": true,
           "subunitcolor": "white"
          },
          "hoverlabel": {
           "align": "left"
          },
          "hovermode": "closest",
          "mapbox": {
           "style": "light"
          },
          "paper_bgcolor": "white",
          "plot_bgcolor": "#E5ECF6",
          "polar": {
           "angularaxis": {
            "gridcolor": "white",
            "linecolor": "white",
            "ticks": ""
           },
           "bgcolor": "#E5ECF6",
           "radialaxis": {
            "gridcolor": "white",
            "linecolor": "white",
            "ticks": ""
           }
          },
          "scene": {
           "xaxis": {
            "backgroundcolor": "#E5ECF6",
            "gridcolor": "white",
            "gridwidth": 2,
            "linecolor": "white",
            "showbackground": true,
            "ticks": "",
            "zerolinecolor": "white"
           },
           "yaxis": {
            "backgroundcolor": "#E5ECF6",
            "gridcolor": "white",
            "gridwidth": 2,
            "linecolor": "white",
            "showbackground": true,
            "ticks": "",
            "zerolinecolor": "white"
           },
           "zaxis": {
            "backgroundcolor": "#E5ECF6",
            "gridcolor": "white",
            "gridwidth": 2,
            "linecolor": "white",
            "showbackground": true,
            "ticks": "",
            "zerolinecolor": "white"
           }
          },
          "shapedefaults": {
           "line": {
            "color": "#2a3f5f"
           }
          },
          "ternary": {
           "aaxis": {
            "gridcolor": "white",
            "linecolor": "white",
            "ticks": ""
           },
           "baxis": {
            "gridcolor": "white",
            "linecolor": "white",
            "ticks": ""
           },
           "bgcolor": "#E5ECF6",
           "caxis": {
            "gridcolor": "white",
            "linecolor": "white",
            "ticks": ""
           }
          },
          "title": {
           "x": 0.05
          },
          "xaxis": {
           "automargin": true,
           "gridcolor": "white",
           "linecolor": "white",
           "ticks": "",
           "title": {
            "standoff": 15
           },
           "zerolinecolor": "white",
           "zerolinewidth": 2
          },
          "yaxis": {
           "automargin": true,
           "gridcolor": "white",
           "linecolor": "white",
           "ticks": "",
           "title": {
            "standoff": 15
           },
           "zerolinecolor": "white",
           "zerolinewidth": 2
          }
         }
        },
        "xaxis": {
         "tickmode": "array",
         "ticktext": [
          0,
          1,
          2,
          3,
          4,
          5,
          6,
          7,
          8,
          9,
          10,
          11,
          12,
          13,
          14,
          15,
          16,
          17,
          18,
          19,
          20,
          21,
          22,
          23,
          24,
          25,
          26,
          27
         ],
         "tickvals": [
          0,
          1,
          2,
          3,
          4,
          5,
          6,
          7,
          8,
          9,
          10,
          11,
          12,
          13,
          14,
          15,
          16,
          17,
          18,
          19,
          20,
          21,
          22,
          23,
          24,
          25,
          26,
          27
         ],
         "title": {
          "text": "Problem Istance (ID)"
         }
        },
        "yaxis": {
         "title": {
          "text": "Runtime (s)"
         }
        }
       }
      }
     },
     "metadata": {},
     "output_type": "display_data"
    }
   ],
   "source": [
    "import plotly.graph_objects as go\n",
    "\n",
    "# Create bar plot with visible zeros\n",
    "hovertemplate_text='Model: %{customdata[0]}<br>ID: %{x}<br>Gap: %{text}%<br>Nodes: %{customdata[1]}<br>Runtime: %{customdata[2]} s<extra></extra>'\n",
    "fig = go.Figure(data=[\n",
    "    go.Bar(\n",
    "        name='Model 0', \n",
    "        x=df0['ID'], \n",
    "        y=df0['runtime'],\n",
    "        text=df0['gap'].apply(lambda x: f'{x:.2f}'),  # Format text to 2 decimal places\n",
    "        # Create a 2D array with multiple columns\n",
    "        customdata=np.dstack((df0['model'], df0['nodes'], df0['runtime'].apply(lambda x: f'{x:.2f}')))[0],\n",
    "        textposition='none',\n",
    "        hovertemplate=hovertemplate_text\n",
    "    ),\n",
    "    go.Bar(\n",
    "        name='Model 1', \n",
    "        x=df1['ID'], \n",
    "        y=df1['runtime'],\n",
    "        text=df1['gap'].apply(lambda x: f'{x:.2f}'),\n",
    "        customdata=np.dstack((df1['model'], df1['nodes'], df1['runtime'].apply(lambda x: f'{x:.2f}')))[0],\n",
    "        textposition='none',\n",
    "        hovertemplate=hovertemplate_text\n",
    "    ),\n",
    "    go.Bar(\n",
    "        name='Model 2', \n",
    "        x=df2['ID'], \n",
    "        y=df2['runtime'],\n",
    "        text=df2['gap'].apply(lambda x: f'{x:.2f}'),\n",
    "        customdata=np.dstack((df2['model'], df2['nodes'], df2['runtime'].apply(lambda x: f'{x:.2f}')))[0],\n",
    "        textposition='none',\n",
    "        hovertemplate=hovertemplate_text\n",
    "    ),\n",
    "])\n",
    "\n",
    "# Add a subtle visual indication for zero values\n",
    "fig.update_layout(\n",
    "    autosize=True,   # let the container size drive the plot\n",
    "    margin=dict(l=10, r=10, t=10, b=10),    # width=1000,\n",
    "    # width=1000,\n",
    "    # height=600,\n",
    "    barmode='group',\n",
    "    yaxis = dict(\n",
    "        title = 'Runtime (s)',\n",
    "    ),\n",
    "    xaxis = dict(\n",
    "        title = 'Problem Istance (ID)',\n",
    "        tickmode = 'array',\n",
    "        tickvals = list(range(0, 28)),\n",
    "        ticktext = list(range(0, 28)),\n",
    "    ),\n",
    "    legend=dict(\n",
    "        x=0.01,\n",
    "        y=0.99,\n",
    "        xanchor='left',\n",
    "        yanchor='top',\n",
    "        bgcolor='rgba(255, 255, 255, 0.5)'\n",
    "    )\n",
    ")\n",
    "\n",
    "fig.show()\n",
    "\n",
    "# # Save as HTML\n",
    "div_schedule = plot(\n",
    "    fig, include_plotlyjs=True, config={\"responsive\": True}, output_type=\"div\"\n",
    ")\n",
    "# write div snippet to file\n",
    "with open('../docs/images/results-runtime.html', 'w') as f:\n",
    "    f.write(div_schedule)"
   ]
  },
  {
   "cell_type": "code",
   "execution_count": 12,
   "id": "b43c3b6d",
   "metadata": {},
   "outputs": [
    {
     "data": {
      "application/vnd.plotly.v1+json": {
       "config": {
        "plotlyServerURL": "https://plot.ly"
       },
       "data": [
        {
         "customdata": [
          [
           0,
           3,
           "0.00"
          ],
          [
           0,
           529,
           "0.00"
          ],
          [
           0,
           116,
           "0.00"
          ],
          [
           0,
           680,
           "0.00"
          ],
          [
           0,
           12818,
           "0.00"
          ],
          [
           0,
           858,
           "0.00"
          ],
          [
           0,
           72826,
           "0.00"
          ],
          [
           0,
           1059,
           "0.00"
          ],
          [
           0,
           685,
           "0.00"
          ],
          [
           0,
           36,
           "0.00"
          ],
          [
           0,
           3,
           "0.00"
          ],
          [
           0,
           98,
           "0.00"
          ],
          [
           0,
           96,
           "0.00"
          ],
          [
           0,
           4081,
           "0.00"
          ],
          [
           0,
           1077,
           "0.00"
          ],
          [
           0,
           1231,
           "0.00"
          ],
          [
           0,
           848,
           "0.00"
          ],
          [
           0,
           402,
           "0.00"
          ],
          [
           0,
           3,
           "0.00"
          ],
          [
           0,
           3,
           "0.00"
          ],
          [
           0,
           3,
           "0.00"
          ],
          [
           0,
           90,
           "0.00"
          ],
          [
           0,
           243,
           "0.00"
          ],
          [
           0,
           1,
           "0.00"
          ],
          [
           0,
           14439,
           "0.00"
          ],
          [
           0,
           1,
           "0.00"
          ],
          [
           0,
           1,
           "0.00"
          ]
         ],
         "hovertemplate": "Model: %{customdata[0]}<br>ID: %{x}<br>Gap: %{text}%<br>Nodes: %{customdata[1]}<br>Heuristics: %{customdata[2]} s<extra></extra>",
         "name": "Model 0",
         "text": [
          "0.00",
          "0.00",
          "0.00",
          "0.00",
          "inf",
          "inf",
          "229.07",
          "inf",
          "inf",
          "0.00",
          "0.00",
          "0.00",
          "0.00",
          "9.30",
          "inf",
          "0.00",
          "inf",
          "inf",
          "0.00",
          "0.00",
          "0.00",
          "0.00",
          "0.58",
          "inf",
          "0.14",
          "inf",
          "inf"
         ],
         "textposition": "none",
         "type": "bar",
         "x": {
          "bdata": "AQIDBAUGBwgJCgsMDQ4PEBESExQVFhcYGRob",
          "dtype": "i1"
         },
         "y": {
          "bdata": "AAAAAAAAAAAAAAAAAAAAAAAAAAAAAAAAAAAAAAAAAAAAAAAAAAAAAAAAAAAAAAAAAAAAAAAAAAAAAAAAAAAAAAAAAAAAAAAAAAAAAAAAAAAAAAAAAAAAAAAAAAAAAAAAAAAAAAAAAAAAAAAAAAAAAAAAAAAAAAAAAAAAAAAAAAAAAAAAAAAAAAAAAAAAAAAAAAAAAAAAAAAAAAAAAAAAAAAAAAAAAAAAAAAAAAAAAAAAAAAAAAAAAAAAAAAAAAAAAAAAAAAAAAAAAAAAAAAAAAAAAAAAAAAA",
          "dtype": "f8"
         }
        },
        {
         "customdata": [
          [
           1,
           3,
           "13.38"
          ],
          [
           1,
           697,
           "75.21"
          ],
          [
           1,
           84,
           "120.11"
          ],
          [
           1,
           711,
           "18.09"
          ],
          [
           1,
           14789,
           "93.59"
          ],
          [
           1,
           973,
           "120.09"
          ],
          [
           1,
           77956,
           "17.73"
          ],
          [
           1,
           1004,
           "113.03"
          ],
          [
           1,
           627,
           "120.52"
          ],
          [
           1,
           43,
           "81.40"
          ],
          [
           1,
           3,
           "120.31"
          ],
          [
           1,
           66,
           "121.77"
          ],
          [
           1,
           439,
           "100.58"
          ],
          [
           1,
           4452,
           "120.35"
          ],
          [
           1,
           1228,
           "120.61"
          ],
          [
           1,
           1193,
           "102.25"
          ],
          [
           1,
           788,
           "120.46"
          ],
          [
           1,
           306,
           "120.94"
          ],
          [
           1,
           3,
           "120.27"
          ],
          [
           1,
           3,
           "120.35"
          ],
          [
           1,
           3,
           "120.24"
          ],
          [
           1,
           50,
           "120.07"
          ],
          [
           1,
           302,
           "123.09"
          ],
          [
           1,
           1,
           "126.52"
          ],
          [
           1,
           17182,
           "120.04"
          ],
          [
           1,
           1,
           "123.30"
          ],
          [
           1,
           1,
           "124.70"
          ]
         ],
         "hovertemplate": "Model: %{customdata[0]}<br>ID: %{x}<br>Gap: %{text}%<br>Nodes: %{customdata[1]}<br>Heuristics: %{customdata[2]} s<extra></extra>",
         "name": "Model 1",
         "text": [
          "0.00",
          "0.00",
          "0.00",
          "0.00",
          "47.99",
          "88.63",
          "223.74",
          "103.27",
          "117.66",
          "0.00",
          "0.00",
          "0.00",
          "0.00",
          "9.71",
          "22.45",
          "0.00",
          "77.16",
          "97.07",
          "0.00",
          "0.00",
          "0.00",
          "0.00",
          "0.55",
          "23487.83",
          "0.86",
          "13290.34",
          "12452.75"
         ],
         "textposition": "none",
         "type": "bar",
         "x": {
          "bdata": "AQIDBAUGBwgJCgsMDQ4PEBESExQVFhcYGRob",
          "dtype": "i1"
         },
         "y": {
          "bdata": "AAAA8LzEKkAAAABiPc1SQAEAAL9CB15AAAAAQE4XMkABAABngmVXQAEAAF6bBV5AAAAA+J65MUD///9Yr0FcQAEAAEFHIV5AAAAAht9ZVEABAABFvxNeQAEAAFsxcV5AAAAAtfIkWUD///+kVhZeQAEAALP9Jl5AAAAAYtWPWUAAAAAdOR1eQP///3d4PF5AAAAACx0RXkAAAAB6SxZeQP///xIZD15A////smcEXkABAABSjsVeQAAAALk6oV9AAAAA3tgCXkABAACegdNeQP///54dLV9A",
          "dtype": "f8"
         }
        },
        {
         "customdata": [
          [
           2,
           1,
           "13.46"
          ],
          [
           2,
           1,
           "79.40"
          ],
          [
           2,
           57,
           "120.11"
          ],
          [
           2,
           312,
           "18.22"
          ],
          [
           2,
           552,
           "92.29"
          ],
          [
           2,
           16,
           "120.14"
          ],
          [
           2,
           8033,
           "17.69"
          ],
          [
           2,
           389,
           "110.82"
          ],
          [
           2,
           1,
           "120.12"
          ],
          [
           2,
           1,
           "80.85"
          ],
          [
           2,
           1,
           "120.14"
          ],
          [
           2,
           1,
           "121.00"
          ],
          [
           2,
           1,
           "94.56"
          ],
          [
           2,
           1767,
           "120.08"
          ],
          [
           2,
           1,
           "120.81"
          ],
          [
           2,
           1,
           "101.48"
          ],
          [
           2,
           684,
           "120.52"
          ],
          [
           2,
           1,
           "120.55"
          ],
          [
           2,
           1,
           "120.21"
          ],
          [
           2,
           1,
           "120.91"
          ],
          [
           2,
           1,
           "122.13"
          ],
          [
           2,
           1,
           "120.59"
          ],
          [
           2,
           1,
           "122.17"
          ],
          [
           2,
           1,
           "126.38"
          ],
          [
           2,
           1,
           "120.66"
          ],
          [
           2,
           3013,
           "123.38"
          ],
          [
           2,
           828,
           "125.46"
          ]
         ],
         "hovertemplate": "Model: %{customdata[0]}<br>ID: %{x}<br>Gap: %{text}%<br>Nodes: %{customdata[1]}<br>Heuristics: %{customdata[2]} s<extra></extra>",
         "name": "Model 2",
         "text": [
          "0.00",
          "0.00",
          "0.00",
          "0.00",
          "0.00",
          "5.45",
          "0.00",
          "3.21",
          "96.72",
          "0.00",
          "0.00",
          "0.00",
          "0.00",
          "0.00",
          "0.00",
          "0.01",
          "0.57",
          "2.66",
          "0.00",
          "0.00",
          "0.00",
          "0.00",
          "0.00",
          "0.01",
          "0.01",
          "0.01",
          "0.01"
         ],
         "textposition": "none",
         "type": "bar",
         "x": {
          "bdata": "AQIDBAUGBwgJCgsMDQ4PEBESExQVFhcYGRob",
          "dtype": "i1"
         },
         "y": {
          "bdata": "AQAAaHftKkAAAADmwtlTQAAAAA8HB15AAQAAjPs3MkAAAACSwRJXQP///6HQCF5AAAAAJIyxMUAAAADnVbRbQAEAAMmXB15AAAAAUmI2VEAAAAC+/QheQAAAAAZRQF5AAQAAgwmkV0AAAABf4wReQAAAACP9M15AAAAAwm9eWUABAADgQyFeQAAAAO0EI15A////t1oNXkABAABwGTpeQAAAAA4/iF5AAAAANrUlXkAAAACOq4peQAAAAKg7mF9AAAAA6AMqXkAAAABCINheQAAAAK0qXV9A",
          "dtype": "f8"
         }
        }
       ],
       "layout": {
        "autosize": true,
        "barmode": "group",
        "legend": {
         "bgcolor": "rgba(255, 255, 255, 0.5)",
         "x": 0.01,
         "xanchor": "left",
         "y": 0.99,
         "yanchor": "top"
        },
        "margin": {
         "b": 10,
         "l": 10,
         "r": 10,
         "t": 10
        },
        "template": {
         "data": {
          "bar": [
           {
            "error_x": {
             "color": "#2a3f5f"
            },
            "error_y": {
             "color": "#2a3f5f"
            },
            "marker": {
             "line": {
              "color": "#E5ECF6",
              "width": 0.5
             },
             "pattern": {
              "fillmode": "overlay",
              "size": 10,
              "solidity": 0.2
             }
            },
            "type": "bar"
           }
          ],
          "barpolar": [
           {
            "marker": {
             "line": {
              "color": "#E5ECF6",
              "width": 0.5
             },
             "pattern": {
              "fillmode": "overlay",
              "size": 10,
              "solidity": 0.2
             }
            },
            "type": "barpolar"
           }
          ],
          "carpet": [
           {
            "aaxis": {
             "endlinecolor": "#2a3f5f",
             "gridcolor": "white",
             "linecolor": "white",
             "minorgridcolor": "white",
             "startlinecolor": "#2a3f5f"
            },
            "baxis": {
             "endlinecolor": "#2a3f5f",
             "gridcolor": "white",
             "linecolor": "white",
             "minorgridcolor": "white",
             "startlinecolor": "#2a3f5f"
            },
            "type": "carpet"
           }
          ],
          "choropleth": [
           {
            "colorbar": {
             "outlinewidth": 0,
             "ticks": ""
            },
            "type": "choropleth"
           }
          ],
          "contour": [
           {
            "colorbar": {
             "outlinewidth": 0,
             "ticks": ""
            },
            "colorscale": [
             [
              0,
              "#0d0887"
             ],
             [
              0.1111111111111111,
              "#46039f"
             ],
             [
              0.2222222222222222,
              "#7201a8"
             ],
             [
              0.3333333333333333,
              "#9c179e"
             ],
             [
              0.4444444444444444,
              "#bd3786"
             ],
             [
              0.5555555555555556,
              "#d8576b"
             ],
             [
              0.6666666666666666,
              "#ed7953"
             ],
             [
              0.7777777777777778,
              "#fb9f3a"
             ],
             [
              0.8888888888888888,
              "#fdca26"
             ],
             [
              1,
              "#f0f921"
             ]
            ],
            "type": "contour"
           }
          ],
          "contourcarpet": [
           {
            "colorbar": {
             "outlinewidth": 0,
             "ticks": ""
            },
            "type": "contourcarpet"
           }
          ],
          "heatmap": [
           {
            "colorbar": {
             "outlinewidth": 0,
             "ticks": ""
            },
            "colorscale": [
             [
              0,
              "#0d0887"
             ],
             [
              0.1111111111111111,
              "#46039f"
             ],
             [
              0.2222222222222222,
              "#7201a8"
             ],
             [
              0.3333333333333333,
              "#9c179e"
             ],
             [
              0.4444444444444444,
              "#bd3786"
             ],
             [
              0.5555555555555556,
              "#d8576b"
             ],
             [
              0.6666666666666666,
              "#ed7953"
             ],
             [
              0.7777777777777778,
              "#fb9f3a"
             ],
             [
              0.8888888888888888,
              "#fdca26"
             ],
             [
              1,
              "#f0f921"
             ]
            ],
            "type": "heatmap"
           }
          ],
          "histogram": [
           {
            "marker": {
             "pattern": {
              "fillmode": "overlay",
              "size": 10,
              "solidity": 0.2
             }
            },
            "type": "histogram"
           }
          ],
          "histogram2d": [
           {
            "colorbar": {
             "outlinewidth": 0,
             "ticks": ""
            },
            "colorscale": [
             [
              0,
              "#0d0887"
             ],
             [
              0.1111111111111111,
              "#46039f"
             ],
             [
              0.2222222222222222,
              "#7201a8"
             ],
             [
              0.3333333333333333,
              "#9c179e"
             ],
             [
              0.4444444444444444,
              "#bd3786"
             ],
             [
              0.5555555555555556,
              "#d8576b"
             ],
             [
              0.6666666666666666,
              "#ed7953"
             ],
             [
              0.7777777777777778,
              "#fb9f3a"
             ],
             [
              0.8888888888888888,
              "#fdca26"
             ],
             [
              1,
              "#f0f921"
             ]
            ],
            "type": "histogram2d"
           }
          ],
          "histogram2dcontour": [
           {
            "colorbar": {
             "outlinewidth": 0,
             "ticks": ""
            },
            "colorscale": [
             [
              0,
              "#0d0887"
             ],
             [
              0.1111111111111111,
              "#46039f"
             ],
             [
              0.2222222222222222,
              "#7201a8"
             ],
             [
              0.3333333333333333,
              "#9c179e"
             ],
             [
              0.4444444444444444,
              "#bd3786"
             ],
             [
              0.5555555555555556,
              "#d8576b"
             ],
             [
              0.6666666666666666,
              "#ed7953"
             ],
             [
              0.7777777777777778,
              "#fb9f3a"
             ],
             [
              0.8888888888888888,
              "#fdca26"
             ],
             [
              1,
              "#f0f921"
             ]
            ],
            "type": "histogram2dcontour"
           }
          ],
          "mesh3d": [
           {
            "colorbar": {
             "outlinewidth": 0,
             "ticks": ""
            },
            "type": "mesh3d"
           }
          ],
          "parcoords": [
           {
            "line": {
             "colorbar": {
              "outlinewidth": 0,
              "ticks": ""
             }
            },
            "type": "parcoords"
           }
          ],
          "pie": [
           {
            "automargin": true,
            "type": "pie"
           }
          ],
          "scatter": [
           {
            "fillpattern": {
             "fillmode": "overlay",
             "size": 10,
             "solidity": 0.2
            },
            "type": "scatter"
           }
          ],
          "scatter3d": [
           {
            "line": {
             "colorbar": {
              "outlinewidth": 0,
              "ticks": ""
             }
            },
            "marker": {
             "colorbar": {
              "outlinewidth": 0,
              "ticks": ""
             }
            },
            "type": "scatter3d"
           }
          ],
          "scattercarpet": [
           {
            "marker": {
             "colorbar": {
              "outlinewidth": 0,
              "ticks": ""
             }
            },
            "type": "scattercarpet"
           }
          ],
          "scattergeo": [
           {
            "marker": {
             "colorbar": {
              "outlinewidth": 0,
              "ticks": ""
             }
            },
            "type": "scattergeo"
           }
          ],
          "scattergl": [
           {
            "marker": {
             "colorbar": {
              "outlinewidth": 0,
              "ticks": ""
             }
            },
            "type": "scattergl"
           }
          ],
          "scattermap": [
           {
            "marker": {
             "colorbar": {
              "outlinewidth": 0,
              "ticks": ""
             }
            },
            "type": "scattermap"
           }
          ],
          "scattermapbox": [
           {
            "marker": {
             "colorbar": {
              "outlinewidth": 0,
              "ticks": ""
             }
            },
            "type": "scattermapbox"
           }
          ],
          "scatterpolar": [
           {
            "marker": {
             "colorbar": {
              "outlinewidth": 0,
              "ticks": ""
             }
            },
            "type": "scatterpolar"
           }
          ],
          "scatterpolargl": [
           {
            "marker": {
             "colorbar": {
              "outlinewidth": 0,
              "ticks": ""
             }
            },
            "type": "scatterpolargl"
           }
          ],
          "scatterternary": [
           {
            "marker": {
             "colorbar": {
              "outlinewidth": 0,
              "ticks": ""
             }
            },
            "type": "scatterternary"
           }
          ],
          "surface": [
           {
            "colorbar": {
             "outlinewidth": 0,
             "ticks": ""
            },
            "colorscale": [
             [
              0,
              "#0d0887"
             ],
             [
              0.1111111111111111,
              "#46039f"
             ],
             [
              0.2222222222222222,
              "#7201a8"
             ],
             [
              0.3333333333333333,
              "#9c179e"
             ],
             [
              0.4444444444444444,
              "#bd3786"
             ],
             [
              0.5555555555555556,
              "#d8576b"
             ],
             [
              0.6666666666666666,
              "#ed7953"
             ],
             [
              0.7777777777777778,
              "#fb9f3a"
             ],
             [
              0.8888888888888888,
              "#fdca26"
             ],
             [
              1,
              "#f0f921"
             ]
            ],
            "type": "surface"
           }
          ],
          "table": [
           {
            "cells": {
             "fill": {
              "color": "#EBF0F8"
             },
             "line": {
              "color": "white"
             }
            },
            "header": {
             "fill": {
              "color": "#C8D4E3"
             },
             "line": {
              "color": "white"
             }
            },
            "type": "table"
           }
          ]
         },
         "layout": {
          "annotationdefaults": {
           "arrowcolor": "#2a3f5f",
           "arrowhead": 0,
           "arrowwidth": 1
          },
          "autotypenumbers": "strict",
          "coloraxis": {
           "colorbar": {
            "outlinewidth": 0,
            "ticks": ""
           }
          },
          "colorscale": {
           "diverging": [
            [
             0,
             "#8e0152"
            ],
            [
             0.1,
             "#c51b7d"
            ],
            [
             0.2,
             "#de77ae"
            ],
            [
             0.3,
             "#f1b6da"
            ],
            [
             0.4,
             "#fde0ef"
            ],
            [
             0.5,
             "#f7f7f7"
            ],
            [
             0.6,
             "#e6f5d0"
            ],
            [
             0.7,
             "#b8e186"
            ],
            [
             0.8,
             "#7fbc41"
            ],
            [
             0.9,
             "#4d9221"
            ],
            [
             1,
             "#276419"
            ]
           ],
           "sequential": [
            [
             0,
             "#0d0887"
            ],
            [
             0.1111111111111111,
             "#46039f"
            ],
            [
             0.2222222222222222,
             "#7201a8"
            ],
            [
             0.3333333333333333,
             "#9c179e"
            ],
            [
             0.4444444444444444,
             "#bd3786"
            ],
            [
             0.5555555555555556,
             "#d8576b"
            ],
            [
             0.6666666666666666,
             "#ed7953"
            ],
            [
             0.7777777777777778,
             "#fb9f3a"
            ],
            [
             0.8888888888888888,
             "#fdca26"
            ],
            [
             1,
             "#f0f921"
            ]
           ],
           "sequentialminus": [
            [
             0,
             "#0d0887"
            ],
            [
             0.1111111111111111,
             "#46039f"
            ],
            [
             0.2222222222222222,
             "#7201a8"
            ],
            [
             0.3333333333333333,
             "#9c179e"
            ],
            [
             0.4444444444444444,
             "#bd3786"
            ],
            [
             0.5555555555555556,
             "#d8576b"
            ],
            [
             0.6666666666666666,
             "#ed7953"
            ],
            [
             0.7777777777777778,
             "#fb9f3a"
            ],
            [
             0.8888888888888888,
             "#fdca26"
            ],
            [
             1,
             "#f0f921"
            ]
           ]
          },
          "colorway": [
           "#636efa",
           "#EF553B",
           "#00cc96",
           "#ab63fa",
           "#FFA15A",
           "#19d3f3",
           "#FF6692",
           "#B6E880",
           "#FF97FF",
           "#FECB52"
          ],
          "font": {
           "color": "#2a3f5f"
          },
          "geo": {
           "bgcolor": "white",
           "lakecolor": "white",
           "landcolor": "#E5ECF6",
           "showlakes": true,
           "showland": true,
           "subunitcolor": "white"
          },
          "hoverlabel": {
           "align": "left"
          },
          "hovermode": "closest",
          "mapbox": {
           "style": "light"
          },
          "paper_bgcolor": "white",
          "plot_bgcolor": "#E5ECF6",
          "polar": {
           "angularaxis": {
            "gridcolor": "white",
            "linecolor": "white",
            "ticks": ""
           },
           "bgcolor": "#E5ECF6",
           "radialaxis": {
            "gridcolor": "white",
            "linecolor": "white",
            "ticks": ""
           }
          },
          "scene": {
           "xaxis": {
            "backgroundcolor": "#E5ECF6",
            "gridcolor": "white",
            "gridwidth": 2,
            "linecolor": "white",
            "showbackground": true,
            "ticks": "",
            "zerolinecolor": "white"
           },
           "yaxis": {
            "backgroundcolor": "#E5ECF6",
            "gridcolor": "white",
            "gridwidth": 2,
            "linecolor": "white",
            "showbackground": true,
            "ticks": "",
            "zerolinecolor": "white"
           },
           "zaxis": {
            "backgroundcolor": "#E5ECF6",
            "gridcolor": "white",
            "gridwidth": 2,
            "linecolor": "white",
            "showbackground": true,
            "ticks": "",
            "zerolinecolor": "white"
           }
          },
          "shapedefaults": {
           "line": {
            "color": "#2a3f5f"
           }
          },
          "ternary": {
           "aaxis": {
            "gridcolor": "white",
            "linecolor": "white",
            "ticks": ""
           },
           "baxis": {
            "gridcolor": "white",
            "linecolor": "white",
            "ticks": ""
           },
           "bgcolor": "#E5ECF6",
           "caxis": {
            "gridcolor": "white",
            "linecolor": "white",
            "ticks": ""
           }
          },
          "title": {
           "x": 0.05
          },
          "xaxis": {
           "automargin": true,
           "gridcolor": "white",
           "linecolor": "white",
           "ticks": "",
           "title": {
            "standoff": 15
           },
           "zerolinecolor": "white",
           "zerolinewidth": 2
          },
          "yaxis": {
           "automargin": true,
           "gridcolor": "white",
           "linecolor": "white",
           "ticks": "",
           "title": {
            "standoff": 15
           },
           "zerolinecolor": "white",
           "zerolinewidth": 2
          }
         }
        },
        "xaxis": {
         "tickmode": "array",
         "ticktext": [
          0,
          1,
          2,
          3,
          4,
          5,
          6,
          7,
          8,
          9,
          10,
          11,
          12,
          13,
          14,
          15,
          16,
          17,
          18,
          19,
          20,
          21,
          22,
          23,
          24,
          25,
          26,
          27
         ],
         "tickvals": [
          0,
          1,
          2,
          3,
          4,
          5,
          6,
          7,
          8,
          9,
          10,
          11,
          12,
          13,
          14,
          15,
          16,
          17,
          18,
          19,
          20,
          21,
          22,
          23,
          24,
          25,
          26,
          27
         ],
         "title": {
          "text": "Problem Istance (ID)"
         }
        },
        "yaxis": {
         "title": {
          "text": "Heuristics Time (s)"
         }
        }
       }
      }
     },
     "metadata": {},
     "output_type": "display_data"
    }
   ],
   "source": [
    "import plotly.graph_objects as go\n",
    "\n",
    "# Create bar plot with visible zeros\n",
    "hovertemplate_text='Model: %{customdata[0]}<br>ID: %{x}<br>Gap: %{text}%<br>Nodes: %{customdata[1]}<br>Heuristics: %{customdata[2]} s<extra></extra>'\n",
    "fig = go.Figure(data=[\n",
    "    go.Bar(\n",
    "        name='Model 0', \n",
    "        x=df0['ID'], \n",
    "        y=df0['heuristics_time'],\n",
    "        text=df0['gap'].apply(lambda x: f'{x:.2f}'),  # Format text to 2 decimal places\n",
    "        # Create a 2D array with multiple columns\n",
    "        customdata=np.dstack((df0['model'], df0['nodes'], df0['heuristics_time'].apply(lambda x: f'{x:.2f}')))[0],\n",
    "        textposition='none',\n",
    "        hovertemplate=hovertemplate_text\n",
    "    ),\n",
    "    go.Bar(\n",
    "        name='Model 1', \n",
    "        x=df1['ID'], \n",
    "        y=df1['heuristics_time'],\n",
    "        text=df1['gap'].apply(lambda x: f'{x:.2f}'),\n",
    "        customdata=np.dstack((df1['model'], df1['nodes'], df1['heuristics_time'].apply(lambda x: f'{x:.2f}')))[0],\n",
    "        textposition='none',\n",
    "        hovertemplate=hovertemplate_text\n",
    "    ),\n",
    "    go.Bar(\n",
    "        name='Model 2', \n",
    "        x=df2['ID'], \n",
    "        y=df2['heuristics_time'],\n",
    "        text=df2['gap'].apply(lambda x: f'{x:.2f}'),\n",
    "        customdata=np.dstack((df2['model'], df2['nodes'], df2['heuristics_time'].apply(lambda x: f'{x:.2f}')))[0],\n",
    "        textposition='none',\n",
    "        hovertemplate=hovertemplate_text\n",
    "    ),\n",
    "])\n",
    "\n",
    "# Add a subtle visual indication for zero values\n",
    "fig.update_layout(\n",
    "    autosize=True,   # let the container size drive the plot\n",
    "    margin=dict(l=10, r=10, t=10, b=10),    # width=1000,\n",
    "    # width=1000,\n",
    "    # height=600,\n",
    "    barmode='group',\n",
    "    yaxis = dict(\n",
    "        title = 'Heuristics Time (s)',\n",
    "    ),\n",
    "    xaxis = dict(\n",
    "        title = 'Problem Istance (ID)',\n",
    "        tickmode = 'array',\n",
    "        tickvals = list(range(0, 28)),\n",
    "        ticktext = list(range(0, 28)),\n",
    "    ),\n",
    "    legend=dict(\n",
    "        x=0.01,\n",
    "        y=0.99,\n",
    "        xanchor='left',\n",
    "        yanchor='top',\n",
    "        bgcolor='rgba(255, 255, 255, 0.5)'\n",
    "    )\n",
    ")\n",
    "\n",
    "fig.show()\n",
    "\n",
    "\n",
    "# # Save as HTML\n",
    "div_schedule = plot(\n",
    "    fig, include_plotlyjs=True, config={\"responsive\": True}, output_type=\"div\"\n",
    ")\n",
    "# write div snippet to file\n",
    "with open('../docs/images/results-heuristics.html', 'w') as f:\n",
    "    f.write(div_schedule)\n",
    "\n"
   ]
  },
  {
   "cell_type": "code",
   "execution_count": 13,
   "id": "9d7217b6",
   "metadata": {},
   "outputs": [
    {
     "data": {
      "application/vnd.plotly.v1+json": {
       "config": {
        "plotlyServerURL": "https://plot.ly"
       },
       "data": [
        {
         "customdata": [
          [
           0,
           3,
           "0.18"
          ],
          [
           0,
           529,
           "8.00"
          ],
          [
           0,
           116,
           "9.50"
          ],
          [
           0,
           680,
           "1.75"
          ],
          [
           0,
           12818,
           "300.00"
          ],
          [
           0,
           858,
           "300.01"
          ],
          [
           0,
           72826,
           "300.00"
          ],
          [
           0,
           1059,
           "300.01"
          ],
          [
           0,
           685,
           "300.01"
          ],
          [
           0,
           36,
           "0.93"
          ],
          [
           0,
           3,
           "5.76"
          ],
          [
           0,
           98,
           "33.53"
          ],
          [
           0,
           96,
           "2.26"
          ],
          [
           0,
           4081,
           "300.03"
          ],
          [
           0,
           1077,
           "300.02"
          ],
          [
           0,
           1231,
           "13.93"
          ],
          [
           0,
           848,
           "300.01"
          ],
          [
           0,
           402,
           "300.03"
          ],
          [
           0,
           3,
           "5.93"
          ],
          [
           0,
           3,
           "55.97"
          ],
          [
           0,
           3,
           "162.09"
          ],
          [
           0,
           90,
           "14.08"
          ],
          [
           0,
           243,
           "300.29"
          ],
          [
           0,
           1,
           "300.03"
          ],
          [
           0,
           14439,
           "300.04"
          ],
          [
           0,
           1,
           "300.01"
          ],
          [
           0,
           1,
           "300.03"
          ]
         ],
         "hovertemplate": "Model: %{customdata[0]}<br>ID: %{x}<br>Gap: %{text}%<br>Nodes: %{customdata[1]}<br>Runtime: %{customdata[2]} s<extra></extra>",
         "name": "Model 0",
         "text": [
          "0.00",
          "0.00",
          "0.00",
          "0.00",
          "inf",
          "inf",
          "229.07",
          "inf",
          "inf",
          "0.00",
          "0.00",
          "0.00",
          "0.00",
          "9.30",
          "inf",
          "0.00",
          "inf",
          "inf",
          "0.00",
          "0.00",
          "0.00",
          "0.00",
          "0.58",
          "inf",
          "0.14",
          "inf",
          "inf"
         ],
         "textposition": "none",
         "type": "bar",
         "x": {
          "bdata": "AQIDBAUGBwgJCgsMDQ4PEBESExQVFhcYGRob",
          "dtype": "i1"
         },
         "y": {
          "bdata": "/////zGmxj8AAADg7wEgQAAAANDn/SJAAAAAgM/y+z8BAMCsA8ByQAAAQJIgwHJAAABAJQPAckAAAMBVF8ByQAAAgIQuwHJAAAAAgBC67T8AAACA2wgXQAAAAGzrw0BAAAAAYGMMAkAAAIBZhcByQAAAQBVawHJAAAAAwPjaK0AAAMCHNsByQAAAwBZ0wHJAAAAAgF66F0AAAAAWUPxLQAAAAAQEQ2RAAAAAyO0nLEAAAMChlMRyQAAAgCWIwHJAAACA0q3AckAAAACxNMByQAAAwJNzwHJA",
          "dtype": "f8"
         }
        },
        {
         "customdata": [
          [
           1,
           3,
           "13.55"
          ],
          [
           1,
           697,
           "82.89"
          ],
          [
           1,
           84,
           "128.36"
          ],
          [
           1,
           711,
           "19.91"
          ],
          [
           1,
           14789,
           "393.59"
          ],
          [
           1,
           973,
           "420.10"
          ],
          [
           1,
           77956,
           "317.73"
          ],
          [
           1,
           1004,
           "413.03"
          ],
          [
           1,
           627,
           "420.53"
          ],
          [
           1,
           43,
           "82.36"
          ],
          [
           1,
           3,
           "126.23"
          ],
          [
           1,
           66,
           "152.16"
          ],
          [
           1,
           439,
           "106.50"
          ],
          [
           1,
           4452,
           "420.38"
          ],
          [
           1,
           1228,
           "420.68"
          ],
          [
           1,
           1193,
           "116.69"
          ],
          [
           1,
           788,
           "420.48"
          ],
          [
           1,
           306,
           "421.02"
          ],
          [
           1,
           3,
           "126.11"
          ],
          [
           1,
           3,
           "178.43"
          ],
          [
           1,
           3,
           "284.78"
          ],
          [
           1,
           50,
           "132.32"
          ],
          [
           1,
           302,
           "423.33"
          ],
          [
           1,
           1,
           "427.22"
          ],
          [
           1,
           17182,
           "420.09"
          ],
          [
           1,
           1,
           "423.46"
          ],
          [
           1,
           1,
           "425.08"
          ]
         ],
         "hovertemplate": "Model: %{customdata[0]}<br>ID: %{x}<br>Gap: %{text}%<br>Nodes: %{customdata[1]}<br>Runtime: %{customdata[2]} s<extra></extra>",
         "name": "Model 1",
         "text": [
          "0.00",
          "0.00",
          "0.00",
          "0.00",
          "47.99",
          "88.63",
          "223.74",
          "103.27",
          "117.66",
          "0.00",
          "0.00",
          "0.00",
          "0.00",
          "9.71",
          "22.45",
          "0.00",
          "77.16",
          "97.07",
          "0.00",
          "0.00",
          "0.00",
          "0.00",
          "0.55",
          "23487.83",
          "0.86",
          "13290.34",
          "12452.75"
         ],
         "textposition": "none",
         "type": "bar",
         "x": {
          "bdata": "AQIDBAUGBwgJCgsMDQ4PEBESExQVFhcYGRob",
          "dtype": "i1"
         },
         "y": {
          "bdata": "////B00aK0AAAAB3IblUQAAAAF5mC2BAAAAARO7oM0AAAMDmZJl4QP//P2uMQXpAAQDAy5rbc0AAAADzddB5QAAAADGPSHpAAAAA6uWWVEAAAAAmyo5fQAAAgL4zBWNAAQAAvfKfWkAAAMA5JkZ6QAAAgIzhSnpAAAAAOPMrXUABAMBRnUd6QAAAALJIUHpAAAAAMyeHX0AAAIASrE1mQAAAgJZxzHFAAACAwjOKYEAAAMAcQHV6QP//fwuPs3pAAABAbF9BekABAMDXbXd6QAAAAPk8kXpA",
          "dtype": "f8"
         }
        },
        {
         "customdata": [
          [
           2,
           1,
           "13.50"
          ],
          [
           2,
           1,
           "79.73"
          ],
          [
           2,
           57,
           "123.62"
          ],
          [
           2,
           312,
           "18.94"
          ],
          [
           2,
           552,
           "115.14"
          ],
          [
           2,
           16,
           "420.20"
          ],
          [
           2,
           8033,
           "58.30"
          ],
          [
           2,
           389,
           "410.87"
          ],
          [
           2,
           1,
           "420.22"
          ],
          [
           2,
           1,
           "80.94"
          ],
          [
           2,
           1,
           "120.84"
          ],
          [
           2,
           1,
           "122.93"
          ],
          [
           2,
           1,
           "94.74"
          ],
          [
           2,
           1767,
           "138.50"
          ],
          [
           2,
           1,
           "161.40"
          ],
          [
           2,
           1,
           "102.32"
          ],
          [
           2,
           684,
           "420.58"
          ],
          [
           2,
           1,
           "420.67"
          ],
          [
           2,
           1,
           "121.07"
          ],
          [
           2,
           1,
           "127.27"
          ],
          [
           2,
           1,
           "136.04"
          ],
          [
           2,
           1,
           "121.49"
          ],
          [
           2,
           1,
           "130.34"
          ],
          [
           2,
           1,
           "151.59"
          ],
          [
           2,
           1,
           "122.00"
          ],
          [
           2,
           3013,
           "364.31"
          ],
          [
           2,
           828,
           "388.34"
          ]
         ],
         "hovertemplate": "Model: %{customdata[0]}<br>ID: %{x}<br>Gap: %{text}%<br>Nodes: %{customdata[1]}<br>Runtime: %{customdata[2]} s<extra></extra>",
         "name": "Model 2",
         "text": [
          "0.00",
          "0.00",
          "0.00",
          "0.00",
          "0.00",
          "5.45",
          "0.00",
          "3.21",
          "96.72",
          "0.00",
          "0.00",
          "0.00",
          "0.00",
          "0.00",
          "0.00",
          "0.01",
          "0.57",
          "2.66",
          "0.00",
          "0.00",
          "0.00",
          "0.00",
          "0.00",
          "0.01",
          "0.01",
          "0.01",
          "0.01"
         ],
         "textposition": "none",
         "type": "bar",
         "x": {
          "bdata": "AQIDBAUGBwgJCgsMDQ4PEBESExQVFhcYGRob",
          "dtype": "i1"
         },
         "y": {
          "bdata": "////z6X+KkAAAABKje5TQAAAAOp3515AAAAAbJrvMkAAAAAELslcQAAAQFIuQ3pAAAAA5tEmTUAAAICP2K15QAAAgPWBQ3pAAAAAEfw7VEAAAABIrjVeQAAAAFmSu15AAAAASD6vV0AAAAAo4E9hQAAAAL/0LGRAAQAAeL6UWUAAAAAqREl6QAEAQG2oSnpA////gTVEXkAAAAAIT9FfQAAAAMZYAWFA////PxtfXkAAAIBE5UpgQAAAgAHZ8mJAAAAAV/J/XkAAAMD8BcV2QAAAwBteRXhA",
          "dtype": "f8"
         }
        }
       ],
       "layout": {
        "autosize": true,
        "barmode": "group",
        "legend": {
         "bgcolor": "rgba(255, 255, 255, 0.5)",
         "x": 0.01,
         "xanchor": "left",
         "y": 0.99,
         "yanchor": "top"
        },
        "margin": {
         "b": 10,
         "l": 10,
         "r": 10,
         "t": 10
        },
        "template": {
         "data": {
          "bar": [
           {
            "error_x": {
             "color": "#2a3f5f"
            },
            "error_y": {
             "color": "#2a3f5f"
            },
            "marker": {
             "line": {
              "color": "#E5ECF6",
              "width": 0.5
             },
             "pattern": {
              "fillmode": "overlay",
              "size": 10,
              "solidity": 0.2
             }
            },
            "type": "bar"
           }
          ],
          "barpolar": [
           {
            "marker": {
             "line": {
              "color": "#E5ECF6",
              "width": 0.5
             },
             "pattern": {
              "fillmode": "overlay",
              "size": 10,
              "solidity": 0.2
             }
            },
            "type": "barpolar"
           }
          ],
          "carpet": [
           {
            "aaxis": {
             "endlinecolor": "#2a3f5f",
             "gridcolor": "white",
             "linecolor": "white",
             "minorgridcolor": "white",
             "startlinecolor": "#2a3f5f"
            },
            "baxis": {
             "endlinecolor": "#2a3f5f",
             "gridcolor": "white",
             "linecolor": "white",
             "minorgridcolor": "white",
             "startlinecolor": "#2a3f5f"
            },
            "type": "carpet"
           }
          ],
          "choropleth": [
           {
            "colorbar": {
             "outlinewidth": 0,
             "ticks": ""
            },
            "type": "choropleth"
           }
          ],
          "contour": [
           {
            "colorbar": {
             "outlinewidth": 0,
             "ticks": ""
            },
            "colorscale": [
             [
              0,
              "#0d0887"
             ],
             [
              0.1111111111111111,
              "#46039f"
             ],
             [
              0.2222222222222222,
              "#7201a8"
             ],
             [
              0.3333333333333333,
              "#9c179e"
             ],
             [
              0.4444444444444444,
              "#bd3786"
             ],
             [
              0.5555555555555556,
              "#d8576b"
             ],
             [
              0.6666666666666666,
              "#ed7953"
             ],
             [
              0.7777777777777778,
              "#fb9f3a"
             ],
             [
              0.8888888888888888,
              "#fdca26"
             ],
             [
              1,
              "#f0f921"
             ]
            ],
            "type": "contour"
           }
          ],
          "contourcarpet": [
           {
            "colorbar": {
             "outlinewidth": 0,
             "ticks": ""
            },
            "type": "contourcarpet"
           }
          ],
          "heatmap": [
           {
            "colorbar": {
             "outlinewidth": 0,
             "ticks": ""
            },
            "colorscale": [
             [
              0,
              "#0d0887"
             ],
             [
              0.1111111111111111,
              "#46039f"
             ],
             [
              0.2222222222222222,
              "#7201a8"
             ],
             [
              0.3333333333333333,
              "#9c179e"
             ],
             [
              0.4444444444444444,
              "#bd3786"
             ],
             [
              0.5555555555555556,
              "#d8576b"
             ],
             [
              0.6666666666666666,
              "#ed7953"
             ],
             [
              0.7777777777777778,
              "#fb9f3a"
             ],
             [
              0.8888888888888888,
              "#fdca26"
             ],
             [
              1,
              "#f0f921"
             ]
            ],
            "type": "heatmap"
           }
          ],
          "histogram": [
           {
            "marker": {
             "pattern": {
              "fillmode": "overlay",
              "size": 10,
              "solidity": 0.2
             }
            },
            "type": "histogram"
           }
          ],
          "histogram2d": [
           {
            "colorbar": {
             "outlinewidth": 0,
             "ticks": ""
            },
            "colorscale": [
             [
              0,
              "#0d0887"
             ],
             [
              0.1111111111111111,
              "#46039f"
             ],
             [
              0.2222222222222222,
              "#7201a8"
             ],
             [
              0.3333333333333333,
              "#9c179e"
             ],
             [
              0.4444444444444444,
              "#bd3786"
             ],
             [
              0.5555555555555556,
              "#d8576b"
             ],
             [
              0.6666666666666666,
              "#ed7953"
             ],
             [
              0.7777777777777778,
              "#fb9f3a"
             ],
             [
              0.8888888888888888,
              "#fdca26"
             ],
             [
              1,
              "#f0f921"
             ]
            ],
            "type": "histogram2d"
           }
          ],
          "histogram2dcontour": [
           {
            "colorbar": {
             "outlinewidth": 0,
             "ticks": ""
            },
            "colorscale": [
             [
              0,
              "#0d0887"
             ],
             [
              0.1111111111111111,
              "#46039f"
             ],
             [
              0.2222222222222222,
              "#7201a8"
             ],
             [
              0.3333333333333333,
              "#9c179e"
             ],
             [
              0.4444444444444444,
              "#bd3786"
             ],
             [
              0.5555555555555556,
              "#d8576b"
             ],
             [
              0.6666666666666666,
              "#ed7953"
             ],
             [
              0.7777777777777778,
              "#fb9f3a"
             ],
             [
              0.8888888888888888,
              "#fdca26"
             ],
             [
              1,
              "#f0f921"
             ]
            ],
            "type": "histogram2dcontour"
           }
          ],
          "mesh3d": [
           {
            "colorbar": {
             "outlinewidth": 0,
             "ticks": ""
            },
            "type": "mesh3d"
           }
          ],
          "parcoords": [
           {
            "line": {
             "colorbar": {
              "outlinewidth": 0,
              "ticks": ""
             }
            },
            "type": "parcoords"
           }
          ],
          "pie": [
           {
            "automargin": true,
            "type": "pie"
           }
          ],
          "scatter": [
           {
            "fillpattern": {
             "fillmode": "overlay",
             "size": 10,
             "solidity": 0.2
            },
            "type": "scatter"
           }
          ],
          "scatter3d": [
           {
            "line": {
             "colorbar": {
              "outlinewidth": 0,
              "ticks": ""
             }
            },
            "marker": {
             "colorbar": {
              "outlinewidth": 0,
              "ticks": ""
             }
            },
            "type": "scatter3d"
           }
          ],
          "scattercarpet": [
           {
            "marker": {
             "colorbar": {
              "outlinewidth": 0,
              "ticks": ""
             }
            },
            "type": "scattercarpet"
           }
          ],
          "scattergeo": [
           {
            "marker": {
             "colorbar": {
              "outlinewidth": 0,
              "ticks": ""
             }
            },
            "type": "scattergeo"
           }
          ],
          "scattergl": [
           {
            "marker": {
             "colorbar": {
              "outlinewidth": 0,
              "ticks": ""
             }
            },
            "type": "scattergl"
           }
          ],
          "scattermap": [
           {
            "marker": {
             "colorbar": {
              "outlinewidth": 0,
              "ticks": ""
             }
            },
            "type": "scattermap"
           }
          ],
          "scattermapbox": [
           {
            "marker": {
             "colorbar": {
              "outlinewidth": 0,
              "ticks": ""
             }
            },
            "type": "scattermapbox"
           }
          ],
          "scatterpolar": [
           {
            "marker": {
             "colorbar": {
              "outlinewidth": 0,
              "ticks": ""
             }
            },
            "type": "scatterpolar"
           }
          ],
          "scatterpolargl": [
           {
            "marker": {
             "colorbar": {
              "outlinewidth": 0,
              "ticks": ""
             }
            },
            "type": "scatterpolargl"
           }
          ],
          "scatterternary": [
           {
            "marker": {
             "colorbar": {
              "outlinewidth": 0,
              "ticks": ""
             }
            },
            "type": "scatterternary"
           }
          ],
          "surface": [
           {
            "colorbar": {
             "outlinewidth": 0,
             "ticks": ""
            },
            "colorscale": [
             [
              0,
              "#0d0887"
             ],
             [
              0.1111111111111111,
              "#46039f"
             ],
             [
              0.2222222222222222,
              "#7201a8"
             ],
             [
              0.3333333333333333,
              "#9c179e"
             ],
             [
              0.4444444444444444,
              "#bd3786"
             ],
             [
              0.5555555555555556,
              "#d8576b"
             ],
             [
              0.6666666666666666,
              "#ed7953"
             ],
             [
              0.7777777777777778,
              "#fb9f3a"
             ],
             [
              0.8888888888888888,
              "#fdca26"
             ],
             [
              1,
              "#f0f921"
             ]
            ],
            "type": "surface"
           }
          ],
          "table": [
           {
            "cells": {
             "fill": {
              "color": "#EBF0F8"
             },
             "line": {
              "color": "white"
             }
            },
            "header": {
             "fill": {
              "color": "#C8D4E3"
             },
             "line": {
              "color": "white"
             }
            },
            "type": "table"
           }
          ]
         },
         "layout": {
          "annotationdefaults": {
           "arrowcolor": "#2a3f5f",
           "arrowhead": 0,
           "arrowwidth": 1
          },
          "autotypenumbers": "strict",
          "coloraxis": {
           "colorbar": {
            "outlinewidth": 0,
            "ticks": ""
           }
          },
          "colorscale": {
           "diverging": [
            [
             0,
             "#8e0152"
            ],
            [
             0.1,
             "#c51b7d"
            ],
            [
             0.2,
             "#de77ae"
            ],
            [
             0.3,
             "#f1b6da"
            ],
            [
             0.4,
             "#fde0ef"
            ],
            [
             0.5,
             "#f7f7f7"
            ],
            [
             0.6,
             "#e6f5d0"
            ],
            [
             0.7,
             "#b8e186"
            ],
            [
             0.8,
             "#7fbc41"
            ],
            [
             0.9,
             "#4d9221"
            ],
            [
             1,
             "#276419"
            ]
           ],
           "sequential": [
            [
             0,
             "#0d0887"
            ],
            [
             0.1111111111111111,
             "#46039f"
            ],
            [
             0.2222222222222222,
             "#7201a8"
            ],
            [
             0.3333333333333333,
             "#9c179e"
            ],
            [
             0.4444444444444444,
             "#bd3786"
            ],
            [
             0.5555555555555556,
             "#d8576b"
            ],
            [
             0.6666666666666666,
             "#ed7953"
            ],
            [
             0.7777777777777778,
             "#fb9f3a"
            ],
            [
             0.8888888888888888,
             "#fdca26"
            ],
            [
             1,
             "#f0f921"
            ]
           ],
           "sequentialminus": [
            [
             0,
             "#0d0887"
            ],
            [
             0.1111111111111111,
             "#46039f"
            ],
            [
             0.2222222222222222,
             "#7201a8"
            ],
            [
             0.3333333333333333,
             "#9c179e"
            ],
            [
             0.4444444444444444,
             "#bd3786"
            ],
            [
             0.5555555555555556,
             "#d8576b"
            ],
            [
             0.6666666666666666,
             "#ed7953"
            ],
            [
             0.7777777777777778,
             "#fb9f3a"
            ],
            [
             0.8888888888888888,
             "#fdca26"
            ],
            [
             1,
             "#f0f921"
            ]
           ]
          },
          "colorway": [
           "#636efa",
           "#EF553B",
           "#00cc96",
           "#ab63fa",
           "#FFA15A",
           "#19d3f3",
           "#FF6692",
           "#B6E880",
           "#FF97FF",
           "#FECB52"
          ],
          "font": {
           "color": "#2a3f5f"
          },
          "geo": {
           "bgcolor": "white",
           "lakecolor": "white",
           "landcolor": "#E5ECF6",
           "showlakes": true,
           "showland": true,
           "subunitcolor": "white"
          },
          "hoverlabel": {
           "align": "left"
          },
          "hovermode": "closest",
          "mapbox": {
           "style": "light"
          },
          "paper_bgcolor": "white",
          "plot_bgcolor": "#E5ECF6",
          "polar": {
           "angularaxis": {
            "gridcolor": "white",
            "linecolor": "white",
            "ticks": ""
           },
           "bgcolor": "#E5ECF6",
           "radialaxis": {
            "gridcolor": "white",
            "linecolor": "white",
            "ticks": ""
           }
          },
          "scene": {
           "xaxis": {
            "backgroundcolor": "#E5ECF6",
            "gridcolor": "white",
            "gridwidth": 2,
            "linecolor": "white",
            "showbackground": true,
            "ticks": "",
            "zerolinecolor": "white"
           },
           "yaxis": {
            "backgroundcolor": "#E5ECF6",
            "gridcolor": "white",
            "gridwidth": 2,
            "linecolor": "white",
            "showbackground": true,
            "ticks": "",
            "zerolinecolor": "white"
           },
           "zaxis": {
            "backgroundcolor": "#E5ECF6",
            "gridcolor": "white",
            "gridwidth": 2,
            "linecolor": "white",
            "showbackground": true,
            "ticks": "",
            "zerolinecolor": "white"
           }
          },
          "shapedefaults": {
           "line": {
            "color": "#2a3f5f"
           }
          },
          "ternary": {
           "aaxis": {
            "gridcolor": "white",
            "linecolor": "white",
            "ticks": ""
           },
           "baxis": {
            "gridcolor": "white",
            "linecolor": "white",
            "ticks": ""
           },
           "bgcolor": "#E5ECF6",
           "caxis": {
            "gridcolor": "white",
            "linecolor": "white",
            "ticks": ""
           }
          },
          "title": {
           "x": 0.05
          },
          "xaxis": {
           "automargin": true,
           "gridcolor": "white",
           "linecolor": "white",
           "ticks": "",
           "title": {
            "standoff": 15
           },
           "zerolinecolor": "white",
           "zerolinewidth": 2
          },
          "yaxis": {
           "automargin": true,
           "gridcolor": "white",
           "linecolor": "white",
           "ticks": "",
           "title": {
            "standoff": 15
           },
           "zerolinecolor": "white",
           "zerolinewidth": 2
          }
         }
        },
        "xaxis": {
         "tickmode": "array",
         "ticktext": [
          0,
          1,
          2,
          3,
          4,
          5,
          6,
          7,
          8,
          9,
          10,
          11,
          12,
          13,
          14,
          15,
          16,
          17,
          18,
          19,
          20,
          21,
          22,
          23,
          24,
          25,
          26,
          27
         ],
         "tickvals": [
          0,
          1,
          2,
          3,
          4,
          5,
          6,
          7,
          8,
          9,
          10,
          11,
          12,
          13,
          14,
          15,
          16,
          17,
          18,
          19,
          20,
          21,
          22,
          23,
          24,
          25,
          26,
          27
         ],
         "title": {
          "text": "Problem Istance (ID)"
         }
        },
        "yaxis": {
         "title": {
          "text": "Total Time (Runtime + Heuristics) (s)"
         }
        }
       }
      }
     },
     "metadata": {},
     "output_type": "display_data"
    }
   ],
   "source": [
    "import plotly.graph_objects as go\n",
    "\n",
    "# Create bar plot with visible zeros\n",
    "hovertemplate_text='Model: %{customdata[0]}<br>ID: %{x}<br>Gap: %{text}%<br>Nodes: %{customdata[1]}<br>Runtime: %{customdata[2]} s<extra></extra>'\n",
    "fig = go.Figure(data=[\n",
    "    go.Bar(\n",
    "        name='Model 0', \n",
    "        x=df0['ID'], \n",
    "        y=df0['total_time'],\n",
    "        text=df0['gap'].apply(lambda x: f'{x:.2f}'),  # Format text to 2 decimal places\n",
    "        # Create a 2D array with multiple columns\n",
    "        customdata=np.dstack((df0['model'], df0['nodes'], df0['total_time'].apply(lambda x: f'{x:.2f}')))[0],\n",
    "        textposition='none',\n",
    "        hovertemplate=hovertemplate_text\n",
    "    ),\n",
    "    go.Bar(\n",
    "        name='Model 1', \n",
    "        x=df1['ID'], \n",
    "        y=df1['total_time'],\n",
    "        text=df1['gap'].apply(lambda x: f'{x:.2f}'),\n",
    "        customdata=np.dstack((df1['model'], df1['nodes'], df1['total_time'].apply(lambda x: f'{x:.2f}')))[0],\n",
    "        textposition='none',\n",
    "        hovertemplate=hovertemplate_text\n",
    "    ),\n",
    "    go.Bar(\n",
    "        name='Model 2', \n",
    "        x=df2['ID'], \n",
    "        y=df2['total_time'],\n",
    "        text=df2['gap'].apply(lambda x: f'{x:.2f}'),\n",
    "        customdata=np.dstack((df2['model'], df2['nodes'], df2['total_time'].apply(lambda x: f'{x:.2f}')))[0],\n",
    "        textposition='none',\n",
    "        hovertemplate=hovertemplate_text\n",
    "    ),\n",
    "])\n",
    "\n",
    "# Add a subtle visual indication for zero values\n",
    "fig.update_layout(\n",
    "    autosize=True,   # let the container size drive the plot\n",
    "    margin=dict(l=10, r=10, t=10, b=10),    # width=1000,\n",
    "    # width=1000,\n",
    "    # height=600,\n",
    "    barmode='group',\n",
    "    yaxis = dict(\n",
    "        title = 'Total Time (Runtime + Heuristics) (s)',\n",
    "    ),\n",
    "    xaxis = dict(\n",
    "        title = 'Problem Istance (ID)',\n",
    "        tickmode = 'array',\n",
    "        tickvals = list(range(0, 28)),\n",
    "        ticktext = list(range(0, 28)),\n",
    "    ),\n",
    "    legend=dict(\n",
    "        x=0.01,\n",
    "        y=0.99,\n",
    "        xanchor='left',\n",
    "        yanchor='top',\n",
    "        bgcolor='rgba(255, 255, 255, 0.5)'\n",
    "    )\n",
    ")\n",
    "\n",
    "fig.show()\n",
    "\n",
    "\n",
    "# # Save as HTML\n",
    "div_schedule = plot(\n",
    "    fig, include_plotlyjs=True, config={\"responsive\": True}, output_type=\"div\"\n",
    ")\n",
    "# write div snippet to file\n",
    "with open('../docs/images/results-total-time.html', 'w') as f:\n",
    "    f.write(div_schedule)"
   ]
  },
  {
   "cell_type": "code",
   "execution_count": 4,
   "id": "9835f1a5",
   "metadata": {},
   "outputs": [
    {
     "data": {
      "application/vnd.plotly.v1+json": {
       "config": {
        "plotlyServerURL": "https://plot.ly"
       },
       "data": [
        {
         "customdata": [
          [
           0,
           818,
           "0.18"
          ],
          [
           0,
           13860,
           "8.00"
          ],
          [
           0,
           14149,
           "9.50"
          ],
          [
           0,
           8368,
           "1.75"
          ],
          [
           0,
           726254,
           "300.00"
          ],
          [
           0,
           282761,
           "300.01"
          ],
          [
           0,
           3177322,
           "300.00"
          ],
          [
           0,
           462878,
           "300.01"
          ],
          [
           0,
           346955,
           "300.01"
          ],
          [
           0,
           1471,
           "0.93"
          ],
          [
           0,
           8789,
           "5.76"
          ],
          [
           0,
           16272,
           "33.53"
          ],
          [
           0,
           5715,
           "2.26"
          ],
          [
           0,
           241439,
           "300.03"
          ],
          [
           0,
           141451,
           "300.02"
          ],
          [
           0,
           19332,
           "13.93"
          ],
          [
           0,
           219596,
           "300.01"
          ],
          [
           0,
           154190,
           "300.03"
          ],
          [
           0,
           2349,
           "5.93"
          ],
          [
           0,
           14770,
           "55.97"
          ],
          [
           0,
           27686,
           "162.09"
          ],
          [
           0,
           8969,
           "14.08"
          ],
          [
           0,
           54284,
           "300.29"
          ],
          [
           0,
           45831,
           "300.03"
          ],
          [
           0,
           242590,
           "300.04"
          ],
          [
           0,
           68848,
           "300.01"
          ],
          [
           0,
           65343,
           "300.03"
          ]
         ],
         "hovertemplate": "Model: %{customdata[0]}<br>ID: %{x}<br>Gap: %{text}%<br>Nodes: %{customdata[1]}<br>Runtime: %{customdata[2]} s<extra></extra>",
         "name": "Model 0",
         "text": [
          "0.00",
          "0.00",
          "0.00",
          "0.00",
          "inf",
          "inf",
          "229.07",
          "inf",
          "inf",
          "0.00",
          "0.00",
          "0.00",
          "0.00",
          "9.30",
          "inf",
          "0.00",
          "inf",
          "inf",
          "0.00",
          "0.00",
          "0.00",
          "0.00",
          "0.58",
          "inf",
          "0.14",
          "inf",
          "inf"
         ],
         "textposition": "none",
         "type": "bar",
         "x": {
          "bdata": "AQIDBAUGBwgJCgsMDQ4PEBESExQVFhcYGRob",
          "dtype": "i1"
         },
         "y": {
          "bdata": "AAAAAACQiUAAAAAAABLLQAAAAACAostAAAAAAABYwEAAAAAA3CkmQQAAAAAkQhFBAAAAALU9SEEAAAAAeEAcQQAAAAAsLRVBAAAAAAD8lkAAAAAAgCrBQAAAAAAAyM9AAAAAAABTtkAAAAAA+HgNQQAAAABYRAFBAAAAAADh0kAAAAAAYM4KQQAAAABw0gJBAAAAAABaokAAAAAAANnMQAAAAACACdtAAAAAAICEwUAAAAAAgIHqQAAAAADgYOZAAAAAAPCcDUEAAAAAAM/wQAAAAADg5+9A",
          "dtype": "f8"
         }
        },
        {
         "customdata": [
          [
           1,
           801,
           "13.55"
          ],
          [
           1,
           16171,
           "82.89"
          ],
          [
           1,
           13184,
           "128.36"
          ],
          [
           1,
           8419,
           "19.91"
          ],
          [
           1,
           791891,
           "393.59"
          ],
          [
           1,
           223359,
           "420.10"
          ],
          [
           1,
           3212781,
           "317.73"
          ],
          [
           1,
           485693,
           "413.03"
          ],
          [
           1,
           347945,
           "420.53"
          ],
          [
           1,
           1489,
           "82.36"
          ],
          [
           1,
           8789,
           "126.23"
          ],
          [
           1,
           15791,
           "152.16"
          ],
          [
           1,
           9059,
           "106.50"
          ],
          [
           1,
           248848,
           "420.38"
          ],
          [
           1,
           120064,
           "420.68"
          ],
          [
           1,
           19768,
           "116.69"
          ],
          [
           1,
           190160,
           "420.48"
          ],
          [
           1,
           151308,
           "421.02"
          ],
          [
           1,
           2345,
           "126.11"
          ],
          [
           1,
           14770,
           "178.43"
          ],
          [
           1,
           27688,
           "284.78"
          ],
          [
           1,
           8419,
           "132.32"
          ],
          [
           1,
           54424,
           "423.33"
          ],
          [
           1,
           45991,
           "427.22"
          ],
          [
           1,
           274587,
           "420.09"
          ],
          [
           1,
           68247,
           "423.46"
          ],
          [
           1,
           63012,
           "425.08"
          ]
         ],
         "hovertemplate": "Model: %{customdata[0]}<br>ID: %{x}<br>Gap: %{text}%<br>Nodes: %{customdata[1]}<br>Runtime: %{customdata[2]} s<extra></extra>",
         "name": "Model 1",
         "text": [
          "0.00",
          "0.00",
          "0.00",
          "0.00",
          "47.99",
          "88.63",
          "223.74",
          "103.27",
          "117.66",
          "0.00",
          "0.00",
          "0.00",
          "0.00",
          "9.71",
          "22.45",
          "0.00",
          "77.16",
          "97.07",
          "0.00",
          "0.00",
          "0.00",
          "0.00",
          "0.55",
          "23487.83",
          "0.86",
          "13290.34",
          "12452.75"
         ],
         "textposition": "none",
         "type": "bar",
         "x": {
          "bdata": "AQIDBAUGBwgJCgsMDQ4PEBESExQVFhcYGRob",
          "dtype": "i1"
         },
         "y": {
          "bdata": "AAAAAAAIiUAAAAAAgJXPQAAAAAAAwMlAAAAAAIBxwEAAAAAApiooQQAAAAD4QwtBAAAAgPaCSEEAAAAA9KQdQQAAAACkPBVBAAAAAABEl0AAAAAAgCrBQAAAAACA185AAAAAAICxwUAAAAAAgGAOQQAAAAAAUP1AAAAAAABO00AAAAAAgDYHQQAAAABgeAJBAAAAAABSokAAAAAAANnMQAAAAAAACttAAAAAAIBxwEAAAAAAAJPqQAAAAADgdOZAAAAAAGzCEEEAAAAAcKnwQAAAAACAxO5A",
          "dtype": "f8"
         }
        },
        {
         "customdata": [
          [
           2,
           180,
           "13.50"
          ],
          [
           2,
           949,
           "79.73"
          ],
          [
           2,
           2808,
           "123.62"
          ],
          [
           2,
           6717,
           "18.94"
          ],
          [
           2,
           78036,
           "115.14"
          ],
          [
           2,
           132303,
           "420.20"
          ],
          [
           2,
           669270,
           "58.30"
          ],
          [
           2,
           327410,
           "410.87"
          ],
          [
           2,
           82817,
           "420.22"
          ],
          [
           2,
           65,
           "80.94"
          ],
          [
           2,
           208,
           "120.84"
          ],
          [
           2,
           684,
           "122.93"
          ],
          [
           2,
           863,
           "94.74"
          ],
          [
           2,
           137166,
           "138.50"
          ],
          [
           2,
           28984,
           "161.40"
          ],
          [
           2,
           3853,
           "102.32"
          ],
          [
           2,
           408924,
           "420.58"
          ],
          [
           2,
           113408,
           "420.67"
          ],
          [
           2,
           42,
           "121.07"
          ],
          [
           2,
           78,
           "127.27"
          ],
          [
           2,
           1229,
           "136.04"
          ],
          [
           2,
           527,
           "121.49"
          ],
          [
           2,
           6691,
           "130.34"
          ],
          [
           2,
           33735,
           "151.59"
          ],
          [
           2,
           2694,
           "122.00"
          ],
          [
           2,
           644220,
           "364.31"
          ],
          [
           2,
           331506,
           "388.34"
          ]
         ],
         "hovertemplate": "Model: %{customdata[0]}<br>ID: %{x}<br>Gap: %{text}%<br>Nodes: %{customdata[1]}<br>Runtime: %{customdata[2]} s<extra></extra>",
         "name": "Model 2",
         "text": [
          "0.00",
          "0.00",
          "0.00",
          "0.00",
          "0.00",
          "5.45",
          "0.00",
          "3.21",
          "96.72",
          "0.00",
          "0.00",
          "0.00",
          "0.00",
          "0.00",
          "0.00",
          "0.01",
          "0.57",
          "2.66",
          "0.00",
          "0.00",
          "0.00",
          "0.00",
          "0.00",
          "0.01",
          "0.01",
          "0.01",
          "0.01"
         ],
         "textposition": "none",
         "type": "bar",
         "x": {
          "bdata": "AQIDBAUGBwgJCgsMDQ4PEBESExQVFhcYGRob",
          "dtype": "i1"
         },
         "y": {
          "bdata": "AAAAAACAZkAAAAAAAKiNQAAAAAAA8KVAAAAAAAA9ukAAAAAAQA3zQAAAAAB4JgBBAAAAAKxsJEEAAAAAyPsTQQAAAAAQOPRAAAAAAABAUEAAAAAAAABqQAAAAAAAYIVAAAAAAAD4ikAAAAAAcL4AQQAAAAAATtxAAAAAAAAarkAAAAAAcPUYQQAAAAAAsPtAAAAAAAAARUAAAAAAAIBTQAAAAAAANJNAAAAAAAB4gEAAAAAAACO6QAAAAADgeOBAAAAAAAAMpUAAAAAA+KgjQQAAAADIOxRB",
          "dtype": "f8"
         }
        }
       ],
       "layout": {
        "autosize": true,
        "barmode": "group",
        "legend": {
         "bgcolor": "rgba(255, 255, 255, 0.5)",
         "x": 0.01,
         "xanchor": "left",
         "y": 0.99,
         "yanchor": "top"
        },
        "margin": {
         "b": 10,
         "l": 10,
         "r": 10,
         "t": 10
        },
        "template": {
         "data": {
          "bar": [
           {
            "error_x": {
             "color": "#2a3f5f"
            },
            "error_y": {
             "color": "#2a3f5f"
            },
            "marker": {
             "line": {
              "color": "#E5ECF6",
              "width": 0.5
             },
             "pattern": {
              "fillmode": "overlay",
              "size": 10,
              "solidity": 0.2
             }
            },
            "type": "bar"
           }
          ],
          "barpolar": [
           {
            "marker": {
             "line": {
              "color": "#E5ECF6",
              "width": 0.5
             },
             "pattern": {
              "fillmode": "overlay",
              "size": 10,
              "solidity": 0.2
             }
            },
            "type": "barpolar"
           }
          ],
          "carpet": [
           {
            "aaxis": {
             "endlinecolor": "#2a3f5f",
             "gridcolor": "white",
             "linecolor": "white",
             "minorgridcolor": "white",
             "startlinecolor": "#2a3f5f"
            },
            "baxis": {
             "endlinecolor": "#2a3f5f",
             "gridcolor": "white",
             "linecolor": "white",
             "minorgridcolor": "white",
             "startlinecolor": "#2a3f5f"
            },
            "type": "carpet"
           }
          ],
          "choropleth": [
           {
            "colorbar": {
             "outlinewidth": 0,
             "ticks": ""
            },
            "type": "choropleth"
           }
          ],
          "contour": [
           {
            "colorbar": {
             "outlinewidth": 0,
             "ticks": ""
            },
            "colorscale": [
             [
              0,
              "#0d0887"
             ],
             [
              0.1111111111111111,
              "#46039f"
             ],
             [
              0.2222222222222222,
              "#7201a8"
             ],
             [
              0.3333333333333333,
              "#9c179e"
             ],
             [
              0.4444444444444444,
              "#bd3786"
             ],
             [
              0.5555555555555556,
              "#d8576b"
             ],
             [
              0.6666666666666666,
              "#ed7953"
             ],
             [
              0.7777777777777778,
              "#fb9f3a"
             ],
             [
              0.8888888888888888,
              "#fdca26"
             ],
             [
              1,
              "#f0f921"
             ]
            ],
            "type": "contour"
           }
          ],
          "contourcarpet": [
           {
            "colorbar": {
             "outlinewidth": 0,
             "ticks": ""
            },
            "type": "contourcarpet"
           }
          ],
          "heatmap": [
           {
            "colorbar": {
             "outlinewidth": 0,
             "ticks": ""
            },
            "colorscale": [
             [
              0,
              "#0d0887"
             ],
             [
              0.1111111111111111,
              "#46039f"
             ],
             [
              0.2222222222222222,
              "#7201a8"
             ],
             [
              0.3333333333333333,
              "#9c179e"
             ],
             [
              0.4444444444444444,
              "#bd3786"
             ],
             [
              0.5555555555555556,
              "#d8576b"
             ],
             [
              0.6666666666666666,
              "#ed7953"
             ],
             [
              0.7777777777777778,
              "#fb9f3a"
             ],
             [
              0.8888888888888888,
              "#fdca26"
             ],
             [
              1,
              "#f0f921"
             ]
            ],
            "type": "heatmap"
           }
          ],
          "histogram": [
           {
            "marker": {
             "pattern": {
              "fillmode": "overlay",
              "size": 10,
              "solidity": 0.2
             }
            },
            "type": "histogram"
           }
          ],
          "histogram2d": [
           {
            "colorbar": {
             "outlinewidth": 0,
             "ticks": ""
            },
            "colorscale": [
             [
              0,
              "#0d0887"
             ],
             [
              0.1111111111111111,
              "#46039f"
             ],
             [
              0.2222222222222222,
              "#7201a8"
             ],
             [
              0.3333333333333333,
              "#9c179e"
             ],
             [
              0.4444444444444444,
              "#bd3786"
             ],
             [
              0.5555555555555556,
              "#d8576b"
             ],
             [
              0.6666666666666666,
              "#ed7953"
             ],
             [
              0.7777777777777778,
              "#fb9f3a"
             ],
             [
              0.8888888888888888,
              "#fdca26"
             ],
             [
              1,
              "#f0f921"
             ]
            ],
            "type": "histogram2d"
           }
          ],
          "histogram2dcontour": [
           {
            "colorbar": {
             "outlinewidth": 0,
             "ticks": ""
            },
            "colorscale": [
             [
              0,
              "#0d0887"
             ],
             [
              0.1111111111111111,
              "#46039f"
             ],
             [
              0.2222222222222222,
              "#7201a8"
             ],
             [
              0.3333333333333333,
              "#9c179e"
             ],
             [
              0.4444444444444444,
              "#bd3786"
             ],
             [
              0.5555555555555556,
              "#d8576b"
             ],
             [
              0.6666666666666666,
              "#ed7953"
             ],
             [
              0.7777777777777778,
              "#fb9f3a"
             ],
             [
              0.8888888888888888,
              "#fdca26"
             ],
             [
              1,
              "#f0f921"
             ]
            ],
            "type": "histogram2dcontour"
           }
          ],
          "mesh3d": [
           {
            "colorbar": {
             "outlinewidth": 0,
             "ticks": ""
            },
            "type": "mesh3d"
           }
          ],
          "parcoords": [
           {
            "line": {
             "colorbar": {
              "outlinewidth": 0,
              "ticks": ""
             }
            },
            "type": "parcoords"
           }
          ],
          "pie": [
           {
            "automargin": true,
            "type": "pie"
           }
          ],
          "scatter": [
           {
            "fillpattern": {
             "fillmode": "overlay",
             "size": 10,
             "solidity": 0.2
            },
            "type": "scatter"
           }
          ],
          "scatter3d": [
           {
            "line": {
             "colorbar": {
              "outlinewidth": 0,
              "ticks": ""
             }
            },
            "marker": {
             "colorbar": {
              "outlinewidth": 0,
              "ticks": ""
             }
            },
            "type": "scatter3d"
           }
          ],
          "scattercarpet": [
           {
            "marker": {
             "colorbar": {
              "outlinewidth": 0,
              "ticks": ""
             }
            },
            "type": "scattercarpet"
           }
          ],
          "scattergeo": [
           {
            "marker": {
             "colorbar": {
              "outlinewidth": 0,
              "ticks": ""
             }
            },
            "type": "scattergeo"
           }
          ],
          "scattergl": [
           {
            "marker": {
             "colorbar": {
              "outlinewidth": 0,
              "ticks": ""
             }
            },
            "type": "scattergl"
           }
          ],
          "scattermap": [
           {
            "marker": {
             "colorbar": {
              "outlinewidth": 0,
              "ticks": ""
             }
            },
            "type": "scattermap"
           }
          ],
          "scattermapbox": [
           {
            "marker": {
             "colorbar": {
              "outlinewidth": 0,
              "ticks": ""
             }
            },
            "type": "scattermapbox"
           }
          ],
          "scatterpolar": [
           {
            "marker": {
             "colorbar": {
              "outlinewidth": 0,
              "ticks": ""
             }
            },
            "type": "scatterpolar"
           }
          ],
          "scatterpolargl": [
           {
            "marker": {
             "colorbar": {
              "outlinewidth": 0,
              "ticks": ""
             }
            },
            "type": "scatterpolargl"
           }
          ],
          "scatterternary": [
           {
            "marker": {
             "colorbar": {
              "outlinewidth": 0,
              "ticks": ""
             }
            },
            "type": "scatterternary"
           }
          ],
          "surface": [
           {
            "colorbar": {
             "outlinewidth": 0,
             "ticks": ""
            },
            "colorscale": [
             [
              0,
              "#0d0887"
             ],
             [
              0.1111111111111111,
              "#46039f"
             ],
             [
              0.2222222222222222,
              "#7201a8"
             ],
             [
              0.3333333333333333,
              "#9c179e"
             ],
             [
              0.4444444444444444,
              "#bd3786"
             ],
             [
              0.5555555555555556,
              "#d8576b"
             ],
             [
              0.6666666666666666,
              "#ed7953"
             ],
             [
              0.7777777777777778,
              "#fb9f3a"
             ],
             [
              0.8888888888888888,
              "#fdca26"
             ],
             [
              1,
              "#f0f921"
             ]
            ],
            "type": "surface"
           }
          ],
          "table": [
           {
            "cells": {
             "fill": {
              "color": "#EBF0F8"
             },
             "line": {
              "color": "white"
             }
            },
            "header": {
             "fill": {
              "color": "#C8D4E3"
             },
             "line": {
              "color": "white"
             }
            },
            "type": "table"
           }
          ]
         },
         "layout": {
          "annotationdefaults": {
           "arrowcolor": "#2a3f5f",
           "arrowhead": 0,
           "arrowwidth": 1
          },
          "autotypenumbers": "strict",
          "coloraxis": {
           "colorbar": {
            "outlinewidth": 0,
            "ticks": ""
           }
          },
          "colorscale": {
           "diverging": [
            [
             0,
             "#8e0152"
            ],
            [
             0.1,
             "#c51b7d"
            ],
            [
             0.2,
             "#de77ae"
            ],
            [
             0.3,
             "#f1b6da"
            ],
            [
             0.4,
             "#fde0ef"
            ],
            [
             0.5,
             "#f7f7f7"
            ],
            [
             0.6,
             "#e6f5d0"
            ],
            [
             0.7,
             "#b8e186"
            ],
            [
             0.8,
             "#7fbc41"
            ],
            [
             0.9,
             "#4d9221"
            ],
            [
             1,
             "#276419"
            ]
           ],
           "sequential": [
            [
             0,
             "#0d0887"
            ],
            [
             0.1111111111111111,
             "#46039f"
            ],
            [
             0.2222222222222222,
             "#7201a8"
            ],
            [
             0.3333333333333333,
             "#9c179e"
            ],
            [
             0.4444444444444444,
             "#bd3786"
            ],
            [
             0.5555555555555556,
             "#d8576b"
            ],
            [
             0.6666666666666666,
             "#ed7953"
            ],
            [
             0.7777777777777778,
             "#fb9f3a"
            ],
            [
             0.8888888888888888,
             "#fdca26"
            ],
            [
             1,
             "#f0f921"
            ]
           ],
           "sequentialminus": [
            [
             0,
             "#0d0887"
            ],
            [
             0.1111111111111111,
             "#46039f"
            ],
            [
             0.2222222222222222,
             "#7201a8"
            ],
            [
             0.3333333333333333,
             "#9c179e"
            ],
            [
             0.4444444444444444,
             "#bd3786"
            ],
            [
             0.5555555555555556,
             "#d8576b"
            ],
            [
             0.6666666666666666,
             "#ed7953"
            ],
            [
             0.7777777777777778,
             "#fb9f3a"
            ],
            [
             0.8888888888888888,
             "#fdca26"
            ],
            [
             1,
             "#f0f921"
            ]
           ]
          },
          "colorway": [
           "#636efa",
           "#EF553B",
           "#00cc96",
           "#ab63fa",
           "#FFA15A",
           "#19d3f3",
           "#FF6692",
           "#B6E880",
           "#FF97FF",
           "#FECB52"
          ],
          "font": {
           "color": "#2a3f5f"
          },
          "geo": {
           "bgcolor": "white",
           "lakecolor": "white",
           "landcolor": "#E5ECF6",
           "showlakes": true,
           "showland": true,
           "subunitcolor": "white"
          },
          "hoverlabel": {
           "align": "left"
          },
          "hovermode": "closest",
          "mapbox": {
           "style": "light"
          },
          "paper_bgcolor": "white",
          "plot_bgcolor": "#E5ECF6",
          "polar": {
           "angularaxis": {
            "gridcolor": "white",
            "linecolor": "white",
            "ticks": ""
           },
           "bgcolor": "#E5ECF6",
           "radialaxis": {
            "gridcolor": "white",
            "linecolor": "white",
            "ticks": ""
           }
          },
          "scene": {
           "xaxis": {
            "backgroundcolor": "#E5ECF6",
            "gridcolor": "white",
            "gridwidth": 2,
            "linecolor": "white",
            "showbackground": true,
            "ticks": "",
            "zerolinecolor": "white"
           },
           "yaxis": {
            "backgroundcolor": "#E5ECF6",
            "gridcolor": "white",
            "gridwidth": 2,
            "linecolor": "white",
            "showbackground": true,
            "ticks": "",
            "zerolinecolor": "white"
           },
           "zaxis": {
            "backgroundcolor": "#E5ECF6",
            "gridcolor": "white",
            "gridwidth": 2,
            "linecolor": "white",
            "showbackground": true,
            "ticks": "",
            "zerolinecolor": "white"
           }
          },
          "shapedefaults": {
           "line": {
            "color": "#2a3f5f"
           }
          },
          "ternary": {
           "aaxis": {
            "gridcolor": "white",
            "linecolor": "white",
            "ticks": ""
           },
           "baxis": {
            "gridcolor": "white",
            "linecolor": "white",
            "ticks": ""
           },
           "bgcolor": "#E5ECF6",
           "caxis": {
            "gridcolor": "white",
            "linecolor": "white",
            "ticks": ""
           }
          },
          "title": {
           "x": 0.05
          },
          "xaxis": {
           "automargin": true,
           "gridcolor": "white",
           "linecolor": "white",
           "ticks": "",
           "title": {
            "standoff": 15
           },
           "zerolinecolor": "white",
           "zerolinewidth": 2
          },
          "yaxis": {
           "automargin": true,
           "gridcolor": "white",
           "linecolor": "white",
           "ticks": "",
           "title": {
            "standoff": 15
           },
           "zerolinecolor": "white",
           "zerolinewidth": 2
          }
         }
        },
        "xaxis": {
         "tickmode": "array",
         "ticktext": [
          0,
          1,
          2,
          3,
          4,
          5,
          6,
          7,
          8,
          9,
          10,
          11,
          12,
          13,
          14,
          15,
          16,
          17,
          18,
          19,
          20,
          21,
          22,
          23,
          24,
          25,
          26,
          27
         ],
         "tickvals": [
          0,
          1,
          2,
          3,
          4,
          5,
          6,
          7,
          8,
          9,
          10,
          11,
          12,
          13,
          14,
          15,
          16,
          17,
          18,
          19,
          20,
          21,
          22,
          23,
          24,
          25,
          26,
          27
         ],
         "title": {
          "text": "Problem Istance (ID)"
         }
        },
        "yaxis": {
         "title": {
          "text": "Iterations"
         }
        }
       }
      }
     },
     "metadata": {},
     "output_type": "display_data"
    }
   ],
   "source": [
    "import plotly.graph_objects as go\n",
    "\n",
    "# Create bar plot with visible zeros\n",
    "hovertemplate_text='Model: %{customdata[0]}<br>ID: %{x}<br>Gap: %{text}%<br>Nodes: %{customdata[1]}<br>Runtime: %{customdata[2]} s<extra></extra>'\n",
    "fig = go.Figure(data=[\n",
    "    go.Bar(\n",
    "        name='Model 0', \n",
    "        x=df0['ID'], \n",
    "        y=df0['iterations'],\n",
    "        text=df0['gap'].apply(lambda x: f'{x:.2f}'),  # Format text to 2 decimal places\n",
    "        # Create a 2D array with multiple columns\n",
    "        customdata=np.dstack((df0['model'], df0['iterations'], df0['total_time'].apply(lambda x: f'{x:.2f}')))[0],\n",
    "        textposition='none',\n",
    "        hovertemplate=hovertemplate_text\n",
    "    ),\n",
    "    go.Bar(\n",
    "        name='Model 1', \n",
    "        x=df1['ID'], \n",
    "        y=df1['iterations'],\n",
    "        text=df1['gap'].apply(lambda x: f'{x:.2f}'),\n",
    "        customdata=np.dstack((df1['model'], df1['iterations'], df1['total_time'].apply(lambda x: f'{x:.2f}')))[0],\n",
    "        textposition='none',\n",
    "        hovertemplate=hovertemplate_text\n",
    "    ),\n",
    "    go.Bar(\n",
    "        name='Model 2', \n",
    "        x=df2['ID'], \n",
    "        y=df2['iterations'],\n",
    "        text=df2['gap'].apply(lambda x: f'{x:.2f}'),\n",
    "        customdata=np.dstack((df2['model'], df2['iterations'], df2['total_time'].apply(lambda x: f'{x:.2f}')))[0],\n",
    "        textposition='none',\n",
    "        hovertemplate=hovertemplate_text\n",
    "    ),\n",
    "])\n",
    "\n",
    "# Add a subtle visual indication for zero values\n",
    "fig.update_layout(\n",
    "    autosize=True,   # let the container size drive the plot\n",
    "    margin=dict(l=10, r=10, t=10, b=10),    # width=1000,\n",
    "    # width=1000,\n",
    "    # height=600,\n",
    "    barmode='group',\n",
    "    yaxis = dict(\n",
    "        title = 'Iterations',\n",
    "    ),\n",
    "    xaxis = dict(\n",
    "        title = 'Problem Istance (ID)',\n",
    "        tickmode = 'array',\n",
    "        tickvals = list(range(0, 28)),\n",
    "        ticktext = list(range(0, 28)),\n",
    "    ),\n",
    "    legend=dict(\n",
    "        x=0.01,\n",
    "        y=0.99,\n",
    "        xanchor='left',\n",
    "        yanchor='top',\n",
    "        bgcolor='rgba(255, 255, 255, 0.5)'\n",
    "    )\n",
    ")\n",
    "\n",
    "fig.show()\n",
    "\n",
    "# # Save as HTML\n",
    "div_schedule = plot(\n",
    "    fig, include_plotlyjs=True, config={\"responsive\": True}, output_type=\"div\"\n",
    ")\n",
    "# write div snippet to file\n",
    "with open('../docs/images/results-iterations.html', 'w') as f:\n",
    "    f.write(div_schedule)\n",
    "\n"
   ]
  }
 ],
 "metadata": {
  "kernelspec": {
   "display_name": "mathopt",
   "language": "python",
   "name": "python3"
  },
  "language_info": {
   "codemirror_mode": {
    "name": "ipython",
    "version": 3
   },
   "file_extension": ".py",
   "mimetype": "text/x-python",
   "name": "python",
   "nbconvert_exporter": "python",
   "pygments_lexer": "ipython3",
   "version": "3.11.5"
  }
 },
 "nbformat": 4,
 "nbformat_minor": 5
}
