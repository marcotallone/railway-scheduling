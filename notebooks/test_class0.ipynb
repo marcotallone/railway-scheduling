{
 "cells": [
  {
   "cell_type": "code",
   "execution_count": 1,
   "metadata": {},
   "outputs": [
    {
     "name": "stdout",
     "output_type": "stream",
     "text": [
      "Current working directory: 📂 /home/marco/railway-scheduling\n"
     ]
    }
   ],
   "source": [
    "import os\n",
    "import sys\n",
    "from railway import *\n",
    "from gurobipy import GRB\n",
    "\n",
    "import matplotlib.pyplot as plt\n",
    "import seaborn as sns\n",
    "sns.set_theme(\n",
    "\tstyle=\"whitegrid\",\n",
    "\tpalette=\"tab10\",\n",
    "\trc={\n",
    "\t\t\"grid.linestyle\": \"--\",\n",
    "\t\t\"grid.color\": \"gray\",\n",
    "\t\t\"grid.alpha\": 0.3,\n",
    "\t\t\"grid.linewidth\": 0.5,\n",
    "\t},\n",
    ")\n",
    "\n",
    "# Set the current directory to root directory\n",
    "os.chdir(\"/home/marco/railway-scheduling\")\n",
    "sys.path.append(os.getcwd())\n",
    "print(f\"Current working directory: 📂 {os.getcwd()}\")"
   ]
  },
  {
   "cell_type": "code",
   "execution_count": 2,
   "metadata": {},
   "outputs": [],
   "source": [
    "# Constant values\n",
    "stations = 10\n",
    "periods = 10\n",
    "jobs = 80\n",
    "passengers = 2000\n",
    "routes = 3"
   ]
  },
  {
   "cell_type": "code",
   "execution_count": 3,
   "metadata": {},
   "outputs": [
    {
     "name": "stdout",
     "output_type": "stream",
     "text": [
      "Set parameter Username\n",
      "Set parameter LicenseID to value 2585388\n"
     ]
    },
    {
     "name": "stdout",
     "output_type": "stream",
     "text": [
      "Academic license - for non-commercial use only - expires 2025-11-15\n",
      "Model created: 🚂 <gurobi.Model Continuous instance Unnamed: 0 constrs, 0 vars, Parameter changes: Username=(user-defined), LicenseID=2585388>\n",
      "Set parameter TimeLimit to value 30\n"
     ]
    }
   ],
   "source": [
    "# Create model\n",
    "rail = Railway(stations, periods, jobs, passengers, routes)\n",
    "print(f\"Model created: 🚂 {rail.model}\")\n",
    "rail.model.setParam('TimeLimit', 30)"
   ]
  },
  {
   "cell_type": "code",
   "execution_count": 4,
   "metadata": {},
   "outputs": [
    {
     "name": "stdout",
     "output_type": "stream",
     "text": [
      "Problem generated successfully. Remember to set constraints and objective (again).\n"
     ]
    }
   ],
   "source": [
    "# Choose the parameters for the problem to generate\n",
    "job_min_time, job_max_time = 1, 1\n",
    "job_min_length, job_max_length = 1, 1\n",
    "pause_min_time, pause_max_time = 0, 1\n",
    "min_demand, max_demand = 0.5, 0.9\n",
    "min_share, max_share = 0.5, 0.9\n",
    "min_capacity, max_capacity = 0.5, 0.7\n",
    "n_max_events = 0\n",
    "event_min_length, event_max_length = 0, 0\n",
    "\n",
    "# Generate the problem\n",
    "rail.generate(\n",
    "\tjob_min_time,\n",
    "\tjob_max_time,\n",
    "\tjob_min_length,\n",
    "\tjob_max_length,\n",
    "\tpause_min_time,\n",
    "\tpause_max_time,\n",
    "\tmin_demand,\n",
    "\tmax_demand,\n",
    "\tmin_share,\n",
    "\tmax_share,\n",
    "\tmin_capacity,\n",
    "\tmax_capacity,\n",
    "\tn_max_events,\n",
    "\tevent_min_length,\n",
    "\tevent_max_length,\n",
    ")"
   ]
  },
  {
   "cell_type": "code",
   "execution_count": 5,
   "metadata": {},
   "outputs": [
    {
     "data": {
      "text/plain": [
       "{1: [(2, 5)],\n",
       " 2: [(4, 6)],\n",
       " 3: [(7, 9)],\n",
       " 4: [(3, 5)],\n",
       " 5: [(9, 10)],\n",
       " 6: [(4, 6)],\n",
       " 7: [(2, 6)],\n",
       " 8: [(2, 5)],\n",
       " 9: [(3, 10)],\n",
       " 10: [(3, 4)],\n",
       " 11: [(7, 8)],\n",
       " 12: [(3, 4)],\n",
       " 13: [(2, 6)],\n",
       " 14: [(1, 2)],\n",
       " 15: [(5, 7)],\n",
       " 16: [(4, 6)],\n",
       " 17: [(4, 10)],\n",
       " 18: [(5, 7)],\n",
       " 19: [(2, 3)],\n",
       " 20: [(2, 9)],\n",
       " 21: [(2, 3)],\n",
       " 22: [(5, 8)],\n",
       " 23: [(6, 7)],\n",
       " 24: [(8, 10)],\n",
       " 25: [(5, 8)],\n",
       " 26: [(1, 3)],\n",
       " 27: [(2, 4)],\n",
       " 28: [(1, 9)],\n",
       " 29: [(1, 3)],\n",
       " 30: [(6, 7)],\n",
       " 31: [(5, 9)],\n",
       " 32: [(1, 6)],\n",
       " 33: [(2, 9)],\n",
       " 34: [(3, 7)],\n",
       " 35: [(1, 9)],\n",
       " 36: [(1, 2)],\n",
       " 37: [(3, 7)],\n",
       " 38: [(1, 6)],\n",
       " 39: [(6, 7)],\n",
       " 40: [(1, 4)],\n",
       " 41: [(1, 8)],\n",
       " 42: [(6, 9)],\n",
       " 43: [(5, 9)],\n",
       " 44: [(4, 5)],\n",
       " 45: [(4, 5)],\n",
       " 46: [(2, 8)],\n",
       " 47: [(2, 9)],\n",
       " 48: [(2, 10)],\n",
       " 49: [(5, 9)],\n",
       " 50: [(2, 10)],\n",
       " 51: [(5, 6)],\n",
       " 52: [(6, 10)],\n",
       " 53: [(3, 4)],\n",
       " 54: [(2, 5)],\n",
       " 55: [(2, 4)],\n",
       " 56: [(7, 10)],\n",
       " 57: [(2, 7)],\n",
       " 58: [(4, 7)],\n",
       " 59: [(2, 6)],\n",
       " 60: [(6, 9)],\n",
       " 61: [(4, 7)],\n",
       " 62: [(2, 9)],\n",
       " 63: [(6, 8)],\n",
       " 64: [(3, 7)],\n",
       " 65: [(3, 10)],\n",
       " 66: [(9, 10)],\n",
       " 67: [(3, 10)],\n",
       " 68: [(7, 9)],\n",
       " 69: [(4, 5)],\n",
       " 70: [(7, 9)],\n",
       " 71: [(3, 8)],\n",
       " 72: [(7, 9)],\n",
       " 73: [(5, 8)],\n",
       " 74: [(3, 5)],\n",
       " 75: [(8, 9)],\n",
       " 76: [(9, 10)],\n",
       " 77: [(1, 9)],\n",
       " 78: [(4, 6)],\n",
       " 79: [(1, 7)],\n",
       " 80: [(2, 5)]}"
      ]
     },
     "execution_count": 5,
     "metadata": {},
     "output_type": "execute_result"
    }
   ],
   "source": [
    "rail.Aj"
   ]
  },
  {
   "cell_type": "code",
   "execution_count": 6,
   "metadata": {},
   "outputs": [
    {
     "data": {
      "text/plain": [
       "[(1, 2),\n",
       " (1, 3),\n",
       " (1, 4),\n",
       " (1, 6),\n",
       " (1, 7),\n",
       " (1, 8),\n",
       " (1, 9),\n",
       " (2, 3),\n",
       " (2, 4),\n",
       " (2, 5),\n",
       " (2, 6),\n",
       " (2, 7),\n",
       " (2, 8),\n",
       " (2, 9),\n",
       " (2, 10),\n",
       " (3, 4),\n",
       " (3, 5),\n",
       " (3, 7),\n",
       " (3, 8),\n",
       " (3, 10),\n",
       " (4, 5),\n",
       " (4, 6),\n",
       " (4, 7),\n",
       " (4, 10),\n",
       " (5, 6),\n",
       " (5, 7),\n",
       " (5, 8),\n",
       " (5, 9),\n",
       " (6, 7),\n",
       " (6, 8),\n",
       " (6, 9),\n",
       " (6, 10),\n",
       " (7, 8),\n",
       " (7, 9),\n",
       " (7, 10),\n",
       " (8, 9),\n",
       " (8, 10),\n",
       " (9, 10)]"
      ]
     },
     "execution_count": 6,
     "metadata": {},
     "output_type": "execute_result"
    }
   ],
   "source": [
    "[a for a in rail.A if any(a in rail.Aj[j] for j in rail.J)]"
   ]
  },
  {
   "cell_type": "code",
   "execution_count": 7,
   "metadata": {},
   "outputs": [
    {
     "data": {
      "text/plain": [
       "[(1, 2),\n",
       " (1, 3),\n",
       " (1, 4),\n",
       " (1, 6),\n",
       " (1, 7),\n",
       " (1, 8),\n",
       " (1, 9),\n",
       " (2, 3),\n",
       " (2, 4),\n",
       " (2, 5),\n",
       " (2, 6),\n",
       " (2, 7),\n",
       " (2, 8),\n",
       " (2, 9),\n",
       " (2, 10),\n",
       " (3, 4),\n",
       " (3, 5),\n",
       " (3, 7),\n",
       " (3, 8),\n",
       " (3, 10),\n",
       " (4, 5),\n",
       " (4, 6),\n",
       " (4, 7),\n",
       " (4, 10),\n",
       " (5, 6),\n",
       " (5, 7),\n",
       " (5, 8),\n",
       " (5, 9),\n",
       " (6, 7),\n",
       " (6, 8),\n",
       " (6, 9),\n",
       " (6, 10),\n",
       " (7, 8),\n",
       " (7, 9),\n",
       " (7, 10),\n",
       " (8, 9),\n",
       " (8, 10),\n",
       " (9, 10)]"
      ]
     },
     "execution_count": 7,
     "metadata": {},
     "output_type": "execute_result"
    }
   ],
   "source": [
    "[aj for aj, ja in rail.Ja.items() if ja]"
   ]
  },
  {
   "cell_type": "code",
   "execution_count": 8,
   "metadata": {},
   "outputs": [
    {
     "data": {
      "text/plain": [
       "{(1, 2): [14, 36],\n",
       " (1, 3): [26, 29],\n",
       " (1, 4): [40],\n",
       " (1, 5): [],\n",
       " (1, 6): [32, 38],\n",
       " (1, 7): [79],\n",
       " (1, 8): [41],\n",
       " (1, 9): [28, 35, 77],\n",
       " (1, 10): [],\n",
       " (2, 3): [19, 21],\n",
       " (2, 4): [27, 55],\n",
       " (2, 5): [1, 8, 54, 80],\n",
       " (2, 6): [7, 13, 59],\n",
       " (2, 7): [57],\n",
       " (2, 8): [46],\n",
       " (2, 9): [20, 33, 47, 62],\n",
       " (2, 10): [48, 50],\n",
       " (3, 4): [10, 12, 53],\n",
       " (3, 5): [4, 74],\n",
       " (3, 6): [],\n",
       " (3, 7): [34, 37, 64],\n",
       " (3, 8): [71],\n",
       " (3, 9): [],\n",
       " (3, 10): [9, 65, 67],\n",
       " (4, 5): [44, 45, 69],\n",
       " (4, 6): [2, 6, 16, 78],\n",
       " (4, 7): [58, 61],\n",
       " (4, 8): [],\n",
       " (4, 9): [],\n",
       " (4, 10): [17],\n",
       " (5, 6): [51],\n",
       " (5, 7): [15, 18],\n",
       " (5, 8): [22, 25, 73],\n",
       " (5, 9): [31, 43, 49],\n",
       " (5, 10): [],\n",
       " (6, 7): [23, 30, 39],\n",
       " (6, 8): [63],\n",
       " (6, 9): [42, 60],\n",
       " (6, 10): [52],\n",
       " (7, 8): [11],\n",
       " (7, 9): [3, 68, 70, 72],\n",
       " (7, 10): [56],\n",
       " (8, 9): [75],\n",
       " (8, 10): [24],\n",
       " (9, 10): [5, 66, 76]}"
      ]
     },
     "execution_count": 8,
     "metadata": {},
     "output_type": "execute_result"
    }
   ],
   "source": [
    "rail.Ja"
   ]
  },
  {
   "cell_type": "code",
   "execution_count": 9,
   "metadata": {},
   "outputs": [
    {
     "data": {
      "text/plain": [
       "{1: 1,\n",
       " 2: 1,\n",
       " 3: 1,\n",
       " 4: 1,\n",
       " 5: 1,\n",
       " 6: 1,\n",
       " 7: 1,\n",
       " 8: 1,\n",
       " 9: 1,\n",
       " 10: 1,\n",
       " 11: 1,\n",
       " 12: 1,\n",
       " 13: 1,\n",
       " 14: 1,\n",
       " 15: 1,\n",
       " 16: 1,\n",
       " 17: 1,\n",
       " 18: 1,\n",
       " 19: 1,\n",
       " 20: 1,\n",
       " 21: 1,\n",
       " 22: 1,\n",
       " 23: 1,\n",
       " 24: 1,\n",
       " 25: 1,\n",
       " 26: 1,\n",
       " 27: 1,\n",
       " 28: 1,\n",
       " 29: 1,\n",
       " 30: 1,\n",
       " 31: 1,\n",
       " 32: 1,\n",
       " 33: 1,\n",
       " 34: 1,\n",
       " 35: 1,\n",
       " 36: 1,\n",
       " 37: 1,\n",
       " 38: 1,\n",
       " 39: 1,\n",
       " 40: 1,\n",
       " 41: 1,\n",
       " 42: 1,\n",
       " 43: 1,\n",
       " 44: 1,\n",
       " 45: 1,\n",
       " 46: 1,\n",
       " 47: 1,\n",
       " 48: 1,\n",
       " 49: 1,\n",
       " 50: 1,\n",
       " 51: 1,\n",
       " 52: 1,\n",
       " 53: 1,\n",
       " 54: 1,\n",
       " 55: 1,\n",
       " 56: 1,\n",
       " 57: 1,\n",
       " 58: 1,\n",
       " 59: 1,\n",
       " 60: 1,\n",
       " 61: 1,\n",
       " 62: 1,\n",
       " 63: 1,\n",
       " 64: 1,\n",
       " 65: 1,\n",
       " 66: 1,\n",
       " 67: 1,\n",
       " 68: 1,\n",
       " 69: 1,\n",
       " 70: 1,\n",
       " 71: 1,\n",
       " 72: 1,\n",
       " 73: 1,\n",
       " 74: 1,\n",
       " 75: 1,\n",
       " 76: 1,\n",
       " 77: 1,\n",
       " 78: 1,\n",
       " 79: 1,\n",
       " 80: 1}"
      ]
     },
     "execution_count": 9,
     "metadata": {},
     "output_type": "execute_result"
    }
   ],
   "source": [
    "rail.pi"
   ]
  },
  {
   "cell_type": "code",
   "execution_count": 10,
   "metadata": {},
   "outputs": [
    {
     "data": {
      "text/plain": [
       "{1: 1,\n",
       " 2: 1,\n",
       " 3: 1,\n",
       " 4: 1,\n",
       " 5: 1,\n",
       " 6: 3,\n",
       " 7: 1,\n",
       " 8: 2,\n",
       " 9: 1,\n",
       " 10: 1,\n",
       " 11: 1,\n",
       " 12: 2,\n",
       " 13: 3,\n",
       " 14: 1,\n",
       " 15: 1,\n",
       " 16: 5,\n",
       " 17: 1,\n",
       " 18: 3,\n",
       " 19: 1,\n",
       " 20: 1,\n",
       " 21: 3,\n",
       " 22: 1,\n",
       " 23: 1,\n",
       " 24: 1,\n",
       " 25: 2,\n",
       " 26: 1,\n",
       " 27: 1,\n",
       " 28: 1,\n",
       " 29: 2,\n",
       " 30: 3,\n",
       " 31: 1,\n",
       " 32: 1,\n",
       " 33: 3,\n",
       " 34: 1,\n",
       " 35: 2,\n",
       " 36: 3,\n",
       " 37: 3,\n",
       " 38: 3,\n",
       " 39: 5,\n",
       " 40: 1,\n",
       " 41: 1,\n",
       " 42: 1,\n",
       " 43: 3,\n",
       " 44: 1,\n",
       " 45: 3,\n",
       " 46: 1,\n",
       " 47: 5,\n",
       " 48: 1,\n",
       " 49: 5,\n",
       " 50: 3,\n",
       " 51: 1,\n",
       " 52: 1,\n",
       " 53: 3,\n",
       " 54: 3,\n",
       " 55: 2,\n",
       " 56: 1,\n",
       " 57: 1,\n",
       " 58: 1,\n",
       " 59: 5,\n",
       " 60: 2,\n",
       " 61: 2,\n",
       " 62: 7,\n",
       " 63: 1,\n",
       " 64: 5,\n",
       " 65: 2,\n",
       " 66: 3,\n",
       " 67: 3,\n",
       " 68: 2,\n",
       " 69: 5,\n",
       " 70: 3,\n",
       " 71: 1,\n",
       " 72: 4,\n",
       " 73: 3,\n",
       " 74: 3,\n",
       " 75: 1,\n",
       " 76: 5,\n",
       " 77: 3,\n",
       " 78: 7,\n",
       " 79: 1,\n",
       " 80: 4}"
      ]
     },
     "execution_count": 10,
     "metadata": {},
     "output_type": "execute_result"
    }
   ],
   "source": [
    "S = rail.generate_initial_solution()\n",
    "S"
   ]
  },
  {
   "cell_type": "code",
   "execution_count": 11,
   "metadata": {},
   "outputs": [
    {
     "data": {
      "text/plain": [
       "True"
      ]
     },
     "execution_count": 11,
     "metadata": {},
     "output_type": "execute_result"
    }
   ],
   "source": [
    "y, x, h, w, v = rail.get_vars_from_times(S)\n",
    "rail.check_feasibility(y, x, h, w, v)"
   ]
  },
  {
   "cell_type": "code",
   "execution_count": 12,
   "metadata": {},
   "outputs": [
    {
     "name": "stdout",
     "output_type": "stream",
     "text": [
      "1\n"
     ]
    }
   ],
   "source": [
    "var = True\n",
    "i = 0\n",
    "while var:\n",
    "    var = False\n",
    "    i+=1\n",
    "    print(i)"
   ]
  },
  {
   "cell_type": "code",
   "execution_count": 13,
   "metadata": {},
   "outputs": [
    {
     "data": {
      "text/plain": [
       "38938.836602446936"
      ]
     },
     "execution_count": 13,
     "metadata": {},
     "output_type": "execute_result"
    }
   ],
   "source": [
    "rail.get_objective_value(v)"
   ]
  },
  {
   "cell_type": "code",
   "execution_count": 14,
   "metadata": {},
   "outputs": [
    {
     "name": "stdout",
     "output_type": "stream",
     "text": [
      "Arc:    (1, 2)\n",
      "Sum:    8\n",
      "Total:  8\n",
      "Arc:    (1, 3)\n",
      "Sum:    8\n",
      "Total:  8\n",
      "Arc:    (1, 4)\n",
      "Sum:    9\n",
      "Total:  9\n",
      "Arc:    (1, 5)\n",
      "Sum:    10\n",
      "Total:  10\n",
      "Arc:    (1, 6)\n",
      "Sum:    8\n",
      "Total:  8\n",
      "Arc:    (1, 7)\n",
      "Sum:    9\n",
      "Total:  9\n",
      "Arc:    (1, 8)\n",
      "Sum:    9\n",
      "Total:  9\n",
      "Arc:    (1, 9)\n",
      "Sum:    7\n",
      "Total:  7\n",
      "Arc:    (1, 10)\n",
      "Sum:    10\n",
      "Total:  10\n",
      "Arc:    (2, 3)\n",
      "Sum:    8\n",
      "Total:  8\n",
      "Arc:    (2, 4)\n",
      "Sum:    8\n",
      "Total:  8\n",
      "Arc:    (2, 5)\n",
      "Sum:    6\n",
      "Total:  6\n",
      "Arc:    (2, 6)\n",
      "Sum:    7\n",
      "Total:  7\n",
      "Arc:    (2, 7)\n",
      "Sum:    9\n",
      "Total:  9\n",
      "Arc:    (2, 8)\n",
      "Sum:    9\n",
      "Total:  9\n",
      "Arc:    (2, 9)\n",
      "Sum:    6\n",
      "Total:  6\n",
      "Arc:    (2, 10)\n",
      "Sum:    8\n",
      "Total:  8\n",
      "Arc:    (3, 4)\n",
      "Sum:    7\n",
      "Total:  7\n",
      "Arc:    (3, 5)\n",
      "Sum:    8\n",
      "Total:  8\n",
      "Arc:    (3, 6)\n",
      "Sum:    10\n",
      "Total:  10\n",
      "Arc:    (3, 7)\n",
      "Sum:    7\n",
      "Total:  7\n",
      "Arc:    (3, 8)\n",
      "Sum:    9\n",
      "Total:  9\n",
      "Arc:    (3, 9)\n",
      "Sum:    10\n",
      "Total:  10\n",
      "Arc:    (3, 10)\n",
      "Sum:    7\n",
      "Total:  7\n",
      "Arc:    (4, 5)\n",
      "Sum:    7\n",
      "Total:  7\n",
      "Arc:    (4, 6)\n",
      "Sum:    6\n",
      "Total:  6\n",
      "Arc:    (4, 7)\n",
      "Sum:    8\n",
      "Total:  8\n",
      "Arc:    (4, 8)\n",
      "Sum:    10\n",
      "Total:  10\n",
      "Arc:    (4, 9)\n",
      "Sum:    10\n",
      "Total:  10\n",
      "Arc:    (4, 10)\n",
      "Sum:    9\n",
      "Total:  9\n",
      "Arc:    (5, 6)\n",
      "Sum:    9\n",
      "Total:  9\n",
      "Arc:    (5, 7)\n",
      "Sum:    8\n",
      "Total:  8\n",
      "Arc:    (5, 8)\n",
      "Sum:    7\n",
      "Total:  7\n",
      "Arc:    (5, 9)\n",
      "Sum:    7\n",
      "Total:  7\n",
      "Arc:    (5, 10)\n",
      "Sum:    10\n",
      "Total:  10\n",
      "Arc:    (6, 7)\n",
      "Sum:    7\n",
      "Total:  7\n",
      "Arc:    (6, 8)\n",
      "Sum:    9\n",
      "Total:  9\n",
      "Arc:    (6, 9)\n",
      "Sum:    8\n",
      "Total:  8\n",
      "Arc:    (6, 10)\n",
      "Sum:    9\n",
      "Total:  9\n",
      "Arc:    (7, 8)\n",
      "Sum:    9\n",
      "Total:  9\n",
      "Arc:    (7, 9)\n",
      "Sum:    6\n",
      "Total:  6\n",
      "Arc:    (7, 10)\n",
      "Sum:    9\n",
      "Total:  9\n",
      "Arc:    (8, 9)\n",
      "Sum:    9\n",
      "Total:  9\n",
      "Arc:    (8, 10)\n",
      "Sum:    9\n",
      "Total:  9\n",
      "Arc:    (9, 10)\n",
      "Sum:    7\n",
      "Total:  7\n"
     ]
    }
   ],
   "source": [
    "for a in rail.A:\n",
    "\tprint(\"Arc:   \", a)\n",
    "\tprint(\"Sum:   \", sum(x[a, t] for t in rail.T))\n",
    "\tprint(\"Total: \", rail.Tend - sum(rail.pi[j] for j in rail.Ja[a])) "
   ]
  },
  {
   "cell_type": "code",
   "execution_count": 15,
   "metadata": {},
   "outputs": [
    {
     "name": "stdout",
     "output_type": "stream",
     "text": [
      "Gurobi Optimizer version 12.0.0 build v12.0.0rc1 (linux64 - \"Arch Linux\")\n",
      "\n",
      "CPU model: Intel(R) Core(TM) i7-8565U CPU @ 1.80GHz, instruction set [SSE2|AVX|AVX2]\n",
      "Thread count: 4 physical cores, 8 logical processors, using up to 8 threads\n",
      "\n",
      "Non-default parameters:\n",
      "TimeLimit  30\n",
      "\n",
      "Optimize a model with 8265 rows, 5700 columns and 24815 nonzeros\n",
      "Model fingerprint: 0x2020f64b\n",
      "Variable types: 1450 continuous, 4250 integer (4250 binary)\n",
      "Coefficient statistics:\n",
      "  Matrix range     [7e-02, 1e+06]\n",
      "  Objective range  [1e+03, 2e+03]\n",
      "  Bounds range     [1e+00, 1e+00]\n",
      "  RHS range        [3e-01, 1e+06]\n",
      "Presolve removed 4862 rows and 3387 columns\n",
      "Presolve time: 0.16s\n",
      "Presolved: 3403 rows, 2313 columns, 12769 nonzeros\n",
      "Variable types: 559 continuous, 1754 integer (1754 binary)\n",
      "\n",
      "Root relaxation: objective -4.506634e+04, 2042 iterations, 0.04 seconds (0.02 work units)\n",
      "\n",
      "    Nodes    |    Current Node    |     Objective Bounds      |     Work\n",
      " Expl Unexpl |  Obj  Depth IntInf | Incumbent    BestBd   Gap | It/Node Time\n",
      "\n",
      "     0     0 -45066.336    0  551          - -45066.336      -     -    0s\n",
      "     0     0 -40330.879    0  538          - -40330.879      -     -    0s\n",
      "H    0     0                    22648.668852 -40320.453   278%     -    0s\n",
      "H    0     0                    13871.868126 6886.69591  50.4%     -    0s\n",
      "     0     0 6886.69591    0  377 13871.8681 6886.69591  50.4%     -    0s\n",
      "     0     0 9457.84640    0  180 13871.8681 9457.84640  31.8%     -    0s\n",
      "     0     0 9554.41298    0  211 13871.8681 9554.41298  31.1%     -    0s\n",
      "     0     0 9616.67342    0  180 13871.8681 9616.67342  30.7%     -    0s\n",
      "     0     0 9621.36727    0  183 13871.8681 9621.36727  30.6%     -    0s\n",
      "     0     0 12199.8303    0  193 13871.8681 12199.8303  12.1%     -    0s\n",
      "     0     0 12253.4172    0  132 13871.8681 12253.4172  11.7%     -    0s\n",
      "     0     0 12257.2211    0  143 13871.8681 12257.2211  11.6%     -    0s\n",
      "H    0     0                    13830.877175 12310.8086  11.0%     -    0s\n",
      "     0     0 12310.8086    0   52 13830.8772 12310.8086  11.0%     -    0s\n",
      "     0     0 12310.8086    0   52 13830.8772 12310.8086  11.0%     -    1s\n",
      "     0     2 12310.8087    0   52 13830.8772 12310.8087  11.0%     -    1s\n",
      "H   15    27                    12315.032639 12310.8363  0.03%  22.1    1s\n",
      "H   22    27                    12314.985695 12310.8363  0.03%  17.4    1s\n",
      "*   55    50              15    12314.837731 12310.8363  0.03%  10.3    1s\n",
      "*   78    56              16    12314.837298 12310.8699  0.03%   8.5    1s\n",
      "*   79    56              16    12314.832275 12310.8699  0.03%   8.4    1s\n",
      "*  122    64              15    12314.831518 12310.8767  0.03%   7.1    1s\n",
      "\n",
      "Cutting planes:\n",
      "  Learned: 153\n",
      "  Gomory: 30\n",
      "  Cover: 73\n",
      "  Implied bound: 86\n",
      "  Clique: 24\n",
      "  MIR: 166\n",
      "  StrongCG: 14\n",
      "  RLT: 29\n",
      "  Relax-and-lift: 110\n",
      "  PSD: 2\n",
      "\n",
      "Warning: cleanup yields a better solution due to numeric instability\n",
      "\n",
      "Explored 366 nodes (7329 simplex iterations) in 1.60 seconds (0.65 work units)\n",
      "Thread count was 8 (of 8 available processors)\n",
      "\n",
      "Solution count 10: 6099.41 12314.8 12314.8 ... 22648.7\n",
      "No other solutions better than 12314.1\n",
      "\n",
      "Optimal solution found (tolerance 1.00e-04)\n",
      "Best objective 6.099408053047e+03, best bound 6.099408053047e+03, gap 0.0000%\n"
     ]
    }
   ],
   "source": [
    "# Set constraints\n",
    "rail.set_constraints()\n",
    "\n",
    "# Set objective\n",
    "rail.set_objective()\n",
    "\n",
    "# Solve the problem\n",
    "rail.optimize()"
   ]
  },
  {
   "cell_type": "code",
   "execution_count": 16,
   "metadata": {},
   "outputs": [
    {
     "name": "stdout",
     "output_type": "stream",
     "text": [
      "The model was solved to optimality.\n"
     ]
    },
    {
     "ename": "AttributeError",
     "evalue": "'Railway' object has no attribute 'status'",
     "output_type": "error",
     "traceback": [
      "\u001b[0;31m---------------------------------------------------------------------------\u001b[0m",
      "\u001b[0;31mAttributeError\u001b[0m                            Traceback (most recent call last)",
      "Cell \u001b[0;32mIn[16], line 13\u001b[0m\n\u001b[1;32m     10\u001b[0m \u001b[38;5;28;01melse\u001b[39;00m:\n\u001b[1;32m     11\u001b[0m \t\u001b[38;5;28mprint\u001b[39m(\u001b[38;5;124mf\u001b[39m\u001b[38;5;124m\"\u001b[39m\u001b[38;5;124mOptimization ended with status \u001b[39m\u001b[38;5;132;01m{\u001b[39;00mrail\u001b[38;5;241m.\u001b[39mmodel\u001b[38;5;241m.\u001b[39mstatus\u001b[38;5;132;01m}\u001b[39;00m\u001b[38;5;124m.\u001b[39m\u001b[38;5;124m\"\u001b[39m)\n\u001b[0;32m---> 13\u001b[0m \u001b[38;5;28mprint\u001b[39m(rail\u001b[38;5;241m.\u001b[39mstatus())\n",
      "\u001b[0;31mAttributeError\u001b[0m: 'Railway' object has no attribute 'status'"
     ]
    }
   ],
   "source": [
    "# Check the optimization status\n",
    "if rail.model.status == GRB.Status.OPTIMAL:\n",
    "\tprint(\"The model was solved to optimality.\")\n",
    "elif rail.model.status == GRB.Status.INFEASIBLE:\n",
    "\tprint(\"The model is infeasible.\")\n",
    "elif rail.model.status == GRB.Status.UNBOUNDED:\n",
    "\tprint(\"The model is unbounded.\")\n",
    "elif rail.model.status == GRB.Status.INF_OR_UNBD:\n",
    "\tprint(\"The model is infeasible or unbounded.\")\n",
    "else:\n",
    "\tprint(f\"Optimization ended with status {rail.model.status}.\")\n",
    " \n",
    "print(rail.status())"
   ]
  },
  {
   "cell_type": "code",
   "execution_count": null,
   "metadata": {},
   "outputs": [
    {
     "name": "stdout",
     "output_type": "stream",
     "text": [
      "Problem parameters saved successfully to datasets/railway_N10_T10_J80_P2000_K3.json\n"
     ]
    }
   ],
   "source": [
    "# Check if the `datasets` directory exists otherwise create it\n",
    "if not os.path.exists(\"datasets\"):\n",
    "\tos.makedirs(\"datasets\")\n",
    "\n",
    "# Save the problem to a json file \n",
    "filename = os.path.join(\"datasets\", f\"railway_N{stations}_T{periods}_J{jobs}_P{passengers}_K{routes}.json\")\n",
    "rail.save(filename)"
   ]
  },
  {
   "cell_type": "code",
   "execution_count": null,
   "metadata": {},
   "outputs": [
    {
     "name": "stdout",
     "output_type": "stream",
     "text": [
      "Stations 10\n",
      "Periods 10\n",
      "Jobs 80\n",
      "Passengers 2000\n",
      "Routes 3\n",
      "Model <gurobi.Model Continuous instance Unnamed: 0 constrs, 0 vars, Parameter changes: Username=(user-defined), LicenseID=2585388>\n"
     ]
    }
   ],
   "source": [
    "# Try to load a new object from the json file\n",
    "rail2 = Railway.load(filename)\n",
    "\n",
    "print(\"Stations\", rail2.stations)\n",
    "print(\"Periods\", rail2.periods)\n",
    "print(\"Jobs\", rail2.jobs)\n",
    "print(\"Passengers\", rail2.passengers)\n",
    "print(\"Routes\", rail2.routes)\n",
    "print(\"Model\", rail2.model)"
   ]
  },
  {
   "cell_type": "code",
   "execution_count": null,
   "metadata": {},
   "outputs": [
    {
     "name": "stdout",
     "output_type": "stream",
     "text": [
      "✅ Same stations\n",
      "✅ Same periods\n",
      "✅ Same jobs\n",
      "✅ Same passengers\n",
      "✅ Same routes\n",
      "✅ Same coords\n",
      "✅ Same Aj\n",
      "✅ Same Ja\n",
      "✅ Same E\n",
      "✅ Same R\n",
      "✅ Same pi\n",
      "✅ Same C\n",
      "✅ Same tau\n",
      "✅ Same phi\n",
      "✅ Same beta\n",
      "✅ Same Lambd\n"
     ]
    }
   ],
   "source": [
    "if rail.stations == rail2.stations:\n",
    "\tprint(\"✅ Same stations\")\n",
    "else:\n",
    "\tprint(\"❌ Different stations\")\n",
    "\n",
    "if rail.periods == rail2.periods:\n",
    "\tprint(\"✅ Same periods\")\n",
    "else:\n",
    "\tprint(\"❌ Different periods\")\n",
    "\n",
    "if rail.jobs == rail2.jobs:\n",
    "\tprint(\"✅ Same jobs\")\n",
    "else:\n",
    "\tprint(\"❌ Different jobs\")\n",
    "\n",
    "if rail.passengers == rail2.passengers:\n",
    "\tprint(\"✅ Same passengers\")\n",
    "else:\n",
    "\tprint(\"❌ Different passengers\")\n",
    "\n",
    "if rail.routes == rail2.routes:\n",
    "\tprint(\"✅ Same routes\")\n",
    "else:\n",
    "\tprint(\"❌ Different routes\")\n",
    " \n",
    "if rail.coords == rail2.coords:\n",
    "\tprint(\"✅ Same coords\")\n",
    "else:\n",
    "\tprint(\"❌ Different coords\")\n",
    "\n",
    "if rail.Aj == rail2.Aj:\n",
    "\tprint(\"✅ Same Aj\")\n",
    "else:\n",
    "\tprint(\"❌ Different Aj\")\n",
    "\n",
    "if rail.Ja == rail2.Ja:\n",
    "\tprint(\"✅ Same Ja\")\n",
    "else:\n",
    "\tprint(\"❌ Different Ja\")\n",
    "\n",
    "if rail.E == rail2.E:\n",
    "\tprint(\"✅ Same E\")\n",
    "else:\n",
    "\tprint(\"❌ Different E\")\n",
    "\n",
    "if rail.R == rail2.R:\n",
    "\tprint(\"✅ Same R\")\n",
    "else:\n",
    "\tprint(\"❌ Different R\")\n",
    "\n",
    "if rail.pi == rail2.pi:\n",
    "\tprint(\"✅ Same pi\")\n",
    "else:\n",
    "\tprint(\"❌ Different pi\")\n",
    "\n",
    "if rail.C == rail2.C:\n",
    "\tprint(\"✅ Same C\")\n",
    "else:\n",
    "\tprint(\"❌ Different C\")\n",
    "\n",
    "if rail.tau == rail2.tau:\n",
    "\tprint(\"✅ Same tau\")\n",
    "else:\n",
    "\tprint(\"❌ Different tau\")\n",
    "\n",
    "if rail.phi == rail2.phi:\n",
    "\tprint(\"✅ Same phi\")\n",
    "else:\n",
    "\tprint(\"❌ Different phi\")\n",
    "\n",
    "if rail.beta == rail2.beta:\n",
    "\tprint(\"✅ Same beta\")\n",
    "else:\n",
    "\tprint(\"❌ Different beta\")\n",
    "\n",
    "if rail.Lambd == rail2.Lambd:\n",
    "\tprint(\"✅ Same Lambd\")\n",
    "else:\n",
    "\tprint(\"❌ Different Lambd\")"
   ]
  },
  {
   "cell_type": "code",
   "execution_count": null,
   "metadata": {},
   "outputs": [
    {
     "data": {
      "text/plain": [
       "{(1, 2): [[(1, 2)], [(1, 5), (2, 5)], [(1, 3), (2, 3)]],\n",
       " (1, 3): [[(1, 3)], [(1, 2), (2, 3)], [(1, 5), (3, 5)]],\n",
       " (1, 4): [[(1, 4)], [(1, 10), (4, 10)], [(1, 9), (4, 9)]],\n",
       " (1, 5): [[(1, 5)], [(1, 2), (2, 5)], [(1, 3), (3, 5)]],\n",
       " (1, 6): [[(1, 6)], [(1, 7), (6, 7)], [(1, 2), (2, 6)]],\n",
       " (1, 7): [[(1, 7)], [(1, 6), (6, 7)], [(1, 2), (2, 7)]],\n",
       " (1, 8): [[(1, 8)], [(1, 9), (8, 9)], [(1, 2), (2, 8)]],\n",
       " (1, 9): [[(1, 9)], [(1, 2), (2, 9)], [(1, 10), (9, 10)]],\n",
       " (1, 10): [[(1, 10)], [(1, 9), (9, 10)], [(1, 4), (4, 10)]],\n",
       " (2, 1): [[(1, 2)], [(2, 5), (1, 5)], [(2, 3), (1, 3)]],\n",
       " (2, 3): [[(2, 3)], [(2, 5), (3, 5)], [(1, 2), (1, 3)]],\n",
       " (2, 4): [[(2, 4)], [(2, 10), (4, 10)], [(1, 2), (1, 4)]],\n",
       " (2, 5): [[(2, 5)], [(2, 3), (3, 5)], [(1, 2), (1, 5)]],\n",
       " (2, 6): [[(2, 6)], [(1, 2), (1, 6)], [(2, 7), (6, 7)]],\n",
       " (2, 7): [[(2, 7)], [(1, 2), (1, 7)], [(2, 6), (6, 7)]],\n",
       " (2, 8): [[(2, 8)], [(1, 2), (1, 8)], [(2, 9), (8, 9)]],\n",
       " (2, 9): [[(2, 9)], [(1, 2), (1, 9)], [(2, 5), (5, 9)]],\n",
       " (2, 10): [[(2, 10)], [(1, 2), (1, 10)], [(2, 9), (9, 10)]],\n",
       " (3, 1): [[(1, 3)], [(2, 3), (1, 2)], [(3, 5), (1, 5)]],\n",
       " (3, 2): [[(2, 3)], [(3, 5), (2, 5)], [(1, 3), (1, 2)]],\n",
       " (3, 4): [[(3, 4)], [(3, 5), (4, 5)], [(3, 10), (4, 10)]],\n",
       " (3, 5): [[(3, 5)], [(2, 3), (2, 5)], [(1, 3), (1, 5)]],\n",
       " (3, 6): [[(3, 6)], [(3, 5), (5, 6)], [(3, 7), (6, 7)]],\n",
       " (3, 7): [[(3, 7)], [(3, 5), (5, 7)], [(3, 6), (6, 7)]],\n",
       " (3, 8): [[(3, 8)], [(3, 5), (5, 8)], [(3, 9), (8, 9)]],\n",
       " (3, 9): [[(3, 9)], [(3, 5), (5, 9)], [(2, 3), (2, 9)]],\n",
       " (3, 10): [[(3, 10)], [(3, 5), (5, 10)], [(3, 4), (4, 10)]],\n",
       " (4, 1): [[(1, 4)], [(4, 10), (1, 10)], [(4, 9), (1, 9)]],\n",
       " (4, 2): [[(2, 4)], [(4, 10), (2, 10)], [(1, 4), (1, 2)]],\n",
       " (4, 3): [[(3, 4)], [(4, 5), (3, 5)], [(4, 10), (3, 10)]],\n",
       " (4, 5): [[(4, 5)], [(4, 10), (5, 10)], [(3, 4), (3, 5)]],\n",
       " (4, 6): [[(4, 6)], [(4, 7), (6, 7)], [(4, 10), (6, 10)]],\n",
       " (4, 7): [[(4, 7)], [(4, 10), (7, 10)], [(4, 6), (6, 7)]],\n",
       " (4, 8): [[(4, 8)], [(4, 10), (8, 10)], [(4, 9), (8, 9)]],\n",
       " (4, 9): [[(4, 9)], [(4, 10), (9, 10)], [(4, 8), (8, 9)]],\n",
       " (4, 10): [[(4, 10)], [(4, 9), (9, 10)], [(4, 8), (8, 10)]],\n",
       " (5, 1): [[(1, 5)], [(2, 5), (1, 2)], [(3, 5), (1, 3)]],\n",
       " (5, 2): [[(2, 5)], [(3, 5), (2, 3)], [(1, 5), (1, 2)]],\n",
       " (5, 3): [[(3, 5)], [(2, 5), (2, 3)], [(1, 5), (1, 3)]],\n",
       " (5, 4): [[(4, 5)], [(5, 10), (4, 10)], [(3, 5), (3, 4)]],\n",
       " (5, 6): [[(5, 6)], [(5, 7), (6, 7)], [(5, 9), (6, 9)]],\n",
       " (5, 7): [[(5, 7)], [(5, 6), (6, 7)], [(5, 9), (7, 9)]],\n",
       " (5, 8): [[(5, 8)], [(5, 9), (8, 9)], [(3, 5), (3, 8)]],\n",
       " (5, 9): [[(5, 9)], [(3, 5), (3, 9)], [(2, 5), (2, 9)]],\n",
       " (5, 10): [[(5, 10)], [(4, 5), (4, 10)], [(3, 5), (3, 10)]],\n",
       " (6, 1): [[(1, 6)], [(6, 7), (1, 7)], [(2, 6), (1, 2)]],\n",
       " (6, 2): [[(2, 6)], [(1, 6), (1, 2)], [(6, 7), (2, 7)]],\n",
       " (6, 3): [[(3, 6)], [(5, 6), (3, 5)], [(6, 7), (3, 7)]],\n",
       " (6, 4): [[(4, 6)], [(6, 7), (4, 7)], [(6, 10), (4, 10)]],\n",
       " (6, 5): [[(5, 6)], [(6, 7), (5, 7)], [(6, 9), (5, 9)]],\n",
       " (6, 7): [[(6, 7)], [(6, 8), (7, 8)], [(6, 9), (7, 9)]],\n",
       " (6, 8): [[(6, 8)], [(6, 7), (7, 8)], [(6, 9), (8, 9)]],\n",
       " (6, 9): [[(6, 9)], [(6, 7), (7, 9)], [(6, 8), (8, 9)]],\n",
       " (6, 10): [[(6, 10)], [(6, 7), (7, 10)], [(6, 9), (9, 10)]],\n",
       " (7, 1): [[(1, 7)], [(6, 7), (1, 6)], [(2, 7), (1, 2)]],\n",
       " (7, 2): [[(2, 7)], [(1, 7), (1, 2)], [(6, 7), (2, 6)]],\n",
       " (7, 3): [[(3, 7)], [(5, 7), (3, 5)], [(6, 7), (3, 6)]],\n",
       " (7, 4): [[(4, 7)], [(7, 10), (4, 10)], [(6, 7), (4, 6)]],\n",
       " (7, 5): [[(5, 7)], [(6, 7), (5, 6)], [(7, 9), (5, 9)]],\n",
       " (7, 6): [[(6, 7)], [(7, 8), (6, 8)], [(7, 9), (6, 9)]],\n",
       " (7, 8): [[(7, 8)], [(6, 7), (6, 8)], [(7, 9), (8, 9)]],\n",
       " (7, 9): [[(7, 9)], [(6, 7), (6, 9)], [(7, 8), (8, 9)]],\n",
       " (7, 10): [[(7, 10)], [(6, 7), (6, 10)], [(7, 9), (9, 10)]],\n",
       " (8, 1): [[(1, 8)], [(8, 9), (1, 9)], [(2, 8), (1, 2)]],\n",
       " (8, 2): [[(2, 8)], [(1, 8), (1, 2)], [(8, 9), (2, 9)]],\n",
       " (8, 3): [[(3, 8)], [(5, 8), (3, 5)], [(8, 9), (3, 9)]],\n",
       " (8, 4): [[(4, 8)], [(8, 10), (4, 10)], [(8, 9), (4, 9)]],\n",
       " (8, 5): [[(5, 8)], [(8, 9), (5, 9)], [(3, 8), (3, 5)]],\n",
       " (8, 6): [[(6, 8)], [(7, 8), (6, 7)], [(8, 9), (6, 9)]],\n",
       " (8, 7): [[(7, 8)], [(6, 8), (6, 7)], [(8, 9), (7, 9)]],\n",
       " (8, 9): [[(8, 9)], [(8, 10), (9, 10)], [(4, 8), (4, 9)]],\n",
       " (8, 10): [[(8, 10)], [(4, 8), (4, 10)], [(8, 9), (9, 10)]],\n",
       " (9, 1): [[(1, 9)], [(2, 9), (1, 2)], [(9, 10), (1, 10)]],\n",
       " (9, 2): [[(2, 9)], [(1, 9), (1, 2)], [(5, 9), (2, 5)]],\n",
       " (9, 3): [[(3, 9)], [(5, 9), (3, 5)], [(2, 9), (2, 3)]],\n",
       " (9, 4): [[(4, 9)], [(9, 10), (4, 10)], [(8, 9), (4, 8)]],\n",
       " (9, 5): [[(5, 9)], [(3, 9), (3, 5)], [(2, 9), (2, 5)]],\n",
       " (9, 6): [[(6, 9)], [(7, 9), (6, 7)], [(8, 9), (6, 8)]],\n",
       " (9, 7): [[(7, 9)], [(6, 9), (6, 7)], [(8, 9), (7, 8)]],\n",
       " (9, 8): [[(8, 9)], [(9, 10), (8, 10)], [(4, 9), (4, 8)]],\n",
       " (9, 10): [[(9, 10)], [(4, 9), (4, 10)], [(8, 9), (8, 10)]],\n",
       " (10, 1): [[(1, 10)], [(9, 10), (1, 9)], [(4, 10), (1, 4)]],\n",
       " (10, 2): [[(2, 10)], [(1, 10), (1, 2)], [(9, 10), (2, 9)]],\n",
       " (10, 3): [[(3, 10)], [(5, 10), (3, 5)], [(4, 10), (3, 4)]],\n",
       " (10, 4): [[(4, 10)], [(9, 10), (4, 9)], [(8, 10), (4, 8)]],\n",
       " (10, 5): [[(5, 10)], [(4, 10), (4, 5)], [(3, 10), (3, 5)]],\n",
       " (10, 6): [[(6, 10)], [(7, 10), (6, 7)], [(9, 10), (6, 9)]],\n",
       " (10, 7): [[(7, 10)], [(6, 10), (6, 7)], [(9, 10), (7, 9)]],\n",
       " (10, 8): [[(8, 10)], [(4, 10), (4, 8)], [(9, 10), (8, 9)]],\n",
       " (10, 9): [[(9, 10)], [(4, 10), (4, 9)], [(8, 10), (8, 9)]]}"
      ]
     },
     "execution_count": 13,
     "metadata": {},
     "output_type": "execute_result"
    }
   ],
   "source": [
    "rail.R"
   ]
  },
  {
   "cell_type": "code",
   "execution_count": null,
   "metadata": {},
   "outputs": [
    {
     "data": {
      "text/plain": [
       "{1: {},\n",
       " 2: {(2, 7): [(2, 7)]},\n",
       " 3: {(6, 9): [(1, 6), (1, 9)]},\n",
       " 4: {},\n",
       " 5: {},\n",
       " 6: {},\n",
       " 7: {},\n",
       " 8: {},\n",
       " 9: {},\n",
       " 10: {}}"
      ]
     },
     "execution_count": 14,
     "metadata": {},
     "output_type": "execute_result"
    }
   ],
   "source": [
    "rail2.E"
   ]
  },
  {
   "cell_type": "code",
   "execution_count": null,
   "metadata": {},
   "outputs": [
    {
     "name": "stdout",
     "output_type": "stream",
     "text": [
      "Gurobi Optimizer version 12.0.0 build v12.0.0rc1 (linux64 - \"Arch Linux\")\n",
      "\n",
      "CPU model: Intel(R) Core(TM) i7-8565U CPU @ 1.80GHz, instruction set [SSE2|AVX|AVX2]\n",
      "Thread count: 4 physical cores, 8 logical processors, using up to 8 threads\n",
      "\n",
      "Optimize a model with 8247 rows, 5700 columns and 24415 nonzeros\n",
      "Model fingerprint: 0x360956fb\n",
      "Variable types: 1450 continuous, 4250 integer (4250 binary)\n",
      "Coefficient statistics:\n",
      "  Matrix range     [9e-03, 1e+06]\n",
      "  Objective range  [1e+03, 2e+03]\n",
      "  Bounds range     [1e+00, 1e+00]\n",
      "  RHS range        [3e-02, 1e+06]\n",
      "Presolve removed 4490 rows and 3223 columns\n",
      "Presolve time: 0.12s\n",
      "Presolved: 3757 rows, 2477 columns, 14187 nonzeros\n",
      "Variable types: 631 continuous, 1846 integer (1846 binary)\n",
      "Found heuristic solution: objective 13481.027208\n",
      "\n",
      "Root relaxation: objective -8.427699e+04, 2035 iterations, 0.03 seconds (0.02 work units)\n",
      "\n",
      "    Nodes    |    Current Node    |     Objective Bounds      |     Work\n",
      " Expl Unexpl |  Obj  Depth IntInf | Incumbent    BestBd   Gap | It/Node Time\n",
      "\n",
      "     0     0 -84276.991    0  770 13481.0272 -84276.991   725%     -    0s\n",
      "H    0     0                    11733.922619 -84276.991   818%     -    0s\n",
      "H    0     0                    9807.8691558 -84276.991   959%     -    0s\n",
      "H    0     0                    9631.7100670 -84276.991   975%     -    0s\n",
      "H    0     0                    9613.8815411 -84276.991   977%     -    0s\n",
      "H    0     0                    9607.7877179 -84276.991   977%     -    0s\n",
      "H    0     0                    9579.5360316 -84276.991   980%     -    0s\n",
      "     0     0 2475.20557    0  339 9579.53603 2475.20557  74.2%     -    0s\n",
      "H    0     0                    9579.5360285 2475.21332  74.2%     -    0s\n",
      "H    0     0                    9476.4677464 2475.21332  73.9%     -    0s\n",
      "H    0     0                    9367.3333827 2475.21332  73.6%     -    0s\n",
      "H    0     0                    8034.0879175 4652.84822  42.1%     -    0s\n",
      "H    0     0                    8015.8280040 4652.84822  42.0%     -    0s\n",
      "H    0     0                    8015.8280031 4652.84822  42.0%     -    0s\n",
      "     0     0 4652.84822    0  336 8015.82800 4652.84822  42.0%     -    0s\n",
      "     0     0 5202.16227    0  323 8015.82800 5202.16227  35.1%     -    0s\n",
      "     0     0 5352.87693    0  331 8015.82800 5352.87693  33.2%     -    0s\n",
      "     0     0 5626.61973    0  400 8015.82800 5626.61973  29.8%     -    0s\n",
      "     0     0 5674.59555    0  426 8015.82800 5674.59555  29.2%     -    0s\n",
      "     0     0 5676.18632    0  431 8015.82800 5676.18632  29.2%     -    0s\n",
      "     0     0 6874.45913    0  192 8015.82800 6874.45913  14.2%     -    0s\n",
      "H    0     0                    7639.5754475 6874.96608  10.0%     -    0s\n",
      "H    0     0                    7634.5132591 6874.96608  9.95%     -    0s\n",
      "     0     0 6921.85572    0  196 7634.51326 6921.85572  9.33%     -    0s\n",
      "     0     0 7104.35424    0  113 7634.51326 7104.35424  6.94%     -    0s\n",
      "H    0     0                    7186.2345996 7109.18374  1.07%     -    0s\n",
      "H    0     0                    7186.2345978 7109.18374  1.07%     -    0s\n",
      "H    0     0                    7158.0176933 7109.18374  0.68%     -    0s\n",
      "H    0     0                    7158.0176926 7109.18374  0.68%     -    0s\n",
      "     0     0 7109.18374    0  140 7158.01769 7109.18374  0.68%     -    0s\n",
      "     0     0 7147.52674    0   24 7158.01769 7147.52674  0.15%     -    0s\n",
      "     0     0 7148.62513    0   12 7158.01769 7148.62513  0.13%     -    1s\n",
      "     0     0 7148.62513    0   42 7158.01769 7148.62513  0.13%     -    1s\n",
      "     0     0 7148.62513    0   59 7158.01769 7148.62513  0.13%     -    1s\n",
      "     0     0 7150.27531    0   30 7158.01769 7150.27531  0.11%     -    1s\n",
      "\n",
      "Cutting planes:\n",
      "  Learned: 1\n",
      "  Gomory: 3\n",
      "  Cover: 3\n",
      "  Implied bound: 1\n",
      "  Clique: 7\n",
      "  MIR: 15\n",
      "  RLT: 6\n",
      "  Relax-and-lift: 3\n",
      "\n",
      "Explored 1 nodes (6657 simplex iterations) in 1.15 seconds (0.53 work units)\n",
      "Thread count was 8 (of 8 available processors)\n",
      "\n",
      "Solution count 10: 7158.02 7186.23 7634.51 ... 9607.79\n",
      "No other solutions better than 7158.02\n",
      "\n",
      "Optimal solution found (tolerance 1.00e-04)\n",
      "Best objective 7.158017673642e+03, best bound 7.158017673642e+03, gap 0.0000%\n"
     ]
    }
   ],
   "source": [
    "# Set constraints\n",
    "rail2.set_constraints()\n",
    "\n",
    "# Set objective\n",
    "rail2.set_objective()\n",
    "\n",
    "# Optimize\n",
    "rail2.optimize()"
   ]
  },
  {
   "cell_type": "code",
   "execution_count": null,
   "metadata": {},
   "outputs": [
    {
     "name": "stdout",
     "output_type": "stream",
     "text": [
      "Set parameter TimeLimit to value 120\n"
     ]
    }
   ],
   "source": [
    "rail3 = Railway(\n",
    "\tstations,\n",
    " periods,\n",
    " jobs,\n",
    " passengers,\n",
    " routes,\n",
    " coords=rail.coords,\n",
    " Aj=rail.Aj,\n",
    " C=rail.C,\n",
    " E=rail.E,\n",
    " R=rail.R,\n",
    " pi=rail.pi,\n",
    " tau=rail.tau,\n",
    " phi=rail.phi,\n",
    " beta=rail.beta,\n",
    " Lambd=rail.Lambd,\n",
    ")\n",
    "rail3.model.setParam('TimeLimit', 120)"
   ]
  },
  {
   "cell_type": "code",
   "execution_count": null,
   "metadata": {},
   "outputs": [
    {
     "name": "stdout",
     "output_type": "stream",
     "text": [
      "✅ Same stations\n",
      "✅ Same periods\n",
      "✅ Same jobs\n",
      "✅ Same passengers\n",
      "✅ Same routes\n",
      "✅ Same coords\n",
      "✅ Same Aj\n",
      "✅ Same Ja\n",
      "✅ Same E\n",
      "✅ Same R\n",
      "✅ Same pi\n",
      "✅ Same C\n",
      "✅ Same tau\n",
      "✅ Same phi\n",
      "✅ Same beta\n",
      "✅ Same Lambd\n"
     ]
    }
   ],
   "source": [
    "\n",
    "if rail.stations == rail3.stations:\n",
    "\tprint(\"✅ Same stations\")\n",
    "else:\n",
    "\tprint(\"❌ Different stations\")\n",
    "\n",
    "if rail.periods == rail3.periods:\n",
    "\tprint(\"✅ Same periods\")\n",
    "else:\n",
    "\tprint(\"❌ Different periods\")\n",
    "\n",
    "if rail.jobs == rail3.jobs:\n",
    "\tprint(\"✅ Same jobs\")\n",
    "else:\n",
    "\tprint(\"❌ Different jobs\")\n",
    "\n",
    "if rail.passengers == rail3.passengers:\n",
    "\tprint(\"✅ Same passengers\")\n",
    "else:\n",
    "\tprint(\"❌ Different passengers\")\n",
    "\n",
    "if rail.routes == rail3.routes:\n",
    "\tprint(\"✅ Same routes\")\n",
    "else:\n",
    "\tprint(\"❌ Different routes\")\n",
    "\n",
    "if rail.coords == rail3.coords:\n",
    "\tprint(\"✅ Same coords\")\n",
    "else:\n",
    "\tprint(\"❌ Different coords\")\n",
    "\n",
    "if rail.Aj == rail3.Aj:\n",
    "\tprint(\"✅ Same Aj\")\n",
    "else:\n",
    "\tprint(\"❌ Different Aj\")\n",
    "\n",
    "if rail.Ja == rail3.Ja:\n",
    "\tprint(\"✅ Same Ja\")\n",
    "else:\n",
    "\tprint(\"❌ Different Ja\")\n",
    "\n",
    "if rail.E == rail3.E:\n",
    "\tprint(\"✅ Same E\")\n",
    "else:\n",
    "\tprint(\"❌ Different E\")\n",
    "\n",
    "if rail.R == rail3.R:\n",
    "\tprint(\"✅ Same R\")\n",
    "else:\n",
    "\tprint(\"❌ Different R\")\n",
    "\n",
    "if rail.pi == rail3.pi:\n",
    "\tprint(\"✅ Same pi\")\n",
    "else:\n",
    "\tprint(\"❌ Different pi\")\n",
    "\n",
    "if rail.C == rail3.C:\n",
    "\tprint(\"✅ Same C\")\n",
    "else:\n",
    "\tprint(\"❌ Different C\")\n",
    "\n",
    "if rail.tau == rail3.tau:\n",
    "\tprint(\"✅ Same tau\")\n",
    "else:\n",
    "\tprint(\"❌ Different tau\")\n",
    "\n",
    "if rail.phi == rail3.phi:\n",
    "\tprint(\"✅ Same phi\")\n",
    "else:\n",
    "\tprint(\"❌ Different phi\")\n",
    "\n",
    "if rail.beta == rail3.beta:\n",
    "\tprint(\"✅ Same beta\")\n",
    "else:\n",
    "\tprint(\"❌ Different beta\")\n",
    "\n",
    "if rail.Lambd == rail3.Lambd:\n",
    "\tprint(\"✅ Same Lambd\")\n",
    "else:\n",
    "\tprint(\"❌ Different Lambd\")"
   ]
  },
  {
   "cell_type": "code",
   "execution_count": null,
   "metadata": {},
   "outputs": [
    {
     "name": "stdout",
     "output_type": "stream",
     "text": [
      "Gurobi Optimizer version 12.0.0 build v12.0.0rc1 (linux64 - \"Arch Linux\")\n",
      "\n",
      "CPU model: Intel(R) Core(TM) i7-8565U CPU @ 1.80GHz, instruction set [SSE2|AVX|AVX2]\n",
      "Thread count: 4 physical cores, 8 logical processors, using up to 8 threads\n",
      "\n",
      "Non-default parameters:\n",
      "TimeLimit  120\n",
      "\n",
      "Optimize a model with 8247 rows, 5700 columns and 24415 nonzeros\n",
      "Model fingerprint: 0x360956fb\n",
      "Variable types: 1450 continuous, 4250 integer (4250 binary)\n",
      "Coefficient statistics:\n",
      "  Matrix range     [9e-03, 1e+06]\n",
      "  Objective range  [1e+03, 2e+03]\n",
      "  Bounds range     [1e+00, 1e+00]\n",
      "  RHS range        [3e-02, 1e+06]\n",
      "Presolve removed 4490 rows and 3223 columns\n",
      "Presolve time: 0.14s\n",
      "Presolved: 3757 rows, 2477 columns, 14187 nonzeros\n",
      "Variable types: 631 continuous, 1846 integer (1846 binary)\n",
      "Found heuristic solution: objective 13481.027208\n",
      "\n",
      "Root relaxation: objective -8.427699e+04, 2035 iterations, 0.03 seconds (0.02 work units)\n",
      "\n",
      "    Nodes    |    Current Node    |     Objective Bounds      |     Work\n",
      " Expl Unexpl |  Obj  Depth IntInf | Incumbent    BestBd   Gap | It/Node Time\n",
      "\n",
      "     0     0 -84276.991    0  770 13481.0272 -84276.991   725%     -    0s\n",
      "H    0     0                    11733.922619 -84276.991   818%     -    0s\n",
      "H    0     0                    9807.8691558 -84276.991   959%     -    0s\n",
      "H    0     0                    9631.7100670 -84276.991   975%     -    0s\n",
      "H    0     0                    9613.8815411 -84276.991   977%     -    0s\n",
      "H    0     0                    9607.7877179 -84276.991   977%     -    0s\n",
      "H    0     0                    9579.5360316 -84276.991   980%     -    0s\n",
      "     0     0 2475.20557    0  339 9579.53603 2475.20557  74.2%     -    0s\n",
      "H    0     0                    9579.5360285 2475.21332  74.2%     -    0s\n",
      "H    0     0                    9476.4677464 2475.21332  73.9%     -    0s\n",
      "H    0     0                    9367.3333827 2475.21332  73.6%     -    0s\n",
      "H    0     0                    8034.0879175 4652.84822  42.1%     -    0s\n",
      "H    0     0                    8015.8280040 4652.84822  42.0%     -    0s\n",
      "H    0     0                    8015.8280031 4652.84822  42.0%     -    0s\n",
      "     0     0 4652.84822    0  336 8015.82800 4652.84822  42.0%     -    0s\n",
      "     0     0 5202.16227    0  323 8015.82800 5202.16227  35.1%     -    0s\n",
      "     0     0 5352.87693    0  331 8015.82800 5352.87693  33.2%     -    0s\n",
      "     0     0 5626.61973    0  400 8015.82800 5626.61973  29.8%     -    0s\n",
      "     0     0 5674.59555    0  426 8015.82800 5674.59555  29.2%     -    0s\n",
      "     0     0 5676.18632    0  431 8015.82800 5676.18632  29.2%     -    0s\n",
      "     0     0 6874.45913    0  192 8015.82800 6874.45913  14.2%     -    0s\n",
      "H    0     0                    7639.5754475 6874.96608  10.0%     -    0s\n",
      "H    0     0                    7634.5132591 6874.96608  9.95%     -    0s\n",
      "     0     0 6921.85572    0  196 7634.51326 6921.85572  9.33%     -    0s\n",
      "     0     0 7104.35424    0  113 7634.51326 7104.35424  6.94%     -    0s\n",
      "H    0     0                    7186.2345996 7109.18374  1.07%     -    0s\n",
      "H    0     0                    7186.2345978 7109.18374  1.07%     -    0s\n",
      "H    0     0                    7158.0176933 7109.18374  0.68%     -    0s\n",
      "H    0     0                    7158.0176926 7109.18374  0.68%     -    0s\n",
      "     0     0 7109.18374    0  140 7158.01769 7109.18374  0.68%     -    0s\n",
      "     0     0 7147.52674    0   24 7158.01769 7147.52674  0.15%     -    0s\n",
      "     0     0 7148.62513    0   12 7158.01769 7148.62513  0.13%     -    1s\n",
      "     0     0 7148.62513    0   42 7158.01769 7148.62513  0.13%     -    1s\n",
      "     0     0 7148.62513    0   59 7158.01769 7148.62513  0.13%     -    1s\n",
      "     0     0 7150.27531    0   30 7158.01769 7150.27531  0.11%     -    1s\n",
      "\n",
      "Cutting planes:\n",
      "  Learned: 1\n",
      "  Gomory: 3\n",
      "  Cover: 3\n",
      "  Implied bound: 1\n",
      "  Clique: 7\n",
      "  MIR: 15\n",
      "  RLT: 6\n",
      "  Relax-and-lift: 3\n",
      "\n",
      "Explored 1 nodes (6657 simplex iterations) in 1.10 seconds (0.53 work units)\n",
      "Thread count was 8 (of 8 available processors)\n",
      "\n",
      "Solution count 10: 7158.02 7186.23 7634.51 ... 9607.79\n",
      "No other solutions better than 7158.02\n",
      "\n",
      "Optimal solution found (tolerance 1.00e-04)\n",
      "Best objective 7.158017673642e+03, best bound 7.158017673642e+03, gap 0.0000%\n"
     ]
    }
   ],
   "source": [
    "rail3.set_constraints()\n",
    "\n",
    "rail3.set_objective()\n",
    "\n",
    "rail3.optimize()"
   ]
  },
  {
   "cell_type": "code",
   "execution_count": null,
   "metadata": {},
   "outputs": [
    {
     "data": {
      "text/plain": [
       "8247"
      ]
     },
     "execution_count": 19,
     "metadata": {},
     "output_type": "execute_result"
    }
   ],
   "source": [
    "rail.model.getConstrs().__len__()"
   ]
  },
  {
   "cell_type": "code",
   "execution_count": null,
   "metadata": {},
   "outputs": [
    {
     "data": {
      "text/plain": [
       "8247"
      ]
     },
     "execution_count": 20,
     "metadata": {},
     "output_type": "execute_result"
    }
   ],
   "source": [
    "rail2.model.getConstrs().__len__()\n"
   ]
  },
  {
   "cell_type": "code",
   "execution_count": null,
   "metadata": {},
   "outputs": [
    {
     "data": {
      "text/plain": [
       "8247"
      ]
     },
     "execution_count": 21,
     "metadata": {},
     "output_type": "execute_result"
    }
   ],
   "source": [
    "rail3.model.getConstrs().__len__()\n"
   ]
  },
  {
   "cell_type": "code",
   "execution_count": null,
   "metadata": {},
   "outputs": [
    {
     "data": {
      "text/plain": [
       "7158.017673641862"
      ]
     },
     "execution_count": 22,
     "metadata": {},
     "output_type": "execute_result"
    }
   ],
   "source": [
    "rail.model.getObjective().getValue()"
   ]
  },
  {
   "cell_type": "code",
   "execution_count": null,
   "metadata": {},
   "outputs": [
    {
     "data": {
      "text/plain": [
       "7158.017673641862"
      ]
     },
     "execution_count": 23,
     "metadata": {},
     "output_type": "execute_result"
    }
   ],
   "source": [
    "rail2.model.getObjective().getValue()"
   ]
  },
  {
   "cell_type": "code",
   "execution_count": null,
   "metadata": {},
   "outputs": [
    {
     "data": {
      "text/plain": [
       "7158.017673641862"
      ]
     },
     "execution_count": 24,
     "metadata": {},
     "output_type": "execute_result"
    }
   ],
   "source": [
    "rail3.model.getObjective().getValue()\n"
   ]
  },
  {
   "cell_type": "code",
   "execution_count": null,
   "metadata": {},
   "outputs": [
    {
     "data": {
      "text/plain": [
       "{(1, 2): [[(1, 2)], [(1, 5), (2, 5)], [(1, 3), (2, 3)]],\n",
       " (1, 3): [[(1, 3)], [(1, 2), (2, 3)], [(1, 5), (3, 5)]],\n",
       " (1, 4): [[(1, 4)], [(1, 10), (4, 10)], [(1, 9), (4, 9)]],\n",
       " (1, 5): [[(1, 5)], [(1, 2), (2, 5)], [(1, 3), (3, 5)]],\n",
       " (1, 6): [[(1, 6)], [(1, 7), (6, 7)], [(1, 2), (2, 6)]],\n",
       " (1, 7): [[(1, 7)], [(1, 6), (6, 7)], [(1, 2), (2, 7)]],\n",
       " (1, 8): [[(1, 8)], [(1, 9), (8, 9)], [(1, 2), (2, 8)]],\n",
       " (1, 9): [[(1, 9)], [(1, 2), (2, 9)], [(1, 10), (9, 10)]],\n",
       " (1, 10): [[(1, 10)], [(1, 9), (9, 10)], [(1, 4), (4, 10)]],\n",
       " (2, 1): [[(1, 2)], [(2, 5), (1, 5)], [(2, 3), (1, 3)]],\n",
       " (2, 3): [[(2, 3)], [(2, 5), (3, 5)], [(1, 2), (1, 3)]],\n",
       " (2, 4): [[(2, 4)], [(2, 10), (4, 10)], [(1, 2), (1, 4)]],\n",
       " (2, 5): [[(2, 5)], [(2, 3), (3, 5)], [(1, 2), (1, 5)]],\n",
       " (2, 6): [[(2, 6)], [(1, 2), (1, 6)], [(2, 7), (6, 7)]],\n",
       " (2, 7): [[(2, 7)], [(1, 2), (1, 7)], [(2, 6), (6, 7)]],\n",
       " (2, 8): [[(2, 8)], [(1, 2), (1, 8)], [(2, 9), (8, 9)]],\n",
       " (2, 9): [[(2, 9)], [(1, 2), (1, 9)], [(2, 5), (5, 9)]],\n",
       " (2, 10): [[(2, 10)], [(1, 2), (1, 10)], [(2, 9), (9, 10)]],\n",
       " (3, 1): [[(1, 3)], [(2, 3), (1, 2)], [(3, 5), (1, 5)]],\n",
       " (3, 2): [[(2, 3)], [(3, 5), (2, 5)], [(1, 3), (1, 2)]],\n",
       " (3, 4): [[(3, 4)], [(3, 5), (4, 5)], [(3, 10), (4, 10)]],\n",
       " (3, 5): [[(3, 5)], [(2, 3), (2, 5)], [(1, 3), (1, 5)]],\n",
       " (3, 6): [[(3, 6)], [(3, 5), (5, 6)], [(3, 7), (6, 7)]],\n",
       " (3, 7): [[(3, 7)], [(3, 5), (5, 7)], [(3, 6), (6, 7)]],\n",
       " (3, 8): [[(3, 8)], [(3, 5), (5, 8)], [(3, 9), (8, 9)]],\n",
       " (3, 9): [[(3, 9)], [(3, 5), (5, 9)], [(2, 3), (2, 9)]],\n",
       " (3, 10): [[(3, 10)], [(3, 5), (5, 10)], [(3, 4), (4, 10)]],\n",
       " (4, 1): [[(1, 4)], [(4, 10), (1, 10)], [(4, 9), (1, 9)]],\n",
       " (4, 2): [[(2, 4)], [(4, 10), (2, 10)], [(1, 4), (1, 2)]],\n",
       " (4, 3): [[(3, 4)], [(4, 5), (3, 5)], [(4, 10), (3, 10)]],\n",
       " (4, 5): [[(4, 5)], [(4, 10), (5, 10)], [(3, 4), (3, 5)]],\n",
       " (4, 6): [[(4, 6)], [(4, 7), (6, 7)], [(4, 10), (6, 10)]],\n",
       " (4, 7): [[(4, 7)], [(4, 10), (7, 10)], [(4, 6), (6, 7)]],\n",
       " (4, 8): [[(4, 8)], [(4, 10), (8, 10)], [(4, 9), (8, 9)]],\n",
       " (4, 9): [[(4, 9)], [(4, 10), (9, 10)], [(4, 8), (8, 9)]],\n",
       " (4, 10): [[(4, 10)], [(4, 9), (9, 10)], [(4, 8), (8, 10)]],\n",
       " (5, 1): [[(1, 5)], [(2, 5), (1, 2)], [(3, 5), (1, 3)]],\n",
       " (5, 2): [[(2, 5)], [(3, 5), (2, 3)], [(1, 5), (1, 2)]],\n",
       " (5, 3): [[(3, 5)], [(2, 5), (2, 3)], [(1, 5), (1, 3)]],\n",
       " (5, 4): [[(4, 5)], [(5, 10), (4, 10)], [(3, 5), (3, 4)]],\n",
       " (5, 6): [[(5, 6)], [(5, 7), (6, 7)], [(5, 9), (6, 9)]],\n",
       " (5, 7): [[(5, 7)], [(5, 6), (6, 7)], [(5, 9), (7, 9)]],\n",
       " (5, 8): [[(5, 8)], [(5, 9), (8, 9)], [(3, 5), (3, 8)]],\n",
       " (5, 9): [[(5, 9)], [(3, 5), (3, 9)], [(2, 5), (2, 9)]],\n",
       " (5, 10): [[(5, 10)], [(4, 5), (4, 10)], [(3, 5), (3, 10)]],\n",
       " (6, 1): [[(1, 6)], [(6, 7), (1, 7)], [(2, 6), (1, 2)]],\n",
       " (6, 2): [[(2, 6)], [(1, 6), (1, 2)], [(6, 7), (2, 7)]],\n",
       " (6, 3): [[(3, 6)], [(5, 6), (3, 5)], [(6, 7), (3, 7)]],\n",
       " (6, 4): [[(4, 6)], [(6, 7), (4, 7)], [(6, 10), (4, 10)]],\n",
       " (6, 5): [[(5, 6)], [(6, 7), (5, 7)], [(6, 9), (5, 9)]],\n",
       " (6, 7): [[(6, 7)], [(6, 8), (7, 8)], [(6, 9), (7, 9)]],\n",
       " (6, 8): [[(6, 8)], [(6, 7), (7, 8)], [(6, 9), (8, 9)]],\n",
       " (6, 9): [[(6, 9)], [(6, 7), (7, 9)], [(6, 8), (8, 9)]],\n",
       " (6, 10): [[(6, 10)], [(6, 7), (7, 10)], [(6, 9), (9, 10)]],\n",
       " (7, 1): [[(1, 7)], [(6, 7), (1, 6)], [(2, 7), (1, 2)]],\n",
       " (7, 2): [[(2, 7)], [(1, 7), (1, 2)], [(6, 7), (2, 6)]],\n",
       " (7, 3): [[(3, 7)], [(5, 7), (3, 5)], [(6, 7), (3, 6)]],\n",
       " (7, 4): [[(4, 7)], [(7, 10), (4, 10)], [(6, 7), (4, 6)]],\n",
       " (7, 5): [[(5, 7)], [(6, 7), (5, 6)], [(7, 9), (5, 9)]],\n",
       " (7, 6): [[(6, 7)], [(7, 8), (6, 8)], [(7, 9), (6, 9)]],\n",
       " (7, 8): [[(7, 8)], [(6, 7), (6, 8)], [(7, 9), (8, 9)]],\n",
       " (7, 9): [[(7, 9)], [(6, 7), (6, 9)], [(7, 8), (8, 9)]],\n",
       " (7, 10): [[(7, 10)], [(6, 7), (6, 10)], [(7, 9), (9, 10)]],\n",
       " (8, 1): [[(1, 8)], [(8, 9), (1, 9)], [(2, 8), (1, 2)]],\n",
       " (8, 2): [[(2, 8)], [(1, 8), (1, 2)], [(8, 9), (2, 9)]],\n",
       " (8, 3): [[(3, 8)], [(5, 8), (3, 5)], [(8, 9), (3, 9)]],\n",
       " (8, 4): [[(4, 8)], [(8, 10), (4, 10)], [(8, 9), (4, 9)]],\n",
       " (8, 5): [[(5, 8)], [(8, 9), (5, 9)], [(3, 8), (3, 5)]],\n",
       " (8, 6): [[(6, 8)], [(7, 8), (6, 7)], [(8, 9), (6, 9)]],\n",
       " (8, 7): [[(7, 8)], [(6, 8), (6, 7)], [(8, 9), (7, 9)]],\n",
       " (8, 9): [[(8, 9)], [(8, 10), (9, 10)], [(4, 8), (4, 9)]],\n",
       " (8, 10): [[(8, 10)], [(4, 8), (4, 10)], [(8, 9), (9, 10)]],\n",
       " (9, 1): [[(1, 9)], [(2, 9), (1, 2)], [(9, 10), (1, 10)]],\n",
       " (9, 2): [[(2, 9)], [(1, 9), (1, 2)], [(5, 9), (2, 5)]],\n",
       " (9, 3): [[(3, 9)], [(5, 9), (3, 5)], [(2, 9), (2, 3)]],\n",
       " (9, 4): [[(4, 9)], [(9, 10), (4, 10)], [(8, 9), (4, 8)]],\n",
       " (9, 5): [[(5, 9)], [(3, 9), (3, 5)], [(2, 9), (2, 5)]],\n",
       " (9, 6): [[(6, 9)], [(7, 9), (6, 7)], [(8, 9), (6, 8)]],\n",
       " (9, 7): [[(7, 9)], [(6, 9), (6, 7)], [(8, 9), (7, 8)]],\n",
       " (9, 8): [[(8, 9)], [(9, 10), (8, 10)], [(4, 9), (4, 8)]],\n",
       " (9, 10): [[(9, 10)], [(4, 9), (4, 10)], [(8, 9), (8, 10)]],\n",
       " (10, 1): [[(1, 10)], [(9, 10), (1, 9)], [(4, 10), (1, 4)]],\n",
       " (10, 2): [[(2, 10)], [(1, 10), (1, 2)], [(9, 10), (2, 9)]],\n",
       " (10, 3): [[(3, 10)], [(5, 10), (3, 5)], [(4, 10), (3, 4)]],\n",
       " (10, 4): [[(4, 10)], [(9, 10), (4, 9)], [(8, 10), (4, 8)]],\n",
       " (10, 5): [[(5, 10)], [(4, 10), (4, 5)], [(3, 10), (3, 5)]],\n",
       " (10, 6): [[(6, 10)], [(7, 10), (6, 7)], [(9, 10), (6, 9)]],\n",
       " (10, 7): [[(7, 10)], [(6, 10), (6, 7)], [(9, 10), (7, 9)]],\n",
       " (10, 8): [[(8, 10)], [(4, 10), (4, 8)], [(9, 10), (8, 9)]],\n",
       " (10, 9): [[(9, 10)], [(4, 10), (4, 9)], [(8, 10), (8, 9)]]}"
      ]
     },
     "execution_count": 25,
     "metadata": {},
     "output_type": "execute_result"
    }
   ],
   "source": [
    "rail.R"
   ]
  },
  {
   "cell_type": "code",
   "execution_count": null,
   "metadata": {},
   "outputs": [
    {
     "data": {
      "text/plain": [
       "[(-0.5006337407346328, -0.03200129258952137),\n",
       " (-0.5922230762712105, -0.12691836390342748),\n",
       " (-0.6363052844479669, -0.6508892356257174),\n",
       " (0.7691452265241026, -0.40365984455331055),\n",
       " (-0.5605903730624198, -0.6071649332624144),\n",
       " (0.6007704947193712, 0.635955430427195),\n",
       " (0.6236074457915505, 0.6247280123846874),\n",
       " (0.948512062753282, 0.23181386585579022),\n",
       " (0.4081646198892744, -0.051884728548139435),\n",
       " (0.6915920696997848, -0.34628834967885036)]"
      ]
     },
     "execution_count": 26,
     "metadata": {},
     "output_type": "execute_result"
    }
   ],
   "source": [
    "rail.coords"
   ]
  },
  {
   "cell_type": "code",
   "execution_count": null,
   "metadata": {},
   "outputs": [
    {
     "data": {
      "text/plain": [
       "[(-0.5006337407346328, -0.03200129258952137),\n",
       " (-0.5922230762712105, -0.12691836390342748),\n",
       " (-0.6363052844479669, -0.6508892356257174),\n",
       " (0.7691452265241026, -0.40365984455331055),\n",
       " (-0.5605903730624198, -0.6071649332624144),\n",
       " (0.6007704947193712, 0.635955430427195),\n",
       " (0.6236074457915505, 0.6247280123846874),\n",
       " (0.948512062753282, 0.23181386585579022),\n",
       " (0.4081646198892744, -0.051884728548139435),\n",
       " (0.6915920696997848, -0.34628834967885036)]"
      ]
     },
     "execution_count": 27,
     "metadata": {},
     "output_type": "execute_result"
    }
   ],
   "source": [
    "rail2.coords"
   ]
  },
  {
   "cell_type": "code",
   "execution_count": null,
   "metadata": {},
   "outputs": [
    {
     "data": {
      "text/plain": [
       "[(-0.5006337407346328, -0.03200129258952137),\n",
       " (-0.5922230762712105, -0.12691836390342748),\n",
       " (-0.6363052844479669, -0.6508892356257174),\n",
       " (0.7691452265241026, -0.40365984455331055),\n",
       " (-0.5605903730624198, -0.6071649332624144),\n",
       " (0.6007704947193712, 0.635955430427195),\n",
       " (0.6236074457915505, 0.6247280123846874),\n",
       " (0.948512062753282, 0.23181386585579022),\n",
       " (0.4081646198892744, -0.051884728548139435),\n",
       " (0.6915920696997848, -0.34628834967885036)]"
      ]
     },
     "execution_count": 28,
     "metadata": {},
     "output_type": "execute_result"
    }
   ],
   "source": [
    "rail3.coords"
   ]
  },
  {
   "cell_type": "code",
   "execution_count": null,
   "metadata": {},
   "outputs": [],
   "source": [
    "def convert_keys_and_values_to_str(d):\n",
    "\t\"\"\"Convert dictionary keys and nested tuples to strings.\"\"\"\n",
    "\tdef convert_value(v):\n",
    "\t\tif isinstance(v, list):\n",
    "\t\t\treturn [convert_value(i) for i in v]\n",
    "\t\telif isinstance(v, tuple):\n",
    "\t\t\treturn str(v)\n",
    "\t\telse:\n",
    "\t\t\treturn v\n",
    "\n",
    "\n",
    "def convert_keys_to_str(d):\n",
    "\t\"\"\"Convert dictionary keys to strings.\"\"\"\n",
    "\treturn {str(k): v for k, v in d.items()}"
   ]
  },
  {
   "cell_type": "code",
   "execution_count": null,
   "metadata": {},
   "outputs": [
    {
     "name": "stdout",
     "output_type": "stream",
     "text": [
      "{'(1, 2)': [[(1, 2)], [(1, 5), (2, 5)], [(1, 3), (2, 3)]], '(1, 3)': [[(1, 3)], [(1, 2), (2, 3)], [(1, 5), (3, 5)]], '(1, 4)': [[(1, 4)], [(1, 10), (4, 10)], [(1, 9), (4, 9)]], '(1, 5)': [[(1, 5)], [(1, 2), (2, 5)], [(1, 3), (3, 5)]], '(1, 6)': [[(1, 6)], [(1, 7), (6, 7)], [(1, 2), (2, 6)]], '(1, 7)': [[(1, 7)], [(1, 6), (6, 7)], [(1, 2), (2, 7)]], '(1, 8)': [[(1, 8)], [(1, 9), (8, 9)], [(1, 2), (2, 8)]], '(1, 9)': [[(1, 9)], [(1, 2), (2, 9)], [(1, 10), (9, 10)]], '(1, 10)': [[(1, 10)], [(1, 9), (9, 10)], [(1, 4), (4, 10)]], '(2, 1)': [[(1, 2)], [(2, 5), (1, 5)], [(2, 3), (1, 3)]], '(2, 3)': [[(2, 3)], [(2, 5), (3, 5)], [(1, 2), (1, 3)]], '(2, 4)': [[(2, 4)], [(2, 10), (4, 10)], [(1, 2), (1, 4)]], '(2, 5)': [[(2, 5)], [(2, 3), (3, 5)], [(1, 2), (1, 5)]], '(2, 6)': [[(2, 6)], [(1, 2), (1, 6)], [(2, 7), (6, 7)]], '(2, 7)': [[(2, 7)], [(1, 2), (1, 7)], [(2, 6), (6, 7)]], '(2, 8)': [[(2, 8)], [(1, 2), (1, 8)], [(2, 9), (8, 9)]], '(2, 9)': [[(2, 9)], [(1, 2), (1, 9)], [(2, 5), (5, 9)]], '(2, 10)': [[(2, 10)], [(1, 2), (1, 10)], [(2, 9), (9, 10)]], '(3, 1)': [[(1, 3)], [(2, 3), (1, 2)], [(3, 5), (1, 5)]], '(3, 2)': [[(2, 3)], [(3, 5), (2, 5)], [(1, 3), (1, 2)]], '(3, 4)': [[(3, 4)], [(3, 5), (4, 5)], [(3, 10), (4, 10)]], '(3, 5)': [[(3, 5)], [(2, 3), (2, 5)], [(1, 3), (1, 5)]], '(3, 6)': [[(3, 6)], [(3, 5), (5, 6)], [(3, 7), (6, 7)]], '(3, 7)': [[(3, 7)], [(3, 5), (5, 7)], [(3, 6), (6, 7)]], '(3, 8)': [[(3, 8)], [(3, 5), (5, 8)], [(3, 9), (8, 9)]], '(3, 9)': [[(3, 9)], [(3, 5), (5, 9)], [(2, 3), (2, 9)]], '(3, 10)': [[(3, 10)], [(3, 5), (5, 10)], [(3, 4), (4, 10)]], '(4, 1)': [[(1, 4)], [(4, 10), (1, 10)], [(4, 9), (1, 9)]], '(4, 2)': [[(2, 4)], [(4, 10), (2, 10)], [(1, 4), (1, 2)]], '(4, 3)': [[(3, 4)], [(4, 5), (3, 5)], [(4, 10), (3, 10)]], '(4, 5)': [[(4, 5)], [(4, 10), (5, 10)], [(3, 4), (3, 5)]], '(4, 6)': [[(4, 6)], [(4, 7), (6, 7)], [(4, 10), (6, 10)]], '(4, 7)': [[(4, 7)], [(4, 10), (7, 10)], [(4, 6), (6, 7)]], '(4, 8)': [[(4, 8)], [(4, 10), (8, 10)], [(4, 9), (8, 9)]], '(4, 9)': [[(4, 9)], [(4, 10), (9, 10)], [(4, 8), (8, 9)]], '(4, 10)': [[(4, 10)], [(4, 9), (9, 10)], [(4, 8), (8, 10)]], '(5, 1)': [[(1, 5)], [(2, 5), (1, 2)], [(3, 5), (1, 3)]], '(5, 2)': [[(2, 5)], [(3, 5), (2, 3)], [(1, 5), (1, 2)]], '(5, 3)': [[(3, 5)], [(2, 5), (2, 3)], [(1, 5), (1, 3)]], '(5, 4)': [[(4, 5)], [(5, 10), (4, 10)], [(3, 5), (3, 4)]], '(5, 6)': [[(5, 6)], [(5, 7), (6, 7)], [(5, 9), (6, 9)]], '(5, 7)': [[(5, 7)], [(5, 6), (6, 7)], [(5, 9), (7, 9)]], '(5, 8)': [[(5, 8)], [(5, 9), (8, 9)], [(3, 5), (3, 8)]], '(5, 9)': [[(5, 9)], [(3, 5), (3, 9)], [(2, 5), (2, 9)]], '(5, 10)': [[(5, 10)], [(4, 5), (4, 10)], [(3, 5), (3, 10)]], '(6, 1)': [[(1, 6)], [(6, 7), (1, 7)], [(2, 6), (1, 2)]], '(6, 2)': [[(2, 6)], [(1, 6), (1, 2)], [(6, 7), (2, 7)]], '(6, 3)': [[(3, 6)], [(5, 6), (3, 5)], [(6, 7), (3, 7)]], '(6, 4)': [[(4, 6)], [(6, 7), (4, 7)], [(6, 10), (4, 10)]], '(6, 5)': [[(5, 6)], [(6, 7), (5, 7)], [(6, 9), (5, 9)]], '(6, 7)': [[(6, 7)], [(6, 8), (7, 8)], [(6, 9), (7, 9)]], '(6, 8)': [[(6, 8)], [(6, 7), (7, 8)], [(6, 9), (8, 9)]], '(6, 9)': [[(6, 9)], [(6, 7), (7, 9)], [(6, 8), (8, 9)]], '(6, 10)': [[(6, 10)], [(6, 7), (7, 10)], [(6, 9), (9, 10)]], '(7, 1)': [[(1, 7)], [(6, 7), (1, 6)], [(2, 7), (1, 2)]], '(7, 2)': [[(2, 7)], [(1, 7), (1, 2)], [(6, 7), (2, 6)]], '(7, 3)': [[(3, 7)], [(5, 7), (3, 5)], [(6, 7), (3, 6)]], '(7, 4)': [[(4, 7)], [(7, 10), (4, 10)], [(6, 7), (4, 6)]], '(7, 5)': [[(5, 7)], [(6, 7), (5, 6)], [(7, 9), (5, 9)]], '(7, 6)': [[(6, 7)], [(7, 8), (6, 8)], [(7, 9), (6, 9)]], '(7, 8)': [[(7, 8)], [(6, 7), (6, 8)], [(7, 9), (8, 9)]], '(7, 9)': [[(7, 9)], [(6, 7), (6, 9)], [(7, 8), (8, 9)]], '(7, 10)': [[(7, 10)], [(6, 7), (6, 10)], [(7, 9), (9, 10)]], '(8, 1)': [[(1, 8)], [(8, 9), (1, 9)], [(2, 8), (1, 2)]], '(8, 2)': [[(2, 8)], [(1, 8), (1, 2)], [(8, 9), (2, 9)]], '(8, 3)': [[(3, 8)], [(5, 8), (3, 5)], [(8, 9), (3, 9)]], '(8, 4)': [[(4, 8)], [(8, 10), (4, 10)], [(8, 9), (4, 9)]], '(8, 5)': [[(5, 8)], [(8, 9), (5, 9)], [(3, 8), (3, 5)]], '(8, 6)': [[(6, 8)], [(7, 8), (6, 7)], [(8, 9), (6, 9)]], '(8, 7)': [[(7, 8)], [(6, 8), (6, 7)], [(8, 9), (7, 9)]], '(8, 9)': [[(8, 9)], [(8, 10), (9, 10)], [(4, 8), (4, 9)]], '(8, 10)': [[(8, 10)], [(4, 8), (4, 10)], [(8, 9), (9, 10)]], '(9, 1)': [[(1, 9)], [(2, 9), (1, 2)], [(9, 10), (1, 10)]], '(9, 2)': [[(2, 9)], [(1, 9), (1, 2)], [(5, 9), (2, 5)]], '(9, 3)': [[(3, 9)], [(5, 9), (3, 5)], [(2, 9), (2, 3)]], '(9, 4)': [[(4, 9)], [(9, 10), (4, 10)], [(8, 9), (4, 8)]], '(9, 5)': [[(5, 9)], [(3, 9), (3, 5)], [(2, 9), (2, 5)]], '(9, 6)': [[(6, 9)], [(7, 9), (6, 7)], [(8, 9), (6, 8)]], '(9, 7)': [[(7, 9)], [(6, 9), (6, 7)], [(8, 9), (7, 8)]], '(9, 8)': [[(8, 9)], [(9, 10), (8, 10)], [(4, 9), (4, 8)]], '(9, 10)': [[(9, 10)], [(4, 9), (4, 10)], [(8, 9), (8, 10)]], '(10, 1)': [[(1, 10)], [(9, 10), (1, 9)], [(4, 10), (1, 4)]], '(10, 2)': [[(2, 10)], [(1, 10), (1, 2)], [(9, 10), (2, 9)]], '(10, 3)': [[(3, 10)], [(5, 10), (3, 5)], [(4, 10), (3, 4)]], '(10, 4)': [[(4, 10)], [(9, 10), (4, 9)], [(8, 10), (4, 8)]], '(10, 5)': [[(5, 10)], [(4, 10), (4, 5)], [(3, 10), (3, 5)]], '(10, 6)': [[(6, 10)], [(7, 10), (6, 7)], [(9, 10), (6, 9)]], '(10, 7)': [[(7, 10)], [(6, 10), (6, 7)], [(9, 10), (7, 9)]], '(10, 8)': [[(8, 10)], [(4, 10), (4, 8)], [(9, 10), (8, 9)]], '(10, 9)': [[(9, 10)], [(4, 10), (4, 9)], [(8, 10), (8, 9)]]}\n"
     ]
    }
   ],
   "source": [
    "# v = convert_keys_and_values_to_str(rail.R)\n",
    "v = convert_keys_to_str(rail.R)\n",
    "print(v)"
   ]
  },
  {
   "cell_type": "code",
   "execution_count": null,
   "metadata": {},
   "outputs": [
    {
     "data": {
      "text/plain": [
       "[(-0.5006337407346328, -0.03200129258952137),\n",
       " (-0.5922230762712105, -0.12691836390342748),\n",
       " (-0.6363052844479669, -0.6508892356257174),\n",
       " (0.7691452265241026, -0.40365984455331055),\n",
       " (-0.5605903730624198, -0.6071649332624144),\n",
       " (0.6007704947193712, 0.635955430427195),\n",
       " (0.6236074457915505, 0.6247280123846874),\n",
       " (0.948512062753282, 0.23181386585579022),\n",
       " (0.4081646198892744, -0.051884728548139435),\n",
       " (0.6915920696997848, -0.34628834967885036)]"
      ]
     },
     "execution_count": 31,
     "metadata": {},
     "output_type": "execute_result"
    }
   ],
   "source": [
    "rail.coords"
   ]
  }
 ],
 "metadata": {
  "kernelspec": {
   "display_name": "mathopt",
   "language": "python",
   "name": "python3"
  },
  "language_info": {
   "codemirror_mode": {
    "name": "ipython",
    "version": 3
   },
   "file_extension": ".py",
   "mimetype": "text/x-python",
   "name": "python",
   "nbconvert_exporter": "python",
   "pygments_lexer": "ipython3",
   "version": "3.11.5"
  }
 },
 "nbformat": 4,
 "nbformat_minor": 2
}
