{
 "cells": [
  {
   "cell_type": "code",
   "execution_count": 1,
   "metadata": {},
   "outputs": [
    {
     "name": "stdout",
     "output_type": "stream",
     "text": [
      "Current working directory: 📂 /home/marco/railway-scheduling\n"
     ]
    }
   ],
   "source": [
    "import os\n",
    "import sys\n",
    "from railway import *\n",
    "\n",
    "import matplotlib.pyplot as plt\n",
    "import seaborn as sns\n",
    "sns.set_theme(\n",
    "\tstyle=\"whitegrid\",\n",
    "\tpalette=\"tab10\",\n",
    "\trc={\n",
    "\t\t\"grid.linestyle\": \"--\",\n",
    "\t\t\"grid.color\": \"gray\",\n",
    "\t\t\"grid.alpha\": 0.3,\n",
    "\t\t\"grid.linewidth\": 0.5,\n",
    "\t},\n",
    ")\n",
    "\n",
    "# Set the current directory to root directory\n",
    "os.chdir(\"/home/marco/railway-scheduling\")\n",
    "sys.path.append(os.getcwd())\n",
    "print(f\"Current working directory: 📂 {os.getcwd()}\")"
   ]
  },
  {
   "cell_type": "code",
   "execution_count": 2,
   "metadata": {},
   "outputs": [],
   "source": [
    "# Constant values\n",
    "stations = 10\n",
    "periods = 10\n",
    "jobs = 80\n",
    "passengers = 2000\n",
    "routes = 3"
   ]
  },
  {
   "cell_type": "code",
   "execution_count": 3,
   "metadata": {},
   "outputs": [
    {
     "name": "stdout",
     "output_type": "stream",
     "text": [
      "Set parameter Username\n",
      "Set parameter LicenseID to value 2585388\n",
      "Academic license - for non-commercial use only - expires 2025-11-15\n",
      "Model created: 🚂 <gurobi.Model Continuous instance Unnamed: 0 constrs, 0 vars, Parameter changes: Username=(user-defined), LicenseID=2585388>\n",
      "Set parameter TimeLimit to value 120\n"
     ]
    }
   ],
   "source": [
    "# Create model\n",
    "rail = Railway(stations, periods, jobs, passengers, routes)\n",
    "print(f\"Model created: 🚂 {rail.model}\")\n",
    "rail.model.setParam('TimeLimit', 120)"
   ]
  },
  {
   "cell_type": "code",
   "execution_count": 4,
   "metadata": {},
   "outputs": [
    {
     "name": "stdout",
     "output_type": "stream",
     "text": [
      "Problem generated successfully. Remember to set constraints and objective (again).\n"
     ]
    }
   ],
   "source": [
    "# Choose the parameters for the problem to generate\n",
    "job_min_time, job_max_time = 1, 1\n",
    "job_min_length, job_max_length = 1, 1\n",
    "pause_min_time, pause_max_time = 0, 0\n",
    "min_demand, max_demand = 0.5, 0.9\n",
    "min_share, max_share = 0.5, 0.9\n",
    "min_capacity, max_capacity = 0.5, 0.7\n",
    "n_max_events = 1\n",
    "event_min_length, event_max_length = 1, 2\n",
    "\n",
    "# Generate the problem\n",
    "rail.generate(\n",
    "\tjob_min_time,\n",
    "\tjob_max_time,\n",
    "\tjob_min_length,\n",
    "\tjob_max_length,\n",
    "\tpause_min_time,\n",
    "\tpause_max_time,\n",
    "\tmin_demand,\n",
    "\tmax_demand,\n",
    "\tmin_share,\n",
    "\tmax_share,\n",
    "\tmin_capacity,\n",
    "\tmax_capacity,\n",
    "\tn_max_events,\n",
    "\tevent_min_length,\n",
    "\tevent_max_length,\n",
    ")"
   ]
  },
  {
   "cell_type": "code",
   "execution_count": 5,
   "metadata": {},
   "outputs": [
    {
     "data": {
      "text/plain": [
       "{1: [],\n",
       " 2: [[(8, 9), (7, 9)]],\n",
       " 3: [],\n",
       " 4: [[(8, 9)]],\n",
       " 5: [[(6, 7), (7, 8)]],\n",
       " 6: [[(1, 4), (2, 4)]],\n",
       " 7: [],\n",
       " 8: [],\n",
       " 9: [],\n",
       " 10: []}"
      ]
     },
     "execution_count": 5,
     "metadata": {},
     "output_type": "execute_result"
    }
   ],
   "source": [
    "rail.E"
   ]
  },
  {
   "cell_type": "code",
   "execution_count": 9,
   "metadata": {},
   "outputs": [
    {
     "name": "stdout",
     "output_type": "stream",
     "text": [
      "[(8, 9)]\n",
      "8 9\n"
     ]
    }
   ],
   "source": [
    "for s in rail.E[4]:\n",
    "\tprint(s)\n",
    "\tfor a in s:\n",
    "\t\tprint(*a)"
   ]
  },
  {
   "cell_type": "code",
   "execution_count": 7,
   "metadata": {},
   "outputs": [
    {
     "ename": "TypeError",
     "evalue": "unhashable type: 'list'",
     "output_type": "error",
     "traceback": [
      "\u001b[0;31m---------------------------------------------------------------------------\u001b[0m",
      "\u001b[0;31mTypeError\u001b[0m                                 Traceback (most recent call last)",
      "Cell \u001b[0;32mIn[7], line 2\u001b[0m\n\u001b[1;32m      1\u001b[0m \u001b[38;5;66;03m# Set constraints\u001b[39;00m\n\u001b[0;32m----> 2\u001b[0m rail\u001b[38;5;241m.\u001b[39mset_constraints()\n\u001b[1;32m      4\u001b[0m \u001b[38;5;66;03m# Set objective\u001b[39;00m\n\u001b[1;32m      5\u001b[0m rail\u001b[38;5;241m.\u001b[39mset_objective()\n",
      "File \u001b[0;32m~/railway-scheduling/src/railway/railway.py:407\u001b[0m, in \u001b[0;36mRailway.set_constraints\u001b[0;34m(self)\u001b[0m\n\u001b[1;32m    390\u001b[0m \u001b[38;5;28mself\u001b[39m\u001b[38;5;241m.\u001b[39mmodel\u001b[38;5;241m.\u001b[39maddConstrs(\n\u001b[1;32m    391\u001b[0m \t(\n\u001b[1;32m    392\u001b[0m \t\tquicksum(\n\u001b[0;32m   (...)\u001b[0m\n\u001b[1;32m    403\u001b[0m \tname\u001b[38;5;241m=\u001b[39m\u001b[38;5;124m\"\u001b[39m\u001b[38;5;124m7\u001b[39m\u001b[38;5;124m\"\u001b[39m,\n\u001b[1;32m    404\u001b[0m )\n\u001b[1;32m    406\u001b[0m \u001b[38;5;66;03m# Each track segment in an event request has limited capacity           (8)\u001b[39;00m\n\u001b[0;32m--> 407\u001b[0m \u001b[38;5;28mself\u001b[39m\u001b[38;5;241m.\u001b[39mmodel\u001b[38;5;241m.\u001b[39maddConstrs(\n\u001b[1;32m    408\u001b[0m \t(\n\u001b[1;32m    409\u001b[0m \t\tquicksum(\n\u001b[1;32m    410\u001b[0m \t\t\tquicksum(\n\u001b[1;32m    411\u001b[0m \t\t\t\tquicksum(\n\u001b[1;32m    412\u001b[0m \t\t\t\t\t\u001b[38;5;28mself\u001b[39m\u001b[38;5;241m.\u001b[39mh[o, d, t, i] \u001b[38;5;241m*\u001b[39m \u001b[38;5;28mself\u001b[39m\u001b[38;5;241m.\u001b[39mbeta[o, d, t] \u001b[38;5;241m*\u001b[39m \u001b[38;5;28mself\u001b[39m\u001b[38;5;241m.\u001b[39mphi[o, d, t]\n\u001b[1;32m    413\u001b[0m \t\t\t\t\t\u001b[38;5;28;01mfor\u001b[39;00m i \u001b[38;5;129;01min\u001b[39;00m \u001b[38;5;28mrange\u001b[39m(\u001b[38;5;241m1\u001b[39m, \u001b[38;5;28mself\u001b[39m\u001b[38;5;241m.\u001b[39mK \u001b[38;5;241m+\u001b[39m \u001b[38;5;241m1\u001b[39m) \u001b[38;5;28;01mif\u001b[39;00m a \u001b[38;5;129;01min\u001b[39;00m \u001b[38;5;28mself\u001b[39m\u001b[38;5;241m.\u001b[39mR[(o, d)][i\u001b[38;5;241m-\u001b[39m\u001b[38;5;241m1\u001b[39m]\n\u001b[1;32m    414\u001b[0m \t\t\t\t)\n\u001b[1;32m    415\u001b[0m \t\t\t\t\u001b[38;5;28;01mfor\u001b[39;00m o, d \u001b[38;5;129;01min\u001b[39;00m \u001b[38;5;28mself\u001b[39m\u001b[38;5;241m.\u001b[39mOD\n\u001b[1;32m    416\u001b[0m \t\t\t)\n\u001b[1;32m    417\u001b[0m \t\t\t\u001b[38;5;28;01mfor\u001b[39;00m a \u001b[38;5;129;01min\u001b[39;00m s\n\u001b[1;32m    418\u001b[0m \t\t)\n\u001b[1;32m    419\u001b[0m \t\t\u001b[38;5;241m<\u001b[39m\u001b[38;5;241m=\u001b[39m quicksum(\u001b[38;5;28mself\u001b[39m\u001b[38;5;241m.\u001b[39mLambd[a, t] \u001b[38;5;28;01mfor\u001b[39;00m a \u001b[38;5;129;01min\u001b[39;00m s) \n\u001b[1;32m    420\u001b[0m \t\t\u001b[38;5;241m+\u001b[39m (\u001b[38;5;28mself\u001b[39m\u001b[38;5;241m.\u001b[39mM \u001b[38;5;241m*\u001b[39m quicksum(\u001b[38;5;28mself\u001b[39m\u001b[38;5;241m.\u001b[39mx[\u001b[38;5;241m*\u001b[39ma, t] \u001b[38;5;28;01mfor\u001b[39;00m a \u001b[38;5;129;01min\u001b[39;00m s))\n\u001b[1;32m    421\u001b[0m \t\t\u001b[38;5;28;01mfor\u001b[39;00m t \u001b[38;5;129;01min\u001b[39;00m \u001b[38;5;28mself\u001b[39m\u001b[38;5;241m.\u001b[39mT\n\u001b[1;32m    422\u001b[0m \t\t\u001b[38;5;28;01mfor\u001b[39;00m _, s \u001b[38;5;129;01min\u001b[39;00m \u001b[38;5;28menumerate\u001b[39m(\u001b[38;5;28mself\u001b[39m\u001b[38;5;241m.\u001b[39mE[t])\n\u001b[1;32m    423\u001b[0m \t),\n\u001b[1;32m    424\u001b[0m \tname\u001b[38;5;241m=\u001b[39m\u001b[38;5;124m\"\u001b[39m\u001b[38;5;124m8\u001b[39m\u001b[38;5;124m\"\u001b[39m,\n\u001b[1;32m    425\u001b[0m )\n\u001b[1;32m    427\u001b[0m \u001b[38;5;66;03m# Passeger flow from o to d is served by one of predefined routes       (9)\u001b[39;00m\n\u001b[1;32m    428\u001b[0m \u001b[38;5;28mself\u001b[39m\u001b[38;5;241m.\u001b[39mmodel\u001b[38;5;241m.\u001b[39maddConstrs(\n\u001b[1;32m    429\u001b[0m \t(\n\u001b[1;32m    430\u001b[0m \t\tquicksum(\u001b[38;5;28mself\u001b[39m\u001b[38;5;241m.\u001b[39mh[o, d, t, i] \u001b[38;5;28;01mfor\u001b[39;00m i \u001b[38;5;129;01min\u001b[39;00m \u001b[38;5;28mrange\u001b[39m(\u001b[38;5;241m1\u001b[39m, \u001b[38;5;28mself\u001b[39m\u001b[38;5;241m.\u001b[39mK \u001b[38;5;241m+\u001b[39m \u001b[38;5;241m1\u001b[39m)) \u001b[38;5;241m==\u001b[39m \u001b[38;5;241m1\u001b[39m\n\u001b[0;32m   (...)\u001b[0m\n\u001b[1;32m    434\u001b[0m \tname\u001b[38;5;241m=\u001b[39m\u001b[38;5;124m\"\u001b[39m\u001b[38;5;124m9\u001b[39m\u001b[38;5;124m\"\u001b[39m,\n\u001b[1;32m    435\u001b[0m )\n",
      "File \u001b[0;32msrc/gurobipy/_model.pyx:4081\u001b[0m, in \u001b[0;36mgurobipy._model.Model.addConstrs\u001b[0;34m()\u001b[0m\n",
      "File \u001b[0;32msrc/gurobipy/tupledict.pxi:144\u001b[0m, in \u001b[0;36mgurobipy._core.tupledict.__setitem__\u001b[0;34m()\u001b[0m\n",
      "\u001b[0;31mTypeError\u001b[0m: unhashable type: 'list'"
     ]
    }
   ],
   "source": [
    "# Set constraints\n",
    "rail.set_constraints()\n",
    "\n",
    "# Set objective\n",
    "rail.set_objective()\n",
    "\n",
    "# Solve the problem\n",
    "rail.optimize()"
   ]
  },
  {
   "cell_type": "code",
   "execution_count": null,
   "metadata": {},
   "outputs": [
    {
     "name": "stdout",
     "output_type": "stream",
     "text": [
      "Problem parameters saved successfully.\n"
     ]
    }
   ],
   "source": [
    "# Check if the `datasets` directory exists otherwise create it\n",
    "if not os.path.exists(\"datasets\"):\n",
    "\tos.makedirs(\"datasets\")\n",
    "\n",
    "# Save the problem to a json file \n",
    "filename = os.path.join(\"datasets\", f\"railway_N{stations}_T{periods}_J{jobs}_P{passengers}_K{routes}.json\")\n",
    "rail.save(filename)"
   ]
  },
  {
   "cell_type": "code",
   "execution_count": null,
   "metadata": {},
   "outputs": [
    {
     "name": "stdout",
     "output_type": "stream",
     "text": [
      "Stations 10\n",
      "Periods 10\n",
      "Jobs 80\n",
      "Passengers 2000\n",
      "Routes 3\n",
      "Model <gurobi.Model Continuous instance Unnamed: 0 constrs, 0 vars, Parameter changes: Username=(user-defined), LicenseID=2585388>\n"
     ]
    }
   ],
   "source": [
    "# Try to load a new object from the json file\n",
    "rail2 = Railway.load(filename)\n",
    "\n",
    "print(\"Stations\", rail2.stations)\n",
    "print(\"Periods\", rail2.periods)\n",
    "print(\"Jobs\", rail2.jobs)\n",
    "print(\"Passengers\", rail2.passengers)\n",
    "print(\"Routes\", rail2.routes)\n",
    "print(\"Model\", rail2.model)"
   ]
  },
  {
   "cell_type": "code",
   "execution_count": null,
   "metadata": {},
   "outputs": [
    {
     "name": "stdout",
     "output_type": "stream",
     "text": [
      "✅ Same stations\n",
      "✅ Same periods\n",
      "✅ Same jobs\n",
      "✅ Same passengers\n",
      "✅ Same routes\n",
      "✅ Same coords\n",
      "✅ Same Aj\n",
      "✅ Same Ja\n",
      "✅ Same E\n",
      "✅ Same R\n",
      "✅ Same pi\n",
      "✅ Same C\n",
      "✅ Same tau\n",
      "✅ Same phi\n",
      "✅ Same beta\n",
      "✅ Same Lambd\n"
     ]
    }
   ],
   "source": [
    "if rail.stations == rail2.stations:\n",
    "\tprint(\"✅ Same stations\")\n",
    "else:\n",
    "\tprint(\"❌ Different stations\")\n",
    "\n",
    "if rail.periods == rail2.periods:\n",
    "\tprint(\"✅ Same periods\")\n",
    "else:\n",
    "\tprint(\"❌ Different periods\")\n",
    "\n",
    "if rail.jobs == rail2.jobs:\n",
    "\tprint(\"✅ Same jobs\")\n",
    "else:\n",
    "\tprint(\"❌ Different jobs\")\n",
    "\n",
    "if rail.passengers == rail2.passengers:\n",
    "\tprint(\"✅ Same passengers\")\n",
    "else:\n",
    "\tprint(\"❌ Different passengers\")\n",
    "\n",
    "if rail.routes == rail2.routes:\n",
    "\tprint(\"✅ Same routes\")\n",
    "else:\n",
    "\tprint(\"❌ Different routes\")\n",
    " \n",
    "if rail.coords == rail2.coords:\n",
    "\tprint(\"✅ Same coords\")\n",
    "else:\n",
    "\tprint(\"❌ Different coords\")\n",
    "\n",
    "if rail.Aj == rail2.Aj:\n",
    "\tprint(\"✅ Same Aj\")\n",
    "else:\n",
    "\tprint(\"❌ Different Aj\")\n",
    "\n",
    "if rail.Ja == rail2.Ja:\n",
    "\tprint(\"✅ Same Ja\")\n",
    "else:\n",
    "\tprint(\"❌ Different Ja\")\n",
    "\n",
    "if rail.E == rail2.E:\n",
    "\tprint(\"✅ Same E\")\n",
    "else:\n",
    "\tprint(\"❌ Different E\")\n",
    "\n",
    "if rail.R == rail2.R:\n",
    "\tprint(\"✅ Same R\")\n",
    "else:\n",
    "\tprint(\"❌ Different R\")\n",
    "\n",
    "if rail.pi == rail2.pi:\n",
    "\tprint(\"✅ Same pi\")\n",
    "else:\n",
    "\tprint(\"❌ Different pi\")\n",
    "\n",
    "if rail.C == rail2.C:\n",
    "\tprint(\"✅ Same C\")\n",
    "else:\n",
    "\tprint(\"❌ Different C\")\n",
    "\n",
    "if rail.tau == rail2.tau:\n",
    "\tprint(\"✅ Same tau\")\n",
    "else:\n",
    "\tprint(\"❌ Different tau\")\n",
    "\n",
    "if rail.phi == rail2.phi:\n",
    "\tprint(\"✅ Same phi\")\n",
    "else:\n",
    "\tprint(\"❌ Different phi\")\n",
    "\n",
    "if rail.beta == rail2.beta:\n",
    "\tprint(\"✅ Same beta\")\n",
    "else:\n",
    "\tprint(\"❌ Different beta\")\n",
    "\n",
    "if rail.Lambd == rail2.Lambd:\n",
    "\tprint(\"✅ Same Lambd\")\n",
    "else:\n",
    "\tprint(\"❌ Different Lambd\")"
   ]
  },
  {
   "cell_type": "code",
   "execution_count": null,
   "metadata": {},
   "outputs": [
    {
     "data": {
      "text/plain": [
       "{(1, 2): [[(1, 2)], [(1, 7), (2, 7)], [(1, 10), (2, 10)]],\n",
       " (1, 3): [[(1, 3)], [(1, 8), (3, 8)], [(1, 4), (3, 4)]],\n",
       " (1, 4): [[(1, 4)], [(1, 8), (4, 8)], [(1, 2), (2, 4)]],\n",
       " (1, 5): [[(1, 5)], [(1, 10), (5, 10)], [(1, 2), (2, 5)]],\n",
       " (1, 6): [[(1, 6)], [(1, 4), (4, 6)], [(1, 8), (6, 8)]],\n",
       " (1, 7): [[(1, 7)], [(1, 2), (2, 7)], [(1, 10), (7, 10)]],\n",
       " (1, 8): [[(1, 8)], [(1, 2), (2, 8)], [(1, 4), (4, 8)]],\n",
       " (1, 9): [[(1, 9)], [(1, 3), (3, 9)], [(1, 8), (8, 9)]],\n",
       " (1, 10): [[(1, 10)], [(1, 2), (2, 10)], [(1, 7), (7, 10)]],\n",
       " (2, 1): [[(1, 2)], [(2, 7), (1, 7)], [(2, 10), (1, 10)]],\n",
       " (2, 3): [[(2, 3)], [(2, 8), (3, 8)], [(1, 2), (1, 3)]],\n",
       " (2, 4): [[(2, 4)], [(2, 7), (4, 7)], [(2, 10), (4, 10)]],\n",
       " (2, 5): [[(2, 5)], [(2, 10), (5, 10)], [(2, 7), (5, 7)]],\n",
       " (2, 6): [[(2, 6)], [(2, 5), (5, 6)], [(2, 10), (6, 10)]],\n",
       " (2, 7): [[(2, 7)], [(2, 10), (7, 10)], [(1, 2), (1, 7)]],\n",
       " (2, 8): [[(2, 8)], [(1, 2), (1, 8)], [(2, 7), (7, 8)]],\n",
       " (2, 9): [[(2, 9)], [(2, 8), (8, 9)], [(2, 3), (3, 9)]],\n",
       " (2, 10): [[(2, 10)], [(2, 7), (7, 10)], [(2, 5), (5, 10)]],\n",
       " (3, 1): [[(1, 3)], [(3, 8), (1, 8)], [(3, 4), (1, 4)]],\n",
       " (3, 2): [[(2, 3)], [(3, 8), (2, 8)], [(1, 3), (1, 2)]],\n",
       " (3, 4): [[(3, 4)], [(3, 8), (4, 8)], [(3, 9), (4, 9)]],\n",
       " (3, 5): [[(3, 5)], [(3, 4), (4, 5)], [(3, 8), (5, 8)]],\n",
       " (3, 6): [[(3, 6)], [(3, 9), (6, 9)], [(3, 4), (4, 6)]],\n",
       " (3, 7): [[(3, 7)], [(3, 8), (7, 8)], [(3, 4), (4, 7)]],\n",
       " (3, 8): [[(3, 8)], [(3, 9), (8, 9)], [(3, 4), (4, 8)]],\n",
       " (3, 9): [[(3, 9)], [(3, 8), (8, 9)], [(3, 4), (4, 9)]],\n",
       " (3, 10): [[(3, 10)], [(3, 4), (4, 10)], [(3, 8), (8, 10)]],\n",
       " (4, 1): [[(1, 4)], [(4, 8), (1, 8)], [(2, 4), (1, 2)]],\n",
       " (4, 2): [[(2, 4)], [(4, 7), (2, 7)], [(4, 10), (2, 10)]],\n",
       " (4, 3): [[(3, 4)], [(4, 8), (3, 8)], [(4, 9), (3, 9)]],\n",
       " (4, 5): [[(4, 5)], [(4, 10), (5, 10)], [(4, 8), (5, 8)]],\n",
       " (4, 6): [[(4, 6)], [(4, 8), (6, 8)], [(4, 5), (5, 6)]],\n",
       " (4, 7): [[(4, 7)], [(4, 10), (7, 10)], [(4, 5), (5, 7)]],\n",
       " (4, 8): [[(4, 8)], [(4, 5), (5, 8)], [(4, 10), (8, 10)]],\n",
       " (4, 9): [[(4, 9)], [(3, 4), (3, 9)], [(4, 8), (8, 9)]],\n",
       " (4, 10): [[(4, 10)], [(4, 5), (5, 10)], [(4, 8), (8, 10)]],\n",
       " (5, 1): [[(1, 5)], [(5, 10), (1, 10)], [(2, 5), (1, 2)]],\n",
       " (5, 2): [[(2, 5)], [(5, 10), (2, 10)], [(5, 7), (2, 7)]],\n",
       " (5, 3): [[(3, 5)], [(4, 5), (3, 4)], [(5, 8), (3, 8)]],\n",
       " (5, 4): [[(4, 5)], [(5, 10), (4, 10)], [(5, 8), (4, 8)]],\n",
       " (5, 6): [[(5, 6)], [(4, 5), (4, 6)], [(5, 10), (6, 10)]],\n",
       " (5, 7): [[(5, 7)], [(5, 10), (7, 10)], [(2, 5), (2, 7)]],\n",
       " (5, 8): [[(5, 8)], [(4, 5), (4, 8)], [(5, 10), (8, 10)]],\n",
       " (5, 9): [[(5, 9)], [(4, 5), (4, 9)], [(3, 5), (3, 9)]],\n",
       " (5, 10): [[(5, 10)], [(5, 7), (7, 10)], [(2, 5), (2, 10)]],\n",
       " (6, 1): [[(1, 6)], [(4, 6), (1, 4)], [(6, 8), (1, 8)]],\n",
       " (6, 2): [[(2, 6)], [(5, 6), (2, 5)], [(6, 10), (2, 10)]],\n",
       " (6, 3): [[(3, 6)], [(6, 9), (3, 9)], [(4, 6), (3, 4)]],\n",
       " (6, 4): [[(4, 6)], [(6, 8), (4, 8)], [(5, 6), (4, 5)]],\n",
       " (6, 5): [[(5, 6)], [(4, 6), (4, 5)], [(6, 10), (5, 10)]],\n",
       " (6, 7): [[(6, 7)], [(6, 10), (7, 10)], [(5, 6), (5, 7)]],\n",
       " (6, 8): [[(6, 8)], [(4, 6), (4, 8)], [(5, 6), (5, 8)]],\n",
       " (6, 9): [[(6, 9)], [(3, 6), (3, 9)], [(4, 6), (4, 9)]],\n",
       " (6, 10): [[(6, 10)], [(5, 6), (5, 10)], [(4, 6), (4, 10)]],\n",
       " (7, 1): [[(1, 7)], [(2, 7), (1, 2)], [(7, 10), (1, 10)]],\n",
       " (7, 2): [[(2, 7)], [(7, 10), (2, 10)], [(1, 7), (1, 2)]],\n",
       " (7, 3): [[(3, 7)], [(7, 8), (3, 8)], [(4, 7), (3, 4)]],\n",
       " (7, 4): [[(4, 7)], [(7, 10), (4, 10)], [(5, 7), (4, 5)]],\n",
       " (7, 5): [[(5, 7)], [(7, 10), (5, 10)], [(2, 7), (2, 5)]],\n",
       " (7, 6): [[(6, 7)], [(7, 10), (6, 10)], [(5, 7), (5, 6)]],\n",
       " (7, 8): [[(7, 8)], [(2, 7), (2, 8)], [(7, 10), (8, 10)]],\n",
       " (7, 9): [[(7, 9)], [(3, 7), (3, 9)], [(7, 8), (8, 9)]],\n",
       " (7, 10): [[(7, 10)], [(2, 7), (2, 10)], [(5, 7), (5, 10)]],\n",
       " (8, 1): [[(1, 8)], [(2, 8), (1, 2)], [(4, 8), (1, 4)]],\n",
       " (8, 2): [[(2, 8)], [(1, 8), (1, 2)], [(7, 8), (2, 7)]],\n",
       " (8, 3): [[(3, 8)], [(8, 9), (3, 9)], [(4, 8), (3, 4)]],\n",
       " (8, 4): [[(4, 8)], [(5, 8), (4, 5)], [(8, 10), (4, 10)]],\n",
       " (8, 5): [[(5, 8)], [(4, 8), (4, 5)], [(8, 10), (5, 10)]],\n",
       " (8, 6): [[(6, 8)], [(4, 8), (4, 6)], [(5, 8), (5, 6)]],\n",
       " (8, 7): [[(7, 8)], [(2, 8), (2, 7)], [(8, 10), (7, 10)]],\n",
       " (8, 9): [[(8, 9)], [(3, 8), (3, 9)], [(4, 8), (4, 9)]],\n",
       " (8, 10): [[(8, 10)], [(5, 8), (5, 10)], [(4, 8), (4, 10)]],\n",
       " (9, 1): [[(1, 9)], [(3, 9), (1, 3)], [(8, 9), (1, 8)]],\n",
       " (9, 2): [[(2, 9)], [(8, 9), (2, 8)], [(3, 9), (2, 3)]],\n",
       " (9, 3): [[(3, 9)], [(8, 9), (3, 8)], [(4, 9), (3, 4)]],\n",
       " (9, 4): [[(4, 9)], [(3, 9), (3, 4)], [(8, 9), (4, 8)]],\n",
       " (9, 5): [[(5, 9)], [(4, 9), (4, 5)], [(3, 9), (3, 5)]],\n",
       " (9, 6): [[(6, 9)], [(3, 9), (3, 6)], [(4, 9), (4, 6)]],\n",
       " (9, 7): [[(7, 9)], [(3, 9), (3, 7)], [(8, 9), (7, 8)]],\n",
       " (9, 8): [[(8, 9)], [(3, 9), (3, 8)], [(4, 9), (4, 8)]],\n",
       " (9, 10): [[(9, 10)], [(4, 9), (4, 10)], [(3, 9), (3, 10)]],\n",
       " (10, 1): [[(1, 10)], [(2, 10), (1, 2)], [(7, 10), (1, 7)]],\n",
       " (10, 2): [[(2, 10)], [(7, 10), (2, 7)], [(5, 10), (2, 5)]],\n",
       " (10, 3): [[(3, 10)], [(4, 10), (3, 4)], [(8, 10), (3, 8)]],\n",
       " (10, 4): [[(4, 10)], [(5, 10), (4, 5)], [(8, 10), (4, 8)]],\n",
       " (10, 5): [[(5, 10)], [(7, 10), (5, 7)], [(2, 10), (2, 5)]],\n",
       " (10, 6): [[(6, 10)], [(5, 10), (5, 6)], [(4, 10), (4, 6)]],\n",
       " (10, 7): [[(7, 10)], [(2, 10), (2, 7)], [(5, 10), (5, 7)]],\n",
       " (10, 8): [[(8, 10)], [(5, 10), (5, 8)], [(4, 10), (4, 8)]],\n",
       " (10, 9): [[(9, 10)], [(4, 10), (4, 9)], [(3, 10), (3, 9)]]}"
      ]
     },
     "execution_count": 20,
     "metadata": {},
     "output_type": "execute_result"
    }
   ],
   "source": [
    "rail.R"
   ]
  },
  {
   "cell_type": "code",
   "execution_count": null,
   "metadata": {},
   "outputs": [
    {
     "data": {
      "text/plain": [
       "{(1, 2): [[(1, 2)], [(1, 7), (2, 7)], [(1, 10), (2, 10)]],\n",
       " (1, 3): [[(1, 3)], [(1, 8), (3, 8)], [(1, 4), (3, 4)]],\n",
       " (1, 4): [[(1, 4)], [(1, 8), (4, 8)], [(1, 2), (2, 4)]],\n",
       " (1, 5): [[(1, 5)], [(1, 10), (5, 10)], [(1, 2), (2, 5)]],\n",
       " (1, 6): [[(1, 6)], [(1, 4), (4, 6)], [(1, 8), (6, 8)]],\n",
       " (1, 7): [[(1, 7)], [(1, 2), (2, 7)], [(1, 10), (7, 10)]],\n",
       " (1, 8): [[(1, 8)], [(1, 2), (2, 8)], [(1, 4), (4, 8)]],\n",
       " (1, 9): [[(1, 9)], [(1, 3), (3, 9)], [(1, 8), (8, 9)]],\n",
       " (1, 10): [[(1, 10)], [(1, 2), (2, 10)], [(1, 7), (7, 10)]],\n",
       " (2, 1): [[(1, 2)], [(2, 7), (1, 7)], [(2, 10), (1, 10)]],\n",
       " (2, 3): [[(2, 3)], [(2, 8), (3, 8)], [(1, 2), (1, 3)]],\n",
       " (2, 4): [[(2, 4)], [(2, 7), (4, 7)], [(2, 10), (4, 10)]],\n",
       " (2, 5): [[(2, 5)], [(2, 10), (5, 10)], [(2, 7), (5, 7)]],\n",
       " (2, 6): [[(2, 6)], [(2, 5), (5, 6)], [(2, 10), (6, 10)]],\n",
       " (2, 7): [[(2, 7)], [(2, 10), (7, 10)], [(1, 2), (1, 7)]],\n",
       " (2, 8): [[(2, 8)], [(1, 2), (1, 8)], [(2, 7), (7, 8)]],\n",
       " (2, 9): [[(2, 9)], [(2, 8), (8, 9)], [(2, 3), (3, 9)]],\n",
       " (2, 10): [[(2, 10)], [(2, 7), (7, 10)], [(2, 5), (5, 10)]],\n",
       " (3, 1): [[(1, 3)], [(3, 8), (1, 8)], [(3, 4), (1, 4)]],\n",
       " (3, 2): [[(2, 3)], [(3, 8), (2, 8)], [(1, 3), (1, 2)]],\n",
       " (3, 4): [[(3, 4)], [(3, 8), (4, 8)], [(3, 9), (4, 9)]],\n",
       " (3, 5): [[(3, 5)], [(3, 4), (4, 5)], [(3, 8), (5, 8)]],\n",
       " (3, 6): [[(3, 6)], [(3, 9), (6, 9)], [(3, 4), (4, 6)]],\n",
       " (3, 7): [[(3, 7)], [(3, 8), (7, 8)], [(3, 4), (4, 7)]],\n",
       " (3, 8): [[(3, 8)], [(3, 9), (8, 9)], [(3, 4), (4, 8)]],\n",
       " (3, 9): [[(3, 9)], [(3, 8), (8, 9)], [(3, 4), (4, 9)]],\n",
       " (3, 10): [[(3, 10)], [(3, 4), (4, 10)], [(3, 8), (8, 10)]],\n",
       " (4, 1): [[(1, 4)], [(4, 8), (1, 8)], [(2, 4), (1, 2)]],\n",
       " (4, 2): [[(2, 4)], [(4, 7), (2, 7)], [(4, 10), (2, 10)]],\n",
       " (4, 3): [[(3, 4)], [(4, 8), (3, 8)], [(4, 9), (3, 9)]],\n",
       " (4, 5): [[(4, 5)], [(4, 10), (5, 10)], [(4, 8), (5, 8)]],\n",
       " (4, 6): [[(4, 6)], [(4, 8), (6, 8)], [(4, 5), (5, 6)]],\n",
       " (4, 7): [[(4, 7)], [(4, 10), (7, 10)], [(4, 5), (5, 7)]],\n",
       " (4, 8): [[(4, 8)], [(4, 5), (5, 8)], [(4, 10), (8, 10)]],\n",
       " (4, 9): [[(4, 9)], [(3, 4), (3, 9)], [(4, 8), (8, 9)]],\n",
       " (4, 10): [[(4, 10)], [(4, 5), (5, 10)], [(4, 8), (8, 10)]],\n",
       " (5, 1): [[(1, 5)], [(5, 10), (1, 10)], [(2, 5), (1, 2)]],\n",
       " (5, 2): [[(2, 5)], [(5, 10), (2, 10)], [(5, 7), (2, 7)]],\n",
       " (5, 3): [[(3, 5)], [(4, 5), (3, 4)], [(5, 8), (3, 8)]],\n",
       " (5, 4): [[(4, 5)], [(5, 10), (4, 10)], [(5, 8), (4, 8)]],\n",
       " (5, 6): [[(5, 6)], [(4, 5), (4, 6)], [(5, 10), (6, 10)]],\n",
       " (5, 7): [[(5, 7)], [(5, 10), (7, 10)], [(2, 5), (2, 7)]],\n",
       " (5, 8): [[(5, 8)], [(4, 5), (4, 8)], [(5, 10), (8, 10)]],\n",
       " (5, 9): [[(5, 9)], [(4, 5), (4, 9)], [(3, 5), (3, 9)]],\n",
       " (5, 10): [[(5, 10)], [(5, 7), (7, 10)], [(2, 5), (2, 10)]],\n",
       " (6, 1): [[(1, 6)], [(4, 6), (1, 4)], [(6, 8), (1, 8)]],\n",
       " (6, 2): [[(2, 6)], [(5, 6), (2, 5)], [(6, 10), (2, 10)]],\n",
       " (6, 3): [[(3, 6)], [(6, 9), (3, 9)], [(4, 6), (3, 4)]],\n",
       " (6, 4): [[(4, 6)], [(6, 8), (4, 8)], [(5, 6), (4, 5)]],\n",
       " (6, 5): [[(5, 6)], [(4, 6), (4, 5)], [(6, 10), (5, 10)]],\n",
       " (6, 7): [[(6, 7)], [(6, 10), (7, 10)], [(5, 6), (5, 7)]],\n",
       " (6, 8): [[(6, 8)], [(4, 6), (4, 8)], [(5, 6), (5, 8)]],\n",
       " (6, 9): [[(6, 9)], [(3, 6), (3, 9)], [(4, 6), (4, 9)]],\n",
       " (6, 10): [[(6, 10)], [(5, 6), (5, 10)], [(4, 6), (4, 10)]],\n",
       " (7, 1): [[(1, 7)], [(2, 7), (1, 2)], [(7, 10), (1, 10)]],\n",
       " (7, 2): [[(2, 7)], [(7, 10), (2, 10)], [(1, 7), (1, 2)]],\n",
       " (7, 3): [[(3, 7)], [(7, 8), (3, 8)], [(4, 7), (3, 4)]],\n",
       " (7, 4): [[(4, 7)], [(7, 10), (4, 10)], [(5, 7), (4, 5)]],\n",
       " (7, 5): [[(5, 7)], [(7, 10), (5, 10)], [(2, 7), (2, 5)]],\n",
       " (7, 6): [[(6, 7)], [(7, 10), (6, 10)], [(5, 7), (5, 6)]],\n",
       " (7, 8): [[(7, 8)], [(2, 7), (2, 8)], [(7, 10), (8, 10)]],\n",
       " (7, 9): [[(7, 9)], [(3, 7), (3, 9)], [(7, 8), (8, 9)]],\n",
       " (7, 10): [[(7, 10)], [(2, 7), (2, 10)], [(5, 7), (5, 10)]],\n",
       " (8, 1): [[(1, 8)], [(2, 8), (1, 2)], [(4, 8), (1, 4)]],\n",
       " (8, 2): [[(2, 8)], [(1, 8), (1, 2)], [(7, 8), (2, 7)]],\n",
       " (8, 3): [[(3, 8)], [(8, 9), (3, 9)], [(4, 8), (3, 4)]],\n",
       " (8, 4): [[(4, 8)], [(5, 8), (4, 5)], [(8, 10), (4, 10)]],\n",
       " (8, 5): [[(5, 8)], [(4, 8), (4, 5)], [(8, 10), (5, 10)]],\n",
       " (8, 6): [[(6, 8)], [(4, 8), (4, 6)], [(5, 8), (5, 6)]],\n",
       " (8, 7): [[(7, 8)], [(2, 8), (2, 7)], [(8, 10), (7, 10)]],\n",
       " (8, 9): [[(8, 9)], [(3, 8), (3, 9)], [(4, 8), (4, 9)]],\n",
       " (8, 10): [[(8, 10)], [(5, 8), (5, 10)], [(4, 8), (4, 10)]],\n",
       " (9, 1): [[(1, 9)], [(3, 9), (1, 3)], [(8, 9), (1, 8)]],\n",
       " (9, 2): [[(2, 9)], [(8, 9), (2, 8)], [(3, 9), (2, 3)]],\n",
       " (9, 3): [[(3, 9)], [(8, 9), (3, 8)], [(4, 9), (3, 4)]],\n",
       " (9, 4): [[(4, 9)], [(3, 9), (3, 4)], [(8, 9), (4, 8)]],\n",
       " (9, 5): [[(5, 9)], [(4, 9), (4, 5)], [(3, 9), (3, 5)]],\n",
       " (9, 6): [[(6, 9)], [(3, 9), (3, 6)], [(4, 9), (4, 6)]],\n",
       " (9, 7): [[(7, 9)], [(3, 9), (3, 7)], [(8, 9), (7, 8)]],\n",
       " (9, 8): [[(8, 9)], [(3, 9), (3, 8)], [(4, 9), (4, 8)]],\n",
       " (9, 10): [[(9, 10)], [(4, 9), (4, 10)], [(3, 9), (3, 10)]],\n",
       " (10, 1): [[(1, 10)], [(2, 10), (1, 2)], [(7, 10), (1, 7)]],\n",
       " (10, 2): [[(2, 10)], [(7, 10), (2, 7)], [(5, 10), (2, 5)]],\n",
       " (10, 3): [[(3, 10)], [(4, 10), (3, 4)], [(8, 10), (3, 8)]],\n",
       " (10, 4): [[(4, 10)], [(5, 10), (4, 5)], [(8, 10), (4, 8)]],\n",
       " (10, 5): [[(5, 10)], [(7, 10), (5, 7)], [(2, 10), (2, 5)]],\n",
       " (10, 6): [[(6, 10)], [(5, 10), (5, 6)], [(4, 10), (4, 6)]],\n",
       " (10, 7): [[(7, 10)], [(2, 10), (2, 7)], [(5, 10), (5, 7)]],\n",
       " (10, 8): [[(8, 10)], [(5, 10), (5, 8)], [(4, 10), (4, 8)]],\n",
       " (10, 9): [[(9, 10)], [(4, 10), (4, 9)], [(3, 10), (3, 9)]]}"
      ]
     },
     "execution_count": 21,
     "metadata": {},
     "output_type": "execute_result"
    }
   ],
   "source": [
    "rail2.R"
   ]
  },
  {
   "cell_type": "code",
   "execution_count": null,
   "metadata": {},
   "outputs": [
    {
     "name": "stdout",
     "output_type": "stream",
     "text": [
      "Gurobi Optimizer version 12.0.0 build v12.0.0rc1 (linux64 - \"Arch Linux\")\n",
      "\n",
      "CPU model: Intel(R) Core(TM) i7-8565U CPU @ 1.80GHz, instruction set [SSE2|AVX|AVX2]\n",
      "Thread count: 4 physical cores, 8 logical processors, using up to 8 threads\n",
      "\n",
      "Optimize a model with 8245 rows, 5700 columns and 24390 nonzeros\n",
      "Model fingerprint: 0x6678868b\n",
      "Variable types: 1450 continuous, 4250 integer (4250 binary)\n",
      "Coefficient statistics:\n",
      "  Matrix range     [8e-02, 1e+06]\n",
      "  Objective range  [1e+03, 2e+03]\n",
      "  Bounds range     [1e+00, 1e+00]\n",
      "  RHS range        [3e-01, 1e+06]\n",
      "Presolve removed 4788 rows and 3288 columns\n",
      "Presolve time: 0.13s\n",
      "Presolved: 3457 rows, 2412 columns, 13228 nonzeros\n",
      "Variable types: 562 continuous, 1850 integer (1850 binary)\n",
      "Found heuristic solution: objective 46928.681508\n",
      "\n",
      "Root relaxation: objective -3.054079e+04, 1845 iterations, 0.03 seconds (0.02 work units)\n",
      "\n",
      "    Nodes    |    Current Node    |     Objective Bounds      |     Work\n",
      " Expl Unexpl |  Obj  Depth IntInf | Incumbent    BestBd   Gap | It/Node Time\n",
      "\n",
      "     0     0 -30540.795    0  648 46928.6815 -30540.795   165%     -    0s\n",
      "H    0     0                    27680.308440 -30540.795   210%     -    0s\n",
      "H    0     0                    26589.370454 -30540.795   215%     -    0s\n",
      "H    0     0                    25139.495071 -30540.795   221%     -    0s\n",
      "H    0     0                    24977.460490 -30540.795   222%     -    0s\n",
      "H    0     0                    24059.991001 -30540.795   227%     -    0s\n",
      "H    0     0                    23846.204041 -30540.795   228%     -    0s\n",
      "     0     0 14906.8505    0  385 23846.2040 14906.8505  37.5%     -    0s\n",
      "H    0     0                    23542.665515 16658.3768  29.2%     -    0s\n",
      "     0     0 16658.3768    0  392 23542.6655 16658.3768  29.2%     -    0s\n",
      "     0     0 17119.1061    0  440 23542.6655 17119.1061  27.3%     -    0s\n",
      "     0     0 17319.4081    0  396 23542.6655 17319.4081  26.4%     -    0s\n",
      "     0     0 17369.0040    0  376 23542.6655 17369.0040  26.2%     -    0s\n",
      "     0     0 17371.0827    0  380 23542.6655 17371.0827  26.2%     -    0s\n",
      "     0     0 19942.5274    0  165 23542.6655 19942.5274  15.3%     -    0s\n",
      "H    0     0                    22441.453213 19943.7765  11.1%     -    0s\n",
      "H    0     0                    22087.236194 19943.7765  9.70%     -    0s\n",
      "H    0     0                    22044.544622 19943.7765  9.53%     -    0s\n",
      "H    0     0                    21736.222710 19943.7765  8.25%     -    0s\n",
      "     0     0 20066.2369    0  160 21736.2227 20066.2369  7.68%     -    0s\n",
      "     0     0 20086.4508    0  169 21736.2227 20086.4508  7.59%     -    0s\n",
      "     0     0 20539.2126    0   57 21736.2227 20539.2126  5.51%     -    0s\n",
      "H    0     0                    20989.278240 20544.6317  2.12%     -    0s\n",
      "H    0     0                    20989.277927 20544.6317  2.12%     -    0s\n",
      "H    0     0                    20752.253903 20544.6317  1.00%     -    0s\n",
      "H    0     0                    20752.253894 20544.6317  1.00%     -    0s\n",
      "     0     0 20544.6317    0   55 20752.2539 20544.6317  1.00%     -    0s\n",
      "     0     0 20565.8874    0   33 20752.2539 20565.8874  0.90%     -    0s\n",
      "H    0     0                    20748.330684 20571.9808  0.85%     -    0s\n",
      "     0     0 20590.8520    0   39 20748.3307 20590.8520  0.76%     -    1s\n",
      "     0     0 20740.2505    0   43 20748.3307 20740.2505  0.04%     -    1s\n",
      "\n",
      "Cutting planes:\n",
      "  Learned: 251\n",
      "  Gomory: 39\n",
      "  Cover: 143\n",
      "  Implied bound: 234\n",
      "  Clique: 42\n",
      "  MIR: 241\n",
      "  StrongCG: 25\n",
      "  RLT: 15\n",
      "  Relax-and-lift: 119\n",
      "\n",
      "Explored 1 nodes (5954 simplex iterations) in 1.16 seconds (0.41 work units)\n",
      "Thread count was 8 (of 8 available processors)\n",
      "\n",
      "Solution count 10: 20748.3 20752.3 20989.3 ... 24060\n",
      "No other solutions better than 20748.3\n",
      "\n",
      "Optimal solution found (tolerance 1.00e-04)\n",
      "Best objective 2.074833065843e+04, best bound 2.074833065843e+04, gap 0.0000%\n"
     ]
    }
   ],
   "source": [
    "# Set constraints\n",
    "rail2.set_constraints()\n",
    "\n",
    "# Set objective\n",
    "rail2.set_objective()\n",
    "\n",
    "# Optimize\n",
    "rail2.optimize()"
   ]
  },
  {
   "cell_type": "code",
   "execution_count": null,
   "metadata": {},
   "outputs": [
    {
     "name": "stdout",
     "output_type": "stream",
     "text": [
      "Set parameter TimeLimit to value 120\n"
     ]
    }
   ],
   "source": [
    "rail3 = Railway(\n",
    "\tstations,\n",
    " periods,\n",
    " jobs,\n",
    " passengers,\n",
    " routes,\n",
    " coords=rail.coords,\n",
    " Aj=rail.Aj,\n",
    " C=rail.C,\n",
    " E=rail.E,\n",
    " R=rail.R,\n",
    " pi=rail.pi,\n",
    " tau=rail.tau,\n",
    " phi=rail.phi,\n",
    " beta=rail.beta,\n",
    " Lambd=rail.Lambd,\n",
    ")\n",
    "rail3.model.setParam('TimeLimit', 120)"
   ]
  },
  {
   "cell_type": "code",
   "execution_count": null,
   "metadata": {},
   "outputs": [
    {
     "name": "stdout",
     "output_type": "stream",
     "text": [
      "✅ Same stations\n",
      "✅ Same periods\n",
      "✅ Same jobs\n",
      "✅ Same passengers\n",
      "✅ Same routes\n",
      "✅ Same coords\n",
      "✅ Same Aj\n",
      "✅ Same Ja\n",
      "✅ Same E\n",
      "✅ Same R\n",
      "✅ Same pi\n",
      "✅ Same C\n",
      "✅ Same tau\n",
      "✅ Same phi\n",
      "✅ Same beta\n",
      "✅ Same Lambd\n"
     ]
    }
   ],
   "source": [
    "\n",
    "if rail.stations == rail3.stations:\n",
    "\tprint(\"✅ Same stations\")\n",
    "else:\n",
    "\tprint(\"❌ Different stations\")\n",
    "\n",
    "if rail.periods == rail3.periods:\n",
    "\tprint(\"✅ Same periods\")\n",
    "else:\n",
    "\tprint(\"❌ Different periods\")\n",
    "\n",
    "if rail.jobs == rail3.jobs:\n",
    "\tprint(\"✅ Same jobs\")\n",
    "else:\n",
    "\tprint(\"❌ Different jobs\")\n",
    "\n",
    "if rail.passengers == rail3.passengers:\n",
    "\tprint(\"✅ Same passengers\")\n",
    "else:\n",
    "\tprint(\"❌ Different passengers\")\n",
    "\n",
    "if rail.routes == rail3.routes:\n",
    "\tprint(\"✅ Same routes\")\n",
    "else:\n",
    "\tprint(\"❌ Different routes\")\n",
    "\n",
    "if rail.coords == rail3.coords:\n",
    "\tprint(\"✅ Same coords\")\n",
    "else:\n",
    "\tprint(\"❌ Different coords\")\n",
    "\n",
    "if rail.Aj == rail3.Aj:\n",
    "\tprint(\"✅ Same Aj\")\n",
    "else:\n",
    "\tprint(\"❌ Different Aj\")\n",
    "\n",
    "if rail.Ja == rail3.Ja:\n",
    "\tprint(\"✅ Same Ja\")\n",
    "else:\n",
    "\tprint(\"❌ Different Ja\")\n",
    "\n",
    "if rail.E == rail3.E:\n",
    "\tprint(\"✅ Same E\")\n",
    "else:\n",
    "\tprint(\"❌ Different E\")\n",
    "\n",
    "if rail.R == rail3.R:\n",
    "\tprint(\"✅ Same R\")\n",
    "else:\n",
    "\tprint(\"❌ Different R\")\n",
    "\n",
    "if rail.pi == rail3.pi:\n",
    "\tprint(\"✅ Same pi\")\n",
    "else:\n",
    "\tprint(\"❌ Different pi\")\n",
    "\n",
    "if rail.C == rail3.C:\n",
    "\tprint(\"✅ Same C\")\n",
    "else:\n",
    "\tprint(\"❌ Different C\")\n",
    "\n",
    "if rail.tau == rail3.tau:\n",
    "\tprint(\"✅ Same tau\")\n",
    "else:\n",
    "\tprint(\"❌ Different tau\")\n",
    "\n",
    "if rail.phi == rail3.phi:\n",
    "\tprint(\"✅ Same phi\")\n",
    "else:\n",
    "\tprint(\"❌ Different phi\")\n",
    "\n",
    "if rail.beta == rail3.beta:\n",
    "\tprint(\"✅ Same beta\")\n",
    "else:\n",
    "\tprint(\"❌ Different beta\")\n",
    "\n",
    "if rail.Lambd == rail3.Lambd:\n",
    "\tprint(\"✅ Same Lambd\")\n",
    "else:\n",
    "\tprint(\"❌ Different Lambd\")"
   ]
  },
  {
   "cell_type": "code",
   "execution_count": null,
   "metadata": {},
   "outputs": [
    {
     "name": "stdout",
     "output_type": "stream",
     "text": [
      "Gurobi Optimizer version 12.0.0 build v12.0.0rc1 (linux64 - \"Arch Linux\")\n",
      "\n",
      "CPU model: Intel(R) Core(TM) i7-8565U CPU @ 1.80GHz, instruction set [SSE2|AVX|AVX2]\n",
      "Thread count: 4 physical cores, 8 logical processors, using up to 8 threads\n",
      "\n",
      "Non-default parameters:\n",
      "TimeLimit  120\n",
      "\n",
      "Optimize a model with 8245 rows, 5700 columns and 24390 nonzeros\n",
      "Model fingerprint: 0x6678868b\n",
      "Variable types: 1450 continuous, 4250 integer (4250 binary)\n",
      "Coefficient statistics:\n",
      "  Matrix range     [8e-02, 1e+06]\n",
      "  Objective range  [1e+03, 2e+03]\n",
      "  Bounds range     [1e+00, 1e+00]\n",
      "  RHS range        [3e-01, 1e+06]\n",
      "Presolve removed 4788 rows and 3288 columns\n",
      "Presolve time: 0.14s\n",
      "Presolved: 3457 rows, 2412 columns, 13228 nonzeros\n",
      "Variable types: 562 continuous, 1850 integer (1850 binary)\n",
      "Found heuristic solution: objective 46928.681508\n",
      "\n",
      "Root relaxation: objective -3.054079e+04, 1845 iterations, 0.03 seconds (0.02 work units)\n",
      "\n",
      "    Nodes    |    Current Node    |     Objective Bounds      |     Work\n",
      " Expl Unexpl |  Obj  Depth IntInf | Incumbent    BestBd   Gap | It/Node Time\n",
      "\n",
      "     0     0 -30540.795    0  648 46928.6815 -30540.795   165%     -    0s\n",
      "H    0     0                    27680.308440 -30540.795   210%     -    0s\n",
      "H    0     0                    26589.370454 -30540.795   215%     -    0s\n",
      "H    0     0                    25139.495071 -30540.795   221%     -    0s\n",
      "H    0     0                    24977.460490 -30540.795   222%     -    0s\n",
      "H    0     0                    24059.991001 -30540.795   227%     -    0s\n",
      "H    0     0                    23846.204041 -30540.795   228%     -    0s\n",
      "     0     0 14906.8505    0  385 23846.2040 14906.8505  37.5%     -    0s\n",
      "H    0     0                    23542.665515 16658.3768  29.2%     -    0s\n",
      "     0     0 16658.3768    0  392 23542.6655 16658.3768  29.2%     -    0s\n",
      "     0     0 17119.1061    0  440 23542.6655 17119.1061  27.3%     -    0s\n",
      "     0     0 17319.4081    0  396 23542.6655 17319.4081  26.4%     -    0s\n",
      "     0     0 17369.0040    0  376 23542.6655 17369.0040  26.2%     -    0s\n",
      "     0     0 17371.0827    0  380 23542.6655 17371.0827  26.2%     -    0s\n",
      "     0     0 19942.5274    0  165 23542.6655 19942.5274  15.3%     -    0s\n",
      "H    0     0                    22441.453213 19943.7765  11.1%     -    0s\n",
      "H    0     0                    22087.236194 19943.7765  9.70%     -    0s\n",
      "H    0     0                    22044.544622 19943.7765  9.53%     -    0s\n",
      "H    0     0                    21736.222710 19943.7765  8.25%     -    0s\n",
      "     0     0 20066.2369    0  160 21736.2227 20066.2369  7.68%     -    0s\n",
      "     0     0 20086.4508    0  169 21736.2227 20086.4508  7.59%     -    0s\n",
      "     0     0 20539.2126    0   57 21736.2227 20539.2126  5.51%     -    0s\n",
      "H    0     0                    20989.278240 20544.6317  2.12%     -    0s\n",
      "H    0     0                    20989.277927 20544.6317  2.12%     -    0s\n",
      "H    0     0                    20752.253903 20544.6317  1.00%     -    0s\n",
      "H    0     0                    20752.253894 20544.6317  1.00%     -    0s\n",
      "     0     0 20544.6317    0   55 20752.2539 20544.6317  1.00%     -    0s\n",
      "     0     0 20565.8874    0   33 20752.2539 20565.8874  0.90%     -    0s\n",
      "H    0     0                    20748.330684 20571.9808  0.85%     -    0s\n",
      "     0     0 20590.8520    0   39 20748.3307 20590.8520  0.76%     -    0s\n",
      "     0     0 20740.2505    0   43 20748.3307 20740.2505  0.04%     -    0s\n",
      "\n",
      "Cutting planes:\n",
      "  Learned: 251\n",
      "  Gomory: 39\n",
      "  Cover: 143\n",
      "  Implied bound: 234\n",
      "  Clique: 42\n",
      "  MIR: 241\n",
      "  StrongCG: 25\n",
      "  RLT: 15\n",
      "  Relax-and-lift: 119\n",
      "\n",
      "Explored 1 nodes (5954 simplex iterations) in 1.00 seconds (0.41 work units)\n",
      "Thread count was 8 (of 8 available processors)\n",
      "\n",
      "Solution count 10: 20748.3 20752.3 20989.3 ... 24060\n",
      "No other solutions better than 20748.3\n",
      "\n",
      "Optimal solution found (tolerance 1.00e-04)\n",
      "Best objective 2.074833065843e+04, best bound 2.074833065843e+04, gap 0.0000%\n"
     ]
    }
   ],
   "source": [
    "rail3.set_constraints()\n",
    "\n",
    "rail3.set_objective()\n",
    "\n",
    "rail3.optimize()"
   ]
  },
  {
   "cell_type": "code",
   "execution_count": null,
   "metadata": {},
   "outputs": [
    {
     "data": {
      "text/plain": [
       "8245"
      ]
     },
     "execution_count": 26,
     "metadata": {},
     "output_type": "execute_result"
    }
   ],
   "source": [
    "rail.model.getConstrs().__len__()"
   ]
  },
  {
   "cell_type": "code",
   "execution_count": null,
   "metadata": {},
   "outputs": [
    {
     "data": {
      "text/plain": [
       "8245"
      ]
     },
     "execution_count": 27,
     "metadata": {},
     "output_type": "execute_result"
    }
   ],
   "source": [
    "rail2.model.getConstrs().__len__()\n"
   ]
  },
  {
   "cell_type": "code",
   "execution_count": null,
   "metadata": {},
   "outputs": [
    {
     "data": {
      "text/plain": [
       "8245"
      ]
     },
     "execution_count": 28,
     "metadata": {},
     "output_type": "execute_result"
    }
   ],
   "source": [
    "rail3.model.getConstrs().__len__()\n"
   ]
  },
  {
   "cell_type": "code",
   "execution_count": null,
   "metadata": {},
   "outputs": [
    {
     "data": {
      "text/plain": [
       "20748.330658431532"
      ]
     },
     "execution_count": 29,
     "metadata": {},
     "output_type": "execute_result"
    }
   ],
   "source": [
    "rail.model.getObjective().getValue()"
   ]
  },
  {
   "cell_type": "code",
   "execution_count": null,
   "metadata": {},
   "outputs": [
    {
     "data": {
      "text/plain": [
       "20748.330658431532"
      ]
     },
     "execution_count": 30,
     "metadata": {},
     "output_type": "execute_result"
    }
   ],
   "source": [
    "rail2.model.getObjective().getValue()"
   ]
  },
  {
   "cell_type": "code",
   "execution_count": null,
   "metadata": {},
   "outputs": [
    {
     "data": {
      "text/plain": [
       "20748.330658431532"
      ]
     },
     "execution_count": 31,
     "metadata": {},
     "output_type": "execute_result"
    }
   ],
   "source": [
    "rail3.model.getObjective().getValue()\n"
   ]
  },
  {
   "cell_type": "code",
   "execution_count": null,
   "metadata": {},
   "outputs": [
    {
     "data": {
      "text/plain": [
       "{(1, 2): [[(1, 2)], [(1, 7), (2, 7)], [(1, 10), (2, 10)]],\n",
       " (1, 3): [[(1, 3)], [(1, 8), (3, 8)], [(1, 4), (3, 4)]],\n",
       " (1, 4): [[(1, 4)], [(1, 8), (4, 8)], [(1, 2), (2, 4)]],\n",
       " (1, 5): [[(1, 5)], [(1, 10), (5, 10)], [(1, 2), (2, 5)]],\n",
       " (1, 6): [[(1, 6)], [(1, 4), (4, 6)], [(1, 8), (6, 8)]],\n",
       " (1, 7): [[(1, 7)], [(1, 2), (2, 7)], [(1, 10), (7, 10)]],\n",
       " (1, 8): [[(1, 8)], [(1, 2), (2, 8)], [(1, 4), (4, 8)]],\n",
       " (1, 9): [[(1, 9)], [(1, 3), (3, 9)], [(1, 8), (8, 9)]],\n",
       " (1, 10): [[(1, 10)], [(1, 2), (2, 10)], [(1, 7), (7, 10)]],\n",
       " (2, 1): [[(1, 2)], [(2, 7), (1, 7)], [(2, 10), (1, 10)]],\n",
       " (2, 3): [[(2, 3)], [(2, 8), (3, 8)], [(1, 2), (1, 3)]],\n",
       " (2, 4): [[(2, 4)], [(2, 7), (4, 7)], [(2, 10), (4, 10)]],\n",
       " (2, 5): [[(2, 5)], [(2, 10), (5, 10)], [(2, 7), (5, 7)]],\n",
       " (2, 6): [[(2, 6)], [(2, 5), (5, 6)], [(2, 10), (6, 10)]],\n",
       " (2, 7): [[(2, 7)], [(2, 10), (7, 10)], [(1, 2), (1, 7)]],\n",
       " (2, 8): [[(2, 8)], [(1, 2), (1, 8)], [(2, 7), (7, 8)]],\n",
       " (2, 9): [[(2, 9)], [(2, 8), (8, 9)], [(2, 3), (3, 9)]],\n",
       " (2, 10): [[(2, 10)], [(2, 7), (7, 10)], [(2, 5), (5, 10)]],\n",
       " (3, 1): [[(1, 3)], [(3, 8), (1, 8)], [(3, 4), (1, 4)]],\n",
       " (3, 2): [[(2, 3)], [(3, 8), (2, 8)], [(1, 3), (1, 2)]],\n",
       " (3, 4): [[(3, 4)], [(3, 8), (4, 8)], [(3, 9), (4, 9)]],\n",
       " (3, 5): [[(3, 5)], [(3, 4), (4, 5)], [(3, 8), (5, 8)]],\n",
       " (3, 6): [[(3, 6)], [(3, 9), (6, 9)], [(3, 4), (4, 6)]],\n",
       " (3, 7): [[(3, 7)], [(3, 8), (7, 8)], [(3, 4), (4, 7)]],\n",
       " (3, 8): [[(3, 8)], [(3, 9), (8, 9)], [(3, 4), (4, 8)]],\n",
       " (3, 9): [[(3, 9)], [(3, 8), (8, 9)], [(3, 4), (4, 9)]],\n",
       " (3, 10): [[(3, 10)], [(3, 4), (4, 10)], [(3, 8), (8, 10)]],\n",
       " (4, 1): [[(1, 4)], [(4, 8), (1, 8)], [(2, 4), (1, 2)]],\n",
       " (4, 2): [[(2, 4)], [(4, 7), (2, 7)], [(4, 10), (2, 10)]],\n",
       " (4, 3): [[(3, 4)], [(4, 8), (3, 8)], [(4, 9), (3, 9)]],\n",
       " (4, 5): [[(4, 5)], [(4, 10), (5, 10)], [(4, 8), (5, 8)]],\n",
       " (4, 6): [[(4, 6)], [(4, 8), (6, 8)], [(4, 5), (5, 6)]],\n",
       " (4, 7): [[(4, 7)], [(4, 10), (7, 10)], [(4, 5), (5, 7)]],\n",
       " (4, 8): [[(4, 8)], [(4, 5), (5, 8)], [(4, 10), (8, 10)]],\n",
       " (4, 9): [[(4, 9)], [(3, 4), (3, 9)], [(4, 8), (8, 9)]],\n",
       " (4, 10): [[(4, 10)], [(4, 5), (5, 10)], [(4, 8), (8, 10)]],\n",
       " (5, 1): [[(1, 5)], [(5, 10), (1, 10)], [(2, 5), (1, 2)]],\n",
       " (5, 2): [[(2, 5)], [(5, 10), (2, 10)], [(5, 7), (2, 7)]],\n",
       " (5, 3): [[(3, 5)], [(4, 5), (3, 4)], [(5, 8), (3, 8)]],\n",
       " (5, 4): [[(4, 5)], [(5, 10), (4, 10)], [(5, 8), (4, 8)]],\n",
       " (5, 6): [[(5, 6)], [(4, 5), (4, 6)], [(5, 10), (6, 10)]],\n",
       " (5, 7): [[(5, 7)], [(5, 10), (7, 10)], [(2, 5), (2, 7)]],\n",
       " (5, 8): [[(5, 8)], [(4, 5), (4, 8)], [(5, 10), (8, 10)]],\n",
       " (5, 9): [[(5, 9)], [(4, 5), (4, 9)], [(3, 5), (3, 9)]],\n",
       " (5, 10): [[(5, 10)], [(5, 7), (7, 10)], [(2, 5), (2, 10)]],\n",
       " (6, 1): [[(1, 6)], [(4, 6), (1, 4)], [(6, 8), (1, 8)]],\n",
       " (6, 2): [[(2, 6)], [(5, 6), (2, 5)], [(6, 10), (2, 10)]],\n",
       " (6, 3): [[(3, 6)], [(6, 9), (3, 9)], [(4, 6), (3, 4)]],\n",
       " (6, 4): [[(4, 6)], [(6, 8), (4, 8)], [(5, 6), (4, 5)]],\n",
       " (6, 5): [[(5, 6)], [(4, 6), (4, 5)], [(6, 10), (5, 10)]],\n",
       " (6, 7): [[(6, 7)], [(6, 10), (7, 10)], [(5, 6), (5, 7)]],\n",
       " (6, 8): [[(6, 8)], [(4, 6), (4, 8)], [(5, 6), (5, 8)]],\n",
       " (6, 9): [[(6, 9)], [(3, 6), (3, 9)], [(4, 6), (4, 9)]],\n",
       " (6, 10): [[(6, 10)], [(5, 6), (5, 10)], [(4, 6), (4, 10)]],\n",
       " (7, 1): [[(1, 7)], [(2, 7), (1, 2)], [(7, 10), (1, 10)]],\n",
       " (7, 2): [[(2, 7)], [(7, 10), (2, 10)], [(1, 7), (1, 2)]],\n",
       " (7, 3): [[(3, 7)], [(7, 8), (3, 8)], [(4, 7), (3, 4)]],\n",
       " (7, 4): [[(4, 7)], [(7, 10), (4, 10)], [(5, 7), (4, 5)]],\n",
       " (7, 5): [[(5, 7)], [(7, 10), (5, 10)], [(2, 7), (2, 5)]],\n",
       " (7, 6): [[(6, 7)], [(7, 10), (6, 10)], [(5, 7), (5, 6)]],\n",
       " (7, 8): [[(7, 8)], [(2, 7), (2, 8)], [(7, 10), (8, 10)]],\n",
       " (7, 9): [[(7, 9)], [(3, 7), (3, 9)], [(7, 8), (8, 9)]],\n",
       " (7, 10): [[(7, 10)], [(2, 7), (2, 10)], [(5, 7), (5, 10)]],\n",
       " (8, 1): [[(1, 8)], [(2, 8), (1, 2)], [(4, 8), (1, 4)]],\n",
       " (8, 2): [[(2, 8)], [(1, 8), (1, 2)], [(7, 8), (2, 7)]],\n",
       " (8, 3): [[(3, 8)], [(8, 9), (3, 9)], [(4, 8), (3, 4)]],\n",
       " (8, 4): [[(4, 8)], [(5, 8), (4, 5)], [(8, 10), (4, 10)]],\n",
       " (8, 5): [[(5, 8)], [(4, 8), (4, 5)], [(8, 10), (5, 10)]],\n",
       " (8, 6): [[(6, 8)], [(4, 8), (4, 6)], [(5, 8), (5, 6)]],\n",
       " (8, 7): [[(7, 8)], [(2, 8), (2, 7)], [(8, 10), (7, 10)]],\n",
       " (8, 9): [[(8, 9)], [(3, 8), (3, 9)], [(4, 8), (4, 9)]],\n",
       " (8, 10): [[(8, 10)], [(5, 8), (5, 10)], [(4, 8), (4, 10)]],\n",
       " (9, 1): [[(1, 9)], [(3, 9), (1, 3)], [(8, 9), (1, 8)]],\n",
       " (9, 2): [[(2, 9)], [(8, 9), (2, 8)], [(3, 9), (2, 3)]],\n",
       " (9, 3): [[(3, 9)], [(8, 9), (3, 8)], [(4, 9), (3, 4)]],\n",
       " (9, 4): [[(4, 9)], [(3, 9), (3, 4)], [(8, 9), (4, 8)]],\n",
       " (9, 5): [[(5, 9)], [(4, 9), (4, 5)], [(3, 9), (3, 5)]],\n",
       " (9, 6): [[(6, 9)], [(3, 9), (3, 6)], [(4, 9), (4, 6)]],\n",
       " (9, 7): [[(7, 9)], [(3, 9), (3, 7)], [(8, 9), (7, 8)]],\n",
       " (9, 8): [[(8, 9)], [(3, 9), (3, 8)], [(4, 9), (4, 8)]],\n",
       " (9, 10): [[(9, 10)], [(4, 9), (4, 10)], [(3, 9), (3, 10)]],\n",
       " (10, 1): [[(1, 10)], [(2, 10), (1, 2)], [(7, 10), (1, 7)]],\n",
       " (10, 2): [[(2, 10)], [(7, 10), (2, 7)], [(5, 10), (2, 5)]],\n",
       " (10, 3): [[(3, 10)], [(4, 10), (3, 4)], [(8, 10), (3, 8)]],\n",
       " (10, 4): [[(4, 10)], [(5, 10), (4, 5)], [(8, 10), (4, 8)]],\n",
       " (10, 5): [[(5, 10)], [(7, 10), (5, 7)], [(2, 10), (2, 5)]],\n",
       " (10, 6): [[(6, 10)], [(5, 10), (5, 6)], [(4, 10), (4, 6)]],\n",
       " (10, 7): [[(7, 10)], [(2, 10), (2, 7)], [(5, 10), (5, 7)]],\n",
       " (10, 8): [[(8, 10)], [(5, 10), (5, 8)], [(4, 10), (4, 8)]],\n",
       " (10, 9): [[(9, 10)], [(4, 10), (4, 9)], [(3, 10), (3, 9)]]}"
      ]
     },
     "execution_count": 32,
     "metadata": {},
     "output_type": "execute_result"
    }
   ],
   "source": [
    "rail.R"
   ]
  },
  {
   "cell_type": "code",
   "execution_count": null,
   "metadata": {},
   "outputs": [
    {
     "data": {
      "text/plain": [
       "[(-0.705717838446234, 0.143110657702262),\n",
       " (-0.7479033991310661, 0.5064864314896308),\n",
       " (0.6292780718274441, -0.46546107329682435),\n",
       " (0.2638419342345802, 0.2457312843867512),\n",
       " (-0.04943248299498385, 0.6996418604537756),\n",
       " (0.8199481000539846, 0.4792988287369363),\n",
       " (-0.6461568898567769, 0.6980996164444249),\n",
       " (0.017313413051995016, -0.043050356408577975),\n",
       " (0.8364981750081821, -0.5234766331607997),\n",
       " (-0.2781759928397574, 0.7207088419600801)]"
      ]
     },
     "execution_count": 33,
     "metadata": {},
     "output_type": "execute_result"
    }
   ],
   "source": [
    "rail.coords"
   ]
  },
  {
   "cell_type": "code",
   "execution_count": null,
   "metadata": {},
   "outputs": [
    {
     "data": {
      "text/plain": [
       "[(-0.705717838446234, 0.143110657702262),\n",
       " (-0.7479033991310661, 0.5064864314896308),\n",
       " (0.6292780718274441, -0.46546107329682435),\n",
       " (0.2638419342345802, 0.2457312843867512),\n",
       " (-0.04943248299498385, 0.6996418604537756),\n",
       " (0.8199481000539846, 0.4792988287369363),\n",
       " (-0.6461568898567769, 0.6980996164444249),\n",
       " (0.017313413051995016, -0.043050356408577975),\n",
       " (0.8364981750081821, -0.5234766331607997),\n",
       " (-0.2781759928397574, 0.7207088419600801)]"
      ]
     },
     "execution_count": 34,
     "metadata": {},
     "output_type": "execute_result"
    }
   ],
   "source": [
    "rail2.coords"
   ]
  },
  {
   "cell_type": "code",
   "execution_count": null,
   "metadata": {},
   "outputs": [
    {
     "data": {
      "text/plain": [
       "[(-0.705717838446234, 0.143110657702262),\n",
       " (-0.7479033991310661, 0.5064864314896308),\n",
       " (0.6292780718274441, -0.46546107329682435),\n",
       " (0.2638419342345802, 0.2457312843867512),\n",
       " (-0.04943248299498385, 0.6996418604537756),\n",
       " (0.8199481000539846, 0.4792988287369363),\n",
       " (-0.6461568898567769, 0.6980996164444249),\n",
       " (0.017313413051995016, -0.043050356408577975),\n",
       " (0.8364981750081821, -0.5234766331607997),\n",
       " (-0.2781759928397574, 0.7207088419600801)]"
      ]
     },
     "execution_count": 35,
     "metadata": {},
     "output_type": "execute_result"
    }
   ],
   "source": [
    "rail3.coords"
   ]
  },
  {
   "cell_type": "code",
   "execution_count": null,
   "metadata": {},
   "outputs": [],
   "source": [
    "def convert_keys_and_values_to_str(d):\n",
    "\t\"\"\"Convert dictionary keys and nested tuples to strings.\"\"\"\n",
    "\tdef convert_value(v):\n",
    "\t\tif isinstance(v, list):\n",
    "\t\t\treturn [convert_value(i) for i in v]\n",
    "\t\telif isinstance(v, tuple):\n",
    "\t\t\treturn str(v)\n",
    "\t\telse:\n",
    "\t\t\treturn v\n",
    "\n",
    "\n",
    "def convert_keys_to_str(d):\n",
    "\t\"\"\"Convert dictionary keys to strings.\"\"\"\n",
    "\treturn {str(k): v for k, v in d.items()}"
   ]
  },
  {
   "cell_type": "code",
   "execution_count": null,
   "metadata": {},
   "outputs": [
    {
     "name": "stdout",
     "output_type": "stream",
     "text": [
      "{'(1, 2)': [[(1, 2)], [(1, 7), (2, 7)], [(1, 10), (2, 10)]], '(1, 3)': [[(1, 3)], [(1, 8), (3, 8)], [(1, 4), (3, 4)]], '(1, 4)': [[(1, 4)], [(1, 8), (4, 8)], [(1, 2), (2, 4)]], '(1, 5)': [[(1, 5)], [(1, 10), (5, 10)], [(1, 2), (2, 5)]], '(1, 6)': [[(1, 6)], [(1, 4), (4, 6)], [(1, 8), (6, 8)]], '(1, 7)': [[(1, 7)], [(1, 2), (2, 7)], [(1, 10), (7, 10)]], '(1, 8)': [[(1, 8)], [(1, 2), (2, 8)], [(1, 4), (4, 8)]], '(1, 9)': [[(1, 9)], [(1, 3), (3, 9)], [(1, 8), (8, 9)]], '(1, 10)': [[(1, 10)], [(1, 2), (2, 10)], [(1, 7), (7, 10)]], '(2, 1)': [[(1, 2)], [(2, 7), (1, 7)], [(2, 10), (1, 10)]], '(2, 3)': [[(2, 3)], [(2, 8), (3, 8)], [(1, 2), (1, 3)]], '(2, 4)': [[(2, 4)], [(2, 7), (4, 7)], [(2, 10), (4, 10)]], '(2, 5)': [[(2, 5)], [(2, 10), (5, 10)], [(2, 7), (5, 7)]], '(2, 6)': [[(2, 6)], [(2, 5), (5, 6)], [(2, 10), (6, 10)]], '(2, 7)': [[(2, 7)], [(2, 10), (7, 10)], [(1, 2), (1, 7)]], '(2, 8)': [[(2, 8)], [(1, 2), (1, 8)], [(2, 7), (7, 8)]], '(2, 9)': [[(2, 9)], [(2, 8), (8, 9)], [(2, 3), (3, 9)]], '(2, 10)': [[(2, 10)], [(2, 7), (7, 10)], [(2, 5), (5, 10)]], '(3, 1)': [[(1, 3)], [(3, 8), (1, 8)], [(3, 4), (1, 4)]], '(3, 2)': [[(2, 3)], [(3, 8), (2, 8)], [(1, 3), (1, 2)]], '(3, 4)': [[(3, 4)], [(3, 8), (4, 8)], [(3, 9), (4, 9)]], '(3, 5)': [[(3, 5)], [(3, 4), (4, 5)], [(3, 8), (5, 8)]], '(3, 6)': [[(3, 6)], [(3, 9), (6, 9)], [(3, 4), (4, 6)]], '(3, 7)': [[(3, 7)], [(3, 8), (7, 8)], [(3, 4), (4, 7)]], '(3, 8)': [[(3, 8)], [(3, 9), (8, 9)], [(3, 4), (4, 8)]], '(3, 9)': [[(3, 9)], [(3, 8), (8, 9)], [(3, 4), (4, 9)]], '(3, 10)': [[(3, 10)], [(3, 4), (4, 10)], [(3, 8), (8, 10)]], '(4, 1)': [[(1, 4)], [(4, 8), (1, 8)], [(2, 4), (1, 2)]], '(4, 2)': [[(2, 4)], [(4, 7), (2, 7)], [(4, 10), (2, 10)]], '(4, 3)': [[(3, 4)], [(4, 8), (3, 8)], [(4, 9), (3, 9)]], '(4, 5)': [[(4, 5)], [(4, 10), (5, 10)], [(4, 8), (5, 8)]], '(4, 6)': [[(4, 6)], [(4, 8), (6, 8)], [(4, 5), (5, 6)]], '(4, 7)': [[(4, 7)], [(4, 10), (7, 10)], [(4, 5), (5, 7)]], '(4, 8)': [[(4, 8)], [(4, 5), (5, 8)], [(4, 10), (8, 10)]], '(4, 9)': [[(4, 9)], [(3, 4), (3, 9)], [(4, 8), (8, 9)]], '(4, 10)': [[(4, 10)], [(4, 5), (5, 10)], [(4, 8), (8, 10)]], '(5, 1)': [[(1, 5)], [(5, 10), (1, 10)], [(2, 5), (1, 2)]], '(5, 2)': [[(2, 5)], [(5, 10), (2, 10)], [(5, 7), (2, 7)]], '(5, 3)': [[(3, 5)], [(4, 5), (3, 4)], [(5, 8), (3, 8)]], '(5, 4)': [[(4, 5)], [(5, 10), (4, 10)], [(5, 8), (4, 8)]], '(5, 6)': [[(5, 6)], [(4, 5), (4, 6)], [(5, 10), (6, 10)]], '(5, 7)': [[(5, 7)], [(5, 10), (7, 10)], [(2, 5), (2, 7)]], '(5, 8)': [[(5, 8)], [(4, 5), (4, 8)], [(5, 10), (8, 10)]], '(5, 9)': [[(5, 9)], [(4, 5), (4, 9)], [(3, 5), (3, 9)]], '(5, 10)': [[(5, 10)], [(5, 7), (7, 10)], [(2, 5), (2, 10)]], '(6, 1)': [[(1, 6)], [(4, 6), (1, 4)], [(6, 8), (1, 8)]], '(6, 2)': [[(2, 6)], [(5, 6), (2, 5)], [(6, 10), (2, 10)]], '(6, 3)': [[(3, 6)], [(6, 9), (3, 9)], [(4, 6), (3, 4)]], '(6, 4)': [[(4, 6)], [(6, 8), (4, 8)], [(5, 6), (4, 5)]], '(6, 5)': [[(5, 6)], [(4, 6), (4, 5)], [(6, 10), (5, 10)]], '(6, 7)': [[(6, 7)], [(6, 10), (7, 10)], [(5, 6), (5, 7)]], '(6, 8)': [[(6, 8)], [(4, 6), (4, 8)], [(5, 6), (5, 8)]], '(6, 9)': [[(6, 9)], [(3, 6), (3, 9)], [(4, 6), (4, 9)]], '(6, 10)': [[(6, 10)], [(5, 6), (5, 10)], [(4, 6), (4, 10)]], '(7, 1)': [[(1, 7)], [(2, 7), (1, 2)], [(7, 10), (1, 10)]], '(7, 2)': [[(2, 7)], [(7, 10), (2, 10)], [(1, 7), (1, 2)]], '(7, 3)': [[(3, 7)], [(7, 8), (3, 8)], [(4, 7), (3, 4)]], '(7, 4)': [[(4, 7)], [(7, 10), (4, 10)], [(5, 7), (4, 5)]], '(7, 5)': [[(5, 7)], [(7, 10), (5, 10)], [(2, 7), (2, 5)]], '(7, 6)': [[(6, 7)], [(7, 10), (6, 10)], [(5, 7), (5, 6)]], '(7, 8)': [[(7, 8)], [(2, 7), (2, 8)], [(7, 10), (8, 10)]], '(7, 9)': [[(7, 9)], [(3, 7), (3, 9)], [(7, 8), (8, 9)]], '(7, 10)': [[(7, 10)], [(2, 7), (2, 10)], [(5, 7), (5, 10)]], '(8, 1)': [[(1, 8)], [(2, 8), (1, 2)], [(4, 8), (1, 4)]], '(8, 2)': [[(2, 8)], [(1, 8), (1, 2)], [(7, 8), (2, 7)]], '(8, 3)': [[(3, 8)], [(8, 9), (3, 9)], [(4, 8), (3, 4)]], '(8, 4)': [[(4, 8)], [(5, 8), (4, 5)], [(8, 10), (4, 10)]], '(8, 5)': [[(5, 8)], [(4, 8), (4, 5)], [(8, 10), (5, 10)]], '(8, 6)': [[(6, 8)], [(4, 8), (4, 6)], [(5, 8), (5, 6)]], '(8, 7)': [[(7, 8)], [(2, 8), (2, 7)], [(8, 10), (7, 10)]], '(8, 9)': [[(8, 9)], [(3, 8), (3, 9)], [(4, 8), (4, 9)]], '(8, 10)': [[(8, 10)], [(5, 8), (5, 10)], [(4, 8), (4, 10)]], '(9, 1)': [[(1, 9)], [(3, 9), (1, 3)], [(8, 9), (1, 8)]], '(9, 2)': [[(2, 9)], [(8, 9), (2, 8)], [(3, 9), (2, 3)]], '(9, 3)': [[(3, 9)], [(8, 9), (3, 8)], [(4, 9), (3, 4)]], '(9, 4)': [[(4, 9)], [(3, 9), (3, 4)], [(8, 9), (4, 8)]], '(9, 5)': [[(5, 9)], [(4, 9), (4, 5)], [(3, 9), (3, 5)]], '(9, 6)': [[(6, 9)], [(3, 9), (3, 6)], [(4, 9), (4, 6)]], '(9, 7)': [[(7, 9)], [(3, 9), (3, 7)], [(8, 9), (7, 8)]], '(9, 8)': [[(8, 9)], [(3, 9), (3, 8)], [(4, 9), (4, 8)]], '(9, 10)': [[(9, 10)], [(4, 9), (4, 10)], [(3, 9), (3, 10)]], '(10, 1)': [[(1, 10)], [(2, 10), (1, 2)], [(7, 10), (1, 7)]], '(10, 2)': [[(2, 10)], [(7, 10), (2, 7)], [(5, 10), (2, 5)]], '(10, 3)': [[(3, 10)], [(4, 10), (3, 4)], [(8, 10), (3, 8)]], '(10, 4)': [[(4, 10)], [(5, 10), (4, 5)], [(8, 10), (4, 8)]], '(10, 5)': [[(5, 10)], [(7, 10), (5, 7)], [(2, 10), (2, 5)]], '(10, 6)': [[(6, 10)], [(5, 10), (5, 6)], [(4, 10), (4, 6)]], '(10, 7)': [[(7, 10)], [(2, 10), (2, 7)], [(5, 10), (5, 7)]], '(10, 8)': [[(8, 10)], [(5, 10), (5, 8)], [(4, 10), (4, 8)]], '(10, 9)': [[(9, 10)], [(4, 10), (4, 9)], [(3, 10), (3, 9)]]}\n"
     ]
    }
   ],
   "source": [
    "# v = convert_keys_and_values_to_str(rail.R)\n",
    "v = convert_keys_to_str(rail.R)\n",
    "print(v)"
   ]
  },
  {
   "cell_type": "code",
   "execution_count": null,
   "metadata": {},
   "outputs": [
    {
     "data": {
      "text/plain": [
       "[(-0.705717838446234, 0.143110657702262),\n",
       " (-0.7479033991310661, 0.5064864314896308),\n",
       " (0.6292780718274441, -0.46546107329682435),\n",
       " (0.2638419342345802, 0.2457312843867512),\n",
       " (-0.04943248299498385, 0.6996418604537756),\n",
       " (0.8199481000539846, 0.4792988287369363),\n",
       " (-0.6461568898567769, 0.6980996164444249),\n",
       " (0.017313413051995016, -0.043050356408577975),\n",
       " (0.8364981750081821, -0.5234766331607997),\n",
       " (-0.2781759928397574, 0.7207088419600801)]"
      ]
     },
     "execution_count": 38,
     "metadata": {},
     "output_type": "execute_result"
    }
   ],
   "source": [
    "rail.coords"
   ]
  }
 ],
 "metadata": {
  "kernelspec": {
   "display_name": "mathopt",
   "language": "python",
   "name": "python3"
  },
  "language_info": {
   "codemirror_mode": {
    "name": "ipython",
    "version": 3
   },
   "file_extension": ".py",
   "mimetype": "text/x-python",
   "name": "python",
   "nbconvert_exporter": "python",
   "pygments_lexer": "ipython3",
   "version": "3.11.5"
  }
 },
 "nbformat": 4,
 "nbformat_minor": 2
}
