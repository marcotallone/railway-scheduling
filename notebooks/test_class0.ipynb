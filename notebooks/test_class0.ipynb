{
 "cells": [
  {
   "cell_type": "code",
   "execution_count": 1,
   "metadata": {},
   "outputs": [
    {
     "name": "stdout",
     "output_type": "stream",
     "text": [
      "Current working directory: 📂 /home/marco/railway-scheduling\n"
     ]
    }
   ],
   "source": [
    "import os\n",
    "import sys\n",
    "from railway import *\n",
    "from gurobipy import GRB\n",
    "\n",
    "import matplotlib.pyplot as plt\n",
    "import seaborn as sns\n",
    "sns.set_theme(\n",
    "\tstyle=\"whitegrid\",\n",
    "\tpalette=\"tab10\",\n",
    "\trc={\n",
    "\t\t\"grid.linestyle\": \"--\",\n",
    "\t\t\"grid.color\": \"gray\",\n",
    "\t\t\"grid.alpha\": 0.3,\n",
    "\t\t\"grid.linewidth\": 0.5,\n",
    "\t},\n",
    ")\n",
    "\n",
    "# Set the current directory to root directory\n",
    "os.chdir(\"/home/marco/railway-scheduling\")\n",
    "sys.path.append(os.getcwd())\n",
    "print(f\"Current working directory: 📂 {os.getcwd()}\")"
   ]
  },
  {
   "cell_type": "code",
   "execution_count": 2,
   "metadata": {},
   "outputs": [],
   "source": [
    "# Constant values\n",
    "stations = 10\n",
    "periods = 10\n",
    "jobs = 80\n",
    "passengers = 2000\n",
    "routes = 3"
   ]
  },
  {
   "cell_type": "code",
   "execution_count": 3,
   "metadata": {},
   "outputs": [
    {
     "name": "stdout",
     "output_type": "stream",
     "text": [
      "Set parameter Username\n",
      "Set parameter LicenseID to value 2585388\n",
      "Academic license - for non-commercial use only - expires 2025-11-15\n",
      "Model created: 🚂 <gurobi.Model Continuous instance Unnamed: 0 constrs, 0 vars, Parameter changes: Username=(user-defined), LicenseID=2585388>\n",
      "Set parameter TimeLimit to value 30\n"
     ]
    }
   ],
   "source": [
    "# Create model\n",
    "rail = Railway(stations, periods, jobs, passengers, routes)\n",
    "print(f\"Model created: 🚂 {rail.model}\")\n",
    "rail.model.setParam('TimeLimit', 30)"
   ]
  },
  {
   "cell_type": "code",
   "execution_count": 4,
   "metadata": {},
   "outputs": [
    {
     "name": "stdout",
     "output_type": "stream",
     "text": [
      "Problem generated successfully. Remember to set constraints and objective (again).\n"
     ]
    }
   ],
   "source": [
    "# Choose the parameters for the problem to generate\n",
    "job_min_time, job_max_time = 1, 1\n",
    "job_min_length, job_max_length = 1, 1\n",
    "pause_min_time, pause_max_time = 0, 1\n",
    "min_demand, max_demand = 0.5, 0.9\n",
    "min_share, max_share = 0.5, 0.9\n",
    "min_capacity, max_capacity = 0.5, 0.7\n",
    "n_max_events = 0\n",
    "event_min_length, event_max_length = 0, 0\n",
    "\n",
    "# Generate the problem\n",
    "rail.generate(\n",
    "\tjob_min_time,\n",
    "\tjob_max_time,\n",
    "\tjob_min_length,\n",
    "\tjob_max_length,\n",
    "\tpause_min_time,\n",
    "\tpause_max_time,\n",
    "\tmin_demand,\n",
    "\tmax_demand,\n",
    "\tmin_share,\n",
    "\tmax_share,\n",
    "\tmin_capacity,\n",
    "\tmax_capacity,\n",
    "\tn_max_events,\n",
    "\tevent_min_length,\n",
    "\tevent_max_length,\n",
    ")"
   ]
  },
  {
   "cell_type": "code",
   "execution_count": 5,
   "metadata": {},
   "outputs": [
    {
     "data": {
      "text/plain": [
       "{1: [(4, 10)],\n",
       " 2: [(3, 9)],\n",
       " 3: [(1, 2)],\n",
       " 4: [(5, 8)],\n",
       " 5: [(7, 8)],\n",
       " 6: [(3, 10)],\n",
       " 7: [(2, 10)],\n",
       " 8: [(1, 9)],\n",
       " 9: [(1, 9)],\n",
       " 10: [(1, 10)],\n",
       " 11: [(4, 6)],\n",
       " 12: [(4, 9)],\n",
       " 13: [(5, 9)],\n",
       " 14: [(5, 6)],\n",
       " 15: [(6, 10)],\n",
       " 16: [(6, 7)],\n",
       " 17: [(7, 9)],\n",
       " 18: [(3, 4)],\n",
       " 19: [(7, 8)],\n",
       " 20: [(1, 7)],\n",
       " 21: [(3, 5)],\n",
       " 22: [(1, 6)],\n",
       " 23: [(6, 7)],\n",
       " 24: [(1, 6)],\n",
       " 25: [(7, 9)],\n",
       " 26: [(4, 7)],\n",
       " 27: [(8, 9)],\n",
       " 28: [(3, 5)],\n",
       " 29: [(2, 3)],\n",
       " 30: [(1, 7)],\n",
       " 31: [(4, 9)],\n",
       " 32: [(4, 5)],\n",
       " 33: [(7, 10)],\n",
       " 34: [(4, 9)],\n",
       " 35: [(4, 7)],\n",
       " 36: [(4, 7)],\n",
       " 37: [(4, 8)],\n",
       " 38: [(4, 10)],\n",
       " 39: [(5, 10)],\n",
       " 40: [(2, 5)],\n",
       " 41: [(5, 10)],\n",
       " 42: [(2, 6)],\n",
       " 43: [(3, 4)],\n",
       " 44: [(5, 6)],\n",
       " 45: [(1, 6)],\n",
       " 46: [(4, 8)],\n",
       " 47: [(2, 9)],\n",
       " 48: [(1, 4)],\n",
       " 49: [(8, 10)],\n",
       " 50: [(5, 7)],\n",
       " 51: [(1, 3)],\n",
       " 52: [(9, 10)],\n",
       " 53: [(6, 7)],\n",
       " 54: [(8, 9)],\n",
       " 55: [(3, 7)],\n",
       " 56: [(1, 5)],\n",
       " 57: [(9, 10)],\n",
       " 58: [(8, 10)],\n",
       " 59: [(4, 8)],\n",
       " 60: [(7, 9)],\n",
       " 61: [(6, 9)],\n",
       " 62: [(2, 7)],\n",
       " 63: [(4, 10)],\n",
       " 64: [(2, 7)],\n",
       " 65: [(3, 10)],\n",
       " 66: [(2, 9)],\n",
       " 67: [(3, 9)],\n",
       " 68: [(1, 2)],\n",
       " 69: [(1, 7)],\n",
       " 70: [(3, 6)],\n",
       " 71: [(5, 9)],\n",
       " 72: [(8, 9)],\n",
       " 73: [(2, 8)],\n",
       " 74: [(3, 8)],\n",
       " 75: [(3, 10)],\n",
       " 76: [(1, 10)],\n",
       " 77: [(6, 7)],\n",
       " 78: [(1, 9)],\n",
       " 79: [(8, 10)],\n",
       " 80: [(4, 5)]}"
      ]
     },
     "execution_count": 5,
     "metadata": {},
     "output_type": "execute_result"
    }
   ],
   "source": [
    "rail.Aj"
   ]
  },
  {
   "cell_type": "code",
   "execution_count": 6,
   "metadata": {},
   "outputs": [
    {
     "data": {
      "text/plain": [
       "{(1, 2): [3, 68],\n",
       " (1, 3): [51],\n",
       " (1, 4): [48],\n",
       " (1, 5): [56],\n",
       " (1, 6): [22, 24, 45],\n",
       " (1, 7): [20, 30, 69],\n",
       " (1, 8): [],\n",
       " (1, 9): [8, 9, 78],\n",
       " (1, 10): [10, 76],\n",
       " (2, 3): [29],\n",
       " (2, 4): [],\n",
       " (2, 5): [40],\n",
       " (2, 6): [42],\n",
       " (2, 7): [62, 64],\n",
       " (2, 8): [73],\n",
       " (2, 9): [47, 66],\n",
       " (2, 10): [7],\n",
       " (3, 4): [18, 43],\n",
       " (3, 5): [21, 28],\n",
       " (3, 6): [70],\n",
       " (3, 7): [55],\n",
       " (3, 8): [74],\n",
       " (3, 9): [2, 67],\n",
       " (3, 10): [6, 65, 75],\n",
       " (4, 5): [32, 80],\n",
       " (4, 6): [11],\n",
       " (4, 7): [26, 35, 36],\n",
       " (4, 8): [37, 46, 59],\n",
       " (4, 9): [12, 31, 34],\n",
       " (4, 10): [1, 38, 63],\n",
       " (5, 6): [14, 44],\n",
       " (5, 7): [50],\n",
       " (5, 8): [4],\n",
       " (5, 9): [13, 71],\n",
       " (5, 10): [39, 41],\n",
       " (6, 7): [16, 23, 53, 77],\n",
       " (6, 8): [],\n",
       " (6, 9): [61],\n",
       " (6, 10): [15],\n",
       " (7, 8): [5, 19],\n",
       " (7, 9): [17, 25, 60],\n",
       " (7, 10): [33],\n",
       " (8, 9): [27, 54, 72],\n",
       " (8, 10): [49, 58, 79],\n",
       " (9, 10): [52, 57]}"
      ]
     },
     "execution_count": 6,
     "metadata": {},
     "output_type": "execute_result"
    }
   ],
   "source": [
    "rail.Ja"
   ]
  },
  {
   "cell_type": "code",
   "execution_count": 7,
   "metadata": {},
   "outputs": [
    {
     "data": {
      "text/plain": [
       "{1: 1,\n",
       " 2: 1,\n",
       " 3: 1,\n",
       " 4: 1,\n",
       " 5: 1,\n",
       " 6: 1,\n",
       " 7: 1,\n",
       " 8: 1,\n",
       " 9: 1,\n",
       " 10: 1,\n",
       " 11: 1,\n",
       " 12: 1,\n",
       " 13: 1,\n",
       " 14: 1,\n",
       " 15: 1,\n",
       " 16: 1,\n",
       " 17: 1,\n",
       " 18: 1,\n",
       " 19: 1,\n",
       " 20: 1,\n",
       " 21: 1,\n",
       " 22: 1,\n",
       " 23: 1,\n",
       " 24: 1,\n",
       " 25: 1,\n",
       " 26: 1,\n",
       " 27: 1,\n",
       " 28: 1,\n",
       " 29: 1,\n",
       " 30: 1,\n",
       " 31: 1,\n",
       " 32: 1,\n",
       " 33: 1,\n",
       " 34: 1,\n",
       " 35: 1,\n",
       " 36: 1,\n",
       " 37: 1,\n",
       " 38: 1,\n",
       " 39: 1,\n",
       " 40: 1,\n",
       " 41: 1,\n",
       " 42: 1,\n",
       " 43: 1,\n",
       " 44: 1,\n",
       " 45: 1,\n",
       " 46: 1,\n",
       " 47: 1,\n",
       " 48: 1,\n",
       " 49: 1,\n",
       " 50: 1,\n",
       " 51: 1,\n",
       " 52: 1,\n",
       " 53: 1,\n",
       " 54: 1,\n",
       " 55: 1,\n",
       " 56: 1,\n",
       " 57: 1,\n",
       " 58: 1,\n",
       " 59: 1,\n",
       " 60: 1,\n",
       " 61: 1,\n",
       " 62: 1,\n",
       " 63: 1,\n",
       " 64: 1,\n",
       " 65: 1,\n",
       " 66: 1,\n",
       " 67: 1,\n",
       " 68: 1,\n",
       " 69: 1,\n",
       " 70: 1,\n",
       " 71: 1,\n",
       " 72: 1,\n",
       " 73: 1,\n",
       " 74: 1,\n",
       " 75: 1,\n",
       " 76: 1,\n",
       " 77: 1,\n",
       " 78: 1,\n",
       " 79: 1,\n",
       " 80: 1}"
      ]
     },
     "execution_count": 7,
     "metadata": {},
     "output_type": "execute_result"
    }
   ],
   "source": [
    "rail.pi"
   ]
  },
  {
   "cell_type": "code",
   "execution_count": 8,
   "metadata": {},
   "outputs": [
    {
     "data": {
      "text/plain": [
       "{1: 1,\n",
       " 2: 1,\n",
       " 3: 1,\n",
       " 4: 1,\n",
       " 5: 1,\n",
       " 6: 1,\n",
       " 7: 1,\n",
       " 8: 1,\n",
       " 9: 2,\n",
       " 10: 1,\n",
       " 11: 1,\n",
       " 12: 1,\n",
       " 13: 1,\n",
       " 14: 1,\n",
       " 15: 1,\n",
       " 16: 1,\n",
       " 17: 1,\n",
       " 18: 1,\n",
       " 19: 3,\n",
       " 20: 1,\n",
       " 21: 1,\n",
       " 22: 1,\n",
       " 23: 2,\n",
       " 24: 2,\n",
       " 25: 3,\n",
       " 26: 1,\n",
       " 27: 1,\n",
       " 28: 2,\n",
       " 29: 1,\n",
       " 30: 3,\n",
       " 31: 2,\n",
       " 32: 1,\n",
       " 33: 1,\n",
       " 34: 3,\n",
       " 35: 3,\n",
       " 36: 5,\n",
       " 37: 1,\n",
       " 38: 2,\n",
       " 39: 1,\n",
       " 40: 1,\n",
       " 41: 3,\n",
       " 42: 1,\n",
       " 43: 2,\n",
       " 44: 3,\n",
       " 45: 3,\n",
       " 46: 3,\n",
       " 47: 1,\n",
       " 48: 1,\n",
       " 49: 1,\n",
       " 50: 1,\n",
       " 51: 1,\n",
       " 52: 1,\n",
       " 53: 3,\n",
       " 54: 2,\n",
       " 55: 1,\n",
       " 56: 1,\n",
       " 57: 3,\n",
       " 58: 3,\n",
       " 59: 5,\n",
       " 60: 5,\n",
       " 61: 1,\n",
       " 62: 1,\n",
       " 63: 3,\n",
       " 64: 3,\n",
       " 65: 2,\n",
       " 66: 3,\n",
       " 67: 3,\n",
       " 68: 3,\n",
       " 69: 5,\n",
       " 70: 1,\n",
       " 71: 3,\n",
       " 72: 3,\n",
       " 73: 1,\n",
       " 74: 1,\n",
       " 75: 3,\n",
       " 76: 2,\n",
       " 77: 4,\n",
       " 78: 3,\n",
       " 79: 5,\n",
       " 80: 3}"
      ]
     },
     "execution_count": 8,
     "metadata": {},
     "output_type": "execute_result"
    }
   ],
   "source": [
    "S = rail.generate_initial_solution()\n",
    "S"
   ]
  },
  {
   "cell_type": "code",
   "execution_count": 9,
   "metadata": {},
   "outputs": [
    {
     "data": {
      "text/plain": [
       "True"
      ]
     },
     "execution_count": 9,
     "metadata": {},
     "output_type": "execute_result"
    }
   ],
   "source": [
    "y, x, h, w, v = rail.get_vars_from_times(S)\n",
    "rail.check_feasibility(y, x, h, w, v)"
   ]
  },
  {
   "cell_type": "code",
   "execution_count": 11,
   "metadata": {},
   "outputs": [
    {
     "data": {
      "text/plain": [
       "57091.452252406016"
      ]
     },
     "execution_count": 11,
     "metadata": {},
     "output_type": "execute_result"
    }
   ],
   "source": [
    "rail.get_objective_value(v)"
   ]
  },
  {
   "cell_type": "code",
   "execution_count": 11,
   "metadata": {},
   "outputs": [
    {
     "name": "stdout",
     "output_type": "stream",
     "text": [
      "Arc:    (1, 2)\n",
      "Sum:    98\n",
      "Total:  98\n",
      "Arc:    (1, 3)\n",
      "Sum:    96\n",
      "Total:  96\n",
      "Arc:    (1, 4)\n",
      "Sum:    99\n",
      "Total:  99\n",
      "Arc:    (1, 5)\n",
      "Sum:    96\n",
      "Total:  96\n",
      "Arc:    (2, 3)\n",
      "Sum:    94\n",
      "Total:  94\n",
      "Arc:    (2, 4)\n",
      "Sum:    95\n",
      "Total:  95\n",
      "Arc:    (2, 5)\n",
      "Sum:    95\n",
      "Total:  95\n",
      "Arc:    (3, 4)\n",
      "Sum:    96\n",
      "Total:  96\n",
      "Arc:    (3, 5)\n",
      "Sum:    95\n",
      "Total:  95\n",
      "Arc:    (4, 5)\n",
      "Sum:    96\n",
      "Total:  96\n"
     ]
    }
   ],
   "source": [
    "for a in rail.A:\n",
    "\tprint(\"Arc:   \", a)\n",
    "\tprint(\"Sum:   \", sum(x[a, t] for t in rail.T))\n",
    "\tprint(\"Total: \", rail.Tend - sum(rail.pi[j] for j in rail.Ja[a])) "
   ]
  },
  {
   "cell_type": "code",
   "execution_count": 7,
   "metadata": {},
   "outputs": [
    {
     "name": "stdout",
     "output_type": "stream",
     "text": [
      "Gurobi Optimizer version 12.0.0 build v12.0.0rc1 (linux64 - \"Arch Linux\")\n",
      "\n",
      "CPU model: Intel(R) Core(TM) i7-8565U CPU @ 1.80GHz, instruction set [SSE2|AVX|AVX2]\n",
      "Thread count: 4 physical cores, 8 logical processors, using up to 8 threads\n",
      "\n",
      "Non-default parameters:\n",
      "TimeLimit  30\n",
      "\n",
      "Optimize a model with 21130 rows, 14000 columns and 66656 nonzeros\n",
      "Model fingerprint: 0x6f7a64b2\n",
      "Variable types: 3500 continuous, 10500 integer (10500 binary)\n",
      "Coefficient statistics:\n",
      "  Matrix range     [5e-02, 3e+06]\n",
      "  Objective range  [1e+03, 2e+03]\n",
      "  Bounds range     [1e+00, 1e+00]\n",
      "  RHS range        [2e-01, 3e+06]\n",
      "Presolve removed 12819 rows and 7422 columns\n",
      "Presolve time: 0.24s\n",
      "Presolved: 8311 rows, 6578 columns, 49473 nonzeros\n",
      "Variable types: 1400 continuous, 5178 integer (5178 binary)\n",
      "Found heuristic solution: objective 34957.826432\n",
      "\n",
      "Root relaxation: objective -6.961317e+05, 6462 iterations, 0.22 seconds (0.25 work units)\n",
      "\n",
      "    Nodes    |    Current Node    |     Objective Bounds      |     Work\n",
      " Expl Unexpl |  Obj  Depth IntInf | Incumbent    BestBd   Gap | It/Node Time\n",
      "\n",
      "     0     0 -696131.66    0 2455 34957.8264 -696131.66  2091%     -    5s\n",
      "     0     0 -693471.55    0 2450 34957.8264 -693471.55  2084%     -    6s\n",
      "     0     0 -691361.25    0 2447 34957.8264 -691361.25  2078%     -    6s\n",
      "H    0     0                    31222.469333 -691361.25  2314%     -    6s\n",
      "H    0     0                    31222.469327 -691361.25  2314%     -    6s\n",
      "H    0     0                    28853.929295 -691361.25  2496%     -    6s\n",
      "     0     0 15784.8553    0  943 28853.9293 15784.8553  45.3%     -    9s\n",
      "H    0     0                    28853.929291 15787.4435  45.3%     -    9s\n",
      "H    0     0                    28812.704231 15787.4435  45.2%     -    9s\n",
      "H    0     0                    28361.672862 15787.4435  44.3%     -    9s\n",
      "H    0     0                    28326.687675 15787.4435  44.3%     -    9s\n",
      "     0     0 17772.4162    0  767 28326.6877 17772.4162  37.3%     -    9s\n",
      "     0     0 17772.4162    0  764 28326.6877 17772.4162  37.3%     -    9s\n",
      "     0     0 17784.6424    0  743 28326.6877 17784.6424  37.2%     -    9s\n",
      "H    0     0                    28069.915833 20504.8713  27.0%     -    9s\n",
      "H    0     0                    28067.941439 20504.8713  26.9%     -    9s\n",
      "H    0     0                    27996.089253 20504.8713  26.8%     -    9s\n",
      "H    0     0                    27741.826220 20504.8713  26.1%     -    9s\n",
      "H    0     0                    27692.657662 20504.8713  26.0%     -    9s\n",
      "H    0     0                    27692.657658 20504.8713  26.0%     -    9s\n",
      "     0     0 20504.8713    0  427 27692.6577 20504.8713  26.0%     -   10s\n",
      "     0     0 20783.1451    0  398 27692.6577 20783.1451  25.0%     -   10s\n",
      "     0     0 22430.6512    0  174 27692.6577 22430.6512  19.0%     -   10s\n",
      "H    0     0                    27690.207587 22436.8860  19.0%     -   10s\n",
      "H    0     0                    27680.239396 22436.8860  18.9%     -   10s\n",
      "H    0     0                    27572.403633 22436.8860  18.6%     -   10s\n",
      "H    0     0                    27532.661135 22436.8860  18.5%     -   10s\n",
      "H    0     0                    27485.428954 22436.8860  18.4%     -   10s\n",
      "H    0     0                    27377.222585 22534.8664  17.7%     -   10s\n",
      "     0     0 22534.8664    0  211 27377.2226 22534.8664  17.7%     -   10s\n",
      "     0     0 22834.8405    0  142 27377.2226 22834.8405  16.6%     -   11s\n",
      "H    0     0                    27377.222580 22844.4666  16.6%     -   11s\n",
      "H    0     0                    27373.728272 22844.4666  16.5%     -   11s\n",
      "H    0     0                    27365.560852 22848.9982  16.5%     -   11s\n",
      "     0     0 22848.9982    0  161 27365.5609 22848.9982  16.5%     -   11s\n",
      "     0     0 22930.0831    0  177 27365.5609 22930.0831  16.2%     -   11s\n",
      "     0     0 22936.6028    0  177 27365.5609 22936.6028  16.2%     -   11s\n",
      "H    0     0                    27297.519163 22936.6028  16.0%     -   11s\n",
      "H    0     0                    27257.608264 22936.6028  15.9%     -   11s\n",
      "H    0     0                    27254.403089 22936.6028  15.8%     -   11s\n",
      "     0     2 22937.7011    0  177 27254.4031 22937.7011  15.8%     -   12s\n",
      "H   37    39                    27230.656995 22985.4062  15.6%  24.2   12s\n",
      "H  288   284                    27230.656990 22985.4062  15.6%  18.0   13s\n",
      "H  760   702                    27091.955280 22999.7884  15.1%  13.6   15s\n",
      "H  761   696                    27008.385078 22999.7884  14.8%  13.6   15s\n",
      "H 1388  1221                    26966.514119 23005.5221  14.7%  12.6   19s\n",
      "  1390  1223 26295.7208   34  390 26966.5141 23005.5221  14.7%  12.6   20s\n",
      "H 1398  1167                    26964.737249 24746.9022  8.22%  12.5   20s\n",
      "H 1399  1109                    26964.737245 24746.9022  8.22%  12.5   20s\n",
      "H 1402  1055                    26942.450882 24830.2143  7.84%  12.5   20s\n",
      "H 1402  1002                    26903.253452 24830.2143  7.71%  12.5   20s\n",
      "H 1402   952                    26892.330236 24830.2143  7.67%  12.5   20s\n",
      "H 1403   904                    26880.444251 24830.2143  7.63%  12.4   21s\n",
      "H 1403   858                    26864.050199 24830.2143  7.57%  12.4   21s\n",
      "H 1403   815                    26843.561498 24830.2143  7.50%  12.4   21s\n",
      "H 1403   774                    26843.561460 24830.2143  7.50%  12.4   21s\n",
      "H 1422   747                    26843.493841 25383.3737  5.44%  12.3   22s\n",
      "H 1422   709                    26823.005114 25383.3737  5.37%  12.3   22s\n",
      "H 1422   673                    26823.004815 25383.3737  5.37%  12.3   22s\n",
      "H 1423   640                    26821.207970 25558.7808  4.71%  12.3   23s\n",
      "H 1427   609                    26821.207961 25698.6051  4.19%  12.2   23s\n",
      "H 1430   579                    26810.731824 25709.7899  4.11%  12.2   24s\n",
      "H 1431   551                    26810.731773 25746.5280  3.97%  12.2   24s\n",
      "H 1431   522                    26810.731677 25746.5280  3.97%  12.2   24s\n",
      "  1437   526 25817.4137  141  132 26810.7317 25817.4137  3.70%  12.2   25s\n",
      "H 1440   501                    26808.934699 25869.9736  3.50%  12.1   26s\n",
      "H 1446   479                    26808.934695 25950.7470  3.20%  12.1   27s\n",
      "H 1451   457                    26808.934692 25981.6235  3.09%  12.0   28s\n",
      "\n",
      "Cutting planes:\n",
      "  Learned: 12\n",
      "  Gomory: 137\n",
      "  Lift-and-project: 162\n",
      "  Cover: 400\n",
      "  Implied bound: 671\n",
      "  Clique: 79\n",
      "  MIR: 535\n",
      "  Mixing: 1\n",
      "  StrongCG: 38\n",
      "  Flow cover: 550\n",
      "  GUB cover: 49\n",
      "  RLT: 162\n",
      "  Relax-and-lift: 121\n",
      "  BQP: 7\n",
      "\n",
      "Explored 1460 nodes (53243 simplex iterations) in 30.04 seconds (16.66 work units)\n",
      "Thread count was 8 (of 8 available processors)\n",
      "\n",
      "Solution count 10: 26808.9 26810.7 26810.7 ... 26892.3\n",
      "\n",
      "Time limit reached\n",
      "Best objective 2.680893444671e+04, best bound 2.603872630927e+04, gap 2.8730%\n"
     ]
    }
   ],
   "source": [
    "# Set constraints\n",
    "rail.set_constraints()\n",
    "\n",
    "# Set objective\n",
    "rail.set_objective()\n",
    "\n",
    "# Solve the problem\n",
    "rail.optimize()"
   ]
  },
  {
   "cell_type": "code",
   "execution_count": null,
   "metadata": {},
   "outputs": [
    {
     "name": "stdout",
     "output_type": "stream",
     "text": [
      "Optimization ended with status 9.\n",
      "unknown\n"
     ]
    }
   ],
   "source": [
    "# Check the optimization status\n",
    "if rail.model.status == GRB.Status.OPTIMAL:\n",
    "\tprint(\"The model was solved to optimality.\")\n",
    "elif rail.model.status == GRB.Status.INFEASIBLE:\n",
    "\tprint(\"The model is infeasible.\")\n",
    "elif rail.model.status == GRB.Status.UNBOUNDED:\n",
    "\tprint(\"The model is unbounded.\")\n",
    "elif rail.model.status == GRB.Status.INF_OR_UNBD:\n",
    "\tprint(\"The model is infeasible or unbounded.\")\n",
    "else:\n",
    "\tprint(f\"Optimization ended with status {rail.model.status}.\")\n",
    " \n",
    "print(rail.status())"
   ]
  },
  {
   "cell_type": "code",
   "execution_count": null,
   "metadata": {},
   "outputs": [
    {
     "name": "stdout",
     "output_type": "stream",
     "text": [
      "Problem parameters saved successfully to datasets/railway_N10_T10_J80_P2000_K3.json\n"
     ]
    }
   ],
   "source": [
    "# Check if the `datasets` directory exists otherwise create it\n",
    "if not os.path.exists(\"datasets\"):\n",
    "\tos.makedirs(\"datasets\")\n",
    "\n",
    "# Save the problem to a json file \n",
    "filename = os.path.join(\"datasets\", f\"railway_N{stations}_T{periods}_J{jobs}_P{passengers}_K{routes}.json\")\n",
    "rail.save(filename)"
   ]
  },
  {
   "cell_type": "code",
   "execution_count": 11,
   "metadata": {},
   "outputs": [
    {
     "name": "stdout",
     "output_type": "stream",
     "text": [
      "Stations 10\n",
      "Periods 10\n",
      "Jobs 80\n",
      "Passengers 2000\n",
      "Routes 3\n",
      "Model <gurobi.Model Continuous instance Unnamed: 0 constrs, 0 vars, Parameter changes: Username=(user-defined), LicenseID=2585388>\n"
     ]
    }
   ],
   "source": [
    "# Try to load a new object from the json file\n",
    "rail2 = Railway.load(filename)\n",
    "\n",
    "print(\"Stations\", rail2.stations)\n",
    "print(\"Periods\", rail2.periods)\n",
    "print(\"Jobs\", rail2.jobs)\n",
    "print(\"Passengers\", rail2.passengers)\n",
    "print(\"Routes\", rail2.routes)\n",
    "print(\"Model\", rail2.model)"
   ]
  },
  {
   "cell_type": "code",
   "execution_count": null,
   "metadata": {},
   "outputs": [
    {
     "name": "stdout",
     "output_type": "stream",
     "text": [
      "✅ Same stations\n",
      "✅ Same periods\n",
      "✅ Same jobs\n",
      "✅ Same passengers\n",
      "✅ Same routes\n",
      "✅ Same coords\n",
      "✅ Same Aj\n",
      "✅ Same Ja\n",
      "✅ Same E\n",
      "✅ Same R\n",
      "✅ Same pi\n",
      "✅ Same C\n",
      "✅ Same tau\n",
      "✅ Same phi\n",
      "✅ Same beta\n",
      "✅ Same Lambd\n"
     ]
    }
   ],
   "source": [
    "if rail.stations == rail2.stations:\n",
    "\tprint(\"✅ Same stations\")\n",
    "else:\n",
    "\tprint(\"❌ Different stations\")\n",
    "\n",
    "if rail.periods == rail2.periods:\n",
    "\tprint(\"✅ Same periods\")\n",
    "else:\n",
    "\tprint(\"❌ Different periods\")\n",
    "\n",
    "if rail.jobs == rail2.jobs:\n",
    "\tprint(\"✅ Same jobs\")\n",
    "else:\n",
    "\tprint(\"❌ Different jobs\")\n",
    "\n",
    "if rail.passengers == rail2.passengers:\n",
    "\tprint(\"✅ Same passengers\")\n",
    "else:\n",
    "\tprint(\"❌ Different passengers\")\n",
    "\n",
    "if rail.routes == rail2.routes:\n",
    "\tprint(\"✅ Same routes\")\n",
    "else:\n",
    "\tprint(\"❌ Different routes\")\n",
    " \n",
    "if rail.coords == rail2.coords:\n",
    "\tprint(\"✅ Same coords\")\n",
    "else:\n",
    "\tprint(\"❌ Different coords\")\n",
    "\n",
    "if rail.Aj == rail2.Aj:\n",
    "\tprint(\"✅ Same Aj\")\n",
    "else:\n",
    "\tprint(\"❌ Different Aj\")\n",
    "\n",
    "if rail.Ja == rail2.Ja:\n",
    "\tprint(\"✅ Same Ja\")\n",
    "else:\n",
    "\tprint(\"❌ Different Ja\")\n",
    "\n",
    "if rail.E == rail2.E:\n",
    "\tprint(\"✅ Same E\")\n",
    "else:\n",
    "\tprint(\"❌ Different E\")\n",
    "\n",
    "if rail.R == rail2.R:\n",
    "\tprint(\"✅ Same R\")\n",
    "else:\n",
    "\tprint(\"❌ Different R\")\n",
    "\n",
    "if rail.pi == rail2.pi:\n",
    "\tprint(\"✅ Same pi\")\n",
    "else:\n",
    "\tprint(\"❌ Different pi\")\n",
    "\n",
    "if rail.C == rail2.C:\n",
    "\tprint(\"✅ Same C\")\n",
    "else:\n",
    "\tprint(\"❌ Different C\")\n",
    "\n",
    "if rail.tau == rail2.tau:\n",
    "\tprint(\"✅ Same tau\")\n",
    "else:\n",
    "\tprint(\"❌ Different tau\")\n",
    "\n",
    "if rail.phi == rail2.phi:\n",
    "\tprint(\"✅ Same phi\")\n",
    "else:\n",
    "\tprint(\"❌ Different phi\")\n",
    "\n",
    "if rail.beta == rail2.beta:\n",
    "\tprint(\"✅ Same beta\")\n",
    "else:\n",
    "\tprint(\"❌ Different beta\")\n",
    "\n",
    "if rail.Lambd == rail2.Lambd:\n",
    "\tprint(\"✅ Same Lambd\")\n",
    "else:\n",
    "\tprint(\"❌ Different Lambd\")"
   ]
  },
  {
   "cell_type": "code",
   "execution_count": 13,
   "metadata": {},
   "outputs": [
    {
     "data": {
      "text/plain": [
       "{(1, 2): [[(1, 2)], [(1, 5), (2, 5)], [(1, 3), (2, 3)]],\n",
       " (1, 3): [[(1, 3)], [(1, 2), (2, 3)], [(1, 5), (3, 5)]],\n",
       " (1, 4): [[(1, 4)], [(1, 10), (4, 10)], [(1, 9), (4, 9)]],\n",
       " (1, 5): [[(1, 5)], [(1, 2), (2, 5)], [(1, 3), (3, 5)]],\n",
       " (1, 6): [[(1, 6)], [(1, 7), (6, 7)], [(1, 2), (2, 6)]],\n",
       " (1, 7): [[(1, 7)], [(1, 6), (6, 7)], [(1, 2), (2, 7)]],\n",
       " (1, 8): [[(1, 8)], [(1, 9), (8, 9)], [(1, 2), (2, 8)]],\n",
       " (1, 9): [[(1, 9)], [(1, 2), (2, 9)], [(1, 10), (9, 10)]],\n",
       " (1, 10): [[(1, 10)], [(1, 9), (9, 10)], [(1, 4), (4, 10)]],\n",
       " (2, 1): [[(1, 2)], [(2, 5), (1, 5)], [(2, 3), (1, 3)]],\n",
       " (2, 3): [[(2, 3)], [(2, 5), (3, 5)], [(1, 2), (1, 3)]],\n",
       " (2, 4): [[(2, 4)], [(2, 10), (4, 10)], [(1, 2), (1, 4)]],\n",
       " (2, 5): [[(2, 5)], [(2, 3), (3, 5)], [(1, 2), (1, 5)]],\n",
       " (2, 6): [[(2, 6)], [(1, 2), (1, 6)], [(2, 7), (6, 7)]],\n",
       " (2, 7): [[(2, 7)], [(1, 2), (1, 7)], [(2, 6), (6, 7)]],\n",
       " (2, 8): [[(2, 8)], [(1, 2), (1, 8)], [(2, 9), (8, 9)]],\n",
       " (2, 9): [[(2, 9)], [(1, 2), (1, 9)], [(2, 5), (5, 9)]],\n",
       " (2, 10): [[(2, 10)], [(1, 2), (1, 10)], [(2, 9), (9, 10)]],\n",
       " (3, 1): [[(1, 3)], [(2, 3), (1, 2)], [(3, 5), (1, 5)]],\n",
       " (3, 2): [[(2, 3)], [(3, 5), (2, 5)], [(1, 3), (1, 2)]],\n",
       " (3, 4): [[(3, 4)], [(3, 5), (4, 5)], [(3, 10), (4, 10)]],\n",
       " (3, 5): [[(3, 5)], [(2, 3), (2, 5)], [(1, 3), (1, 5)]],\n",
       " (3, 6): [[(3, 6)], [(3, 5), (5, 6)], [(3, 7), (6, 7)]],\n",
       " (3, 7): [[(3, 7)], [(3, 5), (5, 7)], [(3, 6), (6, 7)]],\n",
       " (3, 8): [[(3, 8)], [(3, 5), (5, 8)], [(3, 9), (8, 9)]],\n",
       " (3, 9): [[(3, 9)], [(3, 5), (5, 9)], [(2, 3), (2, 9)]],\n",
       " (3, 10): [[(3, 10)], [(3, 5), (5, 10)], [(3, 4), (4, 10)]],\n",
       " (4, 1): [[(1, 4)], [(4, 10), (1, 10)], [(4, 9), (1, 9)]],\n",
       " (4, 2): [[(2, 4)], [(4, 10), (2, 10)], [(1, 4), (1, 2)]],\n",
       " (4, 3): [[(3, 4)], [(4, 5), (3, 5)], [(4, 10), (3, 10)]],\n",
       " (4, 5): [[(4, 5)], [(4, 10), (5, 10)], [(3, 4), (3, 5)]],\n",
       " (4, 6): [[(4, 6)], [(4, 7), (6, 7)], [(4, 10), (6, 10)]],\n",
       " (4, 7): [[(4, 7)], [(4, 10), (7, 10)], [(4, 6), (6, 7)]],\n",
       " (4, 8): [[(4, 8)], [(4, 10), (8, 10)], [(4, 9), (8, 9)]],\n",
       " (4, 9): [[(4, 9)], [(4, 10), (9, 10)], [(4, 8), (8, 9)]],\n",
       " (4, 10): [[(4, 10)], [(4, 9), (9, 10)], [(4, 8), (8, 10)]],\n",
       " (5, 1): [[(1, 5)], [(2, 5), (1, 2)], [(3, 5), (1, 3)]],\n",
       " (5, 2): [[(2, 5)], [(3, 5), (2, 3)], [(1, 5), (1, 2)]],\n",
       " (5, 3): [[(3, 5)], [(2, 5), (2, 3)], [(1, 5), (1, 3)]],\n",
       " (5, 4): [[(4, 5)], [(5, 10), (4, 10)], [(3, 5), (3, 4)]],\n",
       " (5, 6): [[(5, 6)], [(5, 7), (6, 7)], [(5, 9), (6, 9)]],\n",
       " (5, 7): [[(5, 7)], [(5, 6), (6, 7)], [(5, 9), (7, 9)]],\n",
       " (5, 8): [[(5, 8)], [(5, 9), (8, 9)], [(3, 5), (3, 8)]],\n",
       " (5, 9): [[(5, 9)], [(3, 5), (3, 9)], [(2, 5), (2, 9)]],\n",
       " (5, 10): [[(5, 10)], [(4, 5), (4, 10)], [(3, 5), (3, 10)]],\n",
       " (6, 1): [[(1, 6)], [(6, 7), (1, 7)], [(2, 6), (1, 2)]],\n",
       " (6, 2): [[(2, 6)], [(1, 6), (1, 2)], [(6, 7), (2, 7)]],\n",
       " (6, 3): [[(3, 6)], [(5, 6), (3, 5)], [(6, 7), (3, 7)]],\n",
       " (6, 4): [[(4, 6)], [(6, 7), (4, 7)], [(6, 10), (4, 10)]],\n",
       " (6, 5): [[(5, 6)], [(6, 7), (5, 7)], [(6, 9), (5, 9)]],\n",
       " (6, 7): [[(6, 7)], [(6, 8), (7, 8)], [(6, 9), (7, 9)]],\n",
       " (6, 8): [[(6, 8)], [(6, 7), (7, 8)], [(6, 9), (8, 9)]],\n",
       " (6, 9): [[(6, 9)], [(6, 7), (7, 9)], [(6, 8), (8, 9)]],\n",
       " (6, 10): [[(6, 10)], [(6, 7), (7, 10)], [(6, 9), (9, 10)]],\n",
       " (7, 1): [[(1, 7)], [(6, 7), (1, 6)], [(2, 7), (1, 2)]],\n",
       " (7, 2): [[(2, 7)], [(1, 7), (1, 2)], [(6, 7), (2, 6)]],\n",
       " (7, 3): [[(3, 7)], [(5, 7), (3, 5)], [(6, 7), (3, 6)]],\n",
       " (7, 4): [[(4, 7)], [(7, 10), (4, 10)], [(6, 7), (4, 6)]],\n",
       " (7, 5): [[(5, 7)], [(6, 7), (5, 6)], [(7, 9), (5, 9)]],\n",
       " (7, 6): [[(6, 7)], [(7, 8), (6, 8)], [(7, 9), (6, 9)]],\n",
       " (7, 8): [[(7, 8)], [(6, 7), (6, 8)], [(7, 9), (8, 9)]],\n",
       " (7, 9): [[(7, 9)], [(6, 7), (6, 9)], [(7, 8), (8, 9)]],\n",
       " (7, 10): [[(7, 10)], [(6, 7), (6, 10)], [(7, 9), (9, 10)]],\n",
       " (8, 1): [[(1, 8)], [(8, 9), (1, 9)], [(2, 8), (1, 2)]],\n",
       " (8, 2): [[(2, 8)], [(1, 8), (1, 2)], [(8, 9), (2, 9)]],\n",
       " (8, 3): [[(3, 8)], [(5, 8), (3, 5)], [(8, 9), (3, 9)]],\n",
       " (8, 4): [[(4, 8)], [(8, 10), (4, 10)], [(8, 9), (4, 9)]],\n",
       " (8, 5): [[(5, 8)], [(8, 9), (5, 9)], [(3, 8), (3, 5)]],\n",
       " (8, 6): [[(6, 8)], [(7, 8), (6, 7)], [(8, 9), (6, 9)]],\n",
       " (8, 7): [[(7, 8)], [(6, 8), (6, 7)], [(8, 9), (7, 9)]],\n",
       " (8, 9): [[(8, 9)], [(8, 10), (9, 10)], [(4, 8), (4, 9)]],\n",
       " (8, 10): [[(8, 10)], [(4, 8), (4, 10)], [(8, 9), (9, 10)]],\n",
       " (9, 1): [[(1, 9)], [(2, 9), (1, 2)], [(9, 10), (1, 10)]],\n",
       " (9, 2): [[(2, 9)], [(1, 9), (1, 2)], [(5, 9), (2, 5)]],\n",
       " (9, 3): [[(3, 9)], [(5, 9), (3, 5)], [(2, 9), (2, 3)]],\n",
       " (9, 4): [[(4, 9)], [(9, 10), (4, 10)], [(8, 9), (4, 8)]],\n",
       " (9, 5): [[(5, 9)], [(3, 9), (3, 5)], [(2, 9), (2, 5)]],\n",
       " (9, 6): [[(6, 9)], [(7, 9), (6, 7)], [(8, 9), (6, 8)]],\n",
       " (9, 7): [[(7, 9)], [(6, 9), (6, 7)], [(8, 9), (7, 8)]],\n",
       " (9, 8): [[(8, 9)], [(9, 10), (8, 10)], [(4, 9), (4, 8)]],\n",
       " (9, 10): [[(9, 10)], [(4, 9), (4, 10)], [(8, 9), (8, 10)]],\n",
       " (10, 1): [[(1, 10)], [(9, 10), (1, 9)], [(4, 10), (1, 4)]],\n",
       " (10, 2): [[(2, 10)], [(1, 10), (1, 2)], [(9, 10), (2, 9)]],\n",
       " (10, 3): [[(3, 10)], [(5, 10), (3, 5)], [(4, 10), (3, 4)]],\n",
       " (10, 4): [[(4, 10)], [(9, 10), (4, 9)], [(8, 10), (4, 8)]],\n",
       " (10, 5): [[(5, 10)], [(4, 10), (4, 5)], [(3, 10), (3, 5)]],\n",
       " (10, 6): [[(6, 10)], [(7, 10), (6, 7)], [(9, 10), (6, 9)]],\n",
       " (10, 7): [[(7, 10)], [(6, 10), (6, 7)], [(9, 10), (7, 9)]],\n",
       " (10, 8): [[(8, 10)], [(4, 10), (4, 8)], [(9, 10), (8, 9)]],\n",
       " (10, 9): [[(9, 10)], [(4, 10), (4, 9)], [(8, 10), (8, 9)]]}"
      ]
     },
     "execution_count": 13,
     "metadata": {},
     "output_type": "execute_result"
    }
   ],
   "source": [
    "rail.R"
   ]
  },
  {
   "cell_type": "code",
   "execution_count": 14,
   "metadata": {},
   "outputs": [
    {
     "data": {
      "text/plain": [
       "{1: {},\n",
       " 2: {(2, 7): [(2, 7)]},\n",
       " 3: {(6, 9): [(1, 6), (1, 9)]},\n",
       " 4: {},\n",
       " 5: {},\n",
       " 6: {},\n",
       " 7: {},\n",
       " 8: {},\n",
       " 9: {},\n",
       " 10: {}}"
      ]
     },
     "execution_count": 14,
     "metadata": {},
     "output_type": "execute_result"
    }
   ],
   "source": [
    "rail2.E"
   ]
  },
  {
   "cell_type": "code",
   "execution_count": 15,
   "metadata": {},
   "outputs": [
    {
     "name": "stdout",
     "output_type": "stream",
     "text": [
      "Gurobi Optimizer version 12.0.0 build v12.0.0rc1 (linux64 - \"Arch Linux\")\n",
      "\n",
      "CPU model: Intel(R) Core(TM) i7-8565U CPU @ 1.80GHz, instruction set [SSE2|AVX|AVX2]\n",
      "Thread count: 4 physical cores, 8 logical processors, using up to 8 threads\n",
      "\n",
      "Optimize a model with 8247 rows, 5700 columns and 24415 nonzeros\n",
      "Model fingerprint: 0x360956fb\n",
      "Variable types: 1450 continuous, 4250 integer (4250 binary)\n",
      "Coefficient statistics:\n",
      "  Matrix range     [9e-03, 1e+06]\n",
      "  Objective range  [1e+03, 2e+03]\n",
      "  Bounds range     [1e+00, 1e+00]\n",
      "  RHS range        [3e-02, 1e+06]\n",
      "Presolve removed 4490 rows and 3223 columns\n",
      "Presolve time: 0.12s\n",
      "Presolved: 3757 rows, 2477 columns, 14187 nonzeros\n",
      "Variable types: 631 continuous, 1846 integer (1846 binary)\n",
      "Found heuristic solution: objective 13481.027208\n",
      "\n",
      "Root relaxation: objective -8.427699e+04, 2035 iterations, 0.03 seconds (0.02 work units)\n",
      "\n",
      "    Nodes    |    Current Node    |     Objective Bounds      |     Work\n",
      " Expl Unexpl |  Obj  Depth IntInf | Incumbent    BestBd   Gap | It/Node Time\n",
      "\n",
      "     0     0 -84276.991    0  770 13481.0272 -84276.991   725%     -    0s\n",
      "H    0     0                    11733.922619 -84276.991   818%     -    0s\n",
      "H    0     0                    9807.8691558 -84276.991   959%     -    0s\n",
      "H    0     0                    9631.7100670 -84276.991   975%     -    0s\n",
      "H    0     0                    9613.8815411 -84276.991   977%     -    0s\n",
      "H    0     0                    9607.7877179 -84276.991   977%     -    0s\n",
      "H    0     0                    9579.5360316 -84276.991   980%     -    0s\n",
      "     0     0 2475.20557    0  339 9579.53603 2475.20557  74.2%     -    0s\n",
      "H    0     0                    9579.5360285 2475.21332  74.2%     -    0s\n",
      "H    0     0                    9476.4677464 2475.21332  73.9%     -    0s\n",
      "H    0     0                    9367.3333827 2475.21332  73.6%     -    0s\n",
      "H    0     0                    8034.0879175 4652.84822  42.1%     -    0s\n",
      "H    0     0                    8015.8280040 4652.84822  42.0%     -    0s\n",
      "H    0     0                    8015.8280031 4652.84822  42.0%     -    0s\n",
      "     0     0 4652.84822    0  336 8015.82800 4652.84822  42.0%     -    0s\n",
      "     0     0 5202.16227    0  323 8015.82800 5202.16227  35.1%     -    0s\n",
      "     0     0 5352.87693    0  331 8015.82800 5352.87693  33.2%     -    0s\n",
      "     0     0 5626.61973    0  400 8015.82800 5626.61973  29.8%     -    0s\n",
      "     0     0 5674.59555    0  426 8015.82800 5674.59555  29.2%     -    0s\n",
      "     0     0 5676.18632    0  431 8015.82800 5676.18632  29.2%     -    0s\n",
      "     0     0 6874.45913    0  192 8015.82800 6874.45913  14.2%     -    0s\n",
      "H    0     0                    7639.5754475 6874.96608  10.0%     -    0s\n",
      "H    0     0                    7634.5132591 6874.96608  9.95%     -    0s\n",
      "     0     0 6921.85572    0  196 7634.51326 6921.85572  9.33%     -    0s\n",
      "     0     0 7104.35424    0  113 7634.51326 7104.35424  6.94%     -    0s\n",
      "H    0     0                    7186.2345996 7109.18374  1.07%     -    0s\n",
      "H    0     0                    7186.2345978 7109.18374  1.07%     -    0s\n",
      "H    0     0                    7158.0176933 7109.18374  0.68%     -    0s\n",
      "H    0     0                    7158.0176926 7109.18374  0.68%     -    0s\n",
      "     0     0 7109.18374    0  140 7158.01769 7109.18374  0.68%     -    0s\n",
      "     0     0 7147.52674    0   24 7158.01769 7147.52674  0.15%     -    0s\n",
      "     0     0 7148.62513    0   12 7158.01769 7148.62513  0.13%     -    1s\n",
      "     0     0 7148.62513    0   42 7158.01769 7148.62513  0.13%     -    1s\n",
      "     0     0 7148.62513    0   59 7158.01769 7148.62513  0.13%     -    1s\n",
      "     0     0 7150.27531    0   30 7158.01769 7150.27531  0.11%     -    1s\n",
      "\n",
      "Cutting planes:\n",
      "  Learned: 1\n",
      "  Gomory: 3\n",
      "  Cover: 3\n",
      "  Implied bound: 1\n",
      "  Clique: 7\n",
      "  MIR: 15\n",
      "  RLT: 6\n",
      "  Relax-and-lift: 3\n",
      "\n",
      "Explored 1 nodes (6657 simplex iterations) in 1.15 seconds (0.53 work units)\n",
      "Thread count was 8 (of 8 available processors)\n",
      "\n",
      "Solution count 10: 7158.02 7186.23 7634.51 ... 9607.79\n",
      "No other solutions better than 7158.02\n",
      "\n",
      "Optimal solution found (tolerance 1.00e-04)\n",
      "Best objective 7.158017673642e+03, best bound 7.158017673642e+03, gap 0.0000%\n"
     ]
    }
   ],
   "source": [
    "# Set constraints\n",
    "rail2.set_constraints()\n",
    "\n",
    "# Set objective\n",
    "rail2.set_objective()\n",
    "\n",
    "# Optimize\n",
    "rail2.optimize()"
   ]
  },
  {
   "cell_type": "code",
   "execution_count": null,
   "metadata": {},
   "outputs": [
    {
     "name": "stdout",
     "output_type": "stream",
     "text": [
      "Set parameter TimeLimit to value 120\n"
     ]
    }
   ],
   "source": [
    "rail3 = Railway(\n",
    "\tstations,\n",
    " periods,\n",
    " jobs,\n",
    " passengers,\n",
    " routes,\n",
    " coords=rail.coords,\n",
    " Aj=rail.Aj,\n",
    " C=rail.C,\n",
    " E=rail.E,\n",
    " R=rail.R,\n",
    " pi=rail.pi,\n",
    " tau=rail.tau,\n",
    " phi=rail.phi,\n",
    " beta=rail.beta,\n",
    " Lambd=rail.Lambd,\n",
    ")\n",
    "rail3.model.setParam('TimeLimit', 120)"
   ]
  },
  {
   "cell_type": "code",
   "execution_count": null,
   "metadata": {},
   "outputs": [
    {
     "name": "stdout",
     "output_type": "stream",
     "text": [
      "✅ Same stations\n",
      "✅ Same periods\n",
      "✅ Same jobs\n",
      "✅ Same passengers\n",
      "✅ Same routes\n",
      "✅ Same coords\n",
      "✅ Same Aj\n",
      "✅ Same Ja\n",
      "✅ Same E\n",
      "✅ Same R\n",
      "✅ Same pi\n",
      "✅ Same C\n",
      "✅ Same tau\n",
      "✅ Same phi\n",
      "✅ Same beta\n",
      "✅ Same Lambd\n"
     ]
    }
   ],
   "source": [
    "\n",
    "if rail.stations == rail3.stations:\n",
    "\tprint(\"✅ Same stations\")\n",
    "else:\n",
    "\tprint(\"❌ Different stations\")\n",
    "\n",
    "if rail.periods == rail3.periods:\n",
    "\tprint(\"✅ Same periods\")\n",
    "else:\n",
    "\tprint(\"❌ Different periods\")\n",
    "\n",
    "if rail.jobs == rail3.jobs:\n",
    "\tprint(\"✅ Same jobs\")\n",
    "else:\n",
    "\tprint(\"❌ Different jobs\")\n",
    "\n",
    "if rail.passengers == rail3.passengers:\n",
    "\tprint(\"✅ Same passengers\")\n",
    "else:\n",
    "\tprint(\"❌ Different passengers\")\n",
    "\n",
    "if rail.routes == rail3.routes:\n",
    "\tprint(\"✅ Same routes\")\n",
    "else:\n",
    "\tprint(\"❌ Different routes\")\n",
    "\n",
    "if rail.coords == rail3.coords:\n",
    "\tprint(\"✅ Same coords\")\n",
    "else:\n",
    "\tprint(\"❌ Different coords\")\n",
    "\n",
    "if rail.Aj == rail3.Aj:\n",
    "\tprint(\"✅ Same Aj\")\n",
    "else:\n",
    "\tprint(\"❌ Different Aj\")\n",
    "\n",
    "if rail.Ja == rail3.Ja:\n",
    "\tprint(\"✅ Same Ja\")\n",
    "else:\n",
    "\tprint(\"❌ Different Ja\")\n",
    "\n",
    "if rail.E == rail3.E:\n",
    "\tprint(\"✅ Same E\")\n",
    "else:\n",
    "\tprint(\"❌ Different E\")\n",
    "\n",
    "if rail.R == rail3.R:\n",
    "\tprint(\"✅ Same R\")\n",
    "else:\n",
    "\tprint(\"❌ Different R\")\n",
    "\n",
    "if rail.pi == rail3.pi:\n",
    "\tprint(\"✅ Same pi\")\n",
    "else:\n",
    "\tprint(\"❌ Different pi\")\n",
    "\n",
    "if rail.C == rail3.C:\n",
    "\tprint(\"✅ Same C\")\n",
    "else:\n",
    "\tprint(\"❌ Different C\")\n",
    "\n",
    "if rail.tau == rail3.tau:\n",
    "\tprint(\"✅ Same tau\")\n",
    "else:\n",
    "\tprint(\"❌ Different tau\")\n",
    "\n",
    "if rail.phi == rail3.phi:\n",
    "\tprint(\"✅ Same phi\")\n",
    "else:\n",
    "\tprint(\"❌ Different phi\")\n",
    "\n",
    "if rail.beta == rail3.beta:\n",
    "\tprint(\"✅ Same beta\")\n",
    "else:\n",
    "\tprint(\"❌ Different beta\")\n",
    "\n",
    "if rail.Lambd == rail3.Lambd:\n",
    "\tprint(\"✅ Same Lambd\")\n",
    "else:\n",
    "\tprint(\"❌ Different Lambd\")"
   ]
  },
  {
   "cell_type": "code",
   "execution_count": 18,
   "metadata": {},
   "outputs": [
    {
     "name": "stdout",
     "output_type": "stream",
     "text": [
      "Gurobi Optimizer version 12.0.0 build v12.0.0rc1 (linux64 - \"Arch Linux\")\n",
      "\n",
      "CPU model: Intel(R) Core(TM) i7-8565U CPU @ 1.80GHz, instruction set [SSE2|AVX|AVX2]\n",
      "Thread count: 4 physical cores, 8 logical processors, using up to 8 threads\n",
      "\n",
      "Non-default parameters:\n",
      "TimeLimit  120\n",
      "\n",
      "Optimize a model with 8247 rows, 5700 columns and 24415 nonzeros\n",
      "Model fingerprint: 0x360956fb\n",
      "Variable types: 1450 continuous, 4250 integer (4250 binary)\n",
      "Coefficient statistics:\n",
      "  Matrix range     [9e-03, 1e+06]\n",
      "  Objective range  [1e+03, 2e+03]\n",
      "  Bounds range     [1e+00, 1e+00]\n",
      "  RHS range        [3e-02, 1e+06]\n",
      "Presolve removed 4490 rows and 3223 columns\n",
      "Presolve time: 0.14s\n",
      "Presolved: 3757 rows, 2477 columns, 14187 nonzeros\n",
      "Variable types: 631 continuous, 1846 integer (1846 binary)\n",
      "Found heuristic solution: objective 13481.027208\n",
      "\n",
      "Root relaxation: objective -8.427699e+04, 2035 iterations, 0.03 seconds (0.02 work units)\n",
      "\n",
      "    Nodes    |    Current Node    |     Objective Bounds      |     Work\n",
      " Expl Unexpl |  Obj  Depth IntInf | Incumbent    BestBd   Gap | It/Node Time\n",
      "\n",
      "     0     0 -84276.991    0  770 13481.0272 -84276.991   725%     -    0s\n",
      "H    0     0                    11733.922619 -84276.991   818%     -    0s\n",
      "H    0     0                    9807.8691558 -84276.991   959%     -    0s\n",
      "H    0     0                    9631.7100670 -84276.991   975%     -    0s\n",
      "H    0     0                    9613.8815411 -84276.991   977%     -    0s\n",
      "H    0     0                    9607.7877179 -84276.991   977%     -    0s\n",
      "H    0     0                    9579.5360316 -84276.991   980%     -    0s\n",
      "     0     0 2475.20557    0  339 9579.53603 2475.20557  74.2%     -    0s\n",
      "H    0     0                    9579.5360285 2475.21332  74.2%     -    0s\n",
      "H    0     0                    9476.4677464 2475.21332  73.9%     -    0s\n",
      "H    0     0                    9367.3333827 2475.21332  73.6%     -    0s\n",
      "H    0     0                    8034.0879175 4652.84822  42.1%     -    0s\n",
      "H    0     0                    8015.8280040 4652.84822  42.0%     -    0s\n",
      "H    0     0                    8015.8280031 4652.84822  42.0%     -    0s\n",
      "     0     0 4652.84822    0  336 8015.82800 4652.84822  42.0%     -    0s\n",
      "     0     0 5202.16227    0  323 8015.82800 5202.16227  35.1%     -    0s\n",
      "     0     0 5352.87693    0  331 8015.82800 5352.87693  33.2%     -    0s\n",
      "     0     0 5626.61973    0  400 8015.82800 5626.61973  29.8%     -    0s\n",
      "     0     0 5674.59555    0  426 8015.82800 5674.59555  29.2%     -    0s\n",
      "     0     0 5676.18632    0  431 8015.82800 5676.18632  29.2%     -    0s\n",
      "     0     0 6874.45913    0  192 8015.82800 6874.45913  14.2%     -    0s\n",
      "H    0     0                    7639.5754475 6874.96608  10.0%     -    0s\n",
      "H    0     0                    7634.5132591 6874.96608  9.95%     -    0s\n",
      "     0     0 6921.85572    0  196 7634.51326 6921.85572  9.33%     -    0s\n",
      "     0     0 7104.35424    0  113 7634.51326 7104.35424  6.94%     -    0s\n",
      "H    0     0                    7186.2345996 7109.18374  1.07%     -    0s\n",
      "H    0     0                    7186.2345978 7109.18374  1.07%     -    0s\n",
      "H    0     0                    7158.0176933 7109.18374  0.68%     -    0s\n",
      "H    0     0                    7158.0176926 7109.18374  0.68%     -    0s\n",
      "     0     0 7109.18374    0  140 7158.01769 7109.18374  0.68%     -    0s\n",
      "     0     0 7147.52674    0   24 7158.01769 7147.52674  0.15%     -    0s\n",
      "     0     0 7148.62513    0   12 7158.01769 7148.62513  0.13%     -    1s\n",
      "     0     0 7148.62513    0   42 7158.01769 7148.62513  0.13%     -    1s\n",
      "     0     0 7148.62513    0   59 7158.01769 7148.62513  0.13%     -    1s\n",
      "     0     0 7150.27531    0   30 7158.01769 7150.27531  0.11%     -    1s\n",
      "\n",
      "Cutting planes:\n",
      "  Learned: 1\n",
      "  Gomory: 3\n",
      "  Cover: 3\n",
      "  Implied bound: 1\n",
      "  Clique: 7\n",
      "  MIR: 15\n",
      "  RLT: 6\n",
      "  Relax-and-lift: 3\n",
      "\n",
      "Explored 1 nodes (6657 simplex iterations) in 1.10 seconds (0.53 work units)\n",
      "Thread count was 8 (of 8 available processors)\n",
      "\n",
      "Solution count 10: 7158.02 7186.23 7634.51 ... 9607.79\n",
      "No other solutions better than 7158.02\n",
      "\n",
      "Optimal solution found (tolerance 1.00e-04)\n",
      "Best objective 7.158017673642e+03, best bound 7.158017673642e+03, gap 0.0000%\n"
     ]
    }
   ],
   "source": [
    "rail3.set_constraints()\n",
    "\n",
    "rail3.set_objective()\n",
    "\n",
    "rail3.optimize()"
   ]
  },
  {
   "cell_type": "code",
   "execution_count": 19,
   "metadata": {},
   "outputs": [
    {
     "data": {
      "text/plain": [
       "8247"
      ]
     },
     "execution_count": 19,
     "metadata": {},
     "output_type": "execute_result"
    }
   ],
   "source": [
    "rail.model.getConstrs().__len__()"
   ]
  },
  {
   "cell_type": "code",
   "execution_count": 20,
   "metadata": {},
   "outputs": [
    {
     "data": {
      "text/plain": [
       "8247"
      ]
     },
     "execution_count": 20,
     "metadata": {},
     "output_type": "execute_result"
    }
   ],
   "source": [
    "rail2.model.getConstrs().__len__()\n"
   ]
  },
  {
   "cell_type": "code",
   "execution_count": 21,
   "metadata": {},
   "outputs": [
    {
     "data": {
      "text/plain": [
       "8247"
      ]
     },
     "execution_count": 21,
     "metadata": {},
     "output_type": "execute_result"
    }
   ],
   "source": [
    "rail3.model.getConstrs().__len__()\n"
   ]
  },
  {
   "cell_type": "code",
   "execution_count": 22,
   "metadata": {},
   "outputs": [
    {
     "data": {
      "text/plain": [
       "7158.017673641862"
      ]
     },
     "execution_count": 22,
     "metadata": {},
     "output_type": "execute_result"
    }
   ],
   "source": [
    "rail.model.getObjective().getValue()"
   ]
  },
  {
   "cell_type": "code",
   "execution_count": 23,
   "metadata": {},
   "outputs": [
    {
     "data": {
      "text/plain": [
       "7158.017673641862"
      ]
     },
     "execution_count": 23,
     "metadata": {},
     "output_type": "execute_result"
    }
   ],
   "source": [
    "rail2.model.getObjective().getValue()"
   ]
  },
  {
   "cell_type": "code",
   "execution_count": 24,
   "metadata": {},
   "outputs": [
    {
     "data": {
      "text/plain": [
       "7158.017673641862"
      ]
     },
     "execution_count": 24,
     "metadata": {},
     "output_type": "execute_result"
    }
   ],
   "source": [
    "rail3.model.getObjective().getValue()\n"
   ]
  },
  {
   "cell_type": "code",
   "execution_count": 25,
   "metadata": {},
   "outputs": [
    {
     "data": {
      "text/plain": [
       "{(1, 2): [[(1, 2)], [(1, 5), (2, 5)], [(1, 3), (2, 3)]],\n",
       " (1, 3): [[(1, 3)], [(1, 2), (2, 3)], [(1, 5), (3, 5)]],\n",
       " (1, 4): [[(1, 4)], [(1, 10), (4, 10)], [(1, 9), (4, 9)]],\n",
       " (1, 5): [[(1, 5)], [(1, 2), (2, 5)], [(1, 3), (3, 5)]],\n",
       " (1, 6): [[(1, 6)], [(1, 7), (6, 7)], [(1, 2), (2, 6)]],\n",
       " (1, 7): [[(1, 7)], [(1, 6), (6, 7)], [(1, 2), (2, 7)]],\n",
       " (1, 8): [[(1, 8)], [(1, 9), (8, 9)], [(1, 2), (2, 8)]],\n",
       " (1, 9): [[(1, 9)], [(1, 2), (2, 9)], [(1, 10), (9, 10)]],\n",
       " (1, 10): [[(1, 10)], [(1, 9), (9, 10)], [(1, 4), (4, 10)]],\n",
       " (2, 1): [[(1, 2)], [(2, 5), (1, 5)], [(2, 3), (1, 3)]],\n",
       " (2, 3): [[(2, 3)], [(2, 5), (3, 5)], [(1, 2), (1, 3)]],\n",
       " (2, 4): [[(2, 4)], [(2, 10), (4, 10)], [(1, 2), (1, 4)]],\n",
       " (2, 5): [[(2, 5)], [(2, 3), (3, 5)], [(1, 2), (1, 5)]],\n",
       " (2, 6): [[(2, 6)], [(1, 2), (1, 6)], [(2, 7), (6, 7)]],\n",
       " (2, 7): [[(2, 7)], [(1, 2), (1, 7)], [(2, 6), (6, 7)]],\n",
       " (2, 8): [[(2, 8)], [(1, 2), (1, 8)], [(2, 9), (8, 9)]],\n",
       " (2, 9): [[(2, 9)], [(1, 2), (1, 9)], [(2, 5), (5, 9)]],\n",
       " (2, 10): [[(2, 10)], [(1, 2), (1, 10)], [(2, 9), (9, 10)]],\n",
       " (3, 1): [[(1, 3)], [(2, 3), (1, 2)], [(3, 5), (1, 5)]],\n",
       " (3, 2): [[(2, 3)], [(3, 5), (2, 5)], [(1, 3), (1, 2)]],\n",
       " (3, 4): [[(3, 4)], [(3, 5), (4, 5)], [(3, 10), (4, 10)]],\n",
       " (3, 5): [[(3, 5)], [(2, 3), (2, 5)], [(1, 3), (1, 5)]],\n",
       " (3, 6): [[(3, 6)], [(3, 5), (5, 6)], [(3, 7), (6, 7)]],\n",
       " (3, 7): [[(3, 7)], [(3, 5), (5, 7)], [(3, 6), (6, 7)]],\n",
       " (3, 8): [[(3, 8)], [(3, 5), (5, 8)], [(3, 9), (8, 9)]],\n",
       " (3, 9): [[(3, 9)], [(3, 5), (5, 9)], [(2, 3), (2, 9)]],\n",
       " (3, 10): [[(3, 10)], [(3, 5), (5, 10)], [(3, 4), (4, 10)]],\n",
       " (4, 1): [[(1, 4)], [(4, 10), (1, 10)], [(4, 9), (1, 9)]],\n",
       " (4, 2): [[(2, 4)], [(4, 10), (2, 10)], [(1, 4), (1, 2)]],\n",
       " (4, 3): [[(3, 4)], [(4, 5), (3, 5)], [(4, 10), (3, 10)]],\n",
       " (4, 5): [[(4, 5)], [(4, 10), (5, 10)], [(3, 4), (3, 5)]],\n",
       " (4, 6): [[(4, 6)], [(4, 7), (6, 7)], [(4, 10), (6, 10)]],\n",
       " (4, 7): [[(4, 7)], [(4, 10), (7, 10)], [(4, 6), (6, 7)]],\n",
       " (4, 8): [[(4, 8)], [(4, 10), (8, 10)], [(4, 9), (8, 9)]],\n",
       " (4, 9): [[(4, 9)], [(4, 10), (9, 10)], [(4, 8), (8, 9)]],\n",
       " (4, 10): [[(4, 10)], [(4, 9), (9, 10)], [(4, 8), (8, 10)]],\n",
       " (5, 1): [[(1, 5)], [(2, 5), (1, 2)], [(3, 5), (1, 3)]],\n",
       " (5, 2): [[(2, 5)], [(3, 5), (2, 3)], [(1, 5), (1, 2)]],\n",
       " (5, 3): [[(3, 5)], [(2, 5), (2, 3)], [(1, 5), (1, 3)]],\n",
       " (5, 4): [[(4, 5)], [(5, 10), (4, 10)], [(3, 5), (3, 4)]],\n",
       " (5, 6): [[(5, 6)], [(5, 7), (6, 7)], [(5, 9), (6, 9)]],\n",
       " (5, 7): [[(5, 7)], [(5, 6), (6, 7)], [(5, 9), (7, 9)]],\n",
       " (5, 8): [[(5, 8)], [(5, 9), (8, 9)], [(3, 5), (3, 8)]],\n",
       " (5, 9): [[(5, 9)], [(3, 5), (3, 9)], [(2, 5), (2, 9)]],\n",
       " (5, 10): [[(5, 10)], [(4, 5), (4, 10)], [(3, 5), (3, 10)]],\n",
       " (6, 1): [[(1, 6)], [(6, 7), (1, 7)], [(2, 6), (1, 2)]],\n",
       " (6, 2): [[(2, 6)], [(1, 6), (1, 2)], [(6, 7), (2, 7)]],\n",
       " (6, 3): [[(3, 6)], [(5, 6), (3, 5)], [(6, 7), (3, 7)]],\n",
       " (6, 4): [[(4, 6)], [(6, 7), (4, 7)], [(6, 10), (4, 10)]],\n",
       " (6, 5): [[(5, 6)], [(6, 7), (5, 7)], [(6, 9), (5, 9)]],\n",
       " (6, 7): [[(6, 7)], [(6, 8), (7, 8)], [(6, 9), (7, 9)]],\n",
       " (6, 8): [[(6, 8)], [(6, 7), (7, 8)], [(6, 9), (8, 9)]],\n",
       " (6, 9): [[(6, 9)], [(6, 7), (7, 9)], [(6, 8), (8, 9)]],\n",
       " (6, 10): [[(6, 10)], [(6, 7), (7, 10)], [(6, 9), (9, 10)]],\n",
       " (7, 1): [[(1, 7)], [(6, 7), (1, 6)], [(2, 7), (1, 2)]],\n",
       " (7, 2): [[(2, 7)], [(1, 7), (1, 2)], [(6, 7), (2, 6)]],\n",
       " (7, 3): [[(3, 7)], [(5, 7), (3, 5)], [(6, 7), (3, 6)]],\n",
       " (7, 4): [[(4, 7)], [(7, 10), (4, 10)], [(6, 7), (4, 6)]],\n",
       " (7, 5): [[(5, 7)], [(6, 7), (5, 6)], [(7, 9), (5, 9)]],\n",
       " (7, 6): [[(6, 7)], [(7, 8), (6, 8)], [(7, 9), (6, 9)]],\n",
       " (7, 8): [[(7, 8)], [(6, 7), (6, 8)], [(7, 9), (8, 9)]],\n",
       " (7, 9): [[(7, 9)], [(6, 7), (6, 9)], [(7, 8), (8, 9)]],\n",
       " (7, 10): [[(7, 10)], [(6, 7), (6, 10)], [(7, 9), (9, 10)]],\n",
       " (8, 1): [[(1, 8)], [(8, 9), (1, 9)], [(2, 8), (1, 2)]],\n",
       " (8, 2): [[(2, 8)], [(1, 8), (1, 2)], [(8, 9), (2, 9)]],\n",
       " (8, 3): [[(3, 8)], [(5, 8), (3, 5)], [(8, 9), (3, 9)]],\n",
       " (8, 4): [[(4, 8)], [(8, 10), (4, 10)], [(8, 9), (4, 9)]],\n",
       " (8, 5): [[(5, 8)], [(8, 9), (5, 9)], [(3, 8), (3, 5)]],\n",
       " (8, 6): [[(6, 8)], [(7, 8), (6, 7)], [(8, 9), (6, 9)]],\n",
       " (8, 7): [[(7, 8)], [(6, 8), (6, 7)], [(8, 9), (7, 9)]],\n",
       " (8, 9): [[(8, 9)], [(8, 10), (9, 10)], [(4, 8), (4, 9)]],\n",
       " (8, 10): [[(8, 10)], [(4, 8), (4, 10)], [(8, 9), (9, 10)]],\n",
       " (9, 1): [[(1, 9)], [(2, 9), (1, 2)], [(9, 10), (1, 10)]],\n",
       " (9, 2): [[(2, 9)], [(1, 9), (1, 2)], [(5, 9), (2, 5)]],\n",
       " (9, 3): [[(3, 9)], [(5, 9), (3, 5)], [(2, 9), (2, 3)]],\n",
       " (9, 4): [[(4, 9)], [(9, 10), (4, 10)], [(8, 9), (4, 8)]],\n",
       " (9, 5): [[(5, 9)], [(3, 9), (3, 5)], [(2, 9), (2, 5)]],\n",
       " (9, 6): [[(6, 9)], [(7, 9), (6, 7)], [(8, 9), (6, 8)]],\n",
       " (9, 7): [[(7, 9)], [(6, 9), (6, 7)], [(8, 9), (7, 8)]],\n",
       " (9, 8): [[(8, 9)], [(9, 10), (8, 10)], [(4, 9), (4, 8)]],\n",
       " (9, 10): [[(9, 10)], [(4, 9), (4, 10)], [(8, 9), (8, 10)]],\n",
       " (10, 1): [[(1, 10)], [(9, 10), (1, 9)], [(4, 10), (1, 4)]],\n",
       " (10, 2): [[(2, 10)], [(1, 10), (1, 2)], [(9, 10), (2, 9)]],\n",
       " (10, 3): [[(3, 10)], [(5, 10), (3, 5)], [(4, 10), (3, 4)]],\n",
       " (10, 4): [[(4, 10)], [(9, 10), (4, 9)], [(8, 10), (4, 8)]],\n",
       " (10, 5): [[(5, 10)], [(4, 10), (4, 5)], [(3, 10), (3, 5)]],\n",
       " (10, 6): [[(6, 10)], [(7, 10), (6, 7)], [(9, 10), (6, 9)]],\n",
       " (10, 7): [[(7, 10)], [(6, 10), (6, 7)], [(9, 10), (7, 9)]],\n",
       " (10, 8): [[(8, 10)], [(4, 10), (4, 8)], [(9, 10), (8, 9)]],\n",
       " (10, 9): [[(9, 10)], [(4, 10), (4, 9)], [(8, 10), (8, 9)]]}"
      ]
     },
     "execution_count": 25,
     "metadata": {},
     "output_type": "execute_result"
    }
   ],
   "source": [
    "rail.R"
   ]
  },
  {
   "cell_type": "code",
   "execution_count": 26,
   "metadata": {},
   "outputs": [
    {
     "data": {
      "text/plain": [
       "[(-0.5006337407346328, -0.03200129258952137),\n",
       " (-0.5922230762712105, -0.12691836390342748),\n",
       " (-0.6363052844479669, -0.6508892356257174),\n",
       " (0.7691452265241026, -0.40365984455331055),\n",
       " (-0.5605903730624198, -0.6071649332624144),\n",
       " (0.6007704947193712, 0.635955430427195),\n",
       " (0.6236074457915505, 0.6247280123846874),\n",
       " (0.948512062753282, 0.23181386585579022),\n",
       " (0.4081646198892744, -0.051884728548139435),\n",
       " (0.6915920696997848, -0.34628834967885036)]"
      ]
     },
     "execution_count": 26,
     "metadata": {},
     "output_type": "execute_result"
    }
   ],
   "source": [
    "rail.coords"
   ]
  },
  {
   "cell_type": "code",
   "execution_count": 27,
   "metadata": {},
   "outputs": [
    {
     "data": {
      "text/plain": [
       "[(-0.5006337407346328, -0.03200129258952137),\n",
       " (-0.5922230762712105, -0.12691836390342748),\n",
       " (-0.6363052844479669, -0.6508892356257174),\n",
       " (0.7691452265241026, -0.40365984455331055),\n",
       " (-0.5605903730624198, -0.6071649332624144),\n",
       " (0.6007704947193712, 0.635955430427195),\n",
       " (0.6236074457915505, 0.6247280123846874),\n",
       " (0.948512062753282, 0.23181386585579022),\n",
       " (0.4081646198892744, -0.051884728548139435),\n",
       " (0.6915920696997848, -0.34628834967885036)]"
      ]
     },
     "execution_count": 27,
     "metadata": {},
     "output_type": "execute_result"
    }
   ],
   "source": [
    "rail2.coords"
   ]
  },
  {
   "cell_type": "code",
   "execution_count": 28,
   "metadata": {},
   "outputs": [
    {
     "data": {
      "text/plain": [
       "[(-0.5006337407346328, -0.03200129258952137),\n",
       " (-0.5922230762712105, -0.12691836390342748),\n",
       " (-0.6363052844479669, -0.6508892356257174),\n",
       " (0.7691452265241026, -0.40365984455331055),\n",
       " (-0.5605903730624198, -0.6071649332624144),\n",
       " (0.6007704947193712, 0.635955430427195),\n",
       " (0.6236074457915505, 0.6247280123846874),\n",
       " (0.948512062753282, 0.23181386585579022),\n",
       " (0.4081646198892744, -0.051884728548139435),\n",
       " (0.6915920696997848, -0.34628834967885036)]"
      ]
     },
     "execution_count": 28,
     "metadata": {},
     "output_type": "execute_result"
    }
   ],
   "source": [
    "rail3.coords"
   ]
  },
  {
   "cell_type": "code",
   "execution_count": null,
   "metadata": {},
   "outputs": [],
   "source": [
    "def convert_keys_and_values_to_str(d):\n",
    "\t\"\"\"Convert dictionary keys and nested tuples to strings.\"\"\"\n",
    "\tdef convert_value(v):\n",
    "\t\tif isinstance(v, list):\n",
    "\t\t\treturn [convert_value(i) for i in v]\n",
    "\t\telif isinstance(v, tuple):\n",
    "\t\t\treturn str(v)\n",
    "\t\telse:\n",
    "\t\t\treturn v\n",
    "\n",
    "\n",
    "def convert_keys_to_str(d):\n",
    "\t\"\"\"Convert dictionary keys to strings.\"\"\"\n",
    "\treturn {str(k): v for k, v in d.items()}"
   ]
  },
  {
   "cell_type": "code",
   "execution_count": 30,
   "metadata": {},
   "outputs": [
    {
     "name": "stdout",
     "output_type": "stream",
     "text": [
      "{'(1, 2)': [[(1, 2)], [(1, 5), (2, 5)], [(1, 3), (2, 3)]], '(1, 3)': [[(1, 3)], [(1, 2), (2, 3)], [(1, 5), (3, 5)]], '(1, 4)': [[(1, 4)], [(1, 10), (4, 10)], [(1, 9), (4, 9)]], '(1, 5)': [[(1, 5)], [(1, 2), (2, 5)], [(1, 3), (3, 5)]], '(1, 6)': [[(1, 6)], [(1, 7), (6, 7)], [(1, 2), (2, 6)]], '(1, 7)': [[(1, 7)], [(1, 6), (6, 7)], [(1, 2), (2, 7)]], '(1, 8)': [[(1, 8)], [(1, 9), (8, 9)], [(1, 2), (2, 8)]], '(1, 9)': [[(1, 9)], [(1, 2), (2, 9)], [(1, 10), (9, 10)]], '(1, 10)': [[(1, 10)], [(1, 9), (9, 10)], [(1, 4), (4, 10)]], '(2, 1)': [[(1, 2)], [(2, 5), (1, 5)], [(2, 3), (1, 3)]], '(2, 3)': [[(2, 3)], [(2, 5), (3, 5)], [(1, 2), (1, 3)]], '(2, 4)': [[(2, 4)], [(2, 10), (4, 10)], [(1, 2), (1, 4)]], '(2, 5)': [[(2, 5)], [(2, 3), (3, 5)], [(1, 2), (1, 5)]], '(2, 6)': [[(2, 6)], [(1, 2), (1, 6)], [(2, 7), (6, 7)]], '(2, 7)': [[(2, 7)], [(1, 2), (1, 7)], [(2, 6), (6, 7)]], '(2, 8)': [[(2, 8)], [(1, 2), (1, 8)], [(2, 9), (8, 9)]], '(2, 9)': [[(2, 9)], [(1, 2), (1, 9)], [(2, 5), (5, 9)]], '(2, 10)': [[(2, 10)], [(1, 2), (1, 10)], [(2, 9), (9, 10)]], '(3, 1)': [[(1, 3)], [(2, 3), (1, 2)], [(3, 5), (1, 5)]], '(3, 2)': [[(2, 3)], [(3, 5), (2, 5)], [(1, 3), (1, 2)]], '(3, 4)': [[(3, 4)], [(3, 5), (4, 5)], [(3, 10), (4, 10)]], '(3, 5)': [[(3, 5)], [(2, 3), (2, 5)], [(1, 3), (1, 5)]], '(3, 6)': [[(3, 6)], [(3, 5), (5, 6)], [(3, 7), (6, 7)]], '(3, 7)': [[(3, 7)], [(3, 5), (5, 7)], [(3, 6), (6, 7)]], '(3, 8)': [[(3, 8)], [(3, 5), (5, 8)], [(3, 9), (8, 9)]], '(3, 9)': [[(3, 9)], [(3, 5), (5, 9)], [(2, 3), (2, 9)]], '(3, 10)': [[(3, 10)], [(3, 5), (5, 10)], [(3, 4), (4, 10)]], '(4, 1)': [[(1, 4)], [(4, 10), (1, 10)], [(4, 9), (1, 9)]], '(4, 2)': [[(2, 4)], [(4, 10), (2, 10)], [(1, 4), (1, 2)]], '(4, 3)': [[(3, 4)], [(4, 5), (3, 5)], [(4, 10), (3, 10)]], '(4, 5)': [[(4, 5)], [(4, 10), (5, 10)], [(3, 4), (3, 5)]], '(4, 6)': [[(4, 6)], [(4, 7), (6, 7)], [(4, 10), (6, 10)]], '(4, 7)': [[(4, 7)], [(4, 10), (7, 10)], [(4, 6), (6, 7)]], '(4, 8)': [[(4, 8)], [(4, 10), (8, 10)], [(4, 9), (8, 9)]], '(4, 9)': [[(4, 9)], [(4, 10), (9, 10)], [(4, 8), (8, 9)]], '(4, 10)': [[(4, 10)], [(4, 9), (9, 10)], [(4, 8), (8, 10)]], '(5, 1)': [[(1, 5)], [(2, 5), (1, 2)], [(3, 5), (1, 3)]], '(5, 2)': [[(2, 5)], [(3, 5), (2, 3)], [(1, 5), (1, 2)]], '(5, 3)': [[(3, 5)], [(2, 5), (2, 3)], [(1, 5), (1, 3)]], '(5, 4)': [[(4, 5)], [(5, 10), (4, 10)], [(3, 5), (3, 4)]], '(5, 6)': [[(5, 6)], [(5, 7), (6, 7)], [(5, 9), (6, 9)]], '(5, 7)': [[(5, 7)], [(5, 6), (6, 7)], [(5, 9), (7, 9)]], '(5, 8)': [[(5, 8)], [(5, 9), (8, 9)], [(3, 5), (3, 8)]], '(5, 9)': [[(5, 9)], [(3, 5), (3, 9)], [(2, 5), (2, 9)]], '(5, 10)': [[(5, 10)], [(4, 5), (4, 10)], [(3, 5), (3, 10)]], '(6, 1)': [[(1, 6)], [(6, 7), (1, 7)], [(2, 6), (1, 2)]], '(6, 2)': [[(2, 6)], [(1, 6), (1, 2)], [(6, 7), (2, 7)]], '(6, 3)': [[(3, 6)], [(5, 6), (3, 5)], [(6, 7), (3, 7)]], '(6, 4)': [[(4, 6)], [(6, 7), (4, 7)], [(6, 10), (4, 10)]], '(6, 5)': [[(5, 6)], [(6, 7), (5, 7)], [(6, 9), (5, 9)]], '(6, 7)': [[(6, 7)], [(6, 8), (7, 8)], [(6, 9), (7, 9)]], '(6, 8)': [[(6, 8)], [(6, 7), (7, 8)], [(6, 9), (8, 9)]], '(6, 9)': [[(6, 9)], [(6, 7), (7, 9)], [(6, 8), (8, 9)]], '(6, 10)': [[(6, 10)], [(6, 7), (7, 10)], [(6, 9), (9, 10)]], '(7, 1)': [[(1, 7)], [(6, 7), (1, 6)], [(2, 7), (1, 2)]], '(7, 2)': [[(2, 7)], [(1, 7), (1, 2)], [(6, 7), (2, 6)]], '(7, 3)': [[(3, 7)], [(5, 7), (3, 5)], [(6, 7), (3, 6)]], '(7, 4)': [[(4, 7)], [(7, 10), (4, 10)], [(6, 7), (4, 6)]], '(7, 5)': [[(5, 7)], [(6, 7), (5, 6)], [(7, 9), (5, 9)]], '(7, 6)': [[(6, 7)], [(7, 8), (6, 8)], [(7, 9), (6, 9)]], '(7, 8)': [[(7, 8)], [(6, 7), (6, 8)], [(7, 9), (8, 9)]], '(7, 9)': [[(7, 9)], [(6, 7), (6, 9)], [(7, 8), (8, 9)]], '(7, 10)': [[(7, 10)], [(6, 7), (6, 10)], [(7, 9), (9, 10)]], '(8, 1)': [[(1, 8)], [(8, 9), (1, 9)], [(2, 8), (1, 2)]], '(8, 2)': [[(2, 8)], [(1, 8), (1, 2)], [(8, 9), (2, 9)]], '(8, 3)': [[(3, 8)], [(5, 8), (3, 5)], [(8, 9), (3, 9)]], '(8, 4)': [[(4, 8)], [(8, 10), (4, 10)], [(8, 9), (4, 9)]], '(8, 5)': [[(5, 8)], [(8, 9), (5, 9)], [(3, 8), (3, 5)]], '(8, 6)': [[(6, 8)], [(7, 8), (6, 7)], [(8, 9), (6, 9)]], '(8, 7)': [[(7, 8)], [(6, 8), (6, 7)], [(8, 9), (7, 9)]], '(8, 9)': [[(8, 9)], [(8, 10), (9, 10)], [(4, 8), (4, 9)]], '(8, 10)': [[(8, 10)], [(4, 8), (4, 10)], [(8, 9), (9, 10)]], '(9, 1)': [[(1, 9)], [(2, 9), (1, 2)], [(9, 10), (1, 10)]], '(9, 2)': [[(2, 9)], [(1, 9), (1, 2)], [(5, 9), (2, 5)]], '(9, 3)': [[(3, 9)], [(5, 9), (3, 5)], [(2, 9), (2, 3)]], '(9, 4)': [[(4, 9)], [(9, 10), (4, 10)], [(8, 9), (4, 8)]], '(9, 5)': [[(5, 9)], [(3, 9), (3, 5)], [(2, 9), (2, 5)]], '(9, 6)': [[(6, 9)], [(7, 9), (6, 7)], [(8, 9), (6, 8)]], '(9, 7)': [[(7, 9)], [(6, 9), (6, 7)], [(8, 9), (7, 8)]], '(9, 8)': [[(8, 9)], [(9, 10), (8, 10)], [(4, 9), (4, 8)]], '(9, 10)': [[(9, 10)], [(4, 9), (4, 10)], [(8, 9), (8, 10)]], '(10, 1)': [[(1, 10)], [(9, 10), (1, 9)], [(4, 10), (1, 4)]], '(10, 2)': [[(2, 10)], [(1, 10), (1, 2)], [(9, 10), (2, 9)]], '(10, 3)': [[(3, 10)], [(5, 10), (3, 5)], [(4, 10), (3, 4)]], '(10, 4)': [[(4, 10)], [(9, 10), (4, 9)], [(8, 10), (4, 8)]], '(10, 5)': [[(5, 10)], [(4, 10), (4, 5)], [(3, 10), (3, 5)]], '(10, 6)': [[(6, 10)], [(7, 10), (6, 7)], [(9, 10), (6, 9)]], '(10, 7)': [[(7, 10)], [(6, 10), (6, 7)], [(9, 10), (7, 9)]], '(10, 8)': [[(8, 10)], [(4, 10), (4, 8)], [(9, 10), (8, 9)]], '(10, 9)': [[(9, 10)], [(4, 10), (4, 9)], [(8, 10), (8, 9)]]}\n"
     ]
    }
   ],
   "source": [
    "# v = convert_keys_and_values_to_str(rail.R)\n",
    "v = convert_keys_to_str(rail.R)\n",
    "print(v)"
   ]
  },
  {
   "cell_type": "code",
   "execution_count": 31,
   "metadata": {},
   "outputs": [
    {
     "data": {
      "text/plain": [
       "[(-0.5006337407346328, -0.03200129258952137),\n",
       " (-0.5922230762712105, -0.12691836390342748),\n",
       " (-0.6363052844479669, -0.6508892356257174),\n",
       " (0.7691452265241026, -0.40365984455331055),\n",
       " (-0.5605903730624198, -0.6071649332624144),\n",
       " (0.6007704947193712, 0.635955430427195),\n",
       " (0.6236074457915505, 0.6247280123846874),\n",
       " (0.948512062753282, 0.23181386585579022),\n",
       " (0.4081646198892744, -0.051884728548139435),\n",
       " (0.6915920696997848, -0.34628834967885036)]"
      ]
     },
     "execution_count": 31,
     "metadata": {},
     "output_type": "execute_result"
    }
   ],
   "source": [
    "rail.coords"
   ]
  }
 ],
 "metadata": {
  "kernelspec": {
   "display_name": "mathopt",
   "language": "python",
   "name": "python3"
  },
  "language_info": {
   "codemirror_mode": {
    "name": "ipython",
    "version": 3
   },
   "file_extension": ".py",
   "mimetype": "text/x-python",
   "name": "python",
   "nbconvert_exporter": "python",
   "pygments_lexer": "ipython3",
   "version": "3.11.5"
  }
 },
 "nbformat": 4,
 "nbformat_minor": 2
}
