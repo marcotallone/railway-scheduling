{
 "cells": [
  {
   "cell_type": "markdown",
   "metadata": {},
   "source": [
    "# Model 0\n",
    "\n",
    "This notebboks shows a basic usage example of the `Model0` for the railway scheduling problem. This model refers to the ``as-is'' Gurobi implementation of the model presented in the reference paper without the usage of the simulated annealing metaheuristic to improve the initial guess solution, nor the implementation of any valid inequality to reduce the feasible space."
   ]
  },
  {
   "cell_type": "markdown",
   "metadata": {},
   "source": [
    "To initialize the model the following imports are needed."
   ]
  },
  {
   "cell_type": "code",
   "execution_count": 1,
   "metadata": {},
   "outputs": [],
   "source": [
    "import os\n",
    "import sys\n",
    "from railway import *"
   ]
  },
  {
   "cell_type": "markdown",
   "metadata": {},
   "source": [
    "We then change the directory to the root folder of the project in order to correctly load the datasets.\\\n",
    "⚠ **WARNING**: change the path below, which might differ from mine, according to your file system setting in order to correctly load the datasets."
   ]
  },
  {
   "cell_type": "code",
   "execution_count": 2,
   "metadata": {},
   "outputs": [
    {
     "name": "stdout",
     "output_type": "stream",
     "text": [
      "Current working directory: 📂 /home/marco/railway-scheduling\n"
     ]
    }
   ],
   "source": [
    "# Root folder directory\n",
    "ROOT_DIR = \"/home/marco/railway-scheduling\"\n",
    "\n",
    "# Set the current directory to root directory\n",
    "os.chdir(ROOT_DIR)\n",
    "sys.path.append(os.getcwd())\n",
    "print(f\"Current working directory: 📂 {os.getcwd()}\")"
   ]
  },
  {
   "cell_type": "markdown",
   "metadata": {},
   "source": [
    "We can then initialize the railway scheduling problem by loading one of the datasets present in the `datasets/` folder. To do so we need to define the parameters:\n",
    "\n",
    "- `N`: number of nodes (stations), with $N \\in \\{10, 20, 40\\}$\n",
    "- `T`: time horizon, with $T \\in \\{10, 50, 100\\}$\n",
    "- `J`: number of jobs, with $J \\in \\{10, 40, 80\\}$\n",
    "- `P`: total number of passengers per arc, currently only $P = 2000$ is available\n",
    "- `K`: number of alternative routes, currently only $K = 3$ is available\n",
    "\n",
    "And the problem can be instantiated as follows."
   ]
  },
  {
   "cell_type": "code",
   "execution_count": 3,
   "metadata": {},
   "outputs": [
    {
     "name": "stdout",
     "output_type": "stream",
     "text": [
      "Set parameter Username\n",
      "Set parameter LicenseID to value 2585388\n",
      "Academic license - for non-commercial use only - expires 2025-11-15\n",
      "Set parameter TimeLimit to value 60\n",
      "Railway scheduling problem\n",
      "\n",
      "Parameters:\n",
      "N:  10 stations\n",
      "T:  10 periods\n",
      "J:  10 jobs\n",
      "P:  2000 passengers\n",
      "K:  3 alternative routes\n",
      "Aj: 10 jobs with arcs\n",
      "Ja: 9 arcs with jobs\n",
      "C:  0 arcs unavailable simultaneously\n",
      "\n",
      "Optimization model:\n",
      "Variables:   0\n",
      "Constraints: 0\n",
      "Objective:   0.0\n",
      "Status:      LOADED\n",
      "\n"
     ]
    }
   ],
   "source": [
    "# Define problem parameters\n",
    "N = 10\n",
    "T = 10\n",
    "J = 10\n",
    "P = 2000\n",
    "K = 3\n",
    "\n",
    "# Name of the file to load\n",
    "FILENAME = f\"datasets/railway_N{N}_T{T}_J{J}_P{P}_K{K}.json\"\n",
    "\n",
    "# Instantiate the Railway object\n",
    "rail = Railway.load(FILENAME)\n",
    "rail.model.setParam('TimeLimit', 60)\n",
    "\n",
    "# Print the model in summary\n",
    "print(rail)"
   ]
  },
  {
   "cell_type": "markdown",
   "metadata": {},
   "source": [
    "Alternatively the model can be initialized using the default constructor rather than importing it from a dataset file:\n",
    "\n",
    "```python\n",
    "rail = Railway(N, T, J, P, K)\n",
    "```\n",
    "\n",
    "But then the other problem parameters such as stations coordinates or passengers' demands must be randomly generated with the `generate()` method. See the `apps/generate.py` file for an example on how to do that."
   ]
  },
  {
   "cell_type": "markdown",
   "metadata": {},
   "source": [
    "Then, we can set the problem constraints and the objective function to minimize with the dedicated methods."
   ]
  },
  {
   "cell_type": "code",
   "execution_count": 4,
   "metadata": {},
   "outputs": [],
   "source": [
    "# Set constraints\n",
    "rail.set_constraints()\n",
    "\n",
    "# Set objective\n",
    "rail.set_objective()"
   ]
  },
  {
   "cell_type": "markdown",
   "metadata": {},
   "source": [
    "Finally the optimization can be run with the `optimize` method."
   ]
  },
  {
   "cell_type": "code",
   "execution_count": 5,
   "metadata": {},
   "outputs": [
    {
     "name": "stdout",
     "output_type": "stream",
     "text": [
      "Gurobi Optimizer version 12.0.0 build v12.0.0rc1 (linux64 - \"Arch Linux\")\n",
      "\n",
      "CPU model: Intel(R) Core(TM) i7-8565U CPU @ 1.80GHz, instruction set [SSE2|AVX|AVX2]\n",
      "Thread count: 4 physical cores, 8 logical processors, using up to 8 threads\n",
      "\n",
      "Non-default parameters:\n",
      "TimeLimit  60\n",
      "\n",
      "Optimize a model with 8075 rows, 5000 columns and 22305 nonzeros\n",
      "Model fingerprint: 0xee19e457\n",
      "Variable types: 1450 continuous, 3550 integer (3550 binary)\n",
      "Coefficient statistics:\n",
      "  Matrix range     [4e-02, 1e+06]\n",
      "  Objective range  [1e+03, 2e+03]\n",
      "  Bounds range     [1e+00, 1e+00]\n",
      "  RHS range        [1e-01, 1e+06]\n",
      "Presolve removed 8037 rows and 4964 columns\n",
      "Presolve time: 0.04s\n",
      "Presolved: 38 rows, 36 columns, 108 nonzeros\n",
      "Variable types: 18 continuous, 18 integer (18 binary)\n",
      "Found heuristic solution: objective 2282.9119118\n",
      "Found heuristic solution: objective 2173.5684880\n",
      "Found heuristic solution: objective 2001.2184410\n",
      "\n",
      "Root relaxation: objective 1.886618e+03, 21 iterations, 0.00 seconds (0.00 work units)\n",
      "\n",
      "    Nodes    |    Current Node    |     Objective Bounds      |     Work\n",
      " Expl Unexpl |  Obj  Depth IntInf | Incumbent    BestBd   Gap | It/Node Time\n",
      "\n",
      "*    0     0               0    1886.6182885 1886.61829  0.00%     -    0s\n",
      "\n",
      "Explored 1 nodes (21 simplex iterations) in 0.06 seconds (0.02 work units)\n",
      "Thread count was 8 (of 8 available processors)\n",
      "\n",
      "Solution count 4: 1886.62 2001.22 2173.57 2282.91 \n",
      "No other solutions better than 1886.62\n",
      "\n",
      "Optimal solution found (tolerance 1.00e-04)\n",
      "Best objective 1.886618283088e+03, best bound 1.886618283088e+03, gap 0.0000%\n"
     ]
    }
   ],
   "source": [
    "# Solve the scheduling problem\n",
    "rail.optimize()"
   ]
  },
  {
   "cell_type": "markdown",
   "metadata": {},
   "source": [
    "Any of the decision variables at the end of the optimization process can be obtained with the dedicated getter methods. For instance, the binary variable $y_{j,t}$ modelling the beginning of the $j^{th}$ job at time $t$ can be obtained as the following dictionary, where keys are tuples $(j, t)$ and values are the binary values of the decision variables."
   ]
  },
  {
   "cell_type": "code",
   "execution_count": 6,
   "metadata": {},
   "outputs": [
    {
     "name": "stdout",
     "output_type": "stream",
     "text": [
      "{(1, 1): 0, (1, 2): 0, (1, 3): 1, (1, 4): 0, (1, 5): 0, (1, 6): 0, (1, 7): 0, (1, 8): 0, (1, 9): 0, (1, 10): 0, (2, 1): 0, (2, 2): 0, (2, 3): 0, (2, 4): 1, (2, 5): 0, (2, 6): 0, (2, 7): 0, (2, 8): 0, (2, 9): 0, (2, 10): 0, (3, 1): 1, (3, 2): 0, (3, 3): 0, (3, 4): 0, (3, 5): 0, (3, 6): 0, (3, 7): 0, (3, 8): 0, (3, 9): 0, (3, 10): 0, (4, 1): 1, (4, 2): 0, (4, 3): 0, (4, 4): 0, (4, 5): 0, (4, 6): 0, (4, 7): 0, (4, 8): 0, (4, 9): 0, (4, 10): 0, (5, 1): 0, (5, 2): 0, (5, 3): 0, (5, 4): 0, (5, 5): 0, (5, 6): 0, (5, 7): 1, (5, 8): 0, (5, 9): 0, (5, 10): 0, (6, 1): 0, (6, 2): 0, (6, 3): 0, (6, 4): 0, (6, 5): 0, (6, 6): 0, (6, 7): 0, (6, 8): 0, (6, 9): 1, (6, 10): 0, (7, 1): 0, (7, 2): 0, (7, 3): 0, (7, 4): 0, (7, 5): 1, (7, 6): 0, (7, 7): 0, (7, 8): 0, (7, 9): 0, (7, 10): 0, (8, 1): 0, (8, 2): 0, (8, 3): 0, (8, 4): 0, (8, 5): 0, (8, 6): 0, (8, 7): 0, (8, 8): 0, (8, 9): 1, (8, 10): 0, (9, 1): 1, (9, 2): 0, (9, 3): 0, (9, 4): 0, (9, 5): 0, (9, 6): 0, (9, 7): 0, (9, 8): 0, (9, 9): 0, (9, 10): 0, (10, 1): 1, (10, 2): 0, (10, 3): 0, (10, 4): 0, (10, 5): 0, (10, 6): 0, (10, 7): 0, (10, 8): 0, (10, 9): 0, (10, 10): 0}\n"
     ]
    }
   ],
   "source": [
    "# Get the y variable\n",
    "y = rail.get_y()\n",
    "print(y)"
   ]
  },
  {
   "cell_type": "markdown",
   "metadata": {},
   "source": [
    "For instance let's check if job $j=7$ starts at time $t=5$."
   ]
  },
  {
   "cell_type": "code",
   "execution_count": null,
   "metadata": {},
   "outputs": [
    {
     "name": "stdout",
     "output_type": "stream",
     "text": [
      "1\n"
     ]
    }
   ],
   "source": [
    "print(y[7, 5])"
   ]
  },
  {
   "cell_type": "markdown",
   "metadata": {},
   "source": [
    "Finally, we can also print the starting times for each job looking at the `S` dictionary variable where the key is the desired job and the associated value its starting time."
   ]
  },
  {
   "cell_type": "code",
   "execution_count": 8,
   "metadata": {},
   "outputs": [
    {
     "name": "stdout",
     "output_type": "stream",
     "text": [
      "{1: 3, 2: 4, 3: 1, 4: 1, 5: 7, 6: 9, 7: 5, 8: 9, 9: 1, 10: 1}\n"
     ]
    }
   ],
   "source": [
    "print(rail.S)"
   ]
  },
  {
   "cell_type": "markdown",
   "metadata": {},
   "source": [
    "Let's check if job $j=7$ starts at time $t=5$ also according to this."
   ]
  },
  {
   "cell_type": "code",
   "execution_count": 11,
   "metadata": {},
   "outputs": [
    {
     "name": "stdout",
     "output_type": "stream",
     "text": [
      "t = 5\n"
     ]
    }
   ],
   "source": [
    "print(f\"t = {rail.S[7]}\")"
   ]
  }
 ],
 "metadata": {
  "kernelspec": {
   "display_name": "mathopt",
   "language": "python",
   "name": "python3"
  },
  "language_info": {
   "codemirror_mode": {
    "name": "ipython",
    "version": 3
   },
   "file_extension": ".py",
   "mimetype": "text/x-python",
   "name": "python",
   "nbconvert_exporter": "python",
   "pygments_lexer": "ipython3",
   "version": "3.11.5"
  }
 },
 "nbformat": 4,
 "nbformat_minor": 2
}
