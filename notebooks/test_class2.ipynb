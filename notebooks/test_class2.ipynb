{
 "cells": [
  {
   "cell_type": "markdown",
   "metadata": {},
   "source": [
    "### Test Model2: with valied inequalities"
   ]
  },
  {
   "cell_type": "code",
   "execution_count": 1,
   "metadata": {},
   "outputs": [
    {
     "name": "stdout",
     "output_type": "stream",
     "text": [
      "Current working directory: 📂 /home/marco/railway-scheduling\n"
     ]
    }
   ],
   "source": [
    "import os\n",
    "import sys\n",
    "from railway import *\n",
    "from gurobipy import GRB\n",
    "import numpy as np\n",
    "\n",
    "import matplotlib.pyplot as plt\n",
    "import seaborn as sns\n",
    "sns.set_theme(\n",
    "\tstyle=\"whitegrid\",\n",
    "\tpalette=\"tab10\",\n",
    "\trc={\n",
    "\t\t\"grid.linestyle\": \"--\",\n",
    "\t\t\"grid.color\": \"gray\",\n",
    "\t\t\"grid.alpha\": 0.3,\n",
    "\t\t\"grid.linewidth\": 0.5,\n",
    "\t},\n",
    ")\n",
    "\n",
    "# Set the current directory to root directory\n",
    "os.chdir(\"/home/marco/railway-scheduling\")\n",
    "sys.path.append(os.getcwd())\n",
    "print(f\"Current working directory: 📂 {os.getcwd()}\")"
   ]
  },
  {
   "cell_type": "code",
   "execution_count": 2,
   "metadata": {},
   "outputs": [
    {
     "name": "stdout",
     "output_type": "stream",
     "text": [
      "Set parameter Username\n",
      "Set parameter LicenseID to value 2585388\n",
      "Academic license - for non-commercial use only - expires 2025-11-15\n",
      "Set parameter TimeLimit to value 60\n",
      "Railway scheduling problem\n",
      "\n",
      "Parameters:\n",
      "N:  10 stations\n",
      "T:  10 periods\n",
      "J:  80 jobs\n",
      "P:  2000 passengers\n",
      "K:  3 alternative routes\n",
      "Aj: 80 jobs with arcs\n",
      "Ja: 37 arcs with jobs\n",
      "C:  0 arcs unavailable simultaneously\n",
      "\n",
      "Optimization model:\n",
      "Variables:   0\n",
      "Constraints: 0\n",
      "Objective:   0.0\n",
      "Status:      LOADED\n",
      "\n"
     ]
    }
   ],
   "source": [
    "# Import model from dataset\n",
    "N = 10\n",
    "T = 10\n",
    "J = 80\n",
    "P = 2000\n",
    "K = 3\n",
    "FILENAME = f\"datasets/railway_N{N}_T{T}_J{J}_P{P}_K{K}.json\"\n",
    "rail = Railway.load(FILENAME)\n",
    "rail.model.setParam('TimeLimit', 60)\n",
    "rail.set_constraints()\n",
    "rail.set_objective()\n",
    "\n",
    "print(rail)"
   ]
  },
  {
   "cell_type": "code",
   "execution_count": 3,
   "metadata": {},
   "outputs": [
    {
     "name": "stdout",
     "output_type": "stream",
     "text": [
      "Gurobi Optimizer version 12.0.0 build v12.0.0rc1 (linux64 - \"Arch Linux\")\n",
      "\n",
      "CPU model: Intel(R) Core(TM) i7-8565U CPU @ 1.80GHz, instruction set [SSE2|AVX|AVX2]\n",
      "Thread count: 4 physical cores, 8 logical processors, using up to 8 threads\n",
      "\n",
      "Non-default parameters:\n",
      "TimeLimit  60\n",
      "\n",
      "Optimize a model with 19950 rows, 5700 columns and 55414 nonzeros\n",
      "Model fingerprint: 0xcb6b4315\n",
      "Variable types: 1450 continuous, 4250 integer (4250 binary)\n",
      "Coefficient statistics:\n",
      "  Matrix range     [3e-02, 1e+06]\n",
      "  Objective range  [1e+03, 2e+03]\n",
      "  Bounds range     [1e+00, 1e+00]\n",
      "  RHS range        [9e-02, 1e+06]\n",
      "Presolve removed 17471 rows and 3956 columns\n",
      "Presolve time: 0.27s\n",
      "Presolved: 2479 rows, 1744 columns, 9513 nonzeros\n",
      "Variable types: 380 continuous, 1364 integer (1364 binary)\n",
      "Found heuristic solution: objective 24605.834389\n",
      "\n",
      "Root relaxation: objective 1.242733e+04, 1335 iterations, 0.02 seconds (0.01 work units)\n",
      "\n",
      "    Nodes    |    Current Node    |     Objective Bounds      |     Work\n",
      " Expl Unexpl |  Obj  Depth IntInf | Incumbent    BestBd   Gap | It/Node Time\n",
      "\n",
      "     0     0 12427.3267    0  258 24605.8344 12427.3267  49.5%     -    0s\n",
      "H    0     0                    17028.803707 12427.3267  27.0%     -    0s\n",
      "H    0     0                    16690.538209 12427.3267  25.5%     -    0s\n",
      "H    0     0                    16520.194022 12427.3267  24.8%     -    0s\n",
      "H    0     0                    16267.026544 12427.3267  23.6%     -    0s\n",
      "H    0     0                    15469.099829 12427.3267  19.7%     -    0s\n",
      "H    0     0                    15255.796098 12586.9940  17.5%     -    0s\n",
      "     0     0 13767.5359    0  196 15255.7961 13767.5359  9.76%     -    0s\n",
      "H    0     0                    14885.580066 13780.0691  7.43%     -    0s\n",
      "H    0     0                    14853.186730 13780.0691  7.22%     -    0s\n",
      "H    0     0                    14853.186728 13780.0691  7.22%     -    0s\n",
      "H    0     0                    14739.239316 13780.0691  6.51%     -    0s\n",
      "     0     0 14135.7527    0  163 14739.2393 14135.7527  4.09%     -    0s\n",
      "     0     0 14312.7289    0  116 14739.2393 14312.7289  2.89%     -    0s\n",
      "     0     0 14492.5372    0   80 14739.2393 14492.5372  1.67%     -    0s\n",
      "     0     0 14501.8143    0   71 14739.2393 14501.8143  1.61%     -    0s\n",
      "     0     0 14501.9930    0   71 14739.2393 14501.9930  1.61%     -    0s\n",
      "     0     0 14522.6509    0   21 14739.2393 14522.6509  1.47%     -    0s\n",
      "H    0     0                    14590.846066 14522.6509  0.47%     -    0s\n",
      "H    0     0                    14590.799609 14522.6509  0.47%     -    0s\n",
      "     0     0 14522.6509    0   21 14590.7996 14522.6509  0.47%     -    0s\n",
      "     0     0 14589.1266    0   10 14590.7996 14589.1266  0.01%     -    0s\n",
      "\n",
      "Explored 1 nodes (3156 simplex iterations) in 0.72 seconds (0.27 work units)\n",
      "Thread count was 8 (of 8 available processors)\n",
      "\n",
      "Solution count 10: 14590.8 14590.8 14590.8 ... 16267\n",
      "No other solutions better than 14590.8\n",
      "\n",
      "Optimal solution found (tolerance 1.00e-04)\n",
      "Best objective 1.459079957429e+04, best bound 1.459079957429e+04, gap 0.0000%\n"
     ]
    }
   ],
   "source": [
    "rail.set_constraints()\n",
    "rail.set_objective()\n",
    "\n",
    "rail.set_valid_inequalities()\n",
    "\n",
    "rail.optimize()"
   ]
  },
  {
   "cell_type": "code",
   "execution_count": null,
   "metadata": {},
   "outputs": [],
   "source": []
  },
  {
   "cell_type": "code",
   "execution_count": 4,
   "metadata": {},
   "outputs": [
    {
     "name": "stdout",
     "output_type": "stream",
     "text": [
      "2\n"
     ]
    }
   ],
   "source": [
    "l = range(2,3)\n",
    "for li in l:\n",
    "    print(li)"
   ]
  },
  {
   "cell_type": "code",
   "execution_count": 5,
   "metadata": {},
   "outputs": [
    {
     "name": "stdout",
     "output_type": "stream",
     "text": [
      "[10]\n"
     ]
    }
   ],
   "source": [
    "l1 = []\n",
    "l2 = [34,56, 43, 23]\n",
    "\n",
    "max1 = max(10, *l1) if l1 else 10\n",
    "max2 = max(10, *l2)\n",
    "\n",
    "l = range(10,max1 + 1)\n",
    "print(list(l)) "
   ]
  },
  {
   "cell_type": "code",
   "execution_count": 6,
   "metadata": {},
   "outputs": [
    {
     "data": {
      "text/plain": [
       "4"
      ]
     },
     "execution_count": 6,
     "metadata": {},
     "output_type": "execute_result"
    }
   ],
   "source": [
    "max(2,\n",
    "      4\n",
    "    )"
   ]
  }
 ],
 "metadata": {
  "kernelspec": {
   "display_name": "mathopt",
   "language": "python",
   "name": "python3"
  },
  "language_info": {
   "codemirror_mode": {
    "name": "ipython",
    "version": 3
   },
   "file_extension": ".py",
   "mimetype": "text/x-python",
   "name": "python",
   "nbconvert_exporter": "python",
   "pygments_lexer": "ipython3",
   "version": "3.11.5"
  }
 },
 "nbformat": 4,
 "nbformat_minor": 2
}
